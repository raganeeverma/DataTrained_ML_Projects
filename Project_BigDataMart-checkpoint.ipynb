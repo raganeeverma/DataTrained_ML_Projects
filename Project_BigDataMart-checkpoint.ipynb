{
 "cells": [
  {
   "cell_type": "markdown",
   "id": "840f487a",
   "metadata": {},
   "source": [
    "# Problem statement\n",
    "The data scientists at BigMart have collected sales data for 1559 products across 10 stores in different cities for the year 2013. Now each product has certain attributes that sets it apart from other products."
   ]
  },
  {
   "cell_type": "markdown",
   "id": "55985f02",
   "metadata": {},
   "source": [
    "# The dataset includes \n",
    "The data scientists at BigMart have collected 2013 sales data for 1559 products across 10 stores in different cities. Also, certain attributes of each product and store have been defined. \n",
    "\n",
    "Item_Identifier               \n",
    "Item_Weight                   \n",
    "Item_Fat_Content               \n",
    "Item_Visibility                \n",
    "Item_Type                       \n",
    "Item_MRP                        \n",
    "Outlet_Identifier               \n",
    "Outlet_Establishment_Year       \n",
    "Outlet_Size                  \n",
    "Outlet_Location_Type            \n",
    "Outlet_Type                     \n"
   ]
  },
  {
   "cell_type": "markdown",
   "id": "ea5492a4",
   "metadata": {},
   "source": [
    "# Goal\n",
    "\n",
    "The objective is to create a model that can predict the sales per product for each store.That means our Target variable is sale that is continues variable so in this project we can use The Ragression Algorithm to predict a model. Using this model, BigMart will try to understand the properties of products and stores which play a key role in increasing sales.\n",
    "\n"
   ]
  },
  {
   "cell_type": "code",
   "execution_count": 1,
   "id": "5f02bde1",
   "metadata": {},
   "outputs": [],
   "source": [
    "# importing required libraries.\n",
    "import pandas as pd\n",
    "import numpy as np\n",
    "import matplotlib.pyplot as plt\n",
    "import seaborn as sns\n",
    "%matplotlib inline\n",
    "import warnings # Ignores any warning\n",
    "warnings.filterwarnings(\"ignore\")\n"
   ]
  },
  {
   "cell_type": "code",
   "execution_count": 2,
   "id": "89dceb7c",
   "metadata": {},
   "outputs": [],
   "source": [
    "# reading train and test data\n",
    "\n",
    "train_data = pd.read_csv('bigdata_mart_train.csv')\n",
    "test_data = pd.read_csv('bigdata_mart_test.csv')"
   ]
  },
  {
   "cell_type": "code",
   "execution_count": 3,
   "id": "1f222865",
   "metadata": {},
   "outputs": [
    {
     "name": "stdout",
     "output_type": "stream",
     "text": [
      "(8523, 12)\n",
      "(5681, 11)\n"
     ]
    }
   ],
   "source": [
    "# find out shape of each train and test data\n",
    "print(train_data.shape)\n",
    "print(test_data.shape)"
   ]
  },
  {
   "cell_type": "code",
   "execution_count": 4,
   "id": "7e5449b3",
   "metadata": {},
   "outputs": [
    {
     "data": {
      "text/html": [
       "<div>\n",
       "<style scoped>\n",
       "    .dataframe tbody tr th:only-of-type {\n",
       "        vertical-align: middle;\n",
       "    }\n",
       "\n",
       "    .dataframe tbody tr th {\n",
       "        vertical-align: top;\n",
       "    }\n",
       "\n",
       "    .dataframe thead th {\n",
       "        text-align: right;\n",
       "    }\n",
       "</style>\n",
       "<table border=\"1\" class=\"dataframe\">\n",
       "  <thead>\n",
       "    <tr style=\"text-align: right;\">\n",
       "      <th></th>\n",
       "      <th>Item_Identifier</th>\n",
       "      <th>Item_Weight</th>\n",
       "      <th>Item_Fat_Content</th>\n",
       "      <th>Item_Visibility</th>\n",
       "      <th>Item_Type</th>\n",
       "      <th>Item_MRP</th>\n",
       "      <th>Outlet_Identifier</th>\n",
       "      <th>Outlet_Establishment_Year</th>\n",
       "      <th>Outlet_Size</th>\n",
       "      <th>Outlet_Location_Type</th>\n",
       "      <th>Outlet_Type</th>\n",
       "      <th>Item_Outlet_Sales</th>\n",
       "    </tr>\n",
       "  </thead>\n",
       "  <tbody>\n",
       "    <tr>\n",
       "      <th>0</th>\n",
       "      <td>FDA15</td>\n",
       "      <td>9.30</td>\n",
       "      <td>Low Fat</td>\n",
       "      <td>0.016047</td>\n",
       "      <td>Dairy</td>\n",
       "      <td>249.8092</td>\n",
       "      <td>OUT049</td>\n",
       "      <td>1999</td>\n",
       "      <td>Medium</td>\n",
       "      <td>Tier 1</td>\n",
       "      <td>Supermarket Type1</td>\n",
       "      <td>3735.1380</td>\n",
       "    </tr>\n",
       "    <tr>\n",
       "      <th>1</th>\n",
       "      <td>DRC01</td>\n",
       "      <td>5.92</td>\n",
       "      <td>Regular</td>\n",
       "      <td>0.019278</td>\n",
       "      <td>Soft Drinks</td>\n",
       "      <td>48.2692</td>\n",
       "      <td>OUT018</td>\n",
       "      <td>2009</td>\n",
       "      <td>Medium</td>\n",
       "      <td>Tier 3</td>\n",
       "      <td>Supermarket Type2</td>\n",
       "      <td>443.4228</td>\n",
       "    </tr>\n",
       "    <tr>\n",
       "      <th>2</th>\n",
       "      <td>FDN15</td>\n",
       "      <td>17.50</td>\n",
       "      <td>Low Fat</td>\n",
       "      <td>0.016760</td>\n",
       "      <td>Meat</td>\n",
       "      <td>141.6180</td>\n",
       "      <td>OUT049</td>\n",
       "      <td>1999</td>\n",
       "      <td>Medium</td>\n",
       "      <td>Tier 1</td>\n",
       "      <td>Supermarket Type1</td>\n",
       "      <td>2097.2700</td>\n",
       "    </tr>\n",
       "    <tr>\n",
       "      <th>3</th>\n",
       "      <td>FDX07</td>\n",
       "      <td>19.20</td>\n",
       "      <td>Regular</td>\n",
       "      <td>0.000000</td>\n",
       "      <td>Fruits and Vegetables</td>\n",
       "      <td>182.0950</td>\n",
       "      <td>OUT010</td>\n",
       "      <td>1998</td>\n",
       "      <td>NaN</td>\n",
       "      <td>Tier 3</td>\n",
       "      <td>Grocery Store</td>\n",
       "      <td>732.3800</td>\n",
       "    </tr>\n",
       "    <tr>\n",
       "      <th>4</th>\n",
       "      <td>NCD19</td>\n",
       "      <td>8.93</td>\n",
       "      <td>Low Fat</td>\n",
       "      <td>0.000000</td>\n",
       "      <td>Household</td>\n",
       "      <td>53.8614</td>\n",
       "      <td>OUT013</td>\n",
       "      <td>1987</td>\n",
       "      <td>High</td>\n",
       "      <td>Tier 3</td>\n",
       "      <td>Supermarket Type1</td>\n",
       "      <td>994.7052</td>\n",
       "    </tr>\n",
       "  </tbody>\n",
       "</table>\n",
       "</div>"
      ],
      "text/plain": [
       "  Item_Identifier  Item_Weight Item_Fat_Content  Item_Visibility  \\\n",
       "0           FDA15         9.30          Low Fat         0.016047   \n",
       "1           DRC01         5.92          Regular         0.019278   \n",
       "2           FDN15        17.50          Low Fat         0.016760   \n",
       "3           FDX07        19.20          Regular         0.000000   \n",
       "4           NCD19         8.93          Low Fat         0.000000   \n",
       "\n",
       "               Item_Type  Item_MRP Outlet_Identifier  \\\n",
       "0                  Dairy  249.8092            OUT049   \n",
       "1            Soft Drinks   48.2692            OUT018   \n",
       "2                   Meat  141.6180            OUT049   \n",
       "3  Fruits and Vegetables  182.0950            OUT010   \n",
       "4              Household   53.8614            OUT013   \n",
       "\n",
       "   Outlet_Establishment_Year Outlet_Size Outlet_Location_Type  \\\n",
       "0                       1999      Medium               Tier 1   \n",
       "1                       2009      Medium               Tier 3   \n",
       "2                       1999      Medium               Tier 1   \n",
       "3                       1998         NaN               Tier 3   \n",
       "4                       1987        High               Tier 3   \n",
       "\n",
       "         Outlet_Type  Item_Outlet_Sales  \n",
       "0  Supermarket Type1          3735.1380  \n",
       "1  Supermarket Type2           443.4228  \n",
       "2  Supermarket Type1          2097.2700  \n",
       "3      Grocery Store           732.3800  \n",
       "4  Supermarket Type1           994.7052  "
      ]
     },
     "execution_count": 4,
     "metadata": {},
     "output_type": "execute_result"
    }
   ],
   "source": [
    "#details of train data\n",
    "train_data.head()"
   ]
  },
  {
   "cell_type": "code",
   "execution_count": 5,
   "id": "b9d9c074",
   "metadata": {},
   "outputs": [
    {
     "data": {
      "text/html": [
       "<div>\n",
       "<style scoped>\n",
       "    .dataframe tbody tr th:only-of-type {\n",
       "        vertical-align: middle;\n",
       "    }\n",
       "\n",
       "    .dataframe tbody tr th {\n",
       "        vertical-align: top;\n",
       "    }\n",
       "\n",
       "    .dataframe thead th {\n",
       "        text-align: right;\n",
       "    }\n",
       "</style>\n",
       "<table border=\"1\" class=\"dataframe\">\n",
       "  <thead>\n",
       "    <tr style=\"text-align: right;\">\n",
       "      <th></th>\n",
       "      <th>Item_Identifier</th>\n",
       "      <th>Item_Weight</th>\n",
       "      <th>Item_Fat_Content</th>\n",
       "      <th>Item_Visibility</th>\n",
       "      <th>Item_Type</th>\n",
       "      <th>Item_MRP</th>\n",
       "      <th>Outlet_Identifier</th>\n",
       "      <th>Outlet_Establishment_Year</th>\n",
       "      <th>Outlet_Size</th>\n",
       "      <th>Outlet_Location_Type</th>\n",
       "      <th>Outlet_Type</th>\n",
       "    </tr>\n",
       "  </thead>\n",
       "  <tbody>\n",
       "    <tr>\n",
       "      <th>0</th>\n",
       "      <td>FDW58</td>\n",
       "      <td>20.750</td>\n",
       "      <td>Low Fat</td>\n",
       "      <td>0.007565</td>\n",
       "      <td>Snack Foods</td>\n",
       "      <td>107.8622</td>\n",
       "      <td>OUT049</td>\n",
       "      <td>1999</td>\n",
       "      <td>Medium</td>\n",
       "      <td>Tier 1</td>\n",
       "      <td>Supermarket Type1</td>\n",
       "    </tr>\n",
       "    <tr>\n",
       "      <th>1</th>\n",
       "      <td>FDW14</td>\n",
       "      <td>8.300</td>\n",
       "      <td>reg</td>\n",
       "      <td>0.038428</td>\n",
       "      <td>Dairy</td>\n",
       "      <td>87.3198</td>\n",
       "      <td>OUT017</td>\n",
       "      <td>2007</td>\n",
       "      <td>NaN</td>\n",
       "      <td>Tier 2</td>\n",
       "      <td>Supermarket Type1</td>\n",
       "    </tr>\n",
       "    <tr>\n",
       "      <th>2</th>\n",
       "      <td>NCN55</td>\n",
       "      <td>14.600</td>\n",
       "      <td>Low Fat</td>\n",
       "      <td>0.099575</td>\n",
       "      <td>Others</td>\n",
       "      <td>241.7538</td>\n",
       "      <td>OUT010</td>\n",
       "      <td>1998</td>\n",
       "      <td>NaN</td>\n",
       "      <td>Tier 3</td>\n",
       "      <td>Grocery Store</td>\n",
       "    </tr>\n",
       "    <tr>\n",
       "      <th>3</th>\n",
       "      <td>FDQ58</td>\n",
       "      <td>7.315</td>\n",
       "      <td>Low Fat</td>\n",
       "      <td>0.015388</td>\n",
       "      <td>Snack Foods</td>\n",
       "      <td>155.0340</td>\n",
       "      <td>OUT017</td>\n",
       "      <td>2007</td>\n",
       "      <td>NaN</td>\n",
       "      <td>Tier 2</td>\n",
       "      <td>Supermarket Type1</td>\n",
       "    </tr>\n",
       "    <tr>\n",
       "      <th>4</th>\n",
       "      <td>FDY38</td>\n",
       "      <td>NaN</td>\n",
       "      <td>Regular</td>\n",
       "      <td>0.118599</td>\n",
       "      <td>Dairy</td>\n",
       "      <td>234.2300</td>\n",
       "      <td>OUT027</td>\n",
       "      <td>1985</td>\n",
       "      <td>Medium</td>\n",
       "      <td>Tier 3</td>\n",
       "      <td>Supermarket Type3</td>\n",
       "    </tr>\n",
       "  </tbody>\n",
       "</table>\n",
       "</div>"
      ],
      "text/plain": [
       "  Item_Identifier  Item_Weight Item_Fat_Content  Item_Visibility    Item_Type  \\\n",
       "0           FDW58       20.750          Low Fat         0.007565  Snack Foods   \n",
       "1           FDW14        8.300              reg         0.038428        Dairy   \n",
       "2           NCN55       14.600          Low Fat         0.099575       Others   \n",
       "3           FDQ58        7.315          Low Fat         0.015388  Snack Foods   \n",
       "4           FDY38          NaN          Regular         0.118599        Dairy   \n",
       "\n",
       "   Item_MRP Outlet_Identifier  Outlet_Establishment_Year Outlet_Size  \\\n",
       "0  107.8622            OUT049                       1999      Medium   \n",
       "1   87.3198            OUT017                       2007         NaN   \n",
       "2  241.7538            OUT010                       1998         NaN   \n",
       "3  155.0340            OUT017                       2007         NaN   \n",
       "4  234.2300            OUT027                       1985      Medium   \n",
       "\n",
       "  Outlet_Location_Type        Outlet_Type  \n",
       "0               Tier 1  Supermarket Type1  \n",
       "1               Tier 2  Supermarket Type1  \n",
       "2               Tier 3      Grocery Store  \n",
       "3               Tier 2  Supermarket Type1  \n",
       "4               Tier 3  Supermarket Type3  "
      ]
     },
     "execution_count": 5,
     "metadata": {},
     "output_type": "execute_result"
    }
   ],
   "source": [
    "#details of test data\n",
    "test_data.head()"
   ]
  },
  {
   "cell_type": "code",
   "execution_count": 6,
   "id": "0a67ed33",
   "metadata": {},
   "outputs": [
    {
     "data": {
      "text/html": [
       "<div>\n",
       "<style scoped>\n",
       "    .dataframe tbody tr th:only-of-type {\n",
       "        vertical-align: middle;\n",
       "    }\n",
       "\n",
       "    .dataframe tbody tr th {\n",
       "        vertical-align: top;\n",
       "    }\n",
       "\n",
       "    .dataframe thead th {\n",
       "        text-align: right;\n",
       "    }\n",
       "</style>\n",
       "<table border=\"1\" class=\"dataframe\">\n",
       "  <thead>\n",
       "    <tr style=\"text-align: right;\">\n",
       "      <th></th>\n",
       "      <th>count</th>\n",
       "      <th>mean</th>\n",
       "      <th>std</th>\n",
       "      <th>min</th>\n",
       "      <th>25%</th>\n",
       "      <th>50%</th>\n",
       "      <th>75%</th>\n",
       "      <th>max</th>\n",
       "    </tr>\n",
       "  </thead>\n",
       "  <tbody>\n",
       "    <tr>\n",
       "      <th>Item_Weight</th>\n",
       "      <td>7060.0</td>\n",
       "      <td>12.857645</td>\n",
       "      <td>4.643456</td>\n",
       "      <td>4.555</td>\n",
       "      <td>8.773750</td>\n",
       "      <td>12.600000</td>\n",
       "      <td>16.850000</td>\n",
       "      <td>21.350000</td>\n",
       "    </tr>\n",
       "    <tr>\n",
       "      <th>Item_Visibility</th>\n",
       "      <td>8523.0</td>\n",
       "      <td>0.066132</td>\n",
       "      <td>0.051598</td>\n",
       "      <td>0.000</td>\n",
       "      <td>0.026989</td>\n",
       "      <td>0.053931</td>\n",
       "      <td>0.094585</td>\n",
       "      <td>0.328391</td>\n",
       "    </tr>\n",
       "    <tr>\n",
       "      <th>Item_MRP</th>\n",
       "      <td>8523.0</td>\n",
       "      <td>140.992782</td>\n",
       "      <td>62.275067</td>\n",
       "      <td>31.290</td>\n",
       "      <td>93.826500</td>\n",
       "      <td>143.012800</td>\n",
       "      <td>185.643700</td>\n",
       "      <td>266.888400</td>\n",
       "    </tr>\n",
       "    <tr>\n",
       "      <th>Outlet_Establishment_Year</th>\n",
       "      <td>8523.0</td>\n",
       "      <td>1997.831867</td>\n",
       "      <td>8.371760</td>\n",
       "      <td>1985.000</td>\n",
       "      <td>1987.000000</td>\n",
       "      <td>1999.000000</td>\n",
       "      <td>2004.000000</td>\n",
       "      <td>2009.000000</td>\n",
       "    </tr>\n",
       "    <tr>\n",
       "      <th>Item_Outlet_Sales</th>\n",
       "      <td>8523.0</td>\n",
       "      <td>2181.288914</td>\n",
       "      <td>1706.499616</td>\n",
       "      <td>33.290</td>\n",
       "      <td>834.247400</td>\n",
       "      <td>1794.331000</td>\n",
       "      <td>3101.296400</td>\n",
       "      <td>13086.964800</td>\n",
       "    </tr>\n",
       "  </tbody>\n",
       "</table>\n",
       "</div>"
      ],
      "text/plain": [
       "                            count         mean          std       min  \\\n",
       "Item_Weight                7060.0    12.857645     4.643456     4.555   \n",
       "Item_Visibility            8523.0     0.066132     0.051598     0.000   \n",
       "Item_MRP                   8523.0   140.992782    62.275067    31.290   \n",
       "Outlet_Establishment_Year  8523.0  1997.831867     8.371760  1985.000   \n",
       "Item_Outlet_Sales          8523.0  2181.288914  1706.499616    33.290   \n",
       "\n",
       "                                   25%          50%          75%           max  \n",
       "Item_Weight                   8.773750    12.600000    16.850000     21.350000  \n",
       "Item_Visibility               0.026989     0.053931     0.094585      0.328391  \n",
       "Item_MRP                     93.826500   143.012800   185.643700    266.888400  \n",
       "Outlet_Establishment_Year  1987.000000  1999.000000  2004.000000   2009.000000  \n",
       "Item_Outlet_Sales           834.247400  1794.331000  3101.296400  13086.964800  "
      ]
     },
     "execution_count": 6,
     "metadata": {},
     "output_type": "execute_result"
    }
   ],
   "source": [
    "# only for continuos variable\n",
    "\n",
    "train_data.describe().T"
   ]
  },
  {
   "cell_type": "markdown",
   "id": "48acfc8a",
   "metadata": {},
   "source": [
    "observation:\n",
    "    \n",
    "count of Item-weight is less than as compaire to another column means missing value are present\n",
    "\n",
    "very much difference between min value  and max value of item_outlet_sales means data is more spred \n",
    "\n",
    "minimum value of item visibility is 0 means some item is not present in outlets\n"
   ]
  },
  {
   "cell_type": "markdown",
   "id": "170b24d3",
   "metadata": {},
   "source": [
    "# check for null value"
   ]
  },
  {
   "cell_type": "code",
   "execution_count": 7,
   "id": "2d6c0d23",
   "metadata": {},
   "outputs": [
    {
     "data": {
      "text/plain": [
       "Item_Identifier                 0\n",
       "Item_Weight                  1463\n",
       "Item_Fat_Content                0\n",
       "Item_Visibility                 0\n",
       "Item_Type                       0\n",
       "Item_MRP                        0\n",
       "Outlet_Identifier               0\n",
       "Outlet_Establishment_Year       0\n",
       "Outlet_Size                  2410\n",
       "Outlet_Location_Type            0\n",
       "Outlet_Type                     0\n",
       "Item_Outlet_Sales               0\n",
       "dtype: int64"
      ]
     },
     "execution_count": 7,
     "metadata": {},
     "output_type": "execute_result"
    }
   ],
   "source": [
    "\n",
    "#checking null value for trainning data\n",
    "\n",
    "train_data.isnull().sum()"
   ]
  },
  {
   "cell_type": "code",
   "execution_count": 8,
   "id": "9d74b86e",
   "metadata": {},
   "outputs": [
    {
     "data": {
      "text/plain": [
       "Item_Identifier                 0\n",
       "Item_Weight                   976\n",
       "Item_Fat_Content                0\n",
       "Item_Visibility                 0\n",
       "Item_Type                       0\n",
       "Item_MRP                        0\n",
       "Outlet_Identifier               0\n",
       "Outlet_Establishment_Year       0\n",
       "Outlet_Size                  1606\n",
       "Outlet_Location_Type            0\n",
       "Outlet_Type                     0\n",
       "dtype: int64"
      ]
     },
     "execution_count": 8,
     "metadata": {},
     "output_type": "execute_result"
    }
   ],
   "source": [
    "#checking null value for testdata\n",
    "test_data.isnull().sum()"
   ]
  },
  {
   "cell_type": "markdown",
   "id": "cd0ae5b9",
   "metadata": {},
   "source": [
    "so many  missing value present so we have to impute it"
   ]
  },
  {
   "cell_type": "markdown",
   "id": "e656bdaf",
   "metadata": {},
   "source": [
    "# Firstly i join both train and test data for cleaning purpose otherwise i have to do all cleaning process Two times"
   ]
  },
  {
   "cell_type": "code",
   "execution_count": 9,
   "id": "e1aae718",
   "metadata": {},
   "outputs": [],
   "source": [
    "train_data[\"source\"]=\"train\"\n",
    "test_data[\"source\"]=\"test\"\n",
    "df=pd.concat([train_data,test_data],ignore_index=True)"
   ]
  },
  {
   "cell_type": "code",
   "execution_count": 10,
   "id": "389518ca",
   "metadata": {},
   "outputs": [
    {
     "data": {
      "text/plain": [
       "(14204, 13)"
      ]
     },
     "execution_count": 10,
     "metadata": {},
     "output_type": "execute_result"
    }
   ],
   "source": [
    "df.shape"
   ]
  },
  {
   "cell_type": "code",
   "execution_count": 11,
   "id": "162b5e19",
   "metadata": {},
   "outputs": [],
   "source": [
    "# df.head()"
   ]
  },
  {
   "cell_type": "code",
   "execution_count": 12,
   "id": "10ab4ef6",
   "metadata": {},
   "outputs": [
    {
     "data": {
      "text/plain": [
       "Item_Identifier                 0\n",
       "Item_Weight                  2439\n",
       "Item_Fat_Content                0\n",
       "Item_Visibility                 0\n",
       "Item_Type                       0\n",
       "Item_MRP                        0\n",
       "Outlet_Identifier               0\n",
       "Outlet_Establishment_Year       0\n",
       "Outlet_Size                  4016\n",
       "Outlet_Location_Type            0\n",
       "Outlet_Type                     0\n",
       "Item_Outlet_Sales            5681\n",
       "source                          0\n",
       "dtype: int64"
      ]
     },
     "execution_count": 12,
     "metadata": {},
     "output_type": "execute_result"
    }
   ],
   "source": [
    "#total missing value present in trainning and testing data\n",
    "df.isnull().sum()"
   ]
  },
  {
   "cell_type": "markdown",
   "id": "e2162c27",
   "metadata": {},
   "source": [
    "# Duplicates"
   ]
  },
  {
   "cell_type": "code",
   "execution_count": 13,
   "id": "40b480f2",
   "metadata": {},
   "outputs": [
    {
     "name": "stdout",
     "output_type": "stream",
     "text": [
      "There are 12645 duplicate IDs for 14204 total entries\n"
     ]
    }
   ],
   "source": [
    "# Check for duplicates\n",
    "idsTotal = df.shape[0]\n",
    "idsDupli = df[df['Item_Identifier'].duplicated()]\n",
    "print(f'There are {len(idsDupli)} duplicate IDs for {idsTotal} total entries')"
   ]
  },
  {
   "cell_type": "markdown",
   "id": "0f731018",
   "metadata": {},
   "source": [
    "This shows that our Item_Identifier has some duplicate values. since a product can exist in more than one store it is expected for this repetition."
   ]
  },
  {
   "cell_type": "markdown",
   "id": "abbf71ca",
   "metadata": {},
   "source": [
    "# Univariate Visualization"
   ]
  },
  {
   "cell_type": "code",
   "execution_count": 14,
   "id": "69ab0013",
   "metadata": {},
   "outputs": [
    {
     "data": {
      "image/png": "[encoded data removed]",
      "text/plain": [
       "<Figure size 432x288 with 1 Axes>"
      ]
     },
     "metadata": {
      "needs_background": "light"
     },
     "output_type": "display_data"
    },
    {
     "data": {
      "image/png": "[encoded data removed]",
      "text/plain": [
       "<Figure size 432x288 with 1 Axes>"
      ]
     },
     "metadata": {
      "needs_background": "light"
     },
     "output_type": "display_data"
    },
    {
     "data": {
      "image/png": "[encoded data removed]",
      "text/plain": [
       "<Figure size 432x288 with 1 Axes>"
      ]
     },
     "metadata": {
      "needs_background": "light"
     },
     "output_type": "display_data"
    },
    {
     "data": {
      "image/png": "[encoded data removed]",
      "text/plain": [
       "<Figure size 432x288 with 1 Axes>"
      ]
     },
     "metadata": {
      "needs_background": "light"
     },
     "output_type": "display_data"
    },
    {
     "data": {
      "image/png": "[encoded data removed]",
      "text/plain": [
       "<Figure size 432x288 with 1 Axes>"
      ]
     },
     "metadata": {
      "needs_background": "light"
     },
     "output_type": "display_data"
    }
   ],
   "source": [
    "#distribution plot for each columns that contain continues variable\n",
    "\n",
    "for i in train_data.describe().columns:\n",
    "    sns.distplot(train_data[i].dropna())\n",
    "    plt.show()"
   ]
  },
  {
   "cell_type": "markdown",
   "id": "cd11646d",
   "metadata": {},
   "source": [
    "observation:\n",
    "\n",
    "skewness is present in item_visibility and item_outlet_sales\n",
    "Item_Weight and Item_MRP is normaly distri buted\n",
    "In year 1990 to 1995 no OUtlet is Establised\n"
   ]
  },
  {
   "cell_type": "markdown",
   "id": "f6ab01da",
   "metadata": {},
   "source": [
    "# Box plot"
   ]
  },
  {
   "cell_type": "code",
   "execution_count": 15,
   "id": "4f06392d",
   "metadata": {},
   "outputs": [
    {
     "data": {
      "image/png": "[encoded data removed]",
      "text/plain": [
       "<Figure size 432x288 with 1 Axes>"
      ]
     },
     "metadata": {
      "needs_background": "light"
     },
     "output_type": "display_data"
    },
    {
     "data": {
      "image/png": "[encoded data removed]",
      "text/plain": [
       "<Figure size 432x288 with 1 Axes>"
      ]
     },
     "metadata": {
      "needs_background": "light"
     },
     "output_type": "display_data"
    },
    {
     "data": {
      "image/png": "[encoded data removed]",
      "text/plain": [
       "<Figure size 432x288 with 1 Axes>"
      ]
     },
     "metadata": {
      "needs_background": "light"
     },
     "output_type": "display_data"
    },
    {
     "data": {
      "image/png": "[encoded data removed]",
      "text/plain": [
       "<Figure size 432x288 with 1 Axes>"
      ]
     },
     "metadata": {
      "needs_background": "light"
     },
     "output_type": "display_data"
    },
    {
     "data": {
      "image/png": "[encoded data removed]",
      "text/plain": [
       "<Figure size 432x288 with 1 Axes>"
      ]
     },
     "metadata": {
      "needs_background": "light"
     },
     "output_type": "display_data"
    }
   ],
   "source": [
    "#box plot for each columns that contain continues variable\n",
    "\n",
    "for i in train_data.describe().columns:\n",
    "    sns.boxplot(train_data[i].dropna())\n",
    "    plt.show()"
   ]
  },
  {
   "cell_type": "markdown",
   "id": "5344585c",
   "metadata": {},
   "source": [
    "Observation:\n",
    "    \n",
    "Outliers present in Item_Visibility and Item_Outlet_Sales\n"
   ]
  },
  {
   "cell_type": "markdown",
   "id": "a42ff848",
   "metadata": {},
   "source": [
    "# Distribution of Item_Type"
   ]
  },
  {
   "cell_type": "code",
   "execution_count": 16,
   "id": "068d4d4f",
   "metadata": {},
   "outputs": [
    {
     "data": {
      "text/plain": [
       "(array([ 0,  1,  2,  3,  4,  5,  6,  7,  8,  9, 10, 11, 12, 13, 14, 15]),\n",
       " [Text(0, 0, 'Dairy'),\n",
       "  Text(1, 0, 'Soft Drinks'),\n",
       "  Text(2, 0, 'Meat'),\n",
       "  Text(3, 0, 'Fruits and Vegetables'),\n",
       "  Text(4, 0, 'Household'),\n",
       "  Text(5, 0, 'Baking Goods'),\n",
       "  Text(6, 0, 'Snack Foods'),\n",
       "  Text(7, 0, 'Frozen Foods'),\n",
       "  Text(8, 0, 'Breakfast'),\n",
       "  Text(9, 0, 'Health and Hygiene'),\n",
       "  Text(10, 0, 'Hard Drinks'),\n",
       "  Text(11, 0, 'Canned'),\n",
       "  Text(12, 0, 'Breads'),\n",
       "  Text(13, 0, 'Starchy Foods'),\n",
       "  Text(14, 0, 'Others'),\n",
       "  Text(15, 0, 'Seafood')])"
      ]
     },
     "execution_count": 16,
     "metadata": {},
     "output_type": "execute_result"
    },
    {
     "data": {
      "image/png": "[encoded data removed]",
      "text/plain": [
       "<Figure size 1080x720 with 1 Axes>"
      ]
     },
     "metadata": {
      "needs_background": "light"
     },
     "output_type": "display_data"
    }
   ],
   "source": [
    "plt.figure(figsize=(15,10))\n",
    "sns.countplot(train_data.Item_Type)\n",
    "plt.xticks(rotation=90)"
   ]
  },
  {
   "cell_type": "code",
   "execution_count": 17,
   "id": "6ac86126",
   "metadata": {},
   "outputs": [
    {
     "data": {
      "text/plain": [
       "Fruits and Vegetables    1232\n",
       "Snack Foods              1200\n",
       "Household                 910\n",
       "Frozen Foods              856\n",
       "Dairy                     682\n",
       "Canned                    649\n",
       "Baking Goods              648\n",
       "Health and Hygiene        520\n",
       "Soft Drinks               445\n",
       "Meat                      425\n",
       "Breads                    251\n",
       "Hard Drinks               214\n",
       "Others                    169\n",
       "Starchy Foods             148\n",
       "Breakfast                 110\n",
       "Seafood                    64\n",
       "Name: Item_Type, dtype: int64"
      ]
     },
     "execution_count": 17,
     "metadata": {},
     "output_type": "execute_result"
    }
   ],
   "source": [
    "train_data.Item_Type.value_counts()"
   ]
  },
  {
   "cell_type": "markdown",
   "id": "d994e71d",
   "metadata": {},
   "source": [
    "Fruits and Vegetables are most demanded Item then Snack food then household \n",
    "seafood item is on minimum demand"
   ]
  },
  {
   "cell_type": "markdown",
   "id": "89297153",
   "metadata": {},
   "source": [
    "# Distribution of value count"
   ]
  },
  {
   "cell_type": "code",
   "execution_count": 18,
   "id": "1337683d",
   "metadata": {},
   "outputs": [
    {
     "data": {
      "text/plain": [
       "<AxesSubplot:xlabel='Outlet_Size', ylabel='count'>"
      ]
     },
     "execution_count": 18,
     "metadata": {},
     "output_type": "execute_result"
    },
    {
     "data": {
      "image/png": "[encoded data removed]",
      "text/plain": [
       "<Figure size 720x504 with 1 Axes>"
      ]
     },
     "metadata": {
      "needs_background": "light"
     },
     "output_type": "display_data"
    }
   ],
   "source": [
    "plt.figure(figsize=(10,7))\n",
    "sns.countplot(train_data.Outlet_Size)"
   ]
  },
  {
   "cell_type": "code",
   "execution_count": 19,
   "id": "06687792",
   "metadata": {},
   "outputs": [
    {
     "data": {
      "text/plain": [
       "Medium    2793\n",
       "Small     2388\n",
       "High       932\n",
       "Name: Outlet_Size, dtype: int64"
      ]
     },
     "execution_count": 19,
     "metadata": {},
     "output_type": "execute_result"
    }
   ],
   "source": [
    "train_data.Outlet_Size.value_counts()"
   ]
  },
  {
   "cell_type": "markdown",
   "id": "b94b04d2",
   "metadata": {},
   "source": [
    "Medium  size outlet is greater than as compair to small and High\n",
    "\n",
    "High size outlet is not too much may be it is only in Big cities or matro\n"
   ]
  },
  {
   "cell_type": "markdown",
   "id": "d8a7b75f",
   "metadata": {},
   "source": [
    "# Distribution of outlet_Location_Type"
   ]
  },
  {
   "cell_type": "code",
   "execution_count": 20,
   "id": "1fc399c9",
   "metadata": {},
   "outputs": [
    {
     "data": {
      "text/plain": [
       "<AxesSubplot:xlabel='Outlet_Location_Type', ylabel='count'>"
      ]
     },
     "execution_count": 20,
     "metadata": {},
     "output_type": "execute_result"
    },
    {
     "data": {
      "image/png": "[encoded data removed]",
      "text/plain": [
       "<Figure size 720x504 with 1 Axes>"
      ]
     },
     "metadata": {
      "needs_background": "light"
     },
     "output_type": "display_data"
    }
   ],
   "source": [
    "plt.figure(figsize=(10,7))\n",
    "sns.countplot(train_data.Outlet_Location_Type)"
   ]
  },
  {
   "cell_type": "code",
   "execution_count": 21,
   "id": "c84d9bfe",
   "metadata": {},
   "outputs": [
    {
     "data": {
      "text/plain": [
       "Tier 3    3350\n",
       "Tier 2    2785\n",
       "Tier 1    2388\n",
       "Name: Outlet_Location_Type, dtype: int64"
      ]
     },
     "execution_count": 21,
     "metadata": {},
     "output_type": "execute_result"
    }
   ],
   "source": [
    "train_data.Outlet_Location_Type.value_counts()"
   ]
  },
  {
   "cell_type": "markdown",
   "id": "e5f30efb",
   "metadata": {},
   "source": [
    "Outlet location is divided into three Ties in which the tier3 is more than other"
   ]
  },
  {
   "cell_type": "markdown",
   "id": "cece63cd",
   "metadata": {},
   "source": [
    "# Distribution of outlet_Type"
   ]
  },
  {
   "cell_type": "code",
   "execution_count": 22,
   "id": "796785e2",
   "metadata": {},
   "outputs": [
    {
     "data": {
      "text/plain": [
       "(array([0, 1, 2, 3]),\n",
       " [Text(0, 0, 'Supermarket Type1'),\n",
       "  Text(1, 0, 'Supermarket Type2'),\n",
       "  Text(2, 0, 'Grocery Store'),\n",
       "  Text(3, 0, 'Supermarket Type3')])"
      ]
     },
     "execution_count": 22,
     "metadata": {},
     "output_type": "execute_result"
    },
    {
     "data": {
      "image/png": "[encoded data removed]",
      "text/plain": [
       "<Figure size 720x504 with 1 Axes>"
      ]
     },
     "metadata": {
      "needs_background": "light"
     },
     "output_type": "display_data"
    }
   ],
   "source": [
    "plt.figure(figsize=(10,7))\n",
    "sns.countplot(train_data.Outlet_Type)\n",
    "plt.xticks(rotation=70)"
   ]
  },
  {
   "cell_type": "code",
   "execution_count": 23,
   "id": "3f3e5ff8",
   "metadata": {},
   "outputs": [
    {
     "data": {
      "text/plain": [
       "Supermarket Type1    5577\n",
       "Grocery Store        1083\n",
       "Supermarket Type3     935\n",
       "Supermarket Type2     928\n",
       "Name: Outlet_Type, dtype: int64"
      ]
     },
     "execution_count": 23,
     "metadata": {},
     "output_type": "execute_result"
    }
   ],
   "source": [
    "train_data.Outlet_Type.value_counts()"
   ]
  },
  {
   "cell_type": "markdown",
   "id": "c9d6b0ae",
   "metadata": {},
   "source": [
    "Outlet Type is divided into four type where Supermarket type1 is greater than other"
   ]
  },
  {
   "cell_type": "markdown",
   "id": "19401ab7",
   "metadata": {},
   "source": [
    "# Bivareiate Visualization"
   ]
  },
  {
   "cell_type": "code",
   "execution_count": 24,
   "id": "9a02020c",
   "metadata": {},
   "outputs": [
    {
     "data": {
      "text/plain": [
       "Index(['Item_Identifier', 'Item_Weight', 'Item_Fat_Content', 'Item_Visibility',\n",
       "       'Item_Type', 'Item_MRP', 'Outlet_Identifier',\n",
       "       'Outlet_Establishment_Year', 'Outlet_Size', 'Outlet_Location_Type',\n",
       "       'Outlet_Type', 'Item_Outlet_Sales', 'source'],\n",
       "      dtype='object')"
      ]
     },
     "execution_count": 24,
     "metadata": {},
     "output_type": "execute_result"
    }
   ],
   "source": [
    "train_data.columns"
   ]
  },
  {
   "cell_type": "code",
   "execution_count": 25,
   "id": "4a59da47",
   "metadata": {},
   "outputs": [
    {
     "data": {
      "text/plain": [
       "<AxesSubplot:xlabel='Item_MRP', ylabel='Item_Outlet_Sales'>"
      ]
     },
     "execution_count": 25,
     "metadata": {},
     "output_type": "execute_result"
    },
    {
     "data": {
      "image/png": "[encoded data removed]",
      "text/plain": [
       "<Figure size 1080x432 with 3 Axes>"
      ]
     },
     "metadata": {
      "needs_background": "light"
     },
     "output_type": "display_data"
    }
   ],
   "source": [
    "## Visualise relation ship between Item_Outlet_Sales and Item_Weight,Item_Visibility,Item_MRP\n",
    "fig,axs = plt.subplots(1,3,sharey = True,figsize=(15,6))\n",
    "#fig,axs = plt.subplots(1,3)\n",
    "df.plot(kind = 'scatter' , x= 'Item_Weight' ,y='Item_Outlet_Sales',ax = axs[0] )\n",
    "df.plot(kind = 'scatter' ,x = 'Item_Visibility',y ='Item_Outlet_Sales',ax = axs[1])\n",
    "df.plot(kind = 'scatter',x = 'Item_MRP', y = 'Item_Outlet_Sales',ax = axs[2])"
   ]
  },
  {
   "cell_type": "markdown",
   "id": "52430e93",
   "metadata": {},
   "source": [
    "observation:\n",
    "    \n",
    "Item_visibility is increses then Item_outlet_sales is decreses\n",
    "    \n",
    "Item_MRP is increses then Item_outlet_sales is also increses"
   ]
  },
  {
   "cell_type": "code",
   "execution_count": 26,
   "id": "c4abd001",
   "metadata": {},
   "outputs": [
    {
     "data": {
      "text/plain": [
       "<AxesSubplot:xlabel='Item_Visibility', ylabel='Item_MRP'>"
      ]
     },
     "execution_count": 26,
     "metadata": {},
     "output_type": "execute_result"
    },
    {
     "data": {
      "image/png": "[encoded data removed]",
      "text/plain": [
       "<Figure size 1080x432 with 1 Axes>"
      ]
     },
     "metadata": {
      "needs_background": "light"
     },
     "output_type": "display_data"
    }
   ],
   "source": [
    "plt.figure(figsize=(15,6))\n",
    "sns.scatterplot(data=train_data,y='Item_MRP',x='Item_Visibility')"
   ]
  },
  {
   "cell_type": "markdown",
   "id": "45d86246",
   "metadata": {},
   "source": [
    " The Item which has  high MRP the visibility is less may be  the high MRp item availability in outlet is less Quantity "
   ]
  },
  {
   "cell_type": "code",
   "execution_count": 27,
   "id": "de340691",
   "metadata": {},
   "outputs": [
    {
     "data": {
      "image/png": "[encoded data removed]",
      "text/plain": [
       "<Figure size 720x504 with 1 Axes>"
      ]
     },
     "metadata": {
      "needs_background": "light"
     },
     "output_type": "display_data"
    }
   ],
   "source": [
    "plt.figure(figsize=(10,7))\n",
    "plt.bar(train_data['Outlet_Type'],train_data[\"Item_Outlet_Sales\"])\n",
    "plt.xlabel('Outlet_Type')\n",
    "plt.ylabel('Item_Outlet_Sales')\n",
    "plt.title(\"imapact of Outlet_Type on Item_Outlet_Sales\")\n",
    "plt.show()\n"
   ]
  },
  {
   "cell_type": "markdown",
   "id": "6d32b322",
   "metadata": {},
   "source": [
    "In above count plot graph we saw that outlet  Supermarket type3 is less in quantity  but here the Item_Outlet_Sales is more in supermarket Type 3 \n",
    "\n",
    "That means may be the Supermarket type3 is Big in size and present in Big city that why  saleing item are more "
   ]
  },
  {
   "cell_type": "code",
   "execution_count": 28,
   "id": "96053527",
   "metadata": {},
   "outputs": [
    {
     "data": {
      "image/png": "[encoded data removed]",
      "text/plain": [
       "<Figure size 720x504 with 1 Axes>"
      ]
     },
     "metadata": {
      "needs_background": "light"
     },
     "output_type": "display_data"
    }
   ],
   "source": [
    "plt.figure(figsize=(10,7))\n",
    "plt.bar(train_data['Item_Fat_Content'],train_data[\"Item_Outlet_Sales\"])\n",
    "plt.xlabel('Item_Fat_Content')\n",
    "plt.ylabel('Item_Outlet_Sales')\n",
    "plt.title(\"imapact of tem_Fat_Content on Item_Outlet_Sales\")\n",
    "plt.show()"
   ]
  },
  {
   "cell_type": "markdown",
   "id": "4f997e4f",
   "metadata": {},
   "source": [
    "Item_Fat_Content have Low Fat, Regular and the same thing is present in different different speling so we can replace it by only two variable Low Fat and Regular "
   ]
  },
  {
   "cell_type": "code",
   "execution_count": 29,
   "id": "03f6bceb",
   "metadata": {},
   "outputs": [
    {
     "data": {
      "text/plain": [
       "Low Fat    8485\n",
       "Regular    4824\n",
       "LF          522\n",
       "reg         195\n",
       "low fat     178\n",
       "Name: Item_Fat_Content, dtype: int64"
      ]
     },
     "execution_count": 29,
     "metadata": {},
     "output_type": "execute_result"
    }
   ],
   "source": [
    "df[\"Item_Fat_Content\"].value_counts()"
   ]
  },
  {
   "cell_type": "code",
   "execution_count": 30,
   "id": "79770116",
   "metadata": {},
   "outputs": [],
   "source": [
    "df[\"Item_Fat_Content\"]=df[\"Item_Fat_Content\"].replace({'LF':\"Low Fat\",'reg':\"Regular\",'low fat':\"Low Fat\"})"
   ]
  },
  {
   "cell_type": "code",
   "execution_count": 31,
   "id": "da66ef02",
   "metadata": {},
   "outputs": [
    {
     "data": {
      "text/plain": [
       "Low Fat    9185\n",
       "Regular    5019\n",
       "Name: Item_Fat_Content, dtype: int64"
      ]
     },
     "execution_count": 31,
     "metadata": {},
     "output_type": "execute_result"
    }
   ],
   "source": [
    "df[\"Item_Fat_Content\"].value_counts()"
   ]
  },
  {
   "cell_type": "code",
   "execution_count": 32,
   "id": "7f7742b3",
   "metadata": {},
   "outputs": [],
   "source": [
    "train_data[\"Item_Fat_Content\"]=train_data[\"Item_Fat_Content\"].replace({'LF':\"Low Fat\",'reg':\"Regular\",'low fat':\"Low Fat\"})"
   ]
  },
  {
   "cell_type": "code",
   "execution_count": 33,
   "id": "beaba8bb",
   "metadata": {},
   "outputs": [
    {
     "data": {
      "image/png": "[encoded data removed]",
      "text/plain": [
       "<Figure size 504x360 with 1 Axes>"
      ]
     },
     "metadata": {
      "needs_background": "light"
     },
     "output_type": "display_data"
    }
   ],
   "source": [
    "plt.figure(figsize=(7,5))\n",
    "plt.bar(train_data['Item_Fat_Content'],train_data[\"Item_Outlet_Sales\"])\n",
    "plt.xlabel('Item_Fat_Content')\n",
    "plt.ylabel('Item_Outlet_Sales')\n",
    "plt.title(\"imapact of Outlet_Type on Item_Outlet_Sales\")\n",
    "plt.show()"
   ]
  },
  {
   "cell_type": "markdown",
   "id": "6fb5a588",
   "metadata": {},
   "source": [
    "# Correlations"
   ]
  },
  {
   "cell_type": "code",
   "execution_count": 34,
   "id": "2ceaebc2",
   "metadata": {},
   "outputs": [
    {
     "data": {
      "text/html": [
       "<div>\n",
       "<style scoped>\n",
       "    .dataframe tbody tr th:only-of-type {\n",
       "        vertical-align: middle;\n",
       "    }\n",
       "\n",
       "    .dataframe tbody tr th {\n",
       "        vertical-align: top;\n",
       "    }\n",
       "\n",
       "    .dataframe thead th {\n",
       "        text-align: right;\n",
       "    }\n",
       "</style>\n",
       "<table border=\"1\" class=\"dataframe\">\n",
       "  <thead>\n",
       "    <tr style=\"text-align: right;\">\n",
       "      <th></th>\n",
       "      <th>Item_Weight</th>\n",
       "      <th>Item_Visibility</th>\n",
       "      <th>Item_MRP</th>\n",
       "      <th>Outlet_Establishment_Year</th>\n",
       "      <th>Item_Outlet_Sales</th>\n",
       "    </tr>\n",
       "  </thead>\n",
       "  <tbody>\n",
       "    <tr>\n",
       "      <th>Item_Weight</th>\n",
       "      <td>1.000000</td>\n",
       "      <td>-0.014048</td>\n",
       "      <td>0.027141</td>\n",
       "      <td>-0.011588</td>\n",
       "      <td>0.014123</td>\n",
       "    </tr>\n",
       "    <tr>\n",
       "      <th>Item_Visibility</th>\n",
       "      <td>-0.014048</td>\n",
       "      <td>1.000000</td>\n",
       "      <td>-0.001315</td>\n",
       "      <td>-0.074834</td>\n",
       "      <td>-0.128625</td>\n",
       "    </tr>\n",
       "    <tr>\n",
       "      <th>Item_MRP</th>\n",
       "      <td>0.027141</td>\n",
       "      <td>-0.001315</td>\n",
       "      <td>1.000000</td>\n",
       "      <td>0.005020</td>\n",
       "      <td>0.567574</td>\n",
       "    </tr>\n",
       "    <tr>\n",
       "      <th>Outlet_Establishment_Year</th>\n",
       "      <td>-0.011588</td>\n",
       "      <td>-0.074834</td>\n",
       "      <td>0.005020</td>\n",
       "      <td>1.000000</td>\n",
       "      <td>-0.049135</td>\n",
       "    </tr>\n",
       "    <tr>\n",
       "      <th>Item_Outlet_Sales</th>\n",
       "      <td>0.014123</td>\n",
       "      <td>-0.128625</td>\n",
       "      <td>0.567574</td>\n",
       "      <td>-0.049135</td>\n",
       "      <td>1.000000</td>\n",
       "    </tr>\n",
       "  </tbody>\n",
       "</table>\n",
       "</div>"
      ],
      "text/plain": [
       "                           Item_Weight  Item_Visibility  Item_MRP  \\\n",
       "Item_Weight                   1.000000        -0.014048  0.027141   \n",
       "Item_Visibility              -0.014048         1.000000 -0.001315   \n",
       "Item_MRP                      0.027141        -0.001315  1.000000   \n",
       "Outlet_Establishment_Year    -0.011588        -0.074834  0.005020   \n",
       "Item_Outlet_Sales             0.014123        -0.128625  0.567574   \n",
       "\n",
       "                           Outlet_Establishment_Year  Item_Outlet_Sales  \n",
       "Item_Weight                                -0.011588           0.014123  \n",
       "Item_Visibility                            -0.074834          -0.128625  \n",
       "Item_MRP                                    0.005020           0.567574  \n",
       "Outlet_Establishment_Year                   1.000000          -0.049135  \n",
       "Item_Outlet_Sales                          -0.049135           1.000000  "
      ]
     },
     "execution_count": 34,
     "metadata": {},
     "output_type": "execute_result"
    }
   ],
   "source": [
    "train_data.corr( )"
   ]
  },
  {
   "cell_type": "code",
   "execution_count": 35,
   "id": "56f28598",
   "metadata": {},
   "outputs": [
    {
     "data": {
      "text/plain": [
       "Item_Visibility             -0.128625\n",
       "Outlet_Establishment_Year   -0.049135\n",
       "Item_Weight                  0.014123\n",
       "Item_MRP                     0.567574\n",
       "Item_Outlet_Sales            1.000000\n",
       "Name: Item_Outlet_Sales, dtype: float64"
      ]
     },
     "execution_count": 35,
     "metadata": {},
     "output_type": "execute_result"
    }
   ],
   "source": [
    "# correlatin all columns with outcome in assending order\n",
    "\n",
    "train_data.corr()[\"Item_Outlet_Sales\"].sort_values()"
   ]
  },
  {
   "cell_type": "code",
   "execution_count": 36,
   "id": "bc728ca6",
   "metadata": {},
   "outputs": [
    {
     "data": {
      "text/plain": [
       "<AxesSubplot:>"
      ]
     },
     "execution_count": 36,
     "metadata": {},
     "output_type": "execute_result"
    },
    {
     "data": {
      "image/png": "[encoded data removed]",
      "text/plain": [
       "<Figure size 720x360 with 2 Axes>"
      ]
     },
     "metadata": {
      "needs_background": "light"
     },
     "output_type": "display_data"
    }
   ],
   "source": [
    "# Checking the Correlation between the target value and rest columns using Heatmap, Correlation Matrix.\n",
    "\n",
    "plt.figure(figsize=(10,5))\n",
    "sns.heatmap(train_data.corr(),cmap='Blues',annot=True,linewidths=0.5,linecolor=\"black\",fmt=\"0.2f\")"
   ]
  },
  {
   "cell_type": "code",
   "execution_count": 37,
   "id": "a1e42bea",
   "metadata": {},
   "outputs": [
    {
     "data": {
      "text/plain": [
       "<AxesSubplot:title={'center':'Correlation with sales'}>"
      ]
     },
     "execution_count": 37,
     "metadata": {},
     "output_type": "execute_result"
    },
    {
     "data": {
      "image/png": "[encoded data removed]",
      "text/plain": [
       "<Figure size 720x360 with 1 Axes>"
      ]
     },
     "metadata": {
      "needs_background": "light"
     },
     "output_type": "display_data"
    }
   ],
   "source": [
    "#Correlation with sales with respect to other columns\n",
    "train_data.corrwith(train_data.Item_Outlet_Sales).plot.bar(\n",
    "        figsize = (10, 5), title = \"Correlation with sales\", fontsize = 15,\n",
    "        rot = 45, grid = True)"
   ]
  },
  {
   "cell_type": "markdown",
   "id": "7c91e674",
   "metadata": {},
   "source": [
    "Observation:\n",
    "\n",
    "Item MRP is positive correlated to Item_Outlet_SAle\n",
    "\n",
    "Item-weight is no correlated to Item_Outlet_SAle\n",
    "\n",
    "Item_Visibility is negative correlated to Item_Outlet_SAle\n",
    "    "
   ]
  },
  {
   "cell_type": "markdown",
   "id": "dde24ba3",
   "metadata": {},
   "source": [
    "# Fetures enginnering"
   ]
  },
  {
   "cell_type": "markdown",
   "id": "e81fee75",
   "metadata": {},
   "source": [
    "# Treating The Missing Values"
   ]
  },
  {
   "cell_type": "markdown",
   "id": "196dedc8",
   "metadata": {},
   "source": [
    "As I know missing value present in Item_Weight and Outlet_size\n",
    "From the box plot and distplot we plotted at beginnig we notice that the Item_Weight does not have any ouliers and normally distributed so we can replace Nan value by mean value "
   ]
  },
  {
   "cell_type": "markdown",
   "id": "1e85076d",
   "metadata": {},
   "source": [
    "# Item_Weight"
   ]
  },
  {
   "cell_type": "code",
   "execution_count": 38,
   "id": "0cf03bd2",
   "metadata": {},
   "outputs": [
    {
     "data": {
      "text/plain": [
       "12.792854228644991"
      ]
     },
     "execution_count": 38,
     "metadata": {},
     "output_type": "execute_result"
    }
   ],
   "source": [
    "df[\"Item_Weight\"].mean()# we will replace NaN value with this mean value"
   ]
  },
  {
   "cell_type": "code",
   "execution_count": 39,
   "id": "90874719",
   "metadata": {},
   "outputs": [],
   "source": [
    "df[\"Item_Weight\"].fillna(df[\"Item_Weight\"].mean(),inplace=True)#missing value is replaced by mean"
   ]
  },
  {
   "cell_type": "markdown",
   "id": "48e0de1c",
   "metadata": {},
   "source": [
    "# Outlet_Size"
   ]
  },
  {
   "cell_type": "markdown",
   "id": "89b492f2",
   "metadata": {},
   "source": [
    "Outlet_size also have missing values"
   ]
  },
  {
   "cell_type": "code",
   "execution_count": 40,
   "id": "365e7f8f",
   "metadata": {},
   "outputs": [
    {
     "data": {
      "text/plain": [
       "Medium    4655\n",
       "Small     3980\n",
       "High      1553\n",
       "Name: Outlet_Size, dtype: int64"
      ]
     },
     "execution_count": 40,
     "metadata": {},
     "output_type": "execute_result"
    }
   ],
   "source": [
    "df[\"Outlet_Size\"].value_counts()"
   ]
  },
  {
   "cell_type": "markdown",
   "id": "cafc385b",
   "metadata": {},
   "source": [
    "so we can replace the NaN value by most frequent value (made )that is Medium size outlet"
   ]
  },
  {
   "cell_type": "code",
   "execution_count": 41,
   "id": "7560f49c",
   "metadata": {},
   "outputs": [],
   "source": [
    "df[\"Outlet_Size\"].fillna(\"Medium\", inplace=True)#missing value is replaced by mode"
   ]
  },
  {
   "cell_type": "markdown",
   "id": "05a62e8f",
   "metadata": {},
   "source": [
    "# check for null value "
   ]
  },
  {
   "cell_type": "code",
   "execution_count": 42,
   "id": "22cd2c55",
   "metadata": {},
   "outputs": [
    {
     "data": {
      "text/plain": [
       "Item_Identifier                 0\n",
       "Item_Weight                     0\n",
       "Item_Fat_Content                0\n",
       "Item_Visibility                 0\n",
       "Item_Type                       0\n",
       "Item_MRP                        0\n",
       "Outlet_Identifier               0\n",
       "Outlet_Establishment_Year       0\n",
       "Outlet_Size                     0\n",
       "Outlet_Location_Type            0\n",
       "Outlet_Type                     0\n",
       "Item_Outlet_Sales            5681\n",
       "source                          0\n",
       "dtype: int64"
      ]
     },
     "execution_count": 42,
     "metadata": {},
     "output_type": "execute_result"
    }
   ],
   "source": [
    "df.isnull().sum()"
   ]
  },
  {
   "cell_type": "markdown",
   "id": "ce6784fe",
   "metadata": {},
   "source": [
    "missing value of Item_Outlet_Sales is 5681 because the test data of 5681 rows dont have Item_Outlet_Sales columns \n",
    "but we concatinate both train and test data for clening perpose"
   ]
  },
  {
   "cell_type": "code",
   "execution_count": 43,
   "id": "ff2fbcb7",
   "metadata": {},
   "outputs": [
    {
     "data": {
      "text/plain": [
       "(8523, 13)"
      ]
     },
     "execution_count": 43,
     "metadata": {},
     "output_type": "execute_result"
    }
   ],
   "source": [
    "train_data.shape"
   ]
  },
  {
   "cell_type": "code",
   "execution_count": 44,
   "id": "a337a8ef",
   "metadata": {},
   "outputs": [
    {
     "data": {
      "text/plain": [
       "(5681, 12)"
      ]
     },
     "execution_count": 44,
     "metadata": {},
     "output_type": "execute_result"
    }
   ],
   "source": [
    "test_data.shape"
   ]
  },
  {
   "cell_type": "markdown",
   "id": "3cb59cf6",
   "metadata": {},
   "source": [
    "# Item_Visibility"
   ]
  },
  {
   "cell_type": "markdown",
   "id": "01338910",
   "metadata": {},
   "source": [
    "As we know in description of data we saw that the minimum value of Item_Visibility is 0 means that Item which Item_visibility is value 0 out of stock in this case we need to treat as  missing value and fill it by median value because we saw that skewness and outliers present in Item_Visbility column"
   ]
  },
  {
   "cell_type": "code",
   "execution_count": 45,
   "id": "4476f9b0",
   "metadata": {},
   "outputs": [
    {
     "data": {
      "text/plain": [
       "879"
      ]
     },
     "execution_count": 45,
     "metadata": {},
     "output_type": "execute_result"
    }
   ],
   "source": [
    "# find item_visibility count with 0 value\n",
    "\n",
    "df[df[\"Item_Visibility\"]==0]['Item_Visibility'].count()"
   ]
  },
  {
   "cell_type": "code",
   "execution_count": 46,
   "id": "fb13ed96",
   "metadata": {},
   "outputs": [
    {
     "name": "stdout",
     "output_type": "stream",
     "text": [
      "Number of 0 values initially: 879\n",
      "Number of 0 values after modification: 0\n"
     ]
    }
   ],
   "source": [
    "#Determine average visibility of a product\n",
    "visibility_avg = df.pivot_table(values='Item_Visibility', index='Item_Identifier')\n",
    "\n",
    "#Impute 0 values with mean visibility of that product\n",
    "missing_values = (df['Item_Visibility'] == 0)\n",
    "\n",
    "print ('Number of 0 values initially: %d'%sum(missing_values))\n",
    "\n",
    "df.loc[missing_values,'Item_Visibility'] = df.loc[missing_values,'Item_Identifier'].apply(lambda x: visibility_avg.at[x, 'Item_Visibility'])\n",
    "\n",
    "print ('Number of 0 values after modification: %d'%sum(df['Item_Visibility'] == 0))"
   ]
  },
  {
   "cell_type": "markdown",
   "id": "7b70abd9",
   "metadata": {},
   "source": [
    "check for min value of Item visibility"
   ]
  },
  {
   "cell_type": "code",
   "execution_count": 47,
   "id": "a1700baa",
   "metadata": {},
   "outputs": [
    {
     "data": {
      "text/plain": [
       "0.003574698"
      ]
     },
     "execution_count": 47,
     "metadata": {},
     "output_type": "execute_result"
    }
   ],
   "source": [
    "df['Item_Visibility'].min()"
   ]
  },
  {
   "cell_type": "markdown",
   "id": "ba1d8e8e",
   "metadata": {},
   "source": [
    "# Outlet_Years"
   ]
  },
  {
   "cell_type": "markdown",
   "id": "fe3caeca",
   "metadata": {},
   "source": [
    "\n",
    "Convert the Outlet_Establishment_Years into how old the establishments are\n"
   ]
  },
  {
   "cell_type": "code",
   "execution_count": 48,
   "id": "1962ec0e",
   "metadata": {},
   "outputs": [
    {
     "data": {
      "text/plain": [
       "1985    2439\n",
       "1987    1553\n",
       "1999    1550\n",
       "1997    1550\n",
       "2004    1550\n",
       "2002    1548\n",
       "2009    1546\n",
       "2007    1543\n",
       "1998     925\n",
       "Name: Outlet_Establishment_Year, dtype: int64"
      ]
     },
     "execution_count": 48,
     "metadata": {},
     "output_type": "execute_result"
    }
   ],
   "source": [
    "df[\"Outlet_Establishment_Year\"].value_counts()"
   ]
  },
  {
   "cell_type": "code",
   "execution_count": 49,
   "id": "f221669a",
   "metadata": {},
   "outputs": [
    {
     "data": {
      "text/plain": [
       "count    14204.000000\n",
       "mean        11.169319\n",
       "std          8.371664\n",
       "min          0.000000\n",
       "25%          5.000000\n",
       "50%         10.000000\n",
       "75%         22.000000\n",
       "max         24.000000\n",
       "Name: Outlet_Years, dtype: float64"
      ]
     },
     "execution_count": 49,
     "metadata": {},
     "output_type": "execute_result"
    }
   ],
   "source": [
    "df[\"Outlet_Years\"]=2009-df[\"Outlet_Establishment_Year\"]\n",
    "df[\"Outlet_Years\"].describe()"
   ]
  },
  {
   "cell_type": "markdown",
   "id": "eaf17af6",
   "metadata": {},
   "source": [
    "maximum 24 year ago outlet is established"
   ]
  },
  {
   "cell_type": "code",
   "execution_count": 50,
   "id": "534a078a",
   "metadata": {},
   "outputs": [
    {
     "data": {
      "text/plain": [
       "0    10\n",
       "1     0\n",
       "2    10\n",
       "3    11\n",
       "4    22\n",
       "Name: Outlet_Years, dtype: int64"
      ]
     },
     "execution_count": 50,
     "metadata": {},
     "output_type": "execute_result"
    }
   ],
   "source": [
    "df['Outlet_Years'].head(5)"
   ]
  },
  {
   "cell_type": "markdown",
   "id": "487ec8d0",
   "metadata": {},
   "source": [
    "# Item_Type"
   ]
  },
  {
   "cell_type": "code",
   "execution_count": 51,
   "id": "9860aed1",
   "metadata": {},
   "outputs": [
    {
     "data": {
      "text/plain": [
       "Fruits and Vegetables    2013\n",
       "Snack Foods              1989\n",
       "Household                1548\n",
       "Frozen Foods             1426\n",
       "Dairy                    1136\n",
       "Baking Goods             1086\n",
       "Canned                   1084\n",
       "Health and Hygiene        858\n",
       "Meat                      736\n",
       "Soft Drinks               726\n",
       "Breads                    416\n",
       "Hard Drinks               362\n",
       "Others                    280\n",
       "Starchy Foods             269\n",
       "Breakfast                 186\n",
       "Seafood                    89\n",
       "Name: Item_Type, dtype: int64"
      ]
     },
     "execution_count": 51,
     "metadata": {},
     "output_type": "execute_result"
    }
   ],
   "source": [
    "df[\"Item_Type\"].value_counts()"
   ]
  },
  {
   "cell_type": "markdown",
   "id": "cf5535f5",
   "metadata": {},
   "source": [
    "There are 16 categories in Item_Type but Basicaly there is 3 type of item  either Food ,Drink or not_consumables"
   ]
  },
  {
   "cell_type": "markdown",
   "id": "7fba77a5",
   "metadata": {},
   "source": [
    "# Item_Identifier"
   ]
  },
  {
   "cell_type": "code",
   "execution_count": 52,
   "id": "3512c04d",
   "metadata": {},
   "outputs": [
    {
     "data": {
      "text/plain": [
       "FDU15    10\n",
       "FDS25    10\n",
       "FDA38    10\n",
       "FDW03    10\n",
       "FDJ10    10\n",
       "         ..\n",
       "FDR51     7\n",
       "FDM52     7\n",
       "DRN11     7\n",
       "FDH58     7\n",
       "NCW54     7\n",
       "Name: Item_Identifier, Length: 1559, dtype: int64"
      ]
     },
     "execution_count": 52,
     "metadata": {},
     "output_type": "execute_result"
    }
   ],
   "source": [
    "df[\"Item_Identifier\"].value_counts()"
   ]
  },
  {
   "cell_type": "markdown",
   "id": "6a5a6bbd",
   "metadata": {},
   "source": [
    "Item_Identifier is a Id for Every Item_Type\n",
    "\n",
    "when we closely check Item_identifier shows that they either start with FD(Food),DR(Drink)or NC(non consumable)so we can categorised this column by Food Drink and Non consumable"
   ]
  },
  {
   "cell_type": "code",
   "execution_count": 53,
   "id": "585fa453",
   "metadata": {},
   "outputs": [],
   "source": [
    "# changing first two caharacters\n",
    "df[\"New_Item_Type\"]=df[\"Item_Identifier\"].apply(lambda x : x[0:2])"
   ]
  },
  {
   "cell_type": "code",
   "execution_count": 54,
   "id": "c335f81c",
   "metadata": {},
   "outputs": [],
   "source": [
    "# rename them to more intutive category\n",
    "df[\"New_Item_Type\"]=df[\"New_Item_Type\"].map({\"FD\":\"Food\",\"DR\":\"Drink\",\"NC\":\"Non-concumable\"})"
   ]
  },
  {
   "cell_type": "code",
   "execution_count": 55,
   "id": "7a33edae",
   "metadata": {},
   "outputs": [
    {
     "data": {
      "text/plain": [
       "Food              10201\n",
       "Non-concumable     2686\n",
       "Drink              1317\n",
       "Name: New_Item_Type, dtype: int64"
      ]
     },
     "execution_count": 55,
     "metadata": {},
     "output_type": "execute_result"
    }
   ],
   "source": [
    "df[\"New_Item_Type\"].value_counts()"
   ]
  },
  {
   "cell_type": "markdown",
   "id": "4315ccdd",
   "metadata": {},
   "source": [
    "Now we  conver 16 item category into 3 category "
   ]
  },
  {
   "cell_type": "markdown",
   "id": "81a4c6d2",
   "metadata": {},
   "source": [
    "# If a product is Non-consumable then no fat content are there \n",
    "\n",
    "so we  cerate seperate category (non_eidible )for nan-consumable item in item-fat-content column"
   ]
  },
  {
   "cell_type": "code",
   "execution_count": 56,
   "id": "8def1443",
   "metadata": {},
   "outputs": [],
   "source": [
    "# mark non_consumable in seperate category inlow fat\n",
    "df.loc[df[\"New_Item_Type\"]==\"Non-concumable\",'Item_Fat_Content']=\"Non_Edible\""
   ]
  },
  {
   "cell_type": "code",
   "execution_count": 57,
   "id": "94e3a971",
   "metadata": {},
   "outputs": [
    {
     "data": {
      "text/plain": [
       "Low Fat       6499\n",
       "Regular       5019\n",
       "Non_Edible    2686\n",
       "Name: Item_Fat_Content, dtype: int64"
      ]
     },
     "execution_count": 57,
     "metadata": {},
     "output_type": "execute_result"
    }
   ],
   "source": [
    "df['Item_Fat_Content'].value_counts()"
   ]
  },
  {
   "cell_type": "markdown",
   "id": "04ab1902",
   "metadata": {},
   "source": [
    "# Dealing with catigorical variable"
   ]
  },
  {
   "cell_type": "markdown",
   "id": "a3c15eac",
   "metadata": {},
   "source": [
    "# Lable Encoding\n",
    "\n",
    "chenge categorical value into numerical value"
   ]
  },
  {
   "cell_type": "code",
   "execution_count": 58,
   "id": "57cced22",
   "metadata": {},
   "outputs": [],
   "source": [
    "from sklearn.preprocessing import LabelEncoder\n",
    "le=LabelEncoder()"
   ]
  },
  {
   "cell_type": "code",
   "execution_count": 59,
   "id": "a8547c53",
   "metadata": {},
   "outputs": [],
   "source": [
    "#for chenging all catigorical value into numeric value\n",
    "\n",
    "df=df.apply(le.fit_transform)"
   ]
  },
  {
   "cell_type": "code",
   "execution_count": 60,
   "id": "3d65c088",
   "metadata": {},
   "outputs": [
    {
     "data": {
      "text/html": [
       "<div>\n",
       "<style scoped>\n",
       "    .dataframe tbody tr th:only-of-type {\n",
       "        vertical-align: middle;\n",
       "    }\n",
       "\n",
       "    .dataframe tbody tr th {\n",
       "        vertical-align: top;\n",
       "    }\n",
       "\n",
       "    .dataframe thead th {\n",
       "        text-align: right;\n",
       "    }\n",
       "</style>\n",
       "<table border=\"1\" class=\"dataframe\">\n",
       "  <thead>\n",
       "    <tr style=\"text-align: right;\">\n",
       "      <th></th>\n",
       "      <th>Item_Identifier</th>\n",
       "      <th>Item_Weight</th>\n",
       "      <th>Item_Fat_Content</th>\n",
       "      <th>Item_Visibility</th>\n",
       "      <th>Item_Type</th>\n",
       "      <th>Item_MRP</th>\n",
       "      <th>Outlet_Identifier</th>\n",
       "      <th>Outlet_Establishment_Year</th>\n",
       "      <th>Outlet_Size</th>\n",
       "      <th>Outlet_Location_Type</th>\n",
       "      <th>Outlet_Type</th>\n",
       "      <th>Item_Outlet_Sales</th>\n",
       "      <th>source</th>\n",
       "      <th>Outlet_Years</th>\n",
       "      <th>New_Item_Type</th>\n",
       "    </tr>\n",
       "  </thead>\n",
       "  <tbody>\n",
       "    <tr>\n",
       "      <th>0</th>\n",
       "      <td>156</td>\n",
       "      <td>284</td>\n",
       "      <td>0</td>\n",
       "      <td>1163</td>\n",
       "      <td>4</td>\n",
       "      <td>7567</td>\n",
       "      <td>9</td>\n",
       "      <td>4</td>\n",
       "      <td>1</td>\n",
       "      <td>0</td>\n",
       "      <td>1</td>\n",
       "      <td>2540</td>\n",
       "      <td>1</td>\n",
       "      <td>4</td>\n",
       "      <td>1</td>\n",
       "    </tr>\n",
       "    <tr>\n",
       "      <th>1</th>\n",
       "      <td>8</td>\n",
       "      <td>57</td>\n",
       "      <td>2</td>\n",
       "      <td>1534</td>\n",
       "      <td>14</td>\n",
       "      <td>632</td>\n",
       "      <td>3</td>\n",
       "      <td>8</td>\n",
       "      <td>1</td>\n",
       "      <td>2</td>\n",
       "      <td>2</td>\n",
       "      <td>422</td>\n",
       "      <td>1</td>\n",
       "      <td>0</td>\n",
       "      <td>0</td>\n",
       "    </tr>\n",
       "    <tr>\n",
       "      <th>2</th>\n",
       "      <td>662</td>\n",
       "      <td>376</td>\n",
       "      <td>0</td>\n",
       "      <td>1246</td>\n",
       "      <td>10</td>\n",
       "      <td>3897</td>\n",
       "      <td>9</td>\n",
       "      <td>4</td>\n",
       "      <td>1</td>\n",
       "      <td>0</td>\n",
       "      <td>1</td>\n",
       "      <td>1639</td>\n",
       "      <td>1</td>\n",
       "      <td>4</td>\n",
       "      <td>1</td>\n",
       "    </tr>\n",
       "    <tr>\n",
       "      <th>3</th>\n",
       "      <td>1121</td>\n",
       "      <td>393</td>\n",
       "      <td>2</td>\n",
       "      <td>1376</td>\n",
       "      <td>6</td>\n",
       "      <td>5626</td>\n",
       "      <td>0</td>\n",
       "      <td>3</td>\n",
       "      <td>1</td>\n",
       "      <td>2</td>\n",
       "      <td>0</td>\n",
       "      <td>670</td>\n",
       "      <td>1</td>\n",
       "      <td>5</td>\n",
       "      <td>1</td>\n",
       "    </tr>\n",
       "    <tr>\n",
       "      <th>4</th>\n",
       "      <td>1297</td>\n",
       "      <td>265</td>\n",
       "      <td>1</td>\n",
       "      <td>336</td>\n",
       "      <td>9</td>\n",
       "      <td>848</td>\n",
       "      <td>1</td>\n",
       "      <td>1</td>\n",
       "      <td>0</td>\n",
       "      <td>2</td>\n",
       "      <td>1</td>\n",
       "      <td>865</td>\n",
       "      <td>1</td>\n",
       "      <td>7</td>\n",
       "      <td>2</td>\n",
       "    </tr>\n",
       "  </tbody>\n",
       "</table>\n",
       "</div>"
      ],
      "text/plain": [
       "   Item_Identifier  Item_Weight  Item_Fat_Content  Item_Visibility  Item_Type  \\\n",
       "0              156          284                 0             1163          4   \n",
       "1                8           57                 2             1534         14   \n",
       "2              662          376                 0             1246         10   \n",
       "3             1121          393                 2             1376          6   \n",
       "4             1297          265                 1              336          9   \n",
       "\n",
       "   Item_MRP  Outlet_Identifier  Outlet_Establishment_Year  Outlet_Size  \\\n",
       "0      7567                  9                          4            1   \n",
       "1       632                  3                          8            1   \n",
       "2      3897                  9                          4            1   \n",
       "3      5626                  0                          3            1   \n",
       "4       848                  1                          1            0   \n",
       "\n",
       "   Outlet_Location_Type  Outlet_Type  Item_Outlet_Sales  source  Outlet_Years  \\\n",
       "0                     0            1               2540       1             4   \n",
       "1                     2            2                422       1             0   \n",
       "2                     0            1               1639       1             4   \n",
       "3                     2            0                670       1             5   \n",
       "4                     2            1                865       1             7   \n",
       "\n",
       "   New_Item_Type  \n",
       "0              1  \n",
       "1              0  \n",
       "2              1  \n",
       "3              1  \n",
       "4              2  "
      ]
     },
     "execution_count": 60,
     "metadata": {},
     "output_type": "execute_result"
    }
   ],
   "source": [
    "df.head()"
   ]
  },
  {
   "cell_type": "code",
   "execution_count": 61,
   "id": "950bab77",
   "metadata": {},
   "outputs": [],
   "source": [
    "# only cahnging one value into numericalal value\n",
    "#df[\"Outlet\"]=le.fit_transform(df[\"Outlet_Identifier\"])\n"
   ]
  },
  {
   "cell_type": "markdown",
   "id": "50cd01a9",
   "metadata": {},
   "source": [
    "# Drop the columns which have been converted to different types:\n"
   ]
  },
  {
   "cell_type": "code",
   "execution_count": 62,
   "id": "365f3a43",
   "metadata": {},
   "outputs": [],
   "source": [
    "df.drop([\"Item_Type\",\"Outlet_Establishment_Year\"],axis=1,inplace=True)"
   ]
  },
  {
   "cell_type": "code",
   "execution_count": 63,
   "id": "7f7d7bb3",
   "metadata": {},
   "outputs": [
    {
     "data": {
      "text/html": [
       "<div>\n",
       "<style scoped>\n",
       "    .dataframe tbody tr th:only-of-type {\n",
       "        vertical-align: middle;\n",
       "    }\n",
       "\n",
       "    .dataframe tbody tr th {\n",
       "        vertical-align: top;\n",
       "    }\n",
       "\n",
       "    .dataframe thead th {\n",
       "        text-align: right;\n",
       "    }\n",
       "</style>\n",
       "<table border=\"1\" class=\"dataframe\">\n",
       "  <thead>\n",
       "    <tr style=\"text-align: right;\">\n",
       "      <th></th>\n",
       "      <th>Item_Identifier</th>\n",
       "      <th>Item_Weight</th>\n",
       "      <th>Item_Fat_Content</th>\n",
       "      <th>Item_Visibility</th>\n",
       "      <th>Item_MRP</th>\n",
       "      <th>Outlet_Identifier</th>\n",
       "      <th>Outlet_Size</th>\n",
       "      <th>Outlet_Location_Type</th>\n",
       "      <th>Outlet_Type</th>\n",
       "      <th>Item_Outlet_Sales</th>\n",
       "      <th>source</th>\n",
       "      <th>Outlet_Years</th>\n",
       "      <th>New_Item_Type</th>\n",
       "    </tr>\n",
       "  </thead>\n",
       "  <tbody>\n",
       "    <tr>\n",
       "      <th>0</th>\n",
       "      <td>156</td>\n",
       "      <td>284</td>\n",
       "      <td>0</td>\n",
       "      <td>1163</td>\n",
       "      <td>7567</td>\n",
       "      <td>9</td>\n",
       "      <td>1</td>\n",
       "      <td>0</td>\n",
       "      <td>1</td>\n",
       "      <td>2540</td>\n",
       "      <td>1</td>\n",
       "      <td>4</td>\n",
       "      <td>1</td>\n",
       "    </tr>\n",
       "    <tr>\n",
       "      <th>1</th>\n",
       "      <td>8</td>\n",
       "      <td>57</td>\n",
       "      <td>2</td>\n",
       "      <td>1534</td>\n",
       "      <td>632</td>\n",
       "      <td>3</td>\n",
       "      <td>1</td>\n",
       "      <td>2</td>\n",
       "      <td>2</td>\n",
       "      <td>422</td>\n",
       "      <td>1</td>\n",
       "      <td>0</td>\n",
       "      <td>0</td>\n",
       "    </tr>\n",
       "    <tr>\n",
       "      <th>2</th>\n",
       "      <td>662</td>\n",
       "      <td>376</td>\n",
       "      <td>0</td>\n",
       "      <td>1246</td>\n",
       "      <td>3897</td>\n",
       "      <td>9</td>\n",
       "      <td>1</td>\n",
       "      <td>0</td>\n",
       "      <td>1</td>\n",
       "      <td>1639</td>\n",
       "      <td>1</td>\n",
       "      <td>4</td>\n",
       "      <td>1</td>\n",
       "    </tr>\n",
       "    <tr>\n",
       "      <th>3</th>\n",
       "      <td>1121</td>\n",
       "      <td>393</td>\n",
       "      <td>2</td>\n",
       "      <td>1376</td>\n",
       "      <td>5626</td>\n",
       "      <td>0</td>\n",
       "      <td>1</td>\n",
       "      <td>2</td>\n",
       "      <td>0</td>\n",
       "      <td>670</td>\n",
       "      <td>1</td>\n",
       "      <td>5</td>\n",
       "      <td>1</td>\n",
       "    </tr>\n",
       "    <tr>\n",
       "      <th>4</th>\n",
       "      <td>1297</td>\n",
       "      <td>265</td>\n",
       "      <td>1</td>\n",
       "      <td>336</td>\n",
       "      <td>848</td>\n",
       "      <td>1</td>\n",
       "      <td>0</td>\n",
       "      <td>2</td>\n",
       "      <td>1</td>\n",
       "      <td>865</td>\n",
       "      <td>1</td>\n",
       "      <td>7</td>\n",
       "      <td>2</td>\n",
       "    </tr>\n",
       "  </tbody>\n",
       "</table>\n",
       "</div>"
      ],
      "text/plain": [
       "   Item_Identifier  Item_Weight  Item_Fat_Content  Item_Visibility  Item_MRP  \\\n",
       "0              156          284                 0             1163      7567   \n",
       "1                8           57                 2             1534       632   \n",
       "2              662          376                 0             1246      3897   \n",
       "3             1121          393                 2             1376      5626   \n",
       "4             1297          265                 1              336       848   \n",
       "\n",
       "   Outlet_Identifier  Outlet_Size  Outlet_Location_Type  Outlet_Type  \\\n",
       "0                  9            1                     0            1   \n",
       "1                  3            1                     2            2   \n",
       "2                  9            1                     0            1   \n",
       "3                  0            1                     2            0   \n",
       "4                  1            0                     2            1   \n",
       "\n",
       "   Item_Outlet_Sales  source  Outlet_Years  New_Item_Type  \n",
       "0               2540       1             4              1  \n",
       "1                422       1             0              0  \n",
       "2               1639       1             4              1  \n",
       "3                670       1             5              1  \n",
       "4                865       1             7              2  "
      ]
     },
     "execution_count": 63,
     "metadata": {},
     "output_type": "execute_result"
    }
   ],
   "source": [
    "df.head()"
   ]
  },
  {
   "cell_type": "code",
   "execution_count": 64,
   "id": "4e76d8cd",
   "metadata": {},
   "outputs": [
    {
     "data": {
      "text/plain": [
       "Item_Identifier         int32\n",
       "Item_Weight             int64\n",
       "Item_Fat_Content        int32\n",
       "Item_Visibility         int64\n",
       "Item_MRP                int64\n",
       "Outlet_Identifier       int32\n",
       "Outlet_Size             int32\n",
       "Outlet_Location_Type    int32\n",
       "Outlet_Type             int32\n",
       "Item_Outlet_Sales       int64\n",
       "source                  int32\n",
       "Outlet_Years            int64\n",
       "New_Item_Type           int32\n",
       "dtype: object"
      ]
     },
     "execution_count": 64,
     "metadata": {},
     "output_type": "execute_result"
    }
   ],
   "source": [
    "df.dtypes"
   ]
  },
  {
   "cell_type": "markdown",
   "id": "95011fdd",
   "metadata": {},
   "source": [
    "Here we can see that all variables are now int and each category has a new variable."
   ]
  },
  {
   "cell_type": "code",
   "execution_count": 65,
   "id": "6e37baff",
   "metadata": {},
   "outputs": [
    {
     "data": {
      "text/plain": [
       "1    8523\n",
       "0    5681\n",
       "Name: source, dtype: int64"
      ]
     },
     "execution_count": 65,
     "metadata": {},
     "output_type": "execute_result"
    }
   ],
   "source": [
    "df[\"source\"].value_counts()"
   ]
  },
  {
   "cell_type": "code",
   "execution_count": 66,
   "id": "bdbdbc6d",
   "metadata": {},
   "outputs": [],
   "source": [
    "#Divide into test and train:\n",
    "train= df.loc[df['source']==1]\n",
    "test = df.loc[df['source']==0]"
   ]
  },
  {
   "cell_type": "code",
   "execution_count": 67,
   "id": "40f862ee",
   "metadata": {},
   "outputs": [
    {
     "data": {
      "text/plain": [
       "(8523, 13)"
      ]
     },
     "execution_count": 67,
     "metadata": {},
     "output_type": "execute_result"
    }
   ],
   "source": [
    "train.shape"
   ]
  },
  {
   "cell_type": "code",
   "execution_count": 68,
   "id": "0794efbc",
   "metadata": {},
   "outputs": [
    {
     "data": {
      "text/plain": [
       "(5681, 13)"
      ]
     },
     "execution_count": 68,
     "metadata": {},
     "output_type": "execute_result"
    }
   ],
   "source": [
    "test.shape"
   ]
  },
  {
   "cell_type": "markdown",
   "id": "9c98fcad",
   "metadata": {},
   "source": [
    "# Exporting Data\n",
    "Final step is to convert data back into train and test data sets"
   ]
  },
  {
   "cell_type": "markdown",
   "id": "e24ef7b9",
   "metadata": {},
   "source": [
    "# Drop unnecessary columns:"
   ]
  },
  {
   "cell_type": "code",
   "execution_count": 69,
   "id": "efe7f3f3",
   "metadata": {},
   "outputs": [],
   "source": [
    "#Drop unnecessary columns:\n",
    "test.drop(['Item_Outlet_Sales','source'],axis=1,inplace=True)\n",
    "train.drop(['source'],axis=1,inplace=True)"
   ]
  },
  {
   "cell_type": "code",
   "execution_count": 70,
   "id": "868a3f3c",
   "metadata": {},
   "outputs": [
    {
     "data": {
      "text/plain": [
       "(8523, 12)"
      ]
     },
     "execution_count": 70,
     "metadata": {},
     "output_type": "execute_result"
    }
   ],
   "source": [
    "train.shape"
   ]
  },
  {
   "cell_type": "code",
   "execution_count": 71,
   "id": "68542030",
   "metadata": {},
   "outputs": [
    {
     "data": {
      "text/html": [
       "<div>\n",
       "<style scoped>\n",
       "    .dataframe tbody tr th:only-of-type {\n",
       "        vertical-align: middle;\n",
       "    }\n",
       "\n",
       "    .dataframe tbody tr th {\n",
       "        vertical-align: top;\n",
       "    }\n",
       "\n",
       "    .dataframe thead th {\n",
       "        text-align: right;\n",
       "    }\n",
       "</style>\n",
       "<table border=\"1\" class=\"dataframe\">\n",
       "  <thead>\n",
       "    <tr style=\"text-align: right;\">\n",
       "      <th></th>\n",
       "      <th>Item_Identifier</th>\n",
       "      <th>Item_Weight</th>\n",
       "      <th>Item_Fat_Content</th>\n",
       "      <th>Item_Visibility</th>\n",
       "      <th>Item_MRP</th>\n",
       "      <th>Outlet_Identifier</th>\n",
       "      <th>Outlet_Size</th>\n",
       "      <th>Outlet_Location_Type</th>\n",
       "      <th>Outlet_Type</th>\n",
       "      <th>Item_Outlet_Sales</th>\n",
       "      <th>Outlet_Years</th>\n",
       "      <th>New_Item_Type</th>\n",
       "    </tr>\n",
       "  </thead>\n",
       "  <tbody>\n",
       "    <tr>\n",
       "      <th>0</th>\n",
       "      <td>156</td>\n",
       "      <td>284</td>\n",
       "      <td>0</td>\n",
       "      <td>1163</td>\n",
       "      <td>7567</td>\n",
       "      <td>9</td>\n",
       "      <td>1</td>\n",
       "      <td>0</td>\n",
       "      <td>1</td>\n",
       "      <td>2540</td>\n",
       "      <td>4</td>\n",
       "      <td>1</td>\n",
       "    </tr>\n",
       "    <tr>\n",
       "      <th>1</th>\n",
       "      <td>8</td>\n",
       "      <td>57</td>\n",
       "      <td>2</td>\n",
       "      <td>1534</td>\n",
       "      <td>632</td>\n",
       "      <td>3</td>\n",
       "      <td>1</td>\n",
       "      <td>2</td>\n",
       "      <td>2</td>\n",
       "      <td>422</td>\n",
       "      <td>0</td>\n",
       "      <td>0</td>\n",
       "    </tr>\n",
       "    <tr>\n",
       "      <th>2</th>\n",
       "      <td>662</td>\n",
       "      <td>376</td>\n",
       "      <td>0</td>\n",
       "      <td>1246</td>\n",
       "      <td>3897</td>\n",
       "      <td>9</td>\n",
       "      <td>1</td>\n",
       "      <td>0</td>\n",
       "      <td>1</td>\n",
       "      <td>1639</td>\n",
       "      <td>4</td>\n",
       "      <td>1</td>\n",
       "    </tr>\n",
       "    <tr>\n",
       "      <th>3</th>\n",
       "      <td>1121</td>\n",
       "      <td>393</td>\n",
       "      <td>2</td>\n",
       "      <td>1376</td>\n",
       "      <td>5626</td>\n",
       "      <td>0</td>\n",
       "      <td>1</td>\n",
       "      <td>2</td>\n",
       "      <td>0</td>\n",
       "      <td>670</td>\n",
       "      <td>5</td>\n",
       "      <td>1</td>\n",
       "    </tr>\n",
       "    <tr>\n",
       "      <th>4</th>\n",
       "      <td>1297</td>\n",
       "      <td>265</td>\n",
       "      <td>1</td>\n",
       "      <td>336</td>\n",
       "      <td>848</td>\n",
       "      <td>1</td>\n",
       "      <td>0</td>\n",
       "      <td>2</td>\n",
       "      <td>1</td>\n",
       "      <td>865</td>\n",
       "      <td>7</td>\n",
       "      <td>2</td>\n",
       "    </tr>\n",
       "  </tbody>\n",
       "</table>\n",
       "</div>"
      ],
      "text/plain": [
       "   Item_Identifier  Item_Weight  Item_Fat_Content  Item_Visibility  Item_MRP  \\\n",
       "0              156          284                 0             1163      7567   \n",
       "1                8           57                 2             1534       632   \n",
       "2              662          376                 0             1246      3897   \n",
       "3             1121          393                 2             1376      5626   \n",
       "4             1297          265                 1              336       848   \n",
       "\n",
       "   Outlet_Identifier  Outlet_Size  Outlet_Location_Type  Outlet_Type  \\\n",
       "0                  9            1                     0            1   \n",
       "1                  3            1                     2            2   \n",
       "2                  9            1                     0            1   \n",
       "3                  0            1                     2            0   \n",
       "4                  1            0                     2            1   \n",
       "\n",
       "   Item_Outlet_Sales  Outlet_Years  New_Item_Type  \n",
       "0               2540             4              1  \n",
       "1                422             0              0  \n",
       "2               1639             4              1  \n",
       "3                670             5              1  \n",
       "4                865             7              2  "
      ]
     },
     "execution_count": 71,
     "metadata": {},
     "output_type": "execute_result"
    }
   ],
   "source": [
    "train.head()"
   ]
  },
  {
   "cell_type": "code",
   "execution_count": 72,
   "id": "6688ba8c",
   "metadata": {},
   "outputs": [
    {
     "data": {
      "text/plain": [
       "(5681, 11)"
      ]
     },
     "execution_count": 72,
     "metadata": {},
     "output_type": "execute_result"
    }
   ],
   "source": [
    "test.shape"
   ]
  },
  {
   "cell_type": "code",
   "execution_count": 73,
   "id": "171351f0",
   "metadata": {},
   "outputs": [
    {
     "data": {
      "text/html": [
       "<div>\n",
       "<style scoped>\n",
       "    .dataframe tbody tr th:only-of-type {\n",
       "        vertical-align: middle;\n",
       "    }\n",
       "\n",
       "    .dataframe tbody tr th {\n",
       "        vertical-align: top;\n",
       "    }\n",
       "\n",
       "    .dataframe thead th {\n",
       "        text-align: right;\n",
       "    }\n",
       "</style>\n",
       "<table border=\"1\" class=\"dataframe\">\n",
       "  <thead>\n",
       "    <tr style=\"text-align: right;\">\n",
       "      <th></th>\n",
       "      <th>Item_Identifier</th>\n",
       "      <th>Item_Weight</th>\n",
       "      <th>Item_Fat_Content</th>\n",
       "      <th>Item_Visibility</th>\n",
       "      <th>Item_MRP</th>\n",
       "      <th>Outlet_Identifier</th>\n",
       "      <th>Outlet_Size</th>\n",
       "      <th>Outlet_Location_Type</th>\n",
       "      <th>Outlet_Type</th>\n",
       "      <th>Outlet_Years</th>\n",
       "      <th>New_Item_Type</th>\n",
       "    </tr>\n",
       "  </thead>\n",
       "  <tbody>\n",
       "    <tr>\n",
       "      <th>8523</th>\n",
       "      <td>1114</td>\n",
       "      <td>409</td>\n",
       "      <td>0</td>\n",
       "      <td>176</td>\n",
       "      <td>2699</td>\n",
       "      <td>9</td>\n",
       "      <td>1</td>\n",
       "      <td>0</td>\n",
       "      <td>1</td>\n",
       "      <td>4</td>\n",
       "      <td>1</td>\n",
       "    </tr>\n",
       "    <tr>\n",
       "      <th>8524</th>\n",
       "      <td>1078</td>\n",
       "      <td>226</td>\n",
       "      <td>2</td>\n",
       "      <td>4533</td>\n",
       "      <td>1814</td>\n",
       "      <td>2</td>\n",
       "      <td>1</td>\n",
       "      <td>1</td>\n",
       "      <td>1</td>\n",
       "      <td>1</td>\n",
       "      <td>1</td>\n",
       "    </tr>\n",
       "    <tr>\n",
       "      <th>8525</th>\n",
       "      <td>1420</td>\n",
       "      <td>343</td>\n",
       "      <td>1</td>\n",
       "      <td>10452</td>\n",
       "      <td>7363</td>\n",
       "      <td>0</td>\n",
       "      <td>1</td>\n",
       "      <td>2</td>\n",
       "      <td>0</td>\n",
       "      <td>5</td>\n",
       "      <td>2</td>\n",
       "    </tr>\n",
       "    <tr>\n",
       "      <th>8526</th>\n",
       "      <td>817</td>\n",
       "      <td>158</td>\n",
       "      <td>0</td>\n",
       "      <td>1052</td>\n",
       "      <td>4499</td>\n",
       "      <td>2</td>\n",
       "      <td>1</td>\n",
       "      <td>1</td>\n",
       "      <td>1</td>\n",
       "      <td>1</td>\n",
       "      <td>1</td>\n",
       "    </tr>\n",
       "    <tr>\n",
       "      <th>8527</th>\n",
       "      <td>1197</td>\n",
       "      <td>324</td>\n",
       "      <td>2</td>\n",
       "      <td>11418</td>\n",
       "      <td>7166</td>\n",
       "      <td>5</td>\n",
       "      <td>1</td>\n",
       "      <td>2</td>\n",
       "      <td>3</td>\n",
       "      <td>8</td>\n",
       "      <td>1</td>\n",
       "    </tr>\n",
       "  </tbody>\n",
       "</table>\n",
       "</div>"
      ],
      "text/plain": [
       "      Item_Identifier  Item_Weight  Item_Fat_Content  Item_Visibility  \\\n",
       "8523             1114          409                 0              176   \n",
       "8524             1078          226                 2             4533   \n",
       "8525             1420          343                 1            10452   \n",
       "8526              817          158                 0             1052   \n",
       "8527             1197          324                 2            11418   \n",
       "\n",
       "      Item_MRP  Outlet_Identifier  Outlet_Size  Outlet_Location_Type  \\\n",
       "8523      2699                  9            1                     0   \n",
       "8524      1814                  2            1                     1   \n",
       "8525      7363                  0            1                     2   \n",
       "8526      4499                  2            1                     1   \n",
       "8527      7166                  5            1                     2   \n",
       "\n",
       "      Outlet_Type  Outlet_Years  New_Item_Type  \n",
       "8523            1             4              1  \n",
       "8524            1             1              1  \n",
       "8525            0             5              2  \n",
       "8526            1             1              1  \n",
       "8527            3             8              1  "
      ]
     },
     "execution_count": 73,
     "metadata": {},
     "output_type": "execute_result"
    }
   ],
   "source": [
    "test.head()"
   ]
  },
  {
   "cell_type": "markdown",
   "id": "f237aed2",
   "metadata": {},
   "source": [
    "# Export files as modified versions:"
   ]
  },
  {
   "cell_type": "code",
   "execution_count": 74,
   "id": "2cd03316",
   "metadata": {},
   "outputs": [],
   "source": [
    "\n",
    "#Export files as modified versions:\n",
    "train.to_csv(\"train_mod.csv\",index=False)\n",
    "test.to_csv(\"test_mo.csv\",index=False)"
   ]
  },
  {
   "cell_type": "markdown",
   "id": "91b45c3e",
   "metadata": {},
   "source": [
    "#  Use Train data file for the model building purpose and  Test file for getting predictions from the trained model."
   ]
  },
  {
   "cell_type": "markdown",
   "id": "36d321a3",
   "metadata": {},
   "source": [
    "# Training and testing data  Seperation"
   ]
  },
  {
   "cell_type": "code",
   "execution_count": 75,
   "id": "8e2f3507",
   "metadata": {},
   "outputs": [],
   "source": [
    "x=train.drop(\"Item_Outlet_Sales\",axis=1)\n",
    "y=train[\"Item_Outlet_Sales\"]\n"
   ]
  },
  {
   "cell_type": "code",
   "execution_count": 76,
   "id": "95632ad9",
   "metadata": {},
   "outputs": [
    {
     "name": "stdout",
     "output_type": "stream",
     "text": [
      "(8523, 11)\n",
      "(8523,)\n"
     ]
    }
   ],
   "source": [
    "print(x.shape)\n",
    "print(y.shape)"
   ]
  },
  {
   "cell_type": "markdown",
   "id": "9e93b9e0",
   "metadata": {},
   "source": [
    "# check for Skewness"
   ]
  },
  {
   "cell_type": "code",
   "execution_count": 77,
   "id": "8c238787",
   "metadata": {},
   "outputs": [
    {
     "data": {
      "text/plain": [
       "Item_Identifier        -0.008877\n",
       "Item_Weight            -1.419989\n",
       "Item_Fat_Content        0.211160\n",
       "Item_Visibility        -0.010787\n",
       "Item_MRP                0.021503\n",
       "Outlet_Identifier      -0.059861\n",
       "Outlet_Size            -0.087072\n",
       "Outlet_Location_Type   -0.209093\n",
       "Outlet_Type             0.927438\n",
       "Outlet_Years           -0.034270\n",
       "New_Item_Type           0.114510\n",
       "dtype: float64"
      ]
     },
     "execution_count": 77,
     "metadata": {},
     "output_type": "execute_result"
    }
   ],
   "source": [
    "x.skew()"
   ]
  },
  {
   "cell_type": "markdown",
   "id": "58625b8b",
   "metadata": {},
   "source": [
    "# Remove Skewness"
   ]
  },
  {
   "cell_type": "code",
   "execution_count": 78,
   "id": "1f3b2030",
   "metadata": {},
   "outputs": [],
   "source": [
    "#remove skewness using power transform\n",
    "\n",
    "from sklearn.preprocessing import power_transform\n",
    "df_skew=power_transform(x)\n",
    "\n",
    "df_skew=pd.DataFrame(df_skew,columns=x.columns)"
   ]
  },
  {
   "cell_type": "code",
   "execution_count": 79,
   "id": "c30ca2d6",
   "metadata": {},
   "outputs": [],
   "source": [
    "# check skewness are removed or not"
   ]
  },
  {
   "cell_type": "code",
   "execution_count": 80,
   "id": "66746eaf",
   "metadata": {},
   "outputs": [
    {
     "data": {
      "text/plain": [
       "Item_Identifier        -0.293700\n",
       "Item_Weight            -0.627329\n",
       "Item_Fat_Content        0.036072\n",
       "Item_Visibility        -0.296226\n",
       "Item_MRP               -0.280149\n",
       "Outlet_Identifier      -0.213935\n",
       "Outlet_Size            -0.042980\n",
       "Outlet_Location_Type   -0.220632\n",
       "Outlet_Type             0.007863\n",
       "Outlet_Years           -0.220845\n",
       "New_Item_Type           0.050021\n",
       "dtype: float64"
      ]
     },
     "execution_count": 80,
     "metadata": {},
     "output_type": "execute_result"
    }
   ],
   "source": [
    "df_skew.skew()"
   ]
  },
  {
   "cell_type": "code",
   "execution_count": 81,
   "id": "680345ff",
   "metadata": {},
   "outputs": [],
   "source": [
    "df=df_skew\n",
    "x=df_skew"
   ]
  },
  {
   "cell_type": "markdown",
   "id": "d8ad0f24",
   "metadata": {},
   "source": [
    "# Multicollinerity"
   ]
  },
  {
   "cell_type": "code",
   "execution_count": 82,
   "id": "32e25f03",
   "metadata": {},
   "outputs": [],
   "source": [
    "from statsmodels.stats.outliers_influence import variance_inflation_factor\n",
    "def cal_vif(x):\n",
    "    vif=pd.DataFrame()\n",
    "    vif['variables']=x.columns\n",
    "    vif[\"vif_factor\"]=[variance_inflation_factor(x.values,i) for i in range (x.shape[1])]\n",
    "    return(vif)"
   ]
  },
  {
   "cell_type": "code",
   "execution_count": 83,
   "id": "255f465f",
   "metadata": {},
   "outputs": [
    {
     "data": {
      "text/html": [
       "<div>\n",
       "<style scoped>\n",
       "    .dataframe tbody tr th:only-of-type {\n",
       "        vertical-align: middle;\n",
       "    }\n",
       "\n",
       "    .dataframe tbody tr th {\n",
       "        vertical-align: top;\n",
       "    }\n",
       "\n",
       "    .dataframe thead th {\n",
       "        text-align: right;\n",
       "    }\n",
       "</style>\n",
       "<table border=\"1\" class=\"dataframe\">\n",
       "  <thead>\n",
       "    <tr style=\"text-align: right;\">\n",
       "      <th></th>\n",
       "      <th>variables</th>\n",
       "      <th>vif_factor</th>\n",
       "    </tr>\n",
       "  </thead>\n",
       "  <tbody>\n",
       "    <tr>\n",
       "      <th>0</th>\n",
       "      <td>Item_Identifier</td>\n",
       "      <td>2.655798</td>\n",
       "    </tr>\n",
       "    <tr>\n",
       "      <th>1</th>\n",
       "      <td>Item_Weight</td>\n",
       "      <td>1.007522</td>\n",
       "    </tr>\n",
       "    <tr>\n",
       "      <th>2</th>\n",
       "      <td>Item_Fat_Content</td>\n",
       "      <td>1.096662</td>\n",
       "    </tr>\n",
       "    <tr>\n",
       "      <th>3</th>\n",
       "      <td>Item_Visibility</td>\n",
       "      <td>1.035456</td>\n",
       "    </tr>\n",
       "    <tr>\n",
       "      <th>4</th>\n",
       "      <td>Item_MRP</td>\n",
       "      <td>1.002203</td>\n",
       "    </tr>\n",
       "    <tr>\n",
       "      <th>5</th>\n",
       "      <td>Outlet_Identifier</td>\n",
       "      <td>4.791511</td>\n",
       "    </tr>\n",
       "    <tr>\n",
       "      <th>6</th>\n",
       "      <td>Outlet_Size</td>\n",
       "      <td>1.707206</td>\n",
       "    </tr>\n",
       "    <tr>\n",
       "      <th>7</th>\n",
       "      <td>Outlet_Location_Type</td>\n",
       "      <td>5.469669</td>\n",
       "    </tr>\n",
       "    <tr>\n",
       "      <th>8</th>\n",
       "      <td>Outlet_Type</td>\n",
       "      <td>2.855706</td>\n",
       "    </tr>\n",
       "    <tr>\n",
       "      <th>9</th>\n",
       "      <td>Outlet_Years</td>\n",
       "      <td>1.048121</td>\n",
       "    </tr>\n",
       "    <tr>\n",
       "      <th>10</th>\n",
       "      <td>New_Item_Type</td>\n",
       "      <td>2.717529</td>\n",
       "    </tr>\n",
       "  </tbody>\n",
       "</table>\n",
       "</div>"
      ],
      "text/plain": [
       "               variables  vif_factor\n",
       "0        Item_Identifier    2.655798\n",
       "1            Item_Weight    1.007522\n",
       "2       Item_Fat_Content    1.096662\n",
       "3        Item_Visibility    1.035456\n",
       "4               Item_MRP    1.002203\n",
       "5      Outlet_Identifier    4.791511\n",
       "6            Outlet_Size    1.707206\n",
       "7   Outlet_Location_Type    5.469669\n",
       "8            Outlet_Type    2.855706\n",
       "9           Outlet_Years    1.048121\n",
       "10         New_Item_Type    2.717529"
      ]
     },
     "execution_count": 83,
     "metadata": {},
     "output_type": "execute_result"
    }
   ],
   "source": [
    "cal_vif(x)"
   ]
  },
  {
   "cell_type": "markdown",
   "id": "c97f44ee",
   "metadata": {},
   "source": [
    "# Data Standardization"
   ]
  },
  {
   "cell_type": "code",
   "execution_count": 84,
   "id": "a34ff50f",
   "metadata": {},
   "outputs": [
    {
     "data": {
      "text/plain": [
       "array([[-1.46103862, -0.40172171, -1.04308434, ..., -0.12348771,\n",
       "         0.00908778, -0.17167574],\n",
       "       [-2.09385818, -2.07096731,  1.15791956, ...,  1.04059102,\n",
       "        -1.68596559, -2.12615212],\n",
       "       [-0.15401841,  0.9641594 , -1.04308434, ..., -0.12348771,\n",
       "         0.00908778, -0.17167574],\n",
       "       ...,\n",
       "       [ 1.20607271, -0.20686172,  0.3790483 , ..., -0.12348771,\n",
       "        -0.75051768,  1.7200184 ],\n",
       "       [-0.11255898, -1.67778851,  1.15791956, ...,  1.04059102,\n",
       "        -1.68596559, -0.17167574],\n",
       "       [-1.86245653,  0.48940718, -1.04308434, ..., -0.12348771,\n",
       "         0.68514161, -2.12615212]])"
      ]
     },
     "execution_count": 84,
     "metadata": {},
     "output_type": "execute_result"
    }
   ],
   "source": [
    "# Scaling the Feature data\n",
    "\n",
    "from sklearn.preprocessing import StandardScaler\n",
    "SC=StandardScaler()\n",
    "x=SC.fit_transform(x)\n",
    "x"
   ]
  },
  {
   "cell_type": "markdown",
   "id": "508dca3f",
   "metadata": {},
   "source": [
    "# Train Test Split"
   ]
  },
  {
   "cell_type": "code",
   "execution_count": 85,
   "id": "a77a5fda",
   "metadata": {},
   "outputs": [],
   "source": [
    "from sklearn.model_selection import train_test_split\n",
    "x_train, x_test, y_train, y_test = train_test_split(x,y, test_size = 0.20, random_state=100)"
   ]
  },
  {
   "cell_type": "code",
   "execution_count": 86,
   "id": "41b2e2e7",
   "metadata": {},
   "outputs": [
    {
     "name": "stdout",
     "output_type": "stream",
     "text": [
      "shape of x_train=  (6818, 11)\n",
      "shape of y_train=  (6818,)\n",
      "shape of x_test=  (1705, 11)\n",
      "shape of y_test=  (1705,)\n"
     ]
    }
   ],
   "source": [
    "print(\"shape of x_train= \",x_train.shape)\n",
    "print(\"shape of y_train= \",y_train.shape)\n",
    "print(\"shape of x_test= \",x_test.shape)\n",
    "print(\"shape of y_test= \",y_test.shape)"
   ]
  },
  {
   "cell_type": "markdown",
   "id": "486ed861",
   "metadata": {},
   "source": [
    "# FINDING BEST RANDOM STATE"
   ]
  },
  {
   "cell_type": "code",
   "execution_count": 87,
   "id": "12a701dd",
   "metadata": {},
   "outputs": [],
   "source": [
    "#train test split and #cross validation\n",
    "from sklearn.model_selection import train_test_split, GridSearchCV, cross_val_score\n",
    "from scipy.stats import zscore\n",
    "\n",
    "#metrics\n",
    "from sklearn.metrics import confusion_matrix, classification_report,accuracy_score\n",
    "from sklearn.metrics import r2_score,mean_squared_error\n",
    "\n",
    "#ML models\n",
    "import sklearn\n",
    "from sklearn.linear_model import LogisticRegression\n",
    "from sklearn.linear_model import LinearRegression, Ridge, Lasso\n",
    "from sklearn.ensemble import RandomForestRegressor\n"
   ]
  },
  {
   "cell_type": "code",
   "execution_count": 88,
   "id": "07d7f114",
   "metadata": {},
   "outputs": [
    {
     "name": "stdout",
     "output_type": "stream",
     "text": [
      "testing accuracy  0.5754096583963906  random state = 0\n",
      " max accuracy score 0.5754096583963906  max random state = 0\n",
      "testing accuracy  0.5816752473255367  random state = 1\n",
      " max accuracy score 0.5816752473255367  max random state = 1\n",
      "testing accuracy  0.5910607155263304  random state = 2\n",
      " max accuracy score 0.5910607155263304  max random state = 2\n",
      "testing accuracy  0.6035548371814236  random state = 3\n",
      " max accuracy score 0.6035548371814236  max random state = 3\n",
      "testing accuracy  0.575633698613996  random state = 4\n",
      "testing accuracy  0.582494252083149  random state = 5\n",
      "testing accuracy  0.580244146164496  random state = 6\n",
      "testing accuracy  0.5622273321498656  random state = 7\n",
      "testing accuracy  0.599194659492907  random state = 8\n",
      "testing accuracy  0.5746943295651415  random state = 9\n",
      "testing accuracy  0.5729045281823176  random state = 10\n",
      "testing accuracy  0.5650937148251556  random state = 11\n",
      "testing accuracy  0.5885060330238925  random state = 12\n",
      "testing accuracy  0.5786551118637805  random state = 13\n",
      "testing accuracy  0.5864768725833509  random state = 14\n",
      "testing accuracy  0.5935740993977355  random state = 15\n",
      "testing accuracy  0.5788268455614441  random state = 16\n",
      "testing accuracy  0.5841744687099804  random state = 17\n",
      "testing accuracy  0.5679934610984916  random state = 18\n",
      "testing accuracy  0.5789771028841575  random state = 19\n",
      "testing accuracy  0.5888807385517381  random state = 20\n",
      "testing accuracy  0.5968164423314437  random state = 21\n",
      "testing accuracy  0.5746829602177677  random state = 22\n",
      "testing accuracy  0.5851162569928295  random state = 23\n",
      "testing accuracy  0.5800036364848595  random state = 24\n",
      "testing accuracy  0.578247813706426  random state = 25\n",
      "testing accuracy  0.5755863326189592  random state = 26\n",
      "testing accuracy  0.570834124709724  random state = 27\n",
      "testing accuracy  0.5997099932608301  random state = 28\n",
      "testing accuracy  0.5807047458282899  random state = 29\n",
      "testing accuracy  0.5731041257816228  random state = 30\n",
      "testing accuracy  0.5937270346606991  random state = 31\n",
      "testing accuracy  0.58095870710057  random state = 32\n",
      "testing accuracy  0.5836965922745726  random state = 33\n",
      "testing accuracy  0.5798598567707038  random state = 34\n",
      "testing accuracy  0.5736178953580605  random state = 35\n",
      "testing accuracy  0.5695884533076891  random state = 36\n",
      "testing accuracy  0.5640091969205194  random state = 37\n",
      "testing accuracy  0.5578019462992431  random state = 38\n",
      "testing accuracy  0.5910986025125676  random state = 39\n",
      "testing accuracy  0.5822322065601615  random state = 40\n",
      "testing accuracy  0.5557308584007152  random state = 41\n",
      "testing accuracy  0.5836668696293044  random state = 42\n",
      "testing accuracy  0.5854638829922371  random state = 43\n",
      "testing accuracy  0.5924986590091281  random state = 44\n",
      "testing accuracy  0.5714282890419247  random state = 45\n",
      "testing accuracy  0.5739239346269032  random state = 46\n",
      "testing accuracy  0.5625943547230063  random state = 47\n",
      "testing accuracy  0.5791170076957526  random state = 48\n",
      "testing accuracy  0.5836917703790452  random state = 49\n",
      "testing accuracy  0.5892630776404062  random state = 50\n",
      "testing accuracy  0.5672423022173885  random state = 51\n",
      "testing accuracy  0.5839320758066227  random state = 52\n",
      "testing accuracy  0.5915961029160051  random state = 53\n",
      "testing accuracy  0.5950732452951586  random state = 54\n",
      "testing accuracy  0.5808471567143407  random state = 55\n",
      "testing accuracy  0.5639069693356491  random state = 56\n",
      "testing accuracy  0.5810358199045782  random state = 57\n",
      "testing accuracy  0.5745538931588663  random state = 58\n",
      "testing accuracy  0.5753799169428019  random state = 59\n",
      "testing accuracy  0.5973705427378978  random state = 60\n",
      "testing accuracy  0.561825091530312  random state = 61\n",
      "testing accuracy  0.5883638261159425  random state = 62\n",
      "testing accuracy  0.6006238426126523  random state = 63\n",
      "testing accuracy  0.5656694866801752  random state = 64\n",
      "testing accuracy  0.5917065128576011  random state = 65\n",
      "testing accuracy  0.5692866636209271  random state = 66\n",
      "testing accuracy  0.5872325963301883  random state = 67\n",
      "testing accuracy  0.5747526560789934  random state = 68\n",
      "testing accuracy  0.5910822660016888  random state = 69\n",
      "testing accuracy  0.5923913647277699  random state = 70\n",
      "testing accuracy  0.5845239379581766  random state = 71\n",
      "testing accuracy  0.5893065034923222  random state = 72\n",
      "testing accuracy  0.5769452110754765  random state = 73\n",
      "testing accuracy  0.5742851190372686  random state = 74\n",
      "testing accuracy  0.5824514342525448  random state = 75\n",
      "testing accuracy  0.6084996206895176  random state = 76\n",
      " max accuracy score 0.6084996206895176  max random state = 76\n",
      "testing accuracy  0.5686527148059568  random state = 77\n",
      "testing accuracy  0.5711076483806596  random state = 78\n",
      "testing accuracy  0.5916906637203183  random state = 79\n",
      "testing accuracy  0.5940516934419233  random state = 80\n",
      "testing accuracy  0.5785523395478125  random state = 81\n",
      "testing accuracy  0.581418199885908  random state = 82\n",
      "testing accuracy  0.5835060283945726  random state = 83\n",
      "testing accuracy  0.5923259361097712  random state = 84\n",
      "testing accuracy  0.5839325736998626  random state = 85\n",
      "testing accuracy  0.5842187153785359  random state = 86\n",
      "testing accuracy  0.570880733338696  random state = 87\n",
      "testing accuracy  0.6040366168800804  random state = 88\n",
      "testing accuracy  0.5877311282818227  random state = 89\n",
      "testing accuracy  0.5523485955258668  random state = 90\n",
      "testing accuracy  0.5731446928303436  random state = 91\n",
      "testing accuracy  0.5828216402428805  random state = 92\n",
      "testing accuracy  0.5806202394928283  random state = 93\n",
      "testing accuracy  0.5835813988722501  random state = 94\n",
      "testing accuracy  0.5870771572402111  random state = 95\n",
      "testing accuracy  0.5785586863790366  random state = 96\n",
      "testing accuracy  0.5883260030181272  random state = 97\n",
      "testing accuracy  0.5625759893661577  random state = 98\n",
      "testing accuracy  0.6018917054237405  random state = 99\n"
     ]
    }
   ],
   "source": [
    "max_accu=0 #maxi accuracy define as 0\n",
    "max_rs=0# best random state for which max accurecy achived\n",
    "\n",
    "lr=LinearRegression()\n",
    " \n",
    "for i in range(0,100):\n",
    "    x_train, x_test, y_train, y_test = train_test_split( x, y, test_size=.25, random_state=i)\n",
    "    \n",
    "    lr.fit(x_train,y_train)\n",
    "\n",
    "    predlr=lr.predict(x_test)# predicted target variable\n",
    "    \n",
    "    acc=r2_score(y_test,predlr)# accuracy score\n",
    "    \n",
    "    print(\"testing accuracy \",acc, \" random state =\", i)\n",
    "    if acc>max_accu:\n",
    "        max_accu=acc\n",
    "        max_rs=i\n",
    "        print(\" max accuracy score\",acc, \" max random state =\",i)"
   ]
  },
  {
   "cell_type": "code",
   "execution_count": 89,
   "id": "3843ef7c",
   "metadata": {},
   "outputs": [
    {
     "name": "stdout",
     "output_type": "stream",
     "text": [
      " max r2 score 0.6084996206895176  max random state = 76\n"
     ]
    }
   ],
   "source": [
    "print(\" max r2 score\",max_accu, \" max random state =\", max_rs)"
   ]
  },
  {
   "cell_type": "markdown",
   "id": "217fe02b",
   "metadata": {},
   "source": [
    "# Model Building"
   ]
  },
  {
   "cell_type": "markdown",
   "id": "9c63d2a1",
   "metadata": {},
   "source": [
    "# Linear Regression Model Build:"
   ]
  },
  {
   "cell_type": "code",
   "execution_count": 90,
   "id": "155e84ff",
   "metadata": {},
   "outputs": [
    {
     "name": "stdout",
     "output_type": "stream",
     "text": [
      "58.10358199045782\n",
      "356759.77178562095\n",
      "597.2937064674471\n"
     ]
    }
   ],
   "source": [
    " x_train, x_test, y_train, y_test = train_test_split( x, y, test_size=.25, random_state=57)\n",
    "lr = LinearRegression()\n",
    "lr.fit(x_train,y_train)\n",
    "predlr = lr.predict(x_test)\n",
    "print(r2_score(y_test,predlr)*100)\n",
    "print(mean_squared_error(y_test,predlr))\n",
    "print(np.sqrt(mean_squared_error(y_test,predlr)))"
   ]
  },
  {
   "cell_type": "code",
   "execution_count": 91,
   "id": "2486c544",
   "metadata": {},
   "outputs": [
    {
     "name": "stdout",
     "output_type": "stream",
     "text": [
      " At cv = 4\n",
      "Cross validation score for Linear Regression Model is  58.12423199705285\n",
      " At cv = 5\n",
      "Cross validation score for Linear Regression Model is  58.187370536746116\n",
      " At cv = 6\n",
      "Cross validation score for Linear Regression Model is  58.18654932109716\n",
      " At cv = 7\n",
      "Cross validation score for Linear Regression Model is  58.22257021577381\n",
      " At cv = 8\n",
      "Cross validation score for Linear Regression Model is  58.165451776480126\n",
      " At cv = 9\n",
      "Cross validation score for Linear Regression Model is  58.19013480817961\n"
     ]
    }
   ],
   "source": [
    "for j in range(4,10):\n",
    "    scr = cross_val_score(lr,x,y,cv=j)\n",
    "    print(\" At cv =\",j)\n",
    "    print('Cross validation score for Linear Regression Model is ',scr.mean()*100)"
   ]
  },
  {
   "cell_type": "code",
   "execution_count": 92,
   "id": "89c26c31",
   "metadata": {},
   "outputs": [
    {
     "name": "stdout",
     "output_type": "stream",
     "text": [
      "Linear Regression Model Difference is  -0.25\n"
     ]
    }
   ],
   "source": [
    "#Linear Regression Model Difference is \n",
    "print(\"Linear Regression Model Difference is \",55.22 - 55.47)"
   ]
  },
  {
   "cell_type": "markdown",
   "id": "081e7266",
   "metadata": {},
   "source": [
    "# Here we have solve the problem of overfitting and underfittings¶"
   ]
  },
  {
   "cell_type": "code",
   "execution_count": 93,
   "id": "776e3b6f",
   "metadata": {},
   "outputs": [
    {
     "data": {
      "image/png": "[encoded data removed]",
      "text/plain": [
       "<Figure size 720x504 with 1 Axes>"
      ]
     },
     "metadata": {
      "needs_background": "light"
     },
     "output_type": "display_data"
    }
   ],
   "source": [
    "plt.figure(figsize=(10,7))\n",
    "plt.scatter(x=y_test,y=predlr,color=\"b\")\n",
    "plt.plot(y_test,y_test,color=\"r\")\n",
    "plt.xlabel(\"Actual Item_Outlet_Sales\",fontsize=14)\n",
    "plt.ylabel(\"Predicted Item_Outlet_Sales\",fontsize=14)\n",
    "plt.title(\"LINEAR REGRESSION\")\n",
    "plt.savefig('lr.png')\n",
    "plt.show()"
   ]
  },
  {
   "cell_type": "markdown",
   "id": "c8565868",
   "metadata": {},
   "source": [
    "# Regulerization :\n",
    "Use Ridge and Lasso Regression to control underfitting and overfitting"
   ]
  },
  {
   "cell_type": "code",
   "execution_count": 94,
   "id": "06292b7d",
   "metadata": {},
   "outputs": [
    {
     "name": "stdout",
     "output_type": "stream",
     "text": [
      "58.103190468506405\n",
      "356763.10570505064\n",
      "597.2964973152367\n"
     ]
    }
   ],
   "source": [
    "r = Ridge()\n",
    "r.fit(x_train,y_train)\n",
    "predr = r.predict(x_test)\n",
    "print(r2_score(y_test,predr)*100)\n",
    "print(mean_squared_error(y_test,predr))\n",
    "print(np.sqrt(mean_squared_error(y_test,predr)))"
   ]
  },
  {
   "cell_type": "code",
   "execution_count": 95,
   "id": "8c46eb18",
   "metadata": {},
   "outputs": [
    {
     "name": "stdout",
     "output_type": "stream",
     "text": [
      " At cv = 4\n",
      "Cross validation score for Ridge Regression Model is  58.1242921159388\n",
      " At cv = 5\n",
      "Cross validation score for Ridge Regression Model is  58.18742972736312\n",
      " At cv = 6\n",
      "Cross validation score for Ridge Regression Model is  58.18659000764354\n",
      " At cv = 7\n",
      "Cross validation score for Ridge Regression Model is  58.222618557376414\n",
      " At cv = 8\n",
      "Cross validation score for Ridge Regression Model is  58.16550262583738\n",
      " At cv = 9\n",
      "Cross validation score for Ridge Regression Model is  58.190161722144815\n"
     ]
    }
   ],
   "source": [
    "for j in range(4,10):\n",
    "    scr = cross_val_score(r,x,y,cv=j)\n",
    "    print(\" At cv =\",j)\n",
    "    print('Cross validation score for Ridge Regression Model is ',scr.mean()*100)"
   ]
  },
  {
   "cell_type": "code",
   "execution_count": 96,
   "id": "53acd808",
   "metadata": {},
   "outputs": [
    {
     "name": "stdout",
     "output_type": "stream",
     "text": [
      "Ridge Regression Model Difference is -0.25\n"
     ]
    }
   ],
   "source": [
    "print(\"Ridge Regression Model Difference is\", 58.22 - 58.47)"
   ]
  },
  {
   "cell_type": "code",
   "execution_count": 97,
   "id": "241c4f2c",
   "metadata": {},
   "outputs": [
    {
     "data": {
      "image/png": "[encoded data removed]",
      "text/plain": [
       "<Figure size 720x504 with 1 Axes>"
      ]
     },
     "metadata": {
      "needs_background": "light"
     },
     "output_type": "display_data"
    }
   ],
   "source": [
    "plt.figure(figsize=(10,7))\n",
    "plt.scatter(x=y_test,y=predr,color=\"b\")\n",
    "plt.plot(y_test,y_test,color=\"r\")\n",
    "plt.xlabel(\"Actual Item_Outlet_Sales\",fontsize=14)\n",
    "plt.ylabel(\"Predicted Item_Outlet_Sales\",fontsize=14)\n",
    "plt.title(\"Linear Regression for Ridge Regression\")\n",
    "plt.savefig('lr.png')\n",
    "plt.show()"
   ]
  },
  {
   "cell_type": "markdown",
   "id": "ee0f3ca2",
   "metadata": {},
   "source": [
    "Lenear Regration Graph for Ridge model"
   ]
  },
  {
   "cell_type": "code",
   "execution_count": 98,
   "id": "650e772a",
   "metadata": {},
   "outputs": [
    {
     "name": "stdout",
     "output_type": "stream",
     "text": [
      "58.09546916917013\n",
      "356828.8547384995\n",
      "597.3515336370198\n"
     ]
    }
   ],
   "source": [
    "l = Lasso()\n",
    "l.fit(x_train,y_train)\n",
    "predl = l.predict(x_test)\n",
    "print(r2_score(y_test,predl)*100)\n",
    "print(mean_squared_error(y_test,predl))\n",
    "print(np.sqrt(mean_squared_error(y_test,predl)))"
   ]
  },
  {
   "cell_type": "code",
   "execution_count": 99,
   "id": "6be76576",
   "metadata": {},
   "outputs": [
    {
     "name": "stdout",
     "output_type": "stream",
     "text": [
      " At cv = 4\n",
      "Cross validation score for LassoRegression Model is  58.13120536179888\n",
      " At cv = 5\n",
      "Cross validation score for LassoRegression Model is  58.19247199644726\n",
      " At cv = 6\n",
      "Cross validation score for LassoRegression Model is  58.191843047067024\n",
      " At cv = 7\n",
      "Cross validation score for LassoRegression Model is  58.22544745975272\n",
      " At cv = 8\n",
      "Cross validation score for LassoRegression Model is  58.17091976749842\n",
      " At cv = 9\n",
      "Cross validation score for LassoRegression Model is  58.19166214305073\n"
     ]
    }
   ],
   "source": [
    "for j in range(4,10):\n",
    "    scr = cross_val_score(l,x,y,cv=j)\n",
    "    print(\" At cv =\",j)\n",
    "    print('Cross validation score for LassoRegression Model is ',scr.mean()*100)"
   ]
  },
  {
   "cell_type": "code",
   "execution_count": 100,
   "id": "dfaae56f",
   "metadata": {},
   "outputs": [
    {
     "name": "stdout",
     "output_type": "stream",
     "text": [
      "Lasso Regression Model Difference is -0.25\n"
     ]
    }
   ],
   "source": [
    "print(\"Lasso Regression Model Difference is\", 58.22- 58.47)"
   ]
  },
  {
   "cell_type": "code",
   "execution_count": 101,
   "id": "2a39b7d5",
   "metadata": {},
   "outputs": [
    {
     "data": {
      "image/png": "[encoded data removed]",
      "text/plain": [
       "<Figure size 720x504 with 1 Axes>"
      ]
     },
     "metadata": {
      "needs_background": "light"
     },
     "output_type": "display_data"
    }
   ],
   "source": [
    "plt.figure(figsize=(10,7))\n",
    "plt.scatter(x=y_test,y=predl,color=\"b\")\n",
    "plt.plot(y_test,y_test,color=\"r\")\n",
    "plt.xlabel(\"Actual Item_Outlet_Sales\",fontsize=14)\n",
    "plt.ylabel(\"Predicted Item_Outlet_Sales\",fontsize=14)\n",
    "plt.title(\"LINEAR REGRESSION for Lasso Regression\")\n",
    "plt.savefig('l.png')\n",
    "plt.show()"
   ]
  },
  {
   "cell_type": "markdown",
   "id": "a73c8f8c",
   "metadata": {},
   "source": [
    "Random Forest Regressor Model Build:"
   ]
  },
  {
   "cell_type": "code",
   "execution_count": 102,
   "id": "f7c80e0b",
   "metadata": {},
   "outputs": [
    {
     "name": "stdout",
     "output_type": "stream",
     "text": [
      "r2 score=  61.58453734850917\n",
      "MSE=  327118.4588015016\n",
      "RMSE=  571.9427058731509\n"
     ]
    }
   ],
   "source": [
    "rf = RandomForestRegressor()\n",
    "rf.fit(x_train,y_train)\n",
    "predrf = rf.predict(x_test)\n",
    "print(\"r2 score= \",r2_score(y_test,predrf)*100)\n",
    "print(\"MSE= \",mean_squared_error(y_test,predrf))\n",
    "print(\"RMSE= \",np.sqrt(mean_squared_error(y_test,predrf)))"
   ]
  },
  {
   "cell_type": "code",
   "execution_count": 103,
   "id": "4e4ef912",
   "metadata": {},
   "outputs": [
    {
     "name": "stdout",
     "output_type": "stream",
     "text": [
      " At cv = 4\n",
      "Cross validation score for RandomForestRegresso Model is  61.47804803829291\n",
      " At cv = 5\n",
      "Cross validation score for RandomForestRegresso Model is  61.353254602062954\n",
      " At cv = 6\n",
      "Cross validation score for RandomForestRegresso Model is  61.81193258008949\n",
      " At cv = 7\n",
      "Cross validation score for RandomForestRegresso Model is  61.58266563841883\n",
      " At cv = 8\n",
      "Cross validation score for RandomForestRegresso Model is  61.73751082352097\n",
      " At cv = 9\n",
      "Cross validation score for RandomForestRegresso Model is  61.677966325247255\n"
     ]
    }
   ],
   "source": [
    "for j in range(4,10):\n",
    "    scr = cross_val_score(rf,x,y,cv=j)\n",
    "    print(\" At cv =\",j)\n",
    "    print('Cross validation score for RandomForestRegresso Model is ',scr.mean()*100)"
   ]
  },
  {
   "cell_type": "markdown",
   "id": "725eda85",
   "metadata": {},
   "source": [
    "choosing best model\n",
    "Random Forest Regressor Model is our best model:\n",
    "\n",
    "minimum difference between cross validation and r2 score\n",
    "\n",
    "Lenear Regression graph for Random Forest Regressor Model"
   ]
  },
  {
   "cell_type": "code",
   "execution_count": 104,
   "id": "5153ed07",
   "metadata": {},
   "outputs": [
    {
     "data": {
      "image/png": "[encoded data removed]",
      "text/plain": [
       "<Figure size 720x504 with 1 Axes>"
      ]
     },
     "metadata": {
      "needs_background": "light"
     },
     "output_type": "display_data"
    }
   ],
   "source": [
    "plt.figure(figsize=(10,7))\n",
    "plt.scatter(x=y_test,y=predrf,color=\"b\")\n",
    "plt.plot(y_test,y_test,color=\"r\")\n",
    "plt.xlabel(\"Actual Item_Outlet_Sales\",fontsize=14)\n",
    "plt.ylabel(\"Predicted Item_Outlet_Sales\",fontsize=14)\n",
    "plt.title(\"LINEAR REGRESSION for Random Forest\")\n",
    "plt.savefig('lr.png')\n",
    "plt.show()"
   ]
  },
  {
   "cell_type": "markdown",
   "id": "6f30e5df",
   "metadata": {},
   "source": [
    "# Compair All Model Performance"
   ]
  },
  {
   "cell_type": "code",
   "execution_count": 105,
   "id": "76f04a53",
   "metadata": {},
   "outputs": [
    {
     "data": {
      "text/html": [
       "<div>\n",
       "<style scoped>\n",
       "    .dataframe tbody tr th:only-of-type {\n",
       "        vertical-align: middle;\n",
       "    }\n",
       "\n",
       "    .dataframe tbody tr th {\n",
       "        vertical-align: top;\n",
       "    }\n",
       "\n",
       "    .dataframe thead th {\n",
       "        text-align: right;\n",
       "    }\n",
       "</style>\n",
       "<table border=\"1\" class=\"dataframe\">\n",
       "  <thead>\n",
       "    <tr style=\"text-align: right;\">\n",
       "      <th></th>\n",
       "      <th>Model</th>\n",
       "      <th>R2 Score</th>\n",
       "      <th>CV score</th>\n",
       "      <th>diff bet CVscore $ r2 score</th>\n",
       "    </tr>\n",
       "  </thead>\n",
       "  <tbody>\n",
       "    <tr>\n",
       "      <th>0</th>\n",
       "      <td>Linear Regression</td>\n",
       "      <td>58</td>\n",
       "      <td>58</td>\n",
       "      <td>0</td>\n",
       "    </tr>\n",
       "    <tr>\n",
       "      <th>1</th>\n",
       "      <td>Ridge Regression</td>\n",
       "      <td>58</td>\n",
       "      <td>58</td>\n",
       "      <td>0</td>\n",
       "    </tr>\n",
       "    <tr>\n",
       "      <th>2</th>\n",
       "      <td>Lasso Regression</td>\n",
       "      <td>58</td>\n",
       "      <td>58</td>\n",
       "      <td>0</td>\n",
       "    </tr>\n",
       "    <tr>\n",
       "      <th>3</th>\n",
       "      <td>RandomForest Regressor</td>\n",
       "      <td>61</td>\n",
       "      <td>61</td>\n",
       "      <td>0</td>\n",
       "    </tr>\n",
       "  </tbody>\n",
       "</table>\n",
       "</div>"
      ],
      "text/plain": [
       "                    Model  R2 Score  CV score  diff bet CVscore $ r2 score\n",
       "0       Linear Regression        58        58                            0\n",
       "1        Ridge Regression        58        58                            0\n",
       "2        Lasso Regression        58        58                            0\n",
       "3  RandomForest Regressor        61        61                            0"
      ]
     },
     "execution_count": 105,
     "metadata": {},
     "output_type": "execute_result"
    }
   ],
   "source": [
    "results = pd.DataFrame({\n",
    "    'Model': ['Linear Regression',\"Ridge Regression\", 'Lasso Regression','RandomForest Regressor'],\n",
    "    'R2 Score': [58,58,58,61],\n",
    "     \"CV score\":[58,58,58,61],\n",
    "     \"diff bet CVscore $ r2 score\":[0,0,0,0]})\n",
    "results"
   ]
  },
  {
   "cell_type": "markdown",
   "id": "f97e0c57",
   "metadata": {},
   "source": [
    "# Hyper Parameter Tuning For Random State¶"
   ]
  },
  {
   "cell_type": "code",
   "execution_count": 106,
   "id": "b8aa0885",
   "metadata": {},
   "outputs": [
    {
     "name": "stdout",
     "output_type": "stream",
     "text": [
      "{'criterion': 'mae', 'max_features': 'log2'}\n"
     ]
    }
   ],
   "source": [
    "param={\"criterion\":['mse','mae'],\"max_features\":[\"auto\",\"sqrt\",\"log2\"]}\n",
    "rf= RandomForestRegressor()\n",
    "grd=GridSearchCV(rf,param)\n",
    "grd.fit( x_train,y_train)\n",
    "print(grd.best_params_)"
   ]
  },
  {
   "cell_type": "markdown",
   "id": "5ca04b7d",
   "metadata": {},
   "source": [
    "# Obtaining the Best Parameters for Hyper parameters tuning"
   ]
  },
  {
   "cell_type": "code",
   "execution_count": 111,
   "id": "f5bc5bac",
   "metadata": {},
   "outputs": [
    {
     "name": "stdout",
     "output_type": "stream",
     "text": [
      "r2 score=  63.191023191686455\n",
      "Cross validation score for RandomForestRegresso Model is  63.62486423725\n",
      "MSE=  313438.78044192865\n",
      "RMSE=  559.8560354608394\n"
     ]
    }
   ],
   "source": [
    "rf = RandomForestRegressor(criterion = 'mae', max_features= 'log2', random_state= 76)\n",
    "rf.fit(x_train,y_train)\n",
    "predrf = rf.predict(x_test)\n",
    "scr = cross_val_score(rf,x,y,cv=5)\n",
    "print(\"r2 score= \",r2_score(y_test,predrf)*100)\n",
    "print('Cross validation score for RandomForestRegresso Model is ',scr.mean()*100)\n",
    "print(\"MSE= \",mean_squared_error(y_test,predrf))\n",
    "print(\"RMSE= \",np.sqrt(mean_squared_error(y_test,predrf)))"
   ]
  },
  {
   "cell_type": "markdown",
   "id": "47cbfba1",
   "metadata": {},
   "source": [
    "# we are getting model accurecy and cross validation score both are 63% shows our model is performing good"
   ]
  },
  {
   "cell_type": "markdown",
   "id": "8095eb66",
   "metadata": {},
   "source": [
    "# save model"
   ]
  },
  {
   "cell_type": "code",
   "execution_count": 108,
   "id": "52dfafa2",
   "metadata": {},
   "outputs": [],
   "source": [
    "import pickle\n",
    "\n",
    "filename=\"BigDataMart.pkl\"\n",
    "pickle.dump(rf,open(filename,\"wb\"))"
   ]
  },
  {
   "cell_type": "markdown",
   "id": "6f393d74",
   "metadata": {},
   "source": [
    "# load model"
   ]
  },
  {
   "cell_type": "code",
   "execution_count": 109,
   "id": "9f86263e",
   "metadata": {},
   "outputs": [
    {
     "name": "stdout",
     "output_type": "stream",
     "text": [
      "62.056316221805474\n"
     ]
    }
   ],
   "source": [
    "loaded_model=pickle.load(open(\"BigDataMart.pkl\",\"rb\"))\n",
    "result=loaded_model.score(x_test,y_test)\n",
    "print(result*100)"
   ]
  },
  {
   "cell_type": "markdown",
   "id": "67b1883c",
   "metadata": {},
   "source": [
    "# conclusion"
   ]
  },
  {
   "cell_type": "markdown",
   "id": "7076c59b",
   "metadata": {},
   "source": [
    "Prediction using Train Data"
   ]
  },
  {
   "cell_type": "code",
   "execution_count": 112,
   "id": "59f581a4",
   "metadata": {},
   "outputs": [],
   "source": [
    "conclusion=pd.DataFrame([loaded_model.predict(x_test)[:],predrf[:]],index=[\"predicted\",\"original\"])"
   ]
  },
  {
   "cell_type": "code",
   "execution_count": 114,
   "id": "fb395e4f",
   "metadata": {},
   "outputs": [
    {
     "data": {
      "text/html": [
       "<div>\n",
       "<style scoped>\n",
       "    .dataframe tbody tr th:only-of-type {\n",
       "        vertical-align: middle;\n",
       "    }\n",
       "\n",
       "    .dataframe tbody tr th {\n",
       "        vertical-align: top;\n",
       "    }\n",
       "\n",
       "    .dataframe thead th {\n",
       "        text-align: right;\n",
       "    }\n",
       "</style>\n",
       "<table border=\"1\" class=\"dataframe\">\n",
       "  <thead>\n",
       "    <tr style=\"text-align: right;\">\n",
       "      <th></th>\n",
       "      <th>predicted</th>\n",
       "      <th>original</th>\n",
       "    </tr>\n",
       "  </thead>\n",
       "  <tbody>\n",
       "    <tr>\n",
       "      <th>0</th>\n",
       "      <td>1430.430</td>\n",
       "      <td>1446.600</td>\n",
       "    </tr>\n",
       "    <tr>\n",
       "      <th>1</th>\n",
       "      <td>1629.020</td>\n",
       "      <td>1721.020</td>\n",
       "    </tr>\n",
       "    <tr>\n",
       "      <th>2</th>\n",
       "      <td>1799.560</td>\n",
       "      <td>1914.770</td>\n",
       "    </tr>\n",
       "    <tr>\n",
       "      <th>3</th>\n",
       "      <td>1287.755</td>\n",
       "      <td>1603.470</td>\n",
       "    </tr>\n",
       "    <tr>\n",
       "      <th>4</th>\n",
       "      <td>385.910</td>\n",
       "      <td>476.575</td>\n",
       "    </tr>\n",
       "    <tr>\n",
       "      <th>...</th>\n",
       "      <td>...</td>\n",
       "      <td>...</td>\n",
       "    </tr>\n",
       "    <tr>\n",
       "      <th>2126</th>\n",
       "      <td>2117.870</td>\n",
       "      <td>2200.570</td>\n",
       "    </tr>\n",
       "    <tr>\n",
       "      <th>2127</th>\n",
       "      <td>266.015</td>\n",
       "      <td>186.455</td>\n",
       "    </tr>\n",
       "    <tr>\n",
       "      <th>2128</th>\n",
       "      <td>1244.350</td>\n",
       "      <td>1277.575</td>\n",
       "    </tr>\n",
       "    <tr>\n",
       "      <th>2129</th>\n",
       "      <td>1201.430</td>\n",
       "      <td>1258.995</td>\n",
       "    </tr>\n",
       "    <tr>\n",
       "      <th>2130</th>\n",
       "      <td>2094.710</td>\n",
       "      <td>1799.220</td>\n",
       "    </tr>\n",
       "  </tbody>\n",
       "</table>\n",
       "<p>2131 rows × 2 columns</p>\n",
       "</div>"
      ],
      "text/plain": [
       "      predicted  original\n",
       "0      1430.430  1446.600\n",
       "1      1629.020  1721.020\n",
       "2      1799.560  1914.770\n",
       "3      1287.755  1603.470\n",
       "4       385.910   476.575\n",
       "...         ...       ...\n",
       "2126   2117.870  2200.570\n",
       "2127    266.015   186.455\n",
       "2128   1244.350  1277.575\n",
       "2129   1201.430  1258.995\n",
       "2130   2094.710  1799.220\n",
       "\n",
       "[2131 rows x 2 columns]"
      ]
     },
     "execution_count": 114,
     "metadata": {},
     "output_type": "execute_result"
    }
   ],
   "source": [
    "conclusion.T"
   ]
  },
  {
   "cell_type": "markdown",
   "id": "fcb82a2e",
   "metadata": {},
   "source": [
    "# Prediction using Test Data"
   ]
  },
  {
   "cell_type": "code",
   "execution_count": 115,
   "id": "5ac75cc4",
   "metadata": {},
   "outputs": [],
   "source": [
    "con_test=pd.DataFrame([loaded_model.predict(test)[:],predrf[:]],index=[\"predicted\",\"original\"])"
   ]
  },
  {
   "cell_type": "code",
   "execution_count": 116,
   "id": "691ee554",
   "metadata": {},
   "outputs": [
    {
     "data": {
      "text/html": [
       "<div>\n",
       "<style scoped>\n",
       "    .dataframe tbody tr th:only-of-type {\n",
       "        vertical-align: middle;\n",
       "    }\n",
       "\n",
       "    .dataframe tbody tr th {\n",
       "        vertical-align: top;\n",
       "    }\n",
       "\n",
       "    .dataframe thead th {\n",
       "        text-align: right;\n",
       "    }\n",
       "</style>\n",
       "<table border=\"1\" class=\"dataframe\">\n",
       "  <thead>\n",
       "    <tr style=\"text-align: right;\">\n",
       "      <th></th>\n",
       "      <th>predicted</th>\n",
       "      <th>original</th>\n",
       "    </tr>\n",
       "  </thead>\n",
       "  <tbody>\n",
       "    <tr>\n",
       "      <th>0</th>\n",
       "      <td>2419.47</td>\n",
       "      <td>1446.600</td>\n",
       "    </tr>\n",
       "    <tr>\n",
       "      <th>1</th>\n",
       "      <td>2323.88</td>\n",
       "      <td>1721.020</td>\n",
       "    </tr>\n",
       "    <tr>\n",
       "      <th>2</th>\n",
       "      <td>2422.32</td>\n",
       "      <td>1914.770</td>\n",
       "    </tr>\n",
       "    <tr>\n",
       "      <th>3</th>\n",
       "      <td>2322.14</td>\n",
       "      <td>1603.470</td>\n",
       "    </tr>\n",
       "    <tr>\n",
       "      <th>4</th>\n",
       "      <td>2623.86</td>\n",
       "      <td>476.575</td>\n",
       "    </tr>\n",
       "    <tr>\n",
       "      <th>...</th>\n",
       "      <td>...</td>\n",
       "      <td>...</td>\n",
       "    </tr>\n",
       "    <tr>\n",
       "      <th>5676</th>\n",
       "      <td>2431.81</td>\n",
       "      <td>NaN</td>\n",
       "    </tr>\n",
       "    <tr>\n",
       "      <th>5677</th>\n",
       "      <td>2530.66</td>\n",
       "      <td>NaN</td>\n",
       "    </tr>\n",
       "    <tr>\n",
       "      <th>5678</th>\n",
       "      <td>2418.21</td>\n",
       "      <td>NaN</td>\n",
       "    </tr>\n",
       "    <tr>\n",
       "      <th>5679</th>\n",
       "      <td>2323.88</td>\n",
       "      <td>NaN</td>\n",
       "    </tr>\n",
       "    <tr>\n",
       "      <th>5680</th>\n",
       "      <td>2418.21</td>\n",
       "      <td>NaN</td>\n",
       "    </tr>\n",
       "  </tbody>\n",
       "</table>\n",
       "<p>5681 rows × 2 columns</p>\n",
       "</div>"
      ],
      "text/plain": [
       "      predicted  original\n",
       "0       2419.47  1446.600\n",
       "1       2323.88  1721.020\n",
       "2       2422.32  1914.770\n",
       "3       2322.14  1603.470\n",
       "4       2623.86   476.575\n",
       "...         ...       ...\n",
       "5676    2431.81       NaN\n",
       "5677    2530.66       NaN\n",
       "5678    2418.21       NaN\n",
       "5679    2323.88       NaN\n",
       "5680    2418.21       NaN\n",
       "\n",
       "[5681 rows x 2 columns]"
      ]
     },
     "execution_count": 116,
     "metadata": {},
     "output_type": "execute_result"
    }
   ],
   "source": [
    "con_test.T"
   ]
  },
  {
   "cell_type": "code",
   "execution_count": null,
   "id": "0d8d40b1",
   "metadata": {},
   "outputs": [],
   "source": []
  }
 ],
 "metadata": {
  "kernelspec": {
   "display_name": "Python 3 (ipykernel)",
   "language": "python",
   "name": "python3"
  },
  "language_info": {
   "codemirror_mode": {
    "name": "ipython",
    "version": 3
   },
   "file_extension": ".py",
   "mimetype": "text/x-python",
   "name": "python",
   "nbconvert_exporter": "python",
   "pygments_lexer": "ipython3",
   "version": "3.9.13"
  }
 },
 "nbformat": 4,
 "nbformat_minor": 5
}
