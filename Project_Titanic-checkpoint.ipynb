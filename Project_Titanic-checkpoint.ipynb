{
 "cells": [
  {
   "cell_type": "markdown",
   "id": "cf6dcfdc",
   "metadata": {},
   "source": [
    "# Titanic Project\n",
    "\n",
    "The Titanic Problem is based on the sinking of the ‘Unsinkable’ ship Titanic in early 1912.  "
   ]
  },
  {
   "cell_type": "markdown",
   "id": "d826adb0",
   "metadata": {},
   "source": [
    "# Description of Data"
   ]
  },
  {
   "cell_type": "markdown",
   "id": "3a6db102",
   "metadata": {},
   "source": [
    "It gives you information about multiple people like their ages, sexes, sibling counts, embarkment points, and whether or not they survived the disaster. "
   ]
  },
  {
   "cell_type": "markdown",
   "id": "4bd81652",
   "metadata": {},
   "source": [
    "# Goal"
   ]
  },
  {
   "cell_type": "markdown",
   "id": "c9e1620f",
   "metadata": {},
   "source": [
    "It gives you information about multiple people like their ages, sexes, sibling counts, embarkment points, and whether or not they survived the disaster. "
   ]
  },
  {
   "cell_type": "markdown",
   "id": "bc8b96aa",
   "metadata": {},
   "source": [
    "# Installing Libraries"
   ]
  },
  {
   "cell_type": "code",
   "execution_count": 1,
   "id": "e06ea7db",
   "metadata": {},
   "outputs": [],
   "source": [
    "import pandas as pd\n",
    "import numpy as np\n",
    "import seaborn as sns\n",
    "import matplotlib\n",
    "import matplotlib.pyplot as plt\n",
    "import scipy.stats as st\n",
    "import warnings\n",
    "warnings.filterwarnings('ignore')"
   ]
  },
  {
   "cell_type": "markdown",
   "id": "741a97e7",
   "metadata": {},
   "source": [
    "# Load dataset"
   ]
  },
  {
   "cell_type": "code",
   "execution_count": 2,
   "id": "227df58e",
   "metadata": {},
   "outputs": [],
   "source": [
    "df=pd.read_csv(\"Titanic.csv\")"
   ]
  },
  {
   "cell_type": "code",
   "execution_count": 3,
   "id": "8d86e24a",
   "metadata": {},
   "outputs": [
    {
     "data": {
      "text/html": [
       "<div>\n",
       "<style scoped>\n",
       "    .dataframe tbody tr th:only-of-type {\n",
       "        vertical-align: middle;\n",
       "    }\n",
       "\n",
       "    .dataframe tbody tr th {\n",
       "        vertical-align: top;\n",
       "    }\n",
       "\n",
       "    .dataframe thead th {\n",
       "        text-align: right;\n",
       "    }\n",
       "</style>\n",
       "<table border=\"1\" class=\"dataframe\">\n",
       "  <thead>\n",
       "    <tr style=\"text-align: right;\">\n",
       "      <th></th>\n",
       "      <th>PassengerId</th>\n",
       "      <th>Survived</th>\n",
       "      <th>Pclass</th>\n",
       "      <th>Name</th>\n",
       "      <th>Sex</th>\n",
       "      <th>Age</th>\n",
       "      <th>SibSp</th>\n",
       "      <th>Parch</th>\n",
       "      <th>Ticket</th>\n",
       "      <th>Fare</th>\n",
       "      <th>Cabin</th>\n",
       "      <th>Embarked</th>\n",
       "    </tr>\n",
       "  </thead>\n",
       "  <tbody>\n",
       "    <tr>\n",
       "      <th>0</th>\n",
       "      <td>1</td>\n",
       "      <td>0</td>\n",
       "      <td>3</td>\n",
       "      <td>Braund, Mr. Owen Harris</td>\n",
       "      <td>male</td>\n",
       "      <td>22.0</td>\n",
       "      <td>1</td>\n",
       "      <td>0</td>\n",
       "      <td>A/5 21171</td>\n",
       "      <td>7.2500</td>\n",
       "      <td>NaN</td>\n",
       "      <td>S</td>\n",
       "    </tr>\n",
       "    <tr>\n",
       "      <th>1</th>\n",
       "      <td>2</td>\n",
       "      <td>1</td>\n",
       "      <td>1</td>\n",
       "      <td>Cumings, Mrs. John Bradley (Florence Briggs Th...</td>\n",
       "      <td>female</td>\n",
       "      <td>38.0</td>\n",
       "      <td>1</td>\n",
       "      <td>0</td>\n",
       "      <td>PC 17599</td>\n",
       "      <td>71.2833</td>\n",
       "      <td>C85</td>\n",
       "      <td>C</td>\n",
       "    </tr>\n",
       "    <tr>\n",
       "      <th>2</th>\n",
       "      <td>3</td>\n",
       "      <td>1</td>\n",
       "      <td>3</td>\n",
       "      <td>Heikkinen, Miss. Laina</td>\n",
       "      <td>female</td>\n",
       "      <td>26.0</td>\n",
       "      <td>0</td>\n",
       "      <td>0</td>\n",
       "      <td>STON/O2. 3101282</td>\n",
       "      <td>7.9250</td>\n",
       "      <td>NaN</td>\n",
       "      <td>S</td>\n",
       "    </tr>\n",
       "    <tr>\n",
       "      <th>3</th>\n",
       "      <td>4</td>\n",
       "      <td>1</td>\n",
       "      <td>1</td>\n",
       "      <td>Futrelle, Mrs. Jacques Heath (Lily May Peel)</td>\n",
       "      <td>female</td>\n",
       "      <td>35.0</td>\n",
       "      <td>1</td>\n",
       "      <td>0</td>\n",
       "      <td>113803</td>\n",
       "      <td>53.1000</td>\n",
       "      <td>C123</td>\n",
       "      <td>S</td>\n",
       "    </tr>\n",
       "    <tr>\n",
       "      <th>4</th>\n",
       "      <td>5</td>\n",
       "      <td>0</td>\n",
       "      <td>3</td>\n",
       "      <td>Allen, Mr. William Henry</td>\n",
       "      <td>male</td>\n",
       "      <td>35.0</td>\n",
       "      <td>0</td>\n",
       "      <td>0</td>\n",
       "      <td>373450</td>\n",
       "      <td>8.0500</td>\n",
       "      <td>NaN</td>\n",
       "      <td>S</td>\n",
       "    </tr>\n",
       "  </tbody>\n",
       "</table>\n",
       "</div>"
      ],
      "text/plain": [
       "   PassengerId  Survived  Pclass  \\\n",
       "0            1         0       3   \n",
       "1            2         1       1   \n",
       "2            3         1       3   \n",
       "3            4         1       1   \n",
       "4            5         0       3   \n",
       "\n",
       "                                                Name     Sex   Age  SibSp  \\\n",
       "0                            Braund, Mr. Owen Harris    male  22.0      1   \n",
       "1  Cumings, Mrs. John Bradley (Florence Briggs Th...  female  38.0      1   \n",
       "2                             Heikkinen, Miss. Laina  female  26.0      0   \n",
       "3       Futrelle, Mrs. Jacques Heath (Lily May Peel)  female  35.0      1   \n",
       "4                           Allen, Mr. William Henry    male  35.0      0   \n",
       "\n",
       "   Parch            Ticket     Fare Cabin Embarked  \n",
       "0      0         A/5 21171   7.2500   NaN        S  \n",
       "1      0          PC 17599  71.2833   C85        C  \n",
       "2      0  STON/O2. 3101282   7.9250   NaN        S  \n",
       "3      0            113803  53.1000  C123        S  \n",
       "4      0            373450   8.0500   NaN        S  "
      ]
     },
     "execution_count": 3,
     "metadata": {},
     "output_type": "execute_result"
    }
   ],
   "source": [
    "df.head()"
   ]
  },
  {
   "cell_type": "markdown",
   "id": "2df83fe2",
   "metadata": {},
   "source": [
    "Data Dictionary:\n",
    "\n",
    "Survived: 0 = No, 1 = Yes\n",
    "\n",
    "pclass: Ticket class 1 = 1st, 2 = 2nd, 3 = 3rd\n",
    "\n",
    "sibsp: # of siblings / spouses aboard the Titanic\n",
    "\n",
    "parch: # of parents / children aboard the Titanic\n",
    "\n",
    "ticket: Ticket number\n",
    "\n",
    "cabin: Cabin number\n",
    "\n",
    "embarked: Port of Embarkation C = Cherbourg, Q = Queenstown, S = Southampton"
   ]
  },
  {
   "cell_type": "code",
   "execution_count": 4,
   "id": "d3bcad5c",
   "metadata": {},
   "outputs": [
    {
     "data": {
      "text/plain": [
       "(891, 12)"
      ]
     },
     "execution_count": 4,
     "metadata": {},
     "output_type": "execute_result"
    }
   ],
   "source": [
    "df.shape"
   ]
  },
  {
   "cell_type": "markdown",
   "id": "88567596",
   "metadata": {},
   "source": [
    "Total rows and columns\n",
    "\n",
    "We can see that there are 891 rows and 12 columns in our  dataset."
   ]
  },
  {
   "cell_type": "markdown",
   "id": "fa263b57",
   "metadata": {},
   "source": [
    "# Exploratory Data Analysis\n",
    "\n",
    "Lets begin with some EDA we will start by  checking  missing data\n"
   ]
  },
  {
   "cell_type": "markdown",
   "id": "f600ee52",
   "metadata": {},
   "source": [
    "# Missing Data"
   ]
  },
  {
   "cell_type": "code",
   "execution_count": 5,
   "id": "6c894b33",
   "metadata": {},
   "outputs": [
    {
     "data": {
      "text/plain": [
       "PassengerId      0\n",
       "Survived         0\n",
       "Pclass           0\n",
       "Name             0\n",
       "Sex              0\n",
       "Age            177\n",
       "SibSp            0\n",
       "Parch            0\n",
       "Ticket           0\n",
       "Fare             0\n",
       "Cabin          687\n",
       "Embarked         2\n",
       "dtype: int64"
      ]
     },
     "execution_count": 5,
     "metadata": {},
     "output_type": "execute_result"
    }
   ],
   "source": [
    "df.isnull().sum()"
   ]
  },
  {
   "cell_type": "markdown",
   "id": "d34615f4",
   "metadata": {},
   "source": [
    "observation:\n",
    "    \n",
    "nan value present in given columns\n",
    "\n",
    "Age -  177\n",
    "\n",
    "Cabin -687\n",
    "\n",
    "Embarked -2"
   ]
  },
  {
   "cell_type": "code",
   "execution_count": 6,
   "id": "9f1c1bff",
   "metadata": {},
   "outputs": [
    {
     "data": {
      "text/plain": [
       "<AxesSubplot:>"
      ]
     },
     "execution_count": 6,
     "metadata": {},
     "output_type": "execute_result"
    },
    {
     "data": {
      "image/png": "[encoded data removed]",
      "text/plain": [
       "<Figure size 432x288 with 1 Axes>"
      ]
     },
     "metadata": {
      "needs_background": "light"
     },
     "output_type": "display_data"
    }
   ],
   "source": [
    "sns.heatmap(df.isnull(),yticklabels=False,cbar=False,cmap=\"viridis\")##check missing value through visualization"
   ]
  },
  {
   "cell_type": "markdown",
   "id": "e89685ba",
   "metadata": {},
   "source": [
    "obervation:\n",
    "    \n",
    "most of nan value present in Age and cabin columns, approx 20% data are missing in age columns so we can fill it by using any imputation technique,But the cabin column has missing too much data so we will probabily drop this later or change it to another feature like \"cabin known \" 0 or 1"
   ]
  },
  {
   "cell_type": "markdown",
   "id": "a8c21097",
   "metadata": {},
   "source": [
    "# Univariate Visualization using Matplotlib and Seaborn packages."
   ]
  },
  {
   "cell_type": "code",
   "execution_count": 7,
   "id": "a68047d1",
   "metadata": {},
   "outputs": [
    {
     "data": {
      "text/plain": [
       "0    549\n",
       "1    342\n",
       "Name: Survived, dtype: int64"
      ]
     },
     "execution_count": 7,
     "metadata": {},
     "output_type": "execute_result"
    },
    {
     "data": {
      "image/png": "[encoded data removed]",
      "text/plain": [
       "<Figure size 432x288 with 1 Axes>"
      ]
     },
     "metadata": {},
     "output_type": "display_data"
    }
   ],
   "source": [
    "sns.set_style(\"whitegrid\")\n",
    "sns.countplot(data=df,x=\"Survived\")\n",
    "df[\"Survived\"].value_counts()"
   ]
  },
  {
   "cell_type": "markdown",
   "id": "530ae77d",
   "metadata": {},
   "source": [
    "In the above graph we find out 342 people are survived and 549 people are dead"
   ]
  },
  {
   "cell_type": "code",
   "execution_count": 8,
   "id": "41a8a23e",
   "metadata": {},
   "outputs": [
    {
     "data": {
      "text/plain": [
       "male      577\n",
       "female    314\n",
       "Name: Sex, dtype: int64"
      ]
     },
     "execution_count": 8,
     "metadata": {},
     "output_type": "execute_result"
    },
    {
     "data": {
      "image/png": "[encoded data removed]",
      "text/plain": [
       "<Figure size 432x288 with 1 Axes>"
      ]
     },
     "metadata": {},
     "output_type": "display_data"
    }
   ],
   "source": [
    "sns.set_style(\"whitegrid\")\n",
    "sns.countplot(data=df,x=\"Survived\",hue=\"Sex\",palette=\"pastel\")\n",
    "df[\"Sex\"].value_counts()"
   ]
  },
  {
   "cell_type": "markdown",
   "id": "f6c374d2",
   "metadata": {},
   "source": [
    "observation:\n",
    "    \n",
    "most of the people are male who are not survived\n",
    "\n",
    "most of the people are Female who are survived"
   ]
  },
  {
   "cell_type": "code",
   "execution_count": 9,
   "id": "f2f563e0",
   "metadata": {},
   "outputs": [
    {
     "data": {
      "text/plain": [
       "3    491\n",
       "1    216\n",
       "2    184\n",
       "Name: Pclass, dtype: int64"
      ]
     },
     "execution_count": 9,
     "metadata": {},
     "output_type": "execute_result"
    },
    {
     "data": {
      "image/png": "[encoded data removed]",
      "text/plain": [
       "<Figure size 432x288 with 1 Axes>"
      ]
     },
     "metadata": {},
     "output_type": "display_data"
    }
   ],
   "source": [
    "sns.set_style(\"whitegrid\")\n",
    "sns.countplot(data=df,x=\"Survived\",hue=\"Pclass\",palette=\"rainbow\")\n",
    "df[\"Pclass\"].value_counts()"
   ]
  },
  {
   "cell_type": "markdown",
   "id": "129b6e07",
   "metadata": {},
   "source": [
    "observation:\n",
    "\n",
    "most of the 3rd class passanger are  dead and first class passanger is survived"
   ]
  },
  {
   "cell_type": "code",
   "execution_count": 10,
   "id": "535f1d5b",
   "metadata": {},
   "outputs": [
    {
     "data": {
      "text/plain": [
       "<AxesSubplot:xlabel='Age'>"
      ]
     },
     "execution_count": 10,
     "metadata": {},
     "output_type": "execute_result"
    },
    {
     "data": {
      "image/png": "[encoded data removed]",
      "text/plain": [
       "<Figure size 432x288 with 1 Axes>"
      ]
     },
     "metadata": {},
     "output_type": "display_data"
    }
   ],
   "source": [
    "sns.distplot(df[\"Age\"].dropna(),kde=False,color=\"darkred\",bins=10)"
   ]
  },
  {
   "cell_type": "markdown",
   "id": "b74f81f8",
   "metadata": {},
   "source": [
    "Hist plot is  used to count no. of people having Age in perticuler range\n",
    "\n",
    "This plot is look like a normal distribution curve but some outliers are present\n"
   ]
  },
  {
   "cell_type": "code",
   "execution_count": 11,
   "id": "5d9ee1d6",
   "metadata": {},
   "outputs": [
    {
     "data": {
      "text/plain": [
       "<AxesSubplot:xlabel='SibSp', ylabel='count'>"
      ]
     },
     "execution_count": 11,
     "metadata": {},
     "output_type": "execute_result"
    },
    {
     "data": {
      "image/png": "[encoded data removed]",
      "text/plain": [
       "<Figure size 432x288 with 1 Axes>"
      ]
     },
     "metadata": {},
     "output_type": "display_data"
    }
   ],
   "source": [
    "sns.countplot(data=df,x='SibSp')"
   ]
  },
  {
   "cell_type": "markdown",
   "id": "0c20c214",
   "metadata": {},
   "source": [
    "I observed that maximum people do not have sibling and spouse"
   ]
  },
  {
   "cell_type": "code",
   "execution_count": 12,
   "id": "9fb8144c",
   "metadata": {},
   "outputs": [
    {
     "data": {
      "text/plain": [
       "<AxesSubplot:>"
      ]
     },
     "execution_count": 12,
     "metadata": {},
     "output_type": "execute_result"
    },
    {
     "data": {
      "image/png": "[encoded data removed]",
      "text/plain": [
       "<Figure size 576x288 with 1 Axes>"
      ]
     },
     "metadata": {},
     "output_type": "display_data"
    }
   ],
   "source": [
    "df[\"Fare\"].hist(color=\"green\",bins=20,figsize=(8,4))"
   ]
  },
  {
   "cell_type": "markdown",
   "id": "4effdb2d",
   "metadata": {},
   "source": [
    "# Bivariate Analysis"
   ]
  },
  {
   "cell_type": "markdown",
   "id": "73066c28",
   "metadata": {},
   "source": [
    "# Bar Chart for Categorical Features\n",
    "\n",
    "Pclass\n",
    "\n",
    "Sex\n",
    "\n",
    "SibSp ( # of siblings and spouse)\n",
    "\n",
    "Parch ( # of parents and children)\n",
    "\n",
    "Embarked\n",
    "\n",
    "Cabin"
   ]
  },
  {
   "cell_type": "code",
   "execution_count": 13,
   "id": "a96c4f46",
   "metadata": {},
   "outputs": [],
   "source": [
    "def bar_chart(feature):\n",
    "    survived = df[df['Survived']==1][feature].value_counts()\n",
    "    dead = df[df['Survived']==0][feature].value_counts()\n",
    "    df_new = pd.DataFrame([survived,dead])\n",
    "    df_new.index = ['Survived','Dead']\n",
    "    df_new.plot(kind='bar',stacked=True, figsize=(10,5))"
   ]
  },
  {
   "cell_type": "code",
   "execution_count": 14,
   "id": "82aa35fd",
   "metadata": {},
   "outputs": [
    {
     "name": "stdout",
     "output_type": "stream",
     "text": [
      "Survived :\n",
      " female    233\n",
      "male      109\n",
      "Name: Sex, dtype: int64\n",
      "Dead :\n",
      " male      468\n",
      "female     81\n",
      "Name: Sex, dtype: int64\n"
     ]
    },
    {
     "data": {
      "image/png": "[encoded data removed]",
      "text/plain": [
       "<Figure size 720x360 with 1 Axes>"
      ]
     },
     "metadata": {},
     "output_type": "display_data"
    }
   ],
   "source": [
    "bar_chart('Sex')\n",
    "print(\"Survived :\\n\",df[df['Survived']==1]['Sex'].value_counts())\n",
    "print(\"Dead :\\n\",df[df['Survived']==0]['Sex'].value_counts())"
   ]
  },
  {
   "cell_type": "markdown",
   "id": "6769f60e",
   "metadata": {},
   "source": [
    "The Chart confirms Women more likely survivied than Men."
   ]
  },
  {
   "cell_type": "code",
   "execution_count": 15,
   "id": "37b281b8",
   "metadata": {},
   "outputs": [
    {
     "name": "stdout",
     "output_type": "stream",
     "text": [
      "Survived :\n",
      " female    233\n",
      "male      109\n",
      "Name: Sex, dtype: int64\n",
      "Dead :\n",
      " male      468\n",
      "female     81\n",
      "Name: Sex, dtype: int64\n"
     ]
    },
    {
     "data": {
      "image/png": "[encoded data removed]",
      "text/plain": [
       "<Figure size 720x360 with 1 Axes>"
      ]
     },
     "metadata": {},
     "output_type": "display_data"
    }
   ],
   "source": [
    "bar_chart('Pclass')\n",
    "print(\"Survived :\\n\",df[df['Survived']==1]['Sex'].value_counts())\n",
    "print(\"Dead :\\n\",df[df['Survived']==0]['Sex'].value_counts())"
   ]
  },
  {
   "cell_type": "markdown",
   "id": "b8178a6b",
   "metadata": {},
   "source": [
    "The Chart confirms 1st class more likely survivied than other classes.\n",
    "\n",
    "The Chart confirms 3rd class more likely dead than other classes"
   ]
  },
  {
   "cell_type": "code",
   "execution_count": 16,
   "id": "df72ccac",
   "metadata": {
    "scrolled": true
   },
   "outputs": [
    {
     "name": "stdout",
     "output_type": "stream",
     "text": [
      "Survived :\n",
      " female    233\n",
      "male      109\n",
      "Name: Sex, dtype: int64\n",
      "Dead :\n",
      " male      468\n",
      "female     81\n",
      "Name: Sex, dtype: int64\n"
     ]
    },
    {
     "data": {
      "image/png": "[encoded data removed]",
      "text/plain": [
       "<Figure size 720x360 with 1 Axes>"
      ]
     },
     "metadata": {},
     "output_type": "display_data"
    }
   ],
   "source": [
    "bar_chart('Parch')\n",
    "print(\"Survived :\\n\",df[df['Survived']==1]['Sex'].value_counts())\n",
    "print(\"Dead :\\n\",df[df['Survived']==0]['Sex'].value_counts())"
   ]
  },
  {
   "cell_type": "markdown",
   "id": "2e064746",
   "metadata": {},
   "source": [
    "The Chart confirms a person aboarded with more than 2 parents or children more likely survived.\n",
    "\n",
    "The Chart confirms a person aboarded alone more likely dead"
   ]
  },
  {
   "cell_type": "code",
   "execution_count": 17,
   "id": "add5f631",
   "metadata": {},
   "outputs": [
    {
     "name": "stdout",
     "output_type": "stream",
     "text": [
      "Survived :\n",
      " female    233\n",
      "male      109\n",
      "Name: Sex, dtype: int64\n",
      "Dead :\n",
      " male      468\n",
      "female     81\n",
      "Name: Sex, dtype: int64\n"
     ]
    },
    {
     "data": {
      "image/png": "[encoded data removed]",
      "text/plain": [
       "<Figure size 720x360 with 1 Axes>"
      ]
     },
     "metadata": {},
     "output_type": "display_data"
    }
   ],
   "source": [
    "bar_chart('SibSp')\n",
    "print(\"Survived :\\n\",df[df['Survived']==1]['Sex'].value_counts())\n",
    "print(\"Dead :\\n\",df[df['Survived']==0]['Sex'].value_counts())"
   ]
  },
  {
   "cell_type": "markdown",
   "id": "d9076a05",
   "metadata": {},
   "source": [
    "The Chart confirms a person aboarded with more than 2 siblings or spouse more likely survived.\n",
    "\n",
    "The Chart confirms a person aboarded without siblings or spouse more likely dead"
   ]
  },
  {
   "cell_type": "code",
   "execution_count": 18,
   "id": "e9fb0134",
   "metadata": {},
   "outputs": [
    {
     "name": "stdout",
     "output_type": "stream",
     "text": [
      "Survived :\n",
      " female    233\n",
      "male      109\n",
      "Name: Sex, dtype: int64\n",
      "Dead :\n",
      " male      468\n",
      "female     81\n",
      "Name: Sex, dtype: int64\n"
     ]
    },
    {
     "data": {
      "image/png": "[encoded data removed]",
      "text/plain": [
       "<Figure size 720x360 with 1 Axes>"
      ]
     },
     "metadata": {},
     "output_type": "display_data"
    }
   ],
   "source": [
    "bar_chart('Embarked')\n",
    "print(\"Survived :\\n\",df[df['Survived']==1]['Sex'].value_counts())\n",
    "print(\"Dead :\\n\",df[df['Survived']==0]['Sex'].value_counts())"
   ]
  },
  {
   "cell_type": "markdown",
   "id": "23f6c673",
   "metadata": {},
   "source": [
    "The Chart confirms a person aboarded from C slightly more likely survived.\n",
    "The Chart confirms a person aboarded from Q more likely dead.\n",
    "The Chart confirms a person aboarded from S more likely dead."
   ]
  },
  {
   "cell_type": "markdown",
   "id": "65e75a17",
   "metadata": {},
   "source": [
    "# find out average value of age with respect to Passanger Class"
   ]
  },
  {
   "cell_type": "code",
   "execution_count": 19,
   "id": "787c6fb0",
   "metadata": {},
   "outputs": [
    {
     "data": {
      "text/plain": [
       "<AxesSubplot:xlabel='Pclass', ylabel='Age'>"
      ]
     },
     "execution_count": 19,
     "metadata": {},
     "output_type": "execute_result"
    },
    {
     "data": {
      "image/png": "[encoded data removed]",
      "text/plain": [
       "<Figure size 864x504 with 1 Axes>"
      ]
     },
     "metadata": {},
     "output_type": "display_data"
    }
   ],
   "source": [
    "plt.figure(figsize=(12,7))\n",
    "sns.boxplot(data=df,x=\"Pclass\",y=\"Age\",palette=\"winter\")"
   ]
  },
  {
   "cell_type": "markdown",
   "id": "c060d013",
   "metadata": {},
   "source": [
    "observation:\n",
    "The avrage age of class1 passanger is maximum as campair to class1 or 3    \n",
    "    \n",
    "Avrage value for :-\n",
    "\n",
    "passanger class 1=37\n",
    "\n",
    "pclass2=29\n"
   ]
  },
  {
   "cell_type": "markdown",
   "id": "650ceccd",
   "metadata": {},
   "source": [
    "# Deal with null value"
   ]
  },
  {
   "cell_type": "markdown",
   "id": "4e495eab",
   "metadata": {},
   "source": [
    "# We will use these average Age value to impute based on Pclass for Age"
   ]
  },
  {
   "cell_type": "code",
   "execution_count": 20,
   "id": "eed0294f",
   "metadata": {},
   "outputs": [],
   "source": [
    "def impute_age(col):\n",
    "    Age=col[0]\n",
    "    Pclass=col[1]\n",
    "    if pd.isnull(Age):\n",
    "        if Pclass==1:\n",
    "            return 37\n",
    "        elif Pclass==2:\n",
    "            return 29\n",
    "        else:\n",
    "            return 24\n",
    "    else:\n",
    "        return Age"
   ]
  },
  {
   "cell_type": "markdown",
   "id": "86222672",
   "metadata": {},
   "source": [
    "now we use this function to impute null value of Age column"
   ]
  },
  {
   "cell_type": "code",
   "execution_count": 21,
   "id": "00ffc9a4",
   "metadata": {},
   "outputs": [],
   "source": [
    "df['Age']=df[['Age','Pclass']].apply(impute_age,axis=1)"
   ]
  },
  {
   "cell_type": "markdown",
   "id": "8b2766c6",
   "metadata": {},
   "source": [
    "lets check heatmap again"
   ]
  },
  {
   "cell_type": "code",
   "execution_count": 22,
   "id": "1b1e150a",
   "metadata": {},
   "outputs": [
    {
     "data": {
      "text/plain": [
       "<AxesSubplot:>"
      ]
     },
     "execution_count": 22,
     "metadata": {},
     "output_type": "execute_result"
    },
    {
     "data": {
      "image/png": "[encoded data removed]",
      "text/plain": [
       "<Figure size 432x288 with 1 Axes>"
      ]
     },
     "metadata": {},
     "output_type": "display_data"
    }
   ],
   "source": [
    "sns.heatmap(df.isnull(),yticklabels=False,cbar=False,cmap=\"viridis\")##check missing value through visualization"
   ]
  },
  {
   "cell_type": "markdown",
   "id": "68a96e6b",
   "metadata": {},
   "source": [
    "In cabin column maximum value is null so we can drop this"
   ]
  },
  {
   "cell_type": "code",
   "execution_count": 23,
   "id": "71af1f92",
   "metadata": {},
   "outputs": [],
   "source": [
    "df.drop('Cabin',axis=1,inplace=True)"
   ]
  },
  {
   "cell_type": "code",
   "execution_count": 24,
   "id": "885a65cd",
   "metadata": {},
   "outputs": [
    {
     "data": {
      "text/html": [
       "<div>\n",
       "<style scoped>\n",
       "    .dataframe tbody tr th:only-of-type {\n",
       "        vertical-align: middle;\n",
       "    }\n",
       "\n",
       "    .dataframe tbody tr th {\n",
       "        vertical-align: top;\n",
       "    }\n",
       "\n",
       "    .dataframe thead th {\n",
       "        text-align: right;\n",
       "    }\n",
       "</style>\n",
       "<table border=\"1\" class=\"dataframe\">\n",
       "  <thead>\n",
       "    <tr style=\"text-align: right;\">\n",
       "      <th></th>\n",
       "      <th>PassengerId</th>\n",
       "      <th>Survived</th>\n",
       "      <th>Pclass</th>\n",
       "      <th>Name</th>\n",
       "      <th>Sex</th>\n",
       "      <th>Age</th>\n",
       "      <th>SibSp</th>\n",
       "      <th>Parch</th>\n",
       "      <th>Ticket</th>\n",
       "      <th>Fare</th>\n",
       "      <th>Embarked</th>\n",
       "    </tr>\n",
       "  </thead>\n",
       "  <tbody>\n",
       "    <tr>\n",
       "      <th>252</th>\n",
       "      <td>253</td>\n",
       "      <td>0</td>\n",
       "      <td>1</td>\n",
       "      <td>Stead, Mr. William Thomas</td>\n",
       "      <td>male</td>\n",
       "      <td>62.0</td>\n",
       "      <td>0</td>\n",
       "      <td>0</td>\n",
       "      <td>113514</td>\n",
       "      <td>26.55</td>\n",
       "      <td>S</td>\n",
       "    </tr>\n",
       "  </tbody>\n",
       "</table>\n",
       "</div>"
      ],
      "text/plain": [
       "     PassengerId  Survived  Pclass                       Name   Sex   Age  \\\n",
       "252          253         0       1  Stead, Mr. William Thomas  male  62.0   \n",
       "\n",
       "     SibSp  Parch  Ticket   Fare Embarked  \n",
       "252      0      0  113514  26.55        S  "
      ]
     },
     "execution_count": 24,
     "metadata": {},
     "output_type": "execute_result"
    }
   ],
   "source": [
    "df.sample()"
   ]
  },
  {
   "cell_type": "markdown",
   "id": "a045b15b",
   "metadata": {},
   "source": [
    "In Embared columns two null entries are present so we can drop these two rows"
   ]
  },
  {
   "cell_type": "code",
   "execution_count": 25,
   "id": "f8bd602c",
   "metadata": {},
   "outputs": [
    {
     "data": {
      "text/plain": [
       "PassengerId    0\n",
       "Survived       0\n",
       "Pclass         0\n",
       "Name           0\n",
       "Sex            0\n",
       "Age            0\n",
       "SibSp          0\n",
       "Parch          0\n",
       "Ticket         0\n",
       "Fare           0\n",
       "Embarked       2\n",
       "dtype: int64"
      ]
     },
     "execution_count": 25,
     "metadata": {},
     "output_type": "execute_result"
    }
   ],
   "source": [
    "df.isnull().sum()"
   ]
  },
  {
   "cell_type": "code",
   "execution_count": 26,
   "id": "28eea2a0",
   "metadata": {},
   "outputs": [],
   "source": [
    "df.dropna(inplace=True)"
   ]
  },
  {
   "cell_type": "markdown",
   "id": "86ccdf7f",
   "metadata": {},
   "source": [
    "# check null value are not present "
   ]
  },
  {
   "cell_type": "code",
   "execution_count": 27,
   "id": "1bb79393",
   "metadata": {},
   "outputs": [
    {
     "data": {
      "text/plain": [
       "0"
      ]
     },
     "execution_count": 27,
     "metadata": {},
     "output_type": "execute_result"
    }
   ],
   "source": [
    "df.isnull().sum().sum()"
   ]
  },
  {
   "cell_type": "code",
   "execution_count": 28,
   "id": "a963a961",
   "metadata": {},
   "outputs": [
    {
     "data": {
      "text/plain": [
       "<AxesSubplot:>"
      ]
     },
     "execution_count": 28,
     "metadata": {},
     "output_type": "execute_result"
    },
    {
     "data": {
      "image/png": "[encoded data removed]",
      "text/plain": [
       "<Figure size 432x288 with 1 Axes>"
      ]
     },
     "metadata": {},
     "output_type": "display_data"
    }
   ],
   "source": [
    "sns.heatmap(df.isnull(),yticklabels=False,cbar=False,cmap=\"viridis\")##check missing value through visualization"
   ]
  },
  {
   "cell_type": "markdown",
   "id": "0a2be2dd",
   "metadata": {},
   "source": [
    "now we are successfully handle our nan value"
   ]
  },
  {
   "cell_type": "markdown",
   "id": "668a1969",
   "metadata": {},
   "source": [
    "# Feature Engineering"
   ]
  },
  {
   "cell_type": "markdown",
   "id": "bba6360d",
   "metadata": {},
   "source": [
    "Dealling with categorical features\n",
    "\n",
    "name,sex,ticket,embarked\n",
    "\n",
    "Id ,Name and Ticket is not necessary so we can drop it\n",
    "\n",
    "convert sex and embarked categorical features into intiger value by using label encoder"
   ]
  },
  {
   "cell_type": "code",
   "execution_count": 29,
   "id": "7183a029",
   "metadata": {},
   "outputs": [
    {
     "name": "stdout",
     "output_type": "stream",
     "text": [
      "<class 'pandas.core.frame.DataFrame'>\n",
      "Int64Index: 889 entries, 0 to 890\n",
      "Data columns (total 11 columns):\n",
      " #   Column       Non-Null Count  Dtype  \n",
      "---  ------       --------------  -----  \n",
      " 0   PassengerId  889 non-null    int64  \n",
      " 1   Survived     889 non-null    int64  \n",
      " 2   Pclass       889 non-null    int64  \n",
      " 3   Name         889 non-null    object \n",
      " 4   Sex          889 non-null    object \n",
      " 5   Age          889 non-null    float64\n",
      " 6   SibSp        889 non-null    int64  \n",
      " 7   Parch        889 non-null    int64  \n",
      " 8   Ticket       889 non-null    object \n",
      " 9   Fare         889 non-null    float64\n",
      " 10  Embarked     889 non-null    object \n",
      "dtypes: float64(2), int64(5), object(4)\n",
      "memory usage: 83.3+ KB\n"
     ]
    }
   ],
   "source": [
    "df.info()"
   ]
  },
  {
   "cell_type": "code",
   "execution_count": 30,
   "id": "c3752597",
   "metadata": {},
   "outputs": [],
   "source": [
    "from sklearn.preprocessing import LabelEncoder\n",
    "\n",
    "le=LabelEncoder()\n",
    "\n",
    "df['Sex']=le.fit_transform(df['Sex'])"
   ]
  },
  {
   "cell_type": "code",
   "execution_count": 31,
   "id": "b06067b3",
   "metadata": {},
   "outputs": [
    {
     "data": {
      "text/plain": [
       "1    577\n",
       "0    312\n",
       "Name: Sex, dtype: int64"
      ]
     },
     "execution_count": 31,
     "metadata": {},
     "output_type": "execute_result"
    }
   ],
   "source": [
    "df[\"Sex\"].value_counts()"
   ]
  },
  {
   "cell_type": "code",
   "execution_count": 32,
   "id": "005a9c74",
   "metadata": {},
   "outputs": [
    {
     "data": {
      "text/plain": [
       "(889, 11)"
      ]
     },
     "execution_count": 32,
     "metadata": {},
     "output_type": "execute_result"
    }
   ],
   "source": [
    "df.shape"
   ]
  },
  {
   "cell_type": "code",
   "execution_count": 33,
   "id": "3b676e4e",
   "metadata": {},
   "outputs": [],
   "source": [
    "from sklearn.preprocessing import LabelEncoder\n",
    "\n",
    "le=LabelEncoder()\n",
    "\n",
    "df['Embarked']=le.fit_transform(df['Embarked'])"
   ]
  },
  {
   "cell_type": "code",
   "execution_count": 34,
   "id": "6a4e0aec",
   "metadata": {},
   "outputs": [
    {
     "data": {
      "text/plain": [
       "2    644\n",
       "0    168\n",
       "1     77\n",
       "Name: Embarked, dtype: int64"
      ]
     },
     "execution_count": 34,
     "metadata": {},
     "output_type": "execute_result"
    }
   ],
   "source": [
    "df[\"Embarked\"].value_counts()"
   ]
  },
  {
   "cell_type": "code",
   "execution_count": 35,
   "id": "fb87dfc0",
   "metadata": {},
   "outputs": [
    {
     "data": {
      "text/html": [
       "<div>\n",
       "<style scoped>\n",
       "    .dataframe tbody tr th:only-of-type {\n",
       "        vertical-align: middle;\n",
       "    }\n",
       "\n",
       "    .dataframe tbody tr th {\n",
       "        vertical-align: top;\n",
       "    }\n",
       "\n",
       "    .dataframe thead th {\n",
       "        text-align: right;\n",
       "    }\n",
       "</style>\n",
       "<table border=\"1\" class=\"dataframe\">\n",
       "  <thead>\n",
       "    <tr style=\"text-align: right;\">\n",
       "      <th></th>\n",
       "      <th>PassengerId</th>\n",
       "      <th>Survived</th>\n",
       "      <th>Pclass</th>\n",
       "      <th>Name</th>\n",
       "      <th>Sex</th>\n",
       "      <th>Age</th>\n",
       "      <th>SibSp</th>\n",
       "      <th>Parch</th>\n",
       "      <th>Ticket</th>\n",
       "      <th>Fare</th>\n",
       "      <th>Embarked</th>\n",
       "    </tr>\n",
       "  </thead>\n",
       "  <tbody>\n",
       "    <tr>\n",
       "      <th>0</th>\n",
       "      <td>1</td>\n",
       "      <td>0</td>\n",
       "      <td>3</td>\n",
       "      <td>Braund, Mr. Owen Harris</td>\n",
       "      <td>1</td>\n",
       "      <td>22.0</td>\n",
       "      <td>1</td>\n",
       "      <td>0</td>\n",
       "      <td>A/5 21171</td>\n",
       "      <td>7.2500</td>\n",
       "      <td>2</td>\n",
       "    </tr>\n",
       "    <tr>\n",
       "      <th>1</th>\n",
       "      <td>2</td>\n",
       "      <td>1</td>\n",
       "      <td>1</td>\n",
       "      <td>Cumings, Mrs. John Bradley (Florence Briggs Th...</td>\n",
       "      <td>0</td>\n",
       "      <td>38.0</td>\n",
       "      <td>1</td>\n",
       "      <td>0</td>\n",
       "      <td>PC 17599</td>\n",
       "      <td>71.2833</td>\n",
       "      <td>0</td>\n",
       "    </tr>\n",
       "    <tr>\n",
       "      <th>2</th>\n",
       "      <td>3</td>\n",
       "      <td>1</td>\n",
       "      <td>3</td>\n",
       "      <td>Heikkinen, Miss. Laina</td>\n",
       "      <td>0</td>\n",
       "      <td>26.0</td>\n",
       "      <td>0</td>\n",
       "      <td>0</td>\n",
       "      <td>STON/O2. 3101282</td>\n",
       "      <td>7.9250</td>\n",
       "      <td>2</td>\n",
       "    </tr>\n",
       "    <tr>\n",
       "      <th>3</th>\n",
       "      <td>4</td>\n",
       "      <td>1</td>\n",
       "      <td>1</td>\n",
       "      <td>Futrelle, Mrs. Jacques Heath (Lily May Peel)</td>\n",
       "      <td>0</td>\n",
       "      <td>35.0</td>\n",
       "      <td>1</td>\n",
       "      <td>0</td>\n",
       "      <td>113803</td>\n",
       "      <td>53.1000</td>\n",
       "      <td>2</td>\n",
       "    </tr>\n",
       "    <tr>\n",
       "      <th>4</th>\n",
       "      <td>5</td>\n",
       "      <td>0</td>\n",
       "      <td>3</td>\n",
       "      <td>Allen, Mr. William Henry</td>\n",
       "      <td>1</td>\n",
       "      <td>35.0</td>\n",
       "      <td>0</td>\n",
       "      <td>0</td>\n",
       "      <td>373450</td>\n",
       "      <td>8.0500</td>\n",
       "      <td>2</td>\n",
       "    </tr>\n",
       "  </tbody>\n",
       "</table>\n",
       "</div>"
      ],
      "text/plain": [
       "   PassengerId  Survived  Pclass  \\\n",
       "0            1         0       3   \n",
       "1            2         1       1   \n",
       "2            3         1       3   \n",
       "3            4         1       1   \n",
       "4            5         0       3   \n",
       "\n",
       "                                                Name  Sex   Age  SibSp  Parch  \\\n",
       "0                            Braund, Mr. Owen Harris    1  22.0      1      0   \n",
       "1  Cumings, Mrs. John Bradley (Florence Briggs Th...    0  38.0      1      0   \n",
       "2                             Heikkinen, Miss. Laina    0  26.0      0      0   \n",
       "3       Futrelle, Mrs. Jacques Heath (Lily May Peel)    0  35.0      1      0   \n",
       "4                           Allen, Mr. William Henry    1  35.0      0      0   \n",
       "\n",
       "             Ticket     Fare  Embarked  \n",
       "0         A/5 21171   7.2500         2  \n",
       "1          PC 17599  71.2833         0  \n",
       "2  STON/O2. 3101282   7.9250         2  \n",
       "3            113803  53.1000         2  \n",
       "4            373450   8.0500         2  "
      ]
     },
     "execution_count": 35,
     "metadata": {},
     "output_type": "execute_result"
    }
   ],
   "source": [
    "df.head()"
   ]
  },
  {
   "cell_type": "code",
   "execution_count": 36,
   "id": "db6c665b",
   "metadata": {},
   "outputs": [],
   "source": [
    "df.drop([\"Name\",'PassengerId','Ticket'],axis=1,inplace=True)"
   ]
  },
  {
   "cell_type": "code",
   "execution_count": 37,
   "id": "0ea7e114",
   "metadata": {},
   "outputs": [
    {
     "data": {
      "text/html": [
       "<div>\n",
       "<style scoped>\n",
       "    .dataframe tbody tr th:only-of-type {\n",
       "        vertical-align: middle;\n",
       "    }\n",
       "\n",
       "    .dataframe tbody tr th {\n",
       "        vertical-align: top;\n",
       "    }\n",
       "\n",
       "    .dataframe thead th {\n",
       "        text-align: right;\n",
       "    }\n",
       "</style>\n",
       "<table border=\"1\" class=\"dataframe\">\n",
       "  <thead>\n",
       "    <tr style=\"text-align: right;\">\n",
       "      <th></th>\n",
       "      <th>Survived</th>\n",
       "      <th>Pclass</th>\n",
       "      <th>Sex</th>\n",
       "      <th>Age</th>\n",
       "      <th>SibSp</th>\n",
       "      <th>Parch</th>\n",
       "      <th>Fare</th>\n",
       "      <th>Embarked</th>\n",
       "    </tr>\n",
       "  </thead>\n",
       "  <tbody>\n",
       "    <tr>\n",
       "      <th>69</th>\n",
       "      <td>0</td>\n",
       "      <td>3</td>\n",
       "      <td>1</td>\n",
       "      <td>26.0</td>\n",
       "      <td>2</td>\n",
       "      <td>0</td>\n",
       "      <td>8.6625</td>\n",
       "      <td>2</td>\n",
       "    </tr>\n",
       "    <tr>\n",
       "      <th>40</th>\n",
       "      <td>0</td>\n",
       "      <td>3</td>\n",
       "      <td>0</td>\n",
       "      <td>40.0</td>\n",
       "      <td>1</td>\n",
       "      <td>0</td>\n",
       "      <td>9.4750</td>\n",
       "      <td>2</td>\n",
       "    </tr>\n",
       "    <tr>\n",
       "      <th>797</th>\n",
       "      <td>1</td>\n",
       "      <td>3</td>\n",
       "      <td>0</td>\n",
       "      <td>31.0</td>\n",
       "      <td>0</td>\n",
       "      <td>0</td>\n",
       "      <td>8.6833</td>\n",
       "      <td>2</td>\n",
       "    </tr>\n",
       "  </tbody>\n",
       "</table>\n",
       "</div>"
      ],
      "text/plain": [
       "     Survived  Pclass  Sex   Age  SibSp  Parch    Fare  Embarked\n",
       "69          0       3    1  26.0      2      0  8.6625         2\n",
       "40          0       3    0  40.0      1      0  9.4750         2\n",
       "797         1       3    0  31.0      0      0  8.6833         2"
      ]
     },
     "execution_count": 37,
     "metadata": {},
     "output_type": "execute_result"
    }
   ],
   "source": [
    "df.sample(3)"
   ]
  },
  {
   "cell_type": "markdown",
   "id": "c5502a08",
   "metadata": {},
   "source": [
    "# check skewness"
   ]
  },
  {
   "cell_type": "markdown",
   "id": "a6dbb5ab",
   "metadata": {},
   "source": [
    "the skewness value should be within the range of -1 to 1 for a normal distribution, any major changes from this value may indicate the presence of outliers."
   ]
  },
  {
   "cell_type": "code",
   "execution_count": 38,
   "id": "01f7cf70",
   "metadata": {},
   "outputs": [
    {
     "data": {
      "text/plain": [
       "Survived    0.484568\n",
       "Pclass     -0.636998\n",
       "Sex        -0.625625\n",
       "Age         0.546718\n",
       "SibSp       3.691058\n",
       "Parch       2.745160\n",
       "Fare        4.801440\n",
       "Embarked   -1.261367\n",
       "dtype: float64"
      ]
     },
     "execution_count": 38,
     "metadata": {},
     "output_type": "execute_result"
    }
   ],
   "source": [
    "df.skew()"
   ]
  },
  {
   "cell_type": "markdown",
   "id": "8bb74eea",
   "metadata": {},
   "source": [
    "skewness check only for continues variable not categorical type of fetures so we observed that Fare columns have skewness "
   ]
  },
  {
   "cell_type": "code",
   "execution_count": 39,
   "id": "4ede60e8",
   "metadata": {},
   "outputs": [
    {
     "data": {
      "image/png": "[encoded data removed]",
      "text/plain": [
       "<Figure size 1296x864 with 8 Axes>"
      ]
     },
     "metadata": {},
     "output_type": "display_data"
    }
   ],
   "source": [
    "df.plot(kind=\"density\",subplots=True,layout=(2,4),fontsize=1,figsize=(18,12),legend=False,sharex=False)\n",
    "plt.show()"
   ]
  },
  {
   "cell_type": "markdown",
   "id": "5c9c0a58",
   "metadata": {},
   "source": [
    "shows the variable has been rightly skewed, indicating the presence of outliers so Later we use some Transform tecnique for removing skewness"
   ]
  },
  {
   "cell_type": "markdown",
   "id": "69afc784",
   "metadata": {},
   "source": [
    "# Check outliers"
   ]
  },
  {
   "cell_type": "code",
   "execution_count": 40,
   "id": "b7bffd52",
   "metadata": {},
   "outputs": [
    {
     "data": {
      "text/plain": [
       "Survived       AxesSubplot(0.125,0.536818;0.110714x0.343182)\n",
       "Pclass      AxesSubplot(0.257857,0.536818;0.110714x0.343182)\n",
       "Sex         AxesSubplot(0.390714,0.536818;0.110714x0.343182)\n",
       "Age         AxesSubplot(0.523571,0.536818;0.110714x0.343182)\n",
       "SibSp       AxesSubplot(0.656429,0.536818;0.110714x0.343182)\n",
       "Parch       AxesSubplot(0.789286,0.536818;0.110714x0.343182)\n",
       "Fare              AxesSubplot(0.125,0.125;0.110714x0.343182)\n",
       "Embarked       AxesSubplot(0.257857,0.125;0.110714x0.343182)\n",
       "dtype: object"
      ]
     },
     "execution_count": 40,
     "metadata": {},
     "output_type": "execute_result"
    },
    {
     "data": {
      "image/png": "[encoded data removed]",
      "text/plain": [
       "<Figure size 1080x720 with 12 Axes>"
      ]
     },
     "metadata": {},
     "output_type": "display_data"
    }
   ],
   "source": [
    "df.plot(kind='box',subplots=True,figsize=(15,10),layout=(2,6))#many outlies are present"
   ]
  },
  {
   "cell_type": "code",
   "execution_count": 41,
   "id": "fc94a5de",
   "metadata": {},
   "outputs": [
    {
     "data": {
      "text/plain": [
       "0    676\n",
       "1    118\n",
       "2     80\n",
       "5      5\n",
       "3      5\n",
       "4      4\n",
       "6      1\n",
       "Name: Parch, dtype: int64"
      ]
     },
     "execution_count": 41,
     "metadata": {},
     "output_type": "execute_result"
    }
   ],
   "source": [
    "df[\"Parch\"].value_counts()"
   ]
  },
  {
   "cell_type": "markdown",
   "id": "880d11de",
   "metadata": {},
   "source": [
    "IN Parch and Fare column present many outliers so we can remove it "
   ]
  },
  {
   "cell_type": "code",
   "execution_count": 42,
   "id": "ac5325a5",
   "metadata": {},
   "outputs": [
    {
     "data": {
      "text/plain": [
       "<AxesSubplot:xlabel='Fare'>"
      ]
     },
     "execution_count": 42,
     "metadata": {},
     "output_type": "execute_result"
    },
    {
     "data": {
      "image/png": "[encoded data removed]",
      "text/plain": [
       "<Figure size 432x288 with 1 Axes>"
      ]
     },
     "metadata": {},
     "output_type": "display_data"
    }
   ],
   "source": [
    "sns.boxplot(df['Fare'],data=df)"
   ]
  },
  {
   "cell_type": "markdown",
   "id": "0870c33f",
   "metadata": {},
   "source": [
    "# Remove Outliers"
   ]
  },
  {
   "cell_type": "markdown",
   "id": "98e41e79",
   "metadata": {},
   "source": [
    "# IQR for removing outliers Present in Fare Column"
   ]
  },
  {
   "cell_type": "markdown",
   "id": "5f6bfe70",
   "metadata": {},
   "source": [
    "Flooring And Capping\n",
    "in this quantile-based technique, we will do the flooring(e.g 25th percentile) for the lower values and capping(e.g for the 75th percentile) for the higher values. "
   ]
  },
  {
   "cell_type": "markdown",
   "id": "314c66c5",
   "metadata": {},
   "source": [
    "find outliers "
   ]
  },
  {
   "cell_type": "code",
   "execution_count": 43,
   "id": "a90a04de",
   "metadata": {},
   "outputs": [
    {
     "data": {
      "text/html": [
       "<div>\n",
       "<style scoped>\n",
       "    .dataframe tbody tr th:only-of-type {\n",
       "        vertical-align: middle;\n",
       "    }\n",
       "\n",
       "    .dataframe tbody tr th {\n",
       "        vertical-align: top;\n",
       "    }\n",
       "\n",
       "    .dataframe thead th {\n",
       "        text-align: right;\n",
       "    }\n",
       "</style>\n",
       "<table border=\"1\" class=\"dataframe\">\n",
       "  <thead>\n",
       "    <tr style=\"text-align: right;\">\n",
       "      <th></th>\n",
       "      <th>Survived</th>\n",
       "      <th>Pclass</th>\n",
       "      <th>Sex</th>\n",
       "      <th>Age</th>\n",
       "      <th>SibSp</th>\n",
       "      <th>Parch</th>\n",
       "      <th>Fare</th>\n",
       "      <th>Embarked</th>\n",
       "    </tr>\n",
       "  </thead>\n",
       "  <tbody>\n",
       "    <tr>\n",
       "      <th>1</th>\n",
       "      <td>1</td>\n",
       "      <td>1</td>\n",
       "      <td>0</td>\n",
       "      <td>38.0</td>\n",
       "      <td>1</td>\n",
       "      <td>0</td>\n",
       "      <td>71.2833</td>\n",
       "      <td>0</td>\n",
       "    </tr>\n",
       "    <tr>\n",
       "      <th>27</th>\n",
       "      <td>0</td>\n",
       "      <td>1</td>\n",
       "      <td>1</td>\n",
       "      <td>19.0</td>\n",
       "      <td>3</td>\n",
       "      <td>2</td>\n",
       "      <td>263.0000</td>\n",
       "      <td>2</td>\n",
       "    </tr>\n",
       "    <tr>\n",
       "      <th>31</th>\n",
       "      <td>1</td>\n",
       "      <td>1</td>\n",
       "      <td>0</td>\n",
       "      <td>37.0</td>\n",
       "      <td>1</td>\n",
       "      <td>0</td>\n",
       "      <td>146.5208</td>\n",
       "      <td>0</td>\n",
       "    </tr>\n",
       "    <tr>\n",
       "      <th>34</th>\n",
       "      <td>0</td>\n",
       "      <td>1</td>\n",
       "      <td>1</td>\n",
       "      <td>28.0</td>\n",
       "      <td>1</td>\n",
       "      <td>0</td>\n",
       "      <td>82.1708</td>\n",
       "      <td>0</td>\n",
       "    </tr>\n",
       "    <tr>\n",
       "      <th>52</th>\n",
       "      <td>1</td>\n",
       "      <td>1</td>\n",
       "      <td>0</td>\n",
       "      <td>49.0</td>\n",
       "      <td>1</td>\n",
       "      <td>0</td>\n",
       "      <td>76.7292</td>\n",
       "      <td>0</td>\n",
       "    </tr>\n",
       "  </tbody>\n",
       "</table>\n",
       "</div>"
      ],
      "text/plain": [
       "    Survived  Pclass  Sex   Age  SibSp  Parch      Fare  Embarked\n",
       "1          1       1    0  38.0      1      0   71.2833         0\n",
       "27         0       1    1  19.0      3      2  263.0000         2\n",
       "31         1       1    0  37.0      1      0  146.5208         0\n",
       "34         0       1    1  28.0      1      0   82.1708         0\n",
       "52         1       1    0  49.0      1      0   76.7292         0"
      ]
     },
     "execution_count": 43,
     "metadata": {},
     "output_type": "execute_result"
    }
   ],
   "source": [
    "Q1 = df['Fare'].quantile(0.25)\n",
    "Q3 = df['Fare'].quantile(0.75)\n",
    "IQR = Q3 - Q1\n",
    "whisker_width = 1.5\n",
    "Fare_outliers = df[(df['Fare'] < Q1 - whisker_width*IQR) | (df['Fare'] > Q3 + whisker_width*IQR)]\n",
    "Fare_outliers.head()"
   ]
  },
  {
   "cell_type": "code",
   "execution_count": 44,
   "id": "8efb3dd5",
   "metadata": {},
   "outputs": [],
   "source": [
    "Q1 = df['Fare'].quantile(0.25)\n",
    "Q3 = df['Fare'].quantile(0.75)\n",
    "IQR = Q3 - Q1\n",
    "whisker_width = 1.5\n",
    "lower_whisker = Q1 -(whisker_width*IQR)\n",
    "upper_whisker = Q3 + (whisker_width*IQR)\n",
    "df['Fare']=np.where(df['Fare']>upper_whisker,upper_whisker,np.where(df['Fare']<lower_whisker,lower_whisker,df['Fare']))"
   ]
  },
  {
   "cell_type": "markdown",
   "id": "0fea0043",
   "metadata": {},
   "source": [
    "drops the outliers by removing all the values that are below the 25th percentile and above the 75th percentile of the ‘Fare’ variable."
   ]
  },
  {
   "cell_type": "markdown",
   "id": "044aba06",
   "metadata": {},
   "source": [
    "# check outliers removed or not"
   ]
  },
  {
   "cell_type": "code",
   "execution_count": 45,
   "id": "162608fa",
   "metadata": {},
   "outputs": [
    {
     "data": {
      "text/plain": [
       "<AxesSubplot:xlabel='Fare'>"
      ]
     },
     "execution_count": 45,
     "metadata": {},
     "output_type": "execute_result"
    },
    {
     "data": {
      "image/png": "[encoded data removed]",
      "text/plain": [
       "<Figure size 432x288 with 1 Axes>"
      ]
     },
     "metadata": {},
     "output_type": "display_data"
    }
   ],
   "source": [
    "sns.boxplot(df['Fare'],data=df)"
   ]
  },
  {
   "cell_type": "markdown",
   "id": "818fc0d8",
   "metadata": {},
   "source": [
    "# Split data into dependent and independent variable"
   ]
  },
  {
   "cell_type": "code",
   "execution_count": 46,
   "id": "4dd2a04e",
   "metadata": {},
   "outputs": [],
   "source": [
    "x=df.drop(\"Survived\",axis=1)\n",
    "y=df[\"Survived\"]"
   ]
  },
  {
   "cell_type": "code",
   "execution_count": 47,
   "id": "dc7c6064",
   "metadata": {},
   "outputs": [
    {
     "data": {
      "text/plain": [
       "(889, 7)"
      ]
     },
     "execution_count": 47,
     "metadata": {},
     "output_type": "execute_result"
    }
   ],
   "source": [
    "x.shape"
   ]
  },
  {
   "cell_type": "code",
   "execution_count": 48,
   "id": "637f0389",
   "metadata": {},
   "outputs": [
    {
     "data": {
      "text/plain": [
       "(889,)"
      ]
     },
     "execution_count": 48,
     "metadata": {},
     "output_type": "execute_result"
    }
   ],
   "source": [
    "y.shape"
   ]
  },
  {
   "cell_type": "markdown",
   "id": "6ae49052",
   "metadata": {},
   "source": [
    "# Data preprocessing"
   ]
  },
  {
   "cell_type": "markdown",
   "id": "a1aa66a5",
   "metadata": {},
   "source": [
    "# Remove oversampling using smote"
   ]
  },
  {
   "cell_type": "code",
   "execution_count": 49,
   "id": "3ae25ddb",
   "metadata": {},
   "outputs": [
    {
     "data": {
      "text/plain": [
       "0    549\n",
       "1    340\n",
       "Name: Survived, dtype: int64"
      ]
     },
     "execution_count": 49,
     "metadata": {},
     "output_type": "execute_result"
    }
   ],
   "source": [
    "y.value_counts()"
   ]
  },
  {
   "cell_type": "code",
   "execution_count": 50,
   "id": "68a58633",
   "metadata": {},
   "outputs": [
    {
     "name": "stdout",
     "output_type": "stream",
     "text": [
      "0    549\n",
      "1    549\n",
      "Name: Survived, dtype: int64\n"
     ]
    },
    {
     "data": {
      "image/png": "[encoded data removed]",
      "text/plain": [
       "<Figure size 432x288 with 1 Axes>"
      ]
     },
     "metadata": {},
     "output_type": "display_data"
    }
   ],
   "source": [
    "from imblearn.over_sampling import SMOTE\n",
    "smt=SMOTE()# instance of smote\n",
    "trainx,trainy=smt.fit_resample(x,y)\n",
    "#print(x.value_counts())\n",
    "sns.countplot(trainy)\n",
    "print(trainy.value_counts())"
   ]
  },
  {
   "cell_type": "markdown",
   "id": "6241a33e",
   "metadata": {},
   "source": [
    "# Scalling"
   ]
  },
  {
   "cell_type": "code",
   "execution_count": 51,
   "id": "c810a2f0",
   "metadata": {},
   "outputs": [
    {
     "data": {
      "text/plain": [
       "array([[ 0.82520863,  0.73534203, -0.53167023, ..., -0.47432585,\n",
       "        -0.81878364,  0.58683958],\n",
       "       [-1.57221121, -1.35991138,  0.68023223, ..., -0.47432585,\n",
       "         2.04377756, -1.93955453],\n",
       "       [ 0.82520863, -1.35991138, -0.22869462, ..., -0.47432585,\n",
       "        -0.7857011 ,  0.58683958],\n",
       "       ...,\n",
       "       [ 0.82520863, -1.35991138, -0.38018243, ...,  2.00611934,\n",
       "        -0.02480266,  0.58683958],\n",
       "       [-1.57221121,  0.73534203, -0.22869462, ..., -0.47432585,\n",
       "         0.29622052, -1.93955453],\n",
       "       [ 0.82520863,  0.73534203,  0.22576881, ..., -0.47432585,\n",
       "        -0.79427805, -0.67635748]])"
      ]
     },
     "execution_count": 51,
     "metadata": {},
     "output_type": "execute_result"
    }
   ],
   "source": [
    "from sklearn.preprocessing import StandardScaler\n",
    "st= StandardScaler()\n",
    "x=st.fit_transform(x)\n",
    "x"
   ]
  },
  {
   "cell_type": "markdown",
   "id": "4216a784",
   "metadata": {},
   "source": [
    "now our data is normalized and no skewness is there bcz values lies between 0 to 1"
   ]
  },
  {
   "cell_type": "markdown",
   "id": "cabf4446",
   "metadata": {},
   "source": [
    "# Split the data into Training and Testing data"
   ]
  },
  {
   "cell_type": "code",
   "execution_count": 52,
   "id": "669ca025",
   "metadata": {},
   "outputs": [],
   "source": [
    "from sklearn.model_selection import train_test_split\n",
    "x_train, x_test, y_train, y_test = train_test_split( x, y, test_size=.25, random_state=16)"
   ]
  },
  {
   "cell_type": "code",
   "execution_count": 53,
   "id": "b012fb54",
   "metadata": {},
   "outputs": [
    {
     "name": "stdout",
     "output_type": "stream",
     "text": [
      "shape of x_train=  (666, 7)\n",
      "shape of y_train=  (666,)\n",
      "shape of x_test=  (223, 7)\n",
      "shape of y_test=  (223,)\n"
     ]
    }
   ],
   "source": [
    "print(\"shape of x_train= \",x_train.shape)\n",
    "print(\"shape of y_train= \",y_train.shape)\n",
    "print(\"shape of x_test= \",x_test.shape)\n",
    "print(\"shape of y_test= \",y_test.shape)"
   ]
  },
  {
   "cell_type": "markdown",
   "id": "6966cae3",
   "metadata": {},
   "source": [
    "# TRANING MODEL\n",
    " Use different different models to train our data"
   ]
  },
  {
   "cell_type": "markdown",
   "id": "fa5bd0eb",
   "metadata": {},
   "source": [
    "# Logistic Regression\n"
   ]
  },
  {
   "cell_type": "code",
   "execution_count": 54,
   "id": "4ac759e2",
   "metadata": {},
   "outputs": [],
   "source": [
    "from sklearn.linear_model import LogisticRegression\n",
    "from sklearn.metrics import accuracy_score,confusion_matrix,classification_report\n"
   ]
  },
  {
   "cell_type": "markdown",
   "id": "83b53d08",
   "metadata": {},
   "source": [
    "# Finding best Random state"
   ]
  },
  {
   "cell_type": "code",
   "execution_count": 55,
   "id": "5c767a9c",
   "metadata": {},
   "outputs": [
    {
     "name": "stdout",
     "output_type": "stream",
     "text": [
      "testing accuracy  0.7623318385650224  random state = 0\n",
      " max accuracy score 0.7623318385650224  max random state = 0\n",
      "testing accuracy  0.8430493273542601  random state = 1\n",
      " max accuracy score 0.8430493273542601  max random state = 1\n",
      "testing accuracy  0.820627802690583  random state = 2\n",
      "testing accuracy  0.7802690582959642  random state = 3\n",
      "testing accuracy  0.7937219730941704  random state = 4\n",
      "testing accuracy  0.8565022421524664  random state = 5\n",
      " max accuracy score 0.8565022421524664  max random state = 5\n",
      "testing accuracy  0.8026905829596412  random state = 6\n",
      "testing accuracy  0.7847533632286996  random state = 7\n",
      "testing accuracy  0.8340807174887892  random state = 8\n",
      "testing accuracy  0.8026905829596412  random state = 9\n",
      "testing accuracy  0.8026905829596412  random state = 10\n",
      "testing accuracy  0.8251121076233184  random state = 11\n",
      "testing accuracy  0.820627802690583  random state = 12\n",
      "testing accuracy  0.8340807174887892  random state = 13\n",
      "testing accuracy  0.7982062780269058  random state = 14\n",
      "testing accuracy  0.7892376681614349  random state = 15\n",
      "testing accuracy  0.8071748878923767  random state = 16\n",
      "testing accuracy  0.7892376681614349  random state = 17\n",
      "testing accuracy  0.8161434977578476  random state = 18\n",
      "testing accuracy  0.7892376681614349  random state = 19\n",
      "testing accuracy  0.8116591928251121  random state = 20\n",
      "testing accuracy  0.8026905829596412  random state = 21\n",
      "testing accuracy  0.7847533632286996  random state = 22\n",
      "testing accuracy  0.7937219730941704  random state = 23\n",
      "testing accuracy  0.8609865470852018  random state = 24\n",
      " max accuracy score 0.8609865470852018  max random state = 24\n",
      "testing accuracy  0.7623318385650224  random state = 25\n",
      "testing accuracy  0.7937219730941704  random state = 26\n",
      "testing accuracy  0.8026905829596412  random state = 27\n",
      "testing accuracy  0.820627802690583  random state = 28\n",
      "testing accuracy  0.8071748878923767  random state = 29\n",
      "testing accuracy  0.7937219730941704  random state = 30\n",
      "testing accuracy  0.7847533632286996  random state = 31\n",
      "testing accuracy  0.8026905829596412  random state = 32\n",
      "testing accuracy  0.8026905829596412  random state = 33\n",
      "testing accuracy  0.820627802690583  random state = 34\n",
      "testing accuracy  0.7713004484304933  random state = 35\n",
      "testing accuracy  0.8340807174887892  random state = 36\n",
      "testing accuracy  0.8026905829596412  random state = 37\n",
      "testing accuracy  0.7937219730941704  random state = 38\n",
      "testing accuracy  0.8161434977578476  random state = 39\n",
      "testing accuracy  0.8071748878923767  random state = 40\n",
      "testing accuracy  0.8026905829596412  random state = 41\n",
      "testing accuracy  0.8026905829596412  random state = 42\n",
      "testing accuracy  0.8251121076233184  random state = 43\n",
      "testing accuracy  0.7892376681614349  random state = 44\n",
      "testing accuracy  0.7713004484304933  random state = 45\n",
      "testing accuracy  0.7847533632286996  random state = 46\n",
      "testing accuracy  0.7982062780269058  random state = 47\n",
      "testing accuracy  0.8026905829596412  random state = 48\n",
      "testing accuracy  0.7982062780269058  random state = 49\n",
      "testing accuracy  0.8071748878923767  random state = 50\n",
      "testing accuracy  0.8071748878923767  random state = 51\n",
      "testing accuracy  0.757847533632287  random state = 52\n",
      "testing accuracy  0.8116591928251121  random state = 53\n",
      "testing accuracy  0.7399103139013453  random state = 54\n",
      "testing accuracy  0.8161434977578476  random state = 55\n",
      "testing accuracy  0.7982062780269058  random state = 56\n",
      "testing accuracy  0.7892376681614349  random state = 57\n",
      "testing accuracy  0.7757847533632287  random state = 58\n",
      "testing accuracy  0.7892376681614349  random state = 59\n",
      "testing accuracy  0.7802690582959642  random state = 60\n",
      "testing accuracy  0.7937219730941704  random state = 61\n",
      "testing accuracy  0.820627802690583  random state = 62\n",
      "testing accuracy  0.7937219730941704  random state = 63\n",
      "testing accuracy  0.7802690582959642  random state = 64\n",
      "testing accuracy  0.8071748878923767  random state = 65\n",
      "testing accuracy  0.8116591928251121  random state = 66\n",
      "testing accuracy  0.8071748878923767  random state = 67\n",
      "testing accuracy  0.8161434977578476  random state = 68\n",
      "testing accuracy  0.8251121076233184  random state = 69\n",
      "testing accuracy  0.7937219730941704  random state = 70\n",
      "testing accuracy  0.7982062780269058  random state = 71\n",
      "testing accuracy  0.8161434977578476  random state = 72\n",
      "testing accuracy  0.7937219730941704  random state = 73\n",
      "testing accuracy  0.8251121076233184  random state = 74\n",
      "testing accuracy  0.7668161434977578  random state = 75\n",
      "testing accuracy  0.7937219730941704  random state = 76\n",
      "testing accuracy  0.8340807174887892  random state = 77\n",
      "testing accuracy  0.8116591928251121  random state = 78\n",
      "testing accuracy  0.7982062780269058  random state = 79\n",
      "testing accuracy  0.7802690582959642  random state = 80\n",
      "testing accuracy  0.8161434977578476  random state = 81\n",
      "testing accuracy  0.7847533632286996  random state = 82\n",
      "testing accuracy  0.8385650224215246  random state = 83\n",
      "testing accuracy  0.7937219730941704  random state = 84\n",
      "testing accuracy  0.7982062780269058  random state = 85\n",
      "testing accuracy  0.757847533632287  random state = 86\n",
      "testing accuracy  0.7937219730941704  random state = 87\n",
      "testing accuracy  0.7937219730941704  random state = 88\n",
      "testing accuracy  0.7668161434977578  random state = 89\n",
      "testing accuracy  0.7937219730941704  random state = 90\n",
      "testing accuracy  0.8071748878923767  random state = 91\n",
      "testing accuracy  0.8026905829596412  random state = 92\n",
      "testing accuracy  0.7668161434977578  random state = 93\n",
      "testing accuracy  0.8340807174887892  random state = 94\n",
      "testing accuracy  0.8430493273542601  random state = 95\n",
      "testing accuracy  0.8385650224215246  random state = 96\n",
      "testing accuracy  0.7892376681614349  random state = 97\n",
      "testing accuracy  0.7488789237668162  random state = 98\n",
      "testing accuracy  0.7623318385650224  random state = 99\n"
     ]
    }
   ],
   "source": [
    "max_accu=0 #maxi accuracy define as 0\n",
    "max_rs=0# best random state for which max accurecy achived\n",
    "\n",
    "lr=LogisticRegression()\n",
    " \n",
    "for i in range(0,100):\n",
    "    x_train, x_test, y_train, y_test = train_test_split( x, y, test_size=.25, random_state=i)\n",
    "    \n",
    "    lr.fit(x_train,y_train)\n",
    "\n",
    "    pred=lr.predict(x_test)# predicted target variable\n",
    "    \n",
    "    acc=accuracy_score(y_test,pred)# accuracy score\n",
    "    \n",
    "    print(\"testing accuracy \",acc, \" random state =\", i)\n",
    "    if acc>max_accu:\n",
    "        max_accu=acc\n",
    "        max_rs=i\n",
    "        print(\" max accuracy score\",acc, \" max random state =\",i)"
   ]
  },
  {
   "cell_type": "code",
   "execution_count": 56,
   "id": "f9798df5",
   "metadata": {},
   "outputs": [
    {
     "name": "stdout",
     "output_type": "stream",
     "text": [
      " max accuracy score 0.8609865470852018  max random state = 24\n"
     ]
    }
   ],
   "source": [
    "print(\" max accuracy score\",max_accu, \" max random state =\", max_rs)"
   ]
  },
  {
   "cell_type": "markdown",
   "id": "66672aea",
   "metadata": {},
   "source": [
    "logistic model for random state 24"
   ]
  },
  {
   "cell_type": "markdown",
   "id": "314fd288",
   "metadata": {},
   "source": [
    "# Hyperparameter Tuning"
   ]
  },
  {
   "cell_type": "code",
   "execution_count": 57,
   "id": "488eaad4",
   "metadata": {},
   "outputs": [
    {
     "name": "stdout",
     "output_type": "stream",
     "text": [
      "0.8393895185725508\n",
      "rbf\n",
      "{'C': 1, 'kernel': 'rbf'}\n"
     ]
    }
   ],
   "source": [
    "from sklearn.model_selection import GridSearchCV\n",
    "from sklearn.svm import SVC\n",
    "svc = SVC()\n",
    "# grid search on kernel and C hyperparameters\n",
    "\n",
    "parameters = {'kernel':('linear', 'rbf','poly'), 'C':[1, 10]}\n",
    "\n",
    "#GridSearchCV(estimator=SVC(), param_grid={'C': [1, 10], 'kernel': ('linear', 'rbf')})\n",
    "\n",
    "clf = GridSearchCV(svc,parameters)\n",
    "clf.fit(x_train,y_train)\n",
    "\n",
    "print(clf.best_score_)\n",
    "print(clf.best_estimator_.kernel)\n",
    "print(clf.best_params_)"
   ]
  },
  {
   "cell_type": "code",
   "execution_count": 58,
   "id": "7f687431",
   "metadata": {},
   "outputs": [
    {
     "name": "stdout",
     "output_type": "stream",
     "text": [
      "0.8063517001458871\n",
      "entropy\n",
      "{'criterion': 'entropy'}\n"
     ]
    }
   ],
   "source": [
    "\n",
    "from sklearn.tree import DecisionTreeClassifier\n",
    "dtc=DecisionTreeClassifier()\n",
    "\n",
    "parameter={\"criterion\":[\"gini\",\"entropy\"]}\n",
    "\n",
    "gd = GridSearchCV(dtc,parameter)\n",
    "gd.fit(x_train,y_train)\n",
    "\n",
    "print(gd.best_score_)\n",
    "print(gd.best_estimator_.criterion)\n",
    "print(gd.best_params_)"
   ]
  },
  {
   "cell_type": "code",
   "execution_count": 59,
   "id": "9a7a25d9",
   "metadata": {
    "scrolled": true
   },
   "outputs": [
    {
     "name": "stdout",
     "output_type": "stream",
     "text": [
      "accuracy score of KNeighborsClassifier() is\n",
      "83.85650224215246\n",
      "[[131  12]\n",
      " [ 24  56]]\n",
      "              precision    recall  f1-score   support\n",
      "\n",
      "           0       0.85      0.92      0.88       143\n",
      "           1       0.82      0.70      0.76        80\n",
      "\n",
      "    accuracy                           0.84       223\n",
      "   macro avg       0.83      0.81      0.82       223\n",
      "weighted avg       0.84      0.84      0.84       223\n",
      "\n",
      "accuracy score of LogisticRegression() is\n",
      "86.09865470852019\n",
      "[[132  11]\n",
      " [ 20  60]]\n",
      "              precision    recall  f1-score   support\n",
      "\n",
      "           0       0.87      0.92      0.89       143\n",
      "           1       0.85      0.75      0.79        80\n",
      "\n",
      "    accuracy                           0.86       223\n",
      "   macro avg       0.86      0.84      0.84       223\n",
      "weighted avg       0.86      0.86      0.86       223\n",
      "\n",
      "accuracy score of DecisionTreeClassifier() is\n",
      "80.71748878923766\n",
      "[[125  18]\n",
      " [ 25  55]]\n",
      "              precision    recall  f1-score   support\n",
      "\n",
      "           0       0.83      0.87      0.85       143\n",
      "           1       0.75      0.69      0.72        80\n",
      "\n",
      "    accuracy                           0.81       223\n",
      "   macro avg       0.79      0.78      0.79       223\n",
      "weighted avg       0.80      0.81      0.81       223\n",
      "\n",
      "accuracy score of SVC(C=1, kernel='linear') is\n",
      "84.30493273542601\n",
      "[[130  13]\n",
      " [ 22  58]]\n",
      "              precision    recall  f1-score   support\n",
      "\n",
      "           0       0.86      0.91      0.88       143\n",
      "           1       0.82      0.72      0.77        80\n",
      "\n",
      "    accuracy                           0.84       223\n",
      "   macro avg       0.84      0.82      0.82       223\n",
      "weighted avg       0.84      0.84      0.84       223\n",
      "\n",
      "accuracy score of RandomForestClassifier(n_estimators=300) is\n",
      "84.30493273542601\n",
      "[[129  14]\n",
      " [ 21  59]]\n",
      "              precision    recall  f1-score   support\n",
      "\n",
      "           0       0.86      0.90      0.88       143\n",
      "           1       0.81      0.74      0.77        80\n",
      "\n",
      "    accuracy                           0.84       223\n",
      "   macro avg       0.83      0.82      0.83       223\n",
      "weighted avg       0.84      0.84      0.84       223\n",
      "\n"
     ]
    }
   ],
   "source": [
    "# check all model accurecy at a single code\n",
    "from sklearn.metrics import accuracy_score,confusion_matrix,classification_report\n",
    "from sklearn.neighbors import KNeighborsClassifier\n",
    "from sklearn.ensemble import RandomForestClassifier\n",
    "from sklearn.svm import SVC\n",
    "from sklearn.tree import DecisionTreeClassifier\n",
    "from sklearn.linear_model import LogisticRegression\n",
    "\n",
    "rf= RandomForestClassifier(n_estimators=300)\n",
    "knn=KNeighborsClassifier()\n",
    "lr=LogisticRegression()\n",
    "dtc= DecisionTreeClassifier(criterion=\"gini\")\n",
    "svc= SVC(kernel=\"linear\",C=1)\n",
    "\n",
    "model=[knn,lr,dtc,svc,rf]\n",
    "\n",
    "for m in model:\n",
    "    x_train, x_test, y_train, y_test = train_test_split( x, y, test_size=.25, random_state=24)\n",
    "    m.fit(x_train , y_train)\n",
    "    m.score(x_train , y_train)\n",
    "    predm=m.predict(x_test)\n",
    "    print('accuracy score of' ,m, 'is')\n",
    "    print(accuracy_score(y_test,predm)*100)\n",
    "    print(confusion_matrix(y_test,predm))\n",
    "    print(classification_report(y_test,predm))"
   ]
  },
  {
   "cell_type": "code",
   "execution_count": 67,
   "id": "6100db68",
   "metadata": {},
   "outputs": [
    {
     "data": {
      "text/html": [
       "<div>\n",
       "<style scoped>\n",
       "    .dataframe tbody tr th:only-of-type {\n",
       "        vertical-align: middle;\n",
       "    }\n",
       "\n",
       "    .dataframe tbody tr th {\n",
       "        vertical-align: top;\n",
       "    }\n",
       "\n",
       "    .dataframe thead th {\n",
       "        text-align: right;\n",
       "    }\n",
       "</style>\n",
       "<table border=\"1\" class=\"dataframe\">\n",
       "  <thead>\n",
       "    <tr style=\"text-align: right;\">\n",
       "      <th></th>\n",
       "      <th>Model</th>\n",
       "    </tr>\n",
       "    <tr>\n",
       "      <th>Score</th>\n",
       "      <th></th>\n",
       "    </tr>\n",
       "  </thead>\n",
       "  <tbody>\n",
       "    <tr>\n",
       "      <th>86</th>\n",
       "      <td>Logistic Regression</td>\n",
       "    </tr>\n",
       "    <tr>\n",
       "      <th>84</th>\n",
       "      <td>SVC</td>\n",
       "    </tr>\n",
       "    <tr>\n",
       "      <th>84</th>\n",
       "      <td>Random Forest</td>\n",
       "    </tr>\n",
       "    <tr>\n",
       "      <th>83</th>\n",
       "      <td>KNN</td>\n",
       "    </tr>\n",
       "    <tr>\n",
       "      <th>81</th>\n",
       "      <td>Decision Tree</td>\n",
       "    </tr>\n",
       "  </tbody>\n",
       "</table>\n",
       "</div>"
      ],
      "text/plain": [
       "                     Model\n",
       "Score                     \n",
       "86     Logistic Regression\n",
       "84                     SVC\n",
       "84           Random Forest\n",
       "83                     KNN\n",
       "81           Decision Tree"
      ]
     },
     "execution_count": 67,
     "metadata": {},
     "output_type": "execute_result"
    }
   ],
   "source": [
    "results = pd.DataFrame({\n",
    "    'Model': ['Logistic Regression','KNN', 'SVC','Decision Tree' ,'Random Forest'],\n",
    "    'Score': [86,83,84,81,84]})\n",
    "\n",
    "result_df = results.sort_values(by='Score', ascending=False)\n",
    "result_df = result_df.set_index('Score')\n",
    "result_df"
   ]
  },
  {
   "cell_type": "markdown",
   "id": "3efd75f0",
   "metadata": {},
   "source": [
    "# Cross validation score for all model"
   ]
  },
  {
   "cell_type": "code",
   "execution_count": 61,
   "id": "157d8e16",
   "metadata": {},
   "outputs": [
    {
     "name": "stdout",
     "output_type": "stream",
     "text": [
      " At cv = 4\n",
      "cross validation score of logisticRegression is 79.86708681775947\n",
      "cross validation score of decision Tree is 79.53126893709853\n",
      "cross validation K score is 77.61786450127258\n",
      "cross validation score Random Farest is 80.54478245061205\n",
      "cross validation score SVC is 78.62683311113805\n",
      " At cv = 5\n",
      "cross validation score of logisticRegression is 78.74309655303752\n",
      "cross validation score of decision Tree is 80.65447851202944\n",
      "cross validation K score is 78.06830444994604\n",
      "cross validation score Random Farest is 80.76747286231193\n",
      "cross validation score SVC is 78.73992255443407\n",
      " At cv = 6\n",
      "cross validation score of logisticRegression is 78.9686498579116\n",
      "cross validation score of decision Tree is 79.41985609770845\n",
      "cross validation K score is 78.85830461333818\n",
      "cross validation score Random Farest is 81.33351472277647\n",
      "cross validation score SVC is 78.51442046072918\n",
      " At cv = 7\n",
      "cross validation score of logisticRegression is 79.30258717660293\n",
      "cross validation score of decision Tree is 79.41507311586051\n",
      "cross validation K score is 79.07761529808774\n",
      "cross validation score Random Farest is 81.3273340832396\n",
      "cross validation score SVC is 78.62767154105738\n",
      " At cv = 8\n",
      "cross validation score of logisticRegression is 79.1918034105534\n",
      "cross validation score of decision Tree is 79.64325933075934\n",
      "cross validation K score is 78.18331724581724\n",
      "cross validation score Random Farest is 81.56069015444017\n",
      "cross validation score SVC is 78.62471846846847\n",
      " At cv = 9\n",
      "cross validation score of logisticRegression is 79.19214823976728\n",
      "cross validation score of decision Tree is 78.52103804484757\n",
      "cross validation K score is 78.29428067523305\n",
      "cross validation score Random Farest is 80.99704528275957\n",
      "cross validation score SVC is 78.62754529421197\n"
     ]
    }
   ],
   "source": [
    "\n",
    "#cross validation for models\n",
    "from sklearn.model_selection import cross_val_score\n",
    "for j in range(4,10):\n",
    "    cv_lr=cross_val_score(lr,x,y,cv=j)\n",
    "    cv_dtc=cross_val_score(dtc,x,y,cv=j)\n",
    "    cv_knn=cross_val_score(knn,x,y,cv=j)\n",
    "    cv_rf=cross_val_score(rf,x,y,cv=j)\n",
    "    cv_svc=cross_val_score(svc,x,y,cv=j)\n",
    "    \n",
    "    print(\" At cv =\",j)\n",
    "    print(\"cross validation score of logisticRegression is\",cv_lr.mean()*100)\n",
    "    print(\"cross validation score of decision Tree is\",cv_knn.mean()*100)\n",
    "    print(\"cross validation K score is\",cv_dtc.mean()*100)\n",
    "    print(\"cross validation score Random Farest is\",cv_rf.mean()*100)\n",
    "    print(\"cross validation score SVC is\",cv_svc.mean()*100)\n",
    "    "
   ]
  },
  {
   "cell_type": "code",
   "execution_count": 68,
   "id": "9b8312a0",
   "metadata": {},
   "outputs": [
    {
     "data": {
      "text/html": [
       "<div>\n",
       "<style scoped>\n",
       "    .dataframe tbody tr th:only-of-type {\n",
       "        vertical-align: middle;\n",
       "    }\n",
       "\n",
       "    .dataframe tbody tr th {\n",
       "        vertical-align: top;\n",
       "    }\n",
       "\n",
       "    .dataframe thead th {\n",
       "        text-align: right;\n",
       "    }\n",
       "</style>\n",
       "<table border=\"1\" class=\"dataframe\">\n",
       "  <thead>\n",
       "    <tr style=\"text-align: right;\">\n",
       "      <th></th>\n",
       "      <th>Model</th>\n",
       "      <th>Acurracy Score</th>\n",
       "      <th>Cross validation score</th>\n",
       "    </tr>\n",
       "  </thead>\n",
       "  <tbody>\n",
       "    <tr>\n",
       "      <th>0</th>\n",
       "      <td>Logistic Regression</td>\n",
       "      <td>86</td>\n",
       "      <td>79</td>\n",
       "    </tr>\n",
       "    <tr>\n",
       "      <th>1</th>\n",
       "      <td>KNN</td>\n",
       "      <td>74</td>\n",
       "      <td>79</td>\n",
       "    </tr>\n",
       "    <tr>\n",
       "      <th>2</th>\n",
       "      <td>SVC</td>\n",
       "      <td>65</td>\n",
       "      <td>79</td>\n",
       "    </tr>\n",
       "    <tr>\n",
       "      <th>3</th>\n",
       "      <td>Decision Tree</td>\n",
       "      <td>81</td>\n",
       "      <td>78</td>\n",
       "    </tr>\n",
       "    <tr>\n",
       "      <th>4</th>\n",
       "      <td>Random Forest</td>\n",
       "      <td>84</td>\n",
       "      <td>81</td>\n",
       "    </tr>\n",
       "  </tbody>\n",
       "</table>\n",
       "</div>"
      ],
      "text/plain": [
       "                 Model  Acurracy Score  Cross validation score\n",
       "0  Logistic Regression              86                      79\n",
       "1                  KNN              74                      79\n",
       "2                  SVC              65                      79\n",
       "3        Decision Tree              81                      78\n",
       "4        Random Forest              84                      81"
      ]
     },
     "execution_count": 68,
     "metadata": {},
     "output_type": "execute_result"
    }
   ],
   "source": [
    "results = pd.DataFrame({\n",
    "    'Model': ['Logistic Regression','KNN', 'SVC','Decision Tree' ,'Random Forest'],\n",
    "    'Acurracy Score': [86,74,65,81,84],\n",
    "     \"Cross validation score\":[79,79,79,78,81]})\n",
    "results"
   ]
  },
  {
   "cell_type": "markdown",
   "id": "a5636e30",
   "metadata": {},
   "source": [
    "# conclusion"
   ]
  },
  {
   "cell_type": "markdown",
   "id": "4bed550c",
   "metadata": {},
   "source": [
    "Acurracy Score of logistic regression and cross validation score of Random forest is best\n",
    "\n",
    "The Difference Between Acurracy Score and cross validation score of Random forest and logistic regression  is less so we consider that Both model performance is good"
   ]
  },
  {
   "cell_type": "markdown",
   "id": "0846d8b6",
   "metadata": {},
   "source": [
    "# AUC ROC CURV"
   ]
  },
  {
   "cell_type": "code",
   "execution_count": 63,
   "id": "fd5a629e",
   "metadata": {},
   "outputs": [
    {
     "data": {
      "image/png": "[encoded data removed]",
      "text/plain": [
       "<Figure size 432x288 with 1 Axes>"
      ]
     },
     "metadata": {},
     "output_type": "display_data"
    }
   ],
   "source": [
    "from sklearn.metrics import plot_roc_curve\n",
    "plot_roc_curve(rf,x_test,y_test)\n",
    "\n",
    "plt.title(\"AUC ROC CURV\")\n",
    "\n",
    "plt.show()"
   ]
  },
  {
   "cell_type": "code",
   "execution_count": 64,
   "id": "3b12df59",
   "metadata": {},
   "outputs": [
    {
     "data": {
      "image/png": "[encoded data removed]",
      "text/plain": [
       "<Figure size 432x288 with 1 Axes>"
      ]
     },
     "metadata": {},
     "output_type": "display_data"
    }
   ],
   "source": [
    "from sklearn.metrics import plot_roc_curve\n",
    "plot_roc_curve(lr,x_test,y_test)\n",
    "\n",
    "plt.title(\"AUC ROC CURV\")\n",
    "\n",
    "plt.show()"
   ]
  },
  {
   "cell_type": "markdown",
   "id": "4c4f3c78",
   "metadata": {},
   "source": [
    "# model saving"
   ]
  },
  {
   "cell_type": "code",
   "execution_count": 65,
   "id": "1a44d5ff",
   "metadata": {},
   "outputs": [],
   "source": [
    "import pickle\n",
    "filename_1=\"Titanic.pkl\"\n",
    "pickle.dump(rf,open(filename_1,\"wb\"))"
   ]
  },
  {
   "cell_type": "markdown",
   "id": "3be6a2be",
   "metadata": {},
   "source": [
    "# check Model performance"
   ]
  },
  {
   "cell_type": "code",
   "execution_count": 66,
   "id": "d6572701",
   "metadata": {},
   "outputs": [
    {
     "data": {
      "text/html": [
       "<div>\n",
       "<style scoped>\n",
       "    .dataframe tbody tr th:only-of-type {\n",
       "        vertical-align: middle;\n",
       "    }\n",
       "\n",
       "    .dataframe tbody tr th {\n",
       "        vertical-align: top;\n",
       "    }\n",
       "\n",
       "    .dataframe thead th {\n",
       "        text-align: right;\n",
       "    }\n",
       "</style>\n",
       "<table border=\"1\" class=\"dataframe\">\n",
       "  <thead>\n",
       "    <tr style=\"text-align: right;\">\n",
       "      <th></th>\n",
       "      <th>original</th>\n",
       "      <th>predicted</th>\n",
       "    </tr>\n",
       "  </thead>\n",
       "  <tbody>\n",
       "    <tr>\n",
       "      <th>0</th>\n",
       "      <td>0</td>\n",
       "      <td>0</td>\n",
       "    </tr>\n",
       "    <tr>\n",
       "      <th>1</th>\n",
       "      <td>0</td>\n",
       "      <td>0</td>\n",
       "    </tr>\n",
       "    <tr>\n",
       "      <th>2</th>\n",
       "      <td>1</td>\n",
       "      <td>0</td>\n",
       "    </tr>\n",
       "    <tr>\n",
       "      <th>3</th>\n",
       "      <td>0</td>\n",
       "      <td>0</td>\n",
       "    </tr>\n",
       "    <tr>\n",
       "      <th>4</th>\n",
       "      <td>1</td>\n",
       "      <td>0</td>\n",
       "    </tr>\n",
       "    <tr>\n",
       "      <th>...</th>\n",
       "      <td>...</td>\n",
       "      <td>...</td>\n",
       "    </tr>\n",
       "    <tr>\n",
       "      <th>218</th>\n",
       "      <td>0</td>\n",
       "      <td>0</td>\n",
       "    </tr>\n",
       "    <tr>\n",
       "      <th>219</th>\n",
       "      <td>1</td>\n",
       "      <td>1</td>\n",
       "    </tr>\n",
       "    <tr>\n",
       "      <th>220</th>\n",
       "      <td>1</td>\n",
       "      <td>1</td>\n",
       "    </tr>\n",
       "    <tr>\n",
       "      <th>221</th>\n",
       "      <td>1</td>\n",
       "      <td>1</td>\n",
       "    </tr>\n",
       "    <tr>\n",
       "      <th>222</th>\n",
       "      <td>0</td>\n",
       "      <td>0</td>\n",
       "    </tr>\n",
       "  </tbody>\n",
       "</table>\n",
       "<p>223 rows × 2 columns</p>\n",
       "</div>"
      ],
      "text/plain": [
       "     original  predicted\n",
       "0           0          0\n",
       "1           0          0\n",
       "2           1          0\n",
       "3           0          0\n",
       "4           1          0\n",
       "..        ...        ...\n",
       "218         0          0\n",
       "219         1          1\n",
       "220         1          1\n",
       "221         1          1\n",
       "222         0          0\n",
       "\n",
       "[223 rows x 2 columns]"
      ]
     },
     "execution_count": 66,
     "metadata": {},
     "output_type": "execute_result"
    }
   ],
   "source": [
    "original=np.array(y_test)\n",
    "predicted=np.array(rf.predict(x_test))\n",
    "\n",
    "df_com=pd.DataFrame({\"original\":original,\"predicted\":predicted},index=range(len(original)))\n",
    "df_com"
   ]
  }
 ],
 "metadata": {
  "kernelspec": {
   "display_name": "Python 3 (ipykernel)",
   "language": "python",
   "name": "python3"
  },
  "language_info": {
   "codemirror_mode": {
    "name": "ipython",
    "version": 3
   },
   "file_extension": ".py",
   "mimetype": "text/x-python",
   "name": "python",
   "nbconvert_exporter": "python",
   "pygments_lexer": "ipython3",
   "version": "3.9.7"
  }
 },
 "nbformat": 4,
 "nbformat_minor": 5
}
