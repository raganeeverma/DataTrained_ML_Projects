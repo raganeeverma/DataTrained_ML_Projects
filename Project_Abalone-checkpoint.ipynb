{
 "cells": [
  {
   "cell_type": "markdown",
   "id": "f7b8722e",
   "metadata": {},
   "source": [
    "# Obtain the Data"
   ]
  },
  {
   "cell_type": "code",
   "execution_count": 1,
   "id": "06371c54",
   "metadata": {},
   "outputs": [],
   "source": [
    "import pandas as pd\n",
    "import numpy as np\n",
    "import seaborn as sns\n",
    "import matplotlib\n",
    "import matplotlib.pyplot as plt\n",
    "import scipy.stats as st\n",
    "import warnings\n",
    "warnings.filterwarnings('ignore')"
   ]
  },
  {
   "cell_type": "code",
   "execution_count": 2,
   "id": "856b9faa",
   "metadata": {},
   "outputs": [],
   "source": [
    "Abalone=pd.read_csv(\"abalone.csv\")"
   ]
  },
  {
   "cell_type": "code",
   "execution_count": 3,
   "id": "6bd27edc",
   "metadata": {},
   "outputs": [
    {
     "data": {
      "text/html": [
       "<div>\n",
       "<style scoped>\n",
       "    .dataframe tbody tr th:only-of-type {\n",
       "        vertical-align: middle;\n",
       "    }\n",
       "\n",
       "    .dataframe tbody tr th {\n",
       "        vertical-align: top;\n",
       "    }\n",
       "\n",
       "    .dataframe thead th {\n",
       "        text-align: right;\n",
       "    }\n",
       "</style>\n",
       "<table border=\"1\" class=\"dataframe\">\n",
       "  <thead>\n",
       "    <tr style=\"text-align: right;\">\n",
       "      <th></th>\n",
       "      <th>Sex</th>\n",
       "      <th>Length</th>\n",
       "      <th>Diameter</th>\n",
       "      <th>Height</th>\n",
       "      <th>Whole weight</th>\n",
       "      <th>Shucked weight</th>\n",
       "      <th>Viscera weight</th>\n",
       "      <th>Shell weight</th>\n",
       "      <th>Rings</th>\n",
       "    </tr>\n",
       "  </thead>\n",
       "  <tbody>\n",
       "    <tr>\n",
       "      <th>0</th>\n",
       "      <td>M</td>\n",
       "      <td>0.455</td>\n",
       "      <td>0.365</td>\n",
       "      <td>0.095</td>\n",
       "      <td>0.5140</td>\n",
       "      <td>0.2245</td>\n",
       "      <td>0.1010</td>\n",
       "      <td>0.150</td>\n",
       "      <td>15</td>\n",
       "    </tr>\n",
       "    <tr>\n",
       "      <th>1</th>\n",
       "      <td>M</td>\n",
       "      <td>0.350</td>\n",
       "      <td>0.265</td>\n",
       "      <td>0.090</td>\n",
       "      <td>0.2255</td>\n",
       "      <td>0.0995</td>\n",
       "      <td>0.0485</td>\n",
       "      <td>0.070</td>\n",
       "      <td>7</td>\n",
       "    </tr>\n",
       "    <tr>\n",
       "      <th>2</th>\n",
       "      <td>F</td>\n",
       "      <td>0.530</td>\n",
       "      <td>0.420</td>\n",
       "      <td>0.135</td>\n",
       "      <td>0.6770</td>\n",
       "      <td>0.2565</td>\n",
       "      <td>0.1415</td>\n",
       "      <td>0.210</td>\n",
       "      <td>9</td>\n",
       "    </tr>\n",
       "    <tr>\n",
       "      <th>3</th>\n",
       "      <td>M</td>\n",
       "      <td>0.440</td>\n",
       "      <td>0.365</td>\n",
       "      <td>0.125</td>\n",
       "      <td>0.5160</td>\n",
       "      <td>0.2155</td>\n",
       "      <td>0.1140</td>\n",
       "      <td>0.155</td>\n",
       "      <td>10</td>\n",
       "    </tr>\n",
       "    <tr>\n",
       "      <th>4</th>\n",
       "      <td>I</td>\n",
       "      <td>0.330</td>\n",
       "      <td>0.255</td>\n",
       "      <td>0.080</td>\n",
       "      <td>0.2050</td>\n",
       "      <td>0.0895</td>\n",
       "      <td>0.0395</td>\n",
       "      <td>0.055</td>\n",
       "      <td>7</td>\n",
       "    </tr>\n",
       "  </tbody>\n",
       "</table>\n",
       "</div>"
      ],
      "text/plain": [
       "  Sex  Length  Diameter  Height  Whole weight  Shucked weight  Viscera weight  \\\n",
       "0   M   0.455     0.365   0.095        0.5140          0.2245          0.1010   \n",
       "1   M   0.350     0.265   0.090        0.2255          0.0995          0.0485   \n",
       "2   F   0.530     0.420   0.135        0.6770          0.2565          0.1415   \n",
       "3   M   0.440     0.365   0.125        0.5160          0.2155          0.1140   \n",
       "4   I   0.330     0.255   0.080        0.2050          0.0895          0.0395   \n",
       "\n",
       "   Shell weight  Rings  \n",
       "0         0.150     15  \n",
       "1         0.070      7  \n",
       "2         0.210      9  \n",
       "3         0.155     10  \n",
       "4         0.055      7  "
      ]
     },
     "execution_count": 3,
     "metadata": {},
     "output_type": "execute_result"
    }
   ],
   "source": [
    "Abalone.head()"
   ]
  },
  {
   "cell_type": "code",
   "execution_count": 4,
   "id": "440ef2cc",
   "metadata": {},
   "outputs": [
    {
     "data": {
      "text/plain": [
       "Index(['Sex', 'Length', 'Diameter', 'Height', 'Whole weight', 'Shucked weight',\n",
       "       'Viscera weight', 'Shell weight', 'Rings'],\n",
       "      dtype='object')"
      ]
     },
     "execution_count": 4,
     "metadata": {},
     "output_type": "execute_result"
    }
   ],
   "source": [
    "Abalone.columns"
   ]
  },
  {
   "cell_type": "code",
   "execution_count": 5,
   "id": "c18af2a9",
   "metadata": {},
   "outputs": [
    {
     "data": {
      "text/plain": [
       "(4177, 9)"
      ]
     },
     "execution_count": 5,
     "metadata": {},
     "output_type": "execute_result"
    }
   ],
   "source": [
    "Abalone.shape"
   ]
  },
  {
   "cell_type": "code",
   "execution_count": 6,
   "id": "1036de6a",
   "metadata": {},
   "outputs": [
    {
     "name": "stdout",
     "output_type": "stream",
     "text": [
      "<class 'pandas.core.frame.DataFrame'>\n",
      "RangeIndex: 4177 entries, 0 to 4176\n",
      "Data columns (total 9 columns):\n",
      " #   Column          Non-Null Count  Dtype  \n",
      "---  ------          --------------  -----  \n",
      " 0   Sex             4177 non-null   object \n",
      " 1   Length          4177 non-null   float64\n",
      " 2   Diameter        4177 non-null   float64\n",
      " 3   Height          4177 non-null   float64\n",
      " 4   Whole weight    4177 non-null   float64\n",
      " 5   Shucked weight  4177 non-null   float64\n",
      " 6   Viscera weight  4177 non-null   float64\n",
      " 7   Shell weight    4177 non-null   float64\n",
      " 8   Rings           4177 non-null   int64  \n",
      "dtypes: float64(7), int64(1), object(1)\n",
      "memory usage: 293.8+ KB\n"
     ]
    }
   ],
   "source": [
    "Abalone.info()"
   ]
  },
  {
   "cell_type": "markdown",
   "id": "13bd7c79",
   "metadata": {},
   "source": [
    "# Clean The Data"
   ]
  },
  {
   "cell_type": "code",
   "execution_count": 7,
   "id": "5ff17846",
   "metadata": {},
   "outputs": [
    {
     "data": {
      "text/plain": [
       "Sex               0\n",
       "Length            0\n",
       "Diameter          0\n",
       "Height            0\n",
       "Whole weight      0\n",
       "Shucked weight    0\n",
       "Viscera weight    0\n",
       "Shell weight      0\n",
       "Rings             0\n",
       "dtype: int64"
      ]
     },
     "execution_count": 7,
     "metadata": {},
     "output_type": "execute_result"
    }
   ],
   "source": [
    "Abalone.isnull().sum()"
   ]
  },
  {
   "cell_type": "code",
   "execution_count": 8,
   "id": "f7cddc55",
   "metadata": {},
   "outputs": [],
   "source": [
    "# no null value are present"
   ]
  },
  {
   "cell_type": "markdown",
   "id": "6d1163f0",
   "metadata": {},
   "source": [
    "# Duplicate"
   ]
  },
  {
   "cell_type": "code",
   "execution_count": 9,
   "id": "7d4a556a",
   "metadata": {},
   "outputs": [
    {
     "data": {
      "text/html": [
       "<div>\n",
       "<style scoped>\n",
       "    .dataframe tbody tr th:only-of-type {\n",
       "        vertical-align: middle;\n",
       "    }\n",
       "\n",
       "    .dataframe tbody tr th {\n",
       "        vertical-align: top;\n",
       "    }\n",
       "\n",
       "    .dataframe thead th {\n",
       "        text-align: right;\n",
       "    }\n",
       "</style>\n",
       "<table border=\"1\" class=\"dataframe\">\n",
       "  <thead>\n",
       "    <tr style=\"text-align: right;\">\n",
       "      <th></th>\n",
       "      <th>Sex</th>\n",
       "      <th>Length</th>\n",
       "      <th>Diameter</th>\n",
       "      <th>Height</th>\n",
       "      <th>Whole weight</th>\n",
       "      <th>Shucked weight</th>\n",
       "      <th>Viscera weight</th>\n",
       "      <th>Shell weight</th>\n",
       "      <th>Rings</th>\n",
       "    </tr>\n",
       "  </thead>\n",
       "  <tbody>\n",
       "    <tr>\n",
       "      <th>0</th>\n",
       "      <td>M</td>\n",
       "      <td>0.455</td>\n",
       "      <td>0.365</td>\n",
       "      <td>0.095</td>\n",
       "      <td>0.5140</td>\n",
       "      <td>0.2245</td>\n",
       "      <td>0.1010</td>\n",
       "      <td>0.1500</td>\n",
       "      <td>15</td>\n",
       "    </tr>\n",
       "    <tr>\n",
       "      <th>1</th>\n",
       "      <td>M</td>\n",
       "      <td>0.350</td>\n",
       "      <td>0.265</td>\n",
       "      <td>0.090</td>\n",
       "      <td>0.2255</td>\n",
       "      <td>0.0995</td>\n",
       "      <td>0.0485</td>\n",
       "      <td>0.0700</td>\n",
       "      <td>7</td>\n",
       "    </tr>\n",
       "    <tr>\n",
       "      <th>2</th>\n",
       "      <td>F</td>\n",
       "      <td>0.530</td>\n",
       "      <td>0.420</td>\n",
       "      <td>0.135</td>\n",
       "      <td>0.6770</td>\n",
       "      <td>0.2565</td>\n",
       "      <td>0.1415</td>\n",
       "      <td>0.2100</td>\n",
       "      <td>9</td>\n",
       "    </tr>\n",
       "    <tr>\n",
       "      <th>3</th>\n",
       "      <td>M</td>\n",
       "      <td>0.440</td>\n",
       "      <td>0.365</td>\n",
       "      <td>0.125</td>\n",
       "      <td>0.5160</td>\n",
       "      <td>0.2155</td>\n",
       "      <td>0.1140</td>\n",
       "      <td>0.1550</td>\n",
       "      <td>10</td>\n",
       "    </tr>\n",
       "    <tr>\n",
       "      <th>4</th>\n",
       "      <td>I</td>\n",
       "      <td>0.330</td>\n",
       "      <td>0.255</td>\n",
       "      <td>0.080</td>\n",
       "      <td>0.2050</td>\n",
       "      <td>0.0895</td>\n",
       "      <td>0.0395</td>\n",
       "      <td>0.0550</td>\n",
       "      <td>7</td>\n",
       "    </tr>\n",
       "    <tr>\n",
       "      <th>...</th>\n",
       "      <td>...</td>\n",
       "      <td>...</td>\n",
       "      <td>...</td>\n",
       "      <td>...</td>\n",
       "      <td>...</td>\n",
       "      <td>...</td>\n",
       "      <td>...</td>\n",
       "      <td>...</td>\n",
       "      <td>...</td>\n",
       "    </tr>\n",
       "    <tr>\n",
       "      <th>4172</th>\n",
       "      <td>F</td>\n",
       "      <td>0.565</td>\n",
       "      <td>0.450</td>\n",
       "      <td>0.165</td>\n",
       "      <td>0.8870</td>\n",
       "      <td>0.3700</td>\n",
       "      <td>0.2390</td>\n",
       "      <td>0.2490</td>\n",
       "      <td>11</td>\n",
       "    </tr>\n",
       "    <tr>\n",
       "      <th>4173</th>\n",
       "      <td>M</td>\n",
       "      <td>0.590</td>\n",
       "      <td>0.440</td>\n",
       "      <td>0.135</td>\n",
       "      <td>0.9660</td>\n",
       "      <td>0.4390</td>\n",
       "      <td>0.2145</td>\n",
       "      <td>0.2605</td>\n",
       "      <td>10</td>\n",
       "    </tr>\n",
       "    <tr>\n",
       "      <th>4174</th>\n",
       "      <td>M</td>\n",
       "      <td>0.600</td>\n",
       "      <td>0.475</td>\n",
       "      <td>0.205</td>\n",
       "      <td>1.1760</td>\n",
       "      <td>0.5255</td>\n",
       "      <td>0.2875</td>\n",
       "      <td>0.3080</td>\n",
       "      <td>9</td>\n",
       "    </tr>\n",
       "    <tr>\n",
       "      <th>4175</th>\n",
       "      <td>F</td>\n",
       "      <td>0.625</td>\n",
       "      <td>0.485</td>\n",
       "      <td>0.150</td>\n",
       "      <td>1.0945</td>\n",
       "      <td>0.5310</td>\n",
       "      <td>0.2610</td>\n",
       "      <td>0.2960</td>\n",
       "      <td>10</td>\n",
       "    </tr>\n",
       "    <tr>\n",
       "      <th>4176</th>\n",
       "      <td>M</td>\n",
       "      <td>0.710</td>\n",
       "      <td>0.555</td>\n",
       "      <td>0.195</td>\n",
       "      <td>1.9485</td>\n",
       "      <td>0.9455</td>\n",
       "      <td>0.3765</td>\n",
       "      <td>0.4950</td>\n",
       "      <td>12</td>\n",
       "    </tr>\n",
       "  </tbody>\n",
       "</table>\n",
       "<p>4177 rows × 9 columns</p>\n",
       "</div>"
      ],
      "text/plain": [
       "     Sex  Length  Diameter  Height  Whole weight  Shucked weight  \\\n",
       "0      M   0.455     0.365   0.095        0.5140          0.2245   \n",
       "1      M   0.350     0.265   0.090        0.2255          0.0995   \n",
       "2      F   0.530     0.420   0.135        0.6770          0.2565   \n",
       "3      M   0.440     0.365   0.125        0.5160          0.2155   \n",
       "4      I   0.330     0.255   0.080        0.2050          0.0895   \n",
       "...   ..     ...       ...     ...           ...             ...   \n",
       "4172   F   0.565     0.450   0.165        0.8870          0.3700   \n",
       "4173   M   0.590     0.440   0.135        0.9660          0.4390   \n",
       "4174   M   0.600     0.475   0.205        1.1760          0.5255   \n",
       "4175   F   0.625     0.485   0.150        1.0945          0.5310   \n",
       "4176   M   0.710     0.555   0.195        1.9485          0.9455   \n",
       "\n",
       "      Viscera weight  Shell weight  Rings  \n",
       "0             0.1010        0.1500     15  \n",
       "1             0.0485        0.0700      7  \n",
       "2             0.1415        0.2100      9  \n",
       "3             0.1140        0.1550     10  \n",
       "4             0.0395        0.0550      7  \n",
       "...              ...           ...    ...  \n",
       "4172          0.2390        0.2490     11  \n",
       "4173          0.2145        0.2605     10  \n",
       "4174          0.2875        0.3080      9  \n",
       "4175          0.2610        0.2960     10  \n",
       "4176          0.3765        0.4950     12  \n",
       "\n",
       "[4177 rows x 9 columns]"
      ]
     },
     "execution_count": 9,
     "metadata": {},
     "output_type": "execute_result"
    }
   ],
   "source": [
    "# if duplicate value present drop this row\n",
    "Abalone.drop_duplicates() "
   ]
  },
  {
   "cell_type": "code",
   "execution_count": 10,
   "id": "fd702a75",
   "metadata": {},
   "outputs": [
    {
     "data": {
      "text/plain": [
       "(4177, 9)"
      ]
     },
     "execution_count": 10,
     "metadata": {},
     "output_type": "execute_result"
    }
   ],
   "source": [
    "Abalone.shape"
   ]
  },
  {
   "cell_type": "code",
   "execution_count": 11,
   "id": "8daddcf5",
   "metadata": {},
   "outputs": [],
   "source": [
    "# no duplicate present there"
   ]
  },
  {
   "cell_type": "code",
   "execution_count": 12,
   "id": "cf5c81c3",
   "metadata": {},
   "outputs": [
    {
     "data": {
      "text/html": [
       "<div>\n",
       "<style scoped>\n",
       "    .dataframe tbody tr th:only-of-type {\n",
       "        vertical-align: middle;\n",
       "    }\n",
       "\n",
       "    .dataframe tbody tr th {\n",
       "        vertical-align: top;\n",
       "    }\n",
       "\n",
       "    .dataframe thead th {\n",
       "        text-align: right;\n",
       "    }\n",
       "</style>\n",
       "<table border=\"1\" class=\"dataframe\">\n",
       "  <thead>\n",
       "    <tr style=\"text-align: right;\">\n",
       "      <th></th>\n",
       "      <th>Length</th>\n",
       "      <th>Diameter</th>\n",
       "      <th>Height</th>\n",
       "      <th>Whole weight</th>\n",
       "      <th>Shucked weight</th>\n",
       "      <th>Viscera weight</th>\n",
       "      <th>Shell weight</th>\n",
       "      <th>Rings</th>\n",
       "    </tr>\n",
       "  </thead>\n",
       "  <tbody>\n",
       "    <tr>\n",
       "      <th>count</th>\n",
       "      <td>4177.000000</td>\n",
       "      <td>4177.000000</td>\n",
       "      <td>4177.000000</td>\n",
       "      <td>4177.000000</td>\n",
       "      <td>4177.000000</td>\n",
       "      <td>4177.000000</td>\n",
       "      <td>4177.000000</td>\n",
       "      <td>4177.000000</td>\n",
       "    </tr>\n",
       "    <tr>\n",
       "      <th>mean</th>\n",
       "      <td>0.523992</td>\n",
       "      <td>0.407881</td>\n",
       "      <td>0.139516</td>\n",
       "      <td>0.828742</td>\n",
       "      <td>0.359367</td>\n",
       "      <td>0.180594</td>\n",
       "      <td>0.238831</td>\n",
       "      <td>9.933684</td>\n",
       "    </tr>\n",
       "    <tr>\n",
       "      <th>std</th>\n",
       "      <td>0.120093</td>\n",
       "      <td>0.099240</td>\n",
       "      <td>0.041827</td>\n",
       "      <td>0.490389</td>\n",
       "      <td>0.221963</td>\n",
       "      <td>0.109614</td>\n",
       "      <td>0.139203</td>\n",
       "      <td>3.224169</td>\n",
       "    </tr>\n",
       "    <tr>\n",
       "      <th>min</th>\n",
       "      <td>0.075000</td>\n",
       "      <td>0.055000</td>\n",
       "      <td>0.000000</td>\n",
       "      <td>0.002000</td>\n",
       "      <td>0.001000</td>\n",
       "      <td>0.000500</td>\n",
       "      <td>0.001500</td>\n",
       "      <td>1.000000</td>\n",
       "    </tr>\n",
       "    <tr>\n",
       "      <th>25%</th>\n",
       "      <td>0.450000</td>\n",
       "      <td>0.350000</td>\n",
       "      <td>0.115000</td>\n",
       "      <td>0.441500</td>\n",
       "      <td>0.186000</td>\n",
       "      <td>0.093500</td>\n",
       "      <td>0.130000</td>\n",
       "      <td>8.000000</td>\n",
       "    </tr>\n",
       "    <tr>\n",
       "      <th>50%</th>\n",
       "      <td>0.545000</td>\n",
       "      <td>0.425000</td>\n",
       "      <td>0.140000</td>\n",
       "      <td>0.799500</td>\n",
       "      <td>0.336000</td>\n",
       "      <td>0.171000</td>\n",
       "      <td>0.234000</td>\n",
       "      <td>9.000000</td>\n",
       "    </tr>\n",
       "    <tr>\n",
       "      <th>75%</th>\n",
       "      <td>0.615000</td>\n",
       "      <td>0.480000</td>\n",
       "      <td>0.165000</td>\n",
       "      <td>1.153000</td>\n",
       "      <td>0.502000</td>\n",
       "      <td>0.253000</td>\n",
       "      <td>0.329000</td>\n",
       "      <td>11.000000</td>\n",
       "    </tr>\n",
       "    <tr>\n",
       "      <th>max</th>\n",
       "      <td>0.815000</td>\n",
       "      <td>0.650000</td>\n",
       "      <td>1.130000</td>\n",
       "      <td>2.825500</td>\n",
       "      <td>1.488000</td>\n",
       "      <td>0.760000</td>\n",
       "      <td>1.005000</td>\n",
       "      <td>29.000000</td>\n",
       "    </tr>\n",
       "  </tbody>\n",
       "</table>\n",
       "</div>"
      ],
      "text/plain": [
       "            Length     Diameter       Height  Whole weight  Shucked weight  \\\n",
       "count  4177.000000  4177.000000  4177.000000   4177.000000     4177.000000   \n",
       "mean      0.523992     0.407881     0.139516      0.828742        0.359367   \n",
       "std       0.120093     0.099240     0.041827      0.490389        0.221963   \n",
       "min       0.075000     0.055000     0.000000      0.002000        0.001000   \n",
       "25%       0.450000     0.350000     0.115000      0.441500        0.186000   \n",
       "50%       0.545000     0.425000     0.140000      0.799500        0.336000   \n",
       "75%       0.615000     0.480000     0.165000      1.153000        0.502000   \n",
       "max       0.815000     0.650000     1.130000      2.825500        1.488000   \n",
       "\n",
       "       Viscera weight  Shell weight        Rings  \n",
       "count     4177.000000   4177.000000  4177.000000  \n",
       "mean         0.180594      0.238831     9.933684  \n",
       "std          0.109614      0.139203     3.224169  \n",
       "min          0.000500      0.001500     1.000000  \n",
       "25%          0.093500      0.130000     8.000000  \n",
       "50%          0.171000      0.234000     9.000000  \n",
       "75%          0.253000      0.329000    11.000000  \n",
       "max          0.760000      1.005000    29.000000  "
      ]
     },
     "execution_count": 12,
     "metadata": {},
     "output_type": "execute_result"
    }
   ],
   "source": [
    "Abalone.describe()"
   ]
  },
  {
   "cell_type": "code",
   "execution_count": 13,
   "id": "4279e557",
   "metadata": {},
   "outputs": [],
   "source": [
    "#min  height  is 0 lets find out how much entries are 0 hight. ."
   ]
  },
  {
   "cell_type": "code",
   "execution_count": 14,
   "id": "60c70d6d",
   "metadata": {},
   "outputs": [
    {
     "data": {
      "text/html": [
       "<div>\n",
       "<style scoped>\n",
       "    .dataframe tbody tr th:only-of-type {\n",
       "        vertical-align: middle;\n",
       "    }\n",
       "\n",
       "    .dataframe tbody tr th {\n",
       "        vertical-align: top;\n",
       "    }\n",
       "\n",
       "    .dataframe thead th {\n",
       "        text-align: right;\n",
       "    }\n",
       "</style>\n",
       "<table border=\"1\" class=\"dataframe\">\n",
       "  <thead>\n",
       "    <tr style=\"text-align: right;\">\n",
       "      <th></th>\n",
       "      <th>Sex</th>\n",
       "      <th>Length</th>\n",
       "      <th>Diameter</th>\n",
       "      <th>Height</th>\n",
       "      <th>Whole weight</th>\n",
       "      <th>Shucked weight</th>\n",
       "      <th>Viscera weight</th>\n",
       "      <th>Shell weight</th>\n",
       "      <th>Rings</th>\n",
       "    </tr>\n",
       "  </thead>\n",
       "  <tbody>\n",
       "    <tr>\n",
       "      <th>3996</th>\n",
       "      <td>I</td>\n",
       "      <td>0.315</td>\n",
       "      <td>0.230</td>\n",
       "      <td>0.000</td>\n",
       "      <td>0.1340</td>\n",
       "      <td>0.0575</td>\n",
       "      <td>0.0285</td>\n",
       "      <td>0.3505</td>\n",
       "      <td>6</td>\n",
       "    </tr>\n",
       "    <tr>\n",
       "      <th>1257</th>\n",
       "      <td>I</td>\n",
       "      <td>0.430</td>\n",
       "      <td>0.340</td>\n",
       "      <td>0.000</td>\n",
       "      <td>0.4280</td>\n",
       "      <td>0.2065</td>\n",
       "      <td>0.0860</td>\n",
       "      <td>0.1150</td>\n",
       "      <td>8</td>\n",
       "    </tr>\n",
       "    <tr>\n",
       "      <th>236</th>\n",
       "      <td>I</td>\n",
       "      <td>0.075</td>\n",
       "      <td>0.055</td>\n",
       "      <td>0.010</td>\n",
       "      <td>0.0020</td>\n",
       "      <td>0.0010</td>\n",
       "      <td>0.0005</td>\n",
       "      <td>0.0015</td>\n",
       "      <td>1</td>\n",
       "    </tr>\n",
       "    <tr>\n",
       "      <th>2169</th>\n",
       "      <td>I</td>\n",
       "      <td>0.165</td>\n",
       "      <td>0.115</td>\n",
       "      <td>0.015</td>\n",
       "      <td>0.0145</td>\n",
       "      <td>0.0055</td>\n",
       "      <td>0.0030</td>\n",
       "      <td>0.0050</td>\n",
       "      <td>4</td>\n",
       "    </tr>\n",
       "    <tr>\n",
       "      <th>1174</th>\n",
       "      <td>F</td>\n",
       "      <td>0.635</td>\n",
       "      <td>0.495</td>\n",
       "      <td>0.015</td>\n",
       "      <td>1.1565</td>\n",
       "      <td>0.5115</td>\n",
       "      <td>0.3080</td>\n",
       "      <td>0.2885</td>\n",
       "      <td>9</td>\n",
       "    </tr>\n",
       "    <tr>\n",
       "      <th>3902</th>\n",
       "      <td>I</td>\n",
       "      <td>0.160</td>\n",
       "      <td>0.120</td>\n",
       "      <td>0.020</td>\n",
       "      <td>0.0180</td>\n",
       "      <td>0.0075</td>\n",
       "      <td>0.0045</td>\n",
       "      <td>0.0050</td>\n",
       "      <td>4</td>\n",
       "    </tr>\n",
       "    <tr>\n",
       "      <th>694</th>\n",
       "      <td>I</td>\n",
       "      <td>0.165</td>\n",
       "      <td>0.110</td>\n",
       "      <td>0.020</td>\n",
       "      <td>0.0190</td>\n",
       "      <td>0.0065</td>\n",
       "      <td>0.0025</td>\n",
       "      <td>0.0050</td>\n",
       "      <td>4</td>\n",
       "    </tr>\n",
       "    <tr>\n",
       "      <th>1987</th>\n",
       "      <td>I</td>\n",
       "      <td>0.160</td>\n",
       "      <td>0.110</td>\n",
       "      <td>0.025</td>\n",
       "      <td>0.0195</td>\n",
       "      <td>0.0075</td>\n",
       "      <td>0.0050</td>\n",
       "      <td>0.0060</td>\n",
       "      <td>4</td>\n",
       "    </tr>\n",
       "    <tr>\n",
       "      <th>2381</th>\n",
       "      <td>M</td>\n",
       "      <td>0.155</td>\n",
       "      <td>0.115</td>\n",
       "      <td>0.025</td>\n",
       "      <td>0.0240</td>\n",
       "      <td>0.0090</td>\n",
       "      <td>0.0050</td>\n",
       "      <td>0.0075</td>\n",
       "      <td>5</td>\n",
       "    </tr>\n",
       "    <tr>\n",
       "      <th>3190</th>\n",
       "      <td>I</td>\n",
       "      <td>0.200</td>\n",
       "      <td>0.145</td>\n",
       "      <td>0.025</td>\n",
       "      <td>0.0345</td>\n",
       "      <td>0.0110</td>\n",
       "      <td>0.0075</td>\n",
       "      <td>0.0100</td>\n",
       "      <td>5</td>\n",
       "    </tr>\n",
       "    <tr>\n",
       "      <th>720</th>\n",
       "      <td>I</td>\n",
       "      <td>0.160</td>\n",
       "      <td>0.110</td>\n",
       "      <td>0.025</td>\n",
       "      <td>0.0180</td>\n",
       "      <td>0.0065</td>\n",
       "      <td>0.0055</td>\n",
       "      <td>0.0050</td>\n",
       "      <td>3</td>\n",
       "    </tr>\n",
       "    <tr>\n",
       "      <th>719</th>\n",
       "      <td>I</td>\n",
       "      <td>0.150</td>\n",
       "      <td>0.100</td>\n",
       "      <td>0.025</td>\n",
       "      <td>0.0150</td>\n",
       "      <td>0.0045</td>\n",
       "      <td>0.0040</td>\n",
       "      <td>0.0050</td>\n",
       "      <td>2</td>\n",
       "    </tr>\n",
       "    <tr>\n",
       "      <th>2171</th>\n",
       "      <td>I</td>\n",
       "      <td>0.190</td>\n",
       "      <td>0.130</td>\n",
       "      <td>0.030</td>\n",
       "      <td>0.0295</td>\n",
       "      <td>0.0155</td>\n",
       "      <td>0.0150</td>\n",
       "      <td>0.0100</td>\n",
       "      <td>6</td>\n",
       "    </tr>\n",
       "    <tr>\n",
       "      <th>238</th>\n",
       "      <td>I</td>\n",
       "      <td>0.110</td>\n",
       "      <td>0.090</td>\n",
       "      <td>0.030</td>\n",
       "      <td>0.0080</td>\n",
       "      <td>0.0025</td>\n",
       "      <td>0.0020</td>\n",
       "      <td>0.0030</td>\n",
       "      <td>3</td>\n",
       "    </tr>\n",
       "    <tr>\n",
       "      <th>2172</th>\n",
       "      <td>I</td>\n",
       "      <td>0.215</td>\n",
       "      <td>0.150</td>\n",
       "      <td>0.030</td>\n",
       "      <td>0.0385</td>\n",
       "      <td>0.0115</td>\n",
       "      <td>0.0050</td>\n",
       "      <td>0.0100</td>\n",
       "      <td>5</td>\n",
       "    </tr>\n",
       "  </tbody>\n",
       "</table>\n",
       "</div>"
      ],
      "text/plain": [
       "     Sex  Length  Diameter  Height  Whole weight  Shucked weight  \\\n",
       "3996   I   0.315     0.230   0.000        0.1340          0.0575   \n",
       "1257   I   0.430     0.340   0.000        0.4280          0.2065   \n",
       "236    I   0.075     0.055   0.010        0.0020          0.0010   \n",
       "2169   I   0.165     0.115   0.015        0.0145          0.0055   \n",
       "1174   F   0.635     0.495   0.015        1.1565          0.5115   \n",
       "3902   I   0.160     0.120   0.020        0.0180          0.0075   \n",
       "694    I   0.165     0.110   0.020        0.0190          0.0065   \n",
       "1987   I   0.160     0.110   0.025        0.0195          0.0075   \n",
       "2381   M   0.155     0.115   0.025        0.0240          0.0090   \n",
       "3190   I   0.200     0.145   0.025        0.0345          0.0110   \n",
       "720    I   0.160     0.110   0.025        0.0180          0.0065   \n",
       "719    I   0.150     0.100   0.025        0.0150          0.0045   \n",
       "2171   I   0.190     0.130   0.030        0.0295          0.0155   \n",
       "238    I   0.110     0.090   0.030        0.0080          0.0025   \n",
       "2172   I   0.215     0.150   0.030        0.0385          0.0115   \n",
       "\n",
       "      Viscera weight  Shell weight  Rings  \n",
       "3996          0.0285        0.3505      6  \n",
       "1257          0.0860        0.1150      8  \n",
       "236           0.0005        0.0015      1  \n",
       "2169          0.0030        0.0050      4  \n",
       "1174          0.3080        0.2885      9  \n",
       "3902          0.0045        0.0050      4  \n",
       "694           0.0025        0.0050      4  \n",
       "1987          0.0050        0.0060      4  \n",
       "2381          0.0050        0.0075      5  \n",
       "3190          0.0075        0.0100      5  \n",
       "720           0.0055        0.0050      3  \n",
       "719           0.0040        0.0050      2  \n",
       "2171          0.0150        0.0100      6  \n",
       "238           0.0020        0.0030      3  \n",
       "2172          0.0050        0.0100      5  "
      ]
     },
     "execution_count": 14,
     "metadata": {},
     "output_type": "execute_result"
    }
   ],
   "source": [
    "Abalone.sort_values(by=[\"Height\"]).head(15)"
   ]
  },
  {
   "cell_type": "code",
   "execution_count": 15,
   "id": "b29962dd",
   "metadata": {},
   "outputs": [],
   "source": [
    "#It's just two entries with height 0, so I think it's safe to drop them. "
   ]
  },
  {
   "cell_type": "code",
   "execution_count": 16,
   "id": "631328a1",
   "metadata": {},
   "outputs": [],
   "source": [
    "Abalone.drop(Abalone[Abalone[\"Height\"]==0.00].index, inplace = True)"
   ]
  },
  {
   "cell_type": "code",
   "execution_count": 17,
   "id": "0b82d398",
   "metadata": {},
   "outputs": [
    {
     "data": {
      "text/plain": [
       "(4175, 9)"
      ]
     },
     "execution_count": 17,
     "metadata": {},
     "output_type": "execute_result"
    }
   ],
   "source": [
    "Abalone.shape"
   ]
  },
  {
   "cell_type": "markdown",
   "id": "8b07cf57",
   "metadata": {},
   "source": [
    "# Feature Engineering"
   ]
  },
  {
   "cell_type": "markdown",
   "id": "fe32c4ec",
   "metadata": {},
   "source": [
    "From problem statement and feature discription, let's first compute the target varible of the problem ' Age' and assign it to the dataset. Age = 1.5+Rings"
   ]
  },
  {
   "cell_type": "code",
   "execution_count": 18,
   "id": "5ec462b9",
   "metadata": {},
   "outputs": [],
   "source": [
    "Abalone['age'] = Abalone['Rings']+1.5\n",
    "Abalone = Abalone.drop('Rings', axis = 1)"
   ]
  },
  {
   "cell_type": "code",
   "execution_count": 19,
   "id": "c40b7070",
   "metadata": {},
   "outputs": [],
   "source": [
    "# convert datatype intiger to float\n",
    "\n",
    "Abalone['age'] = Abalone['age'].astype(float)"
   ]
  },
  {
   "cell_type": "code",
   "execution_count": 20,
   "id": "77376905",
   "metadata": {},
   "outputs": [
    {
     "name": "stdout",
     "output_type": "stream",
     "text": [
      "float64\n"
     ]
    }
   ],
   "source": [
    "result =Abalone['age'].dtypes\n",
    "print(result)"
   ]
  },
  {
   "cell_type": "code",
   "execution_count": 21,
   "id": "f7e49717",
   "metadata": {},
   "outputs": [
    {
     "data": {
      "text/html": [
       "<div>\n",
       "<style scoped>\n",
       "    .dataframe tbody tr th:only-of-type {\n",
       "        vertical-align: middle;\n",
       "    }\n",
       "\n",
       "    .dataframe tbody tr th {\n",
       "        vertical-align: top;\n",
       "    }\n",
       "\n",
       "    .dataframe thead th {\n",
       "        text-align: right;\n",
       "    }\n",
       "</style>\n",
       "<table border=\"1\" class=\"dataframe\">\n",
       "  <thead>\n",
       "    <tr style=\"text-align: right;\">\n",
       "      <th></th>\n",
       "      <th>Sex</th>\n",
       "      <th>Length</th>\n",
       "      <th>Diameter</th>\n",
       "      <th>Height</th>\n",
       "      <th>Whole weight</th>\n",
       "      <th>Shucked weight</th>\n",
       "      <th>Viscera weight</th>\n",
       "      <th>Shell weight</th>\n",
       "      <th>age</th>\n",
       "    </tr>\n",
       "  </thead>\n",
       "  <tbody>\n",
       "    <tr>\n",
       "      <th>3070</th>\n",
       "      <td>F</td>\n",
       "      <td>0.655</td>\n",
       "      <td>0.490</td>\n",
       "      <td>0.160</td>\n",
       "      <td>1.204</td>\n",
       "      <td>0.5455</td>\n",
       "      <td>0.2615</td>\n",
       "      <td>0.3225</td>\n",
       "      <td>10.5</td>\n",
       "    </tr>\n",
       "    <tr>\n",
       "      <th>1759</th>\n",
       "      <td>F</td>\n",
       "      <td>0.740</td>\n",
       "      <td>0.565</td>\n",
       "      <td>0.205</td>\n",
       "      <td>2.119</td>\n",
       "      <td>0.9655</td>\n",
       "      <td>0.5185</td>\n",
       "      <td>0.4820</td>\n",
       "      <td>13.5</td>\n",
       "    </tr>\n",
       "    <tr>\n",
       "      <th>4049</th>\n",
       "      <td>M</td>\n",
       "      <td>0.625</td>\n",
       "      <td>0.495</td>\n",
       "      <td>0.155</td>\n",
       "      <td>1.025</td>\n",
       "      <td>0.4600</td>\n",
       "      <td>0.1945</td>\n",
       "      <td>0.3400</td>\n",
       "      <td>10.5</td>\n",
       "    </tr>\n",
       "  </tbody>\n",
       "</table>\n",
       "</div>"
      ],
      "text/plain": [
       "     Sex  Length  Diameter  Height  Whole weight  Shucked weight  \\\n",
       "3070   F   0.655     0.490   0.160         1.204          0.5455   \n",
       "1759   F   0.740     0.565   0.205         2.119          0.9655   \n",
       "4049   M   0.625     0.495   0.155         1.025          0.4600   \n",
       "\n",
       "      Viscera weight  Shell weight   age  \n",
       "3070          0.2615        0.3225  10.5  \n",
       "1759          0.5185        0.4820  13.5  \n",
       "4049          0.1945        0.3400  10.5  "
      ]
     },
     "execution_count": 21,
     "metadata": {},
     "output_type": "execute_result"
    }
   ],
   "source": [
    "Abalone.sample(3)"
   ]
  },
  {
   "cell_type": "code",
   "execution_count": 22,
   "id": "4d9aadd1",
   "metadata": {},
   "outputs": [
    {
     "data": {
      "text/plain": [
       "array([16.5,  8.5, 10.5, 11.5,  9.5, 21.5, 17.5, 20.5, 15.5, 12.5, 13.5,\n",
       "       19.5, 14.5,  6.5,  5.5,  7.5, 22.5, 18.5, 23.5,  2.5,  4.5, 27.5,\n",
       "       24.5, 30.5,  3.5, 28.5, 26.5, 25.5])"
      ]
     },
     "execution_count": 22,
     "metadata": {},
     "output_type": "execute_result"
    }
   ],
   "source": [
    "Abalone['age'].unique()"
   ]
  },
  {
   "cell_type": "code",
   "execution_count": 23,
   "id": "da05fc9c",
   "metadata": {},
   "outputs": [
    {
     "data": {
      "text/plain": [
       "M    1528\n",
       "I    1340\n",
       "F    1307\n",
       "Name: Sex, dtype: int64"
      ]
     },
     "execution_count": 23,
     "metadata": {},
     "output_type": "execute_result"
    },
    {
     "data": {
      "image/png": "[encoded data removed]",
      "text/plain": [
       "<Figure size 432x288 with 1 Axes>"
      ]
     },
     "metadata": {
      "needs_background": "light"
     },
     "output_type": "display_data"
    }
   ],
   "source": [
    "sns.countplot(x = 'Sex', data = Abalone, palette=\"Set3\")\n",
    "Abalone[\"Sex\"].value_counts()"
   ]
  },
  {
   "cell_type": "code",
   "execution_count": 24,
   "id": "a6e286ea",
   "metadata": {},
   "outputs": [
    {
     "data": {
      "text/plain": [
       "<AxesSubplot:xlabel='Sex', ylabel='age'>"
      ]
     },
     "execution_count": 24,
     "metadata": {},
     "output_type": "execute_result"
    },
    {
     "data": {
      "image/png": "[encoded data removed]",
      "text/plain": [
       "<Figure size 1440x504 with 1 Axes>"
      ]
     },
     "metadata": {
      "needs_background": "light"
     },
     "output_type": "display_data"
    }
   ],
   "source": [
    "plt.figure(figsize = (20,7))\n",
    "sns.swarmplot(x = 'Sex', y = 'age', data =Abalone, hue = 'Sex')\n",
    "sns.violinplot(x = 'Sex', y = 'age', data =Abalone)"
   ]
  },
  {
   "cell_type": "markdown",
   "id": "06a38c46",
   "metadata": {},
   "source": [
    "Male : age majority lies in between 7.5 years to 19 years\n",
    "    \n",
    "Female: age majority lies in between 8 years to 19 years\n",
    "    \n",
    "Immature: age majority lies in between 6 years to < 10 years"
   ]
  },
  {
   "cell_type": "markdown",
   "id": "efd6fa33",
   "metadata": {},
   "source": [
    "I thing no needs of Sex column for Age calculation so we can drop the sex column for improving model accuracy"
   ]
  },
  {
   "cell_type": "code",
   "execution_count": 25,
   "id": "87c58312",
   "metadata": {},
   "outputs": [],
   "source": [
    "Abalone.drop('Sex', axis = 1, inplace = True)"
   ]
  },
  {
   "cell_type": "code",
   "execution_count": 26,
   "id": "12110d88",
   "metadata": {},
   "outputs": [
    {
     "data": {
      "text/html": [
       "<div>\n",
       "<style scoped>\n",
       "    .dataframe tbody tr th:only-of-type {\n",
       "        vertical-align: middle;\n",
       "    }\n",
       "\n",
       "    .dataframe tbody tr th {\n",
       "        vertical-align: top;\n",
       "    }\n",
       "\n",
       "    .dataframe thead th {\n",
       "        text-align: right;\n",
       "    }\n",
       "</style>\n",
       "<table border=\"1\" class=\"dataframe\">\n",
       "  <thead>\n",
       "    <tr style=\"text-align: right;\">\n",
       "      <th></th>\n",
       "      <th>Length</th>\n",
       "      <th>Diameter</th>\n",
       "      <th>Height</th>\n",
       "      <th>Whole weight</th>\n",
       "      <th>Shucked weight</th>\n",
       "      <th>Viscera weight</th>\n",
       "      <th>Shell weight</th>\n",
       "      <th>age</th>\n",
       "    </tr>\n",
       "  </thead>\n",
       "  <tbody>\n",
       "    <tr>\n",
       "      <th>0</th>\n",
       "      <td>0.455</td>\n",
       "      <td>0.365</td>\n",
       "      <td>0.095</td>\n",
       "      <td>0.5140</td>\n",
       "      <td>0.2245</td>\n",
       "      <td>0.1010</td>\n",
       "      <td>0.150</td>\n",
       "      <td>16.5</td>\n",
       "    </tr>\n",
       "    <tr>\n",
       "      <th>1</th>\n",
       "      <td>0.350</td>\n",
       "      <td>0.265</td>\n",
       "      <td>0.090</td>\n",
       "      <td>0.2255</td>\n",
       "      <td>0.0995</td>\n",
       "      <td>0.0485</td>\n",
       "      <td>0.070</td>\n",
       "      <td>8.5</td>\n",
       "    </tr>\n",
       "    <tr>\n",
       "      <th>2</th>\n",
       "      <td>0.530</td>\n",
       "      <td>0.420</td>\n",
       "      <td>0.135</td>\n",
       "      <td>0.6770</td>\n",
       "      <td>0.2565</td>\n",
       "      <td>0.1415</td>\n",
       "      <td>0.210</td>\n",
       "      <td>10.5</td>\n",
       "    </tr>\n",
       "    <tr>\n",
       "      <th>3</th>\n",
       "      <td>0.440</td>\n",
       "      <td>0.365</td>\n",
       "      <td>0.125</td>\n",
       "      <td>0.5160</td>\n",
       "      <td>0.2155</td>\n",
       "      <td>0.1140</td>\n",
       "      <td>0.155</td>\n",
       "      <td>11.5</td>\n",
       "    </tr>\n",
       "    <tr>\n",
       "      <th>4</th>\n",
       "      <td>0.330</td>\n",
       "      <td>0.255</td>\n",
       "      <td>0.080</td>\n",
       "      <td>0.2050</td>\n",
       "      <td>0.0895</td>\n",
       "      <td>0.0395</td>\n",
       "      <td>0.055</td>\n",
       "      <td>8.5</td>\n",
       "    </tr>\n",
       "  </tbody>\n",
       "</table>\n",
       "</div>"
      ],
      "text/plain": [
       "   Length  Diameter  Height  Whole weight  Shucked weight  Viscera weight  \\\n",
       "0   0.455     0.365   0.095        0.5140          0.2245          0.1010   \n",
       "1   0.350     0.265   0.090        0.2255          0.0995          0.0485   \n",
       "2   0.530     0.420   0.135        0.6770          0.2565          0.1415   \n",
       "3   0.440     0.365   0.125        0.5160          0.2155          0.1140   \n",
       "4   0.330     0.255   0.080        0.2050          0.0895          0.0395   \n",
       "\n",
       "   Shell weight   age  \n",
       "0         0.150  16.5  \n",
       "1         0.070   8.5  \n",
       "2         0.210  10.5  \n",
       "3         0.155  11.5  \n",
       "4         0.055   8.5  "
      ]
     },
     "execution_count": 26,
     "metadata": {},
     "output_type": "execute_result"
    }
   ],
   "source": [
    "Abalone.head(5)"
   ]
  },
  {
   "cell_type": "markdown",
   "id": "9a833b37",
   "metadata": {},
   "source": [
    "# Check Skewness"
   ]
  },
  {
   "cell_type": "code",
   "execution_count": 27,
   "id": "59e75f58",
   "metadata": {},
   "outputs": [
    {
     "data": {
      "text/plain": [
       "array([[<AxesSubplot:title={'center':'Length'}>,\n",
       "        <AxesSubplot:title={'center':'Diameter'}>,\n",
       "        <AxesSubplot:title={'center':'Height'}>,\n",
       "        <AxesSubplot:title={'center':'Whole weight'}>],\n",
       "       [<AxesSubplot:title={'center':'Shucked weight'}>,\n",
       "        <AxesSubplot:title={'center':'Viscera weight'}>,\n",
       "        <AxesSubplot:title={'center':'Shell weight'}>,\n",
       "        <AxesSubplot:title={'center':'age'}>]], dtype=object)"
      ]
     },
     "execution_count": 27,
     "metadata": {},
     "output_type": "execute_result"
    },
    {
     "data": {
      "image/png": "[encoded data removed]",
      "text/plain": [
       "<Figure size 1440x720 with 8 Axes>"
      ]
     },
     "metadata": {
      "needs_background": "light"
     },
     "output_type": "display_data"
    }
   ],
   "source": [
    "Abalone.hist(figsize=(20,10), grid=False, layout=(2, 4), bins = 30)"
   ]
  },
  {
   "cell_type": "code",
   "execution_count": 28,
   "id": "f59c0232",
   "metadata": {},
   "outputs": [
    {
     "data": {
      "image/png": "[encoded data removed]",
      "text/plain": [
       "<Figure size 1296x864 with 66 Axes>"
      ]
     },
     "metadata": {
      "needs_background": "light"
     },
     "output_type": "display_data"
    }
   ],
   "source": [
    "Abalone.plot(kind=\"density\",subplots=True,layout=(6,11),fontsize=1,figsize=(18,12),legend=False,sharex=False)\n",
    "plt.show()"
   ]
  },
  {
   "cell_type": "code",
   "execution_count": 29,
   "id": "0d10d80e",
   "metadata": {},
   "outputs": [
    {
     "data": {
      "text/plain": [
       "Length           -0.640993\n",
       "Diameter         -0.610182\n",
       "Whole weight      0.530549\n",
       "Viscera weight    0.591455\n",
       "Shell weight      0.621081\n",
       "Shucked weight    0.718735\n",
       "age               1.113754\n",
       "Height            3.166364\n",
       "dtype: float64"
      ]
     },
     "execution_count": 29,
     "metadata": {},
     "output_type": "execute_result"
    }
   ],
   "source": [
    "# skewness are present we have to remove \n",
    "Abalone.skew().sort_values(ascending=True)"
   ]
  },
  {
   "cell_type": "markdown",
   "id": "a603818b",
   "metadata": {},
   "source": [
    "# Correlation"
   ]
  },
  {
   "cell_type": "code",
   "execution_count": 30,
   "id": "0b59f4fd",
   "metadata": {},
   "outputs": [
    {
     "data": {
      "text/plain": [
       "Shucked weight    0.420597\n",
       "Viscera weight    0.503562\n",
       "Whole weight      0.540151\n",
       "Length            0.556464\n",
       "Height            0.557625\n",
       "Diameter          0.574418\n",
       "Shell weight      0.627928\n",
       "age               1.000000\n",
       "Name: age, dtype: float64"
      ]
     },
     "execution_count": 30,
     "metadata": {},
     "output_type": "execute_result"
    }
   ],
   "source": [
    "Abalone.corr()[\"age\"].sort_values()# correlatin all columns with outcome in assending order"
   ]
  },
  {
   "cell_type": "code",
   "execution_count": 31,
   "id": "db967f26",
   "metadata": {},
   "outputs": [
    {
     "data": {
      "text/plain": [
       "<AxesSubplot:>"
      ]
     },
     "execution_count": 31,
     "metadata": {},
     "output_type": "execute_result"
    },
    {
     "data": {
      "image/png": "[encoded data removed]",
      "text/plain": [
       "<Figure size 1080x504 with 2 Axes>"
      ]
     },
     "metadata": {
      "needs_background": "light"
     },
     "output_type": "display_data"
    }
   ],
   "source": [
    "# correlation using heatmap\n",
    "\n",
    "plt.figure(figsize=(15,7))\n",
    "sns.heatmap(Abalone.corr(),cmap='Blues',annot=True,linewidths=0.5,linecolor=\"black\",fmt=\"0.2f\")"
   ]
  },
  {
   "cell_type": "code",
   "execution_count": 32,
   "id": "1a0edf6e",
   "metadata": {},
   "outputs": [
    {
     "data": {
      "text/plain": [
       "<AxesSubplot:title={'center':'Correlation with age'}>"
      ]
     },
     "execution_count": 32,
     "metadata": {},
     "output_type": "execute_result"
    },
    {
     "data": {
      "image/png": "[encoded data removed]",
      "text/plain": [
       "<Figure size 1440x720 with 1 Axes>"
      ]
     },
     "metadata": {
      "needs_background": "light"
     },
     "output_type": "display_data"
    }
   ],
   "source": [
    "#Correlation with Quality with respect to attributes\n",
    "Abalone.corrwith(Abalone.age).plot.bar(\n",
    "        figsize = (20, 10), title = \"Correlation with age\", fontsize = 15,\n",
    "        rot = 45, grid = True)"
   ]
  },
  {
   "cell_type": "markdown",
   "id": "beeb184e",
   "metadata": {},
   "source": [
    "observation\n",
    "\n",
    "all column is positive correlated with age"
   ]
  },
  {
   "cell_type": "markdown",
   "id": "212f326e",
   "metadata": {},
   "source": [
    "# Check Outliers"
   ]
  },
  {
   "cell_type": "code",
   "execution_count": 33,
   "id": "cb1da633",
   "metadata": {},
   "outputs": [
    {
     "data": {
      "text/plain": [
       "Length               AxesSubplot(0.125,0.536818;0.110714x0.343182)\n",
       "Diameter          AxesSubplot(0.257857,0.536818;0.110714x0.343182)\n",
       "Height            AxesSubplot(0.390714,0.536818;0.110714x0.343182)\n",
       "Whole weight      AxesSubplot(0.523571,0.536818;0.110714x0.343182)\n",
       "Shucked weight    AxesSubplot(0.656429,0.536818;0.110714x0.343182)\n",
       "Viscera weight    AxesSubplot(0.789286,0.536818;0.110714x0.343182)\n",
       "Shell weight            AxesSubplot(0.125,0.125;0.110714x0.343182)\n",
       "age                  AxesSubplot(0.257857,0.125;0.110714x0.343182)\n",
       "dtype: object"
      ]
     },
     "execution_count": 33,
     "metadata": {},
     "output_type": "execute_result"
    },
    {
     "data": {
      "image/png": "[encoded data removed]",
      "text/plain": [
       "<Figure size 1080x720 with 12 Axes>"
      ]
     },
     "metadata": {
      "needs_background": "light"
     },
     "output_type": "display_data"
    }
   ],
   "source": [
    "Abalone.plot(kind='box',subplots=True,figsize=(15,10),layout=(2,6))#many outlies are present"
   ]
  },
  {
   "cell_type": "code",
   "execution_count": 34,
   "id": "25bc0e58",
   "metadata": {},
   "outputs": [],
   "source": [
    "# there are so many outlies present "
   ]
  },
  {
   "cell_type": "code",
   "execution_count": 35,
   "id": "6bc7fdb3",
   "metadata": {},
   "outputs": [
    {
     "data": {
      "text/plain": [
       "(array([   6,   72,   81,   83,  129,  163,  164,  165,  165,  165,  166,\n",
       "         166,  167,  168,  170,  181,  232,  236,  236,  236,  237,  237,\n",
       "         238,  238,  239,  270,  275,  277,  278,  294,  310,  313,  314,\n",
       "         334,  351,  355,  358,  358,  362,  375,  416,  417,  428,  431,\n",
       "         433,  469,  478,  480,  501,  526,  526,  530,  572,  628,  673,\n",
       "         674,  675,  678,  694,  696,  696,  719,  719,  720,  720,  744,\n",
       "         754,  756,  811,  891,  891,  891, 1048, 1051, 1051, 1052, 1193,\n",
       "        1197, 1199, 1202, 1204, 1206, 1206, 1207, 1207, 1207, 1207, 1209,\n",
       "        1209, 1416, 1416, 1417, 1421, 1425, 1426, 1426, 1426, 1427, 1428,\n",
       "        1428, 1527, 1753, 1755, 1756, 1758, 1760, 1761, 1761, 1761, 1762,\n",
       "        1762, 1762, 1820, 1981, 1985, 1986, 1986, 2050, 2089, 2107, 2107,\n",
       "        2113, 2113, 2156, 2160, 2175, 2179, 2198, 2200, 2207, 2208, 2273,\n",
       "        2274, 2304, 2333, 2333, 2333, 2334, 2343, 2357, 2367, 2380, 2435,\n",
       "        2458, 2470, 2543, 2622, 2623, 2623, 2623, 2624, 2708, 2709, 2709,\n",
       "        2809, 2809, 2810, 2810, 2810, 2861, 2862, 2862, 2862, 3006, 3007,\n",
       "        3139, 3147, 3148, 3148, 3150, 3150, 3187, 3192, 3279, 3358, 3426,\n",
       "        3426, 3426, 3598, 3598, 3627, 3712, 3714, 3714, 3714, 3714, 3799,\n",
       "        3836, 3898, 3898, 3901, 3923, 3929, 3943, 3960, 3961, 4143, 4146],\n",
       "       dtype=int64),\n",
       " array([7, 7, 6, 7, 6, 6, 6, 3, 4, 6, 6, 7, 7, 6, 5, 7, 7, 0, 1, 2, 0, 1,\n",
       "        0, 1, 0, 7, 7, 6, 7, 7, 7, 7, 7, 6, 7, 7, 3, 6, 7, 7, 7, 7, 7, 7,\n",
       "        7, 7, 7, 7, 7, 0, 1, 7, 7, 7, 7, 7, 7, 7, 1, 0, 1, 0, 1, 0, 1, 7,\n",
       "        7, 7, 7, 3, 4, 6, 5, 3, 4, 3, 4, 4, 4, 4, 5, 4, 5, 3, 4, 5, 6, 3,\n",
       "        4, 2, 4, 4, 5, 4, 3, 4, 5, 6, 0, 1, 4, 4, 4, 5, 5, 4, 3, 4, 5, 3,\n",
       "        4, 5, 4, 4, 0, 0, 1, 2, 6, 6, 7, 0, 1, 6, 6, 7, 7, 7, 7, 6, 7, 6,\n",
       "        7, 7, 3, 5, 7, 7, 7, 7, 6, 0, 7, 7, 7, 4, 3, 3, 4, 5, 4, 5, 4, 5,\n",
       "        4, 5, 3, 4, 5, 4, 3, 4, 5, 4, 6, 7, 6, 6, 7, 6, 7, 6, 7, 7, 7, 3,\n",
       "        4, 5, 3, 4, 5, 4, 3, 4, 5, 6, 3, 1, 0, 1, 0, 7, 7, 7, 4, 4, 6, 5],\n",
       "       dtype=int64))"
      ]
     },
     "execution_count": 35,
     "metadata": {},
     "output_type": "execute_result"
    }
   ],
   "source": [
    "#find outliers by using zscore\n",
    "\n",
    "from scipy.stats import zscore\n",
    "import numpy as np\n",
    "z=np.abs(zscore(Abalone))  #abs is absolute function used to make all data positive \n",
    "\n",
    "#in z score value is both value -3 and +3 is present but abs function convert -3 value to positive for better calculation\n",
    "thresold=3\n",
    "   \n",
    "np.where(z>3)# this is the index value where outlier present"
   ]
  },
  {
   "cell_type": "markdown",
   "id": "8ed67878",
   "metadata": {},
   "source": [
    "bservation\n",
    "\n",
    "show the index value of row and column where outliers lies\n",
    "\n",
    "now we have remove outliers"
   ]
  },
  {
   "cell_type": "markdown",
   "id": "995422c8",
   "metadata": {},
   "source": [
    "# Remove outliers"
   ]
  },
  {
   "cell_type": "code",
   "execution_count": 36,
   "id": "947fcf3a",
   "metadata": {},
   "outputs": [
    {
     "data": {
      "text/html": [
       "<div>\n",
       "<style scoped>\n",
       "    .dataframe tbody tr th:only-of-type {\n",
       "        vertical-align: middle;\n",
       "    }\n",
       "\n",
       "    .dataframe tbody tr th {\n",
       "        vertical-align: top;\n",
       "    }\n",
       "\n",
       "    .dataframe thead th {\n",
       "        text-align: right;\n",
       "    }\n",
       "</style>\n",
       "<table border=\"1\" class=\"dataframe\">\n",
       "  <thead>\n",
       "    <tr style=\"text-align: right;\">\n",
       "      <th></th>\n",
       "      <th>Length</th>\n",
       "      <th>Diameter</th>\n",
       "      <th>Height</th>\n",
       "      <th>Whole weight</th>\n",
       "      <th>Shucked weight</th>\n",
       "      <th>Viscera weight</th>\n",
       "      <th>Shell weight</th>\n",
       "      <th>age</th>\n",
       "    </tr>\n",
       "  </thead>\n",
       "  <tbody>\n",
       "    <tr>\n",
       "      <th>2277</th>\n",
       "      <td>0.600</td>\n",
       "      <td>0.475</td>\n",
       "      <td>0.180</td>\n",
       "      <td>1.1805</td>\n",
       "      <td>0.4345</td>\n",
       "      <td>0.2475</td>\n",
       "      <td>0.425</td>\n",
       "      <td>20.5</td>\n",
       "    </tr>\n",
       "    <tr>\n",
       "      <th>632</th>\n",
       "      <td>0.460</td>\n",
       "      <td>0.365</td>\n",
       "      <td>0.125</td>\n",
       "      <td>0.4670</td>\n",
       "      <td>0.1895</td>\n",
       "      <td>0.0945</td>\n",
       "      <td>0.158</td>\n",
       "      <td>11.5</td>\n",
       "    </tr>\n",
       "    <tr>\n",
       "      <th>399</th>\n",
       "      <td>0.585</td>\n",
       "      <td>0.455</td>\n",
       "      <td>0.150</td>\n",
       "      <td>0.9870</td>\n",
       "      <td>0.4355</td>\n",
       "      <td>0.2075</td>\n",
       "      <td>0.310</td>\n",
       "      <td>12.5</td>\n",
       "    </tr>\n",
       "  </tbody>\n",
       "</table>\n",
       "</div>"
      ],
      "text/plain": [
       "      Length  Diameter  Height  Whole weight  Shucked weight  Viscera weight  \\\n",
       "2277   0.600     0.475   0.180        1.1805          0.4345          0.2475   \n",
       "632    0.460     0.365   0.125        0.4670          0.1895          0.0945   \n",
       "399    0.585     0.455   0.150        0.9870          0.4355          0.2075   \n",
       "\n",
       "      Shell weight   age  \n",
       "2277         0.425  20.5  \n",
       "632          0.158  11.5  \n",
       "399          0.310  12.5  "
      ]
     },
     "execution_count": 36,
     "metadata": {},
     "output_type": "execute_result"
    }
   ],
   "source": [
    "df=Abalone[(z<3).all(axis=1)]   # axis=1 means all rows for each column\n",
    "df.sample(3)                      #these are normal data or clean data without outliers"
   ]
  },
  {
   "cell_type": "code",
   "execution_count": 37,
   "id": "dd81d8d1",
   "metadata": {},
   "outputs": [
    {
     "name": "stdout",
     "output_type": "stream",
     "text": [
      "old dataframe  = (4175, 8)\n",
      "new dataframe =  (4027, 8)\n",
      "total drop =  148\n"
     ]
    }
   ],
   "source": [
    "print(\"old dataframe  =\"  ,Abalone.shape)\n",
    "print(\"new dataframe = \",df.shape)\n",
    "print(\"total drop = \" ,Abalone.shape[0]-df.shape[0] )"
   ]
  },
  {
   "cell_type": "code",
   "execution_count": 38,
   "id": "57dbb523",
   "metadata": {},
   "outputs": [
    {
     "data": {
      "text/plain": [
       "Length            0\n",
       "Diameter          0\n",
       "Height            0\n",
       "Whole weight      0\n",
       "Shucked weight    0\n",
       "Viscera weight    0\n",
       "Shell weight      0\n",
       "age               0\n",
       "dtype: int64"
      ]
     },
     "execution_count": 38,
     "metadata": {},
     "output_type": "execute_result"
    }
   ],
   "source": [
    "df.isnull().sum()"
   ]
  },
  {
   "cell_type": "markdown",
   "id": "ec3c20cc",
   "metadata": {},
   "source": [
    "# Separate input and output variable"
   ]
  },
  {
   "cell_type": "code",
   "execution_count": 39,
   "id": "4fa4cf17",
   "metadata": {},
   "outputs": [],
   "source": [
    "x=df.iloc[:,0:-1]\n",
    "y=df.iloc[:,-1]"
   ]
  },
  {
   "cell_type": "markdown",
   "id": "89ff0a72",
   "metadata": {},
   "source": [
    "# Data Preprocessing"
   ]
  },
  {
   "cell_type": "markdown",
   "id": "d0e3bd72",
   "metadata": {},
   "source": [
    "# Scalling"
   ]
  },
  {
   "cell_type": "code",
   "execution_count": 40,
   "id": "302d3a96",
   "metadata": {},
   "outputs": [
    {
     "data": {
      "text/plain": [
       "array([[-0.56936804, -0.42027443, -1.16620737, ..., -0.6037333 ,\n",
       "        -0.72305677, -0.63065934],\n",
       "       [-1.47535808, -1.4631268 , -1.30180583, ..., -1.20941043,\n",
       "        -1.23110406, -1.25603283],\n",
       "       [ 0.07776771,  0.15329438, -0.08141969, ..., -0.44867996,\n",
       "        -0.33113458, -0.16162923],\n",
       "       ...,\n",
       "       [ 0.68176107,  0.72686319,  1.81695876, ...,  0.85473721,\n",
       "         1.08172072,  0.60445329],\n",
       "       [ 0.89747298,  0.83114842,  0.32537569, ...,  0.88138701,\n",
       "         0.82527781,  0.51064727],\n",
       "       [ 1.63089349,  1.56114509,  1.54576184, ...,  2.88981235,\n",
       "         1.94298183,  2.06626381]])"
      ]
     },
     "execution_count": 40,
     "metadata": {},
     "output_type": "execute_result"
    }
   ],
   "source": [
    "from sklearn.preprocessing import StandardScaler\n",
    "st= StandardScaler()\n",
    "x=st.fit_transform(x)\n",
    "x"
   ]
  },
  {
   "cell_type": "code",
   "execution_count": 41,
   "id": "0648b8c7",
   "metadata": {},
   "outputs": [],
   "source": [
    "#now our data is normalized and no skewness is there"
   ]
  },
  {
   "cell_type": "markdown",
   "id": "d18900e7",
   "metadata": {},
   "source": [
    "# split the dataset\n"
   ]
  },
  {
   "cell_type": "code",
   "execution_count": null,
   "id": "0f35cae4",
   "metadata": {},
   "outputs": [],
   "source": [
    "from sklearn.model_selection import train_test_split\n",
    "x_train, x_test, y_train, y_test = train_test_split( x, y, test_size=.25)\n"
   ]
  },
  {
   "cell_type": "code",
   "execution_count": null,
   "id": "a7a616f8",
   "metadata": {},
   "outputs": [],
   "source": [
    "print(\"shape of x_train= \",x_train.shape)\n",
    "print(\"shape of y_train= \",y_train.shape)\n",
    "print(\"shape of x_test= \",x_test.shape)\n",
    "print(\"shape of y_test= \",y_test.shape)"
   ]
  },
  {
   "cell_type": "markdown",
   "id": "fbf75884",
   "metadata": {},
   "source": [
    "# Decide the value of random state"
   ]
  },
  {
   "cell_type": "code",
   "execution_count": null,
   "id": "faee00cc",
   "metadata": {},
   "outputs": [],
   "source": [
    "import sklearn       #Scikitlearn\n",
    "from sklearn.linear_model import LinearRegression\n",
    "\n",
    "from sklearn.metrics import mean_absolute_error,mean_squared_error,r2_score\n",
    "\n",
    "import warnings\n",
    "\n",
    "warnings.filterwarnings(\"ignore\")"
   ]
  },
  {
   "cell_type": "code",
   "execution_count": null,
   "id": "e37de307",
   "metadata": {},
   "outputs": [],
   "source": [
    "max_accu=0 #maxi accuracy define as 0\n",
    "max_rs=0# best random state for which max accurecy achived\n",
    "\n",
    "lr=LinearRegression()\n",
    " \n",
    "for i in range(0,100):\n",
    "    x_train, x_test, y_train, y_test = train_test_split( x, y, test_size=.25, random_state=i)\n",
    "    \n",
    "    lr.fit(x_train,y_train)\n",
    "\n",
    "    pred=lr.predict(x_test)# predicted target variable\n",
    "    \n",
    "    acc=r2_score(y_test,pred)# accuracy score\n",
    "    \n",
    "    print(\"testing accuracy \",acc, \" random state =\", i)\n",
    "    if acc>max_accu:\n",
    "        max_accu=acc\n",
    "        max_rs=i\n",
    "        print(\" max accuracy score\",acc, \" max random state =\",i)\n",
    "        "
   ]
  },
  {
   "cell_type": "code",
   "execution_count": null,
   "id": "f04e8693",
   "metadata": {},
   "outputs": [],
   "source": [
    " print(\" max accuracy score\",max_accu, \" max random state =\", max_rs)"
   ]
  },
  {
   "cell_type": "markdown",
   "id": "8a6ca820",
   "metadata": {},
   "source": [
    "# Here we have solve the problem of overfitting and underfittings"
   ]
  },
  {
   "cell_type": "code",
   "execution_count": null,
   "id": "bb4e153d",
   "metadata": {},
   "outputs": [],
   "source": [
    "plt.figure(figsize=(10,7))\n",
    "plt.scatter(x=y_test,y=pred,color=\"b\")\n",
    "plt.plot(y_test,y_test,color=\"r\")\n",
    "plt.xlabel(\"Actual charges\",fontsize=14)\n",
    "plt.ylabel(\"Predicted charges\",fontsize=14)\n",
    "plt.title(\"LINEAR REGRESSION\")\n",
    "plt.savefig('lr.png')\n",
    "plt.show()"
   ]
  },
  {
   "cell_type": "code",
   "execution_count": null,
   "id": "80545c58",
   "metadata": {},
   "outputs": [],
   "source": [
    "# x_train, x_test, y_train, y_test = train_test_split( x, y, test_size=.20, random_state=82)\n",
    "\n",
    "lr=LinearRegression()\n",
    "lr.fit(x_train,y_train)\n",
    "pred=lr.predict(x_test)\n",
    "#print('predicted result=',pred)\n",
    "#print('actual price=', y_test)\n",
    "print( r2_score(y_test,pred))"
   ]
  },
  {
   "cell_type": "markdown",
   "id": "35521d99",
   "metadata": {},
   "source": [
    "# Regulization"
   ]
  },
  {
   "cell_type": "code",
   "execution_count": null,
   "id": "dc90057b",
   "metadata": {},
   "outputs": [],
   "source": [
    "from sklearn.linear_model import Lasso\n",
    "from sklearn.model_selection import GridSearchCV\n",
    "import warnings\n",
    "warnings.filterwarnings(\"ignore\")"
   ]
  },
  {
   "cell_type": "code",
   "execution_count": null,
   "id": "b4add706",
   "metadata": {},
   "outputs": [],
   "source": [
    "parameter={'alpha':[0.0001,0.001,0.01,0.1,1,10],'random_state':list(range(0,10))}\n",
    "ls=Lasso()\n",
    "grid=GridSearchCV(ls,parameter)\n",
    "grid.fit( x_train,y_train)\n",
    "print(grid.best_params_)"
   ]
  },
  {
   "cell_type": "markdown",
   "id": "f2a24ebf",
   "metadata": {},
   "source": [
    "# final model training"
   ]
  },
  {
   "cell_type": "code",
   "execution_count": null,
   "id": "5f06256e",
   "metadata": {},
   "outputs": [],
   "source": [
    "ls=Lasso(alpha=1,random_state=0) #by defalt alpha=.01\n",
    "ls.fit( x_train,y_train)\n",
    "ls_score_training=ls.score(x_train,y_train)\n",
    "ls_pred=ls.predict(x_test)\n",
    "ls_score_training*100"
   ]
  },
  {
   "cell_type": "code",
   "execution_count": null,
   "id": "18a20719",
   "metadata": {},
   "outputs": [],
   "source": [
    "from sklearn.model_selection import cross_val_score\n",
    "cv_score=cross_val_score(lr,x,y,cv=6)\n",
    "cv_mean=cv_score.mean()\n",
    "cv_mean*100"
   ]
  },
  {
   "cell_type": "markdown",
   "id": "9bc7982d",
   "metadata": {},
   "source": [
    "# ASSEMBLING TECHNIQUE(bagging and boosting)"
   ]
  },
  {
   "cell_type": "code",
   "execution_count": null,
   "id": "4c2a73dc",
   "metadata": {},
   "outputs": [],
   "source": [
    "from sklearn.ensemble import RandomForestRegressor\n",
    "from sklearn.model_selection import GridSearchCV"
   ]
  },
  {
   "cell_type": "code",
   "execution_count": null,
   "id": "f797862a",
   "metadata": {},
   "outputs": [],
   "source": [
    "param={\"criterion\":['mse','mae'],\"max_features\":[\"auto\",\"sqrt\",\"log2\"]}\n",
    "rf= RandomForestRegressor()\n",
    "grd=GridSearchCV(rf,param)\n",
    "grd.fit( x_train,y_train)\n",
    "print(grd.best_params_)"
   ]
  },
  {
   "cell_type": "code",
   "execution_count": null,
   "id": "572dbea6",
   "metadata": {},
   "outputs": [],
   "source": [
    "rf= RandomForestRegressor(criterion='mae',max_features='auto')\n",
    "rf.fit( fetures_train,target_train)\n",
    "train_r2=rf.score(fetures_train,target_train)\n",
    "pred_decision=rf.predict(fetures_test)\n",
    "print(\"training r2\",train_r2)\n",
    "\n",
    "rfs=r2_score(target_test,pred_decision)\n",
    "print(\"r2 score\", rfs*100)\n",
    "\n",
    "rfscore=cross_val_score(lr,fetures,target,cv=6)\n",
    "rfc=rfscore.mean()\n",
    "print(\"cross val score =\",rfc*100)"
   ]
  },
  {
   "cell_type": "markdown",
   "id": "9d2cc032",
   "metadata": {},
   "source": [
    "# save model"
   ]
  },
  {
   "cell_type": "code",
   "execution_count": null,
   "id": "d3b169af",
   "metadata": {},
   "outputs": [],
   "source": [
    "import pickle\n",
    "\n",
    "filename=\"churn.pkl\"\n",
    "pickle.dump(rf,open(filename,\"wb\"))"
   ]
  },
  {
   "cell_type": "markdown",
   "id": "a946cf65",
   "metadata": {},
   "source": [
    "# load model"
   ]
  },
  {
   "cell_type": "code",
   "execution_count": null,
   "id": "997d3fa4",
   "metadata": {},
   "outputs": [],
   "source": [
    "loaded_model=pickle.load(open(\"churn.pkl\",\"rb\"))\n",
    "result=loaded_model.score(fetures_test,target_test)\n",
    "print(result*100)"
   ]
  }
 ],
 "metadata": {
  "kernelspec": {
   "display_name": "Python 3 (ipykernel)",
   "language": "python",
   "name": "python3"
  },
  "language_info": {
   "codemirror_mode": {
    "name": "ipython",
    "version": 3
   },
   "file_extension": ".py",
   "mimetype": "text/x-python",
   "name": "python",
   "nbconvert_exporter": "python",
   "pygments_lexer": "ipython3",
   "version": "3.9.7"
  }
 },
 "nbformat": 4,
 "nbformat_minor": 5
}
