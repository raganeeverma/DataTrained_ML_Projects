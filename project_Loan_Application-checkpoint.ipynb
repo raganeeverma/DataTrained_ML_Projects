{
 "cells": [
  {
   "cell_type": "markdown",
   "id": "e36a6ef9",
   "metadata": {},
   "source": [
    "# Problem Statement:\n",
    "    \n",
    "Loan Application Status Prediction\n",
    "\n",
    "This dataset includes details of applicants who have applied for loan. The dataset includes details like credit history, loan amount, their income, dependents etc. "
   ]
  },
  {
   "cell_type": "markdown",
   "id": "0b197e46",
   "metadata": {},
   "source": [
    "# DataSet Description\n",
    "\n",
    "Loan_ID : Unique Loan ID\n",
    "\n",
    "Gender : Male/ Female\n",
    "\n",
    "Married : Applicant married (Y/N)\n",
    "\n",
    "Dependents : Number of dependents\n",
    "\n",
    "Education : Applicant Education (Graduate/ Under Graduate)\n",
    "\n",
    "Self_Employed : Self employed (Y/N)\n",
    "\n",
    "ApplicantIncome : Applicant income\n",
    "\n",
    "CoapplicantIncome : Coapplicant income\n",
    "\n",
    "LoanAmount : Loan amount in thousands of dollars\n",
    "\n",
    "Loan_Amount_Term : Term of loan in months\n",
    "\n",
    "Credit_History : credit history meets guidelines yes or no\n",
    "\n",
    "Property_Area : Urban/ Semi Urban/ Rural\n",
    "\n",
    "Loan_Status : Loan approved (Y/N) this is the target variable\n",
    "\n",
    "Target Variable - Loan_Status"
   ]
  },
  {
   "cell_type": "markdown",
   "id": "be1af68c",
   "metadata": {},
   "source": [
    "# Dependent Variable (Target Variable):\n",
    "\n",
    "- Loan_Status\n",
    "\n",
    "You have to build a model that can predict whether the loan of the applicant will be approved or not on the basis of the details provided in the dataset. "
   ]
  },
  {
   "cell_type": "markdown",
   "id": "34434b57",
   "metadata": {},
   "source": [
    "# Importing All Requaired Libraries"
   ]
  },
  {
   "cell_type": "code",
   "execution_count": 2,
   "id": "f6069878",
   "metadata": {},
   "outputs": [],
   "source": [
    "#Importing required packages.\n",
    "\n",
    "import pandas as pd\n",
    "import numpy as np\n",
    "import scipy.stats as st\n",
    "\n",
    "#ploting libraries\n",
    "import matplotlib.pyplot as plt\n",
    "import seaborn as sns\n",
    "\n",
    "\n",
    "#feature engineering\n",
    "\n",
    "from sklearn.preprocessing import StandardScaler, LabelEncoder\n",
    "\n",
    "#train test split and cross validation\n",
    "from sklearn.model_selection import train_test_split, GridSearchCV, cross_val_score\n",
    "from scipy.stats import zscore\n",
    "\n",
    "#metrics\n",
    "from sklearn import metrics\n",
    "from sklearn.metrics import confusion_matrix, classification_report,accuracy_score\n",
    "from sklearn.metrics import r2_score,mean_squared_error\n",
    "from sklearn.metrics import roc_curve, roc_auc_score\n",
    "from sklearn.metrics import plot_roc_curve\n",
    "\n",
    "#ML models for classification\n",
    "import sklearn\n",
    "from sklearn.svm import SVC\n",
    "from sklearn.neighbors import KNeighborsClassifier\n",
    "from sklearn.tree import DecisionTreeClassifier\n",
    "from sklearn.ensemble import RandomForestClassifier\n",
    "from sklearn.linear_model import LogisticRegression\n",
    "from sklearn.ensemble import GradientBoostingClassifier\n",
    "\n",
    "\n",
    "%matplotlib inline\n",
    "import warnings\n",
    "warnings.filterwarnings('ignore')"
   ]
  },
  {
   "cell_type": "code",
   "execution_count": 3,
   "id": "6b139368",
   "metadata": {},
   "outputs": [
    {
     "data": {
      "text/plain": [
       "(614, 13)"
      ]
     },
     "execution_count": 3,
     "metadata": {},
     "output_type": "execute_result"
    }
   ],
   "source": [
    "#loading data sets\n",
    "df = pd.read_csv('loan.csv')\n",
    "\n",
    "# No. of rows and columns \n",
    "df.shape"
   ]
  },
  {
   "cell_type": "code",
   "execution_count": 4,
   "id": "18e64a9d",
   "metadata": {},
   "outputs": [
    {
     "data": {
      "text/plain": [
       "Index(['Loan_ID', 'Gender', 'Married', 'Dependents', 'Education',\n",
       "       'Self_Employed', 'ApplicantIncome', 'CoapplicantIncome', 'LoanAmount',\n",
       "       'Loan_Amount_Term', 'Credit_History', 'Property_Area', 'Loan_Status'],\n",
       "      dtype='object')"
      ]
     },
     "execution_count": 4,
     "metadata": {},
     "output_type": "execute_result"
    }
   ],
   "source": [
    "# column names\n",
    "df.columns"
   ]
  },
  {
   "cell_type": "code",
   "execution_count": 5,
   "id": "579f76d4",
   "metadata": {},
   "outputs": [
    {
     "data": {
      "text/html": [
       "<div>\n",
       "<style scoped>\n",
       "    .dataframe tbody tr th:only-of-type {\n",
       "        vertical-align: middle;\n",
       "    }\n",
       "\n",
       "    .dataframe tbody tr th {\n",
       "        vertical-align: top;\n",
       "    }\n",
       "\n",
       "    .dataframe thead th {\n",
       "        text-align: right;\n",
       "    }\n",
       "</style>\n",
       "<table border=\"1\" class=\"dataframe\">\n",
       "  <thead>\n",
       "    <tr style=\"text-align: right;\">\n",
       "      <th></th>\n",
       "      <th>Loan_ID</th>\n",
       "      <th>Gender</th>\n",
       "      <th>Married</th>\n",
       "      <th>Dependents</th>\n",
       "      <th>Education</th>\n",
       "      <th>Self_Employed</th>\n",
       "      <th>ApplicantIncome</th>\n",
       "      <th>CoapplicantIncome</th>\n",
       "      <th>LoanAmount</th>\n",
       "      <th>Loan_Amount_Term</th>\n",
       "      <th>Credit_History</th>\n",
       "      <th>Property_Area</th>\n",
       "      <th>Loan_Status</th>\n",
       "    </tr>\n",
       "  </thead>\n",
       "  <tbody>\n",
       "    <tr>\n",
       "      <th>0</th>\n",
       "      <td>LP001002</td>\n",
       "      <td>Male</td>\n",
       "      <td>No</td>\n",
       "      <td>0</td>\n",
       "      <td>Graduate</td>\n",
       "      <td>No</td>\n",
       "      <td>5849</td>\n",
       "      <td>0.0</td>\n",
       "      <td>NaN</td>\n",
       "      <td>360.0</td>\n",
       "      <td>1.0</td>\n",
       "      <td>Urban</td>\n",
       "      <td>Y</td>\n",
       "    </tr>\n",
       "    <tr>\n",
       "      <th>1</th>\n",
       "      <td>LP001003</td>\n",
       "      <td>Male</td>\n",
       "      <td>Yes</td>\n",
       "      <td>1</td>\n",
       "      <td>Graduate</td>\n",
       "      <td>No</td>\n",
       "      <td>4583</td>\n",
       "      <td>1508.0</td>\n",
       "      <td>128.0</td>\n",
       "      <td>360.0</td>\n",
       "      <td>1.0</td>\n",
       "      <td>Rural</td>\n",
       "      <td>N</td>\n",
       "    </tr>\n",
       "    <tr>\n",
       "      <th>2</th>\n",
       "      <td>LP001005</td>\n",
       "      <td>Male</td>\n",
       "      <td>Yes</td>\n",
       "      <td>0</td>\n",
       "      <td>Graduate</td>\n",
       "      <td>Yes</td>\n",
       "      <td>3000</td>\n",
       "      <td>0.0</td>\n",
       "      <td>66.0</td>\n",
       "      <td>360.0</td>\n",
       "      <td>1.0</td>\n",
       "      <td>Urban</td>\n",
       "      <td>Y</td>\n",
       "    </tr>\n",
       "    <tr>\n",
       "      <th>3</th>\n",
       "      <td>LP001006</td>\n",
       "      <td>Male</td>\n",
       "      <td>Yes</td>\n",
       "      <td>0</td>\n",
       "      <td>Not Graduate</td>\n",
       "      <td>No</td>\n",
       "      <td>2583</td>\n",
       "      <td>2358.0</td>\n",
       "      <td>120.0</td>\n",
       "      <td>360.0</td>\n",
       "      <td>1.0</td>\n",
       "      <td>Urban</td>\n",
       "      <td>Y</td>\n",
       "    </tr>\n",
       "    <tr>\n",
       "      <th>4</th>\n",
       "      <td>LP001008</td>\n",
       "      <td>Male</td>\n",
       "      <td>No</td>\n",
       "      <td>0</td>\n",
       "      <td>Graduate</td>\n",
       "      <td>No</td>\n",
       "      <td>6000</td>\n",
       "      <td>0.0</td>\n",
       "      <td>141.0</td>\n",
       "      <td>360.0</td>\n",
       "      <td>1.0</td>\n",
       "      <td>Urban</td>\n",
       "      <td>Y</td>\n",
       "    </tr>\n",
       "  </tbody>\n",
       "</table>\n",
       "</div>"
      ],
      "text/plain": [
       "    Loan_ID Gender Married Dependents     Education Self_Employed  \\\n",
       "0  LP001002   Male      No          0      Graduate            No   \n",
       "1  LP001003   Male     Yes          1      Graduate            No   \n",
       "2  LP001005   Male     Yes          0      Graduate           Yes   \n",
       "3  LP001006   Male     Yes          0  Not Graduate            No   \n",
       "4  LP001008   Male      No          0      Graduate            No   \n",
       "\n",
       "   ApplicantIncome  CoapplicantIncome  LoanAmount  Loan_Amount_Term  \\\n",
       "0             5849                0.0         NaN             360.0   \n",
       "1             4583             1508.0       128.0             360.0   \n",
       "2             3000                0.0        66.0             360.0   \n",
       "3             2583             2358.0       120.0             360.0   \n",
       "4             6000                0.0       141.0             360.0   \n",
       "\n",
       "   Credit_History Property_Area Loan_Status  \n",
       "0             1.0         Urban           Y  \n",
       "1             1.0         Rural           N  \n",
       "2             1.0         Urban           Y  \n",
       "3             1.0         Urban           Y  \n",
       "4             1.0         Urban           Y  "
      ]
     },
     "execution_count": 5,
     "metadata": {},
     "output_type": "execute_result"
    }
   ],
   "source": [
    "#show all columns in dataframe\n",
    "pd.set_option('display.max_columns', None)\n",
    "\n",
    "df.head(5)"
   ]
  },
  {
   "cell_type": "markdown",
   "id": "2e20222f",
   "metadata": {},
   "source": [
    "# Statistical data analysis"
   ]
  },
  {
   "cell_type": "code",
   "execution_count": 6,
   "id": "5f838298",
   "metadata": {},
   "outputs": [
    {
     "data": {
      "text/html": [
       "<div>\n",
       "<style scoped>\n",
       "    .dataframe tbody tr th:only-of-type {\n",
       "        vertical-align: middle;\n",
       "    }\n",
       "\n",
       "    .dataframe tbody tr th {\n",
       "        vertical-align: top;\n",
       "    }\n",
       "\n",
       "    .dataframe thead th {\n",
       "        text-align: right;\n",
       "    }\n",
       "</style>\n",
       "<table border=\"1\" class=\"dataframe\">\n",
       "  <thead>\n",
       "    <tr style=\"text-align: right;\">\n",
       "      <th></th>\n",
       "      <th>count</th>\n",
       "      <th>unique</th>\n",
       "      <th>top</th>\n",
       "      <th>freq</th>\n",
       "      <th>mean</th>\n",
       "      <th>std</th>\n",
       "      <th>min</th>\n",
       "      <th>25%</th>\n",
       "      <th>50%</th>\n",
       "      <th>75%</th>\n",
       "      <th>max</th>\n",
       "    </tr>\n",
       "  </thead>\n",
       "  <tbody>\n",
       "    <tr>\n",
       "      <th>Loan_ID</th>\n",
       "      <td>614</td>\n",
       "      <td>614</td>\n",
       "      <td>LP001002</td>\n",
       "      <td>1</td>\n",
       "      <td>NaN</td>\n",
       "      <td>NaN</td>\n",
       "      <td>NaN</td>\n",
       "      <td>NaN</td>\n",
       "      <td>NaN</td>\n",
       "      <td>NaN</td>\n",
       "      <td>NaN</td>\n",
       "    </tr>\n",
       "    <tr>\n",
       "      <th>Gender</th>\n",
       "      <td>601</td>\n",
       "      <td>2</td>\n",
       "      <td>Male</td>\n",
       "      <td>489</td>\n",
       "      <td>NaN</td>\n",
       "      <td>NaN</td>\n",
       "      <td>NaN</td>\n",
       "      <td>NaN</td>\n",
       "      <td>NaN</td>\n",
       "      <td>NaN</td>\n",
       "      <td>NaN</td>\n",
       "    </tr>\n",
       "    <tr>\n",
       "      <th>Married</th>\n",
       "      <td>611</td>\n",
       "      <td>2</td>\n",
       "      <td>Yes</td>\n",
       "      <td>398</td>\n",
       "      <td>NaN</td>\n",
       "      <td>NaN</td>\n",
       "      <td>NaN</td>\n",
       "      <td>NaN</td>\n",
       "      <td>NaN</td>\n",
       "      <td>NaN</td>\n",
       "      <td>NaN</td>\n",
       "    </tr>\n",
       "    <tr>\n",
       "      <th>Dependents</th>\n",
       "      <td>599</td>\n",
       "      <td>4</td>\n",
       "      <td>0</td>\n",
       "      <td>345</td>\n",
       "      <td>NaN</td>\n",
       "      <td>NaN</td>\n",
       "      <td>NaN</td>\n",
       "      <td>NaN</td>\n",
       "      <td>NaN</td>\n",
       "      <td>NaN</td>\n",
       "      <td>NaN</td>\n",
       "    </tr>\n",
       "    <tr>\n",
       "      <th>Education</th>\n",
       "      <td>614</td>\n",
       "      <td>2</td>\n",
       "      <td>Graduate</td>\n",
       "      <td>480</td>\n",
       "      <td>NaN</td>\n",
       "      <td>NaN</td>\n",
       "      <td>NaN</td>\n",
       "      <td>NaN</td>\n",
       "      <td>NaN</td>\n",
       "      <td>NaN</td>\n",
       "      <td>NaN</td>\n",
       "    </tr>\n",
       "    <tr>\n",
       "      <th>Self_Employed</th>\n",
       "      <td>582</td>\n",
       "      <td>2</td>\n",
       "      <td>No</td>\n",
       "      <td>500</td>\n",
       "      <td>NaN</td>\n",
       "      <td>NaN</td>\n",
       "      <td>NaN</td>\n",
       "      <td>NaN</td>\n",
       "      <td>NaN</td>\n",
       "      <td>NaN</td>\n",
       "      <td>NaN</td>\n",
       "    </tr>\n",
       "    <tr>\n",
       "      <th>ApplicantIncome</th>\n",
       "      <td>614.0</td>\n",
       "      <td>NaN</td>\n",
       "      <td>NaN</td>\n",
       "      <td>NaN</td>\n",
       "      <td>5403.459283</td>\n",
       "      <td>6109.041673</td>\n",
       "      <td>150.0</td>\n",
       "      <td>2877.5</td>\n",
       "      <td>3812.5</td>\n",
       "      <td>5795.0</td>\n",
       "      <td>81000.0</td>\n",
       "    </tr>\n",
       "    <tr>\n",
       "      <th>CoapplicantIncome</th>\n",
       "      <td>614.0</td>\n",
       "      <td>NaN</td>\n",
       "      <td>NaN</td>\n",
       "      <td>NaN</td>\n",
       "      <td>1621.245798</td>\n",
       "      <td>2926.248369</td>\n",
       "      <td>0.0</td>\n",
       "      <td>0.0</td>\n",
       "      <td>1188.5</td>\n",
       "      <td>2297.25</td>\n",
       "      <td>41667.0</td>\n",
       "    </tr>\n",
       "    <tr>\n",
       "      <th>LoanAmount</th>\n",
       "      <td>592.0</td>\n",
       "      <td>NaN</td>\n",
       "      <td>NaN</td>\n",
       "      <td>NaN</td>\n",
       "      <td>146.412162</td>\n",
       "      <td>85.587325</td>\n",
       "      <td>9.0</td>\n",
       "      <td>100.0</td>\n",
       "      <td>128.0</td>\n",
       "      <td>168.0</td>\n",
       "      <td>700.0</td>\n",
       "    </tr>\n",
       "    <tr>\n",
       "      <th>Loan_Amount_Term</th>\n",
       "      <td>600.0</td>\n",
       "      <td>NaN</td>\n",
       "      <td>NaN</td>\n",
       "      <td>NaN</td>\n",
       "      <td>342.0</td>\n",
       "      <td>65.12041</td>\n",
       "      <td>12.0</td>\n",
       "      <td>360.0</td>\n",
       "      <td>360.0</td>\n",
       "      <td>360.0</td>\n",
       "      <td>480.0</td>\n",
       "    </tr>\n",
       "    <tr>\n",
       "      <th>Credit_History</th>\n",
       "      <td>564.0</td>\n",
       "      <td>NaN</td>\n",
       "      <td>NaN</td>\n",
       "      <td>NaN</td>\n",
       "      <td>0.842199</td>\n",
       "      <td>0.364878</td>\n",
       "      <td>0.0</td>\n",
       "      <td>1.0</td>\n",
       "      <td>1.0</td>\n",
       "      <td>1.0</td>\n",
       "      <td>1.0</td>\n",
       "    </tr>\n",
       "    <tr>\n",
       "      <th>Property_Area</th>\n",
       "      <td>614</td>\n",
       "      <td>3</td>\n",
       "      <td>Semiurban</td>\n",
       "      <td>233</td>\n",
       "      <td>NaN</td>\n",
       "      <td>NaN</td>\n",
       "      <td>NaN</td>\n",
       "      <td>NaN</td>\n",
       "      <td>NaN</td>\n",
       "      <td>NaN</td>\n",
       "      <td>NaN</td>\n",
       "    </tr>\n",
       "    <tr>\n",
       "      <th>Loan_Status</th>\n",
       "      <td>614</td>\n",
       "      <td>2</td>\n",
       "      <td>Y</td>\n",
       "      <td>422</td>\n",
       "      <td>NaN</td>\n",
       "      <td>NaN</td>\n",
       "      <td>NaN</td>\n",
       "      <td>NaN</td>\n",
       "      <td>NaN</td>\n",
       "      <td>NaN</td>\n",
       "      <td>NaN</td>\n",
       "    </tr>\n",
       "  </tbody>\n",
       "</table>\n",
       "</div>"
      ],
      "text/plain": [
       "                   count unique        top freq         mean          std  \\\n",
       "Loan_ID              614    614   LP001002    1          NaN          NaN   \n",
       "Gender               601      2       Male  489          NaN          NaN   \n",
       "Married              611      2        Yes  398          NaN          NaN   \n",
       "Dependents           599      4          0  345          NaN          NaN   \n",
       "Education            614      2   Graduate  480          NaN          NaN   \n",
       "Self_Employed        582      2         No  500          NaN          NaN   \n",
       "ApplicantIncome    614.0    NaN        NaN  NaN  5403.459283  6109.041673   \n",
       "CoapplicantIncome  614.0    NaN        NaN  NaN  1621.245798  2926.248369   \n",
       "LoanAmount         592.0    NaN        NaN  NaN   146.412162    85.587325   \n",
       "Loan_Amount_Term   600.0    NaN        NaN  NaN        342.0     65.12041   \n",
       "Credit_History     564.0    NaN        NaN  NaN     0.842199     0.364878   \n",
       "Property_Area        614      3  Semiurban  233          NaN          NaN   \n",
       "Loan_Status          614      2          Y  422          NaN          NaN   \n",
       "\n",
       "                     min     25%     50%      75%      max  \n",
       "Loan_ID              NaN     NaN     NaN      NaN      NaN  \n",
       "Gender               NaN     NaN     NaN      NaN      NaN  \n",
       "Married              NaN     NaN     NaN      NaN      NaN  \n",
       "Dependents           NaN     NaN     NaN      NaN      NaN  \n",
       "Education            NaN     NaN     NaN      NaN      NaN  \n",
       "Self_Employed        NaN     NaN     NaN      NaN      NaN  \n",
       "ApplicantIncome    150.0  2877.5  3812.5   5795.0  81000.0  \n",
       "CoapplicantIncome    0.0     0.0  1188.5  2297.25  41667.0  \n",
       "LoanAmount           9.0   100.0   128.0    168.0    700.0  \n",
       "Loan_Amount_Term    12.0   360.0   360.0    360.0    480.0  \n",
       "Credit_History       0.0     1.0     1.0      1.0      1.0  \n",
       "Property_Area        NaN     NaN     NaN      NaN      NaN  \n",
       "Loan_Status          NaN     NaN     NaN      NaN      NaN  "
      ]
     },
     "execution_count": 6,
     "metadata": {},
     "output_type": "execute_result"
    }
   ],
   "source": [
    "df.describe(include='all').T"
   ]
  },
  {
   "cell_type": "markdown",
   "id": "e62c02a2",
   "metadata": {},
   "source": [
    "1. The count value is not same for all columns so we can say that null value are present in some column It will solve later.\n",
    "\n",
    "2. Some outliers are present because higher diffecence between 75%  and max value of income columns.\n",
    "\n",
    "3. Here we can see that the minimum value of CoApplicant is 0 so we ca replce it by mean value."
   ]
  },
  {
   "cell_type": "markdown",
   "id": "9d0559b5",
   "metadata": {},
   "source": [
    "# Checking for null value"
   ]
  },
  {
   "cell_type": "code",
   "execution_count": 7,
   "id": "ec58b2b8",
   "metadata": {},
   "outputs": [
    {
     "data": {
      "text/plain": [
       "Loan_ID               0\n",
       "Gender               13\n",
       "Married               3\n",
       "Dependents           15\n",
       "Education             0\n",
       "Self_Employed        32\n",
       "ApplicantIncome       0\n",
       "CoapplicantIncome     0\n",
       "LoanAmount           22\n",
       "Loan_Amount_Term     14\n",
       "Credit_History       50\n",
       "Property_Area         0\n",
       "Loan_Status           0\n",
       "dtype: int64"
      ]
     },
     "execution_count": 7,
     "metadata": {},
     "output_type": "execute_result"
    }
   ],
   "source": [
    "# check for null values\n",
    "df.isnull().sum()"
   ]
  },
  {
   "cell_type": "markdown",
   "id": "dcce2e2c",
   "metadata": {},
   "source": [
    "Null value present in most of the column so we have to fill it by using simple imputer."
   ]
  },
  {
   "cell_type": "code",
   "execution_count": 8,
   "id": "71dfddb6",
   "metadata": {},
   "outputs": [
    {
     "data": {
      "text/plain": [
       "<AxesSubplot:>"
      ]
     },
     "execution_count": 8,
     "metadata": {},
     "output_type": "execute_result"
    },
    {
     "data": {
      "image/png": "[encoded data removed]",
      "text/plain": [
       "<Figure size 432x288 with 2 Axes>"
      ]
     },
     "metadata": {
      "needs_background": "light"
     },
     "output_type": "display_data"
    }
   ],
   "source": [
    "sns.heatmap(df.isnull())##check missing value through visualization"
   ]
  },
  {
   "cell_type": "markdown",
   "id": "eeeb4d69",
   "metadata": {},
   "source": [
    "The above heat map also shows there are null values"
   ]
  },
  {
   "cell_type": "markdown",
   "id": "47bce583",
   "metadata": {},
   "source": [
    "# checking Duplicate¶ records"
   ]
  },
  {
   "cell_type": "code",
   "execution_count": 9,
   "id": "dcb1f808",
   "metadata": {},
   "outputs": [
    {
     "data": {
      "text/plain": [
       "0"
      ]
     },
     "execution_count": 9,
     "metadata": {},
     "output_type": "execute_result"
    }
   ],
   "source": [
    "df.duplicated().sum()"
   ]
  },
  {
   "cell_type": "code",
   "execution_count": 10,
   "id": "a31c3613",
   "metadata": {},
   "outputs": [
    {
     "data": {
      "text/html": [
       "<div>\n",
       "<style scoped>\n",
       "    .dataframe tbody tr th:only-of-type {\n",
       "        vertical-align: middle;\n",
       "    }\n",
       "\n",
       "    .dataframe tbody tr th {\n",
       "        vertical-align: top;\n",
       "    }\n",
       "\n",
       "    .dataframe thead th {\n",
       "        text-align: right;\n",
       "    }\n",
       "</style>\n",
       "<table border=\"1\" class=\"dataframe\">\n",
       "  <thead>\n",
       "    <tr style=\"text-align: right;\">\n",
       "      <th></th>\n",
       "      <th>Loan_ID</th>\n",
       "      <th>Gender</th>\n",
       "      <th>Married</th>\n",
       "      <th>Dependents</th>\n",
       "      <th>Education</th>\n",
       "      <th>Self_Employed</th>\n",
       "      <th>ApplicantIncome</th>\n",
       "      <th>CoapplicantIncome</th>\n",
       "      <th>LoanAmount</th>\n",
       "      <th>Loan_Amount_Term</th>\n",
       "      <th>Credit_History</th>\n",
       "      <th>Property_Area</th>\n",
       "      <th>Loan_Status</th>\n",
       "    </tr>\n",
       "  </thead>\n",
       "  <tbody>\n",
       "    <tr>\n",
       "      <th>0</th>\n",
       "      <td>LP001002</td>\n",
       "      <td>Male</td>\n",
       "      <td>No</td>\n",
       "      <td>0</td>\n",
       "      <td>Graduate</td>\n",
       "      <td>No</td>\n",
       "      <td>5849</td>\n",
       "      <td>0.0</td>\n",
       "      <td>NaN</td>\n",
       "      <td>360.0</td>\n",
       "      <td>1.0</td>\n",
       "      <td>Urban</td>\n",
       "      <td>Y</td>\n",
       "    </tr>\n",
       "    <tr>\n",
       "      <th>1</th>\n",
       "      <td>LP001003</td>\n",
       "      <td>Male</td>\n",
       "      <td>Yes</td>\n",
       "      <td>1</td>\n",
       "      <td>Graduate</td>\n",
       "      <td>No</td>\n",
       "      <td>4583</td>\n",
       "      <td>1508.0</td>\n",
       "      <td>128.0</td>\n",
       "      <td>360.0</td>\n",
       "      <td>1.0</td>\n",
       "      <td>Rural</td>\n",
       "      <td>N</td>\n",
       "    </tr>\n",
       "    <tr>\n",
       "      <th>2</th>\n",
       "      <td>LP001005</td>\n",
       "      <td>Male</td>\n",
       "      <td>Yes</td>\n",
       "      <td>0</td>\n",
       "      <td>Graduate</td>\n",
       "      <td>Yes</td>\n",
       "      <td>3000</td>\n",
       "      <td>0.0</td>\n",
       "      <td>66.0</td>\n",
       "      <td>360.0</td>\n",
       "      <td>1.0</td>\n",
       "      <td>Urban</td>\n",
       "      <td>Y</td>\n",
       "    </tr>\n",
       "    <tr>\n",
       "      <th>3</th>\n",
       "      <td>LP001006</td>\n",
       "      <td>Male</td>\n",
       "      <td>Yes</td>\n",
       "      <td>0</td>\n",
       "      <td>Not Graduate</td>\n",
       "      <td>No</td>\n",
       "      <td>2583</td>\n",
       "      <td>2358.0</td>\n",
       "      <td>120.0</td>\n",
       "      <td>360.0</td>\n",
       "      <td>1.0</td>\n",
       "      <td>Urban</td>\n",
       "      <td>Y</td>\n",
       "    </tr>\n",
       "    <tr>\n",
       "      <th>4</th>\n",
       "      <td>LP001008</td>\n",
       "      <td>Male</td>\n",
       "      <td>No</td>\n",
       "      <td>0</td>\n",
       "      <td>Graduate</td>\n",
       "      <td>No</td>\n",
       "      <td>6000</td>\n",
       "      <td>0.0</td>\n",
       "      <td>141.0</td>\n",
       "      <td>360.0</td>\n",
       "      <td>1.0</td>\n",
       "      <td>Urban</td>\n",
       "      <td>Y</td>\n",
       "    </tr>\n",
       "    <tr>\n",
       "      <th>...</th>\n",
       "      <td>...</td>\n",
       "      <td>...</td>\n",
       "      <td>...</td>\n",
       "      <td>...</td>\n",
       "      <td>...</td>\n",
       "      <td>...</td>\n",
       "      <td>...</td>\n",
       "      <td>...</td>\n",
       "      <td>...</td>\n",
       "      <td>...</td>\n",
       "      <td>...</td>\n",
       "      <td>...</td>\n",
       "      <td>...</td>\n",
       "    </tr>\n",
       "    <tr>\n",
       "      <th>609</th>\n",
       "      <td>LP002978</td>\n",
       "      <td>Female</td>\n",
       "      <td>No</td>\n",
       "      <td>0</td>\n",
       "      <td>Graduate</td>\n",
       "      <td>No</td>\n",
       "      <td>2900</td>\n",
       "      <td>0.0</td>\n",
       "      <td>71.0</td>\n",
       "      <td>360.0</td>\n",
       "      <td>1.0</td>\n",
       "      <td>Rural</td>\n",
       "      <td>Y</td>\n",
       "    </tr>\n",
       "    <tr>\n",
       "      <th>610</th>\n",
       "      <td>LP002979</td>\n",
       "      <td>Male</td>\n",
       "      <td>Yes</td>\n",
       "      <td>3+</td>\n",
       "      <td>Graduate</td>\n",
       "      <td>No</td>\n",
       "      <td>4106</td>\n",
       "      <td>0.0</td>\n",
       "      <td>40.0</td>\n",
       "      <td>180.0</td>\n",
       "      <td>1.0</td>\n",
       "      <td>Rural</td>\n",
       "      <td>Y</td>\n",
       "    </tr>\n",
       "    <tr>\n",
       "      <th>611</th>\n",
       "      <td>LP002983</td>\n",
       "      <td>Male</td>\n",
       "      <td>Yes</td>\n",
       "      <td>1</td>\n",
       "      <td>Graduate</td>\n",
       "      <td>No</td>\n",
       "      <td>8072</td>\n",
       "      <td>240.0</td>\n",
       "      <td>253.0</td>\n",
       "      <td>360.0</td>\n",
       "      <td>1.0</td>\n",
       "      <td>Urban</td>\n",
       "      <td>Y</td>\n",
       "    </tr>\n",
       "    <tr>\n",
       "      <th>612</th>\n",
       "      <td>LP002984</td>\n",
       "      <td>Male</td>\n",
       "      <td>Yes</td>\n",
       "      <td>2</td>\n",
       "      <td>Graduate</td>\n",
       "      <td>No</td>\n",
       "      <td>7583</td>\n",
       "      <td>0.0</td>\n",
       "      <td>187.0</td>\n",
       "      <td>360.0</td>\n",
       "      <td>1.0</td>\n",
       "      <td>Urban</td>\n",
       "      <td>Y</td>\n",
       "    </tr>\n",
       "    <tr>\n",
       "      <th>613</th>\n",
       "      <td>LP002990</td>\n",
       "      <td>Female</td>\n",
       "      <td>No</td>\n",
       "      <td>0</td>\n",
       "      <td>Graduate</td>\n",
       "      <td>Yes</td>\n",
       "      <td>4583</td>\n",
       "      <td>0.0</td>\n",
       "      <td>133.0</td>\n",
       "      <td>360.0</td>\n",
       "      <td>0.0</td>\n",
       "      <td>Semiurban</td>\n",
       "      <td>N</td>\n",
       "    </tr>\n",
       "  </tbody>\n",
       "</table>\n",
       "<p>614 rows × 13 columns</p>\n",
       "</div>"
      ],
      "text/plain": [
       "      Loan_ID  Gender Married Dependents     Education Self_Employed  \\\n",
       "0    LP001002    Male      No          0      Graduate            No   \n",
       "1    LP001003    Male     Yes          1      Graduate            No   \n",
       "2    LP001005    Male     Yes          0      Graduate           Yes   \n",
       "3    LP001006    Male     Yes          0  Not Graduate            No   \n",
       "4    LP001008    Male      No          0      Graduate            No   \n",
       "..        ...     ...     ...        ...           ...           ...   \n",
       "609  LP002978  Female      No          0      Graduate            No   \n",
       "610  LP002979    Male     Yes         3+      Graduate            No   \n",
       "611  LP002983    Male     Yes          1      Graduate            No   \n",
       "612  LP002984    Male     Yes          2      Graduate            No   \n",
       "613  LP002990  Female      No          0      Graduate           Yes   \n",
       "\n",
       "     ApplicantIncome  CoapplicantIncome  LoanAmount  Loan_Amount_Term  \\\n",
       "0               5849                0.0         NaN             360.0   \n",
       "1               4583             1508.0       128.0             360.0   \n",
       "2               3000                0.0        66.0             360.0   \n",
       "3               2583             2358.0       120.0             360.0   \n",
       "4               6000                0.0       141.0             360.0   \n",
       "..               ...                ...         ...               ...   \n",
       "609             2900                0.0        71.0             360.0   \n",
       "610             4106                0.0        40.0             180.0   \n",
       "611             8072              240.0       253.0             360.0   \n",
       "612             7583                0.0       187.0             360.0   \n",
       "613             4583                0.0       133.0             360.0   \n",
       "\n",
       "     Credit_History Property_Area Loan_Status  \n",
       "0               1.0         Urban           Y  \n",
       "1               1.0         Rural           N  \n",
       "2               1.0         Urban           Y  \n",
       "3               1.0         Urban           Y  \n",
       "4               1.0         Urban           Y  \n",
       "..              ...           ...         ...  \n",
       "609             1.0         Rural           Y  \n",
       "610             1.0         Rural           Y  \n",
       "611             1.0         Urban           Y  \n",
       "612             1.0         Urban           Y  \n",
       "613             0.0     Semiurban           N  \n",
       "\n",
       "[614 rows x 13 columns]"
      ]
     },
     "execution_count": 10,
     "metadata": {},
     "output_type": "execute_result"
    }
   ],
   "source": [
    "# if duplicate value present drop this row\n",
    "df.drop_duplicates() "
   ]
  },
  {
   "cell_type": "markdown",
   "id": "4a6dfd20",
   "metadata": {},
   "source": [
    "no duplicate present there because the row and column value is same"
   ]
  },
  {
   "cell_type": "markdown",
   "id": "a08411a6",
   "metadata": {},
   "source": [
    "# Checking datatypes of columns"
   ]
  },
  {
   "cell_type": "code",
   "execution_count": 11,
   "id": "5be21e6c",
   "metadata": {},
   "outputs": [
    {
     "name": "stdout",
     "output_type": "stream",
     "text": [
      "<class 'pandas.core.frame.DataFrame'>\n",
      "RangeIndex: 614 entries, 0 to 613\n",
      "Data columns (total 13 columns):\n",
      " #   Column             Non-Null Count  Dtype  \n",
      "---  ------             --------------  -----  \n",
      " 0   Loan_ID            614 non-null    object \n",
      " 1   Gender             601 non-null    object \n",
      " 2   Married            611 non-null    object \n",
      " 3   Dependents         599 non-null    object \n",
      " 4   Education          614 non-null    object \n",
      " 5   Self_Employed      582 non-null    object \n",
      " 6   ApplicantIncome    614 non-null    int64  \n",
      " 7   CoapplicantIncome  614 non-null    float64\n",
      " 8   LoanAmount         592 non-null    float64\n",
      " 9   Loan_Amount_Term   600 non-null    float64\n",
      " 10  Credit_History     564 non-null    float64\n",
      " 11  Property_Area      614 non-null    object \n",
      " 12  Loan_Status        614 non-null    object \n",
      "dtypes: float64(4), int64(1), object(8)\n",
      "memory usage: 62.5+ KB\n"
     ]
    }
   ],
   "source": [
    "# check datatypes and memory captured\n",
    "df.info()"
   ]
  },
  {
   "cell_type": "markdown",
   "id": "255c1ed7",
   "metadata": {},
   "source": [
    "Both categorical and Numerica type data are present:\n",
    "    \n",
    "1. categorical:-Loan_ID ,Gender,Married,Dependents ,Education,Self_Employed,Property_Area,Loan_Status\n",
    "2.Numerical:- ApplicantIncoGender,me ,CoapplicantIncome, LoanAmount,Loan_Amount_Term, Credit_History\n",
    "\n",
    "The numerical data has both int and float type .\n",
    "\n",
    "int-ApplicantIncome\n",
    "\n",
    "float-CoapplicantIncome,LoanAmount,Loan_Amount_Term,Credit_History\n",
    "\n"
   ]
  },
  {
   "cell_type": "markdown",
   "id": "4e69797b",
   "metadata": {},
   "source": [
    "# Check unique values present in each Column"
   ]
  },
  {
   "cell_type": "code",
   "execution_count": 12,
   "id": "278a4099",
   "metadata": {},
   "outputs": [
    {
     "data": {
      "text/html": [
       "<div>\n",
       "<style scoped>\n",
       "    .dataframe tbody tr th:only-of-type {\n",
       "        vertical-align: middle;\n",
       "    }\n",
       "\n",
       "    .dataframe tbody tr th {\n",
       "        vertical-align: top;\n",
       "    }\n",
       "\n",
       "    .dataframe thead th {\n",
       "        text-align: right;\n",
       "    }\n",
       "</style>\n",
       "<table border=\"1\" class=\"dataframe\">\n",
       "  <thead>\n",
       "    <tr style=\"text-align: right;\">\n",
       "      <th></th>\n",
       "      <th>Unique Values</th>\n",
       "    </tr>\n",
       "  </thead>\n",
       "  <tbody>\n",
       "    <tr>\n",
       "      <th>Loan_ID</th>\n",
       "      <td>614</td>\n",
       "    </tr>\n",
       "    <tr>\n",
       "      <th>Gender</th>\n",
       "      <td>2</td>\n",
       "    </tr>\n",
       "    <tr>\n",
       "      <th>Married</th>\n",
       "      <td>2</td>\n",
       "    </tr>\n",
       "    <tr>\n",
       "      <th>Dependents</th>\n",
       "      <td>4</td>\n",
       "    </tr>\n",
       "    <tr>\n",
       "      <th>Education</th>\n",
       "      <td>2</td>\n",
       "    </tr>\n",
       "    <tr>\n",
       "      <th>Self_Employed</th>\n",
       "      <td>2</td>\n",
       "    </tr>\n",
       "    <tr>\n",
       "      <th>ApplicantIncome</th>\n",
       "      <td>505</td>\n",
       "    </tr>\n",
       "    <tr>\n",
       "      <th>CoapplicantIncome</th>\n",
       "      <td>287</td>\n",
       "    </tr>\n",
       "    <tr>\n",
       "      <th>LoanAmount</th>\n",
       "      <td>203</td>\n",
       "    </tr>\n",
       "    <tr>\n",
       "      <th>Loan_Amount_Term</th>\n",
       "      <td>10</td>\n",
       "    </tr>\n",
       "    <tr>\n",
       "      <th>Credit_History</th>\n",
       "      <td>2</td>\n",
       "    </tr>\n",
       "    <tr>\n",
       "      <th>Property_Area</th>\n",
       "      <td>3</td>\n",
       "    </tr>\n",
       "    <tr>\n",
       "      <th>Loan_Status</th>\n",
       "      <td>2</td>\n",
       "    </tr>\n",
       "  </tbody>\n",
       "</table>\n",
       "</div>"
      ],
      "text/plain": [
       "                   Unique Values\n",
       "Loan_ID                      614\n",
       "Gender                         2\n",
       "Married                        2\n",
       "Dependents                     4\n",
       "Education                      2\n",
       "Self_Employed                  2\n",
       "ApplicantIncome              505\n",
       "CoapplicantIncome            287\n",
       "LoanAmount                   203\n",
       "Loan_Amount_Term              10\n",
       "Credit_History                 2\n",
       "Property_Area                  3\n",
       "Loan_Status                    2"
      ]
     },
     "execution_count": 12,
     "metadata": {},
     "output_type": "execute_result"
    }
   ],
   "source": [
    "df.nunique().to_frame(\"Unique Values\")"
   ]
  },
  {
   "cell_type": "markdown",
   "id": "14c72e8c",
   "metadata": {},
   "source": [
    "there is all values of column Loan_ID is unique as expected, but this will not help us in analysis\n",
    "\n",
    "Income of Applicant and Coapplicant is also contain higher unique value but this column is necessary for load prediction so we can remove outliers from it.\n",
    "\n",
    "Loan status has two unique values and it is a target variable so we can use binary classification model for prediction ."
   ]
  },
  {
   "cell_type": "code",
   "execution_count": 13,
   "id": "cffa5b3e",
   "metadata": {},
   "outputs": [
    {
     "name": "stdout",
     "output_type": "stream",
     "text": [
      "Loan_ID\n",
      "LP001002    1\n",
      "LP002328    1\n",
      "LP002305    1\n",
      "LP002308    1\n",
      "LP002314    1\n",
      "           ..\n",
      "LP001692    1\n",
      "LP001693    1\n",
      "LP001698    1\n",
      "LP001699    1\n",
      "LP002990    1\n",
      "Name: Loan_ID, Length: 614, dtype: int64\n",
      "************************************************\n",
      "Gender\n",
      "Male      489\n",
      "Female    112\n",
      "Name: Gender, dtype: int64\n",
      "************************************************\n",
      "Married\n",
      "Yes    398\n",
      "No     213\n",
      "Name: Married, dtype: int64\n",
      "************************************************\n",
      "Dependents\n",
      "0     345\n",
      "1     102\n",
      "2     101\n",
      "3+     51\n",
      "Name: Dependents, dtype: int64\n",
      "************************************************\n",
      "Education\n",
      "Graduate        480\n",
      "Not Graduate    134\n",
      "Name: Education, dtype: int64\n",
      "************************************************\n",
      "Self_Employed\n",
      "No     500\n",
      "Yes     82\n",
      "Name: Self_Employed, dtype: int64\n",
      "************************************************\n",
      "ApplicantIncome\n",
      "2500    9\n",
      "4583    6\n",
      "6000    6\n",
      "2600    6\n",
      "3333    5\n",
      "       ..\n",
      "3244    1\n",
      "4408    1\n",
      "3917    1\n",
      "3992    1\n",
      "7583    1\n",
      "Name: ApplicantIncome, Length: 505, dtype: int64\n",
      "************************************************\n",
      "CoapplicantIncome\n",
      "0.0       273\n",
      "2500.0      5\n",
      "2083.0      5\n",
      "1666.0      5\n",
      "2250.0      3\n",
      "         ... \n",
      "2791.0      1\n",
      "1010.0      1\n",
      "1695.0      1\n",
      "2598.0      1\n",
      "240.0       1\n",
      "Name: CoapplicantIncome, Length: 287, dtype: int64\n",
      "************************************************\n",
      "LoanAmount\n",
      "120.0    20\n",
      "110.0    17\n",
      "100.0    15\n",
      "160.0    12\n",
      "187.0    12\n",
      "         ..\n",
      "240.0     1\n",
      "214.0     1\n",
      "59.0      1\n",
      "166.0     1\n",
      "253.0     1\n",
      "Name: LoanAmount, Length: 203, dtype: int64\n",
      "************************************************\n",
      "Loan_Amount_Term\n",
      "360.0    512\n",
      "180.0     44\n",
      "480.0     15\n",
      "300.0     13\n",
      "240.0      4\n",
      "84.0       4\n",
      "120.0      3\n",
      "60.0       2\n",
      "36.0       2\n",
      "12.0       1\n",
      "Name: Loan_Amount_Term, dtype: int64\n",
      "************************************************\n",
      "Credit_History\n",
      "1.0    475\n",
      "0.0     89\n",
      "Name: Credit_History, dtype: int64\n",
      "************************************************\n",
      "Property_Area\n",
      "Semiurban    233\n",
      "Urban        202\n",
      "Rural        179\n",
      "Name: Property_Area, dtype: int64\n",
      "************************************************\n",
      "Loan_Status\n",
      "Y    422\n",
      "N    192\n",
      "Name: Loan_Status, dtype: int64\n",
      "************************************************\n"
     ]
    }
   ],
   "source": [
    "#Lets check the value count of each column to see if there are any unexpected and unwanted entries present in the column.\n",
    "for i in df:\n",
    "        print(i)\n",
    "        print(df[i].value_counts())\n",
    "        print('************************************************')"
   ]
  },
  {
   "cell_type": "markdown",
   "id": "c03ab21a",
   "metadata": {},
   "source": [
    "Observation:\n",
    "\n",
    "1.We  will change float type of column like CoapplicantIncome,LoanAmount,Loan_Amount_Term,Credit_History into int type because we saw that only 0 is present after decimal point means its a integer type data.\n",
    "\n",
    "2.In dependents columns 3+ is present that is invalid type of data so we need to change it by 3 and we consider 3 is the maximum dependence value.\n",
    "\n",
    "3.I observed that the datatype of dependents is object but value is 0,1,2,3+ is intiger type .The datatype is object because of 3+ so fistly we replace it by intiger value then convert data type of dependens column inti int type.\n",
    "\n",
    "\n",
    "4.Loan_Amount_Term is given in monthly bases we can convert it in yearly for better understanding\n"
   ]
  },
  {
   "cell_type": "markdown",
   "id": "04a1c6cd",
   "metadata": {},
   "source": [
    "# DATA CLEANING"
   ]
  },
  {
   "cell_type": "markdown",
   "id": "6c18eb6d",
   "metadata": {},
   "source": [
    "# Dealing With Null Value"
   ]
  },
  {
   "cell_type": "markdown",
   "id": "741e9d69",
   "metadata": {},
   "source": [
    "Firstly we replace zeros value of coapplicantIncome column with mean"
   ]
  },
  {
   "cell_type": "code",
   "execution_count": 14,
   "id": "7a4a117b",
   "metadata": {},
   "outputs": [
    {
     "data": {
      "text/plain": [
       "0.0"
      ]
     },
     "execution_count": 14,
     "metadata": {},
     "output_type": "execute_result"
    }
   ],
   "source": [
    "df[\"CoapplicantIncome\"].min()"
   ]
  },
  {
   "cell_type": "code",
   "execution_count": 15,
   "id": "f05c0083",
   "metadata": {},
   "outputs": [
    {
     "data": {
      "text/html": [
       "<div>\n",
       "<style scoped>\n",
       "    .dataframe tbody tr th:only-of-type {\n",
       "        vertical-align: middle;\n",
       "    }\n",
       "\n",
       "    .dataframe tbody tr th {\n",
       "        vertical-align: top;\n",
       "    }\n",
       "\n",
       "    .dataframe thead th {\n",
       "        text-align: right;\n",
       "    }\n",
       "</style>\n",
       "<table border=\"1\" class=\"dataframe\">\n",
       "  <thead>\n",
       "    <tr style=\"text-align: right;\">\n",
       "      <th></th>\n",
       "      <th>Loan_ID</th>\n",
       "      <th>Gender</th>\n",
       "      <th>Married</th>\n",
       "      <th>Dependents</th>\n",
       "      <th>Education</th>\n",
       "      <th>Self_Employed</th>\n",
       "      <th>ApplicantIncome</th>\n",
       "      <th>CoapplicantIncome</th>\n",
       "      <th>LoanAmount</th>\n",
       "      <th>Loan_Amount_Term</th>\n",
       "      <th>Credit_History</th>\n",
       "      <th>Property_Area</th>\n",
       "      <th>Loan_Status</th>\n",
       "    </tr>\n",
       "  </thead>\n",
       "  <tbody>\n",
       "    <tr>\n",
       "      <th>0</th>\n",
       "      <td>LP001002</td>\n",
       "      <td>Male</td>\n",
       "      <td>No</td>\n",
       "      <td>0</td>\n",
       "      <td>Graduate</td>\n",
       "      <td>No</td>\n",
       "      <td>5849</td>\n",
       "      <td>1621.245798</td>\n",
       "      <td>NaN</td>\n",
       "      <td>360.0</td>\n",
       "      <td>1.0</td>\n",
       "      <td>Urban</td>\n",
       "      <td>Y</td>\n",
       "    </tr>\n",
       "    <tr>\n",
       "      <th>1</th>\n",
       "      <td>LP001003</td>\n",
       "      <td>Male</td>\n",
       "      <td>Yes</td>\n",
       "      <td>1</td>\n",
       "      <td>Graduate</td>\n",
       "      <td>No</td>\n",
       "      <td>4583</td>\n",
       "      <td>1508.000000</td>\n",
       "      <td>128.0</td>\n",
       "      <td>360.0</td>\n",
       "      <td>1.0</td>\n",
       "      <td>Rural</td>\n",
       "      <td>N</td>\n",
       "    </tr>\n",
       "    <tr>\n",
       "      <th>2</th>\n",
       "      <td>LP001005</td>\n",
       "      <td>Male</td>\n",
       "      <td>Yes</td>\n",
       "      <td>0</td>\n",
       "      <td>Graduate</td>\n",
       "      <td>Yes</td>\n",
       "      <td>3000</td>\n",
       "      <td>1621.245798</td>\n",
       "      <td>66.0</td>\n",
       "      <td>360.0</td>\n",
       "      <td>1.0</td>\n",
       "      <td>Urban</td>\n",
       "      <td>Y</td>\n",
       "    </tr>\n",
       "    <tr>\n",
       "      <th>3</th>\n",
       "      <td>LP001006</td>\n",
       "      <td>Male</td>\n",
       "      <td>Yes</td>\n",
       "      <td>0</td>\n",
       "      <td>Not Graduate</td>\n",
       "      <td>No</td>\n",
       "      <td>2583</td>\n",
       "      <td>2358.000000</td>\n",
       "      <td>120.0</td>\n",
       "      <td>360.0</td>\n",
       "      <td>1.0</td>\n",
       "      <td>Urban</td>\n",
       "      <td>Y</td>\n",
       "    </tr>\n",
       "    <tr>\n",
       "      <th>4</th>\n",
       "      <td>LP001008</td>\n",
       "      <td>Male</td>\n",
       "      <td>No</td>\n",
       "      <td>0</td>\n",
       "      <td>Graduate</td>\n",
       "      <td>No</td>\n",
       "      <td>6000</td>\n",
       "      <td>1621.245798</td>\n",
       "      <td>141.0</td>\n",
       "      <td>360.0</td>\n",
       "      <td>1.0</td>\n",
       "      <td>Urban</td>\n",
       "      <td>Y</td>\n",
       "    </tr>\n",
       "    <tr>\n",
       "      <th>...</th>\n",
       "      <td>...</td>\n",
       "      <td>...</td>\n",
       "      <td>...</td>\n",
       "      <td>...</td>\n",
       "      <td>...</td>\n",
       "      <td>...</td>\n",
       "      <td>...</td>\n",
       "      <td>...</td>\n",
       "      <td>...</td>\n",
       "      <td>...</td>\n",
       "      <td>...</td>\n",
       "      <td>...</td>\n",
       "      <td>...</td>\n",
       "    </tr>\n",
       "    <tr>\n",
       "      <th>609</th>\n",
       "      <td>LP002978</td>\n",
       "      <td>Female</td>\n",
       "      <td>No</td>\n",
       "      <td>0</td>\n",
       "      <td>Graduate</td>\n",
       "      <td>No</td>\n",
       "      <td>2900</td>\n",
       "      <td>1621.245798</td>\n",
       "      <td>71.0</td>\n",
       "      <td>360.0</td>\n",
       "      <td>1.0</td>\n",
       "      <td>Rural</td>\n",
       "      <td>Y</td>\n",
       "    </tr>\n",
       "    <tr>\n",
       "      <th>610</th>\n",
       "      <td>LP002979</td>\n",
       "      <td>Male</td>\n",
       "      <td>Yes</td>\n",
       "      <td>3+</td>\n",
       "      <td>Graduate</td>\n",
       "      <td>No</td>\n",
       "      <td>4106</td>\n",
       "      <td>1621.245798</td>\n",
       "      <td>40.0</td>\n",
       "      <td>180.0</td>\n",
       "      <td>1.0</td>\n",
       "      <td>Rural</td>\n",
       "      <td>Y</td>\n",
       "    </tr>\n",
       "    <tr>\n",
       "      <th>611</th>\n",
       "      <td>LP002983</td>\n",
       "      <td>Male</td>\n",
       "      <td>Yes</td>\n",
       "      <td>1</td>\n",
       "      <td>Graduate</td>\n",
       "      <td>No</td>\n",
       "      <td>8072</td>\n",
       "      <td>240.000000</td>\n",
       "      <td>253.0</td>\n",
       "      <td>360.0</td>\n",
       "      <td>1.0</td>\n",
       "      <td>Urban</td>\n",
       "      <td>Y</td>\n",
       "    </tr>\n",
       "    <tr>\n",
       "      <th>612</th>\n",
       "      <td>LP002984</td>\n",
       "      <td>Male</td>\n",
       "      <td>Yes</td>\n",
       "      <td>2</td>\n",
       "      <td>Graduate</td>\n",
       "      <td>No</td>\n",
       "      <td>7583</td>\n",
       "      <td>1621.245798</td>\n",
       "      <td>187.0</td>\n",
       "      <td>360.0</td>\n",
       "      <td>1.0</td>\n",
       "      <td>Urban</td>\n",
       "      <td>Y</td>\n",
       "    </tr>\n",
       "    <tr>\n",
       "      <th>613</th>\n",
       "      <td>LP002990</td>\n",
       "      <td>Female</td>\n",
       "      <td>No</td>\n",
       "      <td>0</td>\n",
       "      <td>Graduate</td>\n",
       "      <td>Yes</td>\n",
       "      <td>4583</td>\n",
       "      <td>1621.245798</td>\n",
       "      <td>133.0</td>\n",
       "      <td>360.0</td>\n",
       "      <td>0.0</td>\n",
       "      <td>Semiurban</td>\n",
       "      <td>N</td>\n",
       "    </tr>\n",
       "  </tbody>\n",
       "</table>\n",
       "<p>614 rows × 13 columns</p>\n",
       "</div>"
      ],
      "text/plain": [
       "      Loan_ID  Gender Married Dependents     Education Self_Employed  \\\n",
       "0    LP001002    Male      No          0      Graduate            No   \n",
       "1    LP001003    Male     Yes          1      Graduate            No   \n",
       "2    LP001005    Male     Yes          0      Graduate           Yes   \n",
       "3    LP001006    Male     Yes          0  Not Graduate            No   \n",
       "4    LP001008    Male      No          0      Graduate            No   \n",
       "..        ...     ...     ...        ...           ...           ...   \n",
       "609  LP002978  Female      No          0      Graduate            No   \n",
       "610  LP002979    Male     Yes         3+      Graduate            No   \n",
       "611  LP002983    Male     Yes          1      Graduate            No   \n",
       "612  LP002984    Male     Yes          2      Graduate            No   \n",
       "613  LP002990  Female      No          0      Graduate           Yes   \n",
       "\n",
       "     ApplicantIncome  CoapplicantIncome  LoanAmount  Loan_Amount_Term  \\\n",
       "0               5849        1621.245798         NaN             360.0   \n",
       "1               4583        1508.000000       128.0             360.0   \n",
       "2               3000        1621.245798        66.0             360.0   \n",
       "3               2583        2358.000000       120.0             360.0   \n",
       "4               6000        1621.245798       141.0             360.0   \n",
       "..               ...                ...         ...               ...   \n",
       "609             2900        1621.245798        71.0             360.0   \n",
       "610             4106        1621.245798        40.0             180.0   \n",
       "611             8072         240.000000       253.0             360.0   \n",
       "612             7583        1621.245798       187.0             360.0   \n",
       "613             4583        1621.245798       133.0             360.0   \n",
       "\n",
       "     Credit_History Property_Area Loan_Status  \n",
       "0               1.0         Urban           Y  \n",
       "1               1.0         Rural           N  \n",
       "2               1.0         Urban           Y  \n",
       "3               1.0         Urban           Y  \n",
       "4               1.0         Urban           Y  \n",
       "..              ...           ...         ...  \n",
       "609             1.0         Rural           Y  \n",
       "610             1.0         Rural           Y  \n",
       "611             1.0         Urban           Y  \n",
       "612             1.0         Urban           Y  \n",
       "613             0.0     Semiurban           N  \n",
       "\n",
       "[614 rows x 13 columns]"
      ]
     },
     "execution_count": 15,
     "metadata": {},
     "output_type": "execute_result"
    }
   ],
   "source": [
    "\n",
    "df[\"CoapplicantIncome\"].replace(0,df[\"CoapplicantIncome\"].mean(),inplace=True)\n",
    "df"
   ]
  },
  {
   "cell_type": "code",
   "execution_count": 16,
   "id": "3c2cf630",
   "metadata": {},
   "outputs": [
    {
     "data": {
      "text/plain": [
       "16.12000084"
      ]
     },
     "execution_count": 16,
     "metadata": {},
     "output_type": "execute_result"
    }
   ],
   "source": [
    "df[\"CoapplicantIncome\"].min()"
   ]
  },
  {
   "cell_type": "markdown",
   "id": "9816833b",
   "metadata": {},
   "source": [
    "# Now we replace the missing value of numerical column with mean and mediam and categorical with mode value."
   ]
  },
  {
   "cell_type": "code",
   "execution_count": 17,
   "id": "63a6d2f4",
   "metadata": {},
   "outputs": [],
   "source": [
    "# Replacing NaN values in LoanAmount column with median value\n",
    "\n",
    "df[\"LoanAmount\"] = df[\"LoanAmount\"].fillna(df[\"LoanAmount\"].median())"
   ]
  },
  {
   "cell_type": "code",
   "execution_count": 18,
   "id": "83774d7e",
   "metadata": {},
   "outputs": [],
   "source": [
    "# replacing Nan Or Null values in all other categorical columns with mode of that column\n",
    "df[\"Gender\"]=df[\"Gender\"].fillna(df[\"Gender\"].mode()[0])\n",
    "df[\"Married\"]=df[\"Married\"].fillna(df[\"Married\"].mode()[0])\n",
    "df[\"Dependents\"]=df[\"Dependents\"].fillna(df[\"Dependents\"].mode()[0])\n",
    "df[\"Self_Employed\"]=df[\"Self_Employed\"].fillna(df[\"Self_Employed\"].mode()[0])\n",
    "df[\"Credit_History\"]=df[\"Credit_History\"].fillna(df[\"Credit_History\"].mode()[0])\n",
    "df[\"Loan_Amount_Term\"]=df[\"Loan_Amount_Term\"].fillna(df[\"Loan_Amount_Term\"].mode()[0])"
   ]
  },
  {
   "cell_type": "markdown",
   "id": "6c24c379",
   "metadata": {},
   "source": [
    "# Check for null value "
   ]
  },
  {
   "cell_type": "code",
   "execution_count": 19,
   "id": "1eb738f5",
   "metadata": {},
   "outputs": [
    {
     "data": {
      "text/plain": [
       "0"
      ]
     },
     "execution_count": 19,
     "metadata": {},
     "output_type": "execute_result"
    }
   ],
   "source": [
    "df.isnull().sum().sum()"
   ]
  },
  {
   "cell_type": "code",
   "execution_count": 20,
   "id": "c57b76db",
   "metadata": {},
   "outputs": [
    {
     "data": {
      "text/plain": [
       "<AxesSubplot:>"
      ]
     },
     "execution_count": 20,
     "metadata": {},
     "output_type": "execute_result"
    },
    {
     "data": {
      "image/png": "[encoded data removed]",
      "text/plain": [
       "<Figure size 432x288 with 2 Axes>"
      ]
     },
     "metadata": {
      "needs_background": "light"
     },
     "output_type": "display_data"
    }
   ],
   "source": [
    "sns.heatmap(df.isnull())##check missing value through visualization"
   ]
  },
  {
   "cell_type": "markdown",
   "id": "f6aa18f4",
   "metadata": {},
   "source": [
    "Here we can see  are successfully  handle NaN value ."
   ]
  },
  {
   "cell_type": "markdown",
   "id": "516d42ff",
   "metadata": {},
   "source": [
    "# Lets check if there is any empty observation present in the dataset\n",
    "\n"
   ]
  },
  {
   "cell_type": "code",
   "execution_count": 21,
   "id": "5bb5e041",
   "metadata": {},
   "outputs": [
    {
     "data": {
      "text/html": [
       "<div>\n",
       "<style scoped>\n",
       "    .dataframe tbody tr th:only-of-type {\n",
       "        vertical-align: middle;\n",
       "    }\n",
       "\n",
       "    .dataframe tbody tr th {\n",
       "        vertical-align: top;\n",
       "    }\n",
       "\n",
       "    .dataframe thead th {\n",
       "        text-align: right;\n",
       "    }\n",
       "</style>\n",
       "<table border=\"1\" class=\"dataframe\">\n",
       "  <thead>\n",
       "    <tr style=\"text-align: right;\">\n",
       "      <th></th>\n",
       "      <th>Loan_ID</th>\n",
       "      <th>Gender</th>\n",
       "      <th>Married</th>\n",
       "      <th>Dependents</th>\n",
       "      <th>Education</th>\n",
       "      <th>Self_Employed</th>\n",
       "      <th>ApplicantIncome</th>\n",
       "      <th>CoapplicantIncome</th>\n",
       "      <th>LoanAmount</th>\n",
       "      <th>Loan_Amount_Term</th>\n",
       "      <th>Credit_History</th>\n",
       "      <th>Property_Area</th>\n",
       "      <th>Loan_Status</th>\n",
       "    </tr>\n",
       "  </thead>\n",
       "  <tbody>\n",
       "  </tbody>\n",
       "</table>\n",
       "</div>"
      ],
      "text/plain": [
       "Empty DataFrame\n",
       "Columns: [Loan_ID, Gender, Married, Dependents, Education, Self_Employed, ApplicantIncome, CoapplicantIncome, LoanAmount, Loan_Amount_Term, Credit_History, Property_Area, Loan_Status]\n",
       "Index: []"
      ]
     },
     "execution_count": 21,
     "metadata": {},
     "output_type": "execute_result"
    }
   ],
   "source": [
    "\n",
    "df.loc[df[\"Loan_Status\"]== \"  \"]"
   ]
  },
  {
   "cell_type": "markdown",
   "id": "71ad2085",
   "metadata": {},
   "source": [
    "# Type converston from float to int :"
   ]
  },
  {
   "cell_type": "code",
   "execution_count": 22,
   "id": "2026ad64",
   "metadata": {},
   "outputs": [],
   "source": [
    "df['Loan_Amount_Term']=df['Loan_Amount_Term'].astype('int')\n",
    "df['Credit_History']=df['Credit_History'].astype('int')\n",
    "df['CoapplicantIncome']=df['CoapplicantIncome'].astype('int')\n",
    "df['LoanAmount']=df['LoanAmount'].astype('int')"
   ]
  },
  {
   "cell_type": "code",
   "execution_count": 23,
   "id": "dce5a8aa",
   "metadata": {},
   "outputs": [
    {
     "name": "stdout",
     "output_type": "stream",
     "text": [
      "<class 'pandas.core.frame.DataFrame'>\n",
      "RangeIndex: 614 entries, 0 to 613\n",
      "Data columns (total 13 columns):\n",
      " #   Column             Non-Null Count  Dtype \n",
      "---  ------             --------------  ----- \n",
      " 0   Loan_ID            614 non-null    object\n",
      " 1   Gender             614 non-null    object\n",
      " 2   Married            614 non-null    object\n",
      " 3   Dependents         614 non-null    object\n",
      " 4   Education          614 non-null    object\n",
      " 5   Self_Employed      614 non-null    object\n",
      " 6   ApplicantIncome    614 non-null    int64 \n",
      " 7   CoapplicantIncome  614 non-null    int32 \n",
      " 8   LoanAmount         614 non-null    int32 \n",
      " 9   Loan_Amount_Term   614 non-null    int32 \n",
      " 10  Credit_History     614 non-null    int32 \n",
      " 11  Property_Area      614 non-null    object\n",
      " 12  Loan_Status        614 non-null    object\n",
      "dtypes: int32(4), int64(1), object(8)\n",
      "memory usage: 52.9+ KB\n"
     ]
    }
   ],
   "source": [
    "df.info()"
   ]
  },
  {
   "cell_type": "markdown",
   "id": "5e3e62b2",
   "metadata": {},
   "source": [
    "# Covert monthly value of Loan_Amount_Term  into  yearly"
   ]
  },
  {
   "cell_type": "code",
   "execution_count": 24,
   "id": "93b22724",
   "metadata": {},
   "outputs": [],
   "source": [
    "df[\"Loan_Amount_Term\"]=df[\"Loan_Amount_Term\"]/12"
   ]
  },
  {
   "cell_type": "code",
   "execution_count": 25,
   "id": "190c6105",
   "metadata": {},
   "outputs": [
    {
     "data": {
      "text/plain": [
       "array([30., 10., 20., 15.,  5., 25., 40.,  3.,  7.,  1.])"
      ]
     },
     "execution_count": 25,
     "metadata": {},
     "output_type": "execute_result"
    }
   ],
   "source": [
    "df[\"Loan_Amount_Term\"].unique()"
   ]
  },
  {
   "cell_type": "code",
   "execution_count": 26,
   "id": "27017724",
   "metadata": {},
   "outputs": [],
   "source": [
    "df['Loan_Amount_Term']=df['Loan_Amount_Term'].astype('int')"
   ]
  },
  {
   "cell_type": "code",
   "execution_count": 27,
   "id": "e912e91a",
   "metadata": {},
   "outputs": [
    {
     "data": {
      "text/plain": [
       "array([30, 10, 20, 15,  5, 25, 40,  3,  7,  1])"
      ]
     },
     "execution_count": 27,
     "metadata": {},
     "output_type": "execute_result"
    }
   ],
   "source": [
    "df[\"Loan_Amount_Term\"].unique()"
   ]
  },
  {
   "cell_type": "markdown",
   "id": "94d45fb1",
   "metadata": {},
   "source": [
    "# Replace invalid data :"
   ]
  },
  {
   "cell_type": "code",
   "execution_count": 28,
   "id": "f3f00da6",
   "metadata": {},
   "outputs": [
    {
     "data": {
      "text/plain": [
       "array(['0', '1', '2', '3+'], dtype=object)"
      ]
     },
     "execution_count": 28,
     "metadata": {},
     "output_type": "execute_result"
    }
   ],
   "source": [
    "df['Dependents'].unique()"
   ]
  },
  {
   "cell_type": "markdown",
   "id": "65e01add",
   "metadata": {},
   "source": [
    "3+ is invalid type data so can replace with 3"
   ]
  },
  {
   "cell_type": "code",
   "execution_count": 29,
   "id": "37cbdeb0",
   "metadata": {},
   "outputs": [],
   "source": [
    "df['Dependents'].replace('3+',3,inplace=True)"
   ]
  },
  {
   "cell_type": "code",
   "execution_count": 30,
   "id": "67317f9f",
   "metadata": {},
   "outputs": [
    {
     "data": {
      "text/plain": [
       "array(['0', '1', '2', 3], dtype=object)"
      ]
     },
     "execution_count": 30,
     "metadata": {},
     "output_type": "execute_result"
    }
   ],
   "source": [
    "df['Dependents'].unique()"
   ]
  },
  {
   "cell_type": "markdown",
   "id": "0e3ea3c6",
   "metadata": {},
   "source": [
    "now conver datatype of dependents column into int,"
   ]
  },
  {
   "cell_type": "code",
   "execution_count": 31,
   "id": "5f9cd927",
   "metadata": {},
   "outputs": [],
   "source": [
    "df['Dependents']=df['Dependents'].astype('int')"
   ]
  },
  {
   "cell_type": "code",
   "execution_count": 32,
   "id": "59ca37fa",
   "metadata": {},
   "outputs": [
    {
     "data": {
      "text/plain": [
       "dtype('int32')"
      ]
     },
     "execution_count": 32,
     "metadata": {},
     "output_type": "execute_result"
    }
   ],
   "source": [
    "df['Dependents'].dtypes"
   ]
  },
  {
   "cell_type": "markdown",
   "id": "83a3c62d",
   "metadata": {},
   "source": [
    "# Drop unnecessary columns"
   ]
  },
  {
   "cell_type": "markdown",
   "id": "1bad2275",
   "metadata": {},
   "source": [
    "load_id, this is very important column for banks as there are many people with same name and age apply for loans with loan ID it is simpler for banks to find the right person.but we need this data for analysis purpose only, so we don't require this column in our project analysis as id might complicate our project and we might not get proper predictions.so we will drop this column"
   ]
  },
  {
   "cell_type": "code",
   "execution_count": 33,
   "id": "6882406f",
   "metadata": {},
   "outputs": [],
   "source": [
    "df.drop(\"Loan_ID\",inplace = True, axis = 1)"
   ]
  },
  {
   "cell_type": "markdown",
   "id": "c9c77e63",
   "metadata": {},
   "source": [
    "# Segregate the numerical and Categorical variables"
   ]
  },
  {
   "cell_type": "code",
   "execution_count": 34,
   "id": "81b7a770",
   "metadata": {},
   "outputs": [
    {
     "data": {
      "text/html": [
       "<div>\n",
       "<style scoped>\n",
       "    .dataframe tbody tr th:only-of-type {\n",
       "        vertical-align: middle;\n",
       "    }\n",
       "\n",
       "    .dataframe tbody tr th {\n",
       "        vertical-align: top;\n",
       "    }\n",
       "\n",
       "    .dataframe thead th {\n",
       "        text-align: right;\n",
       "    }\n",
       "</style>\n",
       "<table border=\"1\" class=\"dataframe\">\n",
       "  <thead>\n",
       "    <tr style=\"text-align: right;\">\n",
       "      <th></th>\n",
       "      <th>Gender</th>\n",
       "      <th>Married</th>\n",
       "      <th>Education</th>\n",
       "      <th>Self_Employed</th>\n",
       "      <th>Property_Area</th>\n",
       "      <th>Loan_Status</th>\n",
       "    </tr>\n",
       "  </thead>\n",
       "  <tbody>\n",
       "    <tr>\n",
       "      <th>381</th>\n",
       "      <td>Male</td>\n",
       "      <td>No</td>\n",
       "      <td>Graduate</td>\n",
       "      <td>No</td>\n",
       "      <td>Semiurban</td>\n",
       "      <td>Y</td>\n",
       "    </tr>\n",
       "    <tr>\n",
       "      <th>263</th>\n",
       "      <td>Female</td>\n",
       "      <td>No</td>\n",
       "      <td>Graduate</td>\n",
       "      <td>No</td>\n",
       "      <td>Rural</td>\n",
       "      <td>Y</td>\n",
       "    </tr>\n",
       "    <tr>\n",
       "      <th>83</th>\n",
       "      <td>Male</td>\n",
       "      <td>Yes</td>\n",
       "      <td>Graduate</td>\n",
       "      <td>No</td>\n",
       "      <td>Semiurban</td>\n",
       "      <td>N</td>\n",
       "    </tr>\n",
       "    <tr>\n",
       "      <th>342</th>\n",
       "      <td>Male</td>\n",
       "      <td>Yes</td>\n",
       "      <td>Not Graduate</td>\n",
       "      <td>No</td>\n",
       "      <td>Urban</td>\n",
       "      <td>Y</td>\n",
       "    </tr>\n",
       "    <tr>\n",
       "      <th>574</th>\n",
       "      <td>Male</td>\n",
       "      <td>Yes</td>\n",
       "      <td>Graduate</td>\n",
       "      <td>No</td>\n",
       "      <td>Semiurban</td>\n",
       "      <td>N</td>\n",
       "    </tr>\n",
       "  </tbody>\n",
       "</table>\n",
       "</div>"
      ],
      "text/plain": [
       "     Gender Married     Education Self_Employed Property_Area Loan_Status\n",
       "381    Male      No      Graduate            No     Semiurban           Y\n",
       "263  Female      No      Graduate            No         Rural           Y\n",
       "83     Male     Yes      Graduate            No     Semiurban           N\n",
       "342    Male     Yes  Not Graduate            No         Urban           Y\n",
       "574    Male     Yes      Graduate            No     Semiurban           N"
      ]
     },
     "execution_count": 34,
     "metadata": {},
     "output_type": "execute_result"
    }
   ],
   "source": [
    "categorical = [feature for feature in df.columns if df[feature].dtypes=='object']\n",
    "df[categorical].sample(5)"
   ]
  },
  {
   "cell_type": "code",
   "execution_count": 35,
   "id": "2c43015c",
   "metadata": {},
   "outputs": [
    {
     "data": {
      "text/html": [
       "<div>\n",
       "<style scoped>\n",
       "    .dataframe tbody tr th:only-of-type {\n",
       "        vertical-align: middle;\n",
       "    }\n",
       "\n",
       "    .dataframe tbody tr th {\n",
       "        vertical-align: top;\n",
       "    }\n",
       "\n",
       "    .dataframe thead th {\n",
       "        text-align: right;\n",
       "    }\n",
       "</style>\n",
       "<table border=\"1\" class=\"dataframe\">\n",
       "  <thead>\n",
       "    <tr style=\"text-align: right;\">\n",
       "      <th></th>\n",
       "      <th>Dependents</th>\n",
       "      <th>ApplicantIncome</th>\n",
       "      <th>CoapplicantIncome</th>\n",
       "      <th>LoanAmount</th>\n",
       "      <th>Loan_Amount_Term</th>\n",
       "      <th>Credit_History</th>\n",
       "    </tr>\n",
       "  </thead>\n",
       "  <tbody>\n",
       "    <tr>\n",
       "      <th>552</th>\n",
       "      <td>1</td>\n",
       "      <td>3333</td>\n",
       "      <td>3250</td>\n",
       "      <td>158</td>\n",
       "      <td>30</td>\n",
       "      <td>1</td>\n",
       "    </tr>\n",
       "    <tr>\n",
       "      <th>170</th>\n",
       "      <td>0</td>\n",
       "      <td>1820</td>\n",
       "      <td>1769</td>\n",
       "      <td>95</td>\n",
       "      <td>30</td>\n",
       "      <td>1</td>\n",
       "    </tr>\n",
       "    <tr>\n",
       "      <th>308</th>\n",
       "      <td>0</td>\n",
       "      <td>20233</td>\n",
       "      <td>1621</td>\n",
       "      <td>480</td>\n",
       "      <td>30</td>\n",
       "      <td>1</td>\n",
       "    </tr>\n",
       "    <tr>\n",
       "      <th>417</th>\n",
       "      <td>2</td>\n",
       "      <td>1600</td>\n",
       "      <td>20000</td>\n",
       "      <td>239</td>\n",
       "      <td>30</td>\n",
       "      <td>1</td>\n",
       "    </tr>\n",
       "    <tr>\n",
       "      <th>370</th>\n",
       "      <td>0</td>\n",
       "      <td>15759</td>\n",
       "      <td>1621</td>\n",
       "      <td>55</td>\n",
       "      <td>30</td>\n",
       "      <td>1</td>\n",
       "    </tr>\n",
       "  </tbody>\n",
       "</table>\n",
       "</div>"
      ],
      "text/plain": [
       "     Dependents  ApplicantIncome  CoapplicantIncome  LoanAmount  \\\n",
       "552           1             3333               3250         158   \n",
       "170           0             1820               1769          95   \n",
       "308           0            20233               1621         480   \n",
       "417           2             1600              20000         239   \n",
       "370           0            15759               1621          55   \n",
       "\n",
       "     Loan_Amount_Term  Credit_History  \n",
       "552                30               1  \n",
       "170                30               1  \n",
       "308                30               1  \n",
       "417                30               1  \n",
       "370                30               1  "
      ]
     },
     "execution_count": 35,
     "metadata": {},
     "output_type": "execute_result"
    }
   ],
   "source": [
    "numerical = [feature for feature in df.columns if df[feature].dtypes!='object']\n",
    "df[numerical].sample(5)\n"
   ]
  },
  {
   "cell_type": "markdown",
   "id": "6f583cb6",
   "metadata": {},
   "source": [
    "# Univariate Analysis"
   ]
  },
  {
   "cell_type": "markdown",
   "id": "d3e785e5",
   "metadata": {},
   "source": [
    "# check outliers in numerical values"
   ]
  },
  {
   "cell_type": "code",
   "execution_count": 36,
   "id": "ddc1c205",
   "metadata": {},
   "outputs": [
    {
     "data": {
      "text/plain": [
       "<AxesSubplot:>"
      ]
     },
     "execution_count": 36,
     "metadata": {},
     "output_type": "execute_result"
    },
    {
     "data": {
      "image/png": "[encoded data removed]",
      "text/plain": [
       "<Figure size 1080x504 with 3 Axes>"
      ]
     },
     "metadata": {
      "needs_background": "light"
     },
     "output_type": "display_data"
    }
   ],
   "source": [
    "f, axes = plt.subplots( ncols=3, figsize=(15, 7))\n",
    "sns.boxplot(data=df[\"ApplicantIncome\"],ax = axes[0])\n",
    "sns.boxplot(data=df[\"CoapplicantIncome\"],ax = axes[1])\n",
    "sns.boxplot(data=df[\"LoanAmount\"],ax = axes[2])\n"
   ]
  },
  {
   "cell_type": "markdown",
   "id": "d0582ca2",
   "metadata": {},
   "source": [
    "outliers present in all above three columns later it will be remove."
   ]
  },
  {
   "cell_type": "markdown",
   "id": "56233076",
   "metadata": {},
   "source": [
    "# Distribution plot for all numerical columns"
   ]
  },
  {
   "cell_type": "code",
   "execution_count": 37,
   "id": "fad02ee7",
   "metadata": {},
   "outputs": [
    {
     "data": {
      "image/png": "[encoded data removed]",
      "text/plain": [
       "<Figure size 576x288 with 1 Axes>"
      ]
     },
     "metadata": {
      "needs_background": "light"
     },
     "output_type": "display_data"
    },
    {
     "data": {
      "image/png": "[encoded data removed]",
      "text/plain": [
       "<Figure size 576x288 with 1 Axes>"
      ]
     },
     "metadata": {
      "needs_background": "light"
     },
     "output_type": "display_data"
    },
    {
     "data": {
      "image/png": "[encoded data removed]",
      "text/plain": [
       "<Figure size 576x288 with 1 Axes>"
      ]
     },
     "metadata": {
      "needs_background": "light"
     },
     "output_type": "display_data"
    },
    {
     "data": {
      "image/png": "[encoded data removed]",
      "text/plain": [
       "<Figure size 576x288 with 1 Axes>"
      ]
     },
     "metadata": {
      "needs_background": "light"
     },
     "output_type": "display_data"
    },
    {
     "data": {
      "image/png": "[encoded data removed]",
      "text/plain": [
       "<Figure size 576x288 with 1 Axes>"
      ]
     },
     "metadata": {
      "needs_background": "light"
     },
     "output_type": "display_data"
    },
    {
     "data": {
      "image/png": "[encoded data removed]",
      "text/plain": [
       "<Figure size 576x288 with 1 Axes>"
      ]
     },
     "metadata": {
      "needs_background": "light"
     },
     "output_type": "display_data"
    }
   ],
   "source": [
    "#Distribution plot for all numerical columns\n",
    "for i in df.describe():              \n",
    "    plt.figure(figsize = (8, 4))\n",
    "    sns.distplot(df[i], bins = 10, color=\"g\")\n",
    "    plt.title(i)\n",
    "    plt.show()"
   ]
  },
  {
   "cell_type": "markdown",
   "id": "ad9c48a3",
   "metadata": {},
   "source": [
    "Here also we can see that skewness is present in all the Numerical columns.we have to remove it later."
   ]
  },
  {
   "cell_type": "markdown",
   "id": "55626780",
   "metadata": {},
   "source": [
    "# Count PLot for categorical data"
   ]
  },
  {
   "cell_type": "code",
   "execution_count": 38,
   "id": "489aee79",
   "metadata": {},
   "outputs": [
    {
     "data": {
      "image/png": "[encoded data removed]",
      "text/plain": [
       "<Figure size 576x288 with 1 Axes>"
      ]
     },
     "metadata": {
      "needs_background": "light"
     },
     "output_type": "display_data"
    },
    {
     "data": {
      "image/png": "[encoded data removed]",
      "text/plain": [
       "<Figure size 576x288 with 1 Axes>"
      ]
     },
     "metadata": {
      "needs_background": "light"
     },
     "output_type": "display_data"
    },
    {
     "data": {
      "image/png": "[encoded data removed]",
      "text/plain": [
       "<Figure size 576x288 with 1 Axes>"
      ]
     },
     "metadata": {
      "needs_background": "light"
     },
     "output_type": "display_data"
    },
    {
     "data": {
      "image/png": "[encoded data removed]",
      "text/plain": [
       "<Figure size 576x288 with 1 Axes>"
      ]
     },
     "metadata": {
      "needs_background": "light"
     },
     "output_type": "display_data"
    },
    {
     "data": {
      "image/png": "[encoded data removed]",
      "text/plain": [
       "<Figure size 576x288 with 1 Axes>"
      ]
     },
     "metadata": {
      "needs_background": "light"
     },
     "output_type": "display_data"
    },
    {
     "data": {
      "image/png": "[encoded data removed]",
      "text/plain": [
       "<Figure size 576x288 with 1 Axes>"
      ]
     },
     "metadata": {
      "needs_background": "light"
     },
     "output_type": "display_data"
    }
   ],
   "source": [
    "\n",
    "for i in df[categorical]:              \n",
    "    plt.figure(figsize = (8, 4))\n",
    "    sns.countplot(x=df[i],data=df[categorical])\n",
    "    plt.title(i)\n",
    "    plt.show()"
   ]
  },
  {
   "cell_type": "markdown",
   "id": "82fc572b",
   "metadata": {},
   "source": [
    "Key Observations:\n",
    "\n",
    "* we can  see that most of the applicants are Male.\n",
    "\n",
    "* we can see that most of the applicants are Married.\n",
    "\n",
    "* we can  see that most of the applicants have 0 dependents.\n",
    "\n",
    "*  we can  see that most of the applicants are minimum Graduate.\n",
    "\n",
    "* we can see that most of the applicants are salaried.\n",
    "\n",
    "* we can csee that most of the properties are from semiurban than urban and least in Rural Area.\n",
    "\n",
    "* In Our Target column Loan_Status most of the applicants are elidgible for loan."
   ]
  },
  {
   "cell_type": "markdown",
   "id": "4ea40a23",
   "metadata": {},
   "source": [
    "# Bivariate Visualization"
   ]
  },
  {
   "cell_type": "markdown",
   "id": "2ac9972e",
   "metadata": {},
   "source": [
    "# Bivariate Analysis of numericalvariable wirh respect to target variable"
   ]
  },
  {
   "cell_type": "code",
   "execution_count": 39,
   "id": "818a45d0",
   "metadata": {},
   "outputs": [
    {
     "data": {
      "text/plain": [
       "Index(['Gender', 'Married', 'Dependents', 'Education', 'Self_Employed',\n",
       "       'ApplicantIncome', 'CoapplicantIncome', 'LoanAmount',\n",
       "       'Loan_Amount_Term', 'Credit_History', 'Property_Area', 'Loan_Status'],\n",
       "      dtype='object')"
      ]
     },
     "execution_count": 39,
     "metadata": {},
     "output_type": "execute_result"
    }
   ],
   "source": [
    "df.columns"
   ]
  },
  {
   "cell_type": "code",
   "execution_count": 40,
   "id": "6de83de9",
   "metadata": {},
   "outputs": [
    {
     "data": {
      "text/plain": [
       "<AxesSubplot:xlabel='Loan_Status', ylabel='Loan_Amount_Term'>"
      ]
     },
     "execution_count": 40,
     "metadata": {},
     "output_type": "execute_result"
    },
    {
     "data": {
      "image/png": "[encoded data removed]",
      "text/plain": [
       "<Figure size 1080x720 with 4 Axes>"
      ]
     },
     "metadata": {
      "needs_background": "light"
     },
     "output_type": "display_data"
    }
   ],
   "source": [
    "f, axes = plt.subplots(nrows=2, ncols=2, figsize=(15,10))\n",
    "\n",
    "sns.barplot(x=\"Loan_Status\",y=\"ApplicantIncome\",data=df,ax = axes[0,0])\n",
    "sns.barplot(x=\"Loan_Status\",y=\"CoapplicantIncome\",data=df,ax = axes[0,1])\n",
    "sns.barplot(x=\"Loan_Status\",y=\"LoanAmount\",data=df,ax = axes[1,0])\n",
    "sns.barplot(x=\"Loan_Status\",y=\"Loan_Amount_Term\",data=df,ax = axes[1,1])"
   ]
  },
  {
   "cell_type": "markdown",
   "id": "ffa00bfd",
   "metadata": {},
   "source": [
    "Observation for each plot :\n",
    "\n",
    "1.Chance of  loan approval is incresed for the Applicant whoes Income t is  between 5000 to 6000  dollar .\n",
    "\n",
    "2.If the income of Coapplicant is between 2000 to 2500 dollar the chances of loan aproval is higher.\n",
    "\n",
    "3.The maximum  loan amount is  142 thousand dollar for loan is approved.\n",
    "\n",
    "4.Higher no. of applicant preferred for loan amount term 25 to 30 years. "
   ]
  },
  {
   "cell_type": "markdown",
   "id": "7fde20dc",
   "metadata": {},
   "source": [
    "# Bivariate Analysis of Categorical variable wirh respect to target variable"
   ]
  },
  {
   "cell_type": "code",
   "execution_count": 85,
   "id": "58fec42c",
   "metadata": {},
   "outputs": [
    {
     "data": {
      "text/plain": [
       "<AxesSubplot:xlabel='Loan_Status', ylabel='count'>"
      ]
     },
     "execution_count": 85,
     "metadata": {},
     "output_type": "execute_result"
    },
    {
     "data": {
      "image/png": "[encoded data removed]",
      "text/plain": [
       "<Figure size 1080x1440 with 8 Axes>"
      ]
     },
     "metadata": {
      "needs_background": "light"
     },
     "output_type": "display_data"
    }
   ],
   "source": [
    "f, axes = plt.subplots(nrows=4, ncols=2, figsize=(15,20))\n",
    "\n",
    "sns.countplot(df[\"Loan_Status\"],hue = df[\"Gender\"],ax = axes[0,0])\n",
    "sns.countplot(df[\"Loan_Status\"],hue = df[\"Married\"],ax = axes[0,1])\n",
    "sns.countplot(df[\"Loan_Status\"],hue = df[\"Education\"],ax = axes[1,0])\n",
    "sns.countplot(df[\"Loan_Status\"],hue = df[\"Self_Employed\"],ax = axes[1,1])\n",
    "sns.countplot(df[\"Loan_Status\"],hue = df[\"Credit_History\"],ax = axes[2,0])\n",
    "sns.countplot(df[\"Loan_Status\"],hue = df[\"Property_Area\"],ax = axes[2,1])\n",
    "sns.countplot(df[\"Loan_Status\"],hue = df[\"Dependents\"],ax = axes[3,0])\n",
    "\n"
   ]
  },
  {
   "cell_type": "markdown",
   "id": "e9cdbe43",
   "metadata": {},
   "source": [
    "Observation of each Graph:\n",
    "    \n",
    "1.The count of male is higher than felame but the loan approval pecentage is almost same for both  .\n",
    "\n",
    "2.The married person is higher chance to get loan easily\n",
    "\n",
    "3.The no. of graduate applicant  is higher and  chance to get loan also higher.\n",
    "\n",
    "4.The Applicant who are self_employee  higher chance for getting loan.\n",
    "\n",
    "5.The Applicant whoes credit_histry is present has  higher chance for getting loan because  credit_histry shows the persone records of his past loan .\n",
    "\n",
    "6.The Applicant who belong from semiurban area has chance to get loan higher.\n",
    "\n",
    "7.If no dependents are present then higher chance to get loan."
   ]
  },
  {
   "cell_type": "code",
   "execution_count": 42,
   "id": "bc5ebe59",
   "metadata": {},
   "outputs": [
    {
     "data": {
      "image/png": "[encoded data removed]",
      "text/plain": [
       "<Figure size 432x288 with 1 Axes>"
      ]
     },
     "metadata": {
      "needs_background": "light"
     },
     "output_type": "display_data"
    }
   ],
   "source": [
    "sns.scatterplot(x = \"ApplicantIncome\", y= \"LoanAmount\", data=df,hue=\"Loan_Status\");"
   ]
  },
  {
   "cell_type": "markdown",
   "id": "5ce31be3",
   "metadata": {},
   "source": [
    "when ApplicantIncome is increse the LoanAmount is also  incresed and chance of loan approvel is greater."
   ]
  },
  {
   "cell_type": "code",
   "execution_count": 43,
   "id": "7d7c3926",
   "metadata": {},
   "outputs": [
    {
     "data": {
      "image/png": "[encoded data removed]",
      "text/plain": [
       "<Figure size 432x288 with 1 Axes>"
      ]
     },
     "metadata": {
      "needs_background": "light"
     },
     "output_type": "display_data"
    }
   ],
   "source": [
    "sns.scatterplot(x = \"CoapplicantIncome\", y= \"LoanAmount\", data=df,hue=\"Loan_Status\");"
   ]
  },
  {
   "cell_type": "code",
   "execution_count": 44,
   "id": "c28a48d7",
   "metadata": {},
   "outputs": [
    {
     "data": {
      "image/png": "[encoded data removed]",
      "text/plain": [
       "<Figure size 432x288 with 1 Axes>"
      ]
     },
     "metadata": {
      "needs_background": "light"
     },
     "output_type": "display_data"
    }
   ],
   "source": [
    "sns.scatterplot(x = \"Loan_Amount_Term\", y= \"LoanAmount\", data=df,hue=\"Loan_Status\");"
   ]
  },
  {
   "cell_type": "markdown",
   "id": "eec20fcb",
   "metadata": {},
   "source": [
    "Maximum applicant who appled for loan want to pay loan within  15 to 30 years because the age when they applied for loan is approx 25 to 40 year and then want to pay their loan before they tern to 60 year."
   ]
  },
  {
   "cell_type": "code",
   "execution_count": 45,
   "id": "25d24755",
   "metadata": {},
   "outputs": [
    {
     "data": {
      "text/plain": [
       "<AxesSubplot:xlabel='Dependents', ylabel='LoanAmount'>"
      ]
     },
     "execution_count": 45,
     "metadata": {},
     "output_type": "execute_result"
    },
    {
     "data": {
      "image/png": "[encoded data removed]",
      "text/plain": [
       "<Figure size 432x288 with 1 Axes>"
      ]
     },
     "metadata": {
      "needs_background": "light"
     },
     "output_type": "display_data"
    }
   ],
   "source": [
    "sns.scatterplot(y=\"LoanAmount\",x='Dependents',data=df,hue=\"Loan_Status\")#regration plot"
   ]
  },
  {
   "cell_type": "markdown",
   "id": "979e617f",
   "metadata": {},
   "source": [
    "If no dependents are there the loan amount is less but when dependents are increse the loan amount also increase."
   ]
  },
  {
   "cell_type": "markdown",
   "id": "2875e5b8",
   "metadata": {},
   "source": [
    "# Multivariate Analysis:"
   ]
  },
  {
   "cell_type": "code",
   "execution_count": 46,
   "id": "5e9479c1",
   "metadata": {},
   "outputs": [
    {
     "data": {
      "text/plain": [
       "<seaborn.axisgrid.PairGrid at 0x17440d83400>"
      ]
     },
     "execution_count": 46,
     "metadata": {},
     "output_type": "execute_result"
    },
    {
     "data": {
      "image/png": "[encoded data removed]",
      "text/plain": [
       "<Figure size 1148.62x1080 with 42 Axes>"
      ]
     },
     "metadata": {
      "needs_background": "light"
     },
     "output_type": "display_data"
    }
   ],
   "source": [
    "sns.pairplot(df,hue=\"Loan_Status\")\n"
   ]
  },
  {
   "cell_type": "markdown",
   "id": "1d545b6a",
   "metadata": {},
   "source": [
    "# Correlation"
   ]
  },
  {
   "cell_type": "code",
   "execution_count": 47,
   "id": "54d8f293",
   "metadata": {},
   "outputs": [
    {
     "data": {
      "text/html": [
       "<div>\n",
       "<style scoped>\n",
       "    .dataframe tbody tr th:only-of-type {\n",
       "        vertical-align: middle;\n",
       "    }\n",
       "\n",
       "    .dataframe tbody tr th {\n",
       "        vertical-align: top;\n",
       "    }\n",
       "\n",
       "    .dataframe thead th {\n",
       "        text-align: right;\n",
       "    }\n",
       "</style>\n",
       "<table border=\"1\" class=\"dataframe\">\n",
       "  <thead>\n",
       "    <tr style=\"text-align: right;\">\n",
       "      <th></th>\n",
       "      <th>Dependents</th>\n",
       "      <th>ApplicantIncome</th>\n",
       "      <th>CoapplicantIncome</th>\n",
       "      <th>LoanAmount</th>\n",
       "      <th>Loan_Amount_Term</th>\n",
       "      <th>Credit_History</th>\n",
       "    </tr>\n",
       "  </thead>\n",
       "  <tbody>\n",
       "    <tr>\n",
       "      <th>Dependents</th>\n",
       "      <td>1.000000</td>\n",
       "      <td>0.118202</td>\n",
       "      <td>0.031776</td>\n",
       "      <td>0.163103</td>\n",
       "      <td>-0.103864</td>\n",
       "      <td>-0.040160</td>\n",
       "    </tr>\n",
       "    <tr>\n",
       "      <th>ApplicantIncome</th>\n",
       "      <td>0.118202</td>\n",
       "      <td>1.000000</td>\n",
       "      <td>-0.050745</td>\n",
       "      <td>0.565181</td>\n",
       "      <td>-0.046531</td>\n",
       "      <td>-0.018615</td>\n",
       "    </tr>\n",
       "    <tr>\n",
       "      <th>CoapplicantIncome</th>\n",
       "      <td>0.031776</td>\n",
       "      <td>-0.050745</td>\n",
       "      <td>1.000000</td>\n",
       "      <td>0.206452</td>\n",
       "      <td>-0.073207</td>\n",
       "      <td>0.008339</td>\n",
       "    </tr>\n",
       "    <tr>\n",
       "      <th>LoanAmount</th>\n",
       "      <td>0.163103</td>\n",
       "      <td>0.565181</td>\n",
       "      <td>0.206452</td>\n",
       "      <td>1.000000</td>\n",
       "      <td>0.036960</td>\n",
       "      <td>-0.000607</td>\n",
       "    </tr>\n",
       "    <tr>\n",
       "      <th>Loan_Amount_Term</th>\n",
       "      <td>-0.103864</td>\n",
       "      <td>-0.046531</td>\n",
       "      <td>-0.073207</td>\n",
       "      <td>0.036960</td>\n",
       "      <td>1.000000</td>\n",
       "      <td>-0.004705</td>\n",
       "    </tr>\n",
       "    <tr>\n",
       "      <th>Credit_History</th>\n",
       "      <td>-0.040160</td>\n",
       "      <td>-0.018615</td>\n",
       "      <td>0.008339</td>\n",
       "      <td>-0.000607</td>\n",
       "      <td>-0.004705</td>\n",
       "      <td>1.000000</td>\n",
       "    </tr>\n",
       "  </tbody>\n",
       "</table>\n",
       "</div>"
      ],
      "text/plain": [
       "                   Dependents  ApplicantIncome  CoapplicantIncome  LoanAmount  \\\n",
       "Dependents           1.000000         0.118202           0.031776    0.163103   \n",
       "ApplicantIncome      0.118202         1.000000          -0.050745    0.565181   \n",
       "CoapplicantIncome    0.031776        -0.050745           1.000000    0.206452   \n",
       "LoanAmount           0.163103         0.565181           0.206452    1.000000   \n",
       "Loan_Amount_Term    -0.103864        -0.046531          -0.073207    0.036960   \n",
       "Credit_History      -0.040160        -0.018615           0.008339   -0.000607   \n",
       "\n",
       "                   Loan_Amount_Term  Credit_History  \n",
       "Dependents                -0.103864       -0.040160  \n",
       "ApplicantIncome           -0.046531       -0.018615  \n",
       "CoapplicantIncome         -0.073207        0.008339  \n",
       "LoanAmount                 0.036960       -0.000607  \n",
       "Loan_Amount_Term           1.000000       -0.004705  \n",
       "Credit_History            -0.004705        1.000000  "
      ]
     },
     "execution_count": 47,
     "metadata": {},
     "output_type": "execute_result"
    }
   ],
   "source": [
    "#correlation between numerical variable\n",
    "df.corr()"
   ]
  },
  {
   "cell_type": "code",
   "execution_count": 48,
   "id": "628edac3",
   "metadata": {},
   "outputs": [
    {
     "data": {
      "text/plain": [
       "<AxesSubplot:>"
      ]
     },
     "execution_count": 48,
     "metadata": {},
     "output_type": "execute_result"
    },
    {
     "data": {
      "image/png": "[encoded data removed]",
      "text/plain": [
       "<Figure size 432x288 with 2 Axes>"
      ]
     },
     "metadata": {
      "needs_background": "light"
     },
     "output_type": "display_data"
    }
   ],
   "source": [
    "sns.heatmap(df.corr(),annot=True)"
   ]
  },
  {
   "cell_type": "markdown",
   "id": "51c79eda",
   "metadata": {},
   "source": [
    "Observation:\n",
    "\n",
    "Loan_amount is positive correlated with ApplicantIncome and less correlated to Coapplicant.\n",
    "\n",
    "ApplicantIncome is negative gorelated to loan_amount_term because when the Income is hige then the applicant is able to pay his loan in less time ."
   ]
  },
  {
   "cell_type": "markdown",
   "id": "af8975d9",
   "metadata": {},
   "source": [
    "# Remove outliers"
   ]
  },
  {
   "cell_type": "markdown",
   "id": "27907469",
   "metadata": {},
   "source": [
    "firstly I create a list of columns to remove outliers from these columns"
   ]
  },
  {
   "cell_type": "code",
   "execution_count": 49,
   "id": "83cd1ea8",
   "metadata": {},
   "outputs": [],
   "source": [
    "outliers=df[[\"ApplicantIncome\",\"CoapplicantIncome\",\"LoanAmount\"]]"
   ]
  },
  {
   "cell_type": "code",
   "execution_count": 50,
   "id": "282c101d",
   "metadata": {},
   "outputs": [
    {
     "data": {
      "text/html": [
       "<div>\n",
       "<style scoped>\n",
       "    .dataframe tbody tr th:only-of-type {\n",
       "        vertical-align: middle;\n",
       "    }\n",
       "\n",
       "    .dataframe tbody tr th {\n",
       "        vertical-align: top;\n",
       "    }\n",
       "\n",
       "    .dataframe thead th {\n",
       "        text-align: right;\n",
       "    }\n",
       "</style>\n",
       "<table border=\"1\" class=\"dataframe\">\n",
       "  <thead>\n",
       "    <tr style=\"text-align: right;\">\n",
       "      <th></th>\n",
       "      <th>Gender</th>\n",
       "      <th>Married</th>\n",
       "      <th>Dependents</th>\n",
       "      <th>Education</th>\n",
       "      <th>Self_Employed</th>\n",
       "      <th>ApplicantIncome</th>\n",
       "      <th>CoapplicantIncome</th>\n",
       "      <th>LoanAmount</th>\n",
       "      <th>Loan_Amount_Term</th>\n",
       "      <th>Credit_History</th>\n",
       "      <th>Property_Area</th>\n",
       "      <th>Loan_Status</th>\n",
       "    </tr>\n",
       "  </thead>\n",
       "  <tbody>\n",
       "    <tr>\n",
       "      <th>0</th>\n",
       "      <td>Male</td>\n",
       "      <td>No</td>\n",
       "      <td>0</td>\n",
       "      <td>Graduate</td>\n",
       "      <td>No</td>\n",
       "      <td>5849</td>\n",
       "      <td>1621</td>\n",
       "      <td>128</td>\n",
       "      <td>30</td>\n",
       "      <td>1</td>\n",
       "      <td>Urban</td>\n",
       "      <td>Y</td>\n",
       "    </tr>\n",
       "    <tr>\n",
       "      <th>1</th>\n",
       "      <td>Male</td>\n",
       "      <td>Yes</td>\n",
       "      <td>1</td>\n",
       "      <td>Graduate</td>\n",
       "      <td>No</td>\n",
       "      <td>4583</td>\n",
       "      <td>1508</td>\n",
       "      <td>128</td>\n",
       "      <td>30</td>\n",
       "      <td>1</td>\n",
       "      <td>Rural</td>\n",
       "      <td>N</td>\n",
       "    </tr>\n",
       "    <tr>\n",
       "      <th>2</th>\n",
       "      <td>Male</td>\n",
       "      <td>Yes</td>\n",
       "      <td>0</td>\n",
       "      <td>Graduate</td>\n",
       "      <td>Yes</td>\n",
       "      <td>3000</td>\n",
       "      <td>1621</td>\n",
       "      <td>66</td>\n",
       "      <td>30</td>\n",
       "      <td>1</td>\n",
       "      <td>Urban</td>\n",
       "      <td>Y</td>\n",
       "    </tr>\n",
       "    <tr>\n",
       "      <th>3</th>\n",
       "      <td>Male</td>\n",
       "      <td>Yes</td>\n",
       "      <td>0</td>\n",
       "      <td>Not Graduate</td>\n",
       "      <td>No</td>\n",
       "      <td>2583</td>\n",
       "      <td>2358</td>\n",
       "      <td>120</td>\n",
       "      <td>30</td>\n",
       "      <td>1</td>\n",
       "      <td>Urban</td>\n",
       "      <td>Y</td>\n",
       "    </tr>\n",
       "    <tr>\n",
       "      <th>4</th>\n",
       "      <td>Male</td>\n",
       "      <td>No</td>\n",
       "      <td>0</td>\n",
       "      <td>Graduate</td>\n",
       "      <td>No</td>\n",
       "      <td>6000</td>\n",
       "      <td>1621</td>\n",
       "      <td>141</td>\n",
       "      <td>30</td>\n",
       "      <td>1</td>\n",
       "      <td>Urban</td>\n",
       "      <td>Y</td>\n",
       "    </tr>\n",
       "    <tr>\n",
       "      <th>...</th>\n",
       "      <td>...</td>\n",
       "      <td>...</td>\n",
       "      <td>...</td>\n",
       "      <td>...</td>\n",
       "      <td>...</td>\n",
       "      <td>...</td>\n",
       "      <td>...</td>\n",
       "      <td>...</td>\n",
       "      <td>...</td>\n",
       "      <td>...</td>\n",
       "      <td>...</td>\n",
       "      <td>...</td>\n",
       "    </tr>\n",
       "    <tr>\n",
       "      <th>609</th>\n",
       "      <td>Female</td>\n",
       "      <td>No</td>\n",
       "      <td>0</td>\n",
       "      <td>Graduate</td>\n",
       "      <td>No</td>\n",
       "      <td>2900</td>\n",
       "      <td>1621</td>\n",
       "      <td>71</td>\n",
       "      <td>30</td>\n",
       "      <td>1</td>\n",
       "      <td>Rural</td>\n",
       "      <td>Y</td>\n",
       "    </tr>\n",
       "    <tr>\n",
       "      <th>610</th>\n",
       "      <td>Male</td>\n",
       "      <td>Yes</td>\n",
       "      <td>3</td>\n",
       "      <td>Graduate</td>\n",
       "      <td>No</td>\n",
       "      <td>4106</td>\n",
       "      <td>1621</td>\n",
       "      <td>40</td>\n",
       "      <td>15</td>\n",
       "      <td>1</td>\n",
       "      <td>Rural</td>\n",
       "      <td>Y</td>\n",
       "    </tr>\n",
       "    <tr>\n",
       "      <th>611</th>\n",
       "      <td>Male</td>\n",
       "      <td>Yes</td>\n",
       "      <td>1</td>\n",
       "      <td>Graduate</td>\n",
       "      <td>No</td>\n",
       "      <td>8072</td>\n",
       "      <td>240</td>\n",
       "      <td>253</td>\n",
       "      <td>30</td>\n",
       "      <td>1</td>\n",
       "      <td>Urban</td>\n",
       "      <td>Y</td>\n",
       "    </tr>\n",
       "    <tr>\n",
       "      <th>612</th>\n",
       "      <td>Male</td>\n",
       "      <td>Yes</td>\n",
       "      <td>2</td>\n",
       "      <td>Graduate</td>\n",
       "      <td>No</td>\n",
       "      <td>7583</td>\n",
       "      <td>1621</td>\n",
       "      <td>187</td>\n",
       "      <td>30</td>\n",
       "      <td>1</td>\n",
       "      <td>Urban</td>\n",
       "      <td>Y</td>\n",
       "    </tr>\n",
       "    <tr>\n",
       "      <th>613</th>\n",
       "      <td>Female</td>\n",
       "      <td>No</td>\n",
       "      <td>0</td>\n",
       "      <td>Graduate</td>\n",
       "      <td>Yes</td>\n",
       "      <td>4583</td>\n",
       "      <td>1621</td>\n",
       "      <td>133</td>\n",
       "      <td>30</td>\n",
       "      <td>0</td>\n",
       "      <td>Semiurban</td>\n",
       "      <td>N</td>\n",
       "    </tr>\n",
       "  </tbody>\n",
       "</table>\n",
       "<p>589 rows × 12 columns</p>\n",
       "</div>"
      ],
      "text/plain": [
       "     Gender Married  Dependents     Education Self_Employed  ApplicantIncome  \\\n",
       "0      Male      No           0      Graduate            No             5849   \n",
       "1      Male     Yes           1      Graduate            No             4583   \n",
       "2      Male     Yes           0      Graduate           Yes             3000   \n",
       "3      Male     Yes           0  Not Graduate            No             2583   \n",
       "4      Male      No           0      Graduate            No             6000   \n",
       "..      ...     ...         ...           ...           ...              ...   \n",
       "609  Female      No           0      Graduate            No             2900   \n",
       "610    Male     Yes           3      Graduate            No             4106   \n",
       "611    Male     Yes           1      Graduate            No             8072   \n",
       "612    Male     Yes           2      Graduate            No             7583   \n",
       "613  Female      No           0      Graduate           Yes             4583   \n",
       "\n",
       "     CoapplicantIncome  LoanAmount  Loan_Amount_Term  Credit_History  \\\n",
       "0                 1621         128                30               1   \n",
       "1                 1508         128                30               1   \n",
       "2                 1621          66                30               1   \n",
       "3                 2358         120                30               1   \n",
       "4                 1621         141                30               1   \n",
       "..                 ...         ...               ...             ...   \n",
       "609               1621          71                30               1   \n",
       "610               1621          40                15               1   \n",
       "611                240         253                30               1   \n",
       "612               1621         187                30               1   \n",
       "613               1621         133                30               0   \n",
       "\n",
       "    Property_Area Loan_Status  \n",
       "0           Urban           Y  \n",
       "1           Rural           N  \n",
       "2           Urban           Y  \n",
       "3           Urban           Y  \n",
       "4           Urban           Y  \n",
       "..            ...         ...  \n",
       "609         Rural           Y  \n",
       "610         Rural           Y  \n",
       "611         Urban           Y  \n",
       "612         Urban           Y  \n",
       "613     Semiurban           N  \n",
       "\n",
       "[589 rows x 12 columns]"
      ]
     },
     "execution_count": 50,
     "metadata": {},
     "output_type": "execute_result"
    }
   ],
   "source": [
    "z=np.abs(zscore(outliers))\n",
    "df1=df[(z<3).all(axis=1)]\n",
    "df1"
   ]
  },
  {
   "cell_type": "markdown",
   "id": "dc21d213",
   "metadata": {},
   "source": [
    "Now We have successfully removed outliers from the dataset"
   ]
  },
  {
   "cell_type": "code",
   "execution_count": 51,
   "id": "cdd81c7d",
   "metadata": {},
   "outputs": [
    {
     "data": {
      "text/plain": [
       "(589, 12)"
      ]
     },
     "execution_count": 51,
     "metadata": {},
     "output_type": "execute_result"
    }
   ],
   "source": [
    "# checking the shape of new dataset\n",
    "df1.shape"
   ]
  },
  {
   "cell_type": "code",
   "execution_count": 52,
   "id": "f896056e",
   "metadata": {},
   "outputs": [
    {
     "name": "stdout",
     "output_type": "stream",
     "text": [
      "25\n"
     ]
    }
   ],
   "source": [
    "# Checking No. of outliers removed\n",
    "dataloss=print(df.shape[0]-df1.shape[0])"
   ]
  },
  {
   "cell_type": "code",
   "execution_count": 53,
   "id": "137eeafb",
   "metadata": {},
   "outputs": [
    {
     "name": "stdout",
     "output_type": "stream",
     "text": [
      "4.071661237785016\n"
     ]
    }
   ],
   "source": [
    "# Checking the Percentage of dataloss using zscore\n",
    "datalossper=print(((df.shape[0]-df1.shape[0])/df.shape[0])*100)\n"
   ]
  },
  {
   "cell_type": "markdown",
   "id": "593106e3",
   "metadata": {},
   "source": [
    "We have just lost 4.07% of data which is quite good."
   ]
  },
  {
   "cell_type": "markdown",
   "id": "9456ca0d",
   "metadata": {},
   "source": [
    "# Skewness:"
   ]
  },
  {
   "cell_type": "code",
   "execution_count": 54,
   "id": "f59c9e75",
   "metadata": {},
   "outputs": [
    {
     "data": {
      "text/plain": [
       "Dependents           1.038787\n",
       "ApplicantIncome      2.164762\n",
       "CoapplicantIncome    2.554191\n",
       "LoanAmount           1.114173\n",
       "Loan_Amount_Term    -2.446026\n",
       "Credit_History      -2.010069\n",
       "dtype: float64"
      ]
     },
     "execution_count": 54,
     "metadata": {},
     "output_type": "execute_result"
    }
   ],
   "source": [
    "# Lets check skewness in new dataset\n",
    "df1.skew()"
   ]
  },
  {
   "cell_type": "markdown",
   "id": "31d720b2",
   "metadata": {},
   "source": [
    "We have to remove skewness of column \"ApplicantIncome\",\"CoapplicantIncome\",\"LoanAmount because because Dependents,Loan_Amount_Term,Credit_History is categorical type data"
   ]
  },
  {
   "cell_type": "markdown",
   "id": "369ec325",
   "metadata": {},
   "source": [
    "# Removing skewness using yeo-johnson method"
   ]
  },
  {
   "cell_type": "code",
   "execution_count": 55,
   "id": "037fcc1b",
   "metadata": {},
   "outputs": [],
   "source": [
    " #create a list of columns to remove skewness from these columns\n",
    "    \n",
    "skew=[\"ApplicantIncome\",\"CoapplicantIncome\",\"LoanAmount\"]"
   ]
  },
  {
   "cell_type": "code",
   "execution_count": 56,
   "id": "24496933",
   "metadata": {},
   "outputs": [
    {
     "data": {
      "text/plain": [
       "ApplicantIncome      0.028063\n",
       "CoapplicantIncome    0.203000\n",
       "LoanAmount           0.061412\n",
       "dtype: float64"
      ]
     },
     "execution_count": 56,
     "metadata": {},
     "output_type": "execute_result"
    }
   ],
   "source": [
    "from sklearn.preprocessing import PowerTransformer\n",
    "scaler = PowerTransformer(method=\"yeo-johnson\")\n",
    "df1[skew]=scaler.fit_transform(df1[skew].values)\n",
    "df1[skew].skew()"
   ]
  },
  {
   "cell_type": "markdown",
   "id": "0076566d",
   "metadata": {},
   "source": [
    "Now we can see that we have successfully removed the skewness from all three columns"
   ]
  },
  {
   "cell_type": "markdown",
   "id": "844332dc",
   "metadata": {},
   "source": [
    "# check skewness are removed are not"
   ]
  },
  {
   "cell_type": "code",
   "execution_count": 57,
   "id": "4aa0e9d7",
   "metadata": {},
   "outputs": [
    {
     "data": {
      "image/png": "[encoded data removed]",
      "text/plain": [
       "<Figure size 1080x360 with 3 Axes>"
      ]
     },
     "metadata": {
      "needs_background": "light"
     },
     "output_type": "display_data"
    }
   ],
   "source": [
    "fig, ax = plt.subplots(ncols=3, nrows=1, figsize=(15,5))\n",
    "index = 0\n",
    "ax = ax.flatten()\n",
    "for col, value in df1[skew].items():\n",
    "    sns.distplot(value, ax=ax[index], hist=False, color=\"b\",kde_kws={\"shade\": True})\n",
    "    index += 1\n",
    "\n",
    "plt.show()"
   ]
  },
  {
   "cell_type": "markdown",
   "id": "8204eaa5",
   "metadata": {},
   "source": [
    "# Data Preprocessing"
   ]
  },
  {
   "cell_type": "markdown",
   "id": "68e84373",
   "metadata": {},
   "source": [
    "Dealing with the categorical variable:-\n",
    "    \n",
    "convert categorical data into numerical variable by using Label encoading or one_hot_encoading technique"
   ]
  },
  {
   "cell_type": "markdown",
   "id": "96dd38d8",
   "metadata": {},
   "source": [
    "# Label Encoding:"
   ]
  },
  {
   "cell_type": "code",
   "execution_count": 58,
   "id": "5b313d3e",
   "metadata": {},
   "outputs": [],
   "source": [
    "from sklearn.preprocessing import LabelEncoder\n",
    "le=LabelEncoder()"
   ]
  },
  {
   "cell_type": "code",
   "execution_count": 59,
   "id": "f419107a",
   "metadata": {},
   "outputs": [],
   "source": [
    "#for changing all catigorical value into numeric value\n",
    "\n",
    "df1=df1.apply(le.fit_transform)"
   ]
  },
  {
   "cell_type": "code",
   "execution_count": 60,
   "id": "d938dbf9",
   "metadata": {},
   "outputs": [
    {
     "data": {
      "text/html": [
       "<div>\n",
       "<style scoped>\n",
       "    .dataframe tbody tr th:only-of-type {\n",
       "        vertical-align: middle;\n",
       "    }\n",
       "\n",
       "    .dataframe tbody tr th {\n",
       "        vertical-align: top;\n",
       "    }\n",
       "\n",
       "    .dataframe thead th {\n",
       "        text-align: right;\n",
       "    }\n",
       "</style>\n",
       "<table border=\"1\" class=\"dataframe\">\n",
       "  <thead>\n",
       "    <tr style=\"text-align: right;\">\n",
       "      <th></th>\n",
       "      <th>Gender</th>\n",
       "      <th>Married</th>\n",
       "      <th>Dependents</th>\n",
       "      <th>Education</th>\n",
       "      <th>Self_Employed</th>\n",
       "      <th>ApplicantIncome</th>\n",
       "      <th>CoapplicantIncome</th>\n",
       "      <th>LoanAmount</th>\n",
       "      <th>Loan_Amount_Term</th>\n",
       "      <th>Credit_History</th>\n",
       "      <th>Property_Area</th>\n",
       "      <th>Loan_Status</th>\n",
       "    </tr>\n",
       "  </thead>\n",
       "  <tbody>\n",
       "    <tr>\n",
       "      <th>0</th>\n",
       "      <td>1</td>\n",
       "      <td>0</td>\n",
       "      <td>0</td>\n",
       "      <td>0</td>\n",
       "      <td>0</td>\n",
       "      <td>372</td>\n",
       "      <td>71</td>\n",
       "      <td>81</td>\n",
       "      <td>8</td>\n",
       "      <td>1</td>\n",
       "      <td>2</td>\n",
       "      <td>1</td>\n",
       "    </tr>\n",
       "    <tr>\n",
       "      <th>1</th>\n",
       "      <td>1</td>\n",
       "      <td>1</td>\n",
       "      <td>1</td>\n",
       "      <td>0</td>\n",
       "      <td>0</td>\n",
       "      <td>303</td>\n",
       "      <td>59</td>\n",
       "      <td>81</td>\n",
       "      <td>8</td>\n",
       "      <td>1</td>\n",
       "      <td>0</td>\n",
       "      <td>0</td>\n",
       "    </tr>\n",
       "    <tr>\n",
       "      <th>2</th>\n",
       "      <td>1</td>\n",
       "      <td>1</td>\n",
       "      <td>0</td>\n",
       "      <td>0</td>\n",
       "      <td>1</td>\n",
       "      <td>136</td>\n",
       "      <td>71</td>\n",
       "      <td>26</td>\n",
       "      <td>8</td>\n",
       "      <td>1</td>\n",
       "      <td>2</td>\n",
       "      <td>1</td>\n",
       "    </tr>\n",
       "    <tr>\n",
       "      <th>3</th>\n",
       "      <td>1</td>\n",
       "      <td>1</td>\n",
       "      <td>0</td>\n",
       "      <td>1</td>\n",
       "      <td>0</td>\n",
       "      <td>87</td>\n",
       "      <td>160</td>\n",
       "      <td>73</td>\n",
       "      <td>8</td>\n",
       "      <td>1</td>\n",
       "      <td>2</td>\n",
       "      <td>1</td>\n",
       "    </tr>\n",
       "    <tr>\n",
       "      <th>4</th>\n",
       "      <td>1</td>\n",
       "      <td>0</td>\n",
       "      <td>0</td>\n",
       "      <td>0</td>\n",
       "      <td>0</td>\n",
       "      <td>377</td>\n",
       "      <td>71</td>\n",
       "      <td>94</td>\n",
       "      <td>8</td>\n",
       "      <td>1</td>\n",
       "      <td>2</td>\n",
       "      <td>1</td>\n",
       "    </tr>\n",
       "  </tbody>\n",
       "</table>\n",
       "</div>"
      ],
      "text/plain": [
       "   Gender  Married  Dependents  Education  Self_Employed  ApplicantIncome  \\\n",
       "0       1        0           0          0              0              372   \n",
       "1       1        1           1          0              0              303   \n",
       "2       1        1           0          0              1              136   \n",
       "3       1        1           0          1              0               87   \n",
       "4       1        0           0          0              0              377   \n",
       "\n",
       "   CoapplicantIncome  LoanAmount  Loan_Amount_Term  Credit_History  \\\n",
       "0                 71          81                 8               1   \n",
       "1                 59          81                 8               1   \n",
       "2                 71          26                 8               1   \n",
       "3                160          73                 8               1   \n",
       "4                 71          94                 8               1   \n",
       "\n",
       "   Property_Area  Loan_Status  \n",
       "0              2            1  \n",
       "1              0            0  \n",
       "2              2            1  \n",
       "3              2            1  \n",
       "4              2            1  "
      ]
     },
     "execution_count": 60,
     "metadata": {},
     "output_type": "execute_result"
    }
   ],
   "source": [
    "df1.head()"
   ]
  },
  {
   "cell_type": "markdown",
   "id": "dec10c63",
   "metadata": {},
   "source": [
    "# Feature and Label Selection:¶"
   ]
  },
  {
   "cell_type": "code",
   "execution_count": 61,
   "id": "640fc57d",
   "metadata": {},
   "outputs": [],
   "source": [
    "x=df1.drop(\"Loan_Status\",axis=1)\n",
    "y=df1[\"Loan_Status\"]"
   ]
  },
  {
   "cell_type": "code",
   "execution_count": 62,
   "id": "b6ca9c85",
   "metadata": {},
   "outputs": [
    {
     "name": "stdout",
     "output_type": "stream",
     "text": [
      "(589, 11)\n",
      "(589,)\n"
     ]
    }
   ],
   "source": [
    "print(x.shape)\n",
    "print(y.shape)"
   ]
  },
  {
   "cell_type": "markdown",
   "id": "b76c3343",
   "metadata": {},
   "source": [
    "# Scalling using Standard Scaler:"
   ]
  },
  {
   "cell_type": "code",
   "execution_count": 63,
   "id": "8a98264a",
   "metadata": {},
   "outputs": [],
   "source": [
    "from sklearn.preprocessing import StandardScaler\n",
    "scaler=StandardScaler()\n",
    "x=pd.DataFrame(scaler.fit_transform(x), columns=x.columns)"
   ]
  },
  {
   "cell_type": "code",
   "execution_count": 64,
   "id": "587b3cc3",
   "metadata": {},
   "outputs": [
    {
     "data": {
      "text/html": [
       "<div>\n",
       "<style scoped>\n",
       "    .dataframe tbody tr th:only-of-type {\n",
       "        vertical-align: middle;\n",
       "    }\n",
       "\n",
       "    .dataframe tbody tr th {\n",
       "        vertical-align: top;\n",
       "    }\n",
       "\n",
       "    .dataframe thead th {\n",
       "        text-align: right;\n",
       "    }\n",
       "</style>\n",
       "<table border=\"1\" class=\"dataframe\">\n",
       "  <thead>\n",
       "    <tr style=\"text-align: right;\">\n",
       "      <th></th>\n",
       "      <th>Gender</th>\n",
       "      <th>Married</th>\n",
       "      <th>Dependents</th>\n",
       "      <th>Education</th>\n",
       "      <th>Self_Employed</th>\n",
       "      <th>ApplicantIncome</th>\n",
       "      <th>CoapplicantIncome</th>\n",
       "      <th>LoanAmount</th>\n",
       "      <th>Loan_Amount_Term</th>\n",
       "      <th>Credit_History</th>\n",
       "      <th>Property_Area</th>\n",
       "    </tr>\n",
       "  </thead>\n",
       "  <tbody>\n",
       "    <tr>\n",
       "      <th>0</th>\n",
       "      <td>0.476533</td>\n",
       "      <td>-1.363533</td>\n",
       "      <td>-0.728402</td>\n",
       "      <td>-0.542684</td>\n",
       "      <td>-0.384900</td>\n",
       "      <td>0.983959</td>\n",
       "      <td>-0.556886</td>\n",
       "      <td>-0.048781</td>\n",
       "      <td>0.297701</td>\n",
       "      <td>0.41349</td>\n",
       "      <td>1.222929</td>\n",
       "    </tr>\n",
       "    <tr>\n",
       "      <th>1</th>\n",
       "      <td>0.476533</td>\n",
       "      <td>0.733389</td>\n",
       "      <td>0.276349</td>\n",
       "      <td>-0.542684</td>\n",
       "      <td>-0.384900</td>\n",
       "      <td>0.481590</td>\n",
       "      <td>-0.735369</td>\n",
       "      <td>-0.048781</td>\n",
       "      <td>0.297701</td>\n",
       "      <td>0.41349</td>\n",
       "      <td>-1.313356</td>\n",
       "    </tr>\n",
       "    <tr>\n",
       "      <th>2</th>\n",
       "      <td>0.476533</td>\n",
       "      <td>0.733389</td>\n",
       "      <td>-0.728402</td>\n",
       "      <td>-0.542684</td>\n",
       "      <td>2.598076</td>\n",
       "      <td>-0.734288</td>\n",
       "      <td>-0.556886</td>\n",
       "      <td>-1.381204</td>\n",
       "      <td>0.297701</td>\n",
       "      <td>0.41349</td>\n",
       "      <td>1.222929</td>\n",
       "    </tr>\n",
       "    <tr>\n",
       "      <th>3</th>\n",
       "      <td>0.476533</td>\n",
       "      <td>0.733389</td>\n",
       "      <td>-0.728402</td>\n",
       "      <td>1.842694</td>\n",
       "      <td>-0.384900</td>\n",
       "      <td>-1.091043</td>\n",
       "      <td>0.766858</td>\n",
       "      <td>-0.242588</td>\n",
       "      <td>0.297701</td>\n",
       "      <td>0.41349</td>\n",
       "      <td>1.222929</td>\n",
       "    </tr>\n",
       "    <tr>\n",
       "      <th>4</th>\n",
       "      <td>0.476533</td>\n",
       "      <td>-1.363533</td>\n",
       "      <td>-0.728402</td>\n",
       "      <td>-0.542684</td>\n",
       "      <td>-0.384900</td>\n",
       "      <td>1.020362</td>\n",
       "      <td>-0.556886</td>\n",
       "      <td>0.266156</td>\n",
       "      <td>0.297701</td>\n",
       "      <td>0.41349</td>\n",
       "      <td>1.222929</td>\n",
       "    </tr>\n",
       "  </tbody>\n",
       "</table>\n",
       "</div>"
      ],
      "text/plain": [
       "     Gender   Married  Dependents  Education  Self_Employed  ApplicantIncome  \\\n",
       "0  0.476533 -1.363533   -0.728402  -0.542684      -0.384900         0.983959   \n",
       "1  0.476533  0.733389    0.276349  -0.542684      -0.384900         0.481590   \n",
       "2  0.476533  0.733389   -0.728402  -0.542684       2.598076        -0.734288   \n",
       "3  0.476533  0.733389   -0.728402   1.842694      -0.384900        -1.091043   \n",
       "4  0.476533 -1.363533   -0.728402  -0.542684      -0.384900         1.020362   \n",
       "\n",
       "   CoapplicantIncome  LoanAmount  Loan_Amount_Term  Credit_History  \\\n",
       "0          -0.556886   -0.048781          0.297701         0.41349   \n",
       "1          -0.735369   -0.048781          0.297701         0.41349   \n",
       "2          -0.556886   -1.381204          0.297701         0.41349   \n",
       "3           0.766858   -0.242588          0.297701         0.41349   \n",
       "4          -0.556886    0.266156          0.297701         0.41349   \n",
       "\n",
       "   Property_Area  \n",
       "0       1.222929  \n",
       "1      -1.313356  \n",
       "2       1.222929  \n",
       "3       1.222929  \n",
       "4       1.222929  "
      ]
     },
     "execution_count": 64,
     "metadata": {},
     "output_type": "execute_result"
    }
   ],
   "source": [
    "x.head()"
   ]
  },
  {
   "cell_type": "markdown",
   "id": "0f9014c4",
   "metadata": {},
   "source": [
    "# Balancing the target dataset using Oversampling"
   ]
  },
  {
   "cell_type": "code",
   "execution_count": 65,
   "id": "c3da235f",
   "metadata": {},
   "outputs": [
    {
     "data": {
      "text/plain": [
       "1    407\n",
       "0    182\n",
       "Name: Loan_Status, dtype: int64"
      ]
     },
     "execution_count": 65,
     "metadata": {},
     "output_type": "execute_result"
    }
   ],
   "source": [
    "\n",
    "y.value_counts()"
   ]
  },
  {
   "cell_type": "code",
   "execution_count": 66,
   "id": "490e85d7",
   "metadata": {},
   "outputs": [],
   "source": [
    "from imblearn.over_sampling import SMOTE\n",
    "\n",
    "smt=SMOTE()# instance of smote\n",
    "x,y=smt.fit_resample(x,y)"
   ]
  },
  {
   "cell_type": "code",
   "execution_count": 67,
   "id": "7e3ca327",
   "metadata": {},
   "outputs": [
    {
     "data": {
      "text/plain": [
       "1    407\n",
       "0    407\n",
       "Name: Loan_Status, dtype: int64"
      ]
     },
     "execution_count": 67,
     "metadata": {},
     "output_type": "execute_result"
    }
   ],
   "source": [
    "# lets check the value count again\n",
    "y.value_counts()"
   ]
  },
  {
   "cell_type": "markdown",
   "id": "91466cd3",
   "metadata": {},
   "source": [
    "here we have successfully balanced the target variable"
   ]
  },
  {
   "cell_type": "markdown",
   "id": "5bee97b3",
   "metadata": {},
   "source": [
    "# Multicollinerity"
   ]
  },
  {
   "cell_type": "code",
   "execution_count": 68,
   "id": "6e0fd6bd",
   "metadata": {},
   "outputs": [],
   "source": [
    "from statsmodels.stats.outliers_influence import variance_inflation_factor\n",
    "def cal_vif(x):\n",
    "    vif=pd.DataFrame()\n",
    "    vif['variables']=x.columns\n",
    "    vif[\"vif_factor\"]=[variance_inflation_factor(x.values,i) for i in range (x.shape[1])]\n",
    "    return(vif)"
   ]
  },
  {
   "cell_type": "code",
   "execution_count": 69,
   "id": "28bea92d",
   "metadata": {},
   "outputs": [
    {
     "data": {
      "text/html": [
       "<div>\n",
       "<style scoped>\n",
       "    .dataframe tbody tr th:only-of-type {\n",
       "        vertical-align: middle;\n",
       "    }\n",
       "\n",
       "    .dataframe tbody tr th {\n",
       "        vertical-align: top;\n",
       "    }\n",
       "\n",
       "    .dataframe thead th {\n",
       "        text-align: right;\n",
       "    }\n",
       "</style>\n",
       "<table border=\"1\" class=\"dataframe\">\n",
       "  <thead>\n",
       "    <tr style=\"text-align: right;\">\n",
       "      <th></th>\n",
       "      <th>variables</th>\n",
       "      <th>vif_factor</th>\n",
       "    </tr>\n",
       "  </thead>\n",
       "  <tbody>\n",
       "    <tr>\n",
       "      <th>0</th>\n",
       "      <td>Gender</td>\n",
       "      <td>1.199985</td>\n",
       "    </tr>\n",
       "    <tr>\n",
       "      <th>1</th>\n",
       "      <td>Married</td>\n",
       "      <td>1.357065</td>\n",
       "    </tr>\n",
       "    <tr>\n",
       "      <th>2</th>\n",
       "      <td>Dependents</td>\n",
       "      <td>1.214761</td>\n",
       "    </tr>\n",
       "    <tr>\n",
       "      <th>3</th>\n",
       "      <td>Education</td>\n",
       "      <td>1.118707</td>\n",
       "    </tr>\n",
       "    <tr>\n",
       "      <th>4</th>\n",
       "      <td>Self_Employed</td>\n",
       "      <td>1.056718</td>\n",
       "    </tr>\n",
       "    <tr>\n",
       "      <th>5</th>\n",
       "      <td>ApplicantIncome</td>\n",
       "      <td>1.639877</td>\n",
       "    </tr>\n",
       "    <tr>\n",
       "      <th>6</th>\n",
       "      <td>CoapplicantIncome</td>\n",
       "      <td>1.357856</td>\n",
       "    </tr>\n",
       "    <tr>\n",
       "      <th>7</th>\n",
       "      <td>LoanAmount</td>\n",
       "      <td>1.756514</td>\n",
       "    </tr>\n",
       "    <tr>\n",
       "      <th>8</th>\n",
       "      <td>Loan_Amount_Term</td>\n",
       "      <td>1.065846</td>\n",
       "    </tr>\n",
       "    <tr>\n",
       "      <th>9</th>\n",
       "      <td>Credit_History</td>\n",
       "      <td>1.015797</td>\n",
       "    </tr>\n",
       "    <tr>\n",
       "      <th>10</th>\n",
       "      <td>Property_Area</td>\n",
       "      <td>1.031614</td>\n",
       "    </tr>\n",
       "  </tbody>\n",
       "</table>\n",
       "</div>"
      ],
      "text/plain": [
       "            variables  vif_factor\n",
       "0              Gender    1.199985\n",
       "1             Married    1.357065\n",
       "2          Dependents    1.214761\n",
       "3           Education    1.118707\n",
       "4       Self_Employed    1.056718\n",
       "5     ApplicantIncome    1.639877\n",
       "6   CoapplicantIncome    1.357856\n",
       "7          LoanAmount    1.756514\n",
       "8    Loan_Amount_Term    1.065846\n",
       "9      Credit_History    1.015797\n",
       "10      Property_Area    1.031614"
      ]
     },
     "execution_count": 69,
     "metadata": {},
     "output_type": "execute_result"
    }
   ],
   "source": [
    "cal_vif(x)"
   ]
  },
  {
   "cell_type": "markdown",
   "id": "480a0e95",
   "metadata": {},
   "source": [
    "VIF  is not greater so no mulcollinearity is there."
   ]
  },
  {
   "cell_type": "markdown",
   "id": "af2388c8",
   "metadata": {},
   "source": [
    "# Finding Best Random State:"
   ]
  },
  {
   "cell_type": "code",
   "execution_count": 70,
   "id": "5625702a",
   "metadata": {},
   "outputs": [
    {
     "name": "stdout",
     "output_type": "stream",
     "text": [
      "Best accuracy is  0.7551020408163265  on Random_state  112\n"
     ]
    }
   ],
   "source": [
    "max_acc=0\n",
    "max_rs=0\n",
    "for i in range(1,200):\n",
    "    x_train,x_test,y_train,y_test = train_test_split(x,y,test_size=.30, random_state =i)\n",
    "    mod = LogisticRegression()\n",
    "    mod.fit(x_train, y_train)\n",
    "    pred_mod = mod.predict(x_test)\n",
    "    acc=accuracy_score(y_test, pred_mod)\n",
    "    if acc>max_acc:\n",
    "        max_acc=acc\n",
    "        max_rs=i\n",
    "print(\"Best accuracy is \",max_acc,\" on Random_state \",max_rs)"
   ]
  },
  {
   "cell_type": "code",
   "execution_count": 71,
   "id": "01704a1c",
   "metadata": {},
   "outputs": [],
   "source": [
    "x_train,x_test,y_train,y_test=train_test_split(x,y,test_size=.27,random_state=28)"
   ]
  },
  {
   "cell_type": "markdown",
   "id": "4b651a5f",
   "metadata": {},
   "source": [
    "# Model building using Classification Algorithms\n",
    "\n",
    "since our target column loan_status is an object column this became classification problem"
   ]
  },
  {
   "cell_type": "code",
   "execution_count": 72,
   "id": "af8d4bb8",
   "metadata": {},
   "outputs": [],
   "source": [
    "# model_selection is function  created bcz when we want to use another model then only call this function\n",
    "x_train, x_test, y_train, y_test = train_test_split(x,y, test_size = 0.20, random_state=26)\n",
    "def model_selection(algorithm_instance,x_train, x_test, y_train, y_test):\n",
    "    algorithm_instance.fit(x_train,y_train)\n",
    "    model1_pred=algorithm_instance.predict(x_test)\n",
    "    \n",
    "    print(\"accuracy\",accuracy_score(y_test,model1_pred)*100)\n",
    "    print(confusion_matrix(y_test,model1_pred))\n",
    "    print(classification_report(y_test,model1_pred))\n",
    "    \n",
    "    \n",
    "    \n",
    "def model_cv(algorithm_instance,trainx,trainy):\n",
    "    for j in range(4,10):\n",
    "        lsscore=cross_val_score(algorithm_instance,trainx,trainy,cv=j)\n",
    "        print(lsscore)\n",
    "        lsc=lsscore.mean()\n",
    "        print(\" At cv =\",j)\n",
    "        print(\"cross validation score \",lsc*100)"
   ]
  },
  {
   "cell_type": "code",
   "execution_count": 74,
   "id": "c6ab0d2f",
   "metadata": {},
   "outputs": [
    {
     "name": "stdout",
     "output_type": "stream",
     "text": [
      "accuracy 80.98159509202453\n",
      "[[51 27]\n",
      " [ 4 81]]\n",
      "              precision    recall  f1-score   support\n",
      "\n",
      "           0       0.93      0.65      0.77        78\n",
      "           1       0.75      0.95      0.84        85\n",
      "\n",
      "    accuracy                           0.81       163\n",
      "   macro avg       0.84      0.80      0.80       163\n",
      "weighted avg       0.83      0.81      0.80       163\n",
      "\n",
      "[0.69607843 0.79411765 0.89162562 0.83743842]\n",
      " At cv = 4\n",
      "cross validation score  80.48150294600599\n",
      "[0.70552147 0.75460123 0.85889571 0.85276074 0.87037037]\n",
      " At cv = 5\n",
      "cross validation score  80.8429902294933\n",
      "[0.68382353 0.69852941 0.75735294 0.875      0.82222222 0.88888889]\n",
      " At cv = 6\n",
      "cross validation score  78.76361655773421\n",
      "[0.74358974 0.66666667 0.73275862 0.84482759 0.87068966 0.86206897\n",
      " 0.86206897]\n",
      " At cv = 7\n",
      "cross validation score  79.7524314765694\n",
      "[0.68627451 0.67647059 0.79411765 0.79411765 0.88235294 0.87254902\n",
      " 0.85148515 0.89108911]\n",
      " At cv = 8\n",
      "cross validation score  80.60570762958649\n",
      "[0.7032967  0.68131868 0.74725275 0.71428571 0.84444444 0.92222222\n",
      " 0.83333333 0.82222222 0.9       ]\n",
      " At cv = 9\n",
      "cross validation score  79.64862298195632\n"
     ]
    }
   ],
   "source": [
    "gbc=GradientBoostingClassifier()\n",
    "model_selection(gbc,x_train, x_test, y_train, y_test)\n",
    "model_cv(gbc,x,y)"
   ]
  },
  {
   "cell_type": "code",
   "execution_count": 75,
   "id": "785e3f63",
   "metadata": {},
   "outputs": [
    {
     "name": "stdout",
     "output_type": "stream",
     "text": [
      "accuracy 76.68711656441718\n",
      "[[54 24]\n",
      " [14 71]]\n",
      "              precision    recall  f1-score   support\n",
      "\n",
      "           0       0.79      0.69      0.74        78\n",
      "           1       0.75      0.84      0.79        85\n",
      "\n",
      "    accuracy                           0.77       163\n",
      "   macro avg       0.77      0.76      0.76       163\n",
      "weighted avg       0.77      0.77      0.77       163\n",
      "\n",
      "[0.65686275 0.74509804 0.80295567 0.71428571]\n",
      " At cv = 4\n",
      "cross validation score  72.98005409060175\n",
      "[0.66871166 0.71165644 0.82822086 0.79141104 0.75308642]\n",
      " At cv = 5\n",
      "cross validation score  75.06172839506172\n",
      "[0.69117647 0.72794118 0.69117647 0.83823529 0.72592593 0.79259259]\n",
      " At cv = 6\n",
      "cross validation score  74.45079883805374\n",
      "[0.67521368 0.65811966 0.71551724 0.76724138 0.84482759 0.81034483\n",
      " 0.75862069]\n",
      " At cv = 7\n",
      "cross validation score  74.71264367816092\n",
      "[0.69607843 0.62745098 0.78431373 0.78431373 0.83333333 0.84313725\n",
      " 0.75247525 0.76237624]\n",
      " At cv = 8\n",
      "cross validation score  76.04348670161134\n",
      "[0.7032967  0.67032967 0.74725275 0.69230769 0.77777778 0.88888889\n",
      " 0.8        0.74444444 0.77777778]\n",
      " At cv = 9\n",
      "cross validation score  75.57861891195225\n"
     ]
    }
   ],
   "source": [
    "from sklearn.ensemble import AdaBoostClassifier\n",
    "ad=AdaBoostClassifier()\n",
    "model_selection(ad,x_train, x_test, y_train, y_test)\n",
    "model_cv(ad,x,y)"
   ]
  },
  {
   "cell_type": "code",
   "execution_count": 76,
   "id": "c3369a7d",
   "metadata": {},
   "outputs": [
    {
     "name": "stdout",
     "output_type": "stream",
     "text": [
      "accuracy 73.00613496932516\n",
      "[[58 20]\n",
      " [24 61]]\n",
      "              precision    recall  f1-score   support\n",
      "\n",
      "           0       0.71      0.74      0.72        78\n",
      "           1       0.75      0.72      0.73        85\n",
      "\n",
      "    accuracy                           0.73       163\n",
      "   macro avg       0.73      0.73      0.73       163\n",
      "weighted avg       0.73      0.73      0.73       163\n",
      "\n",
      "[0.73039216 0.72058824 0.77339901 0.74384236]\n",
      " At cv = 4\n",
      "cross validation score  74.20554428668018\n",
      "[0.7791411  0.71165644 0.76687117 0.80368098 0.7345679 ]\n",
      " At cv = 5\n",
      "cross validation score  75.91835188972205\n",
      "[0.78676471 0.72794118 0.75       0.82352941 0.78518519 0.75555556]\n",
      " At cv = 6\n",
      "cross validation score  77.14960058097313\n",
      "[0.79487179 0.70940171 0.69827586 0.77586207 0.75       0.79310345\n",
      " 0.75      ]\n",
      " At cv = 7\n",
      "cross validation score  75.30735547976929\n",
      "[0.79411765 0.70588235 0.74509804 0.74509804 0.79411765 0.7745098\n",
      " 0.78217822 0.76237624]\n",
      " At cv = 8\n",
      "cross validation score  76.29222481071636\n",
      "[0.83516484 0.7032967  0.73626374 0.69230769 0.76666667 0.81111111\n",
      " 0.77777778 0.77777778 0.75555556]\n",
      " At cv = 9\n",
      "cross validation score  76.17690951024285\n"
     ]
    }
   ],
   "source": [
    "knn=KNeighborsClassifier()\n",
    "model_selection(knn,x_train, x_test, y_train, y_test)\n",
    "model_cv(knn,x,y)"
   ]
  },
  {
   "cell_type": "code",
   "execution_count": 79,
   "id": "206302f3",
   "metadata": {},
   "outputs": [
    {
     "name": "stdout",
     "output_type": "stream",
     "text": [
      "accuracy 85.2760736196319\n",
      "[[59 19]\n",
      " [ 5 80]]\n",
      "              precision    recall  f1-score   support\n",
      "\n",
      "           0       0.92      0.76      0.83        78\n",
      "           1       0.81      0.94      0.87        85\n",
      "\n",
      "    accuracy                           0.85       163\n",
      "   macro avg       0.86      0.85      0.85       163\n",
      "weighted avg       0.86      0.85      0.85       163\n",
      "\n",
      "[0.74509804 0.80882353 0.85221675 0.8817734 ]\n",
      " At cv = 4\n",
      "cross validation score  82.19779291026757\n",
      "[0.75460123 0.80981595 0.87116564 0.88957055 0.90123457]\n",
      " At cv = 5\n",
      "cross validation score  84.52775884268725\n",
      "[0.73529412 0.76470588 0.80882353 0.89705882 0.88148148 0.95555556]\n",
      " At cv = 6\n",
      "cross validation score  84.04865649963689\n",
      "[0.75213675 0.77777778 0.81896552 0.87931034 0.87068966 0.89655172\n",
      " 0.90517241]\n",
      " At cv = 7\n",
      "cross validation score  84.29434550124206\n",
      "[0.74509804 0.68627451 0.82352941 0.80392157 0.92156863 0.89215686\n",
      " 0.89108911 0.93069307]\n",
      " At cv = 8\n",
      "cross validation score  83.67913997282082\n",
      "[0.78021978 0.65934066 0.82417582 0.79120879 0.94444444 0.93333333\n",
      " 0.87777778 0.91111111 0.95555556]\n",
      " At cv = 9\n",
      "cross validation score  85.30185863519196\n"
     ]
    }
   ],
   "source": [
    "rf= RandomForestClassifier(random_state=90)\n",
    "model_selection(rf,x_train, x_test, y_train, y_test)\n",
    "model_cv(rf,x,y)"
   ]
  },
  {
   "cell_type": "code",
   "execution_count": 78,
   "id": "1c9b33bd",
   "metadata": {},
   "outputs": [
    {
     "name": "stdout",
     "output_type": "stream",
     "text": [
      "accuracy 76.07361963190185\n",
      "[[46 32]\n",
      " [ 7 78]]\n",
      "              precision    recall  f1-score   support\n",
      "\n",
      "           0       0.87      0.59      0.70        78\n",
      "           1       0.71      0.92      0.80        85\n",
      "\n",
      "    accuracy                           0.76       163\n",
      "   macro avg       0.79      0.75      0.75       163\n",
      "weighted avg       0.79      0.76      0.75       163\n",
      "\n",
      "[0.66666667 0.75       0.78325123 0.69950739]\n",
      " At cv = 4\n",
      "cross validation score  72.48563218390804\n",
      "[0.70552147 0.74846626 0.79141104 0.76687117 0.70987654]\n",
      " At cv = 5\n",
      "cross validation score  74.44292963720368\n",
      "[0.69852941 0.71323529 0.72058824 0.80147059 0.71851852 0.74074074]\n",
      " At cv = 6\n",
      "cross validation score  73.21804647785038\n",
      "[0.71794872 0.69230769 0.74137931 0.75       0.80172414 0.71551724\n",
      " 0.71551724]\n",
      " At cv = 7\n",
      "cross validation score  73.34849058986991\n",
      "[0.68627451 0.67647059 0.78431373 0.69607843 0.80392157 0.7745098\n",
      " 0.73267327 0.72277228]\n",
      " At cv = 8\n",
      "cross validation score  73.46267715006796\n",
      "[0.71428571 0.68131868 0.75824176 0.7032967  0.72222222 0.82222222\n",
      " 0.76666667 0.63333333 0.74444444]\n",
      " At cv = 9\n",
      "cross validation score  72.73368606701939\n"
     ]
    }
   ],
   "source": [
    "sv=SVC()\n",
    "model_selection(sv,x_train, x_test, y_train, y_test)\n",
    "model_cv(sv,x,y)"
   ]
  },
  {
   "cell_type": "code",
   "execution_count": 79,
   "id": "85380f34",
   "metadata": {},
   "outputs": [
    {
     "name": "stdout",
     "output_type": "stream",
     "text": [
      "accuracy 76.07361963190185\n",
      "[[58 20]\n",
      " [19 66]]\n",
      "              precision    recall  f1-score   support\n",
      "\n",
      "           0       0.75      0.74      0.75        78\n",
      "           1       0.77      0.78      0.77        85\n",
      "\n",
      "    accuracy                           0.76       163\n",
      "   macro avg       0.76      0.76      0.76       163\n",
      "weighted avg       0.76      0.76      0.76       163\n",
      "\n",
      "[0.71078431 0.76470588 0.82758621 0.8226601 ]\n",
      " At cv = 4\n",
      "cross validation score  78.14341253742876\n",
      "[0.72392638 0.76687117 0.80368098 0.79754601 0.79012346]\n",
      " At cv = 5\n",
      "cross validation score  77.64295993334848\n",
      "[0.69852941 0.76470588 0.77941176 0.89705882 0.85925926 0.78518519]\n",
      " At cv = 6\n",
      "cross validation score  79.73583877995644\n",
      "[0.66666667 0.67521368 0.74137931 0.81034483 0.86206897 0.85344828\n",
      " 0.81896552]\n",
      " At cv = 7\n",
      "cross validation score  77.54410340617238\n",
      "[0.66666667 0.73529412 0.76470588 0.78431373 0.8627451  0.83333333\n",
      " 0.83168317 0.79207921]\n",
      " At cv = 8\n",
      "cross validation score  78.38526499708794\n",
      "[0.71428571 0.71428571 0.79120879 0.7032967  0.77777778 0.86666667\n",
      " 0.86666667 0.8        0.77777778]\n",
      " At cv = 9\n",
      "cross validation score  77.91073124406458\n"
     ]
    }
   ],
   "source": [
    "# model dtc\n",
    "dtc=DecisionTreeClassifier(random_state=28)\n",
    "model_selection(dtc,x_train, x_test, y_train, y_test)\n",
    "model_cv(dtc,x,y)"
   ]
  },
  {
   "cell_type": "code",
   "execution_count": 80,
   "id": "cbf4d281",
   "metadata": {},
   "outputs": [
    {
     "name": "stdout",
     "output_type": "stream",
     "text": [
      "accuracy 73.61963190184049\n",
      "[[45 33]\n",
      " [10 75]]\n",
      "              precision    recall  f1-score   support\n",
      "\n",
      "           0       0.82      0.58      0.68        78\n",
      "           1       0.69      0.88      0.78        85\n",
      "\n",
      "    accuracy                           0.74       163\n",
      "   macro avg       0.76      0.73      0.73       163\n",
      "weighted avg       0.75      0.74      0.73       163\n",
      "\n",
      "[0.67156863 0.74509804 0.74384236 0.67980296]\n",
      " At cv = 4\n",
      "cross validation score  71.00779967159276\n",
      "[0.68711656 0.73619632 0.71779141 0.6993865  0.67901235]\n",
      " At cv = 5\n",
      "cross validation score  70.39006286450049\n",
      "[0.67647059 0.69852941 0.73529412 0.74264706 0.71111111 0.6962963 ]\n",
      " At cv = 6\n",
      "cross validation score  71.00580973129993\n",
      "[0.7008547  0.69230769 0.75862069 0.72413793 0.75862069 0.72413793\n",
      " 0.67241379]\n",
      " At cv = 7\n",
      "cross validation score  71.8727632520736\n",
      "[0.69607843 0.65686275 0.76470588 0.73529412 0.74509804 0.75490196\n",
      " 0.67326733 0.69306931]\n",
      " At cv = 8\n",
      "cross validation score  71.49097262667443\n",
      "[0.7032967  0.67032967 0.76923077 0.73626374 0.72222222 0.76666667\n",
      " 0.76666667 0.61111111 0.71111111]\n",
      " At cv = 9\n",
      "cross validation score  71.74331840998508\n"
     ]
    }
   ],
   "source": [
    "# model dtc\n",
    "lr=LogisticRegression(random_state=28)\n",
    "model_selection(lr,x_train, x_test, y_train, y_test)\n",
    "model_cv(lr,x,y)"
   ]
  },
  {
   "cell_type": "markdown",
   "id": "1c75f83f",
   "metadata": {},
   "source": [
    "# ROC_AUC_score"
   ]
  },
  {
   "cell_type": "code",
   "execution_count": null,
   "id": "d1385de0",
   "metadata": {},
   "outputs": [],
   "source": [
    "print(\"roc_auc_score for logistic model=   \",roc_auc_score(y_test,lr.predict(x_test)))\n",
    "print(\"roc_auc_score for DecesionTreeClassifier=   \",roc_auc_score(y_test,dtc.predict(x_test)))\n",
    "print(\"roc_auc_score for RandomFarestClassifier=   \",roc_auc_score(y_test,rf.predict(x_test)))\n",
    "print(\"roc_auc_score for knn=   \",roc_auc_score(y_test,knn.predict(x_test)))\n",
    "print(\"roc_auc_score for svc=   \",roc_auc_score(y_test,sv.predict(x_test)))\n",
    "print(\"roc_auc_score for AdaBoostClassifier=   \",roc_auc_score(y_test,ad.predict(x_test)))\n",
    "print(\"roc_auc_score for GradientBoostingClassifier=   \",roc_auc_score(y_test,gbc.predict(x_test)))\n"
   ]
  },
  {
   "cell_type": "code",
   "execution_count": null,
   "id": "92566c34",
   "metadata": {},
   "outputs": [],
   "source": [
    "disp = plot_roc_curve(sv,x_test,y_test)\n",
    "plot_roc_curve(knn, x_test, y_test, ax=disp.ax_)     # ax_=Axes with confusion matrix\n",
    "plot_roc_curve(lr, x_test,y_test, ax=disp.ax_)\n",
    "plot_roc_curve(rf, x_test,y_test, ax=disp.ax_)\n",
    "plot_roc_curve(dtc, x_test,y_test, ax=disp.ax_)\n",
    "plot_roc_curve(ad, x_test,y_test, ax=disp.ax_)\n",
    "plot_roc_curve(gbc, x_test,y_test, ax=disp.ax_)\n",
    "\n",
    "\n",
    "plt.legend(prop={'size':11}, loc='lower right')\n",
    "plt.show()"
   ]
  },
  {
   "cell_type": "markdown",
   "id": "260c2b91",
   "metadata": {},
   "source": [
    "AUC - ROC curve is a performance measurement for the classification problems at various threshold settings RandomFarestClassifier has ROC AUC highest score, hence choosing it is our best model"
   ]
  },
  {
   "cell_type": "markdown",
   "id": "2186a6bd",
   "metadata": {},
   "source": [
    "# Compare All Model Performance"
   ]
  },
  {
   "cell_type": "code",
   "execution_count": 80,
   "id": "1ffaf71c",
   "metadata": {},
   "outputs": [
    {
     "data": {
      "text/html": [
       "<div>\n",
       "<style scoped>\n",
       "    .dataframe tbody tr th:only-of-type {\n",
       "        vertical-align: middle;\n",
       "    }\n",
       "\n",
       "    .dataframe tbody tr th {\n",
       "        vertical-align: top;\n",
       "    }\n",
       "\n",
       "    .dataframe thead th {\n",
       "        text-align: right;\n",
       "    }\n",
       "</style>\n",
       "<table border=\"1\" class=\"dataframe\">\n",
       "  <thead>\n",
       "    <tr style=\"text-align: right;\">\n",
       "      <th></th>\n",
       "      <th>Model</th>\n",
       "      <th>Model accuracy</th>\n",
       "      <th>Cross validation</th>\n",
       "    </tr>\n",
       "  </thead>\n",
       "  <tbody>\n",
       "    <tr>\n",
       "      <th>0</th>\n",
       "      <td>RandomForest classifier</td>\n",
       "      <td>85</td>\n",
       "      <td>85</td>\n",
       "    </tr>\n",
       "    <tr>\n",
       "      <th>1</th>\n",
       "      <td>DecisionTree classifier</td>\n",
       "      <td>70</td>\n",
       "      <td>77</td>\n",
       "    </tr>\n",
       "    <tr>\n",
       "      <th>2</th>\n",
       "      <td>KNeighbour classifier</td>\n",
       "      <td>74</td>\n",
       "      <td>76</td>\n",
       "    </tr>\n",
       "    <tr>\n",
       "      <th>3</th>\n",
       "      <td>svm</td>\n",
       "      <td>76</td>\n",
       "      <td>73</td>\n",
       "    </tr>\n",
       "    <tr>\n",
       "      <th>4</th>\n",
       "      <td>LogisticRegression</td>\n",
       "      <td>69</td>\n",
       "      <td>71</td>\n",
       "    </tr>\n",
       "    <tr>\n",
       "      <th>5</th>\n",
       "      <td>AdaBoostClassifier</td>\n",
       "      <td>78</td>\n",
       "      <td>76</td>\n",
       "    </tr>\n",
       "    <tr>\n",
       "      <th>6</th>\n",
       "      <td>GradientBoostingClassifier</td>\n",
       "      <td>81</td>\n",
       "      <td>80</td>\n",
       "    </tr>\n",
       "  </tbody>\n",
       "</table>\n",
       "</div>"
      ],
      "text/plain": [
       "                        Model  Model accuracy  Cross validation\n",
       "0     RandomForest classifier              85                85\n",
       "1     DecisionTree classifier              70                77\n",
       "2       KNeighbour classifier              74                76\n",
       "3                         svm              76                73\n",
       "4          LogisticRegression              69                71\n",
       "5          AdaBoostClassifier              78                76\n",
       "6  GradientBoostingClassifier              81                80"
      ]
     },
     "execution_count": 80,
     "metadata": {},
     "output_type": "execute_result"
    }
   ],
   "source": [
    "results = pd.DataFrame({\n",
    "\n",
    "    'Model': [\"RandomForest classifier\",\"DecisionTree classifier\",\"KNeighbour classifier\",\"svm\",\"LogisticRegression\",\"AdaBoostClassifier\",\"GradientBoostingClassifier\"],\n",
    "\n",
    "    'Model accuracy': [85,70,74,76,69,78,81],\n",
    "\n",
    "     \"Cross validation\":[85,77,76,73,71,76,80],\n",
    "    \n",
    "  \n",
    "    \n",
    "    })\n",
    "\n",
    "results"
   ]
  },
  {
   "cell_type": "markdown",
   "id": "e41ad29c",
   "metadata": {},
   "source": [
    "# Hyper Parameter Tuning For Best Model\n",
    "\n",
    "Choosing best model as RandomForest classifier\" Model\n",
    "\n",
    "minimum difference between cross validation and Accuracy score is 0\n",
    "\n",
    "Roc_auc score is maximum"
   ]
  },
  {
   "cell_type": "code",
   "execution_count": 81,
   "id": "e15b85bb",
   "metadata": {},
   "outputs": [],
   "source": [
    "parameter = {'criterion':['gini','entropy'],\n",
    "             'max_depth': [10,15,20,25],\n",
    "             'n_estimators':[100,200,300,400],\n",
    "             'max_features': [\"auto\",\"sqrt\",\"log2\"]}"
   ]
  },
  {
   "cell_type": "code",
   "execution_count": 82,
   "id": "5e5b189f",
   "metadata": {},
   "outputs": [
    {
     "data": {
      "text/plain": [
       "{'criterion': 'gini',\n",
       " 'max_depth': 20,\n",
       " 'max_features': 'log2',\n",
       " 'n_estimators': 100}"
      ]
     },
     "execution_count": 82,
     "metadata": {},
     "output_type": "execute_result"
    }
   ],
   "source": [
    "gcv=GridSearchCV(RandomForestClassifier(),parameter,cv=5)\n",
    "gcv.fit(x_train,y_train)\n",
    "gcv.best_params_"
   ]
  },
  {
   "cell_type": "code",
   "execution_count": 90,
   "id": "2d2737c3",
   "metadata": {},
   "outputs": [
    {
     "name": "stdout",
     "output_type": "stream",
     "text": [
      "85.88957055214725\n"
     ]
    }
   ],
   "source": [
    "final_model=RandomForestClassifier(criterion=\"gini\", max_depth=20 , max_features=\"log2\" ,n_estimators=100)\n",
    "final_model.fit(x_train,y_train)\n",
    "pred=final_model.predict(x_test)\n",
    "acc=accuracy_score(y_test,pred)\n",
    "\n",
    "print(acc*100)"
   ]
  },
  {
   "cell_type": "markdown",
   "id": "8c4b885c",
   "metadata": {},
   "source": [
    "# Confusion_matrix for Best model"
   ]
  },
  {
   "cell_type": "code",
   "execution_count": 91,
   "id": "ac66e32f",
   "metadata": {},
   "outputs": [
    {
     "data": {
      "image/png": "[encoded data removed]",
      "text/plain": [
       "<Figure size 504x360 with 2 Axes>"
      ]
     },
     "metadata": {
      "needs_background": "light"
     },
     "output_type": "display_data"
    }
   ],
   "source": [
    "cm= confusion_matrix(y_test,pred)\n",
    "\n",
    "x_axis_labels= [\"Yes\",\"No\"]\n",
    "y_axis_labels=[\"Yes\",\"No\"]\n",
    "\n",
    "f,ax=plt.subplots(figsize=(7,5))\n",
    "sns.heatmap(cm, annot=True, linewidth=0.2, linecolor=\"black\", fmt=\".0f\")\n",
    "plt.xlabel(\"Predicted\")\n",
    "plt.ylabel(\"Actual\")\n",
    "plt.title(\"Confusion Matrix for RFC\")\n",
    "plt.show()"
   ]
  },
  {
   "cell_type": "markdown",
   "id": "d921d6b7",
   "metadata": {},
   "source": [
    "# Saving ,Loading and Prediction of the best Classification ML model"
   ]
  },
  {
   "cell_type": "code",
   "execution_count": 92,
   "id": "61a81f47",
   "metadata": {},
   "outputs": [],
   "source": [
    "import pickle\n",
    "filename_1=\"Loan_status.pkl\"\n",
    "pickle.dump(final_model,open(filename_1,\"wb\"))"
   ]
  },
  {
   "cell_type": "code",
   "execution_count": 93,
   "id": "966eb3c1",
   "metadata": {},
   "outputs": [
    {
     "name": "stdout",
     "output_type": "stream",
     "text": [
      "85.88957055214725\n"
     ]
    }
   ],
   "source": [
    "loaded_model=pickle.load(open(\"Loan_status.pkl\",\"rb\"))\n",
    "result=loaded_model.score(x_test,y_test)\n",
    "print(result*100)"
   ]
  },
  {
   "cell_type": "code",
   "execution_count": 94,
   "id": "0e4a6836",
   "metadata": {},
   "outputs": [],
   "source": [
    "result=pd.DataFrame([loaded_model.predict(x_test)[:],pred[:]],index=[\"predicted\",\"original\"])"
   ]
  },
  {
   "cell_type": "code",
   "execution_count": 95,
   "id": "c422bc2b",
   "metadata": {},
   "outputs": [
    {
     "data": {
      "text/html": [
       "<div>\n",
       "<style scoped>\n",
       "    .dataframe tbody tr th:only-of-type {\n",
       "        vertical-align: middle;\n",
       "    }\n",
       "\n",
       "    .dataframe tbody tr th {\n",
       "        vertical-align: top;\n",
       "    }\n",
       "\n",
       "    .dataframe thead th {\n",
       "        text-align: right;\n",
       "    }\n",
       "</style>\n",
       "<table border=\"1\" class=\"dataframe\">\n",
       "  <thead>\n",
       "    <tr style=\"text-align: right;\">\n",
       "      <th></th>\n",
       "      <th>predicted</th>\n",
       "      <th>original</th>\n",
       "    </tr>\n",
       "  </thead>\n",
       "  <tbody>\n",
       "    <tr>\n",
       "      <th>0</th>\n",
       "      <td>0</td>\n",
       "      <td>0</td>\n",
       "    </tr>\n",
       "    <tr>\n",
       "      <th>1</th>\n",
       "      <td>1</td>\n",
       "      <td>1</td>\n",
       "    </tr>\n",
       "    <tr>\n",
       "      <th>2</th>\n",
       "      <td>0</td>\n",
       "      <td>0</td>\n",
       "    </tr>\n",
       "    <tr>\n",
       "      <th>3</th>\n",
       "      <td>1</td>\n",
       "      <td>1</td>\n",
       "    </tr>\n",
       "    <tr>\n",
       "      <th>4</th>\n",
       "      <td>0</td>\n",
       "      <td>0</td>\n",
       "    </tr>\n",
       "    <tr>\n",
       "      <th>...</th>\n",
       "      <td>...</td>\n",
       "      <td>...</td>\n",
       "    </tr>\n",
       "    <tr>\n",
       "      <th>158</th>\n",
       "      <td>1</td>\n",
       "      <td>1</td>\n",
       "    </tr>\n",
       "    <tr>\n",
       "      <th>159</th>\n",
       "      <td>1</td>\n",
       "      <td>1</td>\n",
       "    </tr>\n",
       "    <tr>\n",
       "      <th>160</th>\n",
       "      <td>1</td>\n",
       "      <td>1</td>\n",
       "    </tr>\n",
       "    <tr>\n",
       "      <th>161</th>\n",
       "      <td>1</td>\n",
       "      <td>1</td>\n",
       "    </tr>\n",
       "    <tr>\n",
       "      <th>162</th>\n",
       "      <td>1</td>\n",
       "      <td>1</td>\n",
       "    </tr>\n",
       "  </tbody>\n",
       "</table>\n",
       "<p>163 rows × 2 columns</p>\n",
       "</div>"
      ],
      "text/plain": [
       "     predicted  original\n",
       "0            0         0\n",
       "1            1         1\n",
       "2            0         0\n",
       "3            1         1\n",
       "4            0         0\n",
       "..         ...       ...\n",
       "158          1         1\n",
       "159          1         1\n",
       "160          1         1\n",
       "161          1         1\n",
       "162          1         1\n",
       "\n",
       "[163 rows x 2 columns]"
      ]
     },
     "execution_count": 95,
     "metadata": {},
     "output_type": "execute_result"
    }
   ],
   "source": [
    "result.T"
   ]
  }
 ],
 "metadata": {
  "kernelspec": {
   "display_name": "Python 3 (ipykernel)",
   "language": "python",
   "name": "python3"
  },
  "language_info": {
   "codemirror_mode": {
    "name": "ipython",
    "version": 3
   },
   "file_extension": ".py",
   "mimetype": "text/x-python",
   "name": "python",
   "nbconvert_exporter": "python",
   "pygments_lexer": "ipython3",
   "version": "3.9.13"
  }
 },
 "nbformat": 4,
 "nbformat_minor": 5
}
