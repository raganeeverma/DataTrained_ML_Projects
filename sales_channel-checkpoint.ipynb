{
 "cells": [
  {
   "cell_type": "markdown",
   "id": "8d4b18f4",
   "metadata": {},
   "source": [
    "# Sales Channel Prediction Case Study\n",
    "\n",
    "The advertising dataset captures sales revenue generated with respect to advertisement spends across multiple channles like radio, tv and newspaper."
   ]
  },
  {
   "cell_type": "markdown",
   "id": "8419e362",
   "metadata": {},
   "source": [
    "# Understanding Dataset\n",
    "\n",
    "TV: advertising dollars spent on TV for a single product in a given market (in thousands of dollars)\n",
    "\n",
    "Radio: advertising dollars spent on Radio\n",
    "\n",
    "Newspaper: advertising dollars spent on Newspaper\n",
    "\n",
    "sales: total sales generated "
   ]
  },
  {
   "cell_type": "markdown",
   "id": "09529824",
   "metadata": {},
   "source": [
    "# Target :\n",
    "\n",
    "The predict the total sales generated from all the sales channel. "
   ]
  },
  {
   "cell_type": "markdown",
   "id": "41d0a5b4",
   "metadata": {},
   "source": [
    "# Importing Libraries"
   ]
  },
  {
   "cell_type": "code",
   "execution_count": 1,
   "id": "cdd35bbb",
   "metadata": {},
   "outputs": [],
   "source": [
    "#Importing required packages.\n",
    "\n",
    "import pandas as pd\n",
    "import numpy as np\n",
    "import scipy.stats as st\n",
    "\n",
    "#ploting libraries\n",
    "import matplotlib.pyplot as plt\n",
    "import seaborn as sns\n",
    "\n",
    "\n",
    "#feature engineering\n",
    "\n",
    "from sklearn.preprocessing import StandardScaler, LabelEncoder\n",
    "\n",
    "#train test split and #cross validation\n",
    "from sklearn.model_selection import train_test_split, GridSearchCV, cross_val_score\n",
    "from scipy.stats import zscore\n",
    "\n",
    "#metrics\n",
    "from sklearn.metrics import confusion_matrix, classification_report,accuracy_score\n",
    "from sklearn.metrics import r2_score,mean_squared_error\n",
    "\n",
    "#ML models\n",
    "import sklearn\n",
    "from sklearn.svm import SVC\n",
    "from sklearn.neighbors import KNeighborsClassifier\n",
    "from sklearn.tree import DecisionTreeClassifier\n",
    "from sklearn.ensemble import RandomForestClassifier\n",
    "\n",
    "from sklearn.linear_model import LogisticRegression\n",
    "from sklearn.linear_model import SGDClassifier\n",
    "from sklearn.linear_model import LinearRegression, Ridge, Lasso\n",
    "from sklearn.ensemble import RandomForestRegressor\n",
    "\n",
    "\n",
    "\n",
    "%matplotlib inline\n",
    "import warnings\n",
    "warnings.filterwarnings('ignore')"
   ]
  },
  {
   "cell_type": "markdown",
   "id": "af376aa1",
   "metadata": {},
   "source": [
    "# importing Dataset and Data Information"
   ]
  },
  {
   "cell_type": "code",
   "execution_count": 2,
   "id": "b2a16d41",
   "metadata": {},
   "outputs": [],
   "source": [
    "#Loading dataset\n",
    "df=pd.read_csv('sales_channel.csv')\n"
   ]
  },
  {
   "cell_type": "code",
   "execution_count": 3,
   "id": "9731b76d",
   "metadata": {},
   "outputs": [
    {
     "data": {
      "text/html": [
       "<div>\n",
       "<style scoped>\n",
       "    .dataframe tbody tr th:only-of-type {\n",
       "        vertical-align: middle;\n",
       "    }\n",
       "\n",
       "    .dataframe tbody tr th {\n",
       "        vertical-align: top;\n",
       "    }\n",
       "\n",
       "    .dataframe thead th {\n",
       "        text-align: right;\n",
       "    }\n",
       "</style>\n",
       "<table border=\"1\" class=\"dataframe\">\n",
       "  <thead>\n",
       "    <tr style=\"text-align: right;\">\n",
       "      <th></th>\n",
       "      <th>Unnamed: 0</th>\n",
       "      <th>TV</th>\n",
       "      <th>radio</th>\n",
       "      <th>newspaper</th>\n",
       "      <th>sales</th>\n",
       "    </tr>\n",
       "  </thead>\n",
       "  <tbody>\n",
       "    <tr>\n",
       "      <th>0</th>\n",
       "      <td>1</td>\n",
       "      <td>230.1</td>\n",
       "      <td>37.8</td>\n",
       "      <td>69.2</td>\n",
       "      <td>22.1</td>\n",
       "    </tr>\n",
       "    <tr>\n",
       "      <th>1</th>\n",
       "      <td>2</td>\n",
       "      <td>44.5</td>\n",
       "      <td>39.3</td>\n",
       "      <td>45.1</td>\n",
       "      <td>10.4</td>\n",
       "    </tr>\n",
       "    <tr>\n",
       "      <th>2</th>\n",
       "      <td>3</td>\n",
       "      <td>17.2</td>\n",
       "      <td>45.9</td>\n",
       "      <td>69.3</td>\n",
       "      <td>9.3</td>\n",
       "    </tr>\n",
       "    <tr>\n",
       "      <th>3</th>\n",
       "      <td>4</td>\n",
       "      <td>151.5</td>\n",
       "      <td>41.3</td>\n",
       "      <td>58.5</td>\n",
       "      <td>18.5</td>\n",
       "    </tr>\n",
       "    <tr>\n",
       "      <th>4</th>\n",
       "      <td>5</td>\n",
       "      <td>180.8</td>\n",
       "      <td>10.8</td>\n",
       "      <td>58.4</td>\n",
       "      <td>12.9</td>\n",
       "    </tr>\n",
       "  </tbody>\n",
       "</table>\n",
       "</div>"
      ],
      "text/plain": [
       "   Unnamed: 0     TV  radio  newspaper  sales\n",
       "0           1  230.1   37.8       69.2   22.1\n",
       "1           2   44.5   39.3       45.1   10.4\n",
       "2           3   17.2   45.9       69.3    9.3\n",
       "3           4  151.5   41.3       58.5   18.5\n",
       "4           5  180.8   10.8       58.4   12.9"
      ]
     },
     "execution_count": 3,
     "metadata": {},
     "output_type": "execute_result"
    }
   ],
   "source": [
    "#Let's check how the data is distributed\n",
    "df.head()"
   ]
  },
  {
   "cell_type": "code",
   "execution_count": 4,
   "id": "054844f8",
   "metadata": {},
   "outputs": [
    {
     "data": {
      "text/plain": [
       "Index(['Unnamed: 0', 'TV', 'radio', 'newspaper', 'sales'], dtype='object')"
      ]
     },
     "execution_count": 4,
     "metadata": {},
     "output_type": "execute_result"
    }
   ],
   "source": [
    "df.columns"
   ]
  },
  {
   "cell_type": "code",
   "execution_count": 5,
   "id": "c2bc5ed3",
   "metadata": {},
   "outputs": [],
   "source": [
    "# no need of unnamed column so we can drop it\n",
    "\n",
    "df.drop(['Unnamed: 0'],axis = 1,inplace=True)"
   ]
  },
  {
   "cell_type": "code",
   "execution_count": 6,
   "id": "c23de25c",
   "metadata": {},
   "outputs": [
    {
     "data": {
      "text/plain": [
       "(200, 4)"
      ]
     },
     "execution_count": 6,
     "metadata": {},
     "output_type": "execute_result"
    }
   ],
   "source": [
    "# no. of rows and columns\n",
    "df.shape"
   ]
  },
  {
   "cell_type": "code",
   "execution_count": 7,
   "id": "a115e3db",
   "metadata": {},
   "outputs": [
    {
     "name": "stdout",
     "output_type": "stream",
     "text": [
      "<class 'pandas.core.frame.DataFrame'>\n",
      "RangeIndex: 200 entries, 0 to 199\n",
      "Data columns (total 4 columns):\n",
      " #   Column     Non-Null Count  Dtype  \n",
      "---  ------     --------------  -----  \n",
      " 0   TV         200 non-null    float64\n",
      " 1   radio      200 non-null    float64\n",
      " 2   newspaper  200 non-null    float64\n",
      " 3   sales      200 non-null    float64\n",
      "dtypes: float64(4)\n",
      "memory usage: 6.4 KB\n"
     ]
    }
   ],
   "source": [
    "# check datatypes and memory captured\n",
    "df.info()"
   ]
  },
  {
   "cell_type": "markdown",
   "id": "88180afe",
   "metadata": {},
   "source": [
    "observation:\n",
    "    \n",
    "Reviewing Data Set at initial stage, found continous datatypes; Target variable data is sales which seems to represent regression problem"
   ]
  },
  {
   "cell_type": "code",
   "execution_count": 8,
   "id": "f739fc5a",
   "metadata": {},
   "outputs": [
    {
     "data": {
      "text/plain": [
       "TV           0\n",
       "radio        0\n",
       "newspaper    0\n",
       "sales        0\n",
       "dtype: int64"
      ]
     },
     "execution_count": 8,
     "metadata": {},
     "output_type": "execute_result"
    }
   ],
   "source": [
    "# check for null values\n",
    "df.isnull().sum()"
   ]
  },
  {
   "cell_type": "code",
   "execution_count": 9,
   "id": "15567351",
   "metadata": {},
   "outputs": [
    {
     "data": {
      "text/plain": [
       "<AxesSubplot:>"
      ]
     },
     "execution_count": 9,
     "metadata": {},
     "output_type": "execute_result"
    },
    {
     "data": {
      "image/png": "[encoded data removed]",
      "text/plain": [
       "<Figure size 432x288 with 1 Axes>"
      ]
     },
     "metadata": {
      "needs_background": "light"
     },
     "output_type": "display_data"
    }
   ],
   "source": [
    "sns.heatmap(df.isnull(),yticklabels=False,cbar=False,cmap=\"viridis\")##check missing value through visualization"
   ]
  },
  {
   "cell_type": "markdown",
   "id": "0f25cd49",
   "metadata": {},
   "source": [
    "There are no null or missing values in data set"
   ]
  },
  {
   "cell_type": "markdown",
   "id": "6e5213fa",
   "metadata": {},
   "source": [
    "# Duplicate"
   ]
  },
  {
   "cell_type": "code",
   "execution_count": 10,
   "id": "99c6f68f",
   "metadata": {},
   "outputs": [
    {
     "data": {
      "text/html": [
       "<div>\n",
       "<style scoped>\n",
       "    .dataframe tbody tr th:only-of-type {\n",
       "        vertical-align: middle;\n",
       "    }\n",
       "\n",
       "    .dataframe tbody tr th {\n",
       "        vertical-align: top;\n",
       "    }\n",
       "\n",
       "    .dataframe thead th {\n",
       "        text-align: right;\n",
       "    }\n",
       "</style>\n",
       "<table border=\"1\" class=\"dataframe\">\n",
       "  <thead>\n",
       "    <tr style=\"text-align: right;\">\n",
       "      <th></th>\n",
       "      <th>TV</th>\n",
       "      <th>radio</th>\n",
       "      <th>newspaper</th>\n",
       "      <th>sales</th>\n",
       "    </tr>\n",
       "  </thead>\n",
       "  <tbody>\n",
       "    <tr>\n",
       "      <th>0</th>\n",
       "      <td>230.1</td>\n",
       "      <td>37.8</td>\n",
       "      <td>69.2</td>\n",
       "      <td>22.1</td>\n",
       "    </tr>\n",
       "    <tr>\n",
       "      <th>1</th>\n",
       "      <td>44.5</td>\n",
       "      <td>39.3</td>\n",
       "      <td>45.1</td>\n",
       "      <td>10.4</td>\n",
       "    </tr>\n",
       "    <tr>\n",
       "      <th>2</th>\n",
       "      <td>17.2</td>\n",
       "      <td>45.9</td>\n",
       "      <td>69.3</td>\n",
       "      <td>9.3</td>\n",
       "    </tr>\n",
       "    <tr>\n",
       "      <th>3</th>\n",
       "      <td>151.5</td>\n",
       "      <td>41.3</td>\n",
       "      <td>58.5</td>\n",
       "      <td>18.5</td>\n",
       "    </tr>\n",
       "    <tr>\n",
       "      <th>4</th>\n",
       "      <td>180.8</td>\n",
       "      <td>10.8</td>\n",
       "      <td>58.4</td>\n",
       "      <td>12.9</td>\n",
       "    </tr>\n",
       "    <tr>\n",
       "      <th>...</th>\n",
       "      <td>...</td>\n",
       "      <td>...</td>\n",
       "      <td>...</td>\n",
       "      <td>...</td>\n",
       "    </tr>\n",
       "    <tr>\n",
       "      <th>195</th>\n",
       "      <td>38.2</td>\n",
       "      <td>3.7</td>\n",
       "      <td>13.8</td>\n",
       "      <td>7.6</td>\n",
       "    </tr>\n",
       "    <tr>\n",
       "      <th>196</th>\n",
       "      <td>94.2</td>\n",
       "      <td>4.9</td>\n",
       "      <td>8.1</td>\n",
       "      <td>9.7</td>\n",
       "    </tr>\n",
       "    <tr>\n",
       "      <th>197</th>\n",
       "      <td>177.0</td>\n",
       "      <td>9.3</td>\n",
       "      <td>6.4</td>\n",
       "      <td>12.8</td>\n",
       "    </tr>\n",
       "    <tr>\n",
       "      <th>198</th>\n",
       "      <td>283.6</td>\n",
       "      <td>42.0</td>\n",
       "      <td>66.2</td>\n",
       "      <td>25.5</td>\n",
       "    </tr>\n",
       "    <tr>\n",
       "      <th>199</th>\n",
       "      <td>232.1</td>\n",
       "      <td>8.6</td>\n",
       "      <td>8.7</td>\n",
       "      <td>13.4</td>\n",
       "    </tr>\n",
       "  </tbody>\n",
       "</table>\n",
       "<p>200 rows × 4 columns</p>\n",
       "</div>"
      ],
      "text/plain": [
       "        TV  radio  newspaper  sales\n",
       "0    230.1   37.8       69.2   22.1\n",
       "1     44.5   39.3       45.1   10.4\n",
       "2     17.2   45.9       69.3    9.3\n",
       "3    151.5   41.3       58.5   18.5\n",
       "4    180.8   10.8       58.4   12.9\n",
       "..     ...    ...        ...    ...\n",
       "195   38.2    3.7       13.8    7.6\n",
       "196   94.2    4.9        8.1    9.7\n",
       "197  177.0    9.3        6.4   12.8\n",
       "198  283.6   42.0       66.2   25.5\n",
       "199  232.1    8.6        8.7   13.4\n",
       "\n",
       "[200 rows x 4 columns]"
      ]
     },
     "execution_count": 10,
     "metadata": {},
     "output_type": "execute_result"
    }
   ],
   "source": [
    "# if duplicate value present drop this row\n",
    "df.drop_duplicates() "
   ]
  },
  {
   "cell_type": "code",
   "execution_count": 11,
   "id": "e1097b94",
   "metadata": {},
   "outputs": [],
   "source": [
    "# no duplicate present there because the row and column value is same "
   ]
  },
  {
   "cell_type": "code",
   "execution_count": 12,
   "id": "487fc21f",
   "metadata": {},
   "outputs": [
    {
     "data": {
      "text/html": [
       "<div>\n",
       "<style scoped>\n",
       "    .dataframe tbody tr th:only-of-type {\n",
       "        vertical-align: middle;\n",
       "    }\n",
       "\n",
       "    .dataframe tbody tr th {\n",
       "        vertical-align: top;\n",
       "    }\n",
       "\n",
       "    .dataframe thead th {\n",
       "        text-align: right;\n",
       "    }\n",
       "</style>\n",
       "<table border=\"1\" class=\"dataframe\">\n",
       "  <thead>\n",
       "    <tr style=\"text-align: right;\">\n",
       "      <th></th>\n",
       "      <th>TV</th>\n",
       "      <th>radio</th>\n",
       "      <th>newspaper</th>\n",
       "      <th>sales</th>\n",
       "    </tr>\n",
       "  </thead>\n",
       "  <tbody>\n",
       "    <tr>\n",
       "      <th>count</th>\n",
       "      <td>200.000000</td>\n",
       "      <td>200.000000</td>\n",
       "      <td>200.000000</td>\n",
       "      <td>200.000000</td>\n",
       "    </tr>\n",
       "    <tr>\n",
       "      <th>mean</th>\n",
       "      <td>147.042500</td>\n",
       "      <td>23.264000</td>\n",
       "      <td>30.554000</td>\n",
       "      <td>14.022500</td>\n",
       "    </tr>\n",
       "    <tr>\n",
       "      <th>std</th>\n",
       "      <td>85.854236</td>\n",
       "      <td>14.846809</td>\n",
       "      <td>21.778621</td>\n",
       "      <td>5.217457</td>\n",
       "    </tr>\n",
       "    <tr>\n",
       "      <th>min</th>\n",
       "      <td>0.700000</td>\n",
       "      <td>0.000000</td>\n",
       "      <td>0.300000</td>\n",
       "      <td>1.600000</td>\n",
       "    </tr>\n",
       "    <tr>\n",
       "      <th>25%</th>\n",
       "      <td>74.375000</td>\n",
       "      <td>9.975000</td>\n",
       "      <td>12.750000</td>\n",
       "      <td>10.375000</td>\n",
       "    </tr>\n",
       "    <tr>\n",
       "      <th>50%</th>\n",
       "      <td>149.750000</td>\n",
       "      <td>22.900000</td>\n",
       "      <td>25.750000</td>\n",
       "      <td>12.900000</td>\n",
       "    </tr>\n",
       "    <tr>\n",
       "      <th>75%</th>\n",
       "      <td>218.825000</td>\n",
       "      <td>36.525000</td>\n",
       "      <td>45.100000</td>\n",
       "      <td>17.400000</td>\n",
       "    </tr>\n",
       "    <tr>\n",
       "      <th>max</th>\n",
       "      <td>296.400000</td>\n",
       "      <td>49.600000</td>\n",
       "      <td>114.000000</td>\n",
       "      <td>27.000000</td>\n",
       "    </tr>\n",
       "  </tbody>\n",
       "</table>\n",
       "</div>"
      ],
      "text/plain": [
       "               TV       radio   newspaper       sales\n",
       "count  200.000000  200.000000  200.000000  200.000000\n",
       "mean   147.042500   23.264000   30.554000   14.022500\n",
       "std     85.854236   14.846809   21.778621    5.217457\n",
       "min      0.700000    0.000000    0.300000    1.600000\n",
       "25%     74.375000    9.975000   12.750000   10.375000\n",
       "50%    149.750000   22.900000   25.750000   12.900000\n",
       "75%    218.825000   36.525000   45.100000   17.400000\n",
       "max    296.400000   49.600000  114.000000   27.000000"
      ]
     },
     "execution_count": 12,
     "metadata": {},
     "output_type": "execute_result"
    }
   ],
   "source": [
    "# check the stats\n",
    "df.describe()"
   ]
  },
  {
   "cell_type": "code",
   "execution_count": 13,
   "id": "b6f950f8",
   "metadata": {},
   "outputs": [
    {
     "ename": "SyntaxError",
     "evalue": "invalid syntax (Temp/ipykernel_5532/2153832457.py, line 1)",
     "output_type": "error",
     "traceback": [
      "\u001b[1;36m  File \u001b[1;32m\"C:\\Users\\HP\\AppData\\Local\\Temp/ipykernel_5532/2153832457.py\"\u001b[1;36m, line \u001b[1;32m1\u001b[0m\n\u001b[1;33m    observation:\u001b[0m\n\u001b[1;37m                ^\u001b[0m\n\u001b[1;31mSyntaxError\u001b[0m\u001b[1;31m:\u001b[0m invalid syntax\n"
     ]
    }
   ],
   "source": [
    "observation:\n",
    "mre difference between the 75% and max in newspaper so skewness is present there"
   ]
  },
  {
   "cell_type": "code",
   "execution_count": 14,
   "id": "d49c752f",
   "metadata": {},
   "outputs": [],
   "source": [
    "#min doller spending on radio is 0 lets find out how much entries are 0 . "
   ]
  },
  {
   "cell_type": "code",
   "execution_count": 15,
   "id": "95a3ef98",
   "metadata": {},
   "outputs": [
    {
     "data": {
      "text/html": [
       "<div>\n",
       "<style scoped>\n",
       "    .dataframe tbody tr th:only-of-type {\n",
       "        vertical-align: middle;\n",
       "    }\n",
       "\n",
       "    .dataframe tbody tr th {\n",
       "        vertical-align: top;\n",
       "    }\n",
       "\n",
       "    .dataframe thead th {\n",
       "        text-align: right;\n",
       "    }\n",
       "</style>\n",
       "<table border=\"1\" class=\"dataframe\">\n",
       "  <thead>\n",
       "    <tr style=\"text-align: right;\">\n",
       "      <th></th>\n",
       "      <th>TV</th>\n",
       "      <th>radio</th>\n",
       "      <th>newspaper</th>\n",
       "      <th>sales</th>\n",
       "    </tr>\n",
       "  </thead>\n",
       "  <tbody>\n",
       "    <tr>\n",
       "      <th>127</th>\n",
       "      <td>80.2</td>\n",
       "      <td>0.0</td>\n",
       "      <td>9.2</td>\n",
       "      <td>8.8</td>\n",
       "    </tr>\n",
       "    <tr>\n",
       "      <th>107</th>\n",
       "      <td>90.4</td>\n",
       "      <td>0.3</td>\n",
       "      <td>23.2</td>\n",
       "      <td>8.7</td>\n",
       "    </tr>\n",
       "    <tr>\n",
       "      <th>108</th>\n",
       "      <td>13.1</td>\n",
       "      <td>0.4</td>\n",
       "      <td>25.6</td>\n",
       "      <td>5.3</td>\n",
       "    </tr>\n",
       "    <tr>\n",
       "      <th>117</th>\n",
       "      <td>76.4</td>\n",
       "      <td>0.8</td>\n",
       "      <td>14.8</td>\n",
       "      <td>9.4</td>\n",
       "    </tr>\n",
       "    <tr>\n",
       "      <th>157</th>\n",
       "      <td>149.8</td>\n",
       "      <td>1.3</td>\n",
       "      <td>24.3</td>\n",
       "      <td>10.1</td>\n",
       "    </tr>\n",
       "    <tr>\n",
       "      <th>34</th>\n",
       "      <td>95.7</td>\n",
       "      <td>1.4</td>\n",
       "      <td>7.4</td>\n",
       "      <td>9.5</td>\n",
       "    </tr>\n",
       "    <tr>\n",
       "      <th>91</th>\n",
       "      <td>28.6</td>\n",
       "      <td>1.5</td>\n",
       "      <td>33.0</td>\n",
       "      <td>7.3</td>\n",
       "    </tr>\n",
       "    <tr>\n",
       "      <th>32</th>\n",
       "      <td>97.2</td>\n",
       "      <td>1.5</td>\n",
       "      <td>30.0</td>\n",
       "      <td>9.6</td>\n",
       "    </tr>\n",
       "    <tr>\n",
       "      <th>76</th>\n",
       "      <td>27.5</td>\n",
       "      <td>1.6</td>\n",
       "      <td>20.7</td>\n",
       "      <td>6.9</td>\n",
       "    </tr>\n",
       "    <tr>\n",
       "      <th>145</th>\n",
       "      <td>140.3</td>\n",
       "      <td>1.9</td>\n",
       "      <td>9.0</td>\n",
       "      <td>10.3</td>\n",
       "    </tr>\n",
       "    <tr>\n",
       "      <th>60</th>\n",
       "      <td>53.5</td>\n",
       "      <td>2.0</td>\n",
       "      <td>21.4</td>\n",
       "      <td>8.1</td>\n",
       "    </tr>\n",
       "    <tr>\n",
       "      <th>8</th>\n",
       "      <td>8.6</td>\n",
       "      <td>2.1</td>\n",
       "      <td>1.0</td>\n",
       "      <td>4.8</td>\n",
       "    </tr>\n",
       "    <tr>\n",
       "      <th>186</th>\n",
       "      <td>139.5</td>\n",
       "      <td>2.1</td>\n",
       "      <td>26.6</td>\n",
       "      <td>10.3</td>\n",
       "    </tr>\n",
       "    <tr>\n",
       "      <th>178</th>\n",
       "      <td>276.7</td>\n",
       "      <td>2.3</td>\n",
       "      <td>23.7</td>\n",
       "      <td>11.8</td>\n",
       "    </tr>\n",
       "    <tr>\n",
       "      <th>122</th>\n",
       "      <td>224.0</td>\n",
       "      <td>2.4</td>\n",
       "      <td>15.6</td>\n",
       "      <td>11.6</td>\n",
       "    </tr>\n",
       "  </tbody>\n",
       "</table>\n",
       "</div>"
      ],
      "text/plain": [
       "        TV  radio  newspaper  sales\n",
       "127   80.2    0.0        9.2    8.8\n",
       "107   90.4    0.3       23.2    8.7\n",
       "108   13.1    0.4       25.6    5.3\n",
       "117   76.4    0.8       14.8    9.4\n",
       "157  149.8    1.3       24.3   10.1\n",
       "34    95.7    1.4        7.4    9.5\n",
       "91    28.6    1.5       33.0    7.3\n",
       "32    97.2    1.5       30.0    9.6\n",
       "76    27.5    1.6       20.7    6.9\n",
       "145  140.3    1.9        9.0   10.3\n",
       "60    53.5    2.0       21.4    8.1\n",
       "8      8.6    2.1        1.0    4.8\n",
       "186  139.5    2.1       26.6   10.3\n",
       "178  276.7    2.3       23.7   11.8\n",
       "122  224.0    2.4       15.6   11.6"
      ]
     },
     "execution_count": 15,
     "metadata": {},
     "output_type": "execute_result"
    }
   ],
   "source": [
    "df.sort_values(by=[\"radio\"]).head(15)"
   ]
  },
  {
   "cell_type": "code",
   "execution_count": 16,
   "id": "1f259e2a",
   "metadata": {},
   "outputs": [],
   "source": [
    "#It's just one entries with  0, so I think it's safe to drop it. "
   ]
  },
  {
   "cell_type": "code",
   "execution_count": 17,
   "id": "45168b29",
   "metadata": {},
   "outputs": [],
   "source": [
    "df.drop(df[df[\"radio\"]==0.00].index, inplace = True)"
   ]
  },
  {
   "cell_type": "code",
   "execution_count": 18,
   "id": "0fd17b45",
   "metadata": {},
   "outputs": [
    {
     "data": {
      "text/plain": [
       "(199, 4)"
      ]
     },
     "execution_count": 18,
     "metadata": {},
     "output_type": "execute_result"
    }
   ],
   "source": [
    "df.shape"
   ]
  },
  {
   "cell_type": "markdown",
   "id": "f70aa6e5",
   "metadata": {},
   "source": [
    "# Univariate Visualization¶"
   ]
  },
  {
   "cell_type": "code",
   "execution_count": 19,
   "id": "bf3582b3",
   "metadata": {},
   "outputs": [
    {
     "data": {
      "text/plain": [
       "<AxesSubplot:xlabel='sales', ylabel='Density'>"
      ]
     },
     "execution_count": 19,
     "metadata": {},
     "output_type": "execute_result"
    },
    {
     "data": {
      "image/png": "[encoded data removed]",
      "text/plain": [
       "<Figure size 432x288 with 1 Axes>"
      ]
     },
     "metadata": {
      "needs_background": "light"
     },
     "output_type": "display_data"
    }
   ],
   "source": [
    "sns.distplot(df['sales'])"
   ]
  },
  {
   "cell_type": "code",
   "execution_count": 20,
   "id": "4650c899",
   "metadata": {},
   "outputs": [
    {
     "data": {
      "text/plain": [
       "<AxesSubplot:xlabel='radio', ylabel='Density'>"
      ]
     },
     "execution_count": 20,
     "metadata": {},
     "output_type": "execute_result"
    },
    {
     "data": {
      "image/png": "[encoded data removed]",
      "text/plain": [
       "<Figure size 432x288 with 1 Axes>"
      ]
     },
     "metadata": {
      "needs_background": "light"
     },
     "output_type": "display_data"
    }
   ],
   "source": [
    "sns.distplot(df['radio'])"
   ]
  },
  {
   "cell_type": "code",
   "execution_count": 21,
   "id": "92ea55fa",
   "metadata": {},
   "outputs": [
    {
     "data": {
      "text/plain": [
       "<AxesSubplot:xlabel='TV', ylabel='Density'>"
      ]
     },
     "execution_count": 21,
     "metadata": {},
     "output_type": "execute_result"
    },
    {
     "data": {
      "image/png": "[encoded data removed]",
      "text/plain": [
       "<Figure size 432x288 with 1 Axes>"
      ]
     },
     "metadata": {
      "needs_background": "light"
     },
     "output_type": "display_data"
    }
   ],
   "source": [
    "sns.distplot(df['TV'])"
   ]
  },
  {
   "cell_type": "code",
   "execution_count": 22,
   "id": "88ed0b75",
   "metadata": {},
   "outputs": [
    {
     "data": {
      "text/plain": [
       "<AxesSubplot:xlabel='radio', ylabel='Density'>"
      ]
     },
     "execution_count": 22,
     "metadata": {},
     "output_type": "execute_result"
    },
    {
     "data": {
      "image/png": "[encoded data removed]",
      "text/plain": [
       "<Figure size 432x288 with 1 Axes>"
      ]
     },
     "metadata": {
      "needs_background": "light"
     },
     "output_type": "display_data"
    }
   ],
   "source": [
    "sns.distplot(df['radio'])"
   ]
  },
  {
   "cell_type": "code",
   "execution_count": 23,
   "id": "1a7fbb92",
   "metadata": {},
   "outputs": [
    {
     "data": {
      "text/plain": [
       "<AxesSubplot:xlabel='newspaper', ylabel='Density'>"
      ]
     },
     "execution_count": 23,
     "metadata": {},
     "output_type": "execute_result"
    },
    {
     "data": {
      "image/png": "[encoded data removed]",
      "text/plain": [
       "<Figure size 432x288 with 1 Axes>"
      ]
     },
     "metadata": {
      "needs_background": "light"
     },
     "output_type": "display_data"
    }
   ],
   "source": [
    "sns.distplot(df['newspaper'])"
   ]
  },
  {
   "cell_type": "markdown",
   "id": "6f87f275",
   "metadata": {},
   "source": [
    " using distplot, skewness present in newspaper column"
   ]
  },
  {
   "cell_type": "code",
   "execution_count": 24,
   "id": "27f546a0",
   "metadata": {},
   "outputs": [
    {
     "data": {
      "image/png": "[encoded data removed]",
      "text/plain": [
       "<Figure size 864x360 with 4 Axes>"
      ]
     },
     "metadata": {
      "needs_background": "light"
     },
     "output_type": "display_data"
    }
   ],
   "source": [
    "df.plot(kind=\"kde\",subplots=True,layout=(1,4),fontsize=1,figsize=(12,5),legend=False,sharex=False)\n",
    "plt.show()"
   ]
  },
  {
   "cell_type": "code",
   "execution_count": 25,
   "id": "cd9d6117",
   "metadata": {},
   "outputs": [
    {
     "data": {
      "text/plain": [
       "array([[<AxesSubplot:title={'center':'TV'}>,\n",
       "        <AxesSubplot:title={'center':'radio'}>,\n",
       "        <AxesSubplot:title={'center':'newspaper'}>,\n",
       "        <AxesSubplot:title={'center':'sales'}>],\n",
       "       [<AxesSubplot:>, <AxesSubplot:>, <AxesSubplot:>, <AxesSubplot:>]],\n",
       "      dtype=object)"
      ]
     },
     "execution_count": 25,
     "metadata": {},
     "output_type": "execute_result"
    },
    {
     "data": {
      "image/png": "[encoded data removed]",
      "text/plain": [
       "<Figure size 1440x720 with 8 Axes>"
      ]
     },
     "metadata": {
      "needs_background": "light"
     },
     "output_type": "display_data"
    }
   ],
   "source": [
    "df.hist(figsize=(20,10), grid=False, layout=(2, 4), bins = 10)"
   ]
  },
  {
   "cell_type": "markdown",
   "id": "e00add00",
   "metadata": {},
   "source": [
    "# Bivariate Visualization"
   ]
  },
  {
   "cell_type": "code",
   "execution_count": 26,
   "id": "0a52b554",
   "metadata": {},
   "outputs": [
    {
     "data": {
      "text/plain": [
       "<AxesSubplot:xlabel='newspaper', ylabel='sales'>"
      ]
     },
     "execution_count": 26,
     "metadata": {},
     "output_type": "execute_result"
    },
    {
     "data": {
      "image/png": "[encoded data removed]",
      "text/plain": [
       "<Figure size 1080x504 with 3 Axes>"
      ]
     },
     "metadata": {
      "needs_background": "light"
     },
     "output_type": "display_data"
    }
   ],
   "source": [
    "## Visualise relation ship  tv , radio and newspaper and sales using scatter plot  \n",
    "fig,axs = plt.subplots(1,3,sharey = True,figsize=(15,7))\n",
    "#fig,axs = plt.subplots(1,3)\n",
    "df.plot(kind = 'scatter' , x= 'TV' ,y='sales',ax = axs[0] )\n",
    "df.plot(kind = 'scatter' ,x = 'radio',y ='sales',ax = axs[1])\n",
    "df.plot(kind = 'scatter',x = 'newspaper', y = 'sales',ax = axs[2])\n",
    "          "
   ]
  },
  {
   "cell_type": "markdown",
   "id": "0aa3c7b8",
   "metadata": {},
   "source": [
    "Observation:\n",
    "    \n",
    "1 Upon reviewing first plot, as TV advertising is increased, sales are also increased.\n",
    "\n",
    "2 Upon reviewing second plot, similar to TV advertising, as radio advertising is increased, sales are also increased. But Radio advertising is less effective than TV.\n",
    "\n",
    "3 Upon reviewing third plot, newspaper advertising has high effect on sales positively at initial. However, as advertising is increased, it has low effect on sales and almost nil at max."
   ]
  },
  {
   "cell_type": "markdown",
   "id": "c9c5971e",
   "metadata": {},
   "source": [
    "# Correlation"
   ]
  },
  {
   "cell_type": "code",
   "execution_count": 27,
   "id": "e6042420",
   "metadata": {},
   "outputs": [
    {
     "data": {
      "text/plain": [
       "newspaper    0.224455\n",
       "radio        0.573310\n",
       "TV           0.781462\n",
       "sales        1.000000\n",
       "Name: sales, dtype: float64"
      ]
     },
     "execution_count": 27,
     "metadata": {},
     "output_type": "execute_result"
    }
   ],
   "source": [
    "# correlatin all columns with outcome in assending order\n",
    "\n",
    "df.corr()[\"sales\"].sort_values()\n"
   ]
  },
  {
   "cell_type": "code",
   "execution_count": 28,
   "id": "8afd74a8",
   "metadata": {},
   "outputs": [
    {
     "data": {
      "text/plain": [
       "<AxesSubplot:>"
      ]
     },
     "execution_count": 28,
     "metadata": {},
     "output_type": "execute_result"
    },
    {
     "data": {
      "image/png": "[encoded data removed]",
      "text/plain": [
       "<Figure size 720x360 with 2 Axes>"
      ]
     },
     "metadata": {
      "needs_background": "light"
     },
     "output_type": "display_data"
    }
   ],
   "source": [
    "# Checking the Correlation between the target value and rest columns using Heatmap, Correlation Matrix.\n",
    "\n",
    "plt.figure(figsize=(10,5))\n",
    "sns.heatmap(df.corr(),cmap='Blues',annot=True,linewidths=0.5,linecolor=\"black\",fmt=\"0.2f\")"
   ]
  },
  {
   "cell_type": "code",
   "execution_count": 29,
   "id": "6921a45a",
   "metadata": {},
   "outputs": [
    {
     "data": {
      "text/plain": [
       "<AxesSubplot:title={'center':'Correlation with sales'}>"
      ]
     },
     "execution_count": 29,
     "metadata": {},
     "output_type": "execute_result"
    },
    {
     "data": {
      "image/png": "[encoded data removed]",
      "text/plain": [
       "<Figure size 720x360 with 1 Axes>"
      ]
     },
     "metadata": {
      "needs_background": "light"
     },
     "output_type": "display_data"
    }
   ],
   "source": [
    "#Correlation with sales with respect to other columns\n",
    "df.corrwith(df.sales).plot.bar(\n",
    "        figsize = (10, 5), title = \"Correlation with sales\", fontsize = 15,\n",
    "        rot = 45, grid = True)"
   ]
  },
  {
   "cell_type": "markdown",
   "id": "fab59a73",
   "metadata": {},
   "source": [
    "observation:\n",
    "    \n",
    "All attributes are positive correlated with target column\n",
    "\n",
    "TV and radio is highly correlated as compair to newspaper\n"
   ]
  },
  {
   "cell_type": "markdown",
   "id": "43c68eeb",
   "metadata": {},
   "source": [
    "# Feature and Label Seperation"
   ]
  },
  {
   "cell_type": "code",
   "execution_count": 30,
   "id": "c2468e38",
   "metadata": {},
   "outputs": [],
   "source": [
    "x=df.drop(\"sales\",axis=1)\n",
    "y=df[\"sales\"]"
   ]
  },
  {
   "cell_type": "code",
   "execution_count": 31,
   "id": "1dcf795e",
   "metadata": {},
   "outputs": [
    {
     "name": "stdout",
     "output_type": "stream",
     "text": [
      "(199, 3)\n",
      "(199,)\n"
     ]
    }
   ],
   "source": [
    "print(x.shape)\n",
    "print(y.shape)"
   ]
  },
  {
   "cell_type": "markdown",
   "id": "bd10de98",
   "metadata": {},
   "source": [
    "# check for Skewness"
   ]
  },
  {
   "cell_type": "code",
   "execution_count": 32,
   "id": "d5f1dd8b",
   "metadata": {},
   "outputs": [
    {
     "data": {
      "text/plain": [
       "TV          -0.079446\n",
       "radio        0.091614\n",
       "newspaper    0.888932\n",
       "dtype: float64"
      ]
     },
     "execution_count": 32,
     "metadata": {},
     "output_type": "execute_result"
    }
   ],
   "source": [
    "x.skew()"
   ]
  },
  {
   "cell_type": "markdown",
   "id": "7779315d",
   "metadata": {},
   "source": [
    "Checking for the Skewness and found newspaper has more skewness as predicted by distplot analysis"
   ]
  },
  {
   "cell_type": "markdown",
   "id": "67f1fb51",
   "metadata": {},
   "source": [
    "# Remove Skewness"
   ]
  },
  {
   "cell_type": "code",
   "execution_count": 33,
   "id": "f61ab00a",
   "metadata": {},
   "outputs": [],
   "source": [
    "#remove skewness using power transform\n",
    "\n",
    "from sklearn.preprocessing import power_transform\n",
    "df_skew=power_transform(x)\n",
    "\n",
    "df_skew=pd.DataFrame(df_skew,columns=x.columns)"
   ]
  },
  {
   "cell_type": "markdown",
   "id": "6edcaffa",
   "metadata": {},
   "source": [
    "# check skewness are removed or not"
   ]
  },
  {
   "cell_type": "code",
   "execution_count": 34,
   "id": "b2d01807",
   "metadata": {},
   "outputs": [
    {
     "data": {
      "text/plain": [
       "TV          -0.319820\n",
       "radio       -0.238262\n",
       "newspaper   -0.078794\n",
       "dtype: float64"
      ]
     },
     "execution_count": 34,
     "metadata": {},
     "output_type": "execute_result"
    }
   ],
   "source": [
    "\n",
    "df_skew.skew()"
   ]
  },
  {
   "cell_type": "code",
   "execution_count": 35,
   "id": "80f306e5",
   "metadata": {},
   "outputs": [
    {
     "data": {
      "text/plain": [
       "<AxesSubplot:xlabel='newspaper', ylabel='Density'>"
      ]
     },
     "execution_count": 35,
     "metadata": {},
     "output_type": "execute_result"
    },
    {
     "data": {
      "image/png": "[encoded data removed]",
      "text/plain": [
       "<Figure size 432x288 with 1 Axes>"
      ]
     },
     "metadata": {
      "needs_background": "light"
     },
     "output_type": "display_data"
    }
   ],
   "source": [
    "sns.distplot(df_skew[\"newspaper\"])"
   ]
  },
  {
   "cell_type": "markdown",
   "id": "ca6b4c77",
   "metadata": {},
   "source": [
    "Checking Skewness after power transforms and found all columns skewness is within range of -0.5 to +0.5"
   ]
  },
  {
   "cell_type": "code",
   "execution_count": 36,
   "id": "a0754a55",
   "metadata": {},
   "outputs": [],
   "source": [
    "df=df_skew\n",
    "x=df_skew"
   ]
  },
  {
   "cell_type": "markdown",
   "id": "f86a464d",
   "metadata": {},
   "source": [
    "# Outlier Detection"
   ]
  },
  {
   "cell_type": "code",
   "execution_count": 37,
   "id": "e6bb536f",
   "metadata": {},
   "outputs": [
    {
     "data": {
      "image/png": "[encoded data removed]",
      "text/plain": [
       "<Figure size 1440x576 with 1 Axes>"
      ]
     },
     "metadata": {
      "needs_background": "light"
     },
     "output_type": "display_data"
    }
   ],
   "source": [
    "x.boxplot(figsize=[20,8])\n",
    "plt.subplots_adjust(bottom=0.25)\n",
    "plt.show()"
   ]
  },
  {
   "cell_type": "markdown",
   "id": "a3fa054f",
   "metadata": {},
   "source": [
    "Checking for Outliers through box plot graphs and found no outliers"
   ]
  },
  {
   "cell_type": "markdown",
   "id": "ca0e9360",
   "metadata": {},
   "source": [
    "# Multicollinerity\n"
   ]
  },
  {
   "cell_type": "code",
   "execution_count": 38,
   "id": "8ca49b14",
   "metadata": {},
   "outputs": [],
   "source": [
    "from statsmodels.stats.outliers_influence import variance_inflation_factor\n",
    "def cal_vif(x):\n",
    "    vif=pd.DataFrame()\n",
    "    vif['variables']=x.columns\n",
    "    vif[\"vif_factor\"]=[variance_inflation_factor(x.values,i) for i in range (x.shape[1])]\n",
    "    return(vif)"
   ]
  },
  {
   "cell_type": "code",
   "execution_count": 39,
   "id": "30ecb463",
   "metadata": {},
   "outputs": [
    {
     "data": {
      "text/html": [
       "<div>\n",
       "<style scoped>\n",
       "    .dataframe tbody tr th:only-of-type {\n",
       "        vertical-align: middle;\n",
       "    }\n",
       "\n",
       "    .dataframe tbody tr th {\n",
       "        vertical-align: top;\n",
       "    }\n",
       "\n",
       "    .dataframe thead th {\n",
       "        text-align: right;\n",
       "    }\n",
       "</style>\n",
       "<table border=\"1\" class=\"dataframe\">\n",
       "  <thead>\n",
       "    <tr style=\"text-align: right;\">\n",
       "      <th></th>\n",
       "      <th>variables</th>\n",
       "      <th>vif_factor</th>\n",
       "    </tr>\n",
       "  </thead>\n",
       "  <tbody>\n",
       "    <tr>\n",
       "      <th>0</th>\n",
       "      <td>TV</td>\n",
       "      <td>1.002471</td>\n",
       "    </tr>\n",
       "    <tr>\n",
       "      <th>1</th>\n",
       "      <td>radio</td>\n",
       "      <td>1.089776</td>\n",
       "    </tr>\n",
       "    <tr>\n",
       "      <th>2</th>\n",
       "      <td>newspaper</td>\n",
       "      <td>1.089529</td>\n",
       "    </tr>\n",
       "  </tbody>\n",
       "</table>\n",
       "</div>"
      ],
      "text/plain": [
       "   variables  vif_factor\n",
       "0         TV    1.002471\n",
       "1      radio    1.089776\n",
       "2  newspaper    1.089529"
      ]
     },
     "execution_count": 39,
     "metadata": {},
     "output_type": "execute_result"
    }
   ],
   "source": [
    "cal_vif(x)"
   ]
  },
  {
   "cell_type": "code",
   "execution_count": 40,
   "id": "b47243df",
   "metadata": {},
   "outputs": [],
   "source": [
    "#no any column are suffering from multicollinerity"
   ]
  },
  {
   "cell_type": "markdown",
   "id": "15863a8b",
   "metadata": {},
   "source": [
    "# Data Standardization"
   ]
  },
  {
   "cell_type": "code",
   "execution_count": 41,
   "id": "ae5273e5",
   "metadata": {},
   "outputs": [
    {
     "data": {
      "text/plain": [
       "array([[ 9.44461776e-01,  9.59556061e-01,  1.51268961e+00],\n",
       "       [-1.19371406e+00,  1.03816820e+00,  7.82168536e-01],\n",
       "       [-1.64691573e+00,  1.37163574e+00,  1.51536913e+00],\n",
       "       [ 1.35809607e-01,  1.14127562e+00,  1.21120447e+00],\n",
       "       [ 4.47706613e-01, -7.64765138e-01,  1.20823565e+00],\n",
       "       [-1.82109563e+00,  1.51725169e+00,  1.66439128e+00],\n",
       "       [-1.00577268e+00,  6.88730520e-01, -1.15374352e-01],\n",
       "       [-2.15391242e-01, -1.13015980e-01, -8.50729482e-01],\n",
       "       [-1.82334045e+00, -1.65471882e+00, -2.12903344e+00],\n",
       "       [ 6.42884282e-01, -1.58772077e+00, -2.36648703e-01],\n",
       "       [-8.87506494e-01, -1.22198112e+00, -7.98626551e-02],\n",
       "       [ 7.92570889e-01,  1.71504887e-01, -1.60487424e+00],\n",
       "       [-1.52662815e+00,  8.15077322e-01,  1.42291631e+00],\n",
       "       [-4.85142628e-01, -1.04607055e+00, -1.23472769e+00],\n",
       "       [ 6.86372134e-01,  6.94290513e-01,  8.13219912e-01],\n",
       "       [ 5.98131953e-01,  1.45941589e+00,  1.03997435e+00],\n",
       "       [-8.64611413e-01,  8.95831293e-01,  2.53586735e+00],\n",
       "       [ 1.43257588e+00,  1.05375627e+00,  1.12994319e+00],\n",
       "       [-8.45867689e-01, -5.30715002e-02, -4.01125790e-01],\n",
       "       [ 8.98667741e-02,  1.65261334e-01, -3.54317012e-01],\n",
       "       [ 8.29316265e-01,  3.96254539e-01,  1.05569473e+00],\n",
       "       [ 1.01553030e+00, -1.29508641e+00, -1.15374352e-01],\n",
       "       [-1.72538741e+00, -3.70744119e-01,  9.33901381e-01],\n",
       "       [ 9.26848236e-01, -2.99137156e-01,  1.83760223e-02],\n",
       "       [-9.39242164e-01, -6.19432526e-01, -4.01125790e-01],\n",
       "       [ 1.25946493e+00, -1.47544908e+00, -3.31341154e-01],\n",
       "       [ 4.13692481e-02,  4.89995073e-01, -7.75541934e-01],\n",
       "       [ 1.04167100e+00, -3.13334376e-01, -1.46312302e-01],\n",
       "       [ 1.12538696e+00,  3.60592359e-01, -1.46312302e-01],\n",
       "       [-8.27221568e-01, -3.63512268e-01,  6.28422835e-01],\n",
       "       [ 1.53868560e+00,  4.31634441e-01,  7.15370680e-01],\n",
       "       [-3.00568893e-01, -2.63905340e-01,  5.45984295e-01],\n",
       "       [-4.88810167e-01, -1.74083271e+00,  1.93455566e-01],\n",
       "       [ 1.28492304e+00, -8.62535813e-02, -2.31830190e+00],\n",
       "       [-5.07192097e-01, -1.75591760e+00, -1.21482955e+00],\n",
       "       [ 1.51847166e+00, -1.40533403e+00, -1.11027952e+00],\n",
       "       [ 1.29715656e+00,  1.26758988e+00, -1.47660144e+00],\n",
       "       [-7.73154307e-01,  1.54119361e+00,  8.02910354e-01],\n",
       "       [-1.21474122e+00,  3.36656644e-01,  4.08819816e-01],\n",
       "       [ 9.23909133e-01,  9.54274553e-01,  2.80332667e-01],\n",
       "       [ 6.70218753e-01,  6.40299501e-02,  2.63221436e-01],\n",
       "       [ 4.08043319e-01,  7.21997526e-01,  5.49791684e-01],\n",
       "       [ 1.54510899e+00,  3.96254539e-01, -1.95769655e+00],\n",
       "       [ 7.14561453e-01, -9.72464868e-01,  2.79525568e-02],\n",
       "       [-1.50398725e+00,  2.76235114e-01,  7.18929845e-01],\n",
       "       [ 3.88128689e-01,  7.68252255e-02,  2.58923503e-01],\n",
       "       [-5.81482951e-01, -8.40579795e-01,  4.32896454e-01],\n",
       "       [ 1.03973729e+00,  1.15148334e+00, -3.89313530e-01],\n",
       "       [ 9.16066593e-01, -3.77992253e-01,  9.43716846e-01],\n",
       "       [-8.76713654e-01, -6.91119261e-01,  4.76416640e-01],\n",
       "       [ 6.42884282e-01, -1.52418079e+00,  3.88567512e-01],\n",
       "       [-4.49838803e-01, -8.66375354e-01, -1.66059754e+00],\n",
       "       [ 8.09474221e-01,  1.16167282e+00,  5.83796148e-01],\n",
       "       [ 4.66418596e-01,  1.38635353e+00,  1.21713292e+00],\n",
       "       [ 1.25757644e+00,  4.60907808e-01, -5.49149068e-01],\n",
       "       [ 6.33751453e-01,  1.54119361e+00,  1.25537375e+00],\n",
       "       [-1.85311274e+00,  4.19872006e-01,  6.50441392e-01],\n",
       "       [-3.32331296e-02, -1.39976641e-01, -5.04710428e-01],\n",
       "       [ 7.53660180e-01,  1.55074508e+00,  5.11448915e-01],\n",
       "       [ 7.52660016e-01,  5.01578822e-01, -1.03883684e+00],\n",
       "       [-1.06231296e+00, -1.66859843e+00, -2.25805157e-01],\n",
       "       [ 1.24434648e+00,  1.21235067e+00,  1.09615678e+00],\n",
       "       [ 1.03393364e+00, -3.99835704e-01,  7.05239733e-02],\n",
       "       [-4.22026940e-01,  5.07359867e-01, -1.11946626e+00],\n",
       "       [-9.06604240e-02,  1.21739408e+00,  1.44198882e-01],\n",
       "       [-8.48539330e-01, -8.92449945e-01, -2.15325373e+00],\n",
       "       [-1.39649283e+00,  2.08768821e-01, -1.88329146e+00],\n",
       "       [ 1.40020491e-03, -4.73763438e-01, -9.62427431e-01],\n",
       "       [ 1.01553030e+00,  3.84398914e-01, -8.97615532e-01],\n",
       "       [ 8.13446439e-01,  1.27258592e+00,  6.58352655e-02],\n",
       "       [ 6.35781899e-01,  5.64780857e-01,  5.49791684e-01],\n",
       "       [-3.37169613e-01, -4.88764124e-01,  2.67511279e-01],\n",
       "       [-1.47481991e+00,  6.99844276e-01, -3.42794324e-01],\n",
       "       [-1.09931103e-01, -1.23224322e+00,  2.50303205e-01],\n",
       "       [ 7.79621276e-01,  2.08768821e-01, -7.39218724e-01],\n",
       "       [-1.65263205e+00,  1.26258960e+00,  2.01259146e+00],\n",
       "       [-1.46294656e+00, -1.72597550e+00, -2.64022749e-01],\n",
       "       [-2.11920006e-01,  4.43366398e-01, -6.62003019e-01],\n",
       "       [-1.89895737e+00,  5.24660073e-01, -1.03014934e+00],\n",
       "       [-2.64228045e-01, -1.03673167e+00, -1.35947186e-01],\n",
       "       [-7.50962466e-01,  3.36656644e-01, -1.77731057e-01],\n",
       "       [ 1.03877028e+00, -1.40533403e+00,  4.80334241e-01],\n",
       "       [-7.65307141e-01, -6.63087593e-02,  3.01543509e-01],\n",
       "       [-8.56566278e-01,  1.30247382e+00,  4.28900559e-01],\n",
       "       [ 7.80618129e-01,  1.22746781e+00,  3.55797169e-01],\n",
       "       [ 5.75657540e-01, -1.94514771e-01,  1.41738892e+00],\n",
       "       [-7.52264312e-01,  3.84398914e-01, -5.42732340e-01],\n",
       "       [-3.26516296e-01,  1.10540321e+00,  1.34742051e+00],\n",
       "       [-5.99000336e-01,  2.64048265e-01,  1.62327418e+00],\n",
       "       [-3.37169613e-01,  1.46425607e+00,  9.92268764e-01],\n",
       "       [-5.45611943e-02, -1.31655075e+00, -1.03883684e+00],\n",
       "       [-1.44444130e+00, -1.74083271e+00,  3.22560787e-01],\n",
       "       [ 8.22376957e-01,  7.27520512e-01,  1.22600278e+00],\n",
       "       [ 1.14547915e+00,  8.90486256e-01,  1.59469017e+00],\n",
       "       [-3.65689960e-01, -5.11405677e-01, -9.05568905e-01],\n",
       "       [ 2.63156183e-01,  6.21515178e-01,  1.03997435e+00],\n",
       "       [ 6.20540561e-01, -1.47544908e+00, -1.37197751e+00],\n",
       "       [ 4.90258637e-01, -2.01814645e-02, -1.93626980e-01],\n",
       "       [ 1.50927033e+00,  1.19213298e+00,  9.85844930e-01],\n",
       "       [-4.44487203e-02,  1.16167282e+00,  8.09787896e-01],\n",
       "       [ 8.68859016e-01, -1.38266970e+00,  9.40448982e-01],\n",
       "       [ 1.57076273e+00,  8.79779901e-01,  2.26686109e+00],\n",
       "       [ 1.42143903e+00, -8.23532538e-01, -2.25805157e-01],\n",
       "       [ 5.21238674e-01, -2.77953852e-01, -4.24977861e-01],\n",
       "       [ 1.02328374e+00,  7.71487488e-01, -1.44071693e+00],\n",
       "       [-1.42155845e-02,  1.39614564e+00,  1.22600278e+00],\n",
       "       [-1.50571821e+00, -7.48219926e-01,  1.80129842e-01],\n",
       "       [-5.72750835e-01, -1.94202157e+00, -1.30784434e-01],\n",
       "       [-1.72741822e+00, -1.92309996e+00, -1.06157561e-02],\n",
       "       [ 1.18838693e+00,  3.48640806e-01, -1.41737365e+00],\n",
       "       [ 9.02324802e-01, -9.90635417e-01,  1.15123482e+00],\n",
       "       [ 1.05712561e+00,  9.70103583e-01, -1.30784434e-01],\n",
       "       [ 3.94423568e-01, -4.07150330e-01, -1.84822470e+00],\n",
       "       [ 7.41650032e-01, -4.64704286e-02, -9.21599686e-01],\n",
       "       [-7.27603831e-01,  1.41568288e+00,  3.84496122e-01],\n",
       "       [-7.67921062e-01,  8.09648819e-01,  1.03366112e+00],\n",
       "       [ 2.86148449e-04, -4.88764124e-01, -1.06157561e-02],\n",
       "       [-7.50962466e-01, -1.85205761e+00, -6.21326333e-01],\n",
       "       [-1.52102386e-01,  9.11834079e-01,  1.76985479e+00],\n",
       "       [-1.60571722e+00, -3.63512268e-01, -1.77731057e-01],\n",
       "       [ 2.36379345e-02,  3.42652821e-01,  8.20070515e-01],\n",
       "       [-1.61683250e+00,  2.53912256e-02,  9.59997301e-01],\n",
       "       [ 8.84624107e-01, -1.61406653e+00, -5.68540335e-01],\n",
       "       [-1.81929175e-01,  7.87877241e-01, -7.90300775e-01],\n",
       "       [ 9.38594600e-01,  6.60836200e-01,  1.64389990e+00],\n",
       "       [-6.12814462e-01, -6.83060811e-01,  3.92978154e-03],\n",
       "       [-1.84152681e+00,  1.01731533e+00,  9.66482242e-01],\n",
       "       [ 8.48122394e-01,  1.52204734e+00, -1.71938305e+00],\n",
       "       [-9.76496276e-01, -6.67015338e-01,  7.11806565e-01],\n",
       "       [-2.03421647e+00,  1.05375627e+00, -1.09208266e+00],\n",
       "       [ 1.28115575e+00, -1.54922235e+00,  7.08237484e-01],\n",
       "       [-1.82784857e+00,  3.66556008e-01, -1.90133105e+00],\n",
       "       [ 8.43177525e-01,  7.27520512e-01,  7.82168536e-01],\n",
       "       [-1.31007610e+00,  1.00162349e+00,  1.41462141e+00],\n",
       "       [-1.13747278e+00,  1.42542818e+00, -1.11027952e+00],\n",
       "       [-1.49535834e+00,  1.02253597e+00, -1.03883684e+00],\n",
       "       [ 1.36089636e+00,  4.66740012e-01,  1.24659372e+00],\n",
       "       [-1.21624979e+00,  2.88387316e-01, -2.75080806e-01],\n",
       "       [ 4.90258637e-01,  1.27258592e+00, -1.97730560e+00],\n",
       "       [-7.90212633e-01, -2.92061167e-01, -7.53651540e-01],\n",
       "       [ 5.80771188e-01,  8.31328642e-01,  1.67967303e+00],\n",
       "       [ 8.50099523e-01,  7.10933211e-01,  5.19165731e-01],\n",
       "       [-3.99173566e-01, -1.23224322e+00,  3.80417682e-01],\n",
       "       [-5.01056548e-01, -4.51399615e-01,  5.57388828e-01],\n",
       "       [ 1.25293691e-02, -1.68265505e+00, -1.06521443e+00],\n",
       "       [ 1.04167100e+00, -1.07433813e+00, -1.09208266e+00],\n",
       "       [ 1.07159010e+00,  1.52204734e+00,  7.54253199e-01],\n",
       "       [-1.29288036e+00,  1.08995916e+00, -8.27799896e-01],\n",
       "       [-1.19072411e+00,  2.82315524e-01, -2.69543916e-01],\n",
       "       [ 1.42608090e+00, -5.18991022e-01,  4.84245498e-01],\n",
       "       [-2.06139594e-01, -9.72464868e-01,  9.04238748e-01],\n",
       "       [ 6.20540561e-01,  1.27597844e-01, -6.62003019e-01],\n",
       "       [ 3.48129675e-01,  1.05894255e+00,  5.11448915e-01],\n",
       "       [ 5.20208091e-01, -1.36376914e-02, -1.02151299e+00],\n",
       "       [-1.93239943e+00, -6.99201865e-01, -1.39446746e+00],\n",
       "       [-5.29349274e-01,  1.25257627e+00,  9.63241705e-01],\n",
       "       [ 1.17254112e-01, -1.77124338e+00, -7.48392299e-02],\n",
       "       [-1.75626201e+00,  9.11834079e-01,  7.85636973e-01],\n",
       "       [-8.38745358e-02, -1.94514771e-01,  3.88567512e-01],\n",
       "       [ 3.60785660e-01, -2.15186105e-01,  2.24243904e-01],\n",
       "       [-6.31724848e-01,  8.52918099e-01,  9.24050108e-01],\n",
       "       [ 5.26389448e-01, -2.15186105e-01, -1.06157561e-02],\n",
       "       [ 2.65293532e-01,  9.06505185e-01, -1.21482955e+00],\n",
       "       [-2.50228521e-01, -4.58836144e-01, -1.42898928e+00],\n",
       "       [ 9.87366771e-01, -1.48747212e+00,  1.90532357e+00],\n",
       "       [-1.63367251e+00,  9.48987855e-01, -2.15020914e-01],\n",
       "       [ 7.13556410e-01, -1.28445469e+00, -3.37059118e-01],\n",
       "       [ 7.99535293e-01,  1.46473235e-01,  1.18437383e+00],\n",
       "       [ 1.45943896e+00, -7.81417289e-01, -1.31745033e+00],\n",
       "       [-1.11268272e+00, -6.99201865e-01, -3.95210311e-01],\n",
       "       [ 2.75970094e-01, -2.67365531e-02,  8.60804399e-01],\n",
       "       [-1.60203123e+00, -7.95933464e-02, -4.79802931e-01],\n",
       "       [ 3.17448632e-01, -1.09339926e+00, -7.60915807e-01],\n",
       "       [ 8.68859016e-01, -1.48747212e+00, -7.39218724e-01],\n",
       "       [ 1.39074830e+00,  1.51725169e+00,  6.65014299e-01],\n",
       "       [ 1.12155487e+00,  5.41896553e-01, -2.86202225e-01],\n",
       "       [ 3.36508072e-01, -1.02743349e+00,  4.12849568e-01],\n",
       "       [ 1.38888520e+00, -1.62745987e+00, -1.05165252e-01],\n",
       "       [ 2.87694829e-01, -8.32041440e-01, -4.43071145e-01],\n",
       "       [ 1.91154663e-01, -1.58772077e+00, -1.12871323e+00],\n",
       "       [ 8.30307121e-01, -1.26338479e+00,  7.52025161e-02],\n",
       "       [-1.02403390e+00, -1.23224322e+00,  1.80129842e-01],\n",
       "       [ 1.48992050e+00,  1.22746781e+00,  1.58161032e+00],\n",
       "       [ 1.17315359e+00, -5.83809652e-04,  1.93455566e-01],\n",
       "       [ 6.95443910e-01,  1.33221229e+00, -3.25640295e-01],\n",
       "       [ 3.62769450e-03, -1.65471882e+00,  3.74862530e-02],\n",
       "       [ 5.54142439e-01,  4.55068161e-01, -4.07060125e-01],\n",
       "       [ 1.47515303e+00, -5.18991022e-01, -1.64639620e+00],\n",
       "       [-1.61869356e+00, -6.59027808e-01, -1.20498104e-01],\n",
       "       [-1.26963464e+00,  1.13104954e+00, -1.38317170e+00],\n",
       "       [-7.62695013e-01, -7.64765138e-01, -1.36088252e+00],\n",
       "       [-1.64691573e+00, -1.40533403e+00,  2.63221436e-01],\n",
       "       [ 3.00462362e-01,  1.17692309e+00, -1.66059754e+00],\n",
       "       [ 1.16160912e-01,  8.42134581e-01, -1.36088252e+00],\n",
       "       [-1.28976758e+00, -1.45170339e+00, -6.89671587e-01],\n",
       "       [-5.25648823e-01, -1.31655075e+00, -1.14739206e+00],\n",
       "       [ 4.08043319e-01, -8.92449945e-01, -1.31745033e+00],\n",
       "       [ 1.45296134e+00,  1.17692309e+00,  1.43118839e+00],\n",
       "       [ 9.63990315e-01, -9.54440685e-01, -1.09208266e+00]])"
      ]
     },
     "execution_count": 41,
     "metadata": {},
     "output_type": "execute_result"
    }
   ],
   "source": [
    "# Scaling the Feature data\n",
    "\n",
    "from sklearn.preprocessing import StandardScaler\n",
    "SC=StandardScaler()\n",
    "x=SC.fit_transform(x)\n",
    "x"
   ]
  },
  {
   "cell_type": "markdown",
   "id": "41771b5b",
   "metadata": {},
   "source": [
    "# Train Test Split"
   ]
  },
  {
   "cell_type": "code",
   "execution_count": 42,
   "id": "6af118c5",
   "metadata": {},
   "outputs": [],
   "source": [
    "x_train, x_test, y_train, y_test = train_test_split(x,y, test_size = 0.20, random_state=100)"
   ]
  },
  {
   "cell_type": "code",
   "execution_count": 43,
   "id": "f49b2cc1",
   "metadata": {},
   "outputs": [
    {
     "name": "stdout",
     "output_type": "stream",
     "text": [
      "shape of x_train=  (159, 3)\n",
      "shape of y_train=  (159,)\n",
      "shape of x_test=  (40, 3)\n",
      "shape of y_test=  (40,)\n"
     ]
    }
   ],
   "source": [
    "print(\"shape of x_train= \",x_train.shape)\n",
    "print(\"shape of y_train= \",y_train.shape)\n",
    "print(\"shape of x_test= \",x_test.shape)\n",
    "print(\"shape of y_test= \",y_test.shape)"
   ]
  },
  {
   "cell_type": "markdown",
   "id": "d94fbe17",
   "metadata": {},
   "source": [
    "# FINDING BEST RANDOM STATE"
   ]
  },
  {
   "cell_type": "code",
   "execution_count": 44,
   "id": "c7529b51",
   "metadata": {},
   "outputs": [
    {
     "name": "stdout",
     "output_type": "stream",
     "text": [
      "testing accuracy  0.8803779594375191  random state = 0\n",
      " max accuracy score 0.8803779594375191  max random state = 0\n",
      "testing accuracy  0.9207874460817909  random state = 1\n",
      " max accuracy score 0.9207874460817909  max random state = 1\n",
      "testing accuracy  0.8734967138124423  random state = 2\n",
      "testing accuracy  0.9268876337403122  random state = 3\n",
      " max accuracy score 0.9268876337403122  max random state = 3\n",
      "testing accuracy  0.9250190770142181  random state = 4\n",
      "testing accuracy  0.9009373306043827  random state = 5\n",
      "testing accuracy  0.9207984886112013  random state = 6\n",
      "testing accuracy  0.9195125474580987  random state = 7\n",
      "testing accuracy  0.9009438225448624  random state = 8\n",
      "testing accuracy  0.9353237980886193  random state = 9\n",
      " max accuracy score 0.9353237980886193  max random state = 9\n",
      "testing accuracy  0.8580830319061519  random state = 10\n",
      "testing accuracy  0.9349178083364721  random state = 11\n",
      "testing accuracy  0.9222434971549558  random state = 12\n",
      "testing accuracy  0.9042485431899625  random state = 13\n",
      "testing accuracy  0.9145920063405699  random state = 14\n",
      "testing accuracy  0.9040127732533317  random state = 15\n",
      "testing accuracy  0.909656383895245  random state = 16\n",
      "testing accuracy  0.8963438884658008  random state = 17\n",
      "testing accuracy  0.8705321744757114  random state = 18\n",
      "testing accuracy  0.9117079320068738  random state = 19\n",
      "testing accuracy  0.91334106186776  random state = 20\n",
      "testing accuracy  0.8887938348739743  random state = 21\n",
      "testing accuracy  0.9243558172055669  random state = 22\n",
      "testing accuracy  0.9135603012428105  random state = 23\n",
      "testing accuracy  0.8985906013828504  random state = 24\n",
      "testing accuracy  0.885463384224519  random state = 25\n",
      "testing accuracy  0.855542121466081  random state = 26\n",
      "testing accuracy  0.8594788359838291  random state = 27\n",
      "testing accuracy  0.9156857034425677  random state = 28\n",
      "testing accuracy  0.8927602890481505  random state = 29\n",
      "testing accuracy  0.8897615639157382  random state = 30\n",
      "testing accuracy  0.9310894354109386  random state = 31\n",
      "testing accuracy  0.9175672285517111  random state = 32\n",
      "testing accuracy  0.9141717082573764  random state = 33\n",
      "testing accuracy  0.8901587335726443  random state = 34\n",
      "testing accuracy  0.9023937543655395  random state = 35\n",
      "testing accuracy  0.9174984244362445  random state = 36\n",
      "testing accuracy  0.907920384143386  random state = 37\n",
      "testing accuracy  0.8877969640330345  random state = 38\n",
      "testing accuracy  0.8525529274759837  random state = 39\n",
      "testing accuracy  0.9028145557796249  random state = 40\n",
      "testing accuracy  0.8954829133678007  random state = 41\n",
      "testing accuracy  0.9060997841929326  random state = 42\n",
      "testing accuracy  0.9199835891444998  random state = 43\n",
      "testing accuracy  0.8527679832245101  random state = 44\n",
      "testing accuracy  0.8787892054370249  random state = 45\n",
      "testing accuracy  0.8671273457275738  random state = 46\n",
      "testing accuracy  0.8674563494670136  random state = 47\n",
      "testing accuracy  0.9018997130159514  random state = 48\n",
      "testing accuracy  0.8798250276535889  random state = 49\n",
      "testing accuracy  0.9174765827178007  random state = 50\n",
      "testing accuracy  0.9121650802098313  random state = 51\n",
      "testing accuracy  0.8780078561563399  random state = 52\n",
      "testing accuracy  0.8878252364982455  random state = 53\n",
      "testing accuracy  0.9131085402340844  random state = 54\n",
      "testing accuracy  0.889650962194807  random state = 55\n",
      "testing accuracy  0.9096436138418116  random state = 56\n",
      "testing accuracy  0.9401051738572723  random state = 57\n",
      " max accuracy score 0.9401051738572723  max random state = 57\n",
      "testing accuracy  0.8978400400407275  random state = 58\n",
      "testing accuracy  0.9215801549393773  random state = 59\n",
      "testing accuracy  0.88990070001906  random state = 60\n",
      "testing accuracy  0.9153138836161396  random state = 61\n",
      "testing accuracy  0.9173666061648834  random state = 62\n",
      "testing accuracy  0.8392371203692331  random state = 63\n",
      "testing accuracy  0.8717029386974083  random state = 64\n",
      "testing accuracy  0.9118390298865425  random state = 65\n",
      "testing accuracy  0.9057673948371916  random state = 66\n",
      "testing accuracy  0.8438439835129576  random state = 67\n",
      "testing accuracy  0.8932691466483775  random state = 68\n",
      "testing accuracy  0.9067928240191463  random state = 69\n",
      "testing accuracy  0.9161165408052467  random state = 70\n",
      "testing accuracy  0.8681000618216914  random state = 71\n",
      "testing accuracy  0.9150364992438743  random state = 72\n",
      "testing accuracy  0.8699601276958225  random state = 73\n",
      "testing accuracy  0.9241802074844256  random state = 74\n",
      "testing accuracy  0.9166197819375882  random state = 75\n",
      "testing accuracy  0.8831043360524873  random state = 76\n",
      "testing accuracy  0.9221906926800709  random state = 77\n",
      "testing accuracy  0.9320885728945882  random state = 78\n",
      "testing accuracy  0.9056583216767287  random state = 79\n",
      "testing accuracy  0.896336131381739  random state = 80\n",
      "testing accuracy  0.9096717997316514  random state = 81\n",
      "testing accuracy  0.889247807742565  random state = 82\n",
      "testing accuracy  0.8996011282234769  random state = 83\n",
      "testing accuracy  0.8952039902016535  random state = 84\n",
      "testing accuracy  0.8666583472853352  random state = 85\n",
      "testing accuracy  0.9156571534610647  random state = 86\n",
      "testing accuracy  0.84321147748216  random state = 87\n",
      "testing accuracy  0.8936326266734386  random state = 88\n",
      "testing accuracy  0.8769138999331174  random state = 89\n",
      "testing accuracy  0.8957931608673434  random state = 90\n",
      "testing accuracy  0.8907619209265945  random state = 91\n",
      "testing accuracy  0.900129198251441  random state = 92\n",
      "testing accuracy  0.9035297438623388  random state = 93\n",
      "testing accuracy  0.8684824260559803  random state = 94\n",
      "testing accuracy  0.8943892392344359  random state = 95\n",
      "testing accuracy  0.8700311533611991  random state = 96\n",
      "testing accuracy  0.9120916982017627  random state = 97\n",
      "testing accuracy  0.9067435947476647  random state = 98\n",
      "testing accuracy  0.9051277015062468  random state = 99\n"
     ]
    }
   ],
   "source": [
    "max_accu=0 #maxi accuracy define as 0\n",
    "max_rs=0# best random state for which max accurecy achived\n",
    "\n",
    "lr=LinearRegression()\n",
    " \n",
    "for i in range(0,100):\n",
    "    x_train, x_test, y_train, y_test = train_test_split( x, y, test_size=.25, random_state=i)\n",
    "    \n",
    "    lr.fit(x_train,y_train)\n",
    "\n",
    "    predlr=lr.predict(x_test)# predicted target variable\n",
    "    \n",
    "    acc=r2_score(y_test,predlr)# accuracy score\n",
    "    \n",
    "    print(\"testing accuracy \",acc, \" random state =\", i)\n",
    "    if acc>max_accu:\n",
    "        max_accu=acc\n",
    "        max_rs=i\n",
    "        print(\" max accuracy score\",acc, \" max random state =\",i)"
   ]
  },
  {
   "cell_type": "code",
   "execution_count": 45,
   "id": "44812c91",
   "metadata": {},
   "outputs": [
    {
     "name": "stdout",
     "output_type": "stream",
     "text": [
      " max r2 score 0.9401051738572723  max random state = 57\n"
     ]
    }
   ],
   "source": [
    "print(\" max r2 score\",max_accu, \" max random state =\", max_rs)"
   ]
  },
  {
   "cell_type": "markdown",
   "id": "f5679bba",
   "metadata": {},
   "source": [
    "# Model Building"
   ]
  },
  {
   "cell_type": "markdown",
   "id": "11a69049",
   "metadata": {},
   "source": [
    "Linear Regression Model Build:"
   ]
  },
  {
   "cell_type": "code",
   "execution_count": 46,
   "id": "8a849a83",
   "metadata": {},
   "outputs": [
    {
     "name": "stdout",
     "output_type": "stream",
     "text": [
      "94.01051738572723\n",
      "1.3777681127196066\n",
      "1.1737836737319218\n"
     ]
    }
   ],
   "source": [
    " x_train, x_test, y_train, y_test = train_test_split( x, y, test_size=.25, random_state=57)\n",
    "lr = LinearRegression()\n",
    "lr.fit(x_train,y_train)\n",
    "predlr = lr.predict(x_test)\n",
    "print(r2_score(y_test,predlr)*100)\n",
    "print(mean_squared_error(y_test,predlr))\n",
    "print(np.sqrt(mean_squared_error(y_test,predlr)))"
   ]
  },
  {
   "cell_type": "code",
   "execution_count": 47,
   "id": "43c074e8",
   "metadata": {},
   "outputs": [
    {
     "name": "stdout",
     "output_type": "stream",
     "text": [
      " At cv = 4\n",
      "Cross validation score for Linear Regression Model is  90.3377369332979\n",
      " At cv = 5\n",
      "Cross validation score for Linear Regression Model is  89.852551141311\n",
      " At cv = 6\n",
      "Cross validation score for Linear Regression Model is  90.32621819742404\n",
      " At cv = 7\n",
      "Cross validation score for Linear Regression Model is  89.89626309741723\n",
      " At cv = 8\n",
      "Cross validation score for Linear Regression Model is  90.0083686383495\n",
      " At cv = 9\n",
      "Cross validation score for Linear Regression Model is  89.88076188056885\n"
     ]
    }
   ],
   "source": [
    "for j in range(4,10):\n",
    "    scr = cross_val_score(lr,x,y,cv=j)\n",
    "    print(\" At cv =\",j)\n",
    "    print('Cross validation score for Linear Regression Model is ',scr.mean()*100)"
   ]
  },
  {
   "cell_type": "code",
   "execution_count": 48,
   "id": "d87cd24f",
   "metadata": {},
   "outputs": [
    {
     "name": "stdout",
     "output_type": "stream",
     "text": [
      "Linear Regression Model Difference is  3.680000000000007\n"
     ]
    }
   ],
   "source": [
    "#Linear Regression Model Difference is \n",
    "print(\"Linear Regression Model Difference is \",94.01 - 90.33)"
   ]
  },
  {
   "cell_type": "markdown",
   "id": "d810e38c",
   "metadata": {},
   "source": [
    "# Here we have solve the problem of overfitting and underfittings"
   ]
  },
  {
   "cell_type": "code",
   "execution_count": 49,
   "id": "ab04d6a7",
   "metadata": {},
   "outputs": [
    {
     "data": {
      "image/png": "[encoded data removed]",
      "text/plain": [
       "<Figure size 720x504 with 1 Axes>"
      ]
     },
     "metadata": {
      "needs_background": "light"
     },
     "output_type": "display_data"
    }
   ],
   "source": [
    "plt.figure(figsize=(10,7))\n",
    "plt.scatter(x=y_test,y=predlr,color=\"b\")\n",
    "plt.plot(y_test,y_test,color=\"r\")\n",
    "plt.xlabel(\"Actual sales\",fontsize=14)\n",
    "plt.ylabel(\"Predicted sales\",fontsize=14)\n",
    "plt.title(\"LINEAR REGRESSION\")\n",
    "plt.savefig('lr.png')\n",
    "plt.show()"
   ]
  },
  {
   "cell_type": "markdown",
   "id": "754b1f2f",
   "metadata": {},
   "source": [
    "OBSERVATION\n",
    "\n",
    "best fit line covering most of the data point which show good fit of over model"
   ]
  },
  {
   "cell_type": "markdown",
   "id": "a0cb29e0",
   "metadata": {},
   "source": [
    "# Regulerization :\n",
    "\n",
    "Use Ridge and Lasso Regression to control underfitting and overfitting"
   ]
  },
  {
   "cell_type": "markdown",
   "id": "af651c2d",
   "metadata": {},
   "source": [
    "Ridge Regression Model Build:"
   ]
  },
  {
   "cell_type": "code",
   "execution_count": 50,
   "id": "ac332cec",
   "metadata": {},
   "outputs": [
    {
     "name": "stdout",
     "output_type": "stream",
     "text": [
      "93.97931298303008\n",
      "1.38494610016549\n",
      "1.1768373295258312\n"
     ]
    }
   ],
   "source": [
    "r = Ridge()\n",
    "r.fit(x_train,y_train)\n",
    "predr = r.predict(x_test)\n",
    "print(r2_score(y_test,predr)*100)\n",
    "print(mean_squared_error(y_test,predr))\n",
    "print(np.sqrt(mean_squared_error(y_test,predr)))"
   ]
  },
  {
   "cell_type": "code",
   "execution_count": 51,
   "id": "36dd064c",
   "metadata": {},
   "outputs": [
    {
     "name": "stdout",
     "output_type": "stream",
     "text": [
      " At cv = 4\n",
      "Cross validation score for Ridge Regression Model is  90.33113795148586\n",
      " At cv = 5\n",
      "Cross validation score for Ridge Regression Model is  89.8593516013413\n",
      " At cv = 6\n",
      "Cross validation score for Ridge Regression Model is  90.32107247257774\n",
      " At cv = 7\n",
      "Cross validation score for Ridge Regression Model is  89.89511076420864\n",
      " At cv = 8\n",
      "Cross validation score for Ridge Regression Model is  90.01809894065205\n",
      " At cv = 9\n",
      "Cross validation score for Ridge Regression Model is  89.88391968736599\n"
     ]
    }
   ],
   "source": [
    "for j in range(4,10):\n",
    "    scr = cross_val_score(r,x,y,cv=j)\n",
    "    print(\" At cv =\",j)\n",
    "    print('Cross validation score for Ridge Regression Model is ',scr.mean()*100)"
   ]
  },
  {
   "cell_type": "code",
   "execution_count": 52,
   "id": "79074edc",
   "metadata": {},
   "outputs": [
    {
     "name": "stdout",
     "output_type": "stream",
     "text": [
      "Ridge Regression Model Difference is 3.6500000000000057\n"
     ]
    }
   ],
   "source": [
    "print(\"Ridge Regression Model Difference is\", 93.97 - 90.32)"
   ]
  },
  {
   "cell_type": "markdown",
   "id": "4db20647",
   "metadata": {},
   "source": [
    "Lenear Regration Graph for Ridge model"
   ]
  },
  {
   "cell_type": "code",
   "execution_count": 53,
   "id": "1c3f407a",
   "metadata": {},
   "outputs": [
    {
     "data": {
      "image/png": "[encoded data removed]",
      "text/plain": [
       "<Figure size 720x504 with 1 Axes>"
      ]
     },
     "metadata": {
      "needs_background": "light"
     },
     "output_type": "display_data"
    }
   ],
   "source": [
    "plt.figure(figsize=(10,7))\n",
    "plt.scatter(x=y_test,y=predr,color=\"b\")\n",
    "plt.plot(y_test,y_test,color=\"r\")\n",
    "plt.xlabel(\"Actual sales\",fontsize=14)\n",
    "plt.ylabel(\"Predicted sales\",fontsize=14)\n",
    "plt.title(\"LINEAR REGRESSION for Rdge\")\n",
    "plt.savefig('lr.png')\n",
    "plt.show()"
   ]
  },
  {
   "cell_type": "markdown",
   "id": "8108aa60",
   "metadata": {},
   "source": [
    "Lasso Regression Model Build:"
   ]
  },
  {
   "cell_type": "code",
   "execution_count": 54,
   "id": "ec7bc9ec",
   "metadata": {},
   "outputs": [
    {
     "name": "stdout",
     "output_type": "stream",
     "text": [
      "85.7941109503483\n",
      "3.2677982733938014\n",
      "1.8077052506959759\n"
     ]
    }
   ],
   "source": [
    "l = Lasso()\n",
    "l.fit(x_train,y_train)\n",
    "predl = l.predict(x_test)\n",
    "print(r2_score(y_test,predl)*100)\n",
    "print(mean_squared_error(y_test,predl))\n",
    "print(np.sqrt(mean_squared_error(y_test,predl)))"
   ]
  },
  {
   "cell_type": "code",
   "execution_count": 55,
   "id": "fdfbbea1",
   "metadata": {},
   "outputs": [
    {
     "name": "stdout",
     "output_type": "stream",
     "text": [
      " At cv = 4\n",
      "Cross validation score for LassoRegression Model is  83.00208695168908\n",
      " At cv = 5\n",
      "Cross validation score for LassoRegression Model is  82.79404861391437\n",
      " At cv = 6\n",
      "Cross validation score for LassoRegression Model is  82.97681069522639\n",
      " At cv = 7\n",
      "Cross validation score for LassoRegression Model is  82.4623709104552\n",
      " At cv = 8\n",
      "Cross validation score for LassoRegression Model is  82.98078807644207\n",
      " At cv = 9\n",
      "Cross validation score for LassoRegression Model is  82.67454444968556\n"
     ]
    }
   ],
   "source": [
    "for j in range(4,10):\n",
    "    scr = cross_val_score(l,x,y,cv=j)\n",
    "    print(\" At cv =\",j)\n",
    "    print('Cross validation score for LassoRegression Model is ',scr.mean()*100)"
   ]
  },
  {
   "cell_type": "code",
   "execution_count": 56,
   "id": "0217b25e",
   "metadata": {},
   "outputs": [
    {
     "name": "stdout",
     "output_type": "stream",
     "text": [
      "Lasso Regression Model Difference is 2.7900000000000063\n"
     ]
    }
   ],
   "source": [
    "print(\"Lasso Regression Model Difference is\", 85.79 - 83.00)"
   ]
  },
  {
   "cell_type": "code",
   "execution_count": 57,
   "id": "35d5a0ac",
   "metadata": {},
   "outputs": [
    {
     "data": {
      "image/png": "[encoded data removed]",
      "text/plain": [
       "<Figure size 720x504 with 1 Axes>"
      ]
     },
     "metadata": {
      "needs_background": "light"
     },
     "output_type": "display_data"
    }
   ],
   "source": [
    "plt.figure(figsize=(10,7))\n",
    "plt.scatter(x=y_test,y=predl,color=\"b\")\n",
    "plt.plot(y_test,y_test,color=\"r\")\n",
    "plt.xlabel(\"Actual sales\",fontsize=14)\n",
    "plt.ylabel(\"Predicted sales\",fontsize=14)\n",
    "plt.title(\"LINEAR REGRESSION for Lasso \")\n",
    "plt.savefig('lr.png')\n",
    "plt.show()"
   ]
  },
  {
   "cell_type": "markdown",
   "id": "16586361",
   "metadata": {},
   "source": [
    "Random Forest Regressor Model Build:"
   ]
  },
  {
   "cell_type": "code",
   "execution_count": 58,
   "id": "780b60ba",
   "metadata": {},
   "outputs": [
    {
     "name": "stdout",
     "output_type": "stream",
     "text": [
      "r2 score=  97.73223689095448\n",
      "MSE=  0.5216563599999963\n",
      "RMSE=  0.7222578210029963\n"
     ]
    }
   ],
   "source": [
    "rf = RandomForestRegressor()\n",
    "rf.fit(x_train,y_train)\n",
    "predrf = rf.predict(x_test)\n",
    "print(\"r2 score= \",r2_score(y_test,predrf)*100)\n",
    "print(\"MSE= \",mean_squared_error(y_test,predrf))\n",
    "print(\"RMSE= \",np.sqrt(mean_squared_error(y_test,predrf)))"
   ]
  },
  {
   "cell_type": "code",
   "execution_count": 59,
   "id": "6ad8fa04",
   "metadata": {},
   "outputs": [
    {
     "name": "stdout",
     "output_type": "stream",
     "text": [
      " At cv = 4\n",
      "Cross validation score for RandomForestRegresso Model is  97.87008122661615\n",
      " At cv = 5\n",
      "Cross validation score for RandomForestRegresso Model is  97.58531689277036\n",
      " At cv = 6\n",
      "Cross validation score for RandomForestRegresso Model is  97.7763917840273\n",
      " At cv = 7\n",
      "Cross validation score for RandomForestRegresso Model is  97.67637762322502\n",
      " At cv = 8\n",
      "Cross validation score for RandomForestRegresso Model is  97.91500120954669\n",
      " At cv = 9\n",
      "Cross validation score for RandomForestRegresso Model is  97.75998331565039\n"
     ]
    }
   ],
   "source": [
    "for j in range(4,10):\n",
    "    scr = cross_val_score(rf,x,y,cv=j)\n",
    "    print(\" At cv =\",j)\n",
    "    print('Cross validation score for RandomForestRegresso Model is ',scr.mean()*100)"
   ]
  },
  {
   "cell_type": "code",
   "execution_count": 60,
   "id": "4ecfd969",
   "metadata": {},
   "outputs": [
    {
     "name": "stdout",
     "output_type": "stream",
     "text": [
      "Random Forest Regressor Model Difference is 0.23999999999999488\n"
     ]
    }
   ],
   "source": [
    "print(\"Random Forest Regressor Model Difference is\", 97.69 - 97.45)"
   ]
  },
  {
   "cell_type": "markdown",
   "id": "96a65ac6",
   "metadata": {},
   "source": [
    "# choosing best model"
   ]
  },
  {
   "cell_type": "markdown",
   "id": "32764065",
   "metadata": {},
   "source": [
    "Random Forest Regressor Model  is our best model:\n",
    "    \n",
    "minimum difference between cross validation and r2 score\n",
    "\n",
    "MER and RMSE is also 0"
   ]
  },
  {
   "cell_type": "markdown",
   "id": "f0276f20",
   "metadata": {},
   "source": [
    "Lenear Regression graph for Random Forest Regressor Model"
   ]
  },
  {
   "cell_type": "code",
   "execution_count": 61,
   "id": "3ef560d9",
   "metadata": {},
   "outputs": [
    {
     "data": {
      "image/png": "[encoded data removed]",
      "text/plain": [
       "<Figure size 720x504 with 1 Axes>"
      ]
     },
     "metadata": {
      "needs_background": "light"
     },
     "output_type": "display_data"
    }
   ],
   "source": [
    "plt.figure(figsize=(10,7))\n",
    "plt.scatter(x=y_test,y=predrf,color=\"b\")\n",
    "plt.plot(y_test,y_test,color=\"r\")\n",
    "plt.xlabel(\"Actual sales\",fontsize=14)\n",
    "plt.ylabel(\"Predicted sales\",fontsize=14)\n",
    "plt.title(\"LINEAR REGRESSION for Random Forest\")\n",
    "plt.savefig('lr.png')\n",
    "plt.show()"
   ]
  },
  {
   "cell_type": "markdown",
   "id": "93504e57",
   "metadata": {},
   "source": [
    "best fit line covering most of the data point which show good fit of over model"
   ]
  },
  {
   "cell_type": "markdown",
   "id": "1dc4d82a",
   "metadata": {},
   "source": [
    "# Compair All Model Performance"
   ]
  },
  {
   "cell_type": "code",
   "execution_count": 62,
   "id": "0b3cd154",
   "metadata": {},
   "outputs": [
    {
     "data": {
      "text/html": [
       "<div>\n",
       "<style scoped>\n",
       "    .dataframe tbody tr th:only-of-type {\n",
       "        vertical-align: middle;\n",
       "    }\n",
       "\n",
       "    .dataframe tbody tr th {\n",
       "        vertical-align: top;\n",
       "    }\n",
       "\n",
       "    .dataframe thead th {\n",
       "        text-align: right;\n",
       "    }\n",
       "</style>\n",
       "<table border=\"1\" class=\"dataframe\">\n",
       "  <thead>\n",
       "    <tr style=\"text-align: right;\">\n",
       "      <th></th>\n",
       "      <th>Model</th>\n",
       "      <th>R2 Score</th>\n",
       "      <th>CV score</th>\n",
       "      <th>diff bet CVscore $ r2 score</th>\n",
       "      <th>MSE</th>\n",
       "      <th>RMSE</th>\n",
       "    </tr>\n",
       "  </thead>\n",
       "  <tbody>\n",
       "    <tr>\n",
       "      <th>0</th>\n",
       "      <td>Linear Regression</td>\n",
       "      <td>94.01</td>\n",
       "      <td>90.33</td>\n",
       "      <td>3.6</td>\n",
       "      <td>1.30</td>\n",
       "      <td>1.10</td>\n",
       "    </tr>\n",
       "    <tr>\n",
       "      <th>1</th>\n",
       "      <td>Ridge Regression</td>\n",
       "      <td>93.97</td>\n",
       "      <td>90.32</td>\n",
       "      <td>3.6</td>\n",
       "      <td>1.30</td>\n",
       "      <td>1.10</td>\n",
       "    </tr>\n",
       "    <tr>\n",
       "      <th>2</th>\n",
       "      <td>Lasso Regression</td>\n",
       "      <td>85.79</td>\n",
       "      <td>83.00</td>\n",
       "      <td>2.7</td>\n",
       "      <td>3.20</td>\n",
       "      <td>1.80</td>\n",
       "    </tr>\n",
       "    <tr>\n",
       "      <th>3</th>\n",
       "      <td>RandomForest Regressor</td>\n",
       "      <td>97.64</td>\n",
       "      <td>97.45</td>\n",
       "      <td>0.1</td>\n",
       "      <td>0.54</td>\n",
       "      <td>0.74</td>\n",
       "    </tr>\n",
       "  </tbody>\n",
       "</table>\n",
       "</div>"
      ],
      "text/plain": [
       "                    Model  R2 Score  CV score  diff bet CVscore $ r2 score  \\\n",
       "0       Linear Regression     94.01     90.33                          3.6   \n",
       "1        Ridge Regression     93.97     90.32                          3.6   \n",
       "2        Lasso Regression     85.79     83.00                          2.7   \n",
       "3  RandomForest Regressor     97.64     97.45                          0.1   \n",
       "\n",
       "    MSE  RMSE  \n",
       "0  1.30  1.10  \n",
       "1  1.30  1.10  \n",
       "2  3.20  1.80  \n",
       "3  0.54  0.74  "
      ]
     },
     "execution_count": 62,
     "metadata": {},
     "output_type": "execute_result"
    }
   ],
   "source": [
    "results = pd.DataFrame({\n",
    "    'Model': ['Linear Regression',\"Ridge Regression\", 'Lasso Regression','RandomForest Regressor'],\n",
    "    'R2 Score': [94.01,93.97,85.79,97.64],\n",
    "     \"CV score\":[90.33,90.32,83.00,97.45],\n",
    "     \"diff bet CVscore $ r2 score\":[3.6,3.6,2.7,0.1],\n",
    "     \"MSE\":[1.3,1.3,3.2,0.54],\n",
    "     \"RMSE\":[1.1,1.1,1.8,0.74]})\n",
    "results"
   ]
  },
  {
   "cell_type": "markdown",
   "id": "8e11376c",
   "metadata": {},
   "source": [
    "# Hyper Parameter Tuning For Random State"
   ]
  },
  {
   "cell_type": "code",
   "execution_count": 64,
   "id": "f9f081cb",
   "metadata": {},
   "outputs": [
    {
     "name": "stdout",
     "output_type": "stream",
     "text": [
      "{'criterion': 'mae', 'max_features': 'auto'}\n"
     ]
    }
   ],
   "source": [
    "param={\"criterion\":['mse','mae'],\"max_features\":[\"auto\",\"sqrt\",\"log2\"]}\n",
    "rf= RandomForestRegressor()\n",
    "grd=GridSearchCV(rf,param)\n",
    "grd.fit( x_train,y_train)\n",
    "print(grd.best_params_)\n"
   ]
  },
  {
   "cell_type": "markdown",
   "id": "2ad15b82",
   "metadata": {},
   "source": [
    "# Obtaining the Best Parameters for Hyper parameters tuning"
   ]
  },
  {
   "cell_type": "code",
   "execution_count": 66,
   "id": "7fd21231",
   "metadata": {},
   "outputs": [
    {
     "name": "stdout",
     "output_type": "stream",
     "text": [
      "r2 score=  97.37192330919923\n",
      "Cross validation score for RandomForestRegresso Model is  97.64712669730314\n",
      "MSE=  0.6045397399999947\n",
      "RMSE=  0.7775215366792065\n"
     ]
    }
   ],
   "source": [
    "rf = RandomForestRegressor(criterion = 'mae', max_features= 'auto', random_state= 56)\n",
    "rf.fit(x_train,y_train)\n",
    "predrf = rf.predict(x_test)\n",
    "scr = cross_val_score(rf,x,y,cv=5)\n",
    "print(\"r2 score= \",r2_score(y_test,predrf)*100)\n",
    "print('Cross validation score for RandomForestRegresso Model is ',scr.mean()*100)\n",
    "print(\"MSE= \",mean_squared_error(y_test,predrf))\n",
    "print(\"RMSE= \",np.sqrt(mean_squared_error(y_test,predrf)))"
   ]
  },
  {
   "cell_type": "markdown",
   "id": "40f7c14a",
   "metadata": {},
   "source": [
    "# we are getting model accurecy and cross validation score both are 97% shows our model is performing extremly well"
   ]
  },
  {
   "cell_type": "markdown",
   "id": "444c4051",
   "metadata": {},
   "source": [
    "# save model"
   ]
  },
  {
   "cell_type": "code",
   "execution_count": 67,
   "id": "e451b50c",
   "metadata": {},
   "outputs": [],
   "source": [
    "import pickle\n",
    "\n",
    "filename=\"sales.pkl\"\n",
    "pickle.dump(rf,open(filename,\"wb\"))"
   ]
  },
  {
   "cell_type": "markdown",
   "id": "97c32625",
   "metadata": {},
   "source": [
    "# load model"
   ]
  },
  {
   "cell_type": "code",
   "execution_count": 68,
   "id": "96a2be5c",
   "metadata": {},
   "outputs": [
    {
     "name": "stdout",
     "output_type": "stream",
     "text": [
      "97.37192330919923\n"
     ]
    }
   ],
   "source": [
    "loaded_model=pickle.load(open(\"sales.pkl\",\"rb\"))\n",
    "result=loaded_model.score(x_test,y_test)\n",
    "print(result*100)"
   ]
  },
  {
   "cell_type": "markdown",
   "id": "ef3873d5",
   "metadata": {},
   "source": [
    "# conclusion"
   ]
  },
  {
   "cell_type": "code",
   "execution_count": 70,
   "id": "211624d8",
   "metadata": {},
   "outputs": [],
   "source": [
    "conclusion=pd.DataFrame([loaded_model.predict(x_test)[:],predrf[:]],index=[\"predicted\",\"original\"])"
   ]
  },
  {
   "cell_type": "code",
   "execution_count": 74,
   "id": "00987bb5",
   "metadata": {},
   "outputs": [
    {
     "data": {
      "text/html": [
       "<div>\n",
       "<style scoped>\n",
       "    .dataframe tbody tr th:only-of-type {\n",
       "        vertical-align: middle;\n",
       "    }\n",
       "\n",
       "    .dataframe tbody tr th {\n",
       "        vertical-align: top;\n",
       "    }\n",
       "\n",
       "    .dataframe thead th {\n",
       "        text-align: right;\n",
       "    }\n",
       "</style>\n",
       "<table border=\"1\" class=\"dataframe\">\n",
       "  <thead>\n",
       "    <tr style=\"text-align: right;\">\n",
       "      <th></th>\n",
       "      <th>0</th>\n",
       "      <th>1</th>\n",
       "      <th>2</th>\n",
       "      <th>3</th>\n",
       "      <th>4</th>\n",
       "      <th>5</th>\n",
       "      <th>6</th>\n",
       "      <th>7</th>\n",
       "      <th>8</th>\n",
       "      <th>9</th>\n",
       "      <th>...</th>\n",
       "      <th>40</th>\n",
       "      <th>41</th>\n",
       "      <th>42</th>\n",
       "      <th>43</th>\n",
       "      <th>44</th>\n",
       "      <th>45</th>\n",
       "      <th>46</th>\n",
       "      <th>47</th>\n",
       "      <th>48</th>\n",
       "      <th>49</th>\n",
       "    </tr>\n",
       "  </thead>\n",
       "  <tbody>\n",
       "    <tr>\n",
       "      <th>predicted</th>\n",
       "      <td>22.96</td>\n",
       "      <td>15.049</td>\n",
       "      <td>13.404</td>\n",
       "      <td>12.193</td>\n",
       "      <td>12.382</td>\n",
       "      <td>14.974</td>\n",
       "      <td>14.081</td>\n",
       "      <td>18.162</td>\n",
       "      <td>4.964</td>\n",
       "      <td>17.949</td>\n",
       "      <td>...</td>\n",
       "      <td>9.724</td>\n",
       "      <td>12.641</td>\n",
       "      <td>8.553</td>\n",
       "      <td>5.121</td>\n",
       "      <td>15.164</td>\n",
       "      <td>7.171</td>\n",
       "      <td>15.903</td>\n",
       "      <td>15.747</td>\n",
       "      <td>12.719</td>\n",
       "      <td>10.974</td>\n",
       "    </tr>\n",
       "    <tr>\n",
       "      <th>original</th>\n",
       "      <td>22.96</td>\n",
       "      <td>15.049</td>\n",
       "      <td>13.404</td>\n",
       "      <td>12.193</td>\n",
       "      <td>12.382</td>\n",
       "      <td>14.974</td>\n",
       "      <td>14.081</td>\n",
       "      <td>18.162</td>\n",
       "      <td>4.964</td>\n",
       "      <td>17.949</td>\n",
       "      <td>...</td>\n",
       "      <td>9.724</td>\n",
       "      <td>12.641</td>\n",
       "      <td>8.553</td>\n",
       "      <td>5.121</td>\n",
       "      <td>15.164</td>\n",
       "      <td>7.171</td>\n",
       "      <td>15.903</td>\n",
       "      <td>15.747</td>\n",
       "      <td>12.719</td>\n",
       "      <td>10.974</td>\n",
       "    </tr>\n",
       "  </tbody>\n",
       "</table>\n",
       "<p>2 rows × 50 columns</p>\n",
       "</div>"
      ],
      "text/plain": [
       "              0       1       2       3       4       5       6       7   \\\n",
       "predicted  22.96  15.049  13.404  12.193  12.382  14.974  14.081  18.162   \n",
       "original   22.96  15.049  13.404  12.193  12.382  14.974  14.081  18.162   \n",
       "\n",
       "              8       9   ...     40      41     42     43      44     45  \\\n",
       "predicted  4.964  17.949  ...  9.724  12.641  8.553  5.121  15.164  7.171   \n",
       "original   4.964  17.949  ...  9.724  12.641  8.553  5.121  15.164  7.171   \n",
       "\n",
       "               46      47      48      49  \n",
       "predicted  15.903  15.747  12.719  10.974  \n",
       "original   15.903  15.747  12.719  10.974  \n",
       "\n",
       "[2 rows x 50 columns]"
      ]
     },
     "execution_count": 74,
     "metadata": {},
     "output_type": "execute_result"
    }
   ],
   "source": [
    "conclusion"
   ]
  },
  {
   "cell_type": "code",
   "execution_count": 75,
   "id": "2c4d1180",
   "metadata": {},
   "outputs": [
    {
     "data": {
      "text/html": [
       "<div>\n",
       "<style scoped>\n",
       "    .dataframe tbody tr th:only-of-type {\n",
       "        vertical-align: middle;\n",
       "    }\n",
       "\n",
       "    .dataframe tbody tr th {\n",
       "        vertical-align: top;\n",
       "    }\n",
       "\n",
       "    .dataframe thead th {\n",
       "        text-align: right;\n",
       "    }\n",
       "</style>\n",
       "<table border=\"1\" class=\"dataframe\">\n",
       "  <thead>\n",
       "    <tr style=\"text-align: right;\">\n",
       "      <th></th>\n",
       "      <th>predicted</th>\n",
       "      <th>original</th>\n",
       "    </tr>\n",
       "  </thead>\n",
       "  <tbody>\n",
       "    <tr>\n",
       "      <th>0</th>\n",
       "      <td>22.960</td>\n",
       "      <td>22.960</td>\n",
       "    </tr>\n",
       "    <tr>\n",
       "      <th>1</th>\n",
       "      <td>15.049</td>\n",
       "      <td>15.049</td>\n",
       "    </tr>\n",
       "    <tr>\n",
       "      <th>2</th>\n",
       "      <td>13.404</td>\n",
       "      <td>13.404</td>\n",
       "    </tr>\n",
       "    <tr>\n",
       "      <th>3</th>\n",
       "      <td>12.193</td>\n",
       "      <td>12.193</td>\n",
       "    </tr>\n",
       "    <tr>\n",
       "      <th>4</th>\n",
       "      <td>12.382</td>\n",
       "      <td>12.382</td>\n",
       "    </tr>\n",
       "    <tr>\n",
       "      <th>5</th>\n",
       "      <td>14.974</td>\n",
       "      <td>14.974</td>\n",
       "    </tr>\n",
       "    <tr>\n",
       "      <th>6</th>\n",
       "      <td>14.081</td>\n",
       "      <td>14.081</td>\n",
       "    </tr>\n",
       "    <tr>\n",
       "      <th>7</th>\n",
       "      <td>18.162</td>\n",
       "      <td>18.162</td>\n",
       "    </tr>\n",
       "    <tr>\n",
       "      <th>8</th>\n",
       "      <td>4.964</td>\n",
       "      <td>4.964</td>\n",
       "    </tr>\n",
       "    <tr>\n",
       "      <th>9</th>\n",
       "      <td>17.949</td>\n",
       "      <td>17.949</td>\n",
       "    </tr>\n",
       "    <tr>\n",
       "      <th>10</th>\n",
       "      <td>10.057</td>\n",
       "      <td>10.057</td>\n",
       "    </tr>\n",
       "    <tr>\n",
       "      <th>11</th>\n",
       "      <td>9.011</td>\n",
       "      <td>9.011</td>\n",
       "    </tr>\n",
       "    <tr>\n",
       "      <th>12</th>\n",
       "      <td>15.421</td>\n",
       "      <td>15.421</td>\n",
       "    </tr>\n",
       "    <tr>\n",
       "      <th>13</th>\n",
       "      <td>25.264</td>\n",
       "      <td>25.264</td>\n",
       "    </tr>\n",
       "    <tr>\n",
       "      <th>14</th>\n",
       "      <td>10.361</td>\n",
       "      <td>10.361</td>\n",
       "    </tr>\n",
       "    <tr>\n",
       "      <th>15</th>\n",
       "      <td>23.638</td>\n",
       "      <td>23.638</td>\n",
       "    </tr>\n",
       "    <tr>\n",
       "      <th>16</th>\n",
       "      <td>10.417</td>\n",
       "      <td>10.417</td>\n",
       "    </tr>\n",
       "    <tr>\n",
       "      <th>17</th>\n",
       "      <td>12.200</td>\n",
       "      <td>12.200</td>\n",
       "    </tr>\n",
       "    <tr>\n",
       "      <th>18</th>\n",
       "      <td>12.073</td>\n",
       "      <td>12.073</td>\n",
       "    </tr>\n",
       "    <tr>\n",
       "      <th>19</th>\n",
       "      <td>10.242</td>\n",
       "      <td>10.242</td>\n",
       "    </tr>\n",
       "    <tr>\n",
       "      <th>20</th>\n",
       "      <td>10.725</td>\n",
       "      <td>10.725</td>\n",
       "    </tr>\n",
       "    <tr>\n",
       "      <th>21</th>\n",
       "      <td>14.134</td>\n",
       "      <td>14.134</td>\n",
       "    </tr>\n",
       "    <tr>\n",
       "      <th>22</th>\n",
       "      <td>19.726</td>\n",
       "      <td>19.726</td>\n",
       "    </tr>\n",
       "    <tr>\n",
       "      <th>23</th>\n",
       "      <td>19.446</td>\n",
       "      <td>19.446</td>\n",
       "    </tr>\n",
       "    <tr>\n",
       "      <th>24</th>\n",
       "      <td>10.699</td>\n",
       "      <td>10.699</td>\n",
       "    </tr>\n",
       "    <tr>\n",
       "      <th>25</th>\n",
       "      <td>13.929</td>\n",
       "      <td>13.929</td>\n",
       "    </tr>\n",
       "    <tr>\n",
       "      <th>26</th>\n",
       "      <td>19.000</td>\n",
       "      <td>19.000</td>\n",
       "    </tr>\n",
       "    <tr>\n",
       "      <th>27</th>\n",
       "      <td>15.315</td>\n",
       "      <td>15.315</td>\n",
       "    </tr>\n",
       "    <tr>\n",
       "      <th>28</th>\n",
       "      <td>22.419</td>\n",
       "      <td>22.419</td>\n",
       "    </tr>\n",
       "    <tr>\n",
       "      <th>29</th>\n",
       "      <td>16.213</td>\n",
       "      <td>16.213</td>\n",
       "    </tr>\n",
       "    <tr>\n",
       "      <th>30</th>\n",
       "      <td>15.368</td>\n",
       "      <td>15.368</td>\n",
       "    </tr>\n",
       "    <tr>\n",
       "      <th>31</th>\n",
       "      <td>12.103</td>\n",
       "      <td>12.103</td>\n",
       "    </tr>\n",
       "    <tr>\n",
       "      <th>32</th>\n",
       "      <td>17.779</td>\n",
       "      <td>17.779</td>\n",
       "    </tr>\n",
       "    <tr>\n",
       "      <th>33</th>\n",
       "      <td>9.596</td>\n",
       "      <td>9.596</td>\n",
       "    </tr>\n",
       "    <tr>\n",
       "      <th>34</th>\n",
       "      <td>13.606</td>\n",
       "      <td>13.606</td>\n",
       "    </tr>\n",
       "    <tr>\n",
       "      <th>35</th>\n",
       "      <td>15.716</td>\n",
       "      <td>15.716</td>\n",
       "    </tr>\n",
       "    <tr>\n",
       "      <th>36</th>\n",
       "      <td>19.063</td>\n",
       "      <td>19.063</td>\n",
       "    </tr>\n",
       "    <tr>\n",
       "      <th>37</th>\n",
       "      <td>11.401</td>\n",
       "      <td>11.401</td>\n",
       "    </tr>\n",
       "    <tr>\n",
       "      <th>38</th>\n",
       "      <td>17.610</td>\n",
       "      <td>17.610</td>\n",
       "    </tr>\n",
       "    <tr>\n",
       "      <th>39</th>\n",
       "      <td>22.662</td>\n",
       "      <td>22.662</td>\n",
       "    </tr>\n",
       "    <tr>\n",
       "      <th>40</th>\n",
       "      <td>9.724</td>\n",
       "      <td>9.724</td>\n",
       "    </tr>\n",
       "    <tr>\n",
       "      <th>41</th>\n",
       "      <td>12.641</td>\n",
       "      <td>12.641</td>\n",
       "    </tr>\n",
       "    <tr>\n",
       "      <th>42</th>\n",
       "      <td>8.553</td>\n",
       "      <td>8.553</td>\n",
       "    </tr>\n",
       "    <tr>\n",
       "      <th>43</th>\n",
       "      <td>5.121</td>\n",
       "      <td>5.121</td>\n",
       "    </tr>\n",
       "    <tr>\n",
       "      <th>44</th>\n",
       "      <td>15.164</td>\n",
       "      <td>15.164</td>\n",
       "    </tr>\n",
       "    <tr>\n",
       "      <th>45</th>\n",
       "      <td>7.171</td>\n",
       "      <td>7.171</td>\n",
       "    </tr>\n",
       "    <tr>\n",
       "      <th>46</th>\n",
       "      <td>15.903</td>\n",
       "      <td>15.903</td>\n",
       "    </tr>\n",
       "    <tr>\n",
       "      <th>47</th>\n",
       "      <td>15.747</td>\n",
       "      <td>15.747</td>\n",
       "    </tr>\n",
       "    <tr>\n",
       "      <th>48</th>\n",
       "      <td>12.719</td>\n",
       "      <td>12.719</td>\n",
       "    </tr>\n",
       "    <tr>\n",
       "      <th>49</th>\n",
       "      <td>10.974</td>\n",
       "      <td>10.974</td>\n",
       "    </tr>\n",
       "  </tbody>\n",
       "</table>\n",
       "</div>"
      ],
      "text/plain": [
       "    predicted  original\n",
       "0      22.960    22.960\n",
       "1      15.049    15.049\n",
       "2      13.404    13.404\n",
       "3      12.193    12.193\n",
       "4      12.382    12.382\n",
       "5      14.974    14.974\n",
       "6      14.081    14.081\n",
       "7      18.162    18.162\n",
       "8       4.964     4.964\n",
       "9      17.949    17.949\n",
       "10     10.057    10.057\n",
       "11      9.011     9.011\n",
       "12     15.421    15.421\n",
       "13     25.264    25.264\n",
       "14     10.361    10.361\n",
       "15     23.638    23.638\n",
       "16     10.417    10.417\n",
       "17     12.200    12.200\n",
       "18     12.073    12.073\n",
       "19     10.242    10.242\n",
       "20     10.725    10.725\n",
       "21     14.134    14.134\n",
       "22     19.726    19.726\n",
       "23     19.446    19.446\n",
       "24     10.699    10.699\n",
       "25     13.929    13.929\n",
       "26     19.000    19.000\n",
       "27     15.315    15.315\n",
       "28     22.419    22.419\n",
       "29     16.213    16.213\n",
       "30     15.368    15.368\n",
       "31     12.103    12.103\n",
       "32     17.779    17.779\n",
       "33      9.596     9.596\n",
       "34     13.606    13.606\n",
       "35     15.716    15.716\n",
       "36     19.063    19.063\n",
       "37     11.401    11.401\n",
       "38     17.610    17.610\n",
       "39     22.662    22.662\n",
       "40      9.724     9.724\n",
       "41     12.641    12.641\n",
       "42      8.553     8.553\n",
       "43      5.121     5.121\n",
       "44     15.164    15.164\n",
       "45      7.171     7.171\n",
       "46     15.903    15.903\n",
       "47     15.747    15.747\n",
       "48     12.719    12.719\n",
       "49     10.974    10.974"
      ]
     },
     "execution_count": 75,
     "metadata": {},
     "output_type": "execute_result"
    }
   ],
   "source": [
    "conclusion.transpose()"
   ]
  },
  {
   "cell_type": "code",
   "execution_count": null,
   "id": "33627fc3",
   "metadata": {},
   "outputs": [],
   "source": []
  }
 ],
 "metadata": {
  "kernelspec": {
   "display_name": "Python 3 (ipykernel)",
   "language": "python",
   "name": "python3"
  },
  "language_info": {
   "codemirror_mode": {
    "name": "ipython",
    "version": 3
   },
   "file_extension": ".py",
   "mimetype": "text/x-python",
   "name": "python",
   "nbconvert_exporter": "python",
   "pygments_lexer": "ipython3",
   "version": "3.9.7"
  }
 },
 "nbformat": 4,
 "nbformat_minor": 5
}
