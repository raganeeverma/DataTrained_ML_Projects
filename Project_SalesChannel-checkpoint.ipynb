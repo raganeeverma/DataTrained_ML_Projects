{
 "cells": [
  {
   "cell_type": "markdown",
   "id": "8d4b18f4",
   "metadata": {},
   "source": [
    "# Sales Channel Prediction Case Study\n",
    "\n",
    "The advertising dataset captures sales revenue generated with respect to advertisement spends across multiple channles like radio, tv and newspaper."
   ]
  },
  {
   "cell_type": "markdown",
   "id": "8419e362",
   "metadata": {},
   "source": [
    "# Understanding Dataset\n",
    "\n",
    "TV: advertising dollars spent on TV for a single product in a given market (in thousands of dollars)\n",
    "\n",
    "Radio: advertising dollars spent on Radio\n",
    "\n",
    "Newspaper: advertising dollars spent on Newspaper"
   ]
  },
  {
   "cell_type": "markdown",
   "id": "09529824",
   "metadata": {},
   "source": [
    "# Targetc :\n",
    "\n",
    "Sales budget in thousands of dollars"
   ]
  },
  {
   "cell_type": "markdown",
   "id": "41d0a5b4",
   "metadata": {},
   "source": [
    "# Importing Libraries"
   ]
  },
  {
   "cell_type": "code",
   "execution_count": 1,
   "id": "cdd35bbb",
   "metadata": {},
   "outputs": [],
   "source": [
    "#Importing required packages.\n",
    "\n",
    "import pandas as pd\n",
    "import numpy as np\n",
    "import scipy.stats as st\n",
    "\n",
    "#ploting libraries\n",
    "import matplotlib.pyplot as plt\n",
    "import seaborn as sns\n",
    "\n",
    "\n",
    "#feature engineering\n",
    "\n",
    "from sklearn.preprocessing import StandardScaler, LabelEncoder\n",
    "\n",
    "#train test split and #cross validation\n",
    "from sklearn.model_selection import train_test_split, GridSearchCV, cross_val_score\n",
    "from scipy.stats import zscore\n",
    "\n",
    "#metrics\n",
    "from sklearn.metrics import confusion_matrix, classification_report,accuracy_score\n",
    "from sklearn.metrics import r2_score,mean_squared_error\n",
    "\n",
    "#ML models\n",
    "import sklearn\n",
    "from sklearn.svm import SVC\n",
    "from sklearn.neighbors import KNeighborsClassifier\n",
    "from sklearn.tree import DecisionTreeClassifier\n",
    "from sklearn.ensemble import RandomForestClassifier\n",
    "\n",
    "from sklearn.linear_model import LogisticRegression\n",
    "from sklearn.linear_model import SGDClassifier\n",
    "from sklearn.linear_model import LinearRegression, Ridge, Lasso\n",
    "from sklearn.ensemble import RandomForestRegressor\n",
    "\n",
    "\n",
    "\n",
    "%matplotlib inline\n",
    "import warnings\n",
    "warnings.filterwarnings('ignore')"
   ]
  },
  {
   "cell_type": "markdown",
   "id": "af376aa1",
   "metadata": {},
   "source": [
    "# importing Dataset and Data Information"
   ]
  },
  {
   "cell_type": "code",
   "execution_count": 2,
   "id": "b2a16d41",
   "metadata": {},
   "outputs": [],
   "source": [
    "#Loading dataset\n",
    "df=pd.read_csv('sales_channel.csv')\n"
   ]
  },
  {
   "cell_type": "code",
   "execution_count": 3,
   "id": "9731b76d",
   "metadata": {},
   "outputs": [
    {
     "data": {
      "text/html": [
       "<div>\n",
       "<style scoped>\n",
       "    .dataframe tbody tr th:only-of-type {\n",
       "        vertical-align: middle;\n",
       "    }\n",
       "\n",
       "    .dataframe tbody tr th {\n",
       "        vertical-align: top;\n",
       "    }\n",
       "\n",
       "    .dataframe thead th {\n",
       "        text-align: right;\n",
       "    }\n",
       "</style>\n",
       "<table border=\"1\" class=\"dataframe\">\n",
       "  <thead>\n",
       "    <tr style=\"text-align: right;\">\n",
       "      <th></th>\n",
       "      <th>Unnamed: 0</th>\n",
       "      <th>TV</th>\n",
       "      <th>radio</th>\n",
       "      <th>newspaper</th>\n",
       "      <th>sales</th>\n",
       "    </tr>\n",
       "  </thead>\n",
       "  <tbody>\n",
       "    <tr>\n",
       "      <th>0</th>\n",
       "      <td>1</td>\n",
       "      <td>230.1</td>\n",
       "      <td>37.8</td>\n",
       "      <td>69.2</td>\n",
       "      <td>22.1</td>\n",
       "    </tr>\n",
       "    <tr>\n",
       "      <th>1</th>\n",
       "      <td>2</td>\n",
       "      <td>44.5</td>\n",
       "      <td>39.3</td>\n",
       "      <td>45.1</td>\n",
       "      <td>10.4</td>\n",
       "    </tr>\n",
       "    <tr>\n",
       "      <th>2</th>\n",
       "      <td>3</td>\n",
       "      <td>17.2</td>\n",
       "      <td>45.9</td>\n",
       "      <td>69.3</td>\n",
       "      <td>9.3</td>\n",
       "    </tr>\n",
       "    <tr>\n",
       "      <th>3</th>\n",
       "      <td>4</td>\n",
       "      <td>151.5</td>\n",
       "      <td>41.3</td>\n",
       "      <td>58.5</td>\n",
       "      <td>18.5</td>\n",
       "    </tr>\n",
       "    <tr>\n",
       "      <th>4</th>\n",
       "      <td>5</td>\n",
       "      <td>180.8</td>\n",
       "      <td>10.8</td>\n",
       "      <td>58.4</td>\n",
       "      <td>12.9</td>\n",
       "    </tr>\n",
       "  </tbody>\n",
       "</table>\n",
       "</div>"
      ],
      "text/plain": [
       "   Unnamed: 0     TV  radio  newspaper  sales\n",
       "0           1  230.1   37.8       69.2   22.1\n",
       "1           2   44.5   39.3       45.1   10.4\n",
       "2           3   17.2   45.9       69.3    9.3\n",
       "3           4  151.5   41.3       58.5   18.5\n",
       "4           5  180.8   10.8       58.4   12.9"
      ]
     },
     "execution_count": 3,
     "metadata": {},
     "output_type": "execute_result"
    }
   ],
   "source": [
    "#Let's check how the data is distributed\n",
    "df.head()"
   ]
  },
  {
   "cell_type": "code",
   "execution_count": 4,
   "id": "054844f8",
   "metadata": {},
   "outputs": [
    {
     "data": {
      "text/plain": [
       "Index(['Unnamed: 0', 'TV', 'radio', 'newspaper', 'sales'], dtype='object')"
      ]
     },
     "execution_count": 4,
     "metadata": {},
     "output_type": "execute_result"
    }
   ],
   "source": [
    "df.columns"
   ]
  },
  {
   "cell_type": "code",
   "execution_count": 9,
   "id": "c2bc5ed3",
   "metadata": {},
   "outputs": [],
   "source": [
    "# no need of unnamed column so we can drop it\n",
    "\n",
    "df.drop(['Unnamed: 0'],axis = 1,inplace=True)"
   ]
  },
  {
   "cell_type": "code",
   "execution_count": 10,
   "id": "c23de25c",
   "metadata": {},
   "outputs": [
    {
     "data": {
      "text/plain": [
       "(200, 4)"
      ]
     },
     "execution_count": 10,
     "metadata": {},
     "output_type": "execute_result"
    }
   ],
   "source": [
    "# no. of rows and columns\n",
    "df.shape"
   ]
  },
  {
   "cell_type": "code",
   "execution_count": 11,
   "id": "a115e3db",
   "metadata": {},
   "outputs": [
    {
     "name": "stdout",
     "output_type": "stream",
     "text": [
      "<class 'pandas.core.frame.DataFrame'>\n",
      "RangeIndex: 200 entries, 0 to 199\n",
      "Data columns (total 4 columns):\n",
      " #   Column     Non-Null Count  Dtype  \n",
      "---  ------     --------------  -----  \n",
      " 0   TV         200 non-null    float64\n",
      " 1   radio      200 non-null    float64\n",
      " 2   newspaper  200 non-null    float64\n",
      " 3   sales      200 non-null    float64\n",
      "dtypes: float64(4)\n",
      "memory usage: 6.4 KB\n"
     ]
    }
   ],
   "source": [
    "# check datatypes and memory captured\n",
    "df.info()"
   ]
  },
  {
   "cell_type": "markdown",
   "id": "88180afe",
   "metadata": {},
   "source": [
    "observation:\n",
    "    \n",
    "Reviewing Data Set at initial stage, found continous datatypes; Target variable data is sales which seems to represent regression problem"
   ]
  },
  {
   "cell_type": "code",
   "execution_count": 13,
   "id": "f739fc5a",
   "metadata": {},
   "outputs": [
    {
     "data": {
      "text/plain": [
       "TV           0\n",
       "radio        0\n",
       "newspaper    0\n",
       "sales        0\n",
       "dtype: int64"
      ]
     },
     "execution_count": 13,
     "metadata": {},
     "output_type": "execute_result"
    }
   ],
   "source": [
    "# check for null values\n",
    "df.isnull().sum()"
   ]
  },
  {
   "cell_type": "code",
   "execution_count": 14,
   "id": "15567351",
   "metadata": {},
   "outputs": [
    {
     "data": {
      "text/plain": [
       "<AxesSubplot:>"
      ]
     },
     "execution_count": 14,
     "metadata": {},
     "output_type": "execute_result"
    },
    {
     "data": {
      "image/png": "[encoded data removed]",
      "text/plain": [
       "<Figure size 432x288 with 1 Axes>"
      ]
     },
     "metadata": {
      "needs_background": "light"
     },
     "output_type": "display_data"
    }
   ],
   "source": [
    "sns.heatmap(df.isnull(),yticklabels=False,cbar=False,cmap=\"viridis\")##check missing value through visualization"
   ]
  },
  {
   "cell_type": "markdown",
   "id": "0f25cd49",
   "metadata": {},
   "source": [
    "There are no null or missing values in data set"
   ]
  },
  {
   "cell_type": "markdown",
   "id": "6e5213fa",
   "metadata": {},
   "source": [
    "# Duplicate"
   ]
  },
  {
   "cell_type": "code",
   "execution_count": 15,
   "id": "99c6f68f",
   "metadata": {},
   "outputs": [
    {
     "data": {
      "text/html": [
       "<div>\n",
       "<style scoped>\n",
       "    .dataframe tbody tr th:only-of-type {\n",
       "        vertical-align: middle;\n",
       "    }\n",
       "\n",
       "    .dataframe tbody tr th {\n",
       "        vertical-align: top;\n",
       "    }\n",
       "\n",
       "    .dataframe thead th {\n",
       "        text-align: right;\n",
       "    }\n",
       "</style>\n",
       "<table border=\"1\" class=\"dataframe\">\n",
       "  <thead>\n",
       "    <tr style=\"text-align: right;\">\n",
       "      <th></th>\n",
       "      <th>TV</th>\n",
       "      <th>radio</th>\n",
       "      <th>newspaper</th>\n",
       "      <th>sales</th>\n",
       "    </tr>\n",
       "  </thead>\n",
       "  <tbody>\n",
       "    <tr>\n",
       "      <th>0</th>\n",
       "      <td>230.1</td>\n",
       "      <td>37.8</td>\n",
       "      <td>69.2</td>\n",
       "      <td>22.1</td>\n",
       "    </tr>\n",
       "    <tr>\n",
       "      <th>1</th>\n",
       "      <td>44.5</td>\n",
       "      <td>39.3</td>\n",
       "      <td>45.1</td>\n",
       "      <td>10.4</td>\n",
       "    </tr>\n",
       "    <tr>\n",
       "      <th>2</th>\n",
       "      <td>17.2</td>\n",
       "      <td>45.9</td>\n",
       "      <td>69.3</td>\n",
       "      <td>9.3</td>\n",
       "    </tr>\n",
       "    <tr>\n",
       "      <th>3</th>\n",
       "      <td>151.5</td>\n",
       "      <td>41.3</td>\n",
       "      <td>58.5</td>\n",
       "      <td>18.5</td>\n",
       "    </tr>\n",
       "    <tr>\n",
       "      <th>4</th>\n",
       "      <td>180.8</td>\n",
       "      <td>10.8</td>\n",
       "      <td>58.4</td>\n",
       "      <td>12.9</td>\n",
       "    </tr>\n",
       "    <tr>\n",
       "      <th>...</th>\n",
       "      <td>...</td>\n",
       "      <td>...</td>\n",
       "      <td>...</td>\n",
       "      <td>...</td>\n",
       "    </tr>\n",
       "    <tr>\n",
       "      <th>195</th>\n",
       "      <td>38.2</td>\n",
       "      <td>3.7</td>\n",
       "      <td>13.8</td>\n",
       "      <td>7.6</td>\n",
       "    </tr>\n",
       "    <tr>\n",
       "      <th>196</th>\n",
       "      <td>94.2</td>\n",
       "      <td>4.9</td>\n",
       "      <td>8.1</td>\n",
       "      <td>9.7</td>\n",
       "    </tr>\n",
       "    <tr>\n",
       "      <th>197</th>\n",
       "      <td>177.0</td>\n",
       "      <td>9.3</td>\n",
       "      <td>6.4</td>\n",
       "      <td>12.8</td>\n",
       "    </tr>\n",
       "    <tr>\n",
       "      <th>198</th>\n",
       "      <td>283.6</td>\n",
       "      <td>42.0</td>\n",
       "      <td>66.2</td>\n",
       "      <td>25.5</td>\n",
       "    </tr>\n",
       "    <tr>\n",
       "      <th>199</th>\n",
       "      <td>232.1</td>\n",
       "      <td>8.6</td>\n",
       "      <td>8.7</td>\n",
       "      <td>13.4</td>\n",
       "    </tr>\n",
       "  </tbody>\n",
       "</table>\n",
       "<p>200 rows × 4 columns</p>\n",
       "</div>"
      ],
      "text/plain": [
       "        TV  radio  newspaper  sales\n",
       "0    230.1   37.8       69.2   22.1\n",
       "1     44.5   39.3       45.1   10.4\n",
       "2     17.2   45.9       69.3    9.3\n",
       "3    151.5   41.3       58.5   18.5\n",
       "4    180.8   10.8       58.4   12.9\n",
       "..     ...    ...        ...    ...\n",
       "195   38.2    3.7       13.8    7.6\n",
       "196   94.2    4.9        8.1    9.7\n",
       "197  177.0    9.3        6.4   12.8\n",
       "198  283.6   42.0       66.2   25.5\n",
       "199  232.1    8.6        8.7   13.4\n",
       "\n",
       "[200 rows x 4 columns]"
      ]
     },
     "execution_count": 15,
     "metadata": {},
     "output_type": "execute_result"
    }
   ],
   "source": [
    "# if duplicate value present drop this row\n",
    "df.drop_duplicates() "
   ]
  },
  {
   "cell_type": "code",
   "execution_count": 16,
   "id": "e1097b94",
   "metadata": {},
   "outputs": [],
   "source": [
    "# no duplicate present there because the row and column value is same "
   ]
  },
  {
   "cell_type": "code",
   "execution_count": 12,
   "id": "487fc21f",
   "metadata": {},
   "outputs": [
    {
     "data": {
      "text/html": [
       "<div>\n",
       "<style scoped>\n",
       "    .dataframe tbody tr th:only-of-type {\n",
       "        vertical-align: middle;\n",
       "    }\n",
       "\n",
       "    .dataframe tbody tr th {\n",
       "        vertical-align: top;\n",
       "    }\n",
       "\n",
       "    .dataframe thead th {\n",
       "        text-align: right;\n",
       "    }\n",
       "</style>\n",
       "<table border=\"1\" class=\"dataframe\">\n",
       "  <thead>\n",
       "    <tr style=\"text-align: right;\">\n",
       "      <th></th>\n",
       "      <th>TV</th>\n",
       "      <th>radio</th>\n",
       "      <th>newspaper</th>\n",
       "      <th>sales</th>\n",
       "    </tr>\n",
       "  </thead>\n",
       "  <tbody>\n",
       "    <tr>\n",
       "      <th>count</th>\n",
       "      <td>200.000000</td>\n",
       "      <td>200.000000</td>\n",
       "      <td>200.000000</td>\n",
       "      <td>200.000000</td>\n",
       "    </tr>\n",
       "    <tr>\n",
       "      <th>mean</th>\n",
       "      <td>147.042500</td>\n",
       "      <td>23.264000</td>\n",
       "      <td>30.554000</td>\n",
       "      <td>14.022500</td>\n",
       "    </tr>\n",
       "    <tr>\n",
       "      <th>std</th>\n",
       "      <td>85.854236</td>\n",
       "      <td>14.846809</td>\n",
       "      <td>21.778621</td>\n",
       "      <td>5.217457</td>\n",
       "    </tr>\n",
       "    <tr>\n",
       "      <th>min</th>\n",
       "      <td>0.700000</td>\n",
       "      <td>0.000000</td>\n",
       "      <td>0.300000</td>\n",
       "      <td>1.600000</td>\n",
       "    </tr>\n",
       "    <tr>\n",
       "      <th>25%</th>\n",
       "      <td>74.375000</td>\n",
       "      <td>9.975000</td>\n",
       "      <td>12.750000</td>\n",
       "      <td>10.375000</td>\n",
       "    </tr>\n",
       "    <tr>\n",
       "      <th>50%</th>\n",
       "      <td>149.750000</td>\n",
       "      <td>22.900000</td>\n",
       "      <td>25.750000</td>\n",
       "      <td>12.900000</td>\n",
       "    </tr>\n",
       "    <tr>\n",
       "      <th>75%</th>\n",
       "      <td>218.825000</td>\n",
       "      <td>36.525000</td>\n",
       "      <td>45.100000</td>\n",
       "      <td>17.400000</td>\n",
       "    </tr>\n",
       "    <tr>\n",
       "      <th>max</th>\n",
       "      <td>296.400000</td>\n",
       "      <td>49.600000</td>\n",
       "      <td>114.000000</td>\n",
       "      <td>27.000000</td>\n",
       "    </tr>\n",
       "  </tbody>\n",
       "</table>\n",
       "</div>"
      ],
      "text/plain": [
       "               TV       radio   newspaper       sales\n",
       "count  200.000000  200.000000  200.000000  200.000000\n",
       "mean   147.042500   23.264000   30.554000   14.022500\n",
       "std     85.854236   14.846809   21.778621    5.217457\n",
       "min      0.700000    0.000000    0.300000    1.600000\n",
       "25%     74.375000    9.975000   12.750000   10.375000\n",
       "50%    149.750000   22.900000   25.750000   12.900000\n",
       "75%    218.825000   36.525000   45.100000   17.400000\n",
       "max    296.400000   49.600000  114.000000   27.000000"
      ]
     },
     "execution_count": 12,
     "metadata": {},
     "output_type": "execute_result"
    }
   ],
   "source": [
    "# check the stats\n",
    "df.describe()"
   ]
  },
  {
   "cell_type": "code",
   "execution_count": 17,
   "id": "d49c752f",
   "metadata": {},
   "outputs": [],
   "source": [
    "#min doller spending on radio is 0 lets find out how much entries are 0 . "
   ]
  },
  {
   "cell_type": "code",
   "execution_count": 18,
   "id": "95a3ef98",
   "metadata": {},
   "outputs": [
    {
     "data": {
      "text/html": [
       "<div>\n",
       "<style scoped>\n",
       "    .dataframe tbody tr th:only-of-type {\n",
       "        vertical-align: middle;\n",
       "    }\n",
       "\n",
       "    .dataframe tbody tr th {\n",
       "        vertical-align: top;\n",
       "    }\n",
       "\n",
       "    .dataframe thead th {\n",
       "        text-align: right;\n",
       "    }\n",
       "</style>\n",
       "<table border=\"1\" class=\"dataframe\">\n",
       "  <thead>\n",
       "    <tr style=\"text-align: right;\">\n",
       "      <th></th>\n",
       "      <th>TV</th>\n",
       "      <th>radio</th>\n",
       "      <th>newspaper</th>\n",
       "      <th>sales</th>\n",
       "    </tr>\n",
       "  </thead>\n",
       "  <tbody>\n",
       "    <tr>\n",
       "      <th>127</th>\n",
       "      <td>80.2</td>\n",
       "      <td>0.0</td>\n",
       "      <td>9.2</td>\n",
       "      <td>8.8</td>\n",
       "    </tr>\n",
       "    <tr>\n",
       "      <th>107</th>\n",
       "      <td>90.4</td>\n",
       "      <td>0.3</td>\n",
       "      <td>23.2</td>\n",
       "      <td>8.7</td>\n",
       "    </tr>\n",
       "    <tr>\n",
       "      <th>108</th>\n",
       "      <td>13.1</td>\n",
       "      <td>0.4</td>\n",
       "      <td>25.6</td>\n",
       "      <td>5.3</td>\n",
       "    </tr>\n",
       "    <tr>\n",
       "      <th>117</th>\n",
       "      <td>76.4</td>\n",
       "      <td>0.8</td>\n",
       "      <td>14.8</td>\n",
       "      <td>9.4</td>\n",
       "    </tr>\n",
       "    <tr>\n",
       "      <th>157</th>\n",
       "      <td>149.8</td>\n",
       "      <td>1.3</td>\n",
       "      <td>24.3</td>\n",
       "      <td>10.1</td>\n",
       "    </tr>\n",
       "    <tr>\n",
       "      <th>34</th>\n",
       "      <td>95.7</td>\n",
       "      <td>1.4</td>\n",
       "      <td>7.4</td>\n",
       "      <td>9.5</td>\n",
       "    </tr>\n",
       "    <tr>\n",
       "      <th>91</th>\n",
       "      <td>28.6</td>\n",
       "      <td>1.5</td>\n",
       "      <td>33.0</td>\n",
       "      <td>7.3</td>\n",
       "    </tr>\n",
       "    <tr>\n",
       "      <th>32</th>\n",
       "      <td>97.2</td>\n",
       "      <td>1.5</td>\n",
       "      <td>30.0</td>\n",
       "      <td>9.6</td>\n",
       "    </tr>\n",
       "    <tr>\n",
       "      <th>76</th>\n",
       "      <td>27.5</td>\n",
       "      <td>1.6</td>\n",
       "      <td>20.7</td>\n",
       "      <td>6.9</td>\n",
       "    </tr>\n",
       "    <tr>\n",
       "      <th>145</th>\n",
       "      <td>140.3</td>\n",
       "      <td>1.9</td>\n",
       "      <td>9.0</td>\n",
       "      <td>10.3</td>\n",
       "    </tr>\n",
       "    <tr>\n",
       "      <th>60</th>\n",
       "      <td>53.5</td>\n",
       "      <td>2.0</td>\n",
       "      <td>21.4</td>\n",
       "      <td>8.1</td>\n",
       "    </tr>\n",
       "    <tr>\n",
       "      <th>8</th>\n",
       "      <td>8.6</td>\n",
       "      <td>2.1</td>\n",
       "      <td>1.0</td>\n",
       "      <td>4.8</td>\n",
       "    </tr>\n",
       "    <tr>\n",
       "      <th>186</th>\n",
       "      <td>139.5</td>\n",
       "      <td>2.1</td>\n",
       "      <td>26.6</td>\n",
       "      <td>10.3</td>\n",
       "    </tr>\n",
       "    <tr>\n",
       "      <th>178</th>\n",
       "      <td>276.7</td>\n",
       "      <td>2.3</td>\n",
       "      <td>23.7</td>\n",
       "      <td>11.8</td>\n",
       "    </tr>\n",
       "    <tr>\n",
       "      <th>122</th>\n",
       "      <td>224.0</td>\n",
       "      <td>2.4</td>\n",
       "      <td>15.6</td>\n",
       "      <td>11.6</td>\n",
       "    </tr>\n",
       "  </tbody>\n",
       "</table>\n",
       "</div>"
      ],
      "text/plain": [
       "        TV  radio  newspaper  sales\n",
       "127   80.2    0.0        9.2    8.8\n",
       "107   90.4    0.3       23.2    8.7\n",
       "108   13.1    0.4       25.6    5.3\n",
       "117   76.4    0.8       14.8    9.4\n",
       "157  149.8    1.3       24.3   10.1\n",
       "34    95.7    1.4        7.4    9.5\n",
       "91    28.6    1.5       33.0    7.3\n",
       "32    97.2    1.5       30.0    9.6\n",
       "76    27.5    1.6       20.7    6.9\n",
       "145  140.3    1.9        9.0   10.3\n",
       "60    53.5    2.0       21.4    8.1\n",
       "8      8.6    2.1        1.0    4.8\n",
       "186  139.5    2.1       26.6   10.3\n",
       "178  276.7    2.3       23.7   11.8\n",
       "122  224.0    2.4       15.6   11.6"
      ]
     },
     "execution_count": 18,
     "metadata": {},
     "output_type": "execute_result"
    }
   ],
   "source": [
    "df.sort_values(by=[\"radio\"]).head(15)"
   ]
  },
  {
   "cell_type": "code",
   "execution_count": null,
   "id": "1f259e2a",
   "metadata": {},
   "outputs": [],
   "source": [
    "#It's just one entries with  0, so I think it's safe to drop it. "
   ]
  },
  {
   "cell_type": "code",
   "execution_count": 20,
   "id": "45168b29",
   "metadata": {},
   "outputs": [],
   "source": [
    "df.drop(df[df[\"radio\"]==0.00].index, inplace = True)"
   ]
  },
  {
   "cell_type": "code",
   "execution_count": 21,
   "id": "0fd17b45",
   "metadata": {},
   "outputs": [
    {
     "data": {
      "text/plain": [
       "(199, 4)"
      ]
     },
     "execution_count": 21,
     "metadata": {},
     "output_type": "execute_result"
    }
   ],
   "source": [
    "df.shape"
   ]
  },
  {
   "cell_type": "markdown",
   "id": "f70aa6e5",
   "metadata": {},
   "source": [
    "# Univariate Visualization¶"
   ]
  },
  {
   "cell_type": "code",
   "execution_count": 49,
   "id": "bf3582b3",
   "metadata": {},
   "outputs": [
    {
     "data": {
      "text/plain": [
       "<AxesSubplot:xlabel='sales', ylabel='Density'>"
      ]
     },
     "execution_count": 49,
     "metadata": {},
     "output_type": "execute_result"
    },
    {
     "data": {
      "image/png": "[encoded data removed]",
      "text/plain": [
       "<Figure size 432x288 with 1 Axes>"
      ]
     },
     "metadata": {
      "needs_background": "light"
     },
     "output_type": "display_data"
    }
   ],
   "source": [
    "sns.distplot(df['sales'])"
   ]
  },
  {
   "cell_type": "code",
   "execution_count": 50,
   "id": "4650c899",
   "metadata": {},
   "outputs": [
    {
     "data": {
      "text/plain": [
       "<AxesSubplot:xlabel='radio', ylabel='Density'>"
      ]
     },
     "execution_count": 50,
     "metadata": {},
     "output_type": "execute_result"
    },
    {
     "data": {
      "image/png": "[encoded data removed]",
      "text/plain": [
       "<Figure size 432x288 with 1 Axes>"
      ]
     },
     "metadata": {
      "needs_background": "light"
     },
     "output_type": "display_data"
    }
   ],
   "source": [
    "sns.distplot(df['radio'])"
   ]
  },
  {
   "cell_type": "code",
   "execution_count": 51,
   "id": "92ea55fa",
   "metadata": {},
   "outputs": [
    {
     "data": {
      "text/plain": [
       "<AxesSubplot:xlabel='TV', ylabel='Density'>"
      ]
     },
     "execution_count": 51,
     "metadata": {},
     "output_type": "execute_result"
    },
    {
     "data": {
      "image/png": "[encoded data removed]",
      "text/plain": [
       "<Figure size 432x288 with 1 Axes>"
      ]
     },
     "metadata": {
      "needs_background": "light"
     },
     "output_type": "display_data"
    }
   ],
   "source": [
    "sns.distplot(df['TV'])"
   ]
  },
  {
   "cell_type": "code",
   "execution_count": 52,
   "id": "88ed0b75",
   "metadata": {},
   "outputs": [
    {
     "data": {
      "text/plain": [
       "<AxesSubplot:xlabel='radio', ylabel='Density'>"
      ]
     },
     "execution_count": 52,
     "metadata": {},
     "output_type": "execute_result"
    },
    {
     "data": {
      "image/png": "[encoded data removed]",
      "text/plain": [
       "<Figure size 432x288 with 1 Axes>"
      ]
     },
     "metadata": {
      "needs_background": "light"
     },
     "output_type": "display_data"
    }
   ],
   "source": [
    "sns.distplot(df['radio'])"
   ]
  },
  {
   "cell_type": "code",
   "execution_count": 40,
   "id": "1a7fbb92",
   "metadata": {},
   "outputs": [
    {
     "data": {
      "text/plain": [
       "<AxesSubplot:xlabel='newspaper', ylabel='Density'>"
      ]
     },
     "execution_count": 40,
     "metadata": {},
     "output_type": "execute_result"
    },
    {
     "data": {
      "image/png": "[encoded data removed]",
      "text/plain": [
       "<Figure size 432x288 with 1 Axes>"
      ]
     },
     "metadata": {
      "needs_background": "light"
     },
     "output_type": "display_data"
    }
   ],
   "source": [
    "sns.distplot(df['newspaper'])"
   ]
  },
  {
   "cell_type": "markdown",
   "id": "6f87f275",
   "metadata": {},
   "source": [
    " using distplot, skewness present in newspaper column"
   ]
  },
  {
   "cell_type": "code",
   "execution_count": 47,
   "id": "27f546a0",
   "metadata": {},
   "outputs": [
    {
     "data": {
      "image/png": "[encoded data removed]",
      "text/plain": [
       "<Figure size 864x360 with 4 Axes>"
      ]
     },
     "metadata": {
      "needs_background": "light"
     },
     "output_type": "display_data"
    }
   ],
   "source": [
    "df.plot(kind=\"kde\",subplots=True,layout=(1,4),fontsize=1,figsize=(12,5),legend=False,sharex=False)\n",
    "plt.show()"
   ]
  },
  {
   "cell_type": "code",
   "execution_count": 31,
   "id": "cd9d6117",
   "metadata": {},
   "outputs": [
    {
     "data": {
      "text/plain": [
       "array([[<AxesSubplot:title={'center':'TV'}>,\n",
       "        <AxesSubplot:title={'center':'radio'}>,\n",
       "        <AxesSubplot:title={'center':'newspaper'}>,\n",
       "        <AxesSubplot:title={'center':'sales'}>],\n",
       "       [<AxesSubplot:>, <AxesSubplot:>, <AxesSubplot:>, <AxesSubplot:>]],\n",
       "      dtype=object)"
      ]
     },
     "execution_count": 31,
     "metadata": {},
     "output_type": "execute_result"
    },
    {
     "data": {
      "image/png": "[encoded data removed]",
      "text/plain": [
       "<Figure size 1440x720 with 8 Axes>"
      ]
     },
     "metadata": {
      "needs_background": "light"
     },
     "output_type": "display_data"
    }
   ],
   "source": [
    "df.hist(figsize=(20,10), grid=False, layout=(2, 4), bins = 10)"
   ]
  },
  {
   "cell_type": "markdown",
   "id": "e00add00",
   "metadata": {},
   "source": [
    "# Bivariate Visualization"
   ]
  },
  {
   "cell_type": "code",
   "execution_count": 37,
   "id": "0a52b554",
   "metadata": {},
   "outputs": [
    {
     "data": {
      "text/plain": [
       "<AxesSubplot:xlabel='newspaper', ylabel='sales'>"
      ]
     },
     "execution_count": 37,
     "metadata": {},
     "output_type": "execute_result"
    },
    {
     "data": {
      "image/png": "[encoded data removed]",
      "text/plain": [
       "<Figure size 1080x504 with 3 Axes>"
      ]
     },
     "metadata": {
      "needs_background": "light"
     },
     "output_type": "display_data"
    }
   ],
   "source": [
    "## Visualise relation ship  tv , radio and newspaper and sales using scatter plot  \n",
    "fig,axs = plt.subplots(1,3,sharey = True,figsize=(15,7))\n",
    "#fig,axs = plt.subplots(1,3)\n",
    "df.plot(kind = 'scatter' , x= 'TV' ,y='sales',ax = axs[0] )\n",
    "df.plot(kind = 'scatter' ,x = 'radio',y ='sales',ax = axs[1])\n",
    "df.plot(kind = 'scatter',x = 'newspaper', y = 'sales',ax = axs[2])\n",
    "          "
   ]
  },
  {
   "cell_type": "code",
   "execution_count": null,
   "id": "ff10f9a6",
   "metadata": {},
   "outputs": [],
   "source": [
    "Observation:\n",
    "    \n",
    "1 Upon reviewing first plot, as TV advertising is increased, sales are also increased.\n",
    "\n",
    "2 Upon reviewing second plot, similar to TV advertising, as radio advertising is increased, sales are also increased. But Radio advertising is less effective than TV.\n",
    "\n",
    "3 Upon reviewing third plot, newspaper advertising has high effect on sales positively at initial. However, as advertising is increased, it has low effect on sales and almost nil at max."
   ]
  },
  {
   "cell_type": "markdown",
   "id": "c9c5971e",
   "metadata": {},
   "source": [
    "# Correlation"
   ]
  },
  {
   "cell_type": "code",
   "execution_count": 53,
   "id": "e6042420",
   "metadata": {},
   "outputs": [
    {
     "data": {
      "text/plain": [
       "newspaper    0.224455\n",
       "radio        0.573310\n",
       "TV           0.781462\n",
       "sales        1.000000\n",
       "Name: sales, dtype: float64"
      ]
     },
     "execution_count": 53,
     "metadata": {},
     "output_type": "execute_result"
    }
   ],
   "source": [
    "# correlatin all columns with outcome in assending order\n",
    "\n",
    "df.corr()[\"sales\"].sort_values()\n"
   ]
  },
  {
   "cell_type": "code",
   "execution_count": 57,
   "id": "8afd74a8",
   "metadata": {},
   "outputs": [
    {
     "data": {
      "text/plain": [
       "<AxesSubplot:>"
      ]
     },
     "execution_count": 57,
     "metadata": {},
     "output_type": "execute_result"
    },
    {
     "data": {
      "image/png": "[encoded data removed]",
      "text/plain": [
       "<Figure size 720x360 with 2 Axes>"
      ]
     },
     "metadata": {
      "needs_background": "light"
     },
     "output_type": "display_data"
    }
   ],
   "source": [
    "# Checking the Correlation between the target value and rest columns using Heatmap, Correlation Matrix.\n",
    "\n",
    "plt.figure(figsize=(10,5))\n",
    "sns.heatmap(df.corr(),cmap='Blues',annot=True,linewidths=0.5,linecolor=\"black\",fmt=\"0.2f\")"
   ]
  },
  {
   "cell_type": "code",
   "execution_count": 58,
   "id": "6921a45a",
   "metadata": {},
   "outputs": [
    {
     "data": {
      "text/plain": [
       "<AxesSubplot:title={'center':'Correlation with sales'}>"
      ]
     },
     "execution_count": 58,
     "metadata": {},
     "output_type": "execute_result"
    },
    {
     "data": {
      "image/png": "[encoded data removed]",
      "text/plain": [
       "<Figure size 720x360 with 1 Axes>"
      ]
     },
     "metadata": {
      "needs_background": "light"
     },
     "output_type": "display_data"
    }
   ],
   "source": [
    "#Correlation with sales with respect to other columns\n",
    "df.corrwith(df.sales).plot.bar(\n",
    "        figsize = (10, 5), title = \"Correlation with sales\", fontsize = 15,\n",
    "        rot = 45, grid = True)"
   ]
  },
  {
   "cell_type": "markdown",
   "id": "fab59a73",
   "metadata": {},
   "source": [
    "observation:\n",
    "    \n",
    "All attributes are positive correlated with target column\n",
    "\n",
    "TV and radio is highly correlated as compair to newspaper\n"
   ]
  },
  {
   "cell_type": "markdown",
   "id": "43c68eeb",
   "metadata": {},
   "source": [
    "# Feature and Label Seperation"
   ]
  },
  {
   "cell_type": "code",
   "execution_count": 59,
   "id": "c2468e38",
   "metadata": {},
   "outputs": [],
   "source": [
    "x=df.drop(\"sales\",axis=1)\n",
    "y=df[\"sales\"]"
   ]
  },
  {
   "cell_type": "code",
   "execution_count": 60,
   "id": "1dcf795e",
   "metadata": {},
   "outputs": [
    {
     "name": "stdout",
     "output_type": "stream",
     "text": [
      "(199, 3)\n",
      "(199,)\n"
     ]
    }
   ],
   "source": [
    "print(x.shape)\n",
    "print(y.shape)"
   ]
  },
  {
   "cell_type": "markdown",
   "id": "bd10de98",
   "metadata": {},
   "source": [
    "# check for Skewness"
   ]
  },
  {
   "cell_type": "code",
   "execution_count": 61,
   "id": "d5f1dd8b",
   "metadata": {},
   "outputs": [
    {
     "data": {
      "text/plain": [
       "TV          -0.079446\n",
       "radio        0.091614\n",
       "newspaper    0.888932\n",
       "dtype: float64"
      ]
     },
     "execution_count": 61,
     "metadata": {},
     "output_type": "execute_result"
    }
   ],
   "source": [
    "x.skew()"
   ]
  },
  {
   "cell_type": "markdown",
   "id": "7779315d",
   "metadata": {},
   "source": [
    "Checking for the Skewness and found newspaper has more skewness as predicted by distplot analysis"
   ]
  },
  {
   "cell_type": "markdown",
   "id": "67f1fb51",
   "metadata": {},
   "source": [
    "# Remove Skewness"
   ]
  },
  {
   "cell_type": "code",
   "execution_count": 62,
   "id": "f61ab00a",
   "metadata": {},
   "outputs": [],
   "source": [
    "#remove skewness using power transform\n",
    "\n",
    "from sklearn.preprocessing import power_transform\n",
    "df_skew=power_transform(x)\n",
    "\n",
    "df_skew=pd.DataFrame(df_skew,columns=x.columns)"
   ]
  },
  {
   "cell_type": "markdown",
   "id": "6edcaffa",
   "metadata": {},
   "source": [
    "# check skewness are removed or not"
   ]
  },
  {
   "cell_type": "code",
   "execution_count": 63,
   "id": "b2d01807",
   "metadata": {},
   "outputs": [
    {
     "data": {
      "text/plain": [
       "TV          -0.319820\n",
       "radio       -0.238262\n",
       "newspaper   -0.078794\n",
       "dtype: float64"
      ]
     },
     "execution_count": 63,
     "metadata": {},
     "output_type": "execute_result"
    }
   ],
   "source": [
    "\n",
    "df_skew.skew()"
   ]
  },
  {
   "cell_type": "code",
   "execution_count": 64,
   "id": "80f306e5",
   "metadata": {},
   "outputs": [
    {
     "data": {
      "text/plain": [
       "<AxesSubplot:xlabel='newspaper', ylabel='Density'>"
      ]
     },
     "execution_count": 64,
     "metadata": {},
     "output_type": "execute_result"
    },
    {
     "data": {
      "image/png": "[encoded data removed]",
      "text/plain": [
       "<Figure size 432x288 with 1 Axes>"
      ]
     },
     "metadata": {
      "needs_background": "light"
     },
     "output_type": "display_data"
    }
   ],
   "source": [
    "sns.distplot(df_skew[\"newspaper\"])"
   ]
  },
  {
   "cell_type": "markdown",
   "id": "ca6b4c77",
   "metadata": {},
   "source": [
    "Checking Skewness after power transforms and found all columns skewness is within range of -0.5 to +0.5"
   ]
  },
  {
   "cell_type": "code",
   "execution_count": 65,
   "id": "a0754a55",
   "metadata": {},
   "outputs": [],
   "source": [
    "df=df_skew\n",
    "x=df_skew"
   ]
  },
  {
   "cell_type": "markdown",
   "id": "f86a464d",
   "metadata": {},
   "source": [
    "# Outlier Detection"
   ]
  },
  {
   "cell_type": "code",
   "execution_count": 66,
   "id": "e6bb536f",
   "metadata": {},
   "outputs": [
    {
     "data": {
      "image/png": "[encoded data removed]",
      "text/plain": [
       "<Figure size 1440x576 with 1 Axes>"
      ]
     },
     "metadata": {
      "needs_background": "light"
     },
     "output_type": "display_data"
    }
   ],
   "source": [
    "x.boxplot(figsize=[20,8])\n",
    "plt.subplots_adjust(bottom=0.25)\n",
    "plt.show()"
   ]
  },
  {
   "cell_type": "markdown",
   "id": "a3fa054f",
   "metadata": {},
   "source": [
    "Checking for Outliers through box plot graphs and found no outliers"
   ]
  },
  {
   "cell_type": "markdown",
   "id": "15863a8b",
   "metadata": {},
   "source": [
    "# Data Standardization"
   ]
  },
  {
   "cell_type": "code",
   "execution_count": 68,
   "id": "a72d147e",
   "metadata": {},
   "outputs": [
    {
     "data": {
      "text/plain": [
       "array([[ 9.44461776e-01,  9.59556061e-01,  1.51268961e+00],\n",
       "       [-1.19371406e+00,  1.03816820e+00,  7.82168536e-01],\n",
       "       [-1.64691573e+00,  1.37163574e+00,  1.51536913e+00],\n",
       "       [ 1.35809607e-01,  1.14127562e+00,  1.21120447e+00],\n",
       "       [ 4.47706613e-01, -7.64765138e-01,  1.20823565e+00],\n",
       "       [-1.82109563e+00,  1.51725169e+00,  1.66439128e+00],\n",
       "       [-1.00577268e+00,  6.88730520e-01, -1.15374352e-01],\n",
       "       [-2.15391242e-01, -1.13015980e-01, -8.50729482e-01],\n",
       "       [-1.82334045e+00, -1.65471882e+00, -2.12903344e+00],\n",
       "       [ 6.42884282e-01, -1.58772077e+00, -2.36648703e-01],\n",
       "       [-8.87506494e-01, -1.22198112e+00, -7.98626551e-02],\n",
       "       [ 7.92570889e-01,  1.71504887e-01, -1.60487424e+00],\n",
       "       [-1.52662815e+00,  8.15077322e-01,  1.42291631e+00],\n",
       "       [-4.85142628e-01, -1.04607055e+00, -1.23472769e+00],\n",
       "       [ 6.86372134e-01,  6.94290513e-01,  8.13219912e-01],\n",
       "       [ 5.98131953e-01,  1.45941589e+00,  1.03997435e+00],\n",
       "       [-8.64611413e-01,  8.95831293e-01,  2.53586735e+00],\n",
       "       [ 1.43257588e+00,  1.05375627e+00,  1.12994319e+00],\n",
       "       [-8.45867689e-01, -5.30715002e-02, -4.01125790e-01],\n",
       "       [ 8.98667741e-02,  1.65261334e-01, -3.54317012e-01],\n",
       "       [ 8.29316265e-01,  3.96254539e-01,  1.05569473e+00],\n",
       "       [ 1.01553030e+00, -1.29508641e+00, -1.15374352e-01],\n",
       "       [-1.72538741e+00, -3.70744119e-01,  9.33901381e-01],\n",
       "       [ 9.26848236e-01, -2.99137156e-01,  1.83760223e-02],\n",
       "       [-9.39242164e-01, -6.19432526e-01, -4.01125790e-01],\n",
       "       [ 1.25946493e+00, -1.47544908e+00, -3.31341154e-01],\n",
       "       [ 4.13692481e-02,  4.89995073e-01, -7.75541934e-01],\n",
       "       [ 1.04167100e+00, -3.13334376e-01, -1.46312302e-01],\n",
       "       [ 1.12538696e+00,  3.60592359e-01, -1.46312302e-01],\n",
       "       [-8.27221568e-01, -3.63512268e-01,  6.28422835e-01],\n",
       "       [ 1.53868560e+00,  4.31634441e-01,  7.15370680e-01],\n",
       "       [-3.00568893e-01, -2.63905340e-01,  5.45984295e-01],\n",
       "       [-4.88810167e-01, -1.74083271e+00,  1.93455566e-01],\n",
       "       [ 1.28492304e+00, -8.62535813e-02, -2.31830190e+00],\n",
       "       [-5.07192097e-01, -1.75591760e+00, -1.21482955e+00],\n",
       "       [ 1.51847166e+00, -1.40533403e+00, -1.11027952e+00],\n",
       "       [ 1.29715656e+00,  1.26758988e+00, -1.47660144e+00],\n",
       "       [-7.73154307e-01,  1.54119361e+00,  8.02910354e-01],\n",
       "       [-1.21474122e+00,  3.36656644e-01,  4.08819816e-01],\n",
       "       [ 9.23909133e-01,  9.54274553e-01,  2.80332667e-01],\n",
       "       [ 6.70218753e-01,  6.40299501e-02,  2.63221436e-01],\n",
       "       [ 4.08043319e-01,  7.21997526e-01,  5.49791684e-01],\n",
       "       [ 1.54510899e+00,  3.96254539e-01, -1.95769655e+00],\n",
       "       [ 7.14561453e-01, -9.72464868e-01,  2.79525568e-02],\n",
       "       [-1.50398725e+00,  2.76235114e-01,  7.18929845e-01],\n",
       "       [ 3.88128689e-01,  7.68252255e-02,  2.58923503e-01],\n",
       "       [-5.81482951e-01, -8.40579795e-01,  4.32896454e-01],\n",
       "       [ 1.03973729e+00,  1.15148334e+00, -3.89313530e-01],\n",
       "       [ 9.16066593e-01, -3.77992253e-01,  9.43716846e-01],\n",
       "       [-8.76713654e-01, -6.91119261e-01,  4.76416640e-01],\n",
       "       [ 6.42884282e-01, -1.52418079e+00,  3.88567512e-01],\n",
       "       [-4.49838803e-01, -8.66375354e-01, -1.66059754e+00],\n",
       "       [ 8.09474221e-01,  1.16167282e+00,  5.83796148e-01],\n",
       "       [ 4.66418596e-01,  1.38635353e+00,  1.21713292e+00],\n",
       "       [ 1.25757644e+00,  4.60907808e-01, -5.49149068e-01],\n",
       "       [ 6.33751453e-01,  1.54119361e+00,  1.25537375e+00],\n",
       "       [-1.85311274e+00,  4.19872006e-01,  6.50441392e-01],\n",
       "       [-3.32331296e-02, -1.39976641e-01, -5.04710428e-01],\n",
       "       [ 7.53660180e-01,  1.55074508e+00,  5.11448915e-01],\n",
       "       [ 7.52660016e-01,  5.01578822e-01, -1.03883684e+00],\n",
       "       [-1.06231296e+00, -1.66859843e+00, -2.25805157e-01],\n",
       "       [ 1.24434648e+00,  1.21235067e+00,  1.09615678e+00],\n",
       "       [ 1.03393364e+00, -3.99835704e-01,  7.05239733e-02],\n",
       "       [-4.22026940e-01,  5.07359867e-01, -1.11946626e+00],\n",
       "       [-9.06604240e-02,  1.21739408e+00,  1.44198882e-01],\n",
       "       [-8.48539330e-01, -8.92449945e-01, -2.15325373e+00],\n",
       "       [-1.39649283e+00,  2.08768821e-01, -1.88329146e+00],\n",
       "       [ 1.40020491e-03, -4.73763438e-01, -9.62427431e-01],\n",
       "       [ 1.01553030e+00,  3.84398914e-01, -8.97615532e-01],\n",
       "       [ 8.13446439e-01,  1.27258592e+00,  6.58352655e-02],\n",
       "       [ 6.35781899e-01,  5.64780857e-01,  5.49791684e-01],\n",
       "       [-3.37169613e-01, -4.88764124e-01,  2.67511279e-01],\n",
       "       [-1.47481991e+00,  6.99844276e-01, -3.42794324e-01],\n",
       "       [-1.09931103e-01, -1.23224322e+00,  2.50303205e-01],\n",
       "       [ 7.79621276e-01,  2.08768821e-01, -7.39218724e-01],\n",
       "       [-1.65263205e+00,  1.26258960e+00,  2.01259146e+00],\n",
       "       [-1.46294656e+00, -1.72597550e+00, -2.64022749e-01],\n",
       "       [-2.11920006e-01,  4.43366398e-01, -6.62003019e-01],\n",
       "       [-1.89895737e+00,  5.24660073e-01, -1.03014934e+00],\n",
       "       [-2.64228045e-01, -1.03673167e+00, -1.35947186e-01],\n",
       "       [-7.50962466e-01,  3.36656644e-01, -1.77731057e-01],\n",
       "       [ 1.03877028e+00, -1.40533403e+00,  4.80334241e-01],\n",
       "       [-7.65307141e-01, -6.63087593e-02,  3.01543509e-01],\n",
       "       [-8.56566278e-01,  1.30247382e+00,  4.28900559e-01],\n",
       "       [ 7.80618129e-01,  1.22746781e+00,  3.55797169e-01],\n",
       "       [ 5.75657540e-01, -1.94514771e-01,  1.41738892e+00],\n",
       "       [-7.52264312e-01,  3.84398914e-01, -5.42732340e-01],\n",
       "       [-3.26516296e-01,  1.10540321e+00,  1.34742051e+00],\n",
       "       [-5.99000336e-01,  2.64048265e-01,  1.62327418e+00],\n",
       "       [-3.37169613e-01,  1.46425607e+00,  9.92268764e-01],\n",
       "       [-5.45611943e-02, -1.31655075e+00, -1.03883684e+00],\n",
       "       [-1.44444130e+00, -1.74083271e+00,  3.22560787e-01],\n",
       "       [ 8.22376957e-01,  7.27520512e-01,  1.22600278e+00],\n",
       "       [ 1.14547915e+00,  8.90486256e-01,  1.59469017e+00],\n",
       "       [-3.65689960e-01, -5.11405677e-01, -9.05568905e-01],\n",
       "       [ 2.63156183e-01,  6.21515178e-01,  1.03997435e+00],\n",
       "       [ 6.20540561e-01, -1.47544908e+00, -1.37197751e+00],\n",
       "       [ 4.90258637e-01, -2.01814645e-02, -1.93626980e-01],\n",
       "       [ 1.50927033e+00,  1.19213298e+00,  9.85844930e-01],\n",
       "       [-4.44487203e-02,  1.16167282e+00,  8.09787896e-01],\n",
       "       [ 8.68859016e-01, -1.38266970e+00,  9.40448982e-01],\n",
       "       [ 1.57076273e+00,  8.79779901e-01,  2.26686109e+00],\n",
       "       [ 1.42143903e+00, -8.23532538e-01, -2.25805157e-01],\n",
       "       [ 5.21238674e-01, -2.77953852e-01, -4.24977861e-01],\n",
       "       [ 1.02328374e+00,  7.71487488e-01, -1.44071693e+00],\n",
       "       [-1.42155845e-02,  1.39614564e+00,  1.22600278e+00],\n",
       "       [-1.50571821e+00, -7.48219926e-01,  1.80129842e-01],\n",
       "       [-5.72750835e-01, -1.94202157e+00, -1.30784434e-01],\n",
       "       [-1.72741822e+00, -1.92309996e+00, -1.06157561e-02],\n",
       "       [ 1.18838693e+00,  3.48640806e-01, -1.41737365e+00],\n",
       "       [ 9.02324802e-01, -9.90635417e-01,  1.15123482e+00],\n",
       "       [ 1.05712561e+00,  9.70103583e-01, -1.30784434e-01],\n",
       "       [ 3.94423568e-01, -4.07150330e-01, -1.84822470e+00],\n",
       "       [ 7.41650032e-01, -4.64704286e-02, -9.21599686e-01],\n",
       "       [-7.27603831e-01,  1.41568288e+00,  3.84496122e-01],\n",
       "       [-7.67921062e-01,  8.09648819e-01,  1.03366112e+00],\n",
       "       [ 2.86148449e-04, -4.88764124e-01, -1.06157561e-02],\n",
       "       [-7.50962466e-01, -1.85205761e+00, -6.21326333e-01],\n",
       "       [-1.52102386e-01,  9.11834079e-01,  1.76985479e+00],\n",
       "       [-1.60571722e+00, -3.63512268e-01, -1.77731057e-01],\n",
       "       [ 2.36379345e-02,  3.42652821e-01,  8.20070515e-01],\n",
       "       [-1.61683250e+00,  2.53912256e-02,  9.59997301e-01],\n",
       "       [ 8.84624107e-01, -1.61406653e+00, -5.68540335e-01],\n",
       "       [-1.81929175e-01,  7.87877241e-01, -7.90300775e-01],\n",
       "       [ 9.38594600e-01,  6.60836200e-01,  1.64389990e+00],\n",
       "       [-6.12814462e-01, -6.83060811e-01,  3.92978154e-03],\n",
       "       [-1.84152681e+00,  1.01731533e+00,  9.66482242e-01],\n",
       "       [ 8.48122394e-01,  1.52204734e+00, -1.71938305e+00],\n",
       "       [-9.76496276e-01, -6.67015338e-01,  7.11806565e-01],\n",
       "       [-2.03421647e+00,  1.05375627e+00, -1.09208266e+00],\n",
       "       [ 1.28115575e+00, -1.54922235e+00,  7.08237484e-01],\n",
       "       [-1.82784857e+00,  3.66556008e-01, -1.90133105e+00],\n",
       "       [ 8.43177525e-01,  7.27520512e-01,  7.82168536e-01],\n",
       "       [-1.31007610e+00,  1.00162349e+00,  1.41462141e+00],\n",
       "       [-1.13747278e+00,  1.42542818e+00, -1.11027952e+00],\n",
       "       [-1.49535834e+00,  1.02253597e+00, -1.03883684e+00],\n",
       "       [ 1.36089636e+00,  4.66740012e-01,  1.24659372e+00],\n",
       "       [-1.21624979e+00,  2.88387316e-01, -2.75080806e-01],\n",
       "       [ 4.90258637e-01,  1.27258592e+00, -1.97730560e+00],\n",
       "       [-7.90212633e-01, -2.92061167e-01, -7.53651540e-01],\n",
       "       [ 5.80771188e-01,  8.31328642e-01,  1.67967303e+00],\n",
       "       [ 8.50099523e-01,  7.10933211e-01,  5.19165731e-01],\n",
       "       [-3.99173566e-01, -1.23224322e+00,  3.80417682e-01],\n",
       "       [-5.01056548e-01, -4.51399615e-01,  5.57388828e-01],\n",
       "       [ 1.25293691e-02, -1.68265505e+00, -1.06521443e+00],\n",
       "       [ 1.04167100e+00, -1.07433813e+00, -1.09208266e+00],\n",
       "       [ 1.07159010e+00,  1.52204734e+00,  7.54253199e-01],\n",
       "       [-1.29288036e+00,  1.08995916e+00, -8.27799896e-01],\n",
       "       [-1.19072411e+00,  2.82315524e-01, -2.69543916e-01],\n",
       "       [ 1.42608090e+00, -5.18991022e-01,  4.84245498e-01],\n",
       "       [-2.06139594e-01, -9.72464868e-01,  9.04238748e-01],\n",
       "       [ 6.20540561e-01,  1.27597844e-01, -6.62003019e-01],\n",
       "       [ 3.48129675e-01,  1.05894255e+00,  5.11448915e-01],\n",
       "       [ 5.20208091e-01, -1.36376914e-02, -1.02151299e+00],\n",
       "       [-1.93239943e+00, -6.99201865e-01, -1.39446746e+00],\n",
       "       [-5.29349274e-01,  1.25257627e+00,  9.63241705e-01],\n",
       "       [ 1.17254112e-01, -1.77124338e+00, -7.48392299e-02],\n",
       "       [-1.75626201e+00,  9.11834079e-01,  7.85636973e-01],\n",
       "       [-8.38745358e-02, -1.94514771e-01,  3.88567512e-01],\n",
       "       [ 3.60785660e-01, -2.15186105e-01,  2.24243904e-01],\n",
       "       [-6.31724848e-01,  8.52918099e-01,  9.24050108e-01],\n",
       "       [ 5.26389448e-01, -2.15186105e-01, -1.06157561e-02],\n",
       "       [ 2.65293532e-01,  9.06505185e-01, -1.21482955e+00],\n",
       "       [-2.50228521e-01, -4.58836144e-01, -1.42898928e+00],\n",
       "       [ 9.87366771e-01, -1.48747212e+00,  1.90532357e+00],\n",
       "       [-1.63367251e+00,  9.48987855e-01, -2.15020914e-01],\n",
       "       [ 7.13556410e-01, -1.28445469e+00, -3.37059118e-01],\n",
       "       [ 7.99535293e-01,  1.46473235e-01,  1.18437383e+00],\n",
       "       [ 1.45943896e+00, -7.81417289e-01, -1.31745033e+00],\n",
       "       [-1.11268272e+00, -6.99201865e-01, -3.95210311e-01],\n",
       "       [ 2.75970094e-01, -2.67365531e-02,  8.60804399e-01],\n",
       "       [-1.60203123e+00, -7.95933464e-02, -4.79802931e-01],\n",
       "       [ 3.17448632e-01, -1.09339926e+00, -7.60915807e-01],\n",
       "       [ 8.68859016e-01, -1.48747212e+00, -7.39218724e-01],\n",
       "       [ 1.39074830e+00,  1.51725169e+00,  6.65014299e-01],\n",
       "       [ 1.12155487e+00,  5.41896553e-01, -2.86202225e-01],\n",
       "       [ 3.36508072e-01, -1.02743349e+00,  4.12849568e-01],\n",
       "       [ 1.38888520e+00, -1.62745987e+00, -1.05165252e-01],\n",
       "       [ 2.87694829e-01, -8.32041440e-01, -4.43071145e-01],\n",
       "       [ 1.91154663e-01, -1.58772077e+00, -1.12871323e+00],\n",
       "       [ 8.30307121e-01, -1.26338479e+00,  7.52025161e-02],\n",
       "       [-1.02403390e+00, -1.23224322e+00,  1.80129842e-01],\n",
       "       [ 1.48992050e+00,  1.22746781e+00,  1.58161032e+00],\n",
       "       [ 1.17315359e+00, -5.83809652e-04,  1.93455566e-01],\n",
       "       [ 6.95443910e-01,  1.33221229e+00, -3.25640295e-01],\n",
       "       [ 3.62769450e-03, -1.65471882e+00,  3.74862530e-02],\n",
       "       [ 5.54142439e-01,  4.55068161e-01, -4.07060125e-01],\n",
       "       [ 1.47515303e+00, -5.18991022e-01, -1.64639620e+00],\n",
       "       [-1.61869356e+00, -6.59027808e-01, -1.20498104e-01],\n",
       "       [-1.26963464e+00,  1.13104954e+00, -1.38317170e+00],\n",
       "       [-7.62695013e-01, -7.64765138e-01, -1.36088252e+00],\n",
       "       [-1.64691573e+00, -1.40533403e+00,  2.63221436e-01],\n",
       "       [ 3.00462362e-01,  1.17692309e+00, -1.66059754e+00],\n",
       "       [ 1.16160912e-01,  8.42134581e-01, -1.36088252e+00],\n",
       "       [-1.28976758e+00, -1.45170339e+00, -6.89671587e-01],\n",
       "       [-5.25648823e-01, -1.31655075e+00, -1.14739206e+00],\n",
       "       [ 4.08043319e-01, -8.92449945e-01, -1.31745033e+00],\n",
       "       [ 1.45296134e+00,  1.17692309e+00,  1.43118839e+00],\n",
       "       [ 9.63990315e-01, -9.54440685e-01, -1.09208266e+00]])"
      ]
     },
     "execution_count": 68,
     "metadata": {},
     "output_type": "execute_result"
    }
   ],
   "source": [
    "# Scaling the Feature data\n",
    "\n",
    "from sklearn.preprocessing import StandardScaler\n",
    "SC=StandardScaler()\n",
    "x=SC.fit_transform(x)\n",
    "x"
   ]
  },
  {
   "cell_type": "markdown",
   "id": "41771b5b",
   "metadata": {},
   "source": [
    "# Train Test Split"
   ]
  },
  {
   "cell_type": "code",
   "execution_count": 69,
   "id": "6af118c5",
   "metadata": {},
   "outputs": [],
   "source": [
    "x_train, x_test, y_train, y_test = train_test_split(x,y, test_size = 0.20, random_state=100)"
   ]
  },
  {
   "cell_type": "code",
   "execution_count": 70,
   "id": "f49b2cc1",
   "metadata": {},
   "outputs": [
    {
     "name": "stdout",
     "output_type": "stream",
     "text": [
      "shape of x_train=  (159, 3)\n",
      "shape of y_train=  (159,)\n",
      "shape of x_test=  (40, 3)\n",
      "shape of y_test=  (40,)\n"
     ]
    }
   ],
   "source": [
    "print(\"shape of x_train= \",x_train.shape)\n",
    "print(\"shape of y_train= \",y_train.shape)\n",
    "print(\"shape of x_test= \",x_test.shape)\n",
    "print(\"shape of y_test= \",y_test.shape)"
   ]
  },
  {
   "cell_type": "markdown",
   "id": "f5679bba",
   "metadata": {},
   "source": [
    "# Model Building"
   ]
  },
  {
   "cell_type": "markdown",
   "id": "11a69049",
   "metadata": {},
   "source": [
    "Linear Regression Model Build:"
   ]
  },
  {
   "cell_type": "code",
   "execution_count": 71,
   "id": "8a849a83",
   "metadata": {},
   "outputs": [
    {
     "name": "stdout",
     "output_type": "stream",
     "text": [
      "0.9396714701935647\n",
      "1.440342140915399\n",
      "1.200142550247844\n"
     ]
    }
   ],
   "source": [
    "lr = LinearRegression()\n",
    "lr.fit(x_train,y_train)\n",
    "predlr = lr.predict(x_test)\n",
    "print(r2_score(y_test,predlr))\n",
    "print(mean_squared_error(y_test,predlr))\n",
    "print(np.sqrt(mean_squared_error(y_test,predlr)))"
   ]
  },
  {
   "cell_type": "code",
   "execution_count": 72,
   "id": "43c074e8",
   "metadata": {},
   "outputs": [
    {
     "name": "stdout",
     "output_type": "stream",
     "text": [
      "Cross validation score for Linear Regression Model is  0.89852551141311\n"
     ]
    }
   ],
   "source": [
    "scr = cross_val_score(lr,x,y,cv=5)\n",
    "print('Cross validation score for Linear Regression Model is ',scr.mean())"
   ]
  },
  {
   "cell_type": "markdown",
   "id": "1d6e13d0",
   "metadata": {},
   "source": [
    "Linear Regression Model Difference is 92.57 - 89.53 = 3.04¶"
   ]
  },
  {
   "cell_type": "markdown",
   "id": "af651c2d",
   "metadata": {},
   "source": [
    "Ridge Regression Model Build:"
   ]
  },
  {
   "cell_type": "code",
   "execution_count": 73,
   "id": "ac332cec",
   "metadata": {},
   "outputs": [
    {
     "name": "stdout",
     "output_type": "stream",
     "text": [
      "0.9400986292438649\n",
      "1.430143729268457\n",
      "1.1958861690263236\n"
     ]
    }
   ],
   "source": [
    "r = Ridge()\n",
    "r.fit(x_train,y_train)\n",
    "predr = r.predict(x_test)\n",
    "print(r2_score(y_test,predr))\n",
    "print(mean_squared_error(y_test,predr))\n",
    "print(np.sqrt(mean_squared_error(y_test,predr)))"
   ]
  },
  {
   "cell_type": "code",
   "execution_count": 74,
   "id": "36dd064c",
   "metadata": {},
   "outputs": [
    {
     "name": "stdout",
     "output_type": "stream",
     "text": [
      "Cross validation score for Ridge Regression Model is 0.898593516013413\n"
     ]
    }
   ],
   "source": [
    "scr = cross_val_score(r,x,y,cv=5)\n",
    "print('Cross validation score for Ridge Regression Model is', scr.mean())"
   ]
  },
  {
   "cell_type": "markdown",
   "id": "305f63a8",
   "metadata": {},
   "source": [
    "idge Regression Model Difference is 92.48 - 89.53 = 2.95"
   ]
  },
  {
   "cell_type": "markdown",
   "id": "8108aa60",
   "metadata": {},
   "source": [
    "Lasso Regression Model Build:"
   ]
  },
  {
   "cell_type": "code",
   "execution_count": 76,
   "id": "ec7bc9ec",
   "metadata": {},
   "outputs": [
    {
     "name": "stdout",
     "output_type": "stream",
     "text": [
      "0.8821831989103066\n",
      "2.8128731805964025\n",
      "1.6771622403919075\n"
     ]
    }
   ],
   "source": [
    "l = Lasso()\n",
    "l.fit(x_train,y_train)\n",
    "predl = l.predict(x_test)\n",
    "print(r2_score(y_test,predl))\n",
    "print(mean_squared_error(y_test,predl))\n",
    "print(np.sqrt(mean_squared_error(y_test,predl)))"
   ]
  },
  {
   "cell_type": "code",
   "execution_count": 77,
   "id": "fdfbbea1",
   "metadata": {},
   "outputs": [
    {
     "name": "stdout",
     "output_type": "stream",
     "text": [
      "Cross validation score for Lasso Regression Model is  0.8279404861391437\n"
     ]
    }
   ],
   "source": [
    "scr = cross_val_score(l,x,y,cv=5)\n",
    "print('Cross validation score for Lasso Regression Model is ', scr.mean())"
   ]
  },
  {
   "cell_type": "markdown",
   "id": "698ae0b7",
   "metadata": {},
   "source": [
    "Lasso Regression Model Difference is 82.85 - 82.70 = 0.15¶"
   ]
  },
  {
   "cell_type": "markdown",
   "id": "16586361",
   "metadata": {},
   "source": [
    "Random Forest Regressor Model Build:"
   ]
  },
  {
   "cell_type": "code",
   "execution_count": 80,
   "id": "780b60ba",
   "metadata": {},
   "outputs": [
    {
     "name": "stdout",
     "output_type": "stream",
     "text": [
      "0.9869144208527967\n",
      "0.31241787500000157\n",
      "0.5589435347152711\n"
     ]
    }
   ],
   "source": [
    "rf = RandomForestRegressor()\n",
    "rf.fit(x_train,y_train)\n",
    "predrf = rf.predict(x_test)\n",
    "print(r2_score(y_test,predrf))\n",
    "print(mean_squared_error(y_test,predrf))\n",
    "print(np.sqrt(mean_squared_error(y_test,predrf)))"
   ]
  },
  {
   "cell_type": "code",
   "execution_count": 81,
   "id": "6ad8fa04",
   "metadata": {},
   "outputs": [
    {
     "name": "stdout",
     "output_type": "stream",
     "text": [
      "Cross validation score for Random Forest Regressor Model is 0.9742391235260376\n"
     ]
    }
   ],
   "source": [
    "scr = cross_val_score(rf,x,y,cv=5)\n",
    "print('Cross validation score for Random Forest Regressor Model is', scr.mean())"
   ]
  },
  {
   "cell_type": "markdown",
   "id": "2f2f2d81",
   "metadata": {},
   "source": [
    "Random Forest Regressor Model Difference is 98.53 - 97.33 = 1.20"
   ]
  },
  {
   "cell_type": "markdown",
   "id": "8e11376c",
   "metadata": {},
   "source": [
    "# Hyper Parameter Tuning"
   ]
  },
  {
   "cell_type": "code",
   "execution_count": 83,
   "id": "8d2f4a6c",
   "metadata": {},
   "outputs": [
    {
     "data": {
      "text/html": [
       "<style>#sk-container-id-1 {color: black;background-color: white;}#sk-container-id-1 pre{padding: 0;}#sk-container-id-1 div.sk-toggleable {background-color: white;}#sk-container-id-1 label.sk-toggleable__label {cursor: pointer;display: block;width: 100%;margin-bottom: 0;padding: 0.3em;box-sizing: border-box;text-align: center;}#sk-container-id-1 label.sk-toggleable__label-arrow:before {content: \"▸\";float: left;margin-right: 0.25em;color: #696969;}#sk-container-id-1 label.sk-toggleable__label-arrow:hover:before {color: black;}#sk-container-id-1 div.sk-estimator:hover label.sk-toggleable__label-arrow:before {color: black;}#sk-container-id-1 div.sk-toggleable__content {max-height: 0;max-width: 0;overflow: hidden;text-align: left;background-color: #f0f8ff;}#sk-container-id-1 div.sk-toggleable__content pre {margin: 0.2em;color: black;border-radius: 0.25em;background-color: #f0f8ff;}#sk-container-id-1 input.sk-toggleable__control:checked~div.sk-toggleable__content {max-height: 200px;max-width: 100%;overflow: auto;}#sk-container-id-1 input.sk-toggleable__control:checked~label.sk-toggleable__label-arrow:before {content: \"▾\";}#sk-container-id-1 div.sk-estimator input.sk-toggleable__control:checked~label.sk-toggleable__label {background-color: #d4ebff;}#sk-container-id-1 div.sk-label input.sk-toggleable__control:checked~label.sk-toggleable__label {background-color: #d4ebff;}#sk-container-id-1 input.sk-hidden--visually {border: 0;clip: rect(1px 1px 1px 1px);clip: rect(1px, 1px, 1px, 1px);height: 1px;margin: -1px;overflow: hidden;padding: 0;position: absolute;width: 1px;}#sk-container-id-1 div.sk-estimator {font-family: monospace;background-color: #f0f8ff;border: 1px dotted black;border-radius: 0.25em;box-sizing: border-box;margin-bottom: 0.5em;}#sk-container-id-1 div.sk-estimator:hover {background-color: #d4ebff;}#sk-container-id-1 div.sk-parallel-item::after {content: \"\";width: 100%;border-bottom: 1px solid gray;flex-grow: 1;}#sk-container-id-1 div.sk-label:hover label.sk-toggleable__label {background-color: #d4ebff;}#sk-container-id-1 div.sk-serial::before {content: \"\";position: absolute;border-left: 1px solid gray;box-sizing: border-box;top: 0;bottom: 0;left: 50%;z-index: 0;}#sk-container-id-1 div.sk-serial {display: flex;flex-direction: column;align-items: center;background-color: white;padding-right: 0.2em;padding-left: 0.2em;position: relative;}#sk-container-id-1 div.sk-item {position: relative;z-index: 1;}#sk-container-id-1 div.sk-parallel {display: flex;align-items: stretch;justify-content: center;background-color: white;position: relative;}#sk-container-id-1 div.sk-item::before, #sk-container-id-1 div.sk-parallel-item::before {content: \"\";position: absolute;border-left: 1px solid gray;box-sizing: border-box;top: 0;bottom: 0;left: 50%;z-index: -1;}#sk-container-id-1 div.sk-parallel-item {display: flex;flex-direction: column;z-index: 1;position: relative;background-color: white;}#sk-container-id-1 div.sk-parallel-item:first-child::after {align-self: flex-end;width: 50%;}#sk-container-id-1 div.sk-parallel-item:last-child::after {align-self: flex-start;width: 50%;}#sk-container-id-1 div.sk-parallel-item:only-child::after {width: 0;}#sk-container-id-1 div.sk-dashed-wrapped {border: 1px dashed gray;margin: 0 0.4em 0.5em 0.4em;box-sizing: border-box;padding-bottom: 0.4em;background-color: white;}#sk-container-id-1 div.sk-label label {font-family: monospace;font-weight: bold;display: inline-block;line-height: 1.2em;}#sk-container-id-1 div.sk-label-container {text-align: center;}#sk-container-id-1 div.sk-container {/* jupyter's `normalize.less` sets `[hidden] { display: none; }` but bootstrap.min.css set `[hidden] { display: none !important; }` so we also need the `!important` here to be able to override the default hidden behavior on the sphinx rendered scikit-learn.org. See: https://github.com/scikit-learn/scikit-learn/issues/21755 */display: inline-block !important;position: relative;}#sk-container-id-1 div.sk-text-repr-fallback {display: none;}</style><div id=\"sk-container-id-1\" class=\"sk-top-container\"><div class=\"sk-text-repr-fallback\"><pre>GridSearchCV(cv=5, estimator=Lasso(),\n",
       "             param_grid={&#x27;alpha&#x27;: [4.0, 5.0, 6.0, 7.0, 8.0, 10.0],\n",
       "                         &#x27;max_iter&#x27;: [200, 900],\n",
       "                         &#x27;random_state&#x27;: [200, 700, 900],\n",
       "                         &#x27;selection&#x27;: [&#x27;cyclic&#x27;, &#x27;random&#x27;]})</pre><b>In a Jupyter environment, please rerun this cell to show the HTML representation or trust the notebook. <br />On GitHub, the HTML representation is unable to render, please try loading this page with nbviewer.org.</b></div><div class=\"sk-container\" hidden><div class=\"sk-item sk-dashed-wrapped\"><div class=\"sk-label-container\"><div class=\"sk-label sk-toggleable\"><input class=\"sk-toggleable__control sk-hidden--visually\" id=\"sk-estimator-id-1\" type=\"checkbox\" ><label for=\"sk-estimator-id-1\" class=\"sk-toggleable__label sk-toggleable__label-arrow\">GridSearchCV</label><div class=\"sk-toggleable__content\"><pre>GridSearchCV(cv=5, estimator=Lasso(),\n",
       "             param_grid={&#x27;alpha&#x27;: [4.0, 5.0, 6.0, 7.0, 8.0, 10.0],\n",
       "                         &#x27;max_iter&#x27;: [200, 900],\n",
       "                         &#x27;random_state&#x27;: [200, 700, 900],\n",
       "                         &#x27;selection&#x27;: [&#x27;cyclic&#x27;, &#x27;random&#x27;]})</pre></div></div></div><div class=\"sk-parallel\"><div class=\"sk-parallel-item\"><div class=\"sk-item\"><div class=\"sk-label-container\"><div class=\"sk-label sk-toggleable\"><input class=\"sk-toggleable__control sk-hidden--visually\" id=\"sk-estimator-id-2\" type=\"checkbox\" ><label for=\"sk-estimator-id-2\" class=\"sk-toggleable__label sk-toggleable__label-arrow\">estimator: Lasso</label><div class=\"sk-toggleable__content\"><pre>Lasso()</pre></div></div></div><div class=\"sk-serial\"><div class=\"sk-item\"><div class=\"sk-estimator sk-toggleable\"><input class=\"sk-toggleable__control sk-hidden--visually\" id=\"sk-estimator-id-3\" type=\"checkbox\" ><label for=\"sk-estimator-id-3\" class=\"sk-toggleable__label sk-toggleable__label-arrow\">Lasso</label><div class=\"sk-toggleable__content\"><pre>Lasso()</pre></div></div></div></div></div></div></div></div></div></div>"
      ],
      "text/plain": [
       "GridSearchCV(cv=5, estimator=Lasso(),\n",
       "             param_grid={'alpha': [4.0, 5.0, 6.0, 7.0, 8.0, 10.0],\n",
       "                         'max_iter': [200, 900],\n",
       "                         'random_state': [200, 700, 900],\n",
       "                         'selection': ['cyclic', 'random']})"
      ]
     },
     "execution_count": 83,
     "metadata": {},
     "output_type": "execute_result"
    }
   ],
   "source": [
    "parameters1 = {'alpha': [4.0, 5.0, 6.0, 7.0, 8.0, 10.0],\n",
    "             'random_state': [200, 700, 900],\n",
    "             'max_iter': [200, 900],\n",
    "             'selection': ['cyclic','random']}\n",
    "GCV=GridSearchCV(Lasso(),parameters1,cv=5)\n",
    "GCV.fit(x_train,y_train)"
   ]
  },
  {
   "cell_type": "code",
   "execution_count": 84,
   "id": "43e77af7",
   "metadata": {},
   "outputs": [
    {
     "data": {
      "text/plain": [
       "{'alpha': 4.0, 'max_iter': 200, 'random_state': 200, 'selection': 'cyclic'}"
      ]
     },
     "execution_count": 84,
     "metadata": {},
     "output_type": "execute_result"
    }
   ],
   "source": [
    "GCV.best_params_"
   ]
  },
  {
   "cell_type": "markdown",
   "id": "40981202",
   "metadata": {},
   "source": [
    "# Obtaining the Best Parameters for Hyper parameters tuning"
   ]
  },
  {
   "cell_type": "code",
   "execution_count": 85,
   "id": "95a16f5f",
   "metadata": {},
   "outputs": [
    {
     "name": "stdout",
     "output_type": "stream",
     "text": [
      "98.69144208527968\n",
      "0.31241787500000157\n",
      "0.5589435347152711\n"
     ]
    }
   ],
   "source": [
    "mod1=Lasso(alpha=4.0,random_state=200,selection='cyclic',max_iter=200)\n",
    "\n",
    "mod1.fit(x_train,y_train)\n",
    "pred=mod1.predict(x_test)\n",
    "print(r2_score(y_test,predrf)*100)\n",
    "print(mean_squared_error(y_test,predrf))\n",
    "print(np.sqrt(mean_squared_error(y_test,predrf)))"
   ]
  },
  {
   "cell_type": "markdown",
   "id": "40f7c14a",
   "metadata": {},
   "source": [
    "Lasso Model r2_score after Hyper parameter Tuning is 98.53%"
   ]
  },
  {
   "cell_type": "code",
   "execution_count": null,
   "id": "b1de9b2c",
   "metadata": {},
   "outputs": [],
   "source": []
  }
 ],
 "metadata": {
  "kernelspec": {
   "display_name": "Python 3 (ipykernel)",
   "language": "python",
   "name": "python3"
  },
  "language_info": {
   "codemirror_mode": {
    "name": "ipython",
    "version": 3
   },
   "file_extension": ".py",
   "mimetype": "text/x-python",
   "name": "python",
   "nbconvert_exporter": "python",
   "pygments_lexer": "ipython3",
   "version": "3.9.7"
  }
 },
 "nbformat": 4,
 "nbformat_minor": 5
}
