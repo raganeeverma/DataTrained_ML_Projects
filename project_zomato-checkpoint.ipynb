{
 "cells": [
  {
   "cell_type": "markdown",
   "id": "76bc7079",
   "metadata": {},
   "source": [
    "# Zomato Restaurant Project"
   ]
  },
  {
   "cell_type": "markdown",
   "id": "ce7d1b06",
   "metadata": {},
   "source": [
    "# Problem Statement:\n",
    "\n",
    "Zomato Data Analysis is one of the most useful analysis for foodies who want to taste the best\n",
    "cuisines of every part of the world which lies in their budget. This analysis is also for those who\n",
    "want to find the value for money restaurants in various parts of the country for the cuisines.\n",
    "Additionally, this analysis caters the needs of people who are striving to get the best cuisine of\n",
    "the country and which locality of that country serves that cuisines with maximum number of\n",
    "restaurants."
   ]
  },
  {
   "cell_type": "markdown",
   "id": "a487ec19",
   "metadata": {},
   "source": [
    "# Data Description  :\n",
    "\n",
    "Data Storage:\n",
    "\n",
    "This problem statement contains two datasets- Zomato.csv and country_code.csv.\n",
    "Country_code.csv contains two variables:\n",
    "\n",
    " Country code\n",
    "\n",
    " Country name\n",
    "\n",
    "The collected data has been stored in the Comma Separated Value file Zomato.csv. Each\n",
    "restaurant in the dataset is uniquely identified by its Restaurant Id. Every Restaurant contains the\n",
    "following variables:\n",
    "\n",
    "• Restaurant Id: Unique id of every restaurant across various cities of the world\n",
    "\n",
    "• Restaurant Name: Name of the restaurant\n",
    "\n",
    "• Country Code: Country in which restaurant is located\n",
    "\n",
    "• City: City in which restaurant is located\n",
    "\n",
    "• Address: Address of the restaurant\n",
    "\n",
    "• Locality: Location in the city\n",
    "\n",
    "• Locality Verbose: Detailed description of the locality\n",
    "\n",
    "• Longitude: Longitude coordinate of the restaurant&#39;s location\n",
    "\n",
    "• Latitude: Latitude coordinate of the restaurant&#39;s location\n",
    "\n",
    "• Cuisines: Cuisines offered by the restaurant\n",
    "\n",
    "• Average Cost for two: Cost for two people in different currencies ��\n",
    "\n",
    "• Currency: Currency of the country\n",
    "\n",
    "• Has Table booking: yes/no\n",
    "\n",
    "• Has Online delivery: yes/ no\n",
    "\n",
    "• Is delivering: yes/ no\n",
    "\n",
    "• Switch to order menu: yes/no\n",
    "\n",
    "• Price range: range of price of food\n",
    "\n",
    "• Aggregate Rating: Average rating out of 5\n",
    "\n",
    "• Rating color: depending upon the average rating color\n",
    "\n",
    "• Rating text: text on the basis of rating of rating\n",
    "\n",
    "• Votes: Number of ratings casted by people\n",
    "\n"
   ]
  },
  {
   "cell_type": "markdown",
   "id": "0701aafe",
   "metadata": {},
   "source": [
    "# Goal:\n",
    "\n",
    "In this dataset predict 2 things –\n",
    "1) Average Cost for two\n",
    "2) Price range\n"
   ]
  },
  {
   "cell_type": "markdown",
   "id": "65fe96c7",
   "metadata": {},
   "source": [
    "# Importing All Requaired Libraries¶"
   ]
  },
  {
   "cell_type": "code",
   "execution_count": 1,
   "id": "4c26335b",
   "metadata": {},
   "outputs": [],
   "source": [
    "#Importing required packages.\n",
    "\n",
    "import pandas as pd\n",
    "import numpy as np\n",
    "import scipy.stats as st\n",
    "\n",
    "#ploting libraries\n",
    "import matplotlib\n",
    "import matplotlib.pyplot as plt\n",
    "import seaborn as sns\n",
    "\n",
    "\n",
    "#feature engineering\n",
    "\n",
    "from sklearn.preprocessing import StandardScaler, LabelEncoder\n",
    "\n",
    "#train test split and cross validation\n",
    "from sklearn.model_selection import train_test_split, GridSearchCV, cross_val_score\n",
    "from scipy.stats import zscore\n",
    "\n",
    "\n",
    "#metrics\n",
    "from sklearn import metrics\n",
    "from sklearn.metrics import confusion_matrix, classification_report,accuracy_score\n",
    "from sklearn.metrics import r2_score,mean_squared_error\n",
    "\n",
    "\n",
    "#regreassion\n",
    "from sklearn.linear_model import LinearRegression, Ridge, Lasso\n",
    "from sklearn.svm import SVR\n",
    "from sklearn.tree import DecisionTreeRegressor\n",
    "from sklearn.ensemble import RandomForestRegressor\n",
    "from sklearn.neighbors import KNeighborsRegressor\n",
    "from sklearn.ensemble import AdaBoostRegressor\n",
    "from sklearn.ensemble import ExtraTreesRegressor\n",
    "from sklearn.ensemble import GradientBoostingRegressor\n",
    "from sklearn.metrics import r2_score\n",
    "from sklearn.metrics import mean_squared_error\n",
    "\n",
    "#ML models for classification\n",
    "import sklearn\n",
    "from sklearn.svm import SVC\n",
    "from sklearn.neighbors import KNeighborsClassifier\n",
    "from sklearn.tree import DecisionTreeClassifier\n",
    "from sklearn.ensemble import RandomForestClassifier\n",
    "from sklearn.linear_model import LogisticRegression\n",
    "from sklearn.ensemble import GradientBoostingClassifier\n",
    "\n",
    "\n",
    "%matplotlib inline\n",
    "import warnings\n",
    "warnings.filterwarnings('ignore')"
   ]
  },
  {
   "cell_type": "markdown",
   "id": "72f0d394",
   "metadata": {},
   "source": [
    "# Import Dataset"
   ]
  },
  {
   "cell_type": "code",
   "execution_count": 2,
   "id": "87a9359a",
   "metadata": {},
   "outputs": [
    {
     "data": {
      "text/plain": [
       "(9551, 21)"
      ]
     },
     "execution_count": 2,
     "metadata": {},
     "output_type": "execute_result"
    }
   ],
   "source": [
    "#loading data sets\n",
    "df1 = pd.read_csv('zomato.csv')\n",
    "\n",
    "# No. of rows and columns \n",
    "df1.shape"
   ]
  },
  {
   "cell_type": "markdown",
   "id": "904c1116",
   "metadata": {},
   "source": [
    "We have 9551 rows and 21 columns"
   ]
  },
  {
   "cell_type": "markdown",
   "id": "6f562058",
   "metadata": {},
   "source": [
    "There is an other file which is also available along with this dataset let's import this file"
   ]
  },
  {
   "cell_type": "code",
   "execution_count": 3,
   "id": "8794d021",
   "metadata": {},
   "outputs": [
    {
     "data": {
      "text/html": [
       "<div>\n",
       "<style scoped>\n",
       "    .dataframe tbody tr th:only-of-type {\n",
       "        vertical-align: middle;\n",
       "    }\n",
       "\n",
       "    .dataframe tbody tr th {\n",
       "        vertical-align: top;\n",
       "    }\n",
       "\n",
       "    .dataframe thead th {\n",
       "        text-align: right;\n",
       "    }\n",
       "</style>\n",
       "<table border=\"1\" class=\"dataframe\">\n",
       "  <thead>\n",
       "    <tr style=\"text-align: right;\">\n",
       "      <th></th>\n",
       "      <th>Country Code</th>\n",
       "      <th>Country</th>\n",
       "    </tr>\n",
       "  </thead>\n",
       "  <tbody>\n",
       "    <tr>\n",
       "      <th>0</th>\n",
       "      <td>1</td>\n",
       "      <td>India</td>\n",
       "    </tr>\n",
       "    <tr>\n",
       "      <th>1</th>\n",
       "      <td>14</td>\n",
       "      <td>Australia</td>\n",
       "    </tr>\n",
       "    <tr>\n",
       "      <th>2</th>\n",
       "      <td>30</td>\n",
       "      <td>Brazil</td>\n",
       "    </tr>\n",
       "    <tr>\n",
       "      <th>3</th>\n",
       "      <td>37</td>\n",
       "      <td>Canada</td>\n",
       "    </tr>\n",
       "    <tr>\n",
       "      <th>4</th>\n",
       "      <td>94</td>\n",
       "      <td>Indonesia</td>\n",
       "    </tr>\n",
       "  </tbody>\n",
       "</table>\n",
       "</div>"
      ],
      "text/plain": [
       "   Country Code    Country\n",
       "0             1      India\n",
       "1            14  Australia\n",
       "2            30     Brazil\n",
       "3            37     Canada\n",
       "4            94  Indonesia"
      ]
     },
     "execution_count": 3,
     "metadata": {},
     "output_type": "execute_result"
    }
   ],
   "source": [
    "df2 = pd.read_excel('C:\\INTERNSHIP\\Country-Code.xlsx')\n",
    "df2.head()"
   ]
  },
  {
   "cell_type": "markdown",
   "id": "b79a7e1e",
   "metadata": {},
   "source": [
    "# Merg both the file\n",
    "\n",
    "We merge both the datasets. This will help us to understand the dataset country wise."
   ]
  },
  {
   "cell_type": "code",
   "execution_count": 4,
   "id": "0e15adbb",
   "metadata": {},
   "outputs": [],
   "source": [
    "df = pd.merge(df1,df2,on='Country Code',how='left')\n"
   ]
  },
  {
   "cell_type": "code",
   "execution_count": 5,
   "id": "6eba7e2e",
   "metadata": {},
   "outputs": [
    {
     "data": {
      "text/html": [
       "<div>\n",
       "<style scoped>\n",
       "    .dataframe tbody tr th:only-of-type {\n",
       "        vertical-align: middle;\n",
       "    }\n",
       "\n",
       "    .dataframe tbody tr th {\n",
       "        vertical-align: top;\n",
       "    }\n",
       "\n",
       "    .dataframe thead th {\n",
       "        text-align: right;\n",
       "    }\n",
       "</style>\n",
       "<table border=\"1\" class=\"dataframe\">\n",
       "  <thead>\n",
       "    <tr style=\"text-align: right;\">\n",
       "      <th></th>\n",
       "      <th>Restaurant ID</th>\n",
       "      <th>Restaurant Name</th>\n",
       "      <th>Country Code</th>\n",
       "      <th>City</th>\n",
       "      <th>Address</th>\n",
       "      <th>Locality</th>\n",
       "      <th>Locality Verbose</th>\n",
       "      <th>Longitude</th>\n",
       "      <th>Latitude</th>\n",
       "      <th>Cuisines</th>\n",
       "      <th>Average Cost for two</th>\n",
       "      <th>Currency</th>\n",
       "      <th>Has Table booking</th>\n",
       "      <th>Has Online delivery</th>\n",
       "      <th>Is delivering now</th>\n",
       "      <th>Switch to order menu</th>\n",
       "      <th>Price range</th>\n",
       "      <th>Aggregate rating</th>\n",
       "      <th>Rating color</th>\n",
       "      <th>Rating text</th>\n",
       "      <th>Votes</th>\n",
       "      <th>Country</th>\n",
       "    </tr>\n",
       "  </thead>\n",
       "  <tbody>\n",
       "    <tr>\n",
       "      <th>5808</th>\n",
       "      <td>18474850</td>\n",
       "      <td>Sardar A Pure Meat Shop</td>\n",
       "      <td>1</td>\n",
       "      <td>New Delhi</td>\n",
       "      <td>E-46, Main Road, Naraina, New Delhi</td>\n",
       "      <td>Naraina</td>\n",
       "      <td>Naraina, New Delhi</td>\n",
       "      <td>0.000000</td>\n",
       "      <td>0.00000</td>\n",
       "      <td>Raw Meats, Fast Food, North Indian</td>\n",
       "      <td>150</td>\n",
       "      <td>Indian Rupees(Rs.)</td>\n",
       "      <td>No</td>\n",
       "      <td>No</td>\n",
       "      <td>No</td>\n",
       "      <td>No</td>\n",
       "      <td>1</td>\n",
       "      <td>0.0</td>\n",
       "      <td>White</td>\n",
       "      <td>Not rated</td>\n",
       "      <td>0</td>\n",
       "      <td>India</td>\n",
       "    </tr>\n",
       "    <tr>\n",
       "      <th>8984</th>\n",
       "      <td>18418232</td>\n",
       "      <td>Cafe Hot Pot</td>\n",
       "      <td>1</td>\n",
       "      <td>Noida</td>\n",
       "      <td>Near Amrapali Zodiac Market, Sector 72, Noida</td>\n",
       "      <td>Sector 72</td>\n",
       "      <td>Sector 72, Noida</td>\n",
       "      <td>77.399278</td>\n",
       "      <td>28.58528</td>\n",
       "      <td>Fast Food</td>\n",
       "      <td>100</td>\n",
       "      <td>Indian Rupees(Rs.)</td>\n",
       "      <td>No</td>\n",
       "      <td>No</td>\n",
       "      <td>No</td>\n",
       "      <td>No</td>\n",
       "      <td>1</td>\n",
       "      <td>0.0</td>\n",
       "      <td>White</td>\n",
       "      <td>Not rated</td>\n",
       "      <td>0</td>\n",
       "      <td>India</td>\n",
       "    </tr>\n",
       "  </tbody>\n",
       "</table>\n",
       "</div>"
      ],
      "text/plain": [
       "      Restaurant ID          Restaurant Name  Country Code       City  \\\n",
       "5808       18474850  Sardar A Pure Meat Shop             1  New Delhi   \n",
       "8984       18418232             Cafe Hot Pot             1      Noida   \n",
       "\n",
       "                                            Address   Locality  \\\n",
       "5808            E-46, Main Road, Naraina, New Delhi    Naraina   \n",
       "8984  Near Amrapali Zodiac Market, Sector 72, Noida  Sector 72   \n",
       "\n",
       "        Locality Verbose  Longitude  Latitude  \\\n",
       "5808  Naraina, New Delhi   0.000000   0.00000   \n",
       "8984    Sector 72, Noida  77.399278  28.58528   \n",
       "\n",
       "                                Cuisines  Average Cost for two  \\\n",
       "5808  Raw Meats, Fast Food, North Indian                   150   \n",
       "8984                           Fast Food                   100   \n",
       "\n",
       "                Currency Has Table booking Has Online delivery  \\\n",
       "5808  Indian Rupees(Rs.)                No                  No   \n",
       "8984  Indian Rupees(Rs.)                No                  No   \n",
       "\n",
       "     Is delivering now Switch to order menu  Price range  Aggregate rating  \\\n",
       "5808                No                   No            1               0.0   \n",
       "8984                No                   No            1               0.0   \n",
       "\n",
       "     Rating color Rating text  Votes Country  \n",
       "5808        White   Not rated      0   India  \n",
       "8984        White   Not rated      0   India  "
      ]
     },
     "execution_count": 5,
     "metadata": {},
     "output_type": "execute_result"
    }
   ],
   "source": [
    "#show all columns in dataframe\n",
    "\n",
    "pd.set_option('display.max_columns', None)\n",
    "\n",
    "df.sample(2)"
   ]
  },
  {
   "cell_type": "markdown",
   "id": "2f09efc5",
   "metadata": {},
   "source": [
    "Above details shows the dataset being imported from both  files."
   ]
  },
  {
   "cell_type": "code",
   "execution_count": 6,
   "id": "6389120c",
   "metadata": {},
   "outputs": [
    {
     "data": {
      "text/plain": [
       "Index(['Restaurant ID', 'Restaurant Name', 'Country Code', 'City', 'Address',\n",
       "       'Locality', 'Locality Verbose', 'Longitude', 'Latitude', 'Cuisines',\n",
       "       'Average Cost for two', 'Currency', 'Has Table booking',\n",
       "       'Has Online delivery', 'Is delivering now', 'Switch to order menu',\n",
       "       'Price range', 'Aggregate rating', 'Rating color', 'Rating text',\n",
       "       'Votes', 'Country'],\n",
       "      dtype='object')"
      ]
     },
     "execution_count": 6,
     "metadata": {},
     "output_type": "execute_result"
    }
   ],
   "source": [
    "df.columns  # All column name of dataset"
   ]
  },
  {
   "cell_type": "code",
   "execution_count": 7,
   "id": "bea6d5eb",
   "metadata": {},
   "outputs": [
    {
     "name": "stdout",
     "output_type": "stream",
     "text": [
      "<class 'pandas.core.frame.DataFrame'>\n",
      "Int64Index: 9551 entries, 0 to 9550\n",
      "Data columns (total 22 columns):\n",
      " #   Column                Non-Null Count  Dtype  \n",
      "---  ------                --------------  -----  \n",
      " 0   Restaurant ID         9551 non-null   int64  \n",
      " 1   Restaurant Name       9551 non-null   object \n",
      " 2   Country Code          9551 non-null   int64  \n",
      " 3   City                  9551 non-null   object \n",
      " 4   Address               9551 non-null   object \n",
      " 5   Locality              9551 non-null   object \n",
      " 6   Locality Verbose      9551 non-null   object \n",
      " 7   Longitude             9551 non-null   float64\n",
      " 8   Latitude              9551 non-null   float64\n",
      " 9   Cuisines              9542 non-null   object \n",
      " 10  Average Cost for two  9551 non-null   int64  \n",
      " 11  Currency              9551 non-null   object \n",
      " 12  Has Table booking     9551 non-null   object \n",
      " 13  Has Online delivery   9551 non-null   object \n",
      " 14  Is delivering now     9551 non-null   object \n",
      " 15  Switch to order menu  9551 non-null   object \n",
      " 16  Price range           9551 non-null   int64  \n",
      " 17  Aggregate rating      9551 non-null   float64\n",
      " 18  Rating color          9551 non-null   object \n",
      " 19  Rating text           9551 non-null   object \n",
      " 20  Votes                 9551 non-null   int64  \n",
      " 21  Country               9551 non-null   object \n",
      "dtypes: float64(3), int64(5), object(14)\n",
      "memory usage: 1.7+ MB\n"
     ]
    }
   ],
   "source": [
    "df.info() # information obout datasets"
   ]
  },
  {
   "cell_type": "markdown",
   "id": "e56a5c97",
   "metadata": {},
   "source": [
    "observation:\n",
    "    \n",
    "Shows the information about dataset.\n",
    "\n",
    "few missing value are present in Cuision column because the value are different.\n",
    "\n",
    "Intiger ,float and object type data are present there.\n",
    "\n",
    "The Standard Deviation is very high on 'Average Cost for two'. It is for different countries having different currency.\n",
    "\n",
    "There are 15 countries in this dataset and their currencies are not standardized.\n",
    "\n",
    "Look at the maximum of average price for two : 800000.\n"
   ]
  },
  {
   "cell_type": "markdown",
   "id": "8ae3144b",
   "metadata": {},
   "source": [
    "# Segregate the numerical and Categorical variables"
   ]
  },
  {
   "cell_type": "code",
   "execution_count": 8,
   "id": "72684940",
   "metadata": {},
   "outputs": [
    {
     "name": "stdout",
     "output_type": "stream",
     "text": [
      "Number of Categorical Features: 14\n",
      "Categorical Features:  ['Restaurant Name', 'City', 'Address', 'Locality', 'Locality Verbose', 'Cuisines', 'Currency', 'Has Table booking', 'Has Online delivery', 'Is delivering now', 'Switch to order menu', 'Rating color', 'Rating text', 'Country']\n"
     ]
    }
   ],
   "source": [
    "categorical = [feature for feature in df.columns if df[feature].dtypes=='object']\n",
    "print(\"Number of Categorical Features: {}\".format(len(categorical)))\n",
    "print(\"Categorical Features: \",categorical)"
   ]
  },
  {
   "cell_type": "code",
   "execution_count": 9,
   "id": "f0cfbbab",
   "metadata": {},
   "outputs": [
    {
     "name": "stdout",
     "output_type": "stream",
     "text": [
      "Number of numerical = Features: 8\n",
      "numerical = Features:  ['Restaurant ID', 'Country Code', 'Longitude', 'Latitude', 'Average Cost for two', 'Price range', 'Aggregate rating', 'Votes']\n"
     ]
    }
   ],
   "source": [
    "numerical = [feature for feature in df.columns if df[feature].dtypes!='object']\n",
    "print(\"Number of numerical = Features: {}\".format(len(numerical)))\n",
    "print(\"numerical = Features: \", numerical )"
   ]
  },
  {
   "cell_type": "markdown",
   "id": "24409e8c",
   "metadata": {},
   "source": [
    "# Statistical data analysis"
   ]
  },
  {
   "cell_type": "code",
   "execution_count": 10,
   "id": "ea814a13",
   "metadata": {},
   "outputs": [
    {
     "data": {
      "text/html": [
       "<div>\n",
       "<style scoped>\n",
       "    .dataframe tbody tr th:only-of-type {\n",
       "        vertical-align: middle;\n",
       "    }\n",
       "\n",
       "    .dataframe tbody tr th {\n",
       "        vertical-align: top;\n",
       "    }\n",
       "\n",
       "    .dataframe thead th {\n",
       "        text-align: right;\n",
       "    }\n",
       "</style>\n",
       "<table border=\"1\" class=\"dataframe\">\n",
       "  <thead>\n",
       "    <tr style=\"text-align: right;\">\n",
       "      <th></th>\n",
       "      <th>Restaurant ID</th>\n",
       "      <th>Country Code</th>\n",
       "      <th>Longitude</th>\n",
       "      <th>Latitude</th>\n",
       "      <th>Average Cost for two</th>\n",
       "      <th>Price range</th>\n",
       "      <th>Aggregate rating</th>\n",
       "      <th>Votes</th>\n",
       "    </tr>\n",
       "  </thead>\n",
       "  <tbody>\n",
       "    <tr>\n",
       "      <th>count</th>\n",
       "      <td>9.551000e+03</td>\n",
       "      <td>9551.000000</td>\n",
       "      <td>9551.000000</td>\n",
       "      <td>9551.000000</td>\n",
       "      <td>9551.000000</td>\n",
       "      <td>9551.000000</td>\n",
       "      <td>9551.000000</td>\n",
       "      <td>9551.000000</td>\n",
       "    </tr>\n",
       "    <tr>\n",
       "      <th>mean</th>\n",
       "      <td>9.051128e+06</td>\n",
       "      <td>18.365616</td>\n",
       "      <td>64.126574</td>\n",
       "      <td>25.854381</td>\n",
       "      <td>1199.210763</td>\n",
       "      <td>1.804837</td>\n",
       "      <td>2.666370</td>\n",
       "      <td>156.909748</td>\n",
       "    </tr>\n",
       "    <tr>\n",
       "      <th>std</th>\n",
       "      <td>8.791521e+06</td>\n",
       "      <td>56.750546</td>\n",
       "      <td>41.467058</td>\n",
       "      <td>11.007935</td>\n",
       "      <td>16121.183073</td>\n",
       "      <td>0.905609</td>\n",
       "      <td>1.516378</td>\n",
       "      <td>430.169145</td>\n",
       "    </tr>\n",
       "    <tr>\n",
       "      <th>min</th>\n",
       "      <td>5.300000e+01</td>\n",
       "      <td>1.000000</td>\n",
       "      <td>-157.948486</td>\n",
       "      <td>-41.330428</td>\n",
       "      <td>0.000000</td>\n",
       "      <td>1.000000</td>\n",
       "      <td>0.000000</td>\n",
       "      <td>0.000000</td>\n",
       "    </tr>\n",
       "    <tr>\n",
       "      <th>25%</th>\n",
       "      <td>3.019625e+05</td>\n",
       "      <td>1.000000</td>\n",
       "      <td>77.081343</td>\n",
       "      <td>28.478713</td>\n",
       "      <td>250.000000</td>\n",
       "      <td>1.000000</td>\n",
       "      <td>2.500000</td>\n",
       "      <td>5.000000</td>\n",
       "    </tr>\n",
       "    <tr>\n",
       "      <th>50%</th>\n",
       "      <td>6.004089e+06</td>\n",
       "      <td>1.000000</td>\n",
       "      <td>77.191964</td>\n",
       "      <td>28.570469</td>\n",
       "      <td>400.000000</td>\n",
       "      <td>2.000000</td>\n",
       "      <td>3.200000</td>\n",
       "      <td>31.000000</td>\n",
       "    </tr>\n",
       "    <tr>\n",
       "      <th>75%</th>\n",
       "      <td>1.835229e+07</td>\n",
       "      <td>1.000000</td>\n",
       "      <td>77.282006</td>\n",
       "      <td>28.642758</td>\n",
       "      <td>700.000000</td>\n",
       "      <td>2.000000</td>\n",
       "      <td>3.700000</td>\n",
       "      <td>131.000000</td>\n",
       "    </tr>\n",
       "    <tr>\n",
       "      <th>max</th>\n",
       "      <td>1.850065e+07</td>\n",
       "      <td>216.000000</td>\n",
       "      <td>174.832089</td>\n",
       "      <td>55.976980</td>\n",
       "      <td>800000.000000</td>\n",
       "      <td>4.000000</td>\n",
       "      <td>4.900000</td>\n",
       "      <td>10934.000000</td>\n",
       "    </tr>\n",
       "  </tbody>\n",
       "</table>\n",
       "</div>"
      ],
      "text/plain": [
       "       Restaurant ID  Country Code    Longitude     Latitude  \\\n",
       "count   9.551000e+03   9551.000000  9551.000000  9551.000000   \n",
       "mean    9.051128e+06     18.365616    64.126574    25.854381   \n",
       "std     8.791521e+06     56.750546    41.467058    11.007935   \n",
       "min     5.300000e+01      1.000000  -157.948486   -41.330428   \n",
       "25%     3.019625e+05      1.000000    77.081343    28.478713   \n",
       "50%     6.004089e+06      1.000000    77.191964    28.570469   \n",
       "75%     1.835229e+07      1.000000    77.282006    28.642758   \n",
       "max     1.850065e+07    216.000000   174.832089    55.976980   \n",
       "\n",
       "       Average Cost for two  Price range  Aggregate rating         Votes  \n",
       "count           9551.000000  9551.000000       9551.000000   9551.000000  \n",
       "mean            1199.210763     1.804837          2.666370    156.909748  \n",
       "std            16121.183073     0.905609          1.516378    430.169145  \n",
       "min                0.000000     1.000000          0.000000      0.000000  \n",
       "25%              250.000000     1.000000          2.500000      5.000000  \n",
       "50%              400.000000     2.000000          3.200000     31.000000  \n",
       "75%              700.000000     2.000000          3.700000    131.000000  \n",
       "max           800000.000000     4.000000          4.900000  10934.000000  "
      ]
     },
     "execution_count": 10,
     "metadata": {},
     "output_type": "execute_result"
    }
   ],
   "source": [
    "df.describe(exclude=[object])"
   ]
  },
  {
   "cell_type": "markdown",
   "id": "1e6d3b2f",
   "metadata": {},
   "source": [
    "observation:\n",
    "    \n",
    "1. Outliers present in some of the column because the higher gap between 75% and max value.\n",
    "\n",
    "2. The minimum value of Average Cost for two is 0 that is not possible.\n",
    "\n",
    "3. lets findout how many 0 are present in that column."
   ]
  },
  {
   "cell_type": "code",
   "execution_count": 11,
   "id": "09d0b27b",
   "metadata": {},
   "outputs": [
    {
     "data": {
      "text/plain": [
       "18"
      ]
     },
     "execution_count": 11,
     "metadata": {},
     "output_type": "execute_result"
    }
   ],
   "source": [
    "df[df[\"Average Cost for two\"]==0.00].index.size"
   ]
  },
  {
   "cell_type": "markdown",
   "id": "b318d323",
   "metadata": {},
   "source": [
    "There are 18 values with 0 Average Cost for two people taht is not possible so we can drop this row which has 0 Average Cost for two."
   ]
  },
  {
   "cell_type": "code",
   "execution_count": 12,
   "id": "3fbb5a86",
   "metadata": {},
   "outputs": [],
   "source": [
    "df.drop(df[df[\"Average Cost for two\"]==0.00].index, inplace = True)"
   ]
  },
  {
   "cell_type": "code",
   "execution_count": 13,
   "id": "ea6be1bc",
   "metadata": {},
   "outputs": [
    {
     "data": {
      "text/plain": [
       "0"
      ]
     },
     "execution_count": 13,
     "metadata": {},
     "output_type": "execute_result"
    }
   ],
   "source": [
    "df[df[\"Average Cost for two\"]==0.00].index.size"
   ]
  },
  {
   "cell_type": "markdown",
   "id": "6f8aa123",
   "metadata": {},
   "source": [
    "# Statistical data analysis for categorical features"
   ]
  },
  {
   "cell_type": "code",
   "execution_count": 14,
   "id": "b0db6a6c",
   "metadata": {},
   "outputs": [
    {
     "data": {
      "text/html": [
       "<div>\n",
       "<style scoped>\n",
       "    .dataframe tbody tr th:only-of-type {\n",
       "        vertical-align: middle;\n",
       "    }\n",
       "\n",
       "    .dataframe tbody tr th {\n",
       "        vertical-align: top;\n",
       "    }\n",
       "\n",
       "    .dataframe thead th {\n",
       "        text-align: right;\n",
       "    }\n",
       "</style>\n",
       "<table border=\"1\" class=\"dataframe\">\n",
       "  <thead>\n",
       "    <tr style=\"text-align: right;\">\n",
       "      <th></th>\n",
       "      <th>count</th>\n",
       "      <th>unique</th>\n",
       "      <th>top</th>\n",
       "      <th>freq</th>\n",
       "    </tr>\n",
       "  </thead>\n",
       "  <tbody>\n",
       "    <tr>\n",
       "      <th>Restaurant Name</th>\n",
       "      <td>9533</td>\n",
       "      <td>7428</td>\n",
       "      <td>Cafe Coffee Day</td>\n",
       "      <td>83</td>\n",
       "    </tr>\n",
       "    <tr>\n",
       "      <th>City</th>\n",
       "      <td>9533</td>\n",
       "      <td>140</td>\n",
       "      <td>New Delhi</td>\n",
       "      <td>5473</td>\n",
       "    </tr>\n",
       "    <tr>\n",
       "      <th>Address</th>\n",
       "      <td>9533</td>\n",
       "      <td>8902</td>\n",
       "      <td>Dilli Haat, INA, New Delhi</td>\n",
       "      <td>11</td>\n",
       "    </tr>\n",
       "    <tr>\n",
       "      <th>Locality</th>\n",
       "      <td>9533</td>\n",
       "      <td>1206</td>\n",
       "      <td>Connaught Place</td>\n",
       "      <td>122</td>\n",
       "    </tr>\n",
       "    <tr>\n",
       "      <th>Locality Verbose</th>\n",
       "      <td>9533</td>\n",
       "      <td>1263</td>\n",
       "      <td>Connaught Place, New Delhi</td>\n",
       "      <td>122</td>\n",
       "    </tr>\n",
       "    <tr>\n",
       "      <th>Cuisines</th>\n",
       "      <td>9527</td>\n",
       "      <td>1821</td>\n",
       "      <td>North Indian</td>\n",
       "      <td>936</td>\n",
       "    </tr>\n",
       "    <tr>\n",
       "      <th>Currency</th>\n",
       "      <td>9533</td>\n",
       "      <td>12</td>\n",
       "      <td>Indian Rupees(Rs.)</td>\n",
       "      <td>8643</td>\n",
       "    </tr>\n",
       "    <tr>\n",
       "      <th>Has Table booking</th>\n",
       "      <td>9533</td>\n",
       "      <td>2</td>\n",
       "      <td>No</td>\n",
       "      <td>8375</td>\n",
       "    </tr>\n",
       "    <tr>\n",
       "      <th>Has Online delivery</th>\n",
       "      <td>9533</td>\n",
       "      <td>2</td>\n",
       "      <td>No</td>\n",
       "      <td>7082</td>\n",
       "    </tr>\n",
       "    <tr>\n",
       "      <th>Is delivering now</th>\n",
       "      <td>9533</td>\n",
       "      <td>2</td>\n",
       "      <td>No</td>\n",
       "      <td>9499</td>\n",
       "    </tr>\n",
       "    <tr>\n",
       "      <th>Switch to order menu</th>\n",
       "      <td>9533</td>\n",
       "      <td>1</td>\n",
       "      <td>No</td>\n",
       "      <td>9533</td>\n",
       "    </tr>\n",
       "    <tr>\n",
       "      <th>Rating color</th>\n",
       "      <td>9533</td>\n",
       "      <td>6</td>\n",
       "      <td>Orange</td>\n",
       "      <td>3732</td>\n",
       "    </tr>\n",
       "    <tr>\n",
       "      <th>Rating text</th>\n",
       "      <td>9533</td>\n",
       "      <td>6</td>\n",
       "      <td>Average</td>\n",
       "      <td>3732</td>\n",
       "    </tr>\n",
       "    <tr>\n",
       "      <th>Country</th>\n",
       "      <td>9533</td>\n",
       "      <td>15</td>\n",
       "      <td>India</td>\n",
       "      <td>8643</td>\n",
       "    </tr>\n",
       "  </tbody>\n",
       "</table>\n",
       "</div>"
      ],
      "text/plain": [
       "                     count unique                         top  freq\n",
       "Restaurant Name       9533   7428             Cafe Coffee Day    83\n",
       "City                  9533    140                   New Delhi  5473\n",
       "Address               9533   8902  Dilli Haat, INA, New Delhi    11\n",
       "Locality              9533   1206             Connaught Place   122\n",
       "Locality Verbose      9533   1263  Connaught Place, New Delhi   122\n",
       "Cuisines              9527   1821                North Indian   936\n",
       "Currency              9533     12          Indian Rupees(Rs.)  8643\n",
       "Has Table booking     9533      2                          No  8375\n",
       "Has Online delivery   9533      2                          No  7082\n",
       "Is delivering now     9533      2                          No  9499\n",
       "Switch to order menu  9533      1                          No  9533\n",
       "Rating color          9533      6                      Orange  3732\n",
       "Rating text           9533      6                     Average  3732\n",
       "Country               9533     15                       India  8643"
      ]
     },
     "execution_count": 14,
     "metadata": {},
     "output_type": "execute_result"
    }
   ],
   "source": [
    "df.describe(include=[object]).T"
   ]
  },
  {
   "cell_type": "markdown",
   "id": "e30adde0",
   "metadata": {},
   "source": [
    "It shows the Unique ,Top,Count and frequent value of categorical type data."
   ]
  },
  {
   "cell_type": "markdown",
   "id": "cd9cca2d",
   "metadata": {},
   "source": [
    "# check for missing value"
   ]
  },
  {
   "cell_type": "code",
   "execution_count": 15,
   "id": "39c223bc",
   "metadata": {},
   "outputs": [
    {
     "data": {
      "text/plain": [
       "6"
      ]
     },
     "execution_count": 15,
     "metadata": {},
     "output_type": "execute_result"
    }
   ],
   "source": [
    "df.isnull().sum().sum()"
   ]
  },
  {
   "cell_type": "markdown",
   "id": "340e1269",
   "metadata": {},
   "source": [
    "9 missing values are present in our dataset lets check for missing value in perticuler columns"
   ]
  },
  {
   "cell_type": "code",
   "execution_count": 16,
   "id": "2b03a6f7",
   "metadata": {},
   "outputs": [
    {
     "data": {
      "text/plain": [
       "['Cuisines']"
      ]
     },
     "execution_count": 16,
     "metadata": {},
     "output_type": "execute_result"
    }
   ],
   "source": [
    "# find out in which column missing value is present\n",
    "\n",
    "[features for features in df.columns if df[features].isnull().sum()>0]"
   ]
  },
  {
   "cell_type": "code",
   "execution_count": 17,
   "id": "f768fae5",
   "metadata": {},
   "outputs": [
    {
     "data": {
      "text/plain": [
       "<AxesSubplot:>"
      ]
     },
     "execution_count": 17,
     "metadata": {},
     "output_type": "execute_result"
    },
    {
     "data": {
      "image/png": "[encoded data removed]",
      "text/plain": [
       "<Figure size 864x432 with 1 Axes>"
      ]
     },
     "metadata": {
      "needs_background": "light"
     },
     "output_type": "display_data"
    }
   ],
   "source": [
    "matplotlib.rcParams['figure.figsize']=(12,6)\n",
    "sns.heatmap(df.isnull(),cmap='viridis',yticklabels=False,cbar=False) # check missing value by visualization"
   ]
  },
  {
   "cell_type": "markdown",
   "id": "f1bcf024",
   "metadata": {},
   "source": [
    "There are 9551 rows and only 9 value are missing which is negligible thats why we are not clearly see in heatmap."
   ]
  },
  {
   "cell_type": "code",
   "execution_count": 18,
   "id": "340fac41",
   "metadata": {},
   "outputs": [
    {
     "data": {
      "text/plain": [
       "Restaurant ID           0\n",
       "Restaurant Name         0\n",
       "Country Code            0\n",
       "City                    0\n",
       "Address                 0\n",
       "Locality                0\n",
       "Locality Verbose        0\n",
       "Longitude               0\n",
       "Latitude                0\n",
       "Cuisines                6\n",
       "Average Cost for two    0\n",
       "Currency                0\n",
       "Has Table booking       0\n",
       "Has Online delivery     0\n",
       "Is delivering now       0\n",
       "Switch to order menu    0\n",
       "Price range             0\n",
       "Aggregate rating        0\n",
       "Rating color            0\n",
       "Rating text             0\n",
       "Votes                   0\n",
       "Country                 0\n",
       "dtype: int64"
      ]
     },
     "execution_count": 18,
     "metadata": {},
     "output_type": "execute_result"
    }
   ],
   "source": [
    "# this is the onother way to findout missing value in perticuler column.\n",
    "df.isnull().sum()"
   ]
  },
  {
   "cell_type": "markdown",
   "id": "7da610c6",
   "metadata": {},
   "source": [
    "# Impute missing value by other"
   ]
  },
  {
   "cell_type": "markdown",
   "id": "21e01ae3",
   "metadata": {},
   "source": [
    "missing value is replaced by other"
   ]
  },
  {
   "cell_type": "code",
   "execution_count": 19,
   "id": "2e12220a",
   "metadata": {},
   "outputs": [],
   "source": [
    "df[\"Cuisines\"].fillna(\"other\", inplace = True)"
   ]
  },
  {
   "cell_type": "code",
   "execution_count": 20,
   "id": "459a0b93",
   "metadata": {},
   "outputs": [
    {
     "data": {
      "text/plain": [
       "False"
      ]
     },
     "execution_count": 20,
     "metadata": {},
     "output_type": "execute_result"
    }
   ],
   "source": [
    "df.isnull().any().any()# now there is no any null value present"
   ]
  },
  {
   "cell_type": "markdown",
   "id": "e7aad6a7",
   "metadata": {},
   "source": [
    "# Check for Duplicate value"
   ]
  },
  {
   "cell_type": "code",
   "execution_count": 21,
   "id": "0a6bcac8",
   "metadata": {},
   "outputs": [
    {
     "data": {
      "text/plain": [
       "0"
      ]
     },
     "execution_count": 21,
     "metadata": {},
     "output_type": "execute_result"
    }
   ],
   "source": [
    "df.duplicated().sum()"
   ]
  },
  {
   "cell_type": "code",
   "execution_count": 22,
   "id": "781a6e43",
   "metadata": {},
   "outputs": [
    {
     "data": {
      "text/html": [
       "<div>\n",
       "<style scoped>\n",
       "    .dataframe tbody tr th:only-of-type {\n",
       "        vertical-align: middle;\n",
       "    }\n",
       "\n",
       "    .dataframe tbody tr th {\n",
       "        vertical-align: top;\n",
       "    }\n",
       "\n",
       "    .dataframe thead th {\n",
       "        text-align: right;\n",
       "    }\n",
       "</style>\n",
       "<table border=\"1\" class=\"dataframe\">\n",
       "  <thead>\n",
       "    <tr style=\"text-align: right;\">\n",
       "      <th></th>\n",
       "      <th>Restaurant ID</th>\n",
       "      <th>Restaurant Name</th>\n",
       "      <th>Country Code</th>\n",
       "      <th>City</th>\n",
       "      <th>Address</th>\n",
       "      <th>Locality</th>\n",
       "      <th>Locality Verbose</th>\n",
       "      <th>Longitude</th>\n",
       "      <th>Latitude</th>\n",
       "      <th>Cuisines</th>\n",
       "      <th>Average Cost for two</th>\n",
       "      <th>Currency</th>\n",
       "      <th>Has Table booking</th>\n",
       "      <th>Has Online delivery</th>\n",
       "      <th>Is delivering now</th>\n",
       "      <th>Switch to order menu</th>\n",
       "      <th>Price range</th>\n",
       "      <th>Aggregate rating</th>\n",
       "      <th>Rating color</th>\n",
       "      <th>Rating text</th>\n",
       "      <th>Votes</th>\n",
       "      <th>Country</th>\n",
       "    </tr>\n",
       "  </thead>\n",
       "  <tbody>\n",
       "    <tr>\n",
       "      <th>0</th>\n",
       "      <td>6317637</td>\n",
       "      <td>Le Petit Souffle</td>\n",
       "      <td>162</td>\n",
       "      <td>Makati City</td>\n",
       "      <td>Third Floor, Century City Mall, Kalayaan Avenu...</td>\n",
       "      <td>Century City Mall, Poblacion, Makati City</td>\n",
       "      <td>Century City Mall, Poblacion, Makati City, Mak...</td>\n",
       "      <td>121.027535</td>\n",
       "      <td>14.565443</td>\n",
       "      <td>French, Japanese, Desserts</td>\n",
       "      <td>1100</td>\n",
       "      <td>Botswana Pula(P)</td>\n",
       "      <td>Yes</td>\n",
       "      <td>No</td>\n",
       "      <td>No</td>\n",
       "      <td>No</td>\n",
       "      <td>3</td>\n",
       "      <td>4.8</td>\n",
       "      <td>Dark Green</td>\n",
       "      <td>Excellent</td>\n",
       "      <td>314</td>\n",
       "      <td>Phillipines</td>\n",
       "    </tr>\n",
       "    <tr>\n",
       "      <th>1</th>\n",
       "      <td>6304287</td>\n",
       "      <td>Izakaya Kikufuji</td>\n",
       "      <td>162</td>\n",
       "      <td>Makati City</td>\n",
       "      <td>Little Tokyo, 2277 Chino Roces Avenue, Legaspi...</td>\n",
       "      <td>Little Tokyo, Legaspi Village, Makati City</td>\n",
       "      <td>Little Tokyo, Legaspi Village, Makati City, Ma...</td>\n",
       "      <td>121.014101</td>\n",
       "      <td>14.553708</td>\n",
       "      <td>Japanese</td>\n",
       "      <td>1200</td>\n",
       "      <td>Botswana Pula(P)</td>\n",
       "      <td>Yes</td>\n",
       "      <td>No</td>\n",
       "      <td>No</td>\n",
       "      <td>No</td>\n",
       "      <td>3</td>\n",
       "      <td>4.5</td>\n",
       "      <td>Dark Green</td>\n",
       "      <td>Excellent</td>\n",
       "      <td>591</td>\n",
       "      <td>Phillipines</td>\n",
       "    </tr>\n",
       "    <tr>\n",
       "      <th>2</th>\n",
       "      <td>6300002</td>\n",
       "      <td>Heat - Edsa Shangri-La</td>\n",
       "      <td>162</td>\n",
       "      <td>Mandaluyong City</td>\n",
       "      <td>Edsa Shangri-La, 1 Garden Way, Ortigas, Mandal...</td>\n",
       "      <td>Edsa Shangri-La, Ortigas, Mandaluyong City</td>\n",
       "      <td>Edsa Shangri-La, Ortigas, Mandaluyong City, Ma...</td>\n",
       "      <td>121.056831</td>\n",
       "      <td>14.581404</td>\n",
       "      <td>Seafood, Asian, Filipino, Indian</td>\n",
       "      <td>4000</td>\n",
       "      <td>Botswana Pula(P)</td>\n",
       "      <td>Yes</td>\n",
       "      <td>No</td>\n",
       "      <td>No</td>\n",
       "      <td>No</td>\n",
       "      <td>4</td>\n",
       "      <td>4.4</td>\n",
       "      <td>Green</td>\n",
       "      <td>Very Good</td>\n",
       "      <td>270</td>\n",
       "      <td>Phillipines</td>\n",
       "    </tr>\n",
       "    <tr>\n",
       "      <th>3</th>\n",
       "      <td>6318506</td>\n",
       "      <td>Ooma</td>\n",
       "      <td>162</td>\n",
       "      <td>Mandaluyong City</td>\n",
       "      <td>Third Floor, Mega Fashion Hall, SM Megamall, O...</td>\n",
       "      <td>SM Megamall, Ortigas, Mandaluyong City</td>\n",
       "      <td>SM Megamall, Ortigas, Mandaluyong City, Mandal...</td>\n",
       "      <td>121.056475</td>\n",
       "      <td>14.585318</td>\n",
       "      <td>Japanese, Sushi</td>\n",
       "      <td>1500</td>\n",
       "      <td>Botswana Pula(P)</td>\n",
       "      <td>No</td>\n",
       "      <td>No</td>\n",
       "      <td>No</td>\n",
       "      <td>No</td>\n",
       "      <td>4</td>\n",
       "      <td>4.9</td>\n",
       "      <td>Dark Green</td>\n",
       "      <td>Excellent</td>\n",
       "      <td>365</td>\n",
       "      <td>Phillipines</td>\n",
       "    </tr>\n",
       "    <tr>\n",
       "      <th>4</th>\n",
       "      <td>6314302</td>\n",
       "      <td>Sambo Kojin</td>\n",
       "      <td>162</td>\n",
       "      <td>Mandaluyong City</td>\n",
       "      <td>Third Floor, Mega Atrium, SM Megamall, Ortigas...</td>\n",
       "      <td>SM Megamall, Ortigas, Mandaluyong City</td>\n",
       "      <td>SM Megamall, Ortigas, Mandaluyong City, Mandal...</td>\n",
       "      <td>121.057508</td>\n",
       "      <td>14.584450</td>\n",
       "      <td>Japanese, Korean</td>\n",
       "      <td>1500</td>\n",
       "      <td>Botswana Pula(P)</td>\n",
       "      <td>Yes</td>\n",
       "      <td>No</td>\n",
       "      <td>No</td>\n",
       "      <td>No</td>\n",
       "      <td>4</td>\n",
       "      <td>4.8</td>\n",
       "      <td>Dark Green</td>\n",
       "      <td>Excellent</td>\n",
       "      <td>229</td>\n",
       "      <td>Phillipines</td>\n",
       "    </tr>\n",
       "    <tr>\n",
       "      <th>...</th>\n",
       "      <td>...</td>\n",
       "      <td>...</td>\n",
       "      <td>...</td>\n",
       "      <td>...</td>\n",
       "      <td>...</td>\n",
       "      <td>...</td>\n",
       "      <td>...</td>\n",
       "      <td>...</td>\n",
       "      <td>...</td>\n",
       "      <td>...</td>\n",
       "      <td>...</td>\n",
       "      <td>...</td>\n",
       "      <td>...</td>\n",
       "      <td>...</td>\n",
       "      <td>...</td>\n",
       "      <td>...</td>\n",
       "      <td>...</td>\n",
       "      <td>...</td>\n",
       "      <td>...</td>\n",
       "      <td>...</td>\n",
       "      <td>...</td>\n",
       "      <td>...</td>\n",
       "    </tr>\n",
       "    <tr>\n",
       "      <th>9546</th>\n",
       "      <td>5915730</td>\n",
       "      <td>Naml۱ Gurme</td>\n",
       "      <td>208</td>\n",
       "      <td>��stanbul</td>\n",
       "      <td>Kemanke�� Karamustafa Pa��a Mahallesi, R۱ht۱m ...</td>\n",
       "      <td>Karak�_y</td>\n",
       "      <td>Karak�_y, ��stanbul</td>\n",
       "      <td>28.977392</td>\n",
       "      <td>41.022793</td>\n",
       "      <td>Turkish</td>\n",
       "      <td>80</td>\n",
       "      <td>Turkish Lira(TL)</td>\n",
       "      <td>No</td>\n",
       "      <td>No</td>\n",
       "      <td>No</td>\n",
       "      <td>No</td>\n",
       "      <td>3</td>\n",
       "      <td>4.1</td>\n",
       "      <td>Green</td>\n",
       "      <td>Very Good</td>\n",
       "      <td>788</td>\n",
       "      <td>Turkey</td>\n",
       "    </tr>\n",
       "    <tr>\n",
       "      <th>9547</th>\n",
       "      <td>5908749</td>\n",
       "      <td>Ceviz A��ac۱</td>\n",
       "      <td>208</td>\n",
       "      <td>��stanbul</td>\n",
       "      <td>Ko��uyolu Mahallesi, Muhittin ��st�_nda�� Cadd...</td>\n",
       "      <td>Ko��uyolu</td>\n",
       "      <td>Ko��uyolu, ��stanbul</td>\n",
       "      <td>29.041297</td>\n",
       "      <td>41.009847</td>\n",
       "      <td>World Cuisine, Patisserie, Cafe</td>\n",
       "      <td>105</td>\n",
       "      <td>Turkish Lira(TL)</td>\n",
       "      <td>No</td>\n",
       "      <td>No</td>\n",
       "      <td>No</td>\n",
       "      <td>No</td>\n",
       "      <td>3</td>\n",
       "      <td>4.2</td>\n",
       "      <td>Green</td>\n",
       "      <td>Very Good</td>\n",
       "      <td>1034</td>\n",
       "      <td>Turkey</td>\n",
       "    </tr>\n",
       "    <tr>\n",
       "      <th>9548</th>\n",
       "      <td>5915807</td>\n",
       "      <td>Huqqa</td>\n",
       "      <td>208</td>\n",
       "      <td>��stanbul</td>\n",
       "      <td>Kuru�_e��me Mahallesi, Muallim Naci Caddesi, N...</td>\n",
       "      <td>Kuru�_e��me</td>\n",
       "      <td>Kuru�_e��me, ��stanbul</td>\n",
       "      <td>29.034640</td>\n",
       "      <td>41.055817</td>\n",
       "      <td>Italian, World Cuisine</td>\n",
       "      <td>170</td>\n",
       "      <td>Turkish Lira(TL)</td>\n",
       "      <td>No</td>\n",
       "      <td>No</td>\n",
       "      <td>No</td>\n",
       "      <td>No</td>\n",
       "      <td>4</td>\n",
       "      <td>3.7</td>\n",
       "      <td>Yellow</td>\n",
       "      <td>Good</td>\n",
       "      <td>661</td>\n",
       "      <td>Turkey</td>\n",
       "    </tr>\n",
       "    <tr>\n",
       "      <th>9549</th>\n",
       "      <td>5916112</td>\n",
       "      <td>A���k Kahve</td>\n",
       "      <td>208</td>\n",
       "      <td>��stanbul</td>\n",
       "      <td>Kuru�_e��me Mahallesi, Muallim Naci Caddesi, N...</td>\n",
       "      <td>Kuru�_e��me</td>\n",
       "      <td>Kuru�_e��me, ��stanbul</td>\n",
       "      <td>29.036019</td>\n",
       "      <td>41.057979</td>\n",
       "      <td>Restaurant Cafe</td>\n",
       "      <td>120</td>\n",
       "      <td>Turkish Lira(TL)</td>\n",
       "      <td>No</td>\n",
       "      <td>No</td>\n",
       "      <td>No</td>\n",
       "      <td>No</td>\n",
       "      <td>4</td>\n",
       "      <td>4.0</td>\n",
       "      <td>Green</td>\n",
       "      <td>Very Good</td>\n",
       "      <td>901</td>\n",
       "      <td>Turkey</td>\n",
       "    </tr>\n",
       "    <tr>\n",
       "      <th>9550</th>\n",
       "      <td>5927402</td>\n",
       "      <td>Walter's Coffee Roastery</td>\n",
       "      <td>208</td>\n",
       "      <td>��stanbul</td>\n",
       "      <td>Cafea��a Mahallesi, Bademalt۱ Sokak, No 21/B, ...</td>\n",
       "      <td>Moda</td>\n",
       "      <td>Moda, ��stanbul</td>\n",
       "      <td>29.026016</td>\n",
       "      <td>40.984776</td>\n",
       "      <td>Cafe</td>\n",
       "      <td>55</td>\n",
       "      <td>Turkish Lira(TL)</td>\n",
       "      <td>No</td>\n",
       "      <td>No</td>\n",
       "      <td>No</td>\n",
       "      <td>No</td>\n",
       "      <td>2</td>\n",
       "      <td>4.0</td>\n",
       "      <td>Green</td>\n",
       "      <td>Very Good</td>\n",
       "      <td>591</td>\n",
       "      <td>Turkey</td>\n",
       "    </tr>\n",
       "  </tbody>\n",
       "</table>\n",
       "<p>9533 rows × 22 columns</p>\n",
       "</div>"
      ],
      "text/plain": [
       "      Restaurant ID           Restaurant Name  Country Code              City  \\\n",
       "0           6317637          Le Petit Souffle           162       Makati City   \n",
       "1           6304287          Izakaya Kikufuji           162       Makati City   \n",
       "2           6300002    Heat - Edsa Shangri-La           162  Mandaluyong City   \n",
       "3           6318506                      Ooma           162  Mandaluyong City   \n",
       "4           6314302               Sambo Kojin           162  Mandaluyong City   \n",
       "...             ...                       ...           ...               ...   \n",
       "9546        5915730               Naml۱ Gurme           208         ��stanbul   \n",
       "9547        5908749              Ceviz A��ac۱           208         ��stanbul   \n",
       "9548        5915807                     Huqqa           208         ��stanbul   \n",
       "9549        5916112               A���k Kahve           208         ��stanbul   \n",
       "9550        5927402  Walter's Coffee Roastery           208         ��stanbul   \n",
       "\n",
       "                                                Address  \\\n",
       "0     Third Floor, Century City Mall, Kalayaan Avenu...   \n",
       "1     Little Tokyo, 2277 Chino Roces Avenue, Legaspi...   \n",
       "2     Edsa Shangri-La, 1 Garden Way, Ortigas, Mandal...   \n",
       "3     Third Floor, Mega Fashion Hall, SM Megamall, O...   \n",
       "4     Third Floor, Mega Atrium, SM Megamall, Ortigas...   \n",
       "...                                                 ...   \n",
       "9546  Kemanke�� Karamustafa Pa��a Mahallesi, R۱ht۱m ...   \n",
       "9547  Ko��uyolu Mahallesi, Muhittin ��st�_nda�� Cadd...   \n",
       "9548  Kuru�_e��me Mahallesi, Muallim Naci Caddesi, N...   \n",
       "9549  Kuru�_e��me Mahallesi, Muallim Naci Caddesi, N...   \n",
       "9550  Cafea��a Mahallesi, Bademalt۱ Sokak, No 21/B, ...   \n",
       "\n",
       "                                        Locality  \\\n",
       "0      Century City Mall, Poblacion, Makati City   \n",
       "1     Little Tokyo, Legaspi Village, Makati City   \n",
       "2     Edsa Shangri-La, Ortigas, Mandaluyong City   \n",
       "3         SM Megamall, Ortigas, Mandaluyong City   \n",
       "4         SM Megamall, Ortigas, Mandaluyong City   \n",
       "...                                          ...   \n",
       "9546                                    Karak�_y   \n",
       "9547                                   Ko��uyolu   \n",
       "9548                                 Kuru�_e��me   \n",
       "9549                                 Kuru�_e��me   \n",
       "9550                                        Moda   \n",
       "\n",
       "                                       Locality Verbose   Longitude  \\\n",
       "0     Century City Mall, Poblacion, Makati City, Mak...  121.027535   \n",
       "1     Little Tokyo, Legaspi Village, Makati City, Ma...  121.014101   \n",
       "2     Edsa Shangri-La, Ortigas, Mandaluyong City, Ma...  121.056831   \n",
       "3     SM Megamall, Ortigas, Mandaluyong City, Mandal...  121.056475   \n",
       "4     SM Megamall, Ortigas, Mandaluyong City, Mandal...  121.057508   \n",
       "...                                                 ...         ...   \n",
       "9546                                Karak�_y, ��stanbul   28.977392   \n",
       "9547                               Ko��uyolu, ��stanbul   29.041297   \n",
       "9548                             Kuru�_e��me, ��stanbul   29.034640   \n",
       "9549                             Kuru�_e��me, ��stanbul   29.036019   \n",
       "9550                                    Moda, ��stanbul   29.026016   \n",
       "\n",
       "       Latitude                          Cuisines  Average Cost for two  \\\n",
       "0     14.565443        French, Japanese, Desserts                  1100   \n",
       "1     14.553708                          Japanese                  1200   \n",
       "2     14.581404  Seafood, Asian, Filipino, Indian                  4000   \n",
       "3     14.585318                   Japanese, Sushi                  1500   \n",
       "4     14.584450                  Japanese, Korean                  1500   \n",
       "...         ...                               ...                   ...   \n",
       "9546  41.022793                           Turkish                    80   \n",
       "9547  41.009847   World Cuisine, Patisserie, Cafe                   105   \n",
       "9548  41.055817            Italian, World Cuisine                   170   \n",
       "9549  41.057979                   Restaurant Cafe                   120   \n",
       "9550  40.984776                              Cafe                    55   \n",
       "\n",
       "              Currency Has Table booking Has Online delivery  \\\n",
       "0     Botswana Pula(P)               Yes                  No   \n",
       "1     Botswana Pula(P)               Yes                  No   \n",
       "2     Botswana Pula(P)               Yes                  No   \n",
       "3     Botswana Pula(P)                No                  No   \n",
       "4     Botswana Pula(P)               Yes                  No   \n",
       "...                ...               ...                 ...   \n",
       "9546  Turkish Lira(TL)                No                  No   \n",
       "9547  Turkish Lira(TL)                No                  No   \n",
       "9548  Turkish Lira(TL)                No                  No   \n",
       "9549  Turkish Lira(TL)                No                  No   \n",
       "9550  Turkish Lira(TL)                No                  No   \n",
       "\n",
       "     Is delivering now Switch to order menu  Price range  Aggregate rating  \\\n",
       "0                   No                   No            3               4.8   \n",
       "1                   No                   No            3               4.5   \n",
       "2                   No                   No            4               4.4   \n",
       "3                   No                   No            4               4.9   \n",
       "4                   No                   No            4               4.8   \n",
       "...                ...                  ...          ...               ...   \n",
       "9546                No                   No            3               4.1   \n",
       "9547                No                   No            3               4.2   \n",
       "9548                No                   No            4               3.7   \n",
       "9549                No                   No            4               4.0   \n",
       "9550                No                   No            2               4.0   \n",
       "\n",
       "     Rating color Rating text  Votes      Country  \n",
       "0      Dark Green   Excellent    314  Phillipines  \n",
       "1      Dark Green   Excellent    591  Phillipines  \n",
       "2           Green   Very Good    270  Phillipines  \n",
       "3      Dark Green   Excellent    365  Phillipines  \n",
       "4      Dark Green   Excellent    229  Phillipines  \n",
       "...           ...         ...    ...          ...  \n",
       "9546        Green   Very Good    788       Turkey  \n",
       "9547        Green   Very Good   1034       Turkey  \n",
       "9548       Yellow        Good    661       Turkey  \n",
       "9549        Green   Very Good    901       Turkey  \n",
       "9550        Green   Very Good    591       Turkey  \n",
       "\n",
       "[9533 rows x 22 columns]"
      ]
     },
     "execution_count": 22,
     "metadata": {},
     "output_type": "execute_result"
    }
   ],
   "source": [
    "#if duplicate record present then drop it\n",
    "\n",
    "df.drop_duplicates(subset=['Restaurant ID'])"
   ]
  },
  {
   "cell_type": "markdown",
   "id": "d3f5f24b",
   "metadata": {},
   "source": [
    "No duplicate record because the shape of datatype is not chenged."
   ]
  },
  {
   "cell_type": "markdown",
   "id": "1919c559",
   "metadata": {},
   "source": [
    "# Check unique values present in each Column"
   ]
  },
  {
   "cell_type": "code",
   "execution_count": 23,
   "id": "34be59ed",
   "metadata": {},
   "outputs": [
    {
     "data": {
      "text/html": [
       "<div>\n",
       "<style scoped>\n",
       "    .dataframe tbody tr th:only-of-type {\n",
       "        vertical-align: middle;\n",
       "    }\n",
       "\n",
       "    .dataframe tbody tr th {\n",
       "        vertical-align: top;\n",
       "    }\n",
       "\n",
       "    .dataframe thead th {\n",
       "        text-align: right;\n",
       "    }\n",
       "</style>\n",
       "<table border=\"1\" class=\"dataframe\">\n",
       "  <thead>\n",
       "    <tr style=\"text-align: right;\">\n",
       "      <th></th>\n",
       "      <th>Unique Values</th>\n",
       "    </tr>\n",
       "  </thead>\n",
       "  <tbody>\n",
       "    <tr>\n",
       "      <th>Restaurant ID</th>\n",
       "      <td>9533</td>\n",
       "    </tr>\n",
       "    <tr>\n",
       "      <th>Restaurant Name</th>\n",
       "      <td>7428</td>\n",
       "    </tr>\n",
       "    <tr>\n",
       "      <th>Country Code</th>\n",
       "      <td>15</td>\n",
       "    </tr>\n",
       "    <tr>\n",
       "      <th>City</th>\n",
       "      <td>140</td>\n",
       "    </tr>\n",
       "    <tr>\n",
       "      <th>Address</th>\n",
       "      <td>8902</td>\n",
       "    </tr>\n",
       "    <tr>\n",
       "      <th>Locality</th>\n",
       "      <td>1206</td>\n",
       "    </tr>\n",
       "    <tr>\n",
       "      <th>Locality Verbose</th>\n",
       "      <td>1263</td>\n",
       "    </tr>\n",
       "    <tr>\n",
       "      <th>Longitude</th>\n",
       "      <td>8105</td>\n",
       "    </tr>\n",
       "    <tr>\n",
       "      <th>Latitude</th>\n",
       "      <td>8662</td>\n",
       "    </tr>\n",
       "    <tr>\n",
       "      <th>Cuisines</th>\n",
       "      <td>1822</td>\n",
       "    </tr>\n",
       "    <tr>\n",
       "      <th>Average Cost for two</th>\n",
       "      <td>139</td>\n",
       "    </tr>\n",
       "    <tr>\n",
       "      <th>Currency</th>\n",
       "      <td>12</td>\n",
       "    </tr>\n",
       "    <tr>\n",
       "      <th>Has Table booking</th>\n",
       "      <td>2</td>\n",
       "    </tr>\n",
       "    <tr>\n",
       "      <th>Has Online delivery</th>\n",
       "      <td>2</td>\n",
       "    </tr>\n",
       "    <tr>\n",
       "      <th>Is delivering now</th>\n",
       "      <td>2</td>\n",
       "    </tr>\n",
       "    <tr>\n",
       "      <th>Switch to order menu</th>\n",
       "      <td>1</td>\n",
       "    </tr>\n",
       "    <tr>\n",
       "      <th>Price range</th>\n",
       "      <td>4</td>\n",
       "    </tr>\n",
       "    <tr>\n",
       "      <th>Aggregate rating</th>\n",
       "      <td>33</td>\n",
       "    </tr>\n",
       "    <tr>\n",
       "      <th>Rating color</th>\n",
       "      <td>6</td>\n",
       "    </tr>\n",
       "    <tr>\n",
       "      <th>Rating text</th>\n",
       "      <td>6</td>\n",
       "    </tr>\n",
       "    <tr>\n",
       "      <th>Votes</th>\n",
       "      <td>1012</td>\n",
       "    </tr>\n",
       "    <tr>\n",
       "      <th>Country</th>\n",
       "      <td>15</td>\n",
       "    </tr>\n",
       "  </tbody>\n",
       "</table>\n",
       "</div>"
      ],
      "text/plain": [
       "                      Unique Values\n",
       "Restaurant ID                  9533\n",
       "Restaurant Name                7428\n",
       "Country Code                     15\n",
       "City                            140\n",
       "Address                        8902\n",
       "Locality                       1206\n",
       "Locality Verbose               1263\n",
       "Longitude                      8105\n",
       "Latitude                       8662\n",
       "Cuisines                       1822\n",
       "Average Cost for two            139\n",
       "Currency                         12\n",
       "Has Table booking                 2\n",
       "Has Online delivery               2\n",
       "Is delivering now                 2\n",
       "Switch to order menu              1\n",
       "Price range                       4\n",
       "Aggregate rating                 33\n",
       "Rating color                      6\n",
       "Rating text                       6\n",
       "Votes                          1012\n",
       "Country                          15"
      ]
     },
     "execution_count": 23,
     "metadata": {},
     "output_type": "execute_result"
    }
   ],
   "source": [
    "df.nunique().to_frame(\"Unique Values\")"
   ]
  },
  {
   "cell_type": "markdown",
   "id": "0170be80",
   "metadata": {},
   "source": [
    "observation:\n",
    "    \n",
    "1 Switch to order menu have one unique value which is not important for prediction so we can drop it.\n",
    "2.Restaurant ID  have lots of unique value so it may be create conflict and it is not to much important for prediction so we can drop it also."
   ]
  },
  {
   "cell_type": "markdown",
   "id": "cb5636d5",
   "metadata": {},
   "source": [
    "# Box plot for checking outliers"
   ]
  },
  {
   "cell_type": "code",
   "execution_count": 24,
   "id": "f97ac864",
   "metadata": {},
   "outputs": [
    {
     "data": {
      "image/png": "[encoded data removed]",
      "text/plain": [
       "<Figure size 1080x360 with 8 Axes>"
      ]
     },
     "metadata": {
      "needs_background": "light"
     },
     "output_type": "display_data"
    }
   ],
   "source": [
    "fig, ax = plt.subplots(ncols=4, nrows=2, figsize=(15,5))\n",
    "index = 0\n",
    "ax = ax.flatten()\n",
    "for col, value in df[numerical].items():\n",
    "    sns.boxplot(y=col, data=df, ax=ax[index])\n",
    "    index += 1\n",
    "plt.show()"
   ]
  },
  {
   "cell_type": "markdown",
   "id": "a188c5dd",
   "metadata": {},
   "source": [
    "Outliers present in most of the columns so we have to remove it."
   ]
  },
  {
   "cell_type": "markdown",
   "id": "c01350a2",
   "metadata": {},
   "source": [
    "# Unique values for each Categorical features:"
   ]
  },
  {
   "cell_type": "code",
   "execution_count": 25,
   "id": "678c8191",
   "metadata": {},
   "outputs": [
    {
     "name": "stdout",
     "output_type": "stream",
     "text": [
      "Restaurant Name\n",
      "Cafe Coffee Day             83\n",
      "Domino's Pizza              79\n",
      "Subway                      63\n",
      "Green Chick Chop            51\n",
      "McDonald's                  48\n",
      "                            ..\n",
      "Wenger's                     1\n",
      "Wenger's Deli                1\n",
      "Unplugged Courtyard          1\n",
      "United Coffee House          1\n",
      "Walter's Coffee Roastery     1\n",
      "Name: Restaurant Name, Length: 7428, dtype: int64\n",
      "=============================================================\n",
      "City\n",
      "New Delhi         5473\n",
      "Gurgaon           1118\n",
      "Noida             1080\n",
      "Faridabad          251\n",
      "Ghaziabad           25\n",
      "                  ... \n",
      "Lincoln              1\n",
      "Lakeview             1\n",
      "Lakes Entrance       1\n",
      "Inverloch            1\n",
      "Panchkula            1\n",
      "Name: City, Length: 140, dtype: int64\n",
      "=============================================================\n",
      "Address\n",
      "Dilli Haat, INA, New Delhi                                                   11\n",
      "Sector 41, Noida                                                             11\n",
      "Greater Kailash (GK) 1, New Delhi                                            10\n",
      "The Imperial, Janpath, New Delhi                                              9\n",
      "The Lalit, Barakhamba Avenue, Barakhamba Road, New Delhi                      8\n",
      "                                                                             ..\n",
      "A 446, Ground Floor, Defence Colony, New Delhi                                1\n",
      "A-24, Defence Colony, New Delhi                                               1\n",
      "108 & 126, Flyover Market, Defence Colony, New Delhi                          1\n",
      "Shop 25,27 & 29, Defence Colony Flyover Market, Defence Colony, New Delhi     1\n",
      "Cafea��a Mahallesi, Bademalt۱ Sokak, No 21/B, Kad۱k�_y, ��stanbul             1\n",
      "Name: Address, Length: 8902, dtype: int64\n",
      "=============================================================\n",
      "Locality\n",
      "Connaught Place                                122\n",
      "Rajouri Garden                                  99\n",
      "Shahdara                                        87\n",
      "Defence Colony                                  86\n",
      "Pitampura                                       85\n",
      "                                              ... \n",
      "Jukaso It Suites, Sector 14                      1\n",
      "Lemon Tree Premier, Sector 29                    1\n",
      "Omaxe Celebration Mall, Sohna Road, Gurgaon      1\n",
      "Park Inn, Sector 15, Gurgaon                     1\n",
      "Moda                                             1\n",
      "Name: Locality, Length: 1206, dtype: int64\n",
      "=============================================================\n",
      "Locality Verbose\n",
      "Connaught Place, New Delhi                    122\n",
      "Rajouri Garden, New Delhi                      99\n",
      "Shahdara, New Delhi                            87\n",
      "Defence Colony, New Delhi                      86\n",
      "Pitampura, New Delhi                           85\n",
      "                                             ... \n",
      "Park Inn, Sector 15, Gurgaon, Gurgaon           1\n",
      "Plaza Mall, MG Road, Gurgaon                    1\n",
      "Ramada Gurgaon Central, Sector 44, Gurgaon      1\n",
      "Sector 5, Gurgaon                               1\n",
      "Moda, ��stanbul                                 1\n",
      "Name: Locality Verbose, Length: 1263, dtype: int64\n",
      "=============================================================\n",
      "Cuisines\n",
      "North Indian                                             936\n",
      "North Indian, Chinese                                    511\n",
      "Chinese                                                  354\n",
      "Fast Food                                                354\n",
      "North Indian, Mughlai                                    334\n",
      "                                                        ... \n",
      "North Indian, Rajasthani, Asian                            1\n",
      "Chinese, Thai, Malaysian, Indonesian                       1\n",
      "Bakery, Desserts, North Indian, Bengali, South Indian      1\n",
      "Healthy Food, North Indian                                 1\n",
      "Italian, World Cuisine                                     1\n",
      "Name: Cuisines, Length: 1822, dtype: int64\n",
      "=============================================================\n",
      "Currency\n",
      "Indian Rupees(Rs.)        8643\n",
      "Dollar($)                  473\n",
      "Pounds(��)                  80\n",
      "Brazilian Real(R$)          60\n",
      "Emirati Diram(AED)          60\n",
      "Rand(R)                     60\n",
      "NewZealand($)               40\n",
      "Turkish Lira(TL)            34\n",
      "Botswana Pula(P)            22\n",
      "Indonesian Rupiah(IDR)      21\n",
      "Qatari Rial(QR)             20\n",
      "Sri Lankan Rupee(LKR)       20\n",
      "Name: Currency, dtype: int64\n",
      "=============================================================\n",
      "Has Table booking\n",
      "No     8375\n",
      "Yes    1158\n",
      "Name: Has Table booking, dtype: int64\n",
      "=============================================================\n",
      "Has Online delivery\n",
      "No     7082\n",
      "Yes    2451\n",
      "Name: Has Online delivery, dtype: int64\n",
      "=============================================================\n",
      "Is delivering now\n",
      "No     9499\n",
      "Yes      34\n",
      "Name: Is delivering now, dtype: int64\n",
      "=============================================================\n",
      "Switch to order menu\n",
      "No    9533\n",
      "Name: Switch to order menu, dtype: int64\n",
      "=============================================================\n",
      "Rating color\n",
      "Orange        3732\n",
      "White         2148\n",
      "Yellow        2091\n",
      "Green         1076\n",
      "Dark Green     300\n",
      "Red            186\n",
      "Name: Rating color, dtype: int64\n",
      "=============================================================\n",
      "Rating text\n",
      "Average      3732\n",
      "Not rated    2148\n",
      "Good         2091\n",
      "Very Good    1076\n",
      "Excellent     300\n",
      "Poor          186\n",
      "Name: Rating text, dtype: int64\n",
      "=============================================================\n",
      "Country\n",
      "India             8643\n",
      "United States      425\n",
      "United Kingdom      80\n",
      "Brazil              60\n",
      "UAE                 60\n",
      "South Africa        60\n",
      "New Zealand         40\n",
      "Turkey              34\n",
      "Australia           24\n",
      "Phillipines         22\n",
      "Indonesia           21\n",
      "Singapore           20\n",
      "Qatar               20\n",
      "Sri Lanka           20\n",
      "Canada               4\n",
      "Name: Country, dtype: int64\n",
      "=============================================================\n"
     ]
    }
   ],
   "source": [
    "#Lets check the value count of each column to see if there are any unexpected and unwanted entries present in the column.\n",
    "for i in categorical:\n",
    "        print(i)\n",
    "        print(df[i].value_counts())\n",
    "        print('=============================================================')"
   ]
  },
  {
   "cell_type": "markdown",
   "id": "77bb4140",
   "metadata": {},
   "source": [
    "Observation\n",
    "\n",
    "1. The restourent name Cafe Coffee Day,Domino's Pizza,Subway,Green Chick Chop,McDonald's has maximum unit.\n",
    "\n",
    "2. the North Indian, Chinese type of Cuisines is more demanding.\n",
    "\n",
    "3. Locality Verbose,Address,Restaurant Name and Restaurant ID has more unique value which are create problem for predict a model so we can drop it.\n",
    "\n",
    "4.  Switch to order menu has one unique value that is not usefull for model prediction so. we can drop it"
   ]
  },
  {
   "cell_type": "markdown",
   "id": "94bffa82",
   "metadata": {},
   "source": [
    "# Distribution plot for all numerical columns"
   ]
  },
  {
   "cell_type": "code",
   "execution_count": 26,
   "id": "0c5ed391",
   "metadata": {},
   "outputs": [
    {
     "data": {
      "image/png": "[encoded data removed]",
      "text/plain": [
       "<Figure size 576x288 with 1 Axes>"
      ]
     },
     "metadata": {
      "needs_background": "light"
     },
     "output_type": "display_data"
    },
    {
     "data": {
      "image/png": "[encoded data removed]",
      "text/plain": [
       "<Figure size 576x288 with 1 Axes>"
      ]
     },
     "metadata": {
      "needs_background": "light"
     },
     "output_type": "display_data"
    },
    {
     "data": {
      "image/png": "[encoded data removed]",
      "text/plain": [
       "<Figure size 576x288 with 1 Axes>"
      ]
     },
     "metadata": {
      "needs_background": "light"
     },
     "output_type": "display_data"
    },
    {
     "data": {
      "image/png": "[encoded data removed]",
      "text/plain": [
       "<Figure size 576x288 with 1 Axes>"
      ]
     },
     "metadata": {
      "needs_background": "light"
     },
     "output_type": "display_data"
    },
    {
     "data": {
      "image/png": "[encoded data removed]",
      "text/plain": [
       "<Figure size 576x288 with 1 Axes>"
      ]
     },
     "metadata": {
      "needs_background": "light"
     },
     "output_type": "display_data"
    },
    {
     "data": {
      "image/png": "[encoded data removed]",
      "text/plain": [
       "<Figure size 576x288 with 1 Axes>"
      ]
     },
     "metadata": {
      "needs_background": "light"
     },
     "output_type": "display_data"
    },
    {
     "data": {
      "image/png": "[encoded data removed]",
      "text/plain": [
       "<Figure size 576x288 with 1 Axes>"
      ]
     },
     "metadata": {
      "needs_background": "light"
     },
     "output_type": "display_data"
    },
    {
     "data": {
      "image/png": "[encoded data removed]",
      "text/plain": [
       "<Figure size 576x288 with 1 Axes>"
      ]
     },
     "metadata": {
      "needs_background": "light"
     },
     "output_type": "display_data"
    }
   ],
   "source": [
    "#Distribution plot for all numerical columns\n",
    "for i in df.describe():              \n",
    "    plt.figure(figsize = (8, 4))\n",
    "    sns.distplot(df[i], bins = 10, color=\"g\")\n",
    "    plt.title(i)\n",
    "    plt.show()"
   ]
  },
  {
   "cell_type": "markdown",
   "id": "bae87e4f",
   "metadata": {},
   "source": [
    "skewness are prasent in many columns so later i can remove it later"
   ]
  },
  {
   "cell_type": "markdown",
   "id": "eda3f30f",
   "metadata": {},
   "source": [
    "# Analysis of columns"
   ]
  },
  {
   "cell_type": "markdown",
   "id": "33daccd6",
   "metadata": {},
   "source": [
    "# Rating"
   ]
  },
  {
   "cell_type": "code",
   "execution_count": 27,
   "id": "d7682bee",
   "metadata": {},
   "outputs": [],
   "source": [
    "ratings=df.groupby(['Aggregate rating','Rating color','Rating text']).size().reset_index().rename(columns={ 0:'Rating_count'})"
   ]
  },
  {
   "cell_type": "code",
   "execution_count": 28,
   "id": "1052f43d",
   "metadata": {},
   "outputs": [
    {
     "data": {
      "text/html": [
       "<div>\n",
       "<style scoped>\n",
       "    .dataframe tbody tr th:only-of-type {\n",
       "        vertical-align: middle;\n",
       "    }\n",
       "\n",
       "    .dataframe tbody tr th {\n",
       "        vertical-align: top;\n",
       "    }\n",
       "\n",
       "    .dataframe thead th {\n",
       "        text-align: right;\n",
       "    }\n",
       "</style>\n",
       "<table border=\"1\" class=\"dataframe\">\n",
       "  <thead>\n",
       "    <tr style=\"text-align: right;\">\n",
       "      <th></th>\n",
       "      <th>Aggregate rating</th>\n",
       "      <th>Rating color</th>\n",
       "      <th>Rating text</th>\n",
       "      <th>Rating_count</th>\n",
       "    </tr>\n",
       "  </thead>\n",
       "  <tbody>\n",
       "    <tr>\n",
       "      <th>0</th>\n",
       "      <td>0.0</td>\n",
       "      <td>White</td>\n",
       "      <td>Not rated</td>\n",
       "      <td>2148</td>\n",
       "    </tr>\n",
       "    <tr>\n",
       "      <th>1</th>\n",
       "      <td>1.8</td>\n",
       "      <td>Red</td>\n",
       "      <td>Poor</td>\n",
       "      <td>1</td>\n",
       "    </tr>\n",
       "    <tr>\n",
       "      <th>2</th>\n",
       "      <td>1.9</td>\n",
       "      <td>Red</td>\n",
       "      <td>Poor</td>\n",
       "      <td>2</td>\n",
       "    </tr>\n",
       "    <tr>\n",
       "      <th>3</th>\n",
       "      <td>2.0</td>\n",
       "      <td>Red</td>\n",
       "      <td>Poor</td>\n",
       "      <td>7</td>\n",
       "    </tr>\n",
       "    <tr>\n",
       "      <th>4</th>\n",
       "      <td>2.1</td>\n",
       "      <td>Red</td>\n",
       "      <td>Poor</td>\n",
       "      <td>15</td>\n",
       "    </tr>\n",
       "    <tr>\n",
       "      <th>5</th>\n",
       "      <td>2.2</td>\n",
       "      <td>Red</td>\n",
       "      <td>Poor</td>\n",
       "      <td>27</td>\n",
       "    </tr>\n",
       "    <tr>\n",
       "      <th>6</th>\n",
       "      <td>2.3</td>\n",
       "      <td>Red</td>\n",
       "      <td>Poor</td>\n",
       "      <td>47</td>\n",
       "    </tr>\n",
       "    <tr>\n",
       "      <th>7</th>\n",
       "      <td>2.4</td>\n",
       "      <td>Red</td>\n",
       "      <td>Poor</td>\n",
       "      <td>87</td>\n",
       "    </tr>\n",
       "    <tr>\n",
       "      <th>8</th>\n",
       "      <td>2.5</td>\n",
       "      <td>Orange</td>\n",
       "      <td>Average</td>\n",
       "      <td>110</td>\n",
       "    </tr>\n",
       "    <tr>\n",
       "      <th>9</th>\n",
       "      <td>2.6</td>\n",
       "      <td>Orange</td>\n",
       "      <td>Average</td>\n",
       "      <td>191</td>\n",
       "    </tr>\n",
       "    <tr>\n",
       "      <th>10</th>\n",
       "      <td>2.7</td>\n",
       "      <td>Orange</td>\n",
       "      <td>Average</td>\n",
       "      <td>250</td>\n",
       "    </tr>\n",
       "    <tr>\n",
       "      <th>11</th>\n",
       "      <td>2.8</td>\n",
       "      <td>Orange</td>\n",
       "      <td>Average</td>\n",
       "      <td>315</td>\n",
       "    </tr>\n",
       "    <tr>\n",
       "      <th>12</th>\n",
       "      <td>2.9</td>\n",
       "      <td>Orange</td>\n",
       "      <td>Average</td>\n",
       "      <td>381</td>\n",
       "    </tr>\n",
       "    <tr>\n",
       "      <th>13</th>\n",
       "      <td>3.0</td>\n",
       "      <td>Orange</td>\n",
       "      <td>Average</td>\n",
       "      <td>468</td>\n",
       "    </tr>\n",
       "    <tr>\n",
       "      <th>14</th>\n",
       "      <td>3.1</td>\n",
       "      <td>Orange</td>\n",
       "      <td>Average</td>\n",
       "      <td>519</td>\n",
       "    </tr>\n",
       "    <tr>\n",
       "      <th>15</th>\n",
       "      <td>3.2</td>\n",
       "      <td>Orange</td>\n",
       "      <td>Average</td>\n",
       "      <td>522</td>\n",
       "    </tr>\n",
       "    <tr>\n",
       "      <th>16</th>\n",
       "      <td>3.3</td>\n",
       "      <td>Orange</td>\n",
       "      <td>Average</td>\n",
       "      <td>482</td>\n",
       "    </tr>\n",
       "    <tr>\n",
       "      <th>17</th>\n",
       "      <td>3.4</td>\n",
       "      <td>Orange</td>\n",
       "      <td>Average</td>\n",
       "      <td>494</td>\n",
       "    </tr>\n",
       "    <tr>\n",
       "      <th>18</th>\n",
       "      <td>3.5</td>\n",
       "      <td>Yellow</td>\n",
       "      <td>Good</td>\n",
       "      <td>478</td>\n",
       "    </tr>\n",
       "    <tr>\n",
       "      <th>19</th>\n",
       "      <td>3.6</td>\n",
       "      <td>Yellow</td>\n",
       "      <td>Good</td>\n",
       "      <td>455</td>\n",
       "    </tr>\n",
       "    <tr>\n",
       "      <th>20</th>\n",
       "      <td>3.7</td>\n",
       "      <td>Yellow</td>\n",
       "      <td>Good</td>\n",
       "      <td>427</td>\n",
       "    </tr>\n",
       "    <tr>\n",
       "      <th>21</th>\n",
       "      <td>3.8</td>\n",
       "      <td>Yellow</td>\n",
       "      <td>Good</td>\n",
       "      <td>399</td>\n",
       "    </tr>\n",
       "    <tr>\n",
       "      <th>22</th>\n",
       "      <td>3.9</td>\n",
       "      <td>Yellow</td>\n",
       "      <td>Good</td>\n",
       "      <td>332</td>\n",
       "    </tr>\n",
       "    <tr>\n",
       "      <th>23</th>\n",
       "      <td>4.0</td>\n",
       "      <td>Green</td>\n",
       "      <td>Very Good</td>\n",
       "      <td>265</td>\n",
       "    </tr>\n",
       "    <tr>\n",
       "      <th>24</th>\n",
       "      <td>4.1</td>\n",
       "      <td>Green</td>\n",
       "      <td>Very Good</td>\n",
       "      <td>274</td>\n",
       "    </tr>\n",
       "    <tr>\n",
       "      <th>25</th>\n",
       "      <td>4.2</td>\n",
       "      <td>Green</td>\n",
       "      <td>Very Good</td>\n",
       "      <td>221</td>\n",
       "    </tr>\n",
       "    <tr>\n",
       "      <th>26</th>\n",
       "      <td>4.3</td>\n",
       "      <td>Green</td>\n",
       "      <td>Very Good</td>\n",
       "      <td>172</td>\n",
       "    </tr>\n",
       "    <tr>\n",
       "      <th>27</th>\n",
       "      <td>4.4</td>\n",
       "      <td>Green</td>\n",
       "      <td>Very Good</td>\n",
       "      <td>144</td>\n",
       "    </tr>\n",
       "    <tr>\n",
       "      <th>28</th>\n",
       "      <td>4.5</td>\n",
       "      <td>Dark Green</td>\n",
       "      <td>Excellent</td>\n",
       "      <td>95</td>\n",
       "    </tr>\n",
       "    <tr>\n",
       "      <th>29</th>\n",
       "      <td>4.6</td>\n",
       "      <td>Dark Green</td>\n",
       "      <td>Excellent</td>\n",
       "      <td>78</td>\n",
       "    </tr>\n",
       "    <tr>\n",
       "      <th>30</th>\n",
       "      <td>4.7</td>\n",
       "      <td>Dark Green</td>\n",
       "      <td>Excellent</td>\n",
       "      <td>42</td>\n",
       "    </tr>\n",
       "    <tr>\n",
       "      <th>31</th>\n",
       "      <td>4.8</td>\n",
       "      <td>Dark Green</td>\n",
       "      <td>Excellent</td>\n",
       "      <td>25</td>\n",
       "    </tr>\n",
       "    <tr>\n",
       "      <th>32</th>\n",
       "      <td>4.9</td>\n",
       "      <td>Dark Green</td>\n",
       "      <td>Excellent</td>\n",
       "      <td>60</td>\n",
       "    </tr>\n",
       "  </tbody>\n",
       "</table>\n",
       "</div>"
      ],
      "text/plain": [
       "    Aggregate rating Rating color Rating text  Rating_count\n",
       "0                0.0        White   Not rated          2148\n",
       "1                1.8          Red        Poor             1\n",
       "2                1.9          Red        Poor             2\n",
       "3                2.0          Red        Poor             7\n",
       "4                2.1          Red        Poor            15\n",
       "5                2.2          Red        Poor            27\n",
       "6                2.3          Red        Poor            47\n",
       "7                2.4          Red        Poor            87\n",
       "8                2.5       Orange     Average           110\n",
       "9                2.6       Orange     Average           191\n",
       "10               2.7       Orange     Average           250\n",
       "11               2.8       Orange     Average           315\n",
       "12               2.9       Orange     Average           381\n",
       "13               3.0       Orange     Average           468\n",
       "14               3.1       Orange     Average           519\n",
       "15               3.2       Orange     Average           522\n",
       "16               3.3       Orange     Average           482\n",
       "17               3.4       Orange     Average           494\n",
       "18               3.5       Yellow        Good           478\n",
       "19               3.6       Yellow        Good           455\n",
       "20               3.7       Yellow        Good           427\n",
       "21               3.8       Yellow        Good           399\n",
       "22               3.9       Yellow        Good           332\n",
       "23               4.0        Green   Very Good           265\n",
       "24               4.1        Green   Very Good           274\n",
       "25               4.2        Green   Very Good           221\n",
       "26               4.3        Green   Very Good           172\n",
       "27               4.4        Green   Very Good           144\n",
       "28               4.5   Dark Green   Excellent            95\n",
       "29               4.6   Dark Green   Excellent            78\n",
       "30               4.7   Dark Green   Excellent            42\n",
       "31               4.8   Dark Green   Excellent            25\n",
       "32               4.9   Dark Green   Excellent            60"
      ]
     },
     "execution_count": 28,
     "metadata": {},
     "output_type": "execute_result"
    }
   ],
   "source": [
    "ratings"
   ]
  },
  {
   "cell_type": "markdown",
   "id": "d0b50c7b",
   "metadata": {},
   "source": [
    "Observation:\n",
    "1. when rating is between 4.5 to 4.9 then Excellent\n",
    "2. when rating is between 4.0 to 4.4 then Very Good\n",
    "3. when rating is between 3.5 to 3.9 then Good\n",
    "4. when rating is between 2.5 to 3.4 then Average\n",
    "5. when rating is between 1.8 to 2.4 then poor\n",
    "6. when rating is 0.0 then not rated"
   ]
  },
  {
   "cell_type": "code",
   "execution_count": 29,
   "id": "318a8073",
   "metadata": {},
   "outputs": [
    {
     "data": {
      "text/plain": [
       "<AxesSubplot:xlabel='Aggregate rating', ylabel='Rating_count'>"
      ]
     },
     "execution_count": 29,
     "metadata": {},
     "output_type": "execute_result"
    },
    {
     "data": {
      "image/png": "[encoded data removed]",
      "text/plain": [
       "<Figure size 864x432 with 1 Axes>"
      ]
     },
     "metadata": {
      "needs_background": "light"
     },
     "output_type": "display_data"
    }
   ],
   "source": [
    "import matplotlib\n",
    "matplotlib.rcParams['figure.figsize']=(12,6)\n",
    "sns.barplot('Aggregate rating','Rating_count',data=ratings)"
   ]
  },
  {
   "cell_type": "code",
   "execution_count": 30,
   "id": "81f5a7ab",
   "metadata": {},
   "outputs": [
    {
     "data": {
      "text/plain": [
       "<AxesSubplot:xlabel='Aggregate rating', ylabel='Rating_count'>"
      ]
     },
     "execution_count": 30,
     "metadata": {},
     "output_type": "execute_result"
    },
    {
     "data": {
      "image/png": "[encoded data removed]",
      "text/plain": [
       "<Figure size 864x432 with 1 Axes>"
      ]
     },
     "metadata": {
      "needs_background": "light"
     },
     "output_type": "display_data"
    }
   ],
   "source": [
    "sns.barplot('Aggregate rating','Rating_count',data=ratings,hue='Rating color',palette=['blue','red','orange','yellow','green','green'])"
   ]
  },
  {
   "cell_type": "markdown",
   "id": "13711807",
   "metadata": {},
   "source": [
    "Observation:\n",
    "    \n",
    "Notrated count is very high.\n",
    "\n",
    "Maximum no. of rating in between 2.5 to 3.4"
   ]
  },
  {
   "cell_type": "code",
   "execution_count": 31,
   "id": "149017b9",
   "metadata": {},
   "outputs": [
    {
     "data": {
      "text/plain": [
       "<AxesSubplot:xlabel='Rating color', ylabel='count'>"
      ]
     },
     "execution_count": 31,
     "metadata": {},
     "output_type": "execute_result"
    },
    {
     "data": {
      "image/png": "[encoded data removed]",
      "text/plain": [
       "<Figure size 864x432 with 1 Axes>"
      ]
     },
     "metadata": {
      "needs_background": "light"
     },
     "output_type": "display_data"
    }
   ],
   "source": [
    "sns.countplot(x='Rating color',data=ratings,palette=['blue','red','orange','yellow','green','green'])"
   ]
  },
  {
   "cell_type": "markdown",
   "id": "404aff37",
   "metadata": {},
   "source": [
    "Orange color rating has maximum count."
   ]
  },
  {
   "cell_type": "code",
   "execution_count": 32,
   "id": "901ca639",
   "metadata": {},
   "outputs": [],
   "source": [
    "df.loc[(df[\"Aggregate rating\"] >= 4.5), 'Aggregate rating'] = 5\n",
    "df.loc[(df[\"Aggregate rating\"] >= 3.8) & (df[\"Aggregate rating\"] < 4.5), 'Aggregate rating'] = 4\n",
    "df.loc[(df[\"Aggregate rating\"] >= 2.8) & (df[\"Aggregate rating\"] < 3.8), 'Aggregate rating'] = 3\n",
    "df.loc[(df[\"Aggregate rating\"] >= 1.8) & (df[\"Aggregate rating\"] < 2.8), 'Aggregate rating'] = 2\n",
    "df.loc[(df[\"Aggregate rating\"] < 1.8), 'Aggregate rating'] = 1\n",
    "df[\"Aggregate rating\"]=df[\"Aggregate rating\"].astype(int)\n"
   ]
  },
  {
   "cell_type": "code",
   "execution_count": 33,
   "id": "48318b43",
   "metadata": {},
   "outputs": [
    {
     "data": {
      "text/html": [
       "<div>\n",
       "<style scoped>\n",
       "    .dataframe tbody tr th:only-of-type {\n",
       "        vertical-align: middle;\n",
       "    }\n",
       "\n",
       "    .dataframe tbody tr th {\n",
       "        vertical-align: top;\n",
       "    }\n",
       "\n",
       "    .dataframe thead th {\n",
       "        text-align: right;\n",
       "    }\n",
       "</style>\n",
       "<table border=\"1\" class=\"dataframe\">\n",
       "  <thead>\n",
       "    <tr style=\"text-align: right;\">\n",
       "      <th></th>\n",
       "      <th>Restaurant ID</th>\n",
       "      <th>Restaurant Name</th>\n",
       "      <th>Country Code</th>\n",
       "      <th>City</th>\n",
       "      <th>Address</th>\n",
       "      <th>Locality</th>\n",
       "      <th>Locality Verbose</th>\n",
       "      <th>Longitude</th>\n",
       "      <th>Latitude</th>\n",
       "      <th>Cuisines</th>\n",
       "      <th>Average Cost for two</th>\n",
       "      <th>Currency</th>\n",
       "      <th>Has Table booking</th>\n",
       "      <th>Has Online delivery</th>\n",
       "      <th>Is delivering now</th>\n",
       "      <th>Switch to order menu</th>\n",
       "      <th>Price range</th>\n",
       "      <th>Aggregate rating</th>\n",
       "      <th>Rating color</th>\n",
       "      <th>Rating text</th>\n",
       "      <th>Votes</th>\n",
       "      <th>Country</th>\n",
       "    </tr>\n",
       "  </thead>\n",
       "  <tbody>\n",
       "    <tr>\n",
       "      <th>0</th>\n",
       "      <td>6317637</td>\n",
       "      <td>Le Petit Souffle</td>\n",
       "      <td>162</td>\n",
       "      <td>Makati City</td>\n",
       "      <td>Third Floor, Century City Mall, Kalayaan Avenu...</td>\n",
       "      <td>Century City Mall, Poblacion, Makati City</td>\n",
       "      <td>Century City Mall, Poblacion, Makati City, Mak...</td>\n",
       "      <td>121.027535</td>\n",
       "      <td>14.565443</td>\n",
       "      <td>French, Japanese, Desserts</td>\n",
       "      <td>1100</td>\n",
       "      <td>Botswana Pula(P)</td>\n",
       "      <td>Yes</td>\n",
       "      <td>No</td>\n",
       "      <td>No</td>\n",
       "      <td>No</td>\n",
       "      <td>3</td>\n",
       "      <td>5</td>\n",
       "      <td>Dark Green</td>\n",
       "      <td>Excellent</td>\n",
       "      <td>314</td>\n",
       "      <td>Phillipines</td>\n",
       "    </tr>\n",
       "    <tr>\n",
       "      <th>1</th>\n",
       "      <td>6304287</td>\n",
       "      <td>Izakaya Kikufuji</td>\n",
       "      <td>162</td>\n",
       "      <td>Makati City</td>\n",
       "      <td>Little Tokyo, 2277 Chino Roces Avenue, Legaspi...</td>\n",
       "      <td>Little Tokyo, Legaspi Village, Makati City</td>\n",
       "      <td>Little Tokyo, Legaspi Village, Makati City, Ma...</td>\n",
       "      <td>121.014101</td>\n",
       "      <td>14.553708</td>\n",
       "      <td>Japanese</td>\n",
       "      <td>1200</td>\n",
       "      <td>Botswana Pula(P)</td>\n",
       "      <td>Yes</td>\n",
       "      <td>No</td>\n",
       "      <td>No</td>\n",
       "      <td>No</td>\n",
       "      <td>3</td>\n",
       "      <td>5</td>\n",
       "      <td>Dark Green</td>\n",
       "      <td>Excellent</td>\n",
       "      <td>591</td>\n",
       "      <td>Phillipines</td>\n",
       "    </tr>\n",
       "  </tbody>\n",
       "</table>\n",
       "</div>"
      ],
      "text/plain": [
       "   Restaurant ID   Restaurant Name  Country Code         City  \\\n",
       "0        6317637  Le Petit Souffle           162  Makati City   \n",
       "1        6304287  Izakaya Kikufuji           162  Makati City   \n",
       "\n",
       "                                             Address  \\\n",
       "0  Third Floor, Century City Mall, Kalayaan Avenu...   \n",
       "1  Little Tokyo, 2277 Chino Roces Avenue, Legaspi...   \n",
       "\n",
       "                                     Locality  \\\n",
       "0   Century City Mall, Poblacion, Makati City   \n",
       "1  Little Tokyo, Legaspi Village, Makati City   \n",
       "\n",
       "                                    Locality Verbose   Longitude   Latitude  \\\n",
       "0  Century City Mall, Poblacion, Makati City, Mak...  121.027535  14.565443   \n",
       "1  Little Tokyo, Legaspi Village, Makati City, Ma...  121.014101  14.553708   \n",
       "\n",
       "                     Cuisines  Average Cost for two          Currency  \\\n",
       "0  French, Japanese, Desserts                  1100  Botswana Pula(P)   \n",
       "1                    Japanese                  1200  Botswana Pula(P)   \n",
       "\n",
       "  Has Table booking Has Online delivery Is delivering now  \\\n",
       "0               Yes                  No                No   \n",
       "1               Yes                  No                No   \n",
       "\n",
       "  Switch to order menu  Price range  Aggregate rating Rating color  \\\n",
       "0                   No            3                 5   Dark Green   \n",
       "1                   No            3                 5   Dark Green   \n",
       "\n",
       "  Rating text  Votes      Country  \n",
       "0   Excellent    314  Phillipines  \n",
       "1   Excellent    591  Phillipines  "
      ]
     },
     "execution_count": 33,
     "metadata": {},
     "output_type": "execute_result"
    }
   ],
   "source": [
    "df.head(2)"
   ]
  },
  {
   "cell_type": "markdown",
   "id": "17a17010",
   "metadata": {},
   "source": [
    "# country name which has 0 ratings"
   ]
  },
  {
   "cell_type": "code",
   "execution_count": 34,
   "id": "47e820ce",
   "metadata": {},
   "outputs": [
    {
     "data": {
      "text/plain": [
       "Country\n",
       "Brazil               5\n",
       "India             2139\n",
       "United Kingdom       1\n",
       "United States        3\n",
       "dtype: int64"
      ]
     },
     "execution_count": 34,
     "metadata": {},
     "output_type": "execute_result"
    }
   ],
   "source": [
    "df[df['Rating color']=='White'].groupby('Country').size()"
   ]
  },
  {
   "cell_type": "code",
   "execution_count": 35,
   "id": "6166a054",
   "metadata": {},
   "outputs": [
    {
     "data": {
      "text/html": [
       "<div>\n",
       "<style scoped>\n",
       "    .dataframe tbody tr th:only-of-type {\n",
       "        vertical-align: middle;\n",
       "    }\n",
       "\n",
       "    .dataframe tbody tr th {\n",
       "        vertical-align: top;\n",
       "    }\n",
       "\n",
       "    .dataframe thead th {\n",
       "        text-align: right;\n",
       "    }\n",
       "</style>\n",
       "<table border=\"1\" class=\"dataframe\">\n",
       "  <thead>\n",
       "    <tr style=\"text-align: right;\">\n",
       "      <th></th>\n",
       "      <th>Country</th>\n",
       "      <th>0 Rating</th>\n",
       "    </tr>\n",
       "  </thead>\n",
       "  <tbody>\n",
       "    <tr>\n",
       "      <th>0</th>\n",
       "      <td>Brazil</td>\n",
       "      <td>5</td>\n",
       "    </tr>\n",
       "    <tr>\n",
       "      <th>1</th>\n",
       "      <td>India</td>\n",
       "      <td>2139</td>\n",
       "    </tr>\n",
       "    <tr>\n",
       "      <th>2</th>\n",
       "      <td>United Kingdom</td>\n",
       "      <td>1</td>\n",
       "    </tr>\n",
       "    <tr>\n",
       "      <th>3</th>\n",
       "      <td>United States</td>\n",
       "      <td>3</td>\n",
       "    </tr>\n",
       "  </tbody>\n",
       "</table>\n",
       "</div>"
      ],
      "text/plain": [
       "          Country  0 Rating\n",
       "0          Brazil         5\n",
       "1           India      2139\n",
       "2  United Kingdom         1\n",
       "3   United States         3"
      ]
     },
     "execution_count": 35,
     "metadata": {},
     "output_type": "execute_result"
    }
   ],
   "source": [
    "df[df['Rating color']=='White'].groupby('Country').size().reset_index().rename(columns={ 0:'0 Rating'})"
   ]
  },
  {
   "cell_type": "markdown",
   "id": "b54215be",
   "metadata": {},
   "source": [
    "maximum number of 0 rating are from indian customers. "
   ]
  },
  {
   "cell_type": "markdown",
   "id": "80122f9f",
   "metadata": {},
   "source": [
    "# Which Country has maximum order"
   ]
  },
  {
   "cell_type": "code",
   "execution_count": 36,
   "id": "80d363a3",
   "metadata": {},
   "outputs": [],
   "source": [
    "Country_name=df.Country.value_counts().index"
   ]
  },
  {
   "cell_type": "code",
   "execution_count": 37,
   "id": "52f9b889",
   "metadata": {},
   "outputs": [],
   "source": [
    "Country_values=df.Country.value_counts().values"
   ]
  },
  {
   "cell_type": "code",
   "execution_count": 38,
   "id": "07d4231e",
   "metadata": {},
   "outputs": [
    {
     "data": {
      "text/plain": [
       "([<matplotlib.patches.Wedge at 0x1d23920d580>,\n",
       "  <matplotlib.patches.Wedge at 0x1d23920dd00>,\n",
       "  <matplotlib.patches.Wedge at 0x1d239211460>],\n",
       " [Text(-1.0834992371345704, 0.18981412784301424, 'India'),\n",
       "  Text(1.0778761574542381, -0.2195062395279157, 'United States'),\n",
       "  Text(1.0995848909373211, -0.030217008825492823, 'United Kingdom')],\n",
       " [Text(-0.5909995838915838, 0.1035349788234623, '94.48%'),\n",
       "  Text(0.5879324495204934, -0.11973067610613583, '4.65%'),\n",
       "  Text(0.5997735768749023, -0.016482004813905174, '0.87%')])"
      ]
     },
     "execution_count": 38,
     "metadata": {},
     "output_type": "execute_result"
    },
    {
     "data": {
      "image/png": "[encoded data removed]",
      "text/plain": [
       "<Figure size 864x432 with 1 Axes>"
      ]
     },
     "metadata": {},
     "output_type": "display_data"
    }
   ],
   "source": [
    "plt.pie(Country_values[:3],labels=Country_name[:3],autopct='%1.2f%%')"
   ]
  },
  {
   "cell_type": "markdown",
   "id": "0bf6361c",
   "metadata": {},
   "source": [
    "Observation:\n",
    "\n",
    "Zomato maximum record and transaction are from India,US and then UK"
   ]
  },
  {
   "cell_type": "markdown",
   "id": "da1b2ac2",
   "metadata": {},
   "source": [
    "# Find which currency is used by which country"
   ]
  },
  {
   "cell_type": "code",
   "execution_count": 39,
   "id": "180b5f2f",
   "metadata": {},
   "outputs": [
    {
     "data": {
      "text/html": [
       "<div>\n",
       "<style scoped>\n",
       "    .dataframe tbody tr th:only-of-type {\n",
       "        vertical-align: middle;\n",
       "    }\n",
       "\n",
       "    .dataframe tbody tr th {\n",
       "        vertical-align: top;\n",
       "    }\n",
       "\n",
       "    .dataframe thead th {\n",
       "        text-align: right;\n",
       "    }\n",
       "</style>\n",
       "<table border=\"1\" class=\"dataframe\">\n",
       "  <thead>\n",
       "    <tr style=\"text-align: right;\">\n",
       "      <th></th>\n",
       "      <th>Country</th>\n",
       "      <th>Currency</th>\n",
       "      <th>0</th>\n",
       "    </tr>\n",
       "  </thead>\n",
       "  <tbody>\n",
       "    <tr>\n",
       "      <th>0</th>\n",
       "      <td>Australia</td>\n",
       "      <td>Dollar($)</td>\n",
       "      <td>24</td>\n",
       "    </tr>\n",
       "    <tr>\n",
       "      <th>1</th>\n",
       "      <td>Brazil</td>\n",
       "      <td>Brazilian Real(R$)</td>\n",
       "      <td>60</td>\n",
       "    </tr>\n",
       "    <tr>\n",
       "      <th>2</th>\n",
       "      <td>Canada</td>\n",
       "      <td>Dollar($)</td>\n",
       "      <td>4</td>\n",
       "    </tr>\n",
       "    <tr>\n",
       "      <th>3</th>\n",
       "      <td>India</td>\n",
       "      <td>Indian Rupees(Rs.)</td>\n",
       "      <td>8643</td>\n",
       "    </tr>\n",
       "    <tr>\n",
       "      <th>4</th>\n",
       "      <td>Indonesia</td>\n",
       "      <td>Indonesian Rupiah(IDR)</td>\n",
       "      <td>21</td>\n",
       "    </tr>\n",
       "    <tr>\n",
       "      <th>5</th>\n",
       "      <td>New Zealand</td>\n",
       "      <td>NewZealand($)</td>\n",
       "      <td>40</td>\n",
       "    </tr>\n",
       "    <tr>\n",
       "      <th>6</th>\n",
       "      <td>Phillipines</td>\n",
       "      <td>Botswana Pula(P)</td>\n",
       "      <td>22</td>\n",
       "    </tr>\n",
       "    <tr>\n",
       "      <th>7</th>\n",
       "      <td>Qatar</td>\n",
       "      <td>Qatari Rial(QR)</td>\n",
       "      <td>20</td>\n",
       "    </tr>\n",
       "    <tr>\n",
       "      <th>8</th>\n",
       "      <td>Singapore</td>\n",
       "      <td>Dollar($)</td>\n",
       "      <td>20</td>\n",
       "    </tr>\n",
       "    <tr>\n",
       "      <th>9</th>\n",
       "      <td>South Africa</td>\n",
       "      <td>Rand(R)</td>\n",
       "      <td>60</td>\n",
       "    </tr>\n",
       "    <tr>\n",
       "      <th>10</th>\n",
       "      <td>Sri Lanka</td>\n",
       "      <td>Sri Lankan Rupee(LKR)</td>\n",
       "      <td>20</td>\n",
       "    </tr>\n",
       "    <tr>\n",
       "      <th>11</th>\n",
       "      <td>Turkey</td>\n",
       "      <td>Turkish Lira(TL)</td>\n",
       "      <td>34</td>\n",
       "    </tr>\n",
       "    <tr>\n",
       "      <th>12</th>\n",
       "      <td>UAE</td>\n",
       "      <td>Emirati Diram(AED)</td>\n",
       "      <td>60</td>\n",
       "    </tr>\n",
       "    <tr>\n",
       "      <th>13</th>\n",
       "      <td>United Kingdom</td>\n",
       "      <td>Pounds(��)</td>\n",
       "      <td>80</td>\n",
       "    </tr>\n",
       "    <tr>\n",
       "      <th>14</th>\n",
       "      <td>United States</td>\n",
       "      <td>Dollar($)</td>\n",
       "      <td>425</td>\n",
       "    </tr>\n",
       "  </tbody>\n",
       "</table>\n",
       "</div>"
      ],
      "text/plain": [
       "           Country                Currency     0\n",
       "0        Australia               Dollar($)    24\n",
       "1           Brazil      Brazilian Real(R$)    60\n",
       "2           Canada               Dollar($)     4\n",
       "3            India      Indian Rupees(Rs.)  8643\n",
       "4        Indonesia  Indonesian Rupiah(IDR)    21\n",
       "5      New Zealand           NewZealand($)    40\n",
       "6      Phillipines        Botswana Pula(P)    22\n",
       "7            Qatar         Qatari Rial(QR)    20\n",
       "8        Singapore               Dollar($)    20\n",
       "9     South Africa                 Rand(R)    60\n",
       "10       Sri Lanka   Sri Lankan Rupee(LKR)    20\n",
       "11          Turkey        Turkish Lira(TL)    34\n",
       "12             UAE      Emirati Diram(AED)    60\n",
       "13  United Kingdom              Pounds(��)    80\n",
       "14   United States               Dollar($)   425"
      ]
     },
     "execution_count": 39,
     "metadata": {},
     "output_type": "execute_result"
    }
   ],
   "source": [
    "df[['Country','Currency']].groupby(['Country','Currency']).size().reset_index()"
   ]
  },
  {
   "cell_type": "code",
   "execution_count": 40,
   "id": "7be81bac",
   "metadata": {},
   "outputs": [
    {
     "data": {
      "text/plain": [
       "Index(['Restaurant ID', 'Restaurant Name', 'Country Code', 'City', 'Address',\n",
       "       'Locality', 'Locality Verbose', 'Longitude', 'Latitude', 'Cuisines',\n",
       "       'Average Cost for two', 'Currency', 'Has Table booking',\n",
       "       'Has Online delivery', 'Is delivering now', 'Switch to order menu',\n",
       "       'Price range', 'Aggregate rating', 'Rating color', 'Rating text',\n",
       "       'Votes', 'Country'],\n",
       "      dtype='object')"
      ]
     },
     "execution_count": 40,
     "metadata": {},
     "output_type": "execute_result"
    }
   ],
   "source": [
    "df.columns"
   ]
  },
  {
   "cell_type": "markdown",
   "id": "9184a938",
   "metadata": {},
   "source": [
    "# which country do have online delivery"
   ]
  },
  {
   "cell_type": "code",
   "execution_count": 41,
   "id": "355fb011",
   "metadata": {},
   "outputs": [
    {
     "data": {
      "text/html": [
       "<div>\n",
       "<style scoped>\n",
       "    .dataframe tbody tr th:only-of-type {\n",
       "        vertical-align: middle;\n",
       "    }\n",
       "\n",
       "    .dataframe tbody tr th {\n",
       "        vertical-align: top;\n",
       "    }\n",
       "\n",
       "    .dataframe thead th {\n",
       "        text-align: right;\n",
       "    }\n",
       "</style>\n",
       "<table border=\"1\" class=\"dataframe\">\n",
       "  <thead>\n",
       "    <tr style=\"text-align: right;\">\n",
       "      <th></th>\n",
       "      <th>Has Online delivery</th>\n",
       "      <th>Country</th>\n",
       "      <th>0</th>\n",
       "    </tr>\n",
       "  </thead>\n",
       "  <tbody>\n",
       "    <tr>\n",
       "      <th>0</th>\n",
       "      <td>No</td>\n",
       "      <td>Australia</td>\n",
       "      <td>24</td>\n",
       "    </tr>\n",
       "    <tr>\n",
       "      <th>1</th>\n",
       "      <td>No</td>\n",
       "      <td>Brazil</td>\n",
       "      <td>60</td>\n",
       "    </tr>\n",
       "    <tr>\n",
       "      <th>2</th>\n",
       "      <td>No</td>\n",
       "      <td>Canada</td>\n",
       "      <td>4</td>\n",
       "    </tr>\n",
       "    <tr>\n",
       "      <th>3</th>\n",
       "      <td>No</td>\n",
       "      <td>India</td>\n",
       "      <td>6220</td>\n",
       "    </tr>\n",
       "    <tr>\n",
       "      <th>4</th>\n",
       "      <td>No</td>\n",
       "      <td>Indonesia</td>\n",
       "      <td>21</td>\n",
       "    </tr>\n",
       "    <tr>\n",
       "      <th>5</th>\n",
       "      <td>No</td>\n",
       "      <td>New Zealand</td>\n",
       "      <td>40</td>\n",
       "    </tr>\n",
       "    <tr>\n",
       "      <th>6</th>\n",
       "      <td>No</td>\n",
       "      <td>Phillipines</td>\n",
       "      <td>22</td>\n",
       "    </tr>\n",
       "    <tr>\n",
       "      <th>7</th>\n",
       "      <td>No</td>\n",
       "      <td>Qatar</td>\n",
       "      <td>20</td>\n",
       "    </tr>\n",
       "    <tr>\n",
       "      <th>8</th>\n",
       "      <td>No</td>\n",
       "      <td>Singapore</td>\n",
       "      <td>20</td>\n",
       "    </tr>\n",
       "    <tr>\n",
       "      <th>9</th>\n",
       "      <td>No</td>\n",
       "      <td>South Africa</td>\n",
       "      <td>60</td>\n",
       "    </tr>\n",
       "    <tr>\n",
       "      <th>10</th>\n",
       "      <td>No</td>\n",
       "      <td>Sri Lanka</td>\n",
       "      <td>20</td>\n",
       "    </tr>\n",
       "    <tr>\n",
       "      <th>11</th>\n",
       "      <td>No</td>\n",
       "      <td>Turkey</td>\n",
       "      <td>34</td>\n",
       "    </tr>\n",
       "    <tr>\n",
       "      <th>12</th>\n",
       "      <td>No</td>\n",
       "      <td>UAE</td>\n",
       "      <td>32</td>\n",
       "    </tr>\n",
       "    <tr>\n",
       "      <th>13</th>\n",
       "      <td>No</td>\n",
       "      <td>United Kingdom</td>\n",
       "      <td>80</td>\n",
       "    </tr>\n",
       "    <tr>\n",
       "      <th>14</th>\n",
       "      <td>No</td>\n",
       "      <td>United States</td>\n",
       "      <td>425</td>\n",
       "    </tr>\n",
       "    <tr>\n",
       "      <th>15</th>\n",
       "      <td>Yes</td>\n",
       "      <td>India</td>\n",
       "      <td>2423</td>\n",
       "    </tr>\n",
       "    <tr>\n",
       "      <th>16</th>\n",
       "      <td>Yes</td>\n",
       "      <td>UAE</td>\n",
       "      <td>28</td>\n",
       "    </tr>\n",
       "  </tbody>\n",
       "</table>\n",
       "</div>"
      ],
      "text/plain": [
       "   Has Online delivery         Country     0\n",
       "0                   No       Australia    24\n",
       "1                   No          Brazil    60\n",
       "2                   No          Canada     4\n",
       "3                   No           India  6220\n",
       "4                   No       Indonesia    21\n",
       "5                   No     New Zealand    40\n",
       "6                   No     Phillipines    22\n",
       "7                   No           Qatar    20\n",
       "8                   No       Singapore    20\n",
       "9                   No    South Africa    60\n",
       "10                  No       Sri Lanka    20\n",
       "11                  No          Turkey    34\n",
       "12                  No             UAE    32\n",
       "13                  No  United Kingdom    80\n",
       "14                  No   United States   425\n",
       "15                 Yes           India  2423\n",
       "16                 Yes             UAE    28"
      ]
     },
     "execution_count": 41,
     "metadata": {},
     "output_type": "execute_result"
    }
   ],
   "source": [
    "df[['Has Online delivery','Country']].groupby(['Has Online delivery','Country']).size().reset_index()"
   ]
  },
  {
   "cell_type": "markdown",
   "id": "1644817d",
   "metadata": {},
   "source": [
    "India and UAE has bot NO and Yes online delivery means may be in some of the regoin in India and UAE not available online delivery. "
   ]
  },
  {
   "cell_type": "code",
   "execution_count": 42,
   "id": "4ab95c06",
   "metadata": {},
   "outputs": [
    {
     "data": {
      "text/plain": [
       "India    2423\n",
       "UAE        28\n",
       "Name: Country, dtype: int64"
      ]
     },
     "execution_count": 42,
     "metadata": {},
     "output_type": "execute_result"
    }
   ],
   "source": [
    "df[df['Has Online delivery']=='Yes'].Country.value_counts()"
   ]
  },
  {
   "cell_type": "markdown",
   "id": "919ac5b5",
   "metadata": {},
   "source": [
    "observation:\n",
    "online delivery is available in India and UAE."
   ]
  },
  {
   "cell_type": "markdown",
   "id": "de483546",
   "metadata": {},
   "source": [
    "# which country  Has proveided  Table booking option "
   ]
  },
  {
   "cell_type": "code",
   "execution_count": 43,
   "id": "630a2e85",
   "metadata": {},
   "outputs": [
    {
     "data": {
      "text/plain": [
       "India             1111\n",
       "UAE                 18\n",
       "Phillipines         14\n",
       "United Kingdom      12\n",
       "South Africa         2\n",
       "Qatar                1\n",
       "Name: Country, dtype: int64"
      ]
     },
     "execution_count": 43,
     "metadata": {},
     "output_type": "execute_result"
    }
   ],
   "source": [
    "df[df['Has Table booking']=='Yes'].Country.value_counts()"
   ]
  },
  {
   "cell_type": "markdown",
   "id": "6a9e13e9",
   "metadata": {},
   "source": [
    "Table booking is available in India UAE ,Phillipines,United Kingdom ,South Africa  and Qatar "
   ]
  },
  {
   "cell_type": "markdown",
   "id": "fd6e08d6",
   "metadata": {},
   "source": [
    "# which country Has proveided Is delivering now option"
   ]
  },
  {
   "cell_type": "code",
   "execution_count": 44,
   "id": "a68f4517",
   "metadata": {},
   "outputs": [
    {
     "data": {
      "text/plain": [
       "India    34\n",
       "Name: Country, dtype: int64"
      ]
     },
     "execution_count": 44,
     "metadata": {},
     "output_type": "execute_result"
    }
   ],
   "source": [
    "df[df['Is delivering now']=='Yes'].Country.value_counts()"
   ]
  },
  {
   "cell_type": "markdown",
   "id": "1de255d7",
   "metadata": {},
   "source": [
    "Only India provides Is delivering now."
   ]
  },
  {
   "cell_type": "markdown",
   "id": "3eeba724",
   "metadata": {},
   "source": [
    "# Top 5 City  do have online delivery and table booking"
   ]
  },
  {
   "cell_type": "code",
   "execution_count": 45,
   "id": "4cc576f0",
   "metadata": {},
   "outputs": [
    {
     "data": {
      "text/plain": [
       "New Delhi    715\n",
       "Gurgaon      204\n",
       "Noida        112\n",
       "Faridabad     15\n",
       "Chennai       13\n",
       "Name: City, dtype: int64"
      ]
     },
     "execution_count": 45,
     "metadata": {},
     "output_type": "execute_result"
    }
   ],
   "source": [
    "df[df['Has Table booking']=='Yes'].City.value_counts()[:5]"
   ]
  },
  {
   "cell_type": "code",
   "execution_count": 46,
   "id": "28885d87",
   "metadata": {},
   "outputs": [
    {
     "data": {
      "text/plain": [
       "New Delhi    1489\n",
       "Gurgaon       425\n",
       "Noida         364\n",
       "Faridabad      35\n",
       "Chennai        13\n",
       "Name: City, dtype: int64"
      ]
     },
     "execution_count": 46,
     "metadata": {},
     "output_type": "execute_result"
    }
   ],
   "source": [
    "df[df['Has Online delivery']=='Yes'].City.value_counts()[:5]"
   ]
  },
  {
   "cell_type": "markdown",
   "id": "275217e0",
   "metadata": {},
   "source": [
    "Top 5 City is same for the Table booking and Has Online delivery."
   ]
  },
  {
   "cell_type": "markdown",
   "id": "02f3f572",
   "metadata": {},
   "source": [
    "# Top 5 City of maximum order"
   ]
  },
  {
   "cell_type": "code",
   "execution_count": 47,
   "id": "f6d38a60",
   "metadata": {},
   "outputs": [],
   "source": [
    "city_values=df.City.value_counts().values\n",
    "city_name=df.City.value_counts().index"
   ]
  },
  {
   "cell_type": "code",
   "execution_count": 48,
   "id": "bb440c12",
   "metadata": {},
   "outputs": [
    {
     "data": {
      "text/plain": [
       "([<matplotlib.patches.Wedge at 0x1d238efd3d0>,\n",
       "  <matplotlib.patches.Wedge at 0x1d238efdb50>,\n",
       "  <matplotlib.patches.Wedge at 0x1d23916e2b0>,\n",
       "  <matplotlib.patches.Wedge at 0x1d23916e9d0>,\n",
       "  <matplotlib.patches.Wedge at 0x1d239177e80>],\n",
       " [Text(-0.6145352824185932, 0.9123301960708633, 'New Delhi'),\n",
       "  Text(0.0623675251198054, -1.0982305276263407, 'Gurgaon'),\n",
       "  Text(0.8789045225625368, -0.6614581167535246, 'Noida'),\n",
       "  Text(1.0922218418223437, -0.13058119407559224, 'Faridabad'),\n",
       "  Text(1.099946280005612, -0.010871113182029924, 'Ghaziabad')],\n",
       " [Text(-0.3352010631374145, 0.497634652402289, '68.87%'),\n",
       "  Text(0.0340186500653484, -0.5990348332507311, '14.07%'),\n",
       "  Text(0.47940246685229276, -0.36079533641101336, '13.59%'),\n",
       "  Text(0.5957573682667329, -0.07122610585941394, '3.16%'),\n",
       "  Text(0.5999706981848791, -0.005929698099289049, '0.31%')])"
      ]
     },
     "execution_count": 48,
     "metadata": {},
     "output_type": "execute_result"
    },
    {
     "data": {
      "image/png": "[encoded data removed]",
      "text/plain": [
       "<Figure size 864x432 with 1 Axes>"
      ]
     },
     "metadata": {},
     "output_type": "display_data"
    }
   ],
   "source": [
    "plt.pie(city_values[:5],labels=city_name[:5],autopct='%1.2f%%')"
   ]
  },
  {
   "cell_type": "markdown",
   "id": "aba9de93",
   "metadata": {},
   "source": [
    "Observation:\n",
    "\n",
    "Zomato maximum record and transaction are from City  New Delhi and then Gurgaon."
   ]
  },
  {
   "cell_type": "markdown",
   "id": "03a45e68",
   "metadata": {},
   "source": [
    "# Cuisines"
   ]
  },
  {
   "cell_type": "markdown",
   "id": "021ab6f9",
   "metadata": {},
   "source": [
    "In this data the cuisions column can not use directly because it will generated 1825 hummy variable hence we can count the no of cuisions offered,which can be number that is usefull for ML."
   ]
  },
  {
   "cell_type": "code",
   "execution_count": 49,
   "id": "06af1841",
   "metadata": {},
   "outputs": [],
   "source": [
    "# function to count the no. of cuisions\n",
    "def cui_counter(inpStr):\n",
    "    numcui=len(str(inpStr).split(','))\n",
    "    return(numcui)"
   ]
  },
  {
   "cell_type": "code",
   "execution_count": 50,
   "id": "cc5f1473",
   "metadata": {},
   "outputs": [
    {
     "data": {
      "text/html": [
       "<div>\n",
       "<style scoped>\n",
       "    .dataframe tbody tr th:only-of-type {\n",
       "        vertical-align: middle;\n",
       "    }\n",
       "\n",
       "    .dataframe tbody tr th {\n",
       "        vertical-align: top;\n",
       "    }\n",
       "\n",
       "    .dataframe thead th {\n",
       "        text-align: right;\n",
       "    }\n",
       "</style>\n",
       "<table border=\"1\" class=\"dataframe\">\n",
       "  <thead>\n",
       "    <tr style=\"text-align: right;\">\n",
       "      <th></th>\n",
       "      <th>Restaurant ID</th>\n",
       "      <th>Restaurant Name</th>\n",
       "      <th>Country Code</th>\n",
       "      <th>City</th>\n",
       "      <th>Address</th>\n",
       "      <th>Locality</th>\n",
       "      <th>Locality Verbose</th>\n",
       "      <th>Longitude</th>\n",
       "      <th>Latitude</th>\n",
       "      <th>Cuisines</th>\n",
       "      <th>Average Cost for two</th>\n",
       "      <th>Currency</th>\n",
       "      <th>Has Table booking</th>\n",
       "      <th>Has Online delivery</th>\n",
       "      <th>Is delivering now</th>\n",
       "      <th>Switch to order menu</th>\n",
       "      <th>Price range</th>\n",
       "      <th>Aggregate rating</th>\n",
       "      <th>Rating color</th>\n",
       "      <th>Rating text</th>\n",
       "      <th>Votes</th>\n",
       "      <th>Country</th>\n",
       "      <th>Cuisionescounter</th>\n",
       "    </tr>\n",
       "  </thead>\n",
       "  <tbody>\n",
       "    <tr>\n",
       "      <th>0</th>\n",
       "      <td>6317637</td>\n",
       "      <td>Le Petit Souffle</td>\n",
       "      <td>162</td>\n",
       "      <td>Makati City</td>\n",
       "      <td>Third Floor, Century City Mall, Kalayaan Avenu...</td>\n",
       "      <td>Century City Mall, Poblacion, Makati City</td>\n",
       "      <td>Century City Mall, Poblacion, Makati City, Mak...</td>\n",
       "      <td>121.027535</td>\n",
       "      <td>14.565443</td>\n",
       "      <td>French, Japanese, Desserts</td>\n",
       "      <td>1100</td>\n",
       "      <td>Botswana Pula(P)</td>\n",
       "      <td>Yes</td>\n",
       "      <td>No</td>\n",
       "      <td>No</td>\n",
       "      <td>No</td>\n",
       "      <td>3</td>\n",
       "      <td>5</td>\n",
       "      <td>Dark Green</td>\n",
       "      <td>Excellent</td>\n",
       "      <td>314</td>\n",
       "      <td>Phillipines</td>\n",
       "      <td>3</td>\n",
       "    </tr>\n",
       "    <tr>\n",
       "      <th>1</th>\n",
       "      <td>6304287</td>\n",
       "      <td>Izakaya Kikufuji</td>\n",
       "      <td>162</td>\n",
       "      <td>Makati City</td>\n",
       "      <td>Little Tokyo, 2277 Chino Roces Avenue, Legaspi...</td>\n",
       "      <td>Little Tokyo, Legaspi Village, Makati City</td>\n",
       "      <td>Little Tokyo, Legaspi Village, Makati City, Ma...</td>\n",
       "      <td>121.014101</td>\n",
       "      <td>14.553708</td>\n",
       "      <td>Japanese</td>\n",
       "      <td>1200</td>\n",
       "      <td>Botswana Pula(P)</td>\n",
       "      <td>Yes</td>\n",
       "      <td>No</td>\n",
       "      <td>No</td>\n",
       "      <td>No</td>\n",
       "      <td>3</td>\n",
       "      <td>5</td>\n",
       "      <td>Dark Green</td>\n",
       "      <td>Excellent</td>\n",
       "      <td>591</td>\n",
       "      <td>Phillipines</td>\n",
       "      <td>1</td>\n",
       "    </tr>\n",
       "    <tr>\n",
       "      <th>2</th>\n",
       "      <td>6300002</td>\n",
       "      <td>Heat - Edsa Shangri-La</td>\n",
       "      <td>162</td>\n",
       "      <td>Mandaluyong City</td>\n",
       "      <td>Edsa Shangri-La, 1 Garden Way, Ortigas, Mandal...</td>\n",
       "      <td>Edsa Shangri-La, Ortigas, Mandaluyong City</td>\n",
       "      <td>Edsa Shangri-La, Ortigas, Mandaluyong City, Ma...</td>\n",
       "      <td>121.056831</td>\n",
       "      <td>14.581404</td>\n",
       "      <td>Seafood, Asian, Filipino, Indian</td>\n",
       "      <td>4000</td>\n",
       "      <td>Botswana Pula(P)</td>\n",
       "      <td>Yes</td>\n",
       "      <td>No</td>\n",
       "      <td>No</td>\n",
       "      <td>No</td>\n",
       "      <td>4</td>\n",
       "      <td>4</td>\n",
       "      <td>Green</td>\n",
       "      <td>Very Good</td>\n",
       "      <td>270</td>\n",
       "      <td>Phillipines</td>\n",
       "      <td>4</td>\n",
       "    </tr>\n",
       "  </tbody>\n",
       "</table>\n",
       "</div>"
      ],
      "text/plain": [
       "   Restaurant ID         Restaurant Name  Country Code              City  \\\n",
       "0        6317637        Le Petit Souffle           162       Makati City   \n",
       "1        6304287        Izakaya Kikufuji           162       Makati City   \n",
       "2        6300002  Heat - Edsa Shangri-La           162  Mandaluyong City   \n",
       "\n",
       "                                             Address  \\\n",
       "0  Third Floor, Century City Mall, Kalayaan Avenu...   \n",
       "1  Little Tokyo, 2277 Chino Roces Avenue, Legaspi...   \n",
       "2  Edsa Shangri-La, 1 Garden Way, Ortigas, Mandal...   \n",
       "\n",
       "                                     Locality  \\\n",
       "0   Century City Mall, Poblacion, Makati City   \n",
       "1  Little Tokyo, Legaspi Village, Makati City   \n",
       "2  Edsa Shangri-La, Ortigas, Mandaluyong City   \n",
       "\n",
       "                                    Locality Verbose   Longitude   Latitude  \\\n",
       "0  Century City Mall, Poblacion, Makati City, Mak...  121.027535  14.565443   \n",
       "1  Little Tokyo, Legaspi Village, Makati City, Ma...  121.014101  14.553708   \n",
       "2  Edsa Shangri-La, Ortigas, Mandaluyong City, Ma...  121.056831  14.581404   \n",
       "\n",
       "                           Cuisines  Average Cost for two          Currency  \\\n",
       "0        French, Japanese, Desserts                  1100  Botswana Pula(P)   \n",
       "1                          Japanese                  1200  Botswana Pula(P)   \n",
       "2  Seafood, Asian, Filipino, Indian                  4000  Botswana Pula(P)   \n",
       "\n",
       "  Has Table booking Has Online delivery Is delivering now  \\\n",
       "0               Yes                  No                No   \n",
       "1               Yes                  No                No   \n",
       "2               Yes                  No                No   \n",
       "\n",
       "  Switch to order menu  Price range  Aggregate rating Rating color  \\\n",
       "0                   No            3                 5   Dark Green   \n",
       "1                   No            3                 5   Dark Green   \n",
       "2                   No            4                 4        Green   \n",
       "\n",
       "  Rating text  Votes      Country  Cuisionescounter  \n",
       "0   Excellent    314  Phillipines                 3  \n",
       "1   Excellent    591  Phillipines                 1  \n",
       "2   Very Good    270  Phillipines                 4  "
      ]
     },
     "execution_count": 50,
     "metadata": {},
     "output_type": "execute_result"
    }
   ],
   "source": [
    "# create new features in data\n",
    "df['Cuisionescounter']=df['Cuisines'].apply(cui_counter)\n",
    "df.head(3)"
   ]
  },
  {
   "cell_type": "markdown",
   "id": "f435c4c9",
   "metadata": {},
   "source": [
    "# Price range and Rating text"
   ]
  },
  {
   "cell_type": "code",
   "execution_count": 51,
   "id": "3711228e",
   "metadata": {},
   "outputs": [
    {
     "data": {
      "text/plain": [
       "<AxesSubplot:xlabel='Rating text', ylabel='Price range'>"
      ]
     },
     "execution_count": 51,
     "metadata": {},
     "output_type": "execute_result"
    },
    {
     "data": {
      "image/png": "[encoded data removed]",
      "text/plain": [
       "<Figure size 864x432 with 1 Axes>"
      ]
     },
     "metadata": {
      "needs_background": "light"
     },
     "output_type": "display_data"
    }
   ],
   "source": [
    "# Relationship between Price range and Rating text\n",
    "\n",
    "sns.boxplot(y = 'Price range', x = 'Rating text', data = df)"
   ]
  },
  {
   "cell_type": "markdown",
   "id": "81966e6d",
   "metadata": {},
   "source": [
    "Excellent and Very Good restaurants have very high price.\n",
    "\n",
    "Average and Poor have the lowest price range."
   ]
  },
  {
   "cell_type": "markdown",
   "id": "a03baf5a",
   "metadata": {},
   "source": [
    "# Average Cost for two and Rating text"
   ]
  },
  {
   "cell_type": "code",
   "execution_count": 52,
   "id": "56ab1ece",
   "metadata": {},
   "outputs": [
    {
     "data": {
      "text/plain": [
       "<AxesSubplot:xlabel='Rating text', ylabel='Average Cost for two'>"
      ]
     },
     "execution_count": 52,
     "metadata": {},
     "output_type": "execute_result"
    },
    {
     "data": {
      "image/png": "[encoded data removed]",
      "text/plain": [
       "<Figure size 864x432 with 1 Axes>"
      ]
     },
     "metadata": {
      "needs_background": "light"
     },
     "output_type": "display_data"
    }
   ],
   "source": [
    "# Relationship between Average Cost for two and Rating text\n",
    "\n",
    "sns.boxplot(y = 'Average Cost for two', x = 'Rating text', data = df)"
   ]
  },
  {
   "cell_type": "markdown",
   "id": "28e28d91",
   "metadata": {},
   "source": [
    "Ratings improve as the average cost for two increases."
   ]
  },
  {
   "cell_type": "markdown",
   "id": "f878e091",
   "metadata": {},
   "source": [
    "# Univariate Analysis With Respect to Target variable Average Cost for two"
   ]
  },
  {
   "cell_type": "markdown",
   "id": "ed00fb51",
   "metadata": {},
   "source": [
    "If we want to Predict Average Cost for two the we have to convert many currency into one currency so that we compaare Cost for two people. "
   ]
  },
  {
   "cell_type": "code",
   "execution_count": 53,
   "id": "c73a2ef0",
   "metadata": {},
   "outputs": [
    {
     "data": {
      "text/plain": [
       "500       900\n",
       "300       897\n",
       "400       857\n",
       "200       687\n",
       "600       652\n",
       "         ... \n",
       "8000        1\n",
       "2350        1\n",
       "150000      1\n",
       "70000       1\n",
       "545         1\n",
       "Name: Average Cost for two, Length: 139, dtype: int64"
      ]
     },
     "execution_count": 53,
     "metadata": {},
     "output_type": "execute_result"
    }
   ],
   "source": [
    "df['Average Cost for two'].value_counts()"
   ]
  },
  {
   "cell_type": "code",
   "execution_count": null,
   "id": "c12ef749",
   "metadata": {},
   "outputs": [],
   "source": []
  },
  {
   "cell_type": "markdown",
   "id": "3766019d",
   "metadata": {},
   "source": [
    "# Identify restaurants which have high price range and low ratings"
   ]
  },
  {
   "cell_type": "code",
   "execution_count": 54,
   "id": "cb2c4b37",
   "metadata": {},
   "outputs": [
    {
     "data": {
      "text/plain": [
       "1    4426\n",
       "2    3113\n",
       "3    1408\n",
       "4     586\n",
       "Name: Price range, dtype: int64"
      ]
     },
     "execution_count": 54,
     "metadata": {},
     "output_type": "execute_result"
    }
   ],
   "source": [
    "df['Price range'].value_counts()"
   ]
  },
  {
   "cell_type": "code",
   "execution_count": 55,
   "id": "55c6a45b",
   "metadata": {},
   "outputs": [
    {
     "data": {
      "text/html": [
       "<div>\n",
       "<style scoped>\n",
       "    .dataframe tbody tr th:only-of-type {\n",
       "        vertical-align: middle;\n",
       "    }\n",
       "\n",
       "    .dataframe tbody tr th {\n",
       "        vertical-align: top;\n",
       "    }\n",
       "\n",
       "    .dataframe thead th {\n",
       "        text-align: right;\n",
       "    }\n",
       "</style>\n",
       "<table border=\"1\" class=\"dataframe\">\n",
       "  <thead>\n",
       "    <tr style=\"text-align: right;\">\n",
       "      <th></th>\n",
       "      <th>Restaurant ID</th>\n",
       "      <th>Restaurant Name</th>\n",
       "      <th>Country Code</th>\n",
       "      <th>City</th>\n",
       "      <th>Address</th>\n",
       "      <th>Locality</th>\n",
       "      <th>Locality Verbose</th>\n",
       "      <th>Longitude</th>\n",
       "      <th>Latitude</th>\n",
       "      <th>Cuisines</th>\n",
       "      <th>Average Cost for two</th>\n",
       "      <th>Currency</th>\n",
       "      <th>Has Table booking</th>\n",
       "      <th>Has Online delivery</th>\n",
       "      <th>Is delivering now</th>\n",
       "      <th>Switch to order menu</th>\n",
       "      <th>Price range</th>\n",
       "      <th>Aggregate rating</th>\n",
       "      <th>Rating color</th>\n",
       "      <th>Rating text</th>\n",
       "      <th>Votes</th>\n",
       "      <th>Country</th>\n",
       "      <th>Cuisionescounter</th>\n",
       "    </tr>\n",
       "  </thead>\n",
       "  <tbody>\n",
       "    <tr>\n",
       "      <th>2</th>\n",
       "      <td>6300002</td>\n",
       "      <td>Heat - Edsa Shangri-La</td>\n",
       "      <td>162</td>\n",
       "      <td>Mandaluyong City</td>\n",
       "      <td>Edsa Shangri-La, 1 Garden Way, Ortigas, Mandal...</td>\n",
       "      <td>Edsa Shangri-La, Ortigas, Mandaluyong City</td>\n",
       "      <td>Edsa Shangri-La, Ortigas, Mandaluyong City, Ma...</td>\n",
       "      <td>121.056831</td>\n",
       "      <td>14.581404</td>\n",
       "      <td>Seafood, Asian, Filipino, Indian</td>\n",
       "      <td>4000</td>\n",
       "      <td>Botswana Pula(P)</td>\n",
       "      <td>Yes</td>\n",
       "      <td>No</td>\n",
       "      <td>No</td>\n",
       "      <td>No</td>\n",
       "      <td>4</td>\n",
       "      <td>4</td>\n",
       "      <td>Green</td>\n",
       "      <td>Very Good</td>\n",
       "      <td>270</td>\n",
       "      <td>Phillipines</td>\n",
       "      <td>4</td>\n",
       "    </tr>\n",
       "    <tr>\n",
       "      <th>3</th>\n",
       "      <td>6318506</td>\n",
       "      <td>Ooma</td>\n",
       "      <td>162</td>\n",
       "      <td>Mandaluyong City</td>\n",
       "      <td>Third Floor, Mega Fashion Hall, SM Megamall, O...</td>\n",
       "      <td>SM Megamall, Ortigas, Mandaluyong City</td>\n",
       "      <td>SM Megamall, Ortigas, Mandaluyong City, Mandal...</td>\n",
       "      <td>121.056475</td>\n",
       "      <td>14.585318</td>\n",
       "      <td>Japanese, Sushi</td>\n",
       "      <td>1500</td>\n",
       "      <td>Botswana Pula(P)</td>\n",
       "      <td>No</td>\n",
       "      <td>No</td>\n",
       "      <td>No</td>\n",
       "      <td>No</td>\n",
       "      <td>4</td>\n",
       "      <td>5</td>\n",
       "      <td>Dark Green</td>\n",
       "      <td>Excellent</td>\n",
       "      <td>365</td>\n",
       "      <td>Phillipines</td>\n",
       "      <td>2</td>\n",
       "    </tr>\n",
       "    <tr>\n",
       "      <th>4</th>\n",
       "      <td>6314302</td>\n",
       "      <td>Sambo Kojin</td>\n",
       "      <td>162</td>\n",
       "      <td>Mandaluyong City</td>\n",
       "      <td>Third Floor, Mega Atrium, SM Megamall, Ortigas...</td>\n",
       "      <td>SM Megamall, Ortigas, Mandaluyong City</td>\n",
       "      <td>SM Megamall, Ortigas, Mandaluyong City, Mandal...</td>\n",
       "      <td>121.057508</td>\n",
       "      <td>14.584450</td>\n",
       "      <td>Japanese, Korean</td>\n",
       "      <td>1500</td>\n",
       "      <td>Botswana Pula(P)</td>\n",
       "      <td>Yes</td>\n",
       "      <td>No</td>\n",
       "      <td>No</td>\n",
       "      <td>No</td>\n",
       "      <td>4</td>\n",
       "      <td>5</td>\n",
       "      <td>Dark Green</td>\n",
       "      <td>Excellent</td>\n",
       "      <td>229</td>\n",
       "      <td>Phillipines</td>\n",
       "      <td>2</td>\n",
       "    </tr>\n",
       "    <tr>\n",
       "      <th>6</th>\n",
       "      <td>6300781</td>\n",
       "      <td>Buffet 101</td>\n",
       "      <td>162</td>\n",
       "      <td>Pasay City</td>\n",
       "      <td>Building K, SM By The Bay, Sunset Boulevard, M...</td>\n",
       "      <td>SM by the Bay, Mall of Asia Complex, Pasay City</td>\n",
       "      <td>SM by the Bay, Mall of Asia Complex, Pasay Cit...</td>\n",
       "      <td>120.979667</td>\n",
       "      <td>14.531333</td>\n",
       "      <td>Asian, European</td>\n",
       "      <td>2000</td>\n",
       "      <td>Botswana Pula(P)</td>\n",
       "      <td>Yes</td>\n",
       "      <td>No</td>\n",
       "      <td>No</td>\n",
       "      <td>No</td>\n",
       "      <td>4</td>\n",
       "      <td>4</td>\n",
       "      <td>Green</td>\n",
       "      <td>Very Good</td>\n",
       "      <td>520</td>\n",
       "      <td>Phillipines</td>\n",
       "      <td>2</td>\n",
       "    </tr>\n",
       "    <tr>\n",
       "      <th>7</th>\n",
       "      <td>6301290</td>\n",
       "      <td>Vikings</td>\n",
       "      <td>162</td>\n",
       "      <td>Pasay City</td>\n",
       "      <td>Building B, By The Bay, Seaside Boulevard, Mal...</td>\n",
       "      <td>SM by the Bay, Mall of Asia Complex, Pasay City</td>\n",
       "      <td>SM by the Bay, Mall of Asia Complex, Pasay Cit...</td>\n",
       "      <td>120.979333</td>\n",
       "      <td>14.540000</td>\n",
       "      <td>Seafood, Filipino, Asian, European</td>\n",
       "      <td>2000</td>\n",
       "      <td>Botswana Pula(P)</td>\n",
       "      <td>Yes</td>\n",
       "      <td>No</td>\n",
       "      <td>No</td>\n",
       "      <td>No</td>\n",
       "      <td>4</td>\n",
       "      <td>4</td>\n",
       "      <td>Green</td>\n",
       "      <td>Very Good</td>\n",
       "      <td>677</td>\n",
       "      <td>Phillipines</td>\n",
       "      <td>4</td>\n",
       "    </tr>\n",
       "    <tr>\n",
       "      <th>...</th>\n",
       "      <td>...</td>\n",
       "      <td>...</td>\n",
       "      <td>...</td>\n",
       "      <td>...</td>\n",
       "      <td>...</td>\n",
       "      <td>...</td>\n",
       "      <td>...</td>\n",
       "      <td>...</td>\n",
       "      <td>...</td>\n",
       "      <td>...</td>\n",
       "      <td>...</td>\n",
       "      <td>...</td>\n",
       "      <td>...</td>\n",
       "      <td>...</td>\n",
       "      <td>...</td>\n",
       "      <td>...</td>\n",
       "      <td>...</td>\n",
       "      <td>...</td>\n",
       "      <td>...</td>\n",
       "      <td>...</td>\n",
       "      <td>...</td>\n",
       "      <td>...</td>\n",
       "      <td>...</td>\n",
       "    </tr>\n",
       "    <tr>\n",
       "      <th>9525</th>\n",
       "      <td>6000409</td>\n",
       "      <td>Cafemiz</td>\n",
       "      <td>208</td>\n",
       "      <td>Ankara</td>\n",
       "      <td>Gaziosmanpa��a Mahallesi, Arjantin Caddesi, No...</td>\n",
       "      <td>Gazi Osman Pa��a</td>\n",
       "      <td>Gazi Osman Pa��a, Ankara</td>\n",
       "      <td>32.865683</td>\n",
       "      <td>39.897872</td>\n",
       "      <td>World Cuisine, Mexican, Italian</td>\n",
       "      <td>150</td>\n",
       "      <td>Turkish Lira(TL)</td>\n",
       "      <td>No</td>\n",
       "      <td>No</td>\n",
       "      <td>No</td>\n",
       "      <td>No</td>\n",
       "      <td>4</td>\n",
       "      <td>4</td>\n",
       "      <td>Green</td>\n",
       "      <td>Very Good</td>\n",
       "      <td>115</td>\n",
       "      <td>Turkey</td>\n",
       "      <td>3</td>\n",
       "    </tr>\n",
       "    <tr>\n",
       "      <th>9526</th>\n",
       "      <td>6000019</td>\n",
       "      <td>Nusr-Et</td>\n",
       "      <td>208</td>\n",
       "      <td>Ankara</td>\n",
       "      <td>Gaziosmanpa��a Mahallesi, �_ehit �_mer Haluk S...</td>\n",
       "      <td>Gazi Osman Pa��a</td>\n",
       "      <td>Gazi Osman Pa��a, Ankara</td>\n",
       "      <td>32.864833</td>\n",
       "      <td>39.899667</td>\n",
       "      <td>Steak</td>\n",
       "      <td>400</td>\n",
       "      <td>Turkish Lira(TL)</td>\n",
       "      <td>No</td>\n",
       "      <td>No</td>\n",
       "      <td>No</td>\n",
       "      <td>No</td>\n",
       "      <td>4</td>\n",
       "      <td>4</td>\n",
       "      <td>Green</td>\n",
       "      <td>Very Good</td>\n",
       "      <td>97</td>\n",
       "      <td>Turkey</td>\n",
       "      <td>1</td>\n",
       "    </tr>\n",
       "    <tr>\n",
       "      <th>9540</th>\n",
       "      <td>5927248</td>\n",
       "      <td>Draft Gastro Pub</td>\n",
       "      <td>208</td>\n",
       "      <td>��stanbul</td>\n",
       "      <td>Caddebostan Mahallesi, Ba��dat Caddesi, No 349...</td>\n",
       "      <td>Caddebostan</td>\n",
       "      <td>Caddebostan, ��stanbul</td>\n",
       "      <td>29.074116</td>\n",
       "      <td>40.963935</td>\n",
       "      <td>Bar Food</td>\n",
       "      <td>130</td>\n",
       "      <td>Turkish Lira(TL)</td>\n",
       "      <td>No</td>\n",
       "      <td>No</td>\n",
       "      <td>No</td>\n",
       "      <td>No</td>\n",
       "      <td>4</td>\n",
       "      <td>5</td>\n",
       "      <td>Dark Green</td>\n",
       "      <td>Excellent</td>\n",
       "      <td>522</td>\n",
       "      <td>Turkey</td>\n",
       "      <td>1</td>\n",
       "    </tr>\n",
       "    <tr>\n",
       "      <th>9548</th>\n",
       "      <td>5915807</td>\n",
       "      <td>Huqqa</td>\n",
       "      <td>208</td>\n",
       "      <td>��stanbul</td>\n",
       "      <td>Kuru�_e��me Mahallesi, Muallim Naci Caddesi, N...</td>\n",
       "      <td>Kuru�_e��me</td>\n",
       "      <td>Kuru�_e��me, ��stanbul</td>\n",
       "      <td>29.034640</td>\n",
       "      <td>41.055817</td>\n",
       "      <td>Italian, World Cuisine</td>\n",
       "      <td>170</td>\n",
       "      <td>Turkish Lira(TL)</td>\n",
       "      <td>No</td>\n",
       "      <td>No</td>\n",
       "      <td>No</td>\n",
       "      <td>No</td>\n",
       "      <td>4</td>\n",
       "      <td>3</td>\n",
       "      <td>Yellow</td>\n",
       "      <td>Good</td>\n",
       "      <td>661</td>\n",
       "      <td>Turkey</td>\n",
       "      <td>2</td>\n",
       "    </tr>\n",
       "    <tr>\n",
       "      <th>9549</th>\n",
       "      <td>5916112</td>\n",
       "      <td>A���k Kahve</td>\n",
       "      <td>208</td>\n",
       "      <td>��stanbul</td>\n",
       "      <td>Kuru�_e��me Mahallesi, Muallim Naci Caddesi, N...</td>\n",
       "      <td>Kuru�_e��me</td>\n",
       "      <td>Kuru�_e��me, ��stanbul</td>\n",
       "      <td>29.036019</td>\n",
       "      <td>41.057979</td>\n",
       "      <td>Restaurant Cafe</td>\n",
       "      <td>120</td>\n",
       "      <td>Turkish Lira(TL)</td>\n",
       "      <td>No</td>\n",
       "      <td>No</td>\n",
       "      <td>No</td>\n",
       "      <td>No</td>\n",
       "      <td>4</td>\n",
       "      <td>4</td>\n",
       "      <td>Green</td>\n",
       "      <td>Very Good</td>\n",
       "      <td>901</td>\n",
       "      <td>Turkey</td>\n",
       "      <td>1</td>\n",
       "    </tr>\n",
       "  </tbody>\n",
       "</table>\n",
       "<p>586 rows × 23 columns</p>\n",
       "</div>"
      ],
      "text/plain": [
       "      Restaurant ID         Restaurant Name  Country Code              City  \\\n",
       "2           6300002  Heat - Edsa Shangri-La           162  Mandaluyong City   \n",
       "3           6318506                    Ooma           162  Mandaluyong City   \n",
       "4           6314302             Sambo Kojin           162  Mandaluyong City   \n",
       "6           6300781              Buffet 101           162        Pasay City   \n",
       "7           6301290                 Vikings           162        Pasay City   \n",
       "...             ...                     ...           ...               ...   \n",
       "9525        6000409                 Cafemiz           208            Ankara   \n",
       "9526        6000019                 Nusr-Et           208            Ankara   \n",
       "9540        5927248        Draft Gastro Pub           208         ��stanbul   \n",
       "9548        5915807                   Huqqa           208         ��stanbul   \n",
       "9549        5916112             A���k Kahve           208         ��stanbul   \n",
       "\n",
       "                                                Address  \\\n",
       "2     Edsa Shangri-La, 1 Garden Way, Ortigas, Mandal...   \n",
       "3     Third Floor, Mega Fashion Hall, SM Megamall, O...   \n",
       "4     Third Floor, Mega Atrium, SM Megamall, Ortigas...   \n",
       "6     Building K, SM By The Bay, Sunset Boulevard, M...   \n",
       "7     Building B, By The Bay, Seaside Boulevard, Mal...   \n",
       "...                                                 ...   \n",
       "9525  Gaziosmanpa��a Mahallesi, Arjantin Caddesi, No...   \n",
       "9526  Gaziosmanpa��a Mahallesi, �_ehit �_mer Haluk S...   \n",
       "9540  Caddebostan Mahallesi, Ba��dat Caddesi, No 349...   \n",
       "9548  Kuru�_e��me Mahallesi, Muallim Naci Caddesi, N...   \n",
       "9549  Kuru�_e��me Mahallesi, Muallim Naci Caddesi, N...   \n",
       "\n",
       "                                             Locality  \\\n",
       "2          Edsa Shangri-La, Ortigas, Mandaluyong City   \n",
       "3              SM Megamall, Ortigas, Mandaluyong City   \n",
       "4              SM Megamall, Ortigas, Mandaluyong City   \n",
       "6     SM by the Bay, Mall of Asia Complex, Pasay City   \n",
       "7     SM by the Bay, Mall of Asia Complex, Pasay City   \n",
       "...                                               ...   \n",
       "9525                                 Gazi Osman Pa��a   \n",
       "9526                                 Gazi Osman Pa��a   \n",
       "9540                                      Caddebostan   \n",
       "9548                                      Kuru�_e��me   \n",
       "9549                                      Kuru�_e��me   \n",
       "\n",
       "                                       Locality Verbose   Longitude  \\\n",
       "2     Edsa Shangri-La, Ortigas, Mandaluyong City, Ma...  121.056831   \n",
       "3     SM Megamall, Ortigas, Mandaluyong City, Mandal...  121.056475   \n",
       "4     SM Megamall, Ortigas, Mandaluyong City, Mandal...  121.057508   \n",
       "6     SM by the Bay, Mall of Asia Complex, Pasay Cit...  120.979667   \n",
       "7     SM by the Bay, Mall of Asia Complex, Pasay Cit...  120.979333   \n",
       "...                                                 ...         ...   \n",
       "9525                           Gazi Osman Pa��a, Ankara   32.865683   \n",
       "9526                           Gazi Osman Pa��a, Ankara   32.864833   \n",
       "9540                             Caddebostan, ��stanbul   29.074116   \n",
       "9548                             Kuru�_e��me, ��stanbul   29.034640   \n",
       "9549                             Kuru�_e��me, ��stanbul   29.036019   \n",
       "\n",
       "       Latitude                            Cuisines  Average Cost for two  \\\n",
       "2     14.581404    Seafood, Asian, Filipino, Indian                  4000   \n",
       "3     14.585318                     Japanese, Sushi                  1500   \n",
       "4     14.584450                    Japanese, Korean                  1500   \n",
       "6     14.531333                     Asian, European                  2000   \n",
       "7     14.540000  Seafood, Filipino, Asian, European                  2000   \n",
       "...         ...                                 ...                   ...   \n",
       "9525  39.897872     World Cuisine, Mexican, Italian                   150   \n",
       "9526  39.899667                               Steak                   400   \n",
       "9540  40.963935                            Bar Food                   130   \n",
       "9548  41.055817              Italian, World Cuisine                   170   \n",
       "9549  41.057979                     Restaurant Cafe                   120   \n",
       "\n",
       "              Currency Has Table booking Has Online delivery  \\\n",
       "2     Botswana Pula(P)               Yes                  No   \n",
       "3     Botswana Pula(P)                No                  No   \n",
       "4     Botswana Pula(P)               Yes                  No   \n",
       "6     Botswana Pula(P)               Yes                  No   \n",
       "7     Botswana Pula(P)               Yes                  No   \n",
       "...                ...               ...                 ...   \n",
       "9525  Turkish Lira(TL)                No                  No   \n",
       "9526  Turkish Lira(TL)                No                  No   \n",
       "9540  Turkish Lira(TL)                No                  No   \n",
       "9548  Turkish Lira(TL)                No                  No   \n",
       "9549  Turkish Lira(TL)                No                  No   \n",
       "\n",
       "     Is delivering now Switch to order menu  Price range  Aggregate rating  \\\n",
       "2                   No                   No            4                 4   \n",
       "3                   No                   No            4                 5   \n",
       "4                   No                   No            4                 5   \n",
       "6                   No                   No            4                 4   \n",
       "7                   No                   No            4                 4   \n",
       "...                ...                  ...          ...               ...   \n",
       "9525                No                   No            4                 4   \n",
       "9526                No                   No            4                 4   \n",
       "9540                No                   No            4                 5   \n",
       "9548                No                   No            4                 3   \n",
       "9549                No                   No            4                 4   \n",
       "\n",
       "     Rating color Rating text  Votes      Country  Cuisionescounter  \n",
       "2           Green   Very Good    270  Phillipines                 4  \n",
       "3      Dark Green   Excellent    365  Phillipines                 2  \n",
       "4      Dark Green   Excellent    229  Phillipines                 2  \n",
       "6           Green   Very Good    520  Phillipines                 2  \n",
       "7           Green   Very Good    677  Phillipines                 4  \n",
       "...           ...         ...    ...          ...               ...  \n",
       "9525        Green   Very Good    115       Turkey                 3  \n",
       "9526        Green   Very Good     97       Turkey                 1  \n",
       "9540   Dark Green   Excellent    522       Turkey                 1  \n",
       "9548       Yellow        Good    661       Turkey                 2  \n",
       "9549        Green   Very Good    901       Turkey                 1  \n",
       "\n",
       "[586 rows x 23 columns]"
      ]
     },
     "execution_count": 55,
     "metadata": {},
     "output_type": "execute_result"
    }
   ],
   "source": [
    "# Lets have a look at the expensive restaurants\n",
    "\n",
    "exp_restaurant = df[df['Price range'] == 4]\n",
    "exp_restaurant"
   ]
  },
  {
   "cell_type": "code",
   "execution_count": 56,
   "id": "5f7f5822",
   "metadata": {},
   "outputs": [
    {
     "data": {
      "text/plain": [
       "Good         200\n",
       "Very Good    194\n",
       "Average      101\n",
       "Excellent     74\n",
       "Not rated     11\n",
       "Poor           6\n",
       "Name: Rating text, dtype: int64"
      ]
     },
     "execution_count": 56,
     "metadata": {},
     "output_type": "execute_result"
    }
   ],
   "source": [
    "# Lets check the ratings of these restaurants\n",
    "\n",
    "exp_restaurant['Rating text'].value_counts()"
   ]
  },
  {
   "cell_type": "markdown",
   "id": "9f14d92c",
   "metadata": {},
   "source": [
    "As the price range is high, most of the ratings are good.\n",
    "So if price is high, why will be there be 5 poor ratings?"
   ]
  },
  {
   "cell_type": "code",
   "execution_count": 57,
   "id": "e9578dcf",
   "metadata": {},
   "outputs": [
    {
     "data": {
      "text/html": [
       "<div>\n",
       "<style scoped>\n",
       "    .dataframe tbody tr th:only-of-type {\n",
       "        vertical-align: middle;\n",
       "    }\n",
       "\n",
       "    .dataframe tbody tr th {\n",
       "        vertical-align: top;\n",
       "    }\n",
       "\n",
       "    .dataframe thead th {\n",
       "        text-align: right;\n",
       "    }\n",
       "</style>\n",
       "<table border=\"1\" class=\"dataframe\">\n",
       "  <thead>\n",
       "    <tr style=\"text-align: right;\">\n",
       "      <th></th>\n",
       "      <th>Restaurant ID</th>\n",
       "      <th>Restaurant Name</th>\n",
       "      <th>Country Code</th>\n",
       "      <th>City</th>\n",
       "      <th>Address</th>\n",
       "      <th>Locality</th>\n",
       "      <th>Locality Verbose</th>\n",
       "      <th>Longitude</th>\n",
       "      <th>Latitude</th>\n",
       "      <th>Cuisines</th>\n",
       "      <th>Average Cost for two</th>\n",
       "      <th>Currency</th>\n",
       "      <th>Has Table booking</th>\n",
       "      <th>Has Online delivery</th>\n",
       "      <th>Is delivering now</th>\n",
       "      <th>Switch to order menu</th>\n",
       "      <th>Price range</th>\n",
       "      <th>Aggregate rating</th>\n",
       "      <th>Rating color</th>\n",
       "      <th>Rating text</th>\n",
       "      <th>Votes</th>\n",
       "      <th>Country</th>\n",
       "      <th>Cuisionescounter</th>\n",
       "    </tr>\n",
       "  </thead>\n",
       "  <tbody>\n",
       "    <tr>\n",
       "      <th>1247</th>\n",
       "      <td>306134</td>\n",
       "      <td>The Wine Company</td>\n",
       "      <td>1</td>\n",
       "      <td>Gurgaon</td>\n",
       "      <td>Cyber Hub, DLF Cyber City, Gurgaon</td>\n",
       "      <td>Cyber Hub, DLF Cyber City</td>\n",
       "      <td>Cyber Hub, DLF Cyber City, Gurgaon</td>\n",
       "      <td>77.089048</td>\n",
       "      <td>28.496229</td>\n",
       "      <td>Italian, European</td>\n",
       "      <td>2000</td>\n",
       "      <td>Indian Rupees(Rs.)</td>\n",
       "      <td>Yes</td>\n",
       "      <td>No</td>\n",
       "      <td>No</td>\n",
       "      <td>No</td>\n",
       "      <td>4</td>\n",
       "      <td>2</td>\n",
       "      <td>Red</td>\n",
       "      <td>Poor</td>\n",
       "      <td>2412</td>\n",
       "      <td>India</td>\n",
       "      <td>2</td>\n",
       "    </tr>\n",
       "    <tr>\n",
       "      <th>8045</th>\n",
       "      <td>718</td>\n",
       "      <td>Americana Kitchen and Bar</td>\n",
       "      <td>1</td>\n",
       "      <td>Noida</td>\n",
       "      <td>Ist Floor, 1-6, Centre Stage Mall, Sector 18, ...</td>\n",
       "      <td>Centre Stage Mall, Sector 18</td>\n",
       "      <td>Centre Stage Mall, Sector 18, Noida</td>\n",
       "      <td>77.322828</td>\n",
       "      <td>28.568343</td>\n",
       "      <td>American, Tex-Mex, Italian, Mexican, North Indian</td>\n",
       "      <td>2000</td>\n",
       "      <td>Indian Rupees(Rs.)</td>\n",
       "      <td>Yes</td>\n",
       "      <td>No</td>\n",
       "      <td>No</td>\n",
       "      <td>No</td>\n",
       "      <td>4</td>\n",
       "      <td>2</td>\n",
       "      <td>Red</td>\n",
       "      <td>Poor</td>\n",
       "      <td>221</td>\n",
       "      <td>India</td>\n",
       "      <td>5</td>\n",
       "    </tr>\n",
       "    <tr>\n",
       "      <th>8467</th>\n",
       "      <td>4717</td>\n",
       "      <td>RPM - Zanzi Bar</td>\n",
       "      <td>1</td>\n",
       "      <td>Noida</td>\n",
       "      <td>B-110, Gautam Budh Nagar, Sector 18, Noida</td>\n",
       "      <td>Sector 18</td>\n",
       "      <td>Sector 18, Noida</td>\n",
       "      <td>77.325299</td>\n",
       "      <td>28.570669</td>\n",
       "      <td>Chinese, North Indian</td>\n",
       "      <td>2000</td>\n",
       "      <td>Indian Rupees(Rs.)</td>\n",
       "      <td>Yes</td>\n",
       "      <td>No</td>\n",
       "      <td>No</td>\n",
       "      <td>No</td>\n",
       "      <td>4</td>\n",
       "      <td>2</td>\n",
       "      <td>Red</td>\n",
       "      <td>Poor</td>\n",
       "      <td>103</td>\n",
       "      <td>India</td>\n",
       "      <td>2</td>\n",
       "    </tr>\n",
       "    <tr>\n",
       "      <th>9050</th>\n",
       "      <td>3212</td>\n",
       "      <td>Chicane</td>\n",
       "      <td>1</td>\n",
       "      <td>Noida</td>\n",
       "      <td>205-A, 1st Floor, Spice World Mall, Sector 25-...</td>\n",
       "      <td>Spice World Mall, Sector 25</td>\n",
       "      <td>Spice World Mall, Sector 25, Noida</td>\n",
       "      <td>77.341021</td>\n",
       "      <td>28.585493</td>\n",
       "      <td>European, North Indian, Chinese</td>\n",
       "      <td>2500</td>\n",
       "      <td>Indian Rupees(Rs.)</td>\n",
       "      <td>Yes</td>\n",
       "      <td>No</td>\n",
       "      <td>No</td>\n",
       "      <td>No</td>\n",
       "      <td>4</td>\n",
       "      <td>2</td>\n",
       "      <td>Red</td>\n",
       "      <td>Poor</td>\n",
       "      <td>116</td>\n",
       "      <td>India</td>\n",
       "      <td>3</td>\n",
       "    </tr>\n",
       "    <tr>\n",
       "      <th>9105</th>\n",
       "      <td>3237</td>\n",
       "      <td>Club Ice Cube</td>\n",
       "      <td>1</td>\n",
       "      <td>Noida</td>\n",
       "      <td>313, 3rd Floor, The Great India Place Mall, Se...</td>\n",
       "      <td>The Great India Place, Sector 38</td>\n",
       "      <td>The Great India Place, Sector 38, Noida</td>\n",
       "      <td>77.326475</td>\n",
       "      <td>28.568067</td>\n",
       "      <td>North Indian, Continental, Chinese</td>\n",
       "      <td>2400</td>\n",
       "      <td>Indian Rupees(Rs.)</td>\n",
       "      <td>Yes</td>\n",
       "      <td>No</td>\n",
       "      <td>No</td>\n",
       "      <td>No</td>\n",
       "      <td>4</td>\n",
       "      <td>2</td>\n",
       "      <td>Red</td>\n",
       "      <td>Poor</td>\n",
       "      <td>230</td>\n",
       "      <td>India</td>\n",
       "      <td>3</td>\n",
       "    </tr>\n",
       "    <tr>\n",
       "      <th>9306</th>\n",
       "      <td>7001208</td>\n",
       "      <td>De Fontein Belgian Beer Cafe</td>\n",
       "      <td>148</td>\n",
       "      <td>Auckland</td>\n",
       "      <td>75-79 Tamaki Drive, Mission Bay, Auckland</td>\n",
       "      <td>Mission Bay</td>\n",
       "      <td>Mission Bay, Auckland</td>\n",
       "      <td>174.832089</td>\n",
       "      <td>-36.848315</td>\n",
       "      <td>European</td>\n",
       "      <td>100</td>\n",
       "      <td>NewZealand($)</td>\n",
       "      <td>No</td>\n",
       "      <td>No</td>\n",
       "      <td>No</td>\n",
       "      <td>No</td>\n",
       "      <td>4</td>\n",
       "      <td>2</td>\n",
       "      <td>Red</td>\n",
       "      <td>Poor</td>\n",
       "      <td>402</td>\n",
       "      <td>New Zealand</td>\n",
       "      <td>1</td>\n",
       "    </tr>\n",
       "  </tbody>\n",
       "</table>\n",
       "</div>"
      ],
      "text/plain": [
       "      Restaurant ID               Restaurant Name  Country Code      City  \\\n",
       "1247         306134              The Wine Company             1   Gurgaon   \n",
       "8045            718     Americana Kitchen and Bar             1     Noida   \n",
       "8467           4717               RPM - Zanzi Bar             1     Noida   \n",
       "9050           3212                       Chicane             1     Noida   \n",
       "9105           3237                 Club Ice Cube             1     Noida   \n",
       "9306        7001208  De Fontein Belgian Beer Cafe           148  Auckland   \n",
       "\n",
       "                                                Address  \\\n",
       "1247                 Cyber Hub, DLF Cyber City, Gurgaon   \n",
       "8045  Ist Floor, 1-6, Centre Stage Mall, Sector 18, ...   \n",
       "8467         B-110, Gautam Budh Nagar, Sector 18, Noida   \n",
       "9050  205-A, 1st Floor, Spice World Mall, Sector 25-...   \n",
       "9105  313, 3rd Floor, The Great India Place Mall, Se...   \n",
       "9306          75-79 Tamaki Drive, Mission Bay, Auckland   \n",
       "\n",
       "                              Locality  \\\n",
       "1247         Cyber Hub, DLF Cyber City   \n",
       "8045      Centre Stage Mall, Sector 18   \n",
       "8467                         Sector 18   \n",
       "9050       Spice World Mall, Sector 25   \n",
       "9105  The Great India Place, Sector 38   \n",
       "9306                       Mission Bay   \n",
       "\n",
       "                             Locality Verbose   Longitude   Latitude  \\\n",
       "1247       Cyber Hub, DLF Cyber City, Gurgaon   77.089048  28.496229   \n",
       "8045      Centre Stage Mall, Sector 18, Noida   77.322828  28.568343   \n",
       "8467                         Sector 18, Noida   77.325299  28.570669   \n",
       "9050       Spice World Mall, Sector 25, Noida   77.341021  28.585493   \n",
       "9105  The Great India Place, Sector 38, Noida   77.326475  28.568067   \n",
       "9306                    Mission Bay, Auckland  174.832089 -36.848315   \n",
       "\n",
       "                                               Cuisines  Average Cost for two  \\\n",
       "1247                                  Italian, European                  2000   \n",
       "8045  American, Tex-Mex, Italian, Mexican, North Indian                  2000   \n",
       "8467                              Chinese, North Indian                  2000   \n",
       "9050                    European, North Indian, Chinese                  2500   \n",
       "9105                 North Indian, Continental, Chinese                  2400   \n",
       "9306                                           European                   100   \n",
       "\n",
       "                Currency Has Table booking Has Online delivery  \\\n",
       "1247  Indian Rupees(Rs.)               Yes                  No   \n",
       "8045  Indian Rupees(Rs.)               Yes                  No   \n",
       "8467  Indian Rupees(Rs.)               Yes                  No   \n",
       "9050  Indian Rupees(Rs.)               Yes                  No   \n",
       "9105  Indian Rupees(Rs.)               Yes                  No   \n",
       "9306       NewZealand($)                No                  No   \n",
       "\n",
       "     Is delivering now Switch to order menu  Price range  Aggregate rating  \\\n",
       "1247                No                   No            4                 2   \n",
       "8045                No                   No            4                 2   \n",
       "8467                No                   No            4                 2   \n",
       "9050                No                   No            4                 2   \n",
       "9105                No                   No            4                 2   \n",
       "9306                No                   No            4                 2   \n",
       "\n",
       "     Rating color Rating text  Votes      Country  Cuisionescounter  \n",
       "1247          Red        Poor   2412        India                 2  \n",
       "8045          Red        Poor    221        India                 5  \n",
       "8467          Red        Poor    103        India                 2  \n",
       "9050          Red        Poor    116        India                 3  \n",
       "9105          Red        Poor    230        India                 3  \n",
       "9306          Red        Poor    402  New Zealand                 1  "
      ]
     },
     "execution_count": 57,
     "metadata": {},
     "output_type": "execute_result"
    }
   ],
   "source": [
    "# Low rated expensive restaurants\n",
    "\n",
    "exp_restaurant[exp_restaurant['Rating text'] == 'Poor']"
   ]
  },
  {
   "cell_type": "code",
   "execution_count": 58,
   "id": "d42a07d5",
   "metadata": {},
   "outputs": [
    {
     "data": {
      "text/plain": [
       "array(['Italian, European',\n",
       "       'American, Tex-Mex, Italian, Mexican, North Indian',\n",
       "       'Chinese, North Indian', 'European, North Indian, Chinese',\n",
       "       'North Indian, Continental, Chinese', 'European'], dtype=object)"
      ]
     },
     "execution_count": 58,
     "metadata": {},
     "output_type": "execute_result"
    }
   ],
   "source": [
    "list_of_cuisines = exp_restaurant[exp_restaurant['Rating text'] == 'Poor']['Cuisines']\n",
    "list_of_cuisines.values"
   ]
  },
  {
   "cell_type": "markdown",
   "id": "ced13b2e",
   "metadata": {},
   "source": [
    "These are 5 restaurants which are really expensive but do not have good rating"
   ]
  },
  {
   "cell_type": "markdown",
   "id": "d5b5c79e",
   "metadata": {},
   "source": [
    "# Lets look at all the restaurants which have poor ratings."
   ]
  },
  {
   "cell_type": "code",
   "execution_count": 59,
   "id": "2e936efb",
   "metadata": {},
   "outputs": [
    {
     "data": {
      "text/plain": [
       "(186, 23)"
      ]
     },
     "execution_count": 59,
     "metadata": {},
     "output_type": "execute_result"
    }
   ],
   "source": [
    "bad_rated_restaurants = df[df['Rating text'] == 'Poor']\n",
    "bad_rated_restaurants.shape"
   ]
  },
  {
   "cell_type": "code",
   "execution_count": 60,
   "id": "00cb28f8",
   "metadata": {},
   "outputs": [
    {
     "data": {
      "text/plain": [
       "Yes    116\n",
       "No      70\n",
       "Name: Has Online delivery, dtype: int64"
      ]
     },
     "execution_count": 60,
     "metadata": {},
     "output_type": "execute_result"
    }
   ],
   "source": [
    "bad_rated_restaurants['Has Online delivery'].value_counts()"
   ]
  },
  {
   "cell_type": "code",
   "execution_count": 61,
   "id": "94852119",
   "metadata": {},
   "outputs": [
    {
     "data": {
      "text/plain": [
       "No     185\n",
       "Yes      1\n",
       "Name: Is delivering now, dtype: int64"
      ]
     },
     "execution_count": 61,
     "metadata": {},
     "output_type": "execute_result"
    }
   ],
   "source": [
    "bad_rated_restaurants['Is delivering now'].value_counts()"
   ]
  },
  {
   "cell_type": "markdown",
   "id": "7e0c0ad3",
   "metadata": {},
   "source": [
    "Many of these restaurants are not available for delivery most of the time. Hence people provide poor rating to them."
   ]
  },
  {
   "cell_type": "markdown",
   "id": "cb1321ca",
   "metadata": {},
   "source": [
    "# Which countries have the highest number of restaurants in Zomato?"
   ]
  },
  {
   "cell_type": "code",
   "execution_count": 62,
   "id": "70acd9de",
   "metadata": {},
   "outputs": [
    {
     "data": {
      "image/png": "[encoded data removed]",
      "text/plain": [
       "<Figure size 1008x432 with 1 Axes>"
      ]
     },
     "metadata": {},
     "output_type": "display_data"
    }
   ],
   "source": [
    "sns.set_style('whitegrid')\n",
    "plt.figure(figsize = (14,6))\n",
    "sns.countplot(x= 'Country', data=df)\n",
    "plt.xticks(rotation=45)\n",
    "plt.title(\"# of Restaurants registered in Zomato in different Countries \");"
   ]
  },
  {
   "cell_type": "markdown",
   "id": "9cae2f1c",
   "metadata": {},
   "source": [
    "India has the highest no. of restaurent."
   ]
  },
  {
   "cell_type": "markdown",
   "id": "ee371d3e",
   "metadata": {},
   "source": [
    "# City wise Analysis of Poor Rated restaurants"
   ]
  },
  {
   "cell_type": "code",
   "execution_count": 63,
   "id": "4951d8ee",
   "metadata": {},
   "outputs": [
    {
     "data": {
      "text/plain": [
       "<AxesSubplot:xlabel='City', ylabel='count'>"
      ]
     },
     "execution_count": 63,
     "metadata": {},
     "output_type": "execute_result"
    },
    {
     "data": {
      "image/png": "[encoded data removed]",
      "text/plain": [
       "<Figure size 864x432 with 1 Axes>"
      ]
     },
     "metadata": {},
     "output_type": "display_data"
    }
   ],
   "source": [
    "sns.countplot(x = 'City', data = bad_rated_restaurants)"
   ]
  },
  {
   "cell_type": "markdown",
   "id": "6c87ad41",
   "metadata": {},
   "source": [
    "Why are ratings of New Delhi, Noida and Gurgaon bad?"
   ]
  },
  {
   "cell_type": "code",
   "execution_count": 64,
   "id": "898d3484",
   "metadata": {},
   "outputs": [
    {
     "data": {
      "text/plain": [
       "New Delhi      97\n",
       "Noida          45\n",
       "Gurgaon        34\n",
       "Faridabad       2\n",
       "Gainesville     1\n",
       "Mc Millan       1\n",
       "Montville       1\n",
       "Sharjah         1\n",
       "Ghaziabad       1\n",
       "Nagpur          1\n",
       "Auckland        1\n",
       "Colombo         1\n",
       "Name: City, dtype: int64"
      ]
     },
     "execution_count": 64,
     "metadata": {},
     "output_type": "execute_result"
    }
   ],
   "source": [
    "# Total no. of bad restaurants\n",
    "\n",
    "bad_rated_restaurants['City'].value_counts()"
   ]
  },
  {
   "cell_type": "code",
   "execution_count": 65,
   "id": "99443c05",
   "metadata": {},
   "outputs": [
    {
     "data": {
      "text/plain": [
       "New Delhi    5473\n",
       "Gurgaon      1118\n",
       "Noida        1080\n",
       "Name: City, dtype: int64"
      ]
     },
     "execution_count": 65,
     "metadata": {},
     "output_type": "execute_result"
    }
   ],
   "source": [
    "# Total number of restaurants\n",
    "\n",
    "top_3_cities = df['City'].value_counts().head(3)\n",
    "top_3_cities"
   ]
  },
  {
   "cell_type": "code",
   "execution_count": 66,
   "id": "d6cb3cb9",
   "metadata": {},
   "outputs": [
    {
     "data": {
      "text/plain": [
       "<AxesSubplot:ylabel='City'>"
      ]
     },
     "execution_count": 66,
     "metadata": {},
     "output_type": "execute_result"
    },
    {
     "data": {
      "image/png": "[encoded data removed]",
      "text/plain": [
       "<Figure size 864x432 with 1 Axes>"
      ]
     },
     "metadata": {},
     "output_type": "display_data"
    }
   ],
   "source": [
    "sns.barplot(y = top_3_cities, x = top_3_cities.index)"
   ]
  },
  {
   "cell_type": "markdown",
   "id": "9323206c",
   "metadata": {},
   "source": [
    "Hence we cannot conclude that these 3 cities have significantly large number of bad restaurants as the total number of restaurants is also high."
   ]
  },
  {
   "cell_type": "code",
   "execution_count": 67,
   "id": "8d730615",
   "metadata": {},
   "outputs": [
    {
     "data": {
      "text/plain": [
       "Index(['Restaurant ID', 'Restaurant Name', 'Country Code', 'City', 'Address',\n",
       "       'Locality', 'Locality Verbose', 'Longitude', 'Latitude', 'Cuisines',\n",
       "       'Average Cost for two', 'Currency', 'Has Table booking',\n",
       "       'Has Online delivery', 'Is delivering now', 'Switch to order menu',\n",
       "       'Price range', 'Aggregate rating', 'Rating color', 'Rating text',\n",
       "       'Votes', 'Country', 'Cuisionescounter'],\n",
       "      dtype='object')"
      ]
     },
     "execution_count": 67,
     "metadata": {},
     "output_type": "execute_result"
    }
   ],
   "source": [
    "df.columns"
   ]
  },
  {
   "cell_type": "code",
   "execution_count": null,
   "id": "b7fd8c62",
   "metadata": {},
   "outputs": [],
   "source": []
  },
  {
   "cell_type": "code",
   "execution_count": 68,
   "id": "793b87e8",
   "metadata": {},
   "outputs": [
    {
     "data": {
      "text/plain": [
       "<AxesSubplot:xlabel='Has Table booking', ylabel='count'>"
      ]
     },
     "execution_count": 68,
     "metadata": {},
     "output_type": "execute_result"
    },
    {
     "data": {
      "image/png": "[encoded data removed]",
      "text/plain": [
       "<Figure size 864x432 with 1 Axes>"
      ]
     },
     "metadata": {},
     "output_type": "display_data"
    }
   ],
   "source": [
    "#count plot for table booking\n",
    "sns.countplot(df['Has Table booking'])"
   ]
  },
  {
   "cell_type": "markdown",
   "id": "74284bea",
   "metadata": {},
   "source": [
    "most of the record is not accepting table booking on zomato"
   ]
  },
  {
   "cell_type": "code",
   "execution_count": 69,
   "id": "6cba2d5b",
   "metadata": {},
   "outputs": [
    {
     "data": {
      "text/plain": [
       "<AxesSubplot:xlabel='Has Online delivery', ylabel='count'>"
      ]
     },
     "execution_count": 69,
     "metadata": {},
     "output_type": "execute_result"
    },
    {
     "data": {
      "image/png": "[encoded data removed]",
      "text/plain": [
       "<Figure size 864x432 with 1 Axes>"
      ]
     },
     "metadata": {},
     "output_type": "display_data"
    }
   ],
   "source": [
    "#count plot for table booking\n",
    "\n",
    "sns.countplot(df['Has Online delivery'])"
   ]
  },
  {
   "cell_type": "markdown",
   "id": "fcf7d931",
   "metadata": {},
   "source": [
    "most of the record is  accepting online delivery on zomato."
   ]
  },
  {
   "cell_type": "markdown",
   "id": "f520aef6",
   "metadata": {},
   "source": [
    "# Average cost for the two as per country"
   ]
  },
  {
   "cell_type": "code",
   "execution_count": 70,
   "id": "f2fb4edb",
   "metadata": {},
   "outputs": [
    {
     "data": {
      "text/plain": [
       "Country\n",
       "Indonesia         281190.5\n",
       "Sri Lanka           2375.0\n",
       "Phillipines         1606.8\n",
       "India                624.0\n",
       "South Africa         419.7\n",
       "Qatar                223.8\n",
       "UAE                  166.4\n",
       "Singapore            155.8\n",
       "Brazil               134.7\n",
       "Turkey                84.9\n",
       "New Zealand           69.8\n",
       "United Kingdom        47.8\n",
       "Canada                36.2\n",
       "United States         26.7\n",
       "Australia             24.1\n",
       "Name: Average Cost for two, dtype: float64"
      ]
     },
     "execution_count": 70,
     "metadata": {},
     "output_type": "execute_result"
    }
   ],
   "source": [
    "df.groupby('Country')[\"Average Cost for two\"].mean().sort_values(ascending=False).round(1)"
   ]
  },
  {
   "cell_type": "markdown",
   "id": "da93f545",
   "metadata": {},
   "source": [
    "Indonesia has maximum Average Cost for two persone."
   ]
  },
  {
   "cell_type": "markdown",
   "id": "4831f79e",
   "metadata": {},
   "source": [
    "# Price range and Aggregate Ratings"
   ]
  },
  {
   "cell_type": "code",
   "execution_count": 71,
   "id": "e52f8212",
   "metadata": {},
   "outputs": [
    {
     "data": {
      "text/plain": [
       "<AxesSubplot:xlabel='Price range', ylabel='Aggregate rating'>"
      ]
     },
     "execution_count": 71,
     "metadata": {},
     "output_type": "execute_result"
    },
    {
     "data": {
      "image/png": "[encoded data removed]",
      "text/plain": [
       "<Figure size 864x432 with 1 Axes>"
      ]
     },
     "metadata": {},
     "output_type": "display_data"
    }
   ],
   "source": [
    "# Relationship between Price range and Aggregate Ratings\n",
    "\n",
    "sns.violinplot(x='Price range', y='Aggregate rating', data = df)"
   ]
  },
  {
   "cell_type": "markdown",
   "id": "06f13844",
   "metadata": {},
   "source": [
    "we can clearly see that with increase in Price range, the median of ratings also increase"
   ]
  },
  {
   "cell_type": "markdown",
   "id": "4e6a1982",
   "metadata": {},
   "source": [
    "# Aggregate Ratings and Votes"
   ]
  },
  {
   "cell_type": "code",
   "execution_count": 72,
   "id": "cefbf327",
   "metadata": {},
   "outputs": [
    {
     "data": {
      "text/plain": [
       "<AxesSubplot:xlabel='Aggregate rating', ylabel='Votes'>"
      ]
     },
     "execution_count": 72,
     "metadata": {},
     "output_type": "execute_result"
    },
    {
     "data": {
      "image/png": "[encoded data removed]",
      "text/plain": [
       "<Figure size 864x432 with 1 Axes>"
      ]
     },
     "metadata": {},
     "output_type": "display_data"
    }
   ],
   "source": [
    "sns.lineplot(x=df['Aggregate rating'], y= df['Votes'])"
   ]
  },
  {
   "cell_type": "markdown",
   "id": "650a8284",
   "metadata": {},
   "source": [
    " we can see the same inference. Aggregate Ratings and Votes have an increasing trend."
   ]
  },
  {
   "cell_type": "markdown",
   "id": "0b0386e3",
   "metadata": {},
   "source": [
    "# Aggregate Ratings and Votes"
   ]
  },
  {
   "cell_type": "code",
   "execution_count": 73,
   "id": "bd8ab19a",
   "metadata": {},
   "outputs": [
    {
     "data": {
      "text/plain": [
       "<AxesSubplot:xlabel='Aggregate rating', ylabel='Votes'>"
      ]
     },
     "execution_count": 73,
     "metadata": {},
     "output_type": "execute_result"
    },
    {
     "data": {
      "image/png": "[encoded data removed]",
      "text/plain": [
       "<Figure size 864x432 with 1 Axes>"
      ]
     },
     "metadata": {},
     "output_type": "display_data"
    }
   ],
   "source": [
    "sns.scatterplot(x=df['Aggregate rating'], y= df['Votes'])"
   ]
  },
  {
   "cell_type": "markdown",
   "id": "4873a66b",
   "metadata": {},
   "source": [
    "As the quality of food gets better, the aggregate ratings increases and the number of voters also increase."
   ]
  },
  {
   "cell_type": "markdown",
   "id": "3219ba70",
   "metadata": {},
   "source": [
    "# Correlation"
   ]
  },
  {
   "cell_type": "code",
   "execution_count": 74,
   "id": "be1ffe97",
   "metadata": {},
   "outputs": [
    {
     "data": {
      "text/html": [
       "<div>\n",
       "<style scoped>\n",
       "    .dataframe tbody tr th:only-of-type {\n",
       "        vertical-align: middle;\n",
       "    }\n",
       "\n",
       "    .dataframe tbody tr th {\n",
       "        vertical-align: top;\n",
       "    }\n",
       "\n",
       "    .dataframe thead th {\n",
       "        text-align: right;\n",
       "    }\n",
       "</style>\n",
       "<table border=\"1\" class=\"dataframe\">\n",
       "  <thead>\n",
       "    <tr style=\"text-align: right;\">\n",
       "      <th></th>\n",
       "      <th>Average Cost for two</th>\n",
       "      <th>Price range</th>\n",
       "      <th>Aggregate rating</th>\n",
       "      <th>Votes</th>\n",
       "    </tr>\n",
       "  </thead>\n",
       "  <tbody>\n",
       "    <tr>\n",
       "      <th>Average Cost for two</th>\n",
       "      <td>1.000000</td>\n",
       "      <td>0.075015</td>\n",
       "      <td>0.063691</td>\n",
       "      <td>0.067761</td>\n",
       "    </tr>\n",
       "    <tr>\n",
       "      <th>Price range</th>\n",
       "      <td>0.075015</td>\n",
       "      <td>1.000000</td>\n",
       "      <td>0.456410</td>\n",
       "      <td>0.309388</td>\n",
       "    </tr>\n",
       "    <tr>\n",
       "      <th>Aggregate rating</th>\n",
       "      <td>0.063691</td>\n",
       "      <td>0.456410</td>\n",
       "      <td>1.000000</td>\n",
       "      <td>0.366279</td>\n",
       "    </tr>\n",
       "    <tr>\n",
       "      <th>Votes</th>\n",
       "      <td>0.067761</td>\n",
       "      <td>0.309388</td>\n",
       "      <td>0.366279</td>\n",
       "      <td>1.000000</td>\n",
       "    </tr>\n",
       "  </tbody>\n",
       "</table>\n",
       "</div>"
      ],
      "text/plain": [
       "                      Average Cost for two  Price range  Aggregate rating  \\\n",
       "Average Cost for two              1.000000     0.075015          0.063691   \n",
       "Price range                       0.075015     1.000000          0.456410   \n",
       "Aggregate rating                  0.063691     0.456410          1.000000   \n",
       "Votes                             0.067761     0.309388          0.366279   \n",
       "\n",
       "                         Votes  \n",
       "Average Cost for two  0.067761  \n",
       "Price range           0.309388  \n",
       "Aggregate rating      0.366279  \n",
       "Votes                 1.000000  "
      ]
     },
     "execution_count": 74,
     "metadata": {},
     "output_type": "execute_result"
    }
   ],
   "source": [
    "correlation = df[['Average Cost for two', 'Price range', 'Aggregate rating', 'Votes']].corr()\n",
    "correlation"
   ]
  },
  {
   "cell_type": "code",
   "execution_count": 75,
   "id": "bd4b953a",
   "metadata": {},
   "outputs": [
    {
     "data": {
      "text/plain": [
       "<AxesSubplot:>"
      ]
     },
     "execution_count": 75,
     "metadata": {},
     "output_type": "execute_result"
    },
    {
     "data": {
      "image/png": "[encoded data removed]",
      "text/plain": [
       "<Figure size 864x432 with 2 Axes>"
      ]
     },
     "metadata": {},
     "output_type": "display_data"
    }
   ],
   "source": [
    "sns.heatmap(correlation, vmin = -1, vmax = 1,annot=True)    "
   ]
  },
  {
   "cell_type": "markdown",
   "id": "a5aff1df",
   "metadata": {},
   "source": [
    "Observation\n",
    "There is some correlation between Price range and Aggregate rating\n",
    "\n",
    "The rest of the columns have no correlation.\n",
    "\n",
    "If the Price range is higher, people should rate the restaurant higher."
   ]
  },
  {
   "cell_type": "code",
   "execution_count": 76,
   "id": "12c1e23e",
   "metadata": {},
   "outputs": [
    {
     "data": {
      "text/plain": [
       "Latitude               -0.111185\n",
       "Restaurant ID          -0.001621\n",
       "Cuisionescounter        0.013398\n",
       "Country Code            0.043701\n",
       "Longitude               0.045951\n",
       "Aggregate rating        0.063691\n",
       "Votes                   0.067761\n",
       "Price range             0.075015\n",
       "Average Cost for two    1.000000\n",
       "Name: Average Cost for two, dtype: float64"
      ]
     },
     "execution_count": 76,
     "metadata": {},
     "output_type": "execute_result"
    }
   ],
   "source": [
    "df.corr()[\"Average Cost for two\"].sort_values()"
   ]
  },
  {
   "cell_type": "code",
   "execution_count": 77,
   "id": "3f7a97b7",
   "metadata": {},
   "outputs": [
    {
     "data": {
      "text/plain": [
       "<AxesSubplot:title={'center':'Correlation with Average Cost for two'}>"
      ]
     },
     "execution_count": 77,
     "metadata": {},
     "output_type": "execute_result"
    },
    {
     "data": {
      "image/png": "[encoded data removed]",
      "text/plain": [
       "<Figure size 720x360 with 1 Axes>"
      ]
     },
     "metadata": {},
     "output_type": "display_data"
    }
   ],
   "source": [
    "#Correlation with sales with respect to other columns\n",
    "df.corrwith(df[\"Average Cost for two\"].sort_values()).plot.bar(\n",
    "        figsize = (10, 5), title = \"Correlation with Average Cost for two\", fontsize = 15,\n",
    "        rot = 45, grid = True)"
   ]
  },
  {
   "cell_type": "markdown",
   "id": "5b4857b4",
   "metadata": {},
   "source": [
    "# Drop useless columns"
   ]
  },
  {
   "cell_type": "code",
   "execution_count": 78,
   "id": "7630111b",
   "metadata": {},
   "outputs": [
    {
     "data": {
      "text/plain": [
       "Index(['Restaurant ID', 'Restaurant Name', 'Country Code', 'City', 'Address',\n",
       "       'Locality', 'Locality Verbose', 'Longitude', 'Latitude', 'Cuisines',\n",
       "       'Average Cost for two', 'Currency', 'Has Table booking',\n",
       "       'Has Online delivery', 'Is delivering now', 'Switch to order menu',\n",
       "       'Price range', 'Aggregate rating', 'Rating color', 'Rating text',\n",
       "       'Votes', 'Country', 'Cuisionescounter'],\n",
       "      dtype='object')"
      ]
     },
     "execution_count": 78,
     "metadata": {},
     "output_type": "execute_result"
    }
   ],
   "source": [
    "df.columns"
   ]
  },
  {
   "cell_type": "code",
   "execution_count": 79,
   "id": "2ded5ea3",
   "metadata": {},
   "outputs": [],
   "source": [
    "useless=['Restaurant ID', 'Restaurant Name', 'Country Code', 'City', 'Address',\n",
    "       'Locality', 'Locality Verbose', 'Longitude', 'Latitude', 'Cuisines',\n",
    "        'Is delivering now', 'Switch to order menu']"
   ]
  },
  {
   "cell_type": "code",
   "execution_count": 80,
   "id": "9475af30",
   "metadata": {},
   "outputs": [],
   "source": [
    "df.drop(useless,inplace = True, axis = 1 )"
   ]
  },
  {
   "cell_type": "code",
   "execution_count": 81,
   "id": "17cb6db0",
   "metadata": {},
   "outputs": [
    {
     "data": {
      "text/plain": [
       "Index(['Average Cost for two', 'Currency', 'Has Table booking',\n",
       "       'Has Online delivery', 'Price range', 'Aggregate rating',\n",
       "       'Rating color', 'Rating text', 'Votes', 'Country', 'Cuisionescounter'],\n",
       "      dtype='object')"
      ]
     },
     "execution_count": 81,
     "metadata": {},
     "output_type": "execute_result"
    }
   ],
   "source": [
    "df.columns"
   ]
  },
  {
   "cell_type": "markdown",
   "id": "e3b5d190",
   "metadata": {},
   "source": [
    "# Remove outliers\n",
    "firstly I create a list of columns to remove outliers from these columns"
   ]
  },
  {
   "cell_type": "code",
   "execution_count": 82,
   "id": "3d922f00",
   "metadata": {},
   "outputs": [],
   "source": [
    "outliers=df[[\"Average Cost for two\",\"Votes\",\"Price range\",\"Cuisionescounter\"]]"
   ]
  },
  {
   "cell_type": "code",
   "execution_count": 83,
   "id": "19695a4a",
   "metadata": {},
   "outputs": [
    {
     "data": {
      "text/html": [
       "<div>\n",
       "<style scoped>\n",
       "    .dataframe tbody tr th:only-of-type {\n",
       "        vertical-align: middle;\n",
       "    }\n",
       "\n",
       "    .dataframe tbody tr th {\n",
       "        vertical-align: top;\n",
       "    }\n",
       "\n",
       "    .dataframe thead th {\n",
       "        text-align: right;\n",
       "    }\n",
       "</style>\n",
       "<table border=\"1\" class=\"dataframe\">\n",
       "  <thead>\n",
       "    <tr style=\"text-align: right;\">\n",
       "      <th></th>\n",
       "      <th>Average Cost for two</th>\n",
       "      <th>Currency</th>\n",
       "      <th>Has Table booking</th>\n",
       "      <th>Has Online delivery</th>\n",
       "      <th>Price range</th>\n",
       "      <th>Aggregate rating</th>\n",
       "      <th>Rating color</th>\n",
       "      <th>Rating text</th>\n",
       "      <th>Votes</th>\n",
       "      <th>Country</th>\n",
       "      <th>Cuisionescounter</th>\n",
       "    </tr>\n",
       "  </thead>\n",
       "  <tbody>\n",
       "    <tr>\n",
       "      <th>0</th>\n",
       "      <td>1100</td>\n",
       "      <td>Botswana Pula(P)</td>\n",
       "      <td>Yes</td>\n",
       "      <td>No</td>\n",
       "      <td>3</td>\n",
       "      <td>5</td>\n",
       "      <td>Dark Green</td>\n",
       "      <td>Excellent</td>\n",
       "      <td>314</td>\n",
       "      <td>Phillipines</td>\n",
       "      <td>3</td>\n",
       "    </tr>\n",
       "    <tr>\n",
       "      <th>1</th>\n",
       "      <td>1200</td>\n",
       "      <td>Botswana Pula(P)</td>\n",
       "      <td>Yes</td>\n",
       "      <td>No</td>\n",
       "      <td>3</td>\n",
       "      <td>5</td>\n",
       "      <td>Dark Green</td>\n",
       "      <td>Excellent</td>\n",
       "      <td>591</td>\n",
       "      <td>Phillipines</td>\n",
       "      <td>1</td>\n",
       "    </tr>\n",
       "    <tr>\n",
       "      <th>2</th>\n",
       "      <td>4000</td>\n",
       "      <td>Botswana Pula(P)</td>\n",
       "      <td>Yes</td>\n",
       "      <td>No</td>\n",
       "      <td>4</td>\n",
       "      <td>4</td>\n",
       "      <td>Green</td>\n",
       "      <td>Very Good</td>\n",
       "      <td>270</td>\n",
       "      <td>Phillipines</td>\n",
       "      <td>4</td>\n",
       "    </tr>\n",
       "    <tr>\n",
       "      <th>3</th>\n",
       "      <td>1500</td>\n",
       "      <td>Botswana Pula(P)</td>\n",
       "      <td>No</td>\n",
       "      <td>No</td>\n",
       "      <td>4</td>\n",
       "      <td>5</td>\n",
       "      <td>Dark Green</td>\n",
       "      <td>Excellent</td>\n",
       "      <td>365</td>\n",
       "      <td>Phillipines</td>\n",
       "      <td>2</td>\n",
       "    </tr>\n",
       "    <tr>\n",
       "      <th>4</th>\n",
       "      <td>1500</td>\n",
       "      <td>Botswana Pula(P)</td>\n",
       "      <td>Yes</td>\n",
       "      <td>No</td>\n",
       "      <td>4</td>\n",
       "      <td>5</td>\n",
       "      <td>Dark Green</td>\n",
       "      <td>Excellent</td>\n",
       "      <td>229</td>\n",
       "      <td>Phillipines</td>\n",
       "      <td>2</td>\n",
       "    </tr>\n",
       "    <tr>\n",
       "      <th>...</th>\n",
       "      <td>...</td>\n",
       "      <td>...</td>\n",
       "      <td>...</td>\n",
       "      <td>...</td>\n",
       "      <td>...</td>\n",
       "      <td>...</td>\n",
       "      <td>...</td>\n",
       "      <td>...</td>\n",
       "      <td>...</td>\n",
       "      <td>...</td>\n",
       "      <td>...</td>\n",
       "    </tr>\n",
       "    <tr>\n",
       "      <th>9546</th>\n",
       "      <td>80</td>\n",
       "      <td>Turkish Lira(TL)</td>\n",
       "      <td>No</td>\n",
       "      <td>No</td>\n",
       "      <td>3</td>\n",
       "      <td>4</td>\n",
       "      <td>Green</td>\n",
       "      <td>Very Good</td>\n",
       "      <td>788</td>\n",
       "      <td>Turkey</td>\n",
       "      <td>1</td>\n",
       "    </tr>\n",
       "    <tr>\n",
       "      <th>9547</th>\n",
       "      <td>105</td>\n",
       "      <td>Turkish Lira(TL)</td>\n",
       "      <td>No</td>\n",
       "      <td>No</td>\n",
       "      <td>3</td>\n",
       "      <td>4</td>\n",
       "      <td>Green</td>\n",
       "      <td>Very Good</td>\n",
       "      <td>1034</td>\n",
       "      <td>Turkey</td>\n",
       "      <td>3</td>\n",
       "    </tr>\n",
       "    <tr>\n",
       "      <th>9548</th>\n",
       "      <td>170</td>\n",
       "      <td>Turkish Lira(TL)</td>\n",
       "      <td>No</td>\n",
       "      <td>No</td>\n",
       "      <td>4</td>\n",
       "      <td>3</td>\n",
       "      <td>Yellow</td>\n",
       "      <td>Good</td>\n",
       "      <td>661</td>\n",
       "      <td>Turkey</td>\n",
       "      <td>2</td>\n",
       "    </tr>\n",
       "    <tr>\n",
       "      <th>9549</th>\n",
       "      <td>120</td>\n",
       "      <td>Turkish Lira(TL)</td>\n",
       "      <td>No</td>\n",
       "      <td>No</td>\n",
       "      <td>4</td>\n",
       "      <td>4</td>\n",
       "      <td>Green</td>\n",
       "      <td>Very Good</td>\n",
       "      <td>901</td>\n",
       "      <td>Turkey</td>\n",
       "      <td>1</td>\n",
       "    </tr>\n",
       "    <tr>\n",
       "      <th>9550</th>\n",
       "      <td>55</td>\n",
       "      <td>Turkish Lira(TL)</td>\n",
       "      <td>No</td>\n",
       "      <td>No</td>\n",
       "      <td>2</td>\n",
       "      <td>4</td>\n",
       "      <td>Green</td>\n",
       "      <td>Very Good</td>\n",
       "      <td>591</td>\n",
       "      <td>Turkey</td>\n",
       "      <td>1</td>\n",
       "    </tr>\n",
       "  </tbody>\n",
       "</table>\n",
       "<p>9237 rows × 11 columns</p>\n",
       "</div>"
      ],
      "text/plain": [
       "      Average Cost for two          Currency Has Table booking  \\\n",
       "0                     1100  Botswana Pula(P)               Yes   \n",
       "1                     1200  Botswana Pula(P)               Yes   \n",
       "2                     4000  Botswana Pula(P)               Yes   \n",
       "3                     1500  Botswana Pula(P)                No   \n",
       "4                     1500  Botswana Pula(P)               Yes   \n",
       "...                    ...               ...               ...   \n",
       "9546                    80  Turkish Lira(TL)                No   \n",
       "9547                   105  Turkish Lira(TL)                No   \n",
       "9548                   170  Turkish Lira(TL)                No   \n",
       "9549                   120  Turkish Lira(TL)                No   \n",
       "9550                    55  Turkish Lira(TL)                No   \n",
       "\n",
       "     Has Online delivery  Price range  Aggregate rating Rating color  \\\n",
       "0                     No            3                 5   Dark Green   \n",
       "1                     No            3                 5   Dark Green   \n",
       "2                     No            4                 4        Green   \n",
       "3                     No            4                 5   Dark Green   \n",
       "4                     No            4                 5   Dark Green   \n",
       "...                  ...          ...               ...          ...   \n",
       "9546                  No            3                 4        Green   \n",
       "9547                  No            3                 4        Green   \n",
       "9548                  No            4                 3       Yellow   \n",
       "9549                  No            4                 4        Green   \n",
       "9550                  No            2                 4        Green   \n",
       "\n",
       "     Rating text  Votes      Country  Cuisionescounter  \n",
       "0      Excellent    314  Phillipines                 3  \n",
       "1      Excellent    591  Phillipines                 1  \n",
       "2      Very Good    270  Phillipines                 4  \n",
       "3      Excellent    365  Phillipines                 2  \n",
       "4      Excellent    229  Phillipines                 2  \n",
       "...          ...    ...          ...               ...  \n",
       "9546   Very Good    788       Turkey                 1  \n",
       "9547   Very Good   1034       Turkey                 3  \n",
       "9548        Good    661       Turkey                 2  \n",
       "9549   Very Good    901       Turkey                 1  \n",
       "9550   Very Good    591       Turkey                 1  \n",
       "\n",
       "[9237 rows x 11 columns]"
      ]
     },
     "execution_count": 83,
     "metadata": {},
     "output_type": "execute_result"
    }
   ],
   "source": [
    "z=np.abs(zscore(outliers))\n",
    "df1=df[(z<3).all(axis=1)]\n",
    "df1"
   ]
  },
  {
   "cell_type": "markdown",
   "id": "34932f3f",
   "metadata": {},
   "source": [
    "Now We have successfully removed outliers from the dataset"
   ]
  },
  {
   "cell_type": "code",
   "execution_count": 84,
   "id": "55e92bff",
   "metadata": {},
   "outputs": [
    {
     "data": {
      "text/plain": [
       "(9237, 11)"
      ]
     },
     "execution_count": 84,
     "metadata": {},
     "output_type": "execute_result"
    }
   ],
   "source": [
    "# checking the shape of new dataset\n",
    "df1.shape"
   ]
  },
  {
   "cell_type": "code",
   "execution_count": 85,
   "id": "579ffa3b",
   "metadata": {},
   "outputs": [
    {
     "name": "stdout",
     "output_type": "stream",
     "text": [
      "296\n"
     ]
    }
   ],
   "source": [
    "# Checking No. of outliers removed\n",
    "dataloss=print(df.shape[0]-df1.shape[0])"
   ]
  },
  {
   "cell_type": "code",
   "execution_count": 86,
   "id": "d7c8a6cc",
   "metadata": {},
   "outputs": [
    {
     "name": "stdout",
     "output_type": "stream",
     "text": [
      "3.105003671457044\n"
     ]
    }
   ],
   "source": [
    "# Checking the Percentage of dataloss using zscore\n",
    "datalossper=print(((df.shape[0]-df1.shape[0])/df.shape[0])*100)"
   ]
  },
  {
   "cell_type": "code",
   "execution_count": 87,
   "id": "ed46acd8",
   "metadata": {},
   "outputs": [],
   "source": [
    "df=df1"
   ]
  },
  {
   "cell_type": "markdown",
   "id": "5a79269c",
   "metadata": {},
   "source": [
    "We have just lost 3.1% of data which is quite good."
   ]
  },
  {
   "cell_type": "markdown",
   "id": "26c8b832",
   "metadata": {},
   "source": [
    "# Skewness"
   ]
  },
  {
   "cell_type": "code",
   "execution_count": 88,
   "id": "b9a3a516",
   "metadata": {},
   "outputs": [
    {
     "data": {
      "text/plain": [
       "Average Cost for two    3.660890\n",
       "Price range             0.945016\n",
       "Aggregate rating       -0.302533\n",
       "Votes                   3.245455\n",
       "Cuisionescounter        0.829462\n",
       "dtype: float64"
      ]
     },
     "execution_count": 88,
     "metadata": {},
     "output_type": "execute_result"
    }
   ],
   "source": [
    "# Lets check skewness in new dataset\n",
    "df.skew()"
   ]
  },
  {
   "cell_type": "markdown",
   "id": "ae4146f5",
   "metadata": {},
   "source": [
    "We have to remove skewness of column Average Cost for two,Price range,Aggregate rating,Votes and Cuisionescounter "
   ]
  },
  {
   "cell_type": "markdown",
   "id": "43aa3593",
   "metadata": {},
   "source": [
    "# Removing skewness using yeo-johnson method"
   ]
  },
  {
   "cell_type": "code",
   "execution_count": 89,
   "id": "a88540c1",
   "metadata": {},
   "outputs": [],
   "source": [
    " #create a list of columns to remove skewness from these columns\n",
    "    \n",
    "skew=['Average Cost for two','Price range','Aggregate rating','Votes']"
   ]
  },
  {
   "cell_type": "code",
   "execution_count": 90,
   "id": "1a043053",
   "metadata": {},
   "outputs": [
    {
     "data": {
      "text/plain": [
       "Average Cost for two    0.067291\n",
       "Price range             0.202346\n",
       "Aggregate rating       -0.141379\n",
       "Votes                  -0.019289\n",
       "dtype: float64"
      ]
     },
     "execution_count": 90,
     "metadata": {},
     "output_type": "execute_result"
    }
   ],
   "source": [
    "from sklearn.preprocessing import PowerTransformer\n",
    "scaler = PowerTransformer(method=\"yeo-johnson\")\n",
    "df[skew]=scaler.fit_transform(df[skew].values)\n",
    "df[skew].skew()"
   ]
  },
  {
   "cell_type": "markdown",
   "id": "ff165db0",
   "metadata": {},
   "source": [
    "Now we can see that we have successfully removed the skewness from all three columns"
   ]
  },
  {
   "cell_type": "code",
   "execution_count": 91,
   "id": "7921cf7f",
   "metadata": {},
   "outputs": [
    {
     "data": {
      "image/png": "[encoded data removed]",
      "text/plain": [
       "<Figure size 1080x360 with 4 Axes>"
      ]
     },
     "metadata": {},
     "output_type": "display_data"
    }
   ],
   "source": [
    "fig, ax = plt.subplots(ncols=4, nrows=1, figsize=(15,5))\n",
    "index = 0\n",
    "ax = ax.flatten()\n",
    "for col, value in df[skew].items():\n",
    "    sns.distplot(value, ax=ax[index], hist=False, color=\"b\",kde_kws={\"shade\": True})\n",
    "    index += 1\n",
    "\n",
    "plt.show()"
   ]
  },
  {
   "cell_type": "markdown",
   "id": "2a8a5584",
   "metadata": {},
   "source": [
    "# Data Preprocessing\n",
    "Dealing with the categorical variable:-\n",
    "\n",
    "convert categorical data into numerical variable by using Label encoading or one_hot_encoading technique\n",
    "\n",
    "Label Encoding:"
   ]
  },
  {
   "cell_type": "code",
   "execution_count": 92,
   "id": "bbb4b893",
   "metadata": {},
   "outputs": [],
   "source": [
    "df['Rating text'].replace(['Excellent','Very Good','Good','Average','Poor','Not rated'],[5,4,3,2,1,0],inplace=True)\n",
    "df[\"Rating text\"]=df[\"Rating text\"].astype(int)"
   ]
  },
  {
   "cell_type": "code",
   "execution_count": 93,
   "id": "e98fdd3c",
   "metadata": {},
   "outputs": [],
   "source": [
    "df['Rating color'].replace(['Dark Green','Green','Yellow','Orange','Red','White'],[5,4,3,2,1,0],inplace=True)\n",
    "df[\"Rating color\"]=df[\"Rating color\"].astype(int)\n"
   ]
  },
  {
   "cell_type": "code",
   "execution_count": 94,
   "id": "16ba9a3d",
   "metadata": {},
   "outputs": [
    {
     "data": {
      "text/html": [
       "<div>\n",
       "<style scoped>\n",
       "    .dataframe tbody tr th:only-of-type {\n",
       "        vertical-align: middle;\n",
       "    }\n",
       "\n",
       "    .dataframe tbody tr th {\n",
       "        vertical-align: top;\n",
       "    }\n",
       "\n",
       "    .dataframe thead th {\n",
       "        text-align: right;\n",
       "    }\n",
       "</style>\n",
       "<table border=\"1\" class=\"dataframe\">\n",
       "  <thead>\n",
       "    <tr style=\"text-align: right;\">\n",
       "      <th></th>\n",
       "      <th>Average Cost for two</th>\n",
       "      <th>Currency</th>\n",
       "      <th>Has Table booking</th>\n",
       "      <th>Has Online delivery</th>\n",
       "      <th>Price range</th>\n",
       "      <th>Aggregate rating</th>\n",
       "      <th>Rating color</th>\n",
       "      <th>Rating text</th>\n",
       "      <th>Votes</th>\n",
       "      <th>Country</th>\n",
       "      <th>Cuisionescounter</th>\n",
       "    </tr>\n",
       "  </thead>\n",
       "  <tbody>\n",
       "    <tr>\n",
       "      <th>0</th>\n",
       "      <td>1.158898</td>\n",
       "      <td>Botswana Pula(P)</td>\n",
       "      <td>Yes</td>\n",
       "      <td>No</td>\n",
       "      <td>1.315893</td>\n",
       "      <td>2.291137</td>\n",
       "      <td>5</td>\n",
       "      <td>5</td>\n",
       "      <td>1.313143</td>\n",
       "      <td>Phillipines</td>\n",
       "      <td>3</td>\n",
       "    </tr>\n",
       "    <tr>\n",
       "      <th>1</th>\n",
       "      <td>1.275567</td>\n",
       "      <td>Botswana Pula(P)</td>\n",
       "      <td>Yes</td>\n",
       "      <td>No</td>\n",
       "      <td>1.315893</td>\n",
       "      <td>2.291137</td>\n",
       "      <td>5</td>\n",
       "      <td>5</td>\n",
       "      <td>1.664550</td>\n",
       "      <td>Phillipines</td>\n",
       "      <td>1</td>\n",
       "    </tr>\n",
       "    <tr>\n",
       "      <th>2</th>\n",
       "      <td>3.145675</td>\n",
       "      <td>Botswana Pula(P)</td>\n",
       "      <td>Yes</td>\n",
       "      <td>No</td>\n",
       "      <td>1.715900</td>\n",
       "      <td>1.238984</td>\n",
       "      <td>4</td>\n",
       "      <td>4</td>\n",
       "      <td>1.230334</td>\n",
       "      <td>Phillipines</td>\n",
       "      <td>4</td>\n",
       "    </tr>\n",
       "    <tr>\n",
       "      <th>3</th>\n",
       "      <td>1.585342</td>\n",
       "      <td>Botswana Pula(P)</td>\n",
       "      <td>No</td>\n",
       "      <td>No</td>\n",
       "      <td>1.715900</td>\n",
       "      <td>2.291137</td>\n",
       "      <td>5</td>\n",
       "      <td>5</td>\n",
       "      <td>1.396113</td>\n",
       "      <td>Phillipines</td>\n",
       "      <td>2</td>\n",
       "    </tr>\n",
       "    <tr>\n",
       "      <th>4</th>\n",
       "      <td>1.585342</td>\n",
       "      <td>Botswana Pula(P)</td>\n",
       "      <td>Yes</td>\n",
       "      <td>No</td>\n",
       "      <td>1.715900</td>\n",
       "      <td>2.291137</td>\n",
       "      <td>5</td>\n",
       "      <td>5</td>\n",
       "      <td>1.140477</td>\n",
       "      <td>Phillipines</td>\n",
       "      <td>2</td>\n",
       "    </tr>\n",
       "  </tbody>\n",
       "</table>\n",
       "</div>"
      ],
      "text/plain": [
       "   Average Cost for two          Currency Has Table booking  \\\n",
       "0              1.158898  Botswana Pula(P)               Yes   \n",
       "1              1.275567  Botswana Pula(P)               Yes   \n",
       "2              3.145675  Botswana Pula(P)               Yes   \n",
       "3              1.585342  Botswana Pula(P)                No   \n",
       "4              1.585342  Botswana Pula(P)               Yes   \n",
       "\n",
       "  Has Online delivery  Price range  Aggregate rating  Rating color  \\\n",
       "0                  No     1.315893          2.291137             5   \n",
       "1                  No     1.315893          2.291137             5   \n",
       "2                  No     1.715900          1.238984             4   \n",
       "3                  No     1.715900          2.291137             5   \n",
       "4                  No     1.715900          2.291137             5   \n",
       "\n",
       "   Rating text     Votes      Country  Cuisionescounter  \n",
       "0            5  1.313143  Phillipines                 3  \n",
       "1            5  1.664550  Phillipines                 1  \n",
       "2            4  1.230334  Phillipines                 4  \n",
       "3            5  1.396113  Phillipines                 2  \n",
       "4            5  1.140477  Phillipines                 2  "
      ]
     },
     "execution_count": 94,
     "metadata": {},
     "output_type": "execute_result"
    }
   ],
   "source": [
    "df.head()"
   ]
  },
  {
   "cell_type": "markdown",
   "id": "4cdf4ac1",
   "metadata": {},
   "source": [
    "# Label Encoding"
   ]
  },
  {
   "cell_type": "code",
   "execution_count": 95,
   "id": "8e2fb0bf",
   "metadata": {},
   "outputs": [],
   "source": [
    "from sklearn.preprocessing import LabelEncoder\n",
    "le=LabelEncoder()"
   ]
  },
  {
   "cell_type": "code",
   "execution_count": 96,
   "id": "81f2a7ad",
   "metadata": {},
   "outputs": [],
   "source": [
    "#for changing all catigorical value into numeric value\n",
    "\n",
    "df=df.apply(le.fit_transform)"
   ]
  },
  {
   "cell_type": "code",
   "execution_count": 97,
   "id": "61227015",
   "metadata": {},
   "outputs": [
    {
     "data": {
      "text/html": [
       "<div>\n",
       "<style scoped>\n",
       "    .dataframe tbody tr th:only-of-type {\n",
       "        vertical-align: middle;\n",
       "    }\n",
       "\n",
       "    .dataframe tbody tr th {\n",
       "        vertical-align: top;\n",
       "    }\n",
       "\n",
       "    .dataframe thead th {\n",
       "        text-align: right;\n",
       "    }\n",
       "</style>\n",
       "<table border=\"1\" class=\"dataframe\">\n",
       "  <thead>\n",
       "    <tr style=\"text-align: right;\">\n",
       "      <th></th>\n",
       "      <th>Average Cost for two</th>\n",
       "      <th>Currency</th>\n",
       "      <th>Has Table booking</th>\n",
       "      <th>Has Online delivery</th>\n",
       "      <th>Price range</th>\n",
       "      <th>Aggregate rating</th>\n",
       "      <th>Rating color</th>\n",
       "      <th>Rating text</th>\n",
       "      <th>Votes</th>\n",
       "      <th>Country</th>\n",
       "      <th>Cuisionescounter</th>\n",
       "    </tr>\n",
       "  </thead>\n",
       "  <tbody>\n",
       "    <tr>\n",
       "      <th>0</th>\n",
       "      <td>70</td>\n",
       "      <td>0</td>\n",
       "      <td>1</td>\n",
       "      <td>0</td>\n",
       "      <td>2</td>\n",
       "      <td>4</td>\n",
       "      <td>5</td>\n",
       "      <td>5</td>\n",
       "      <td>313</td>\n",
       "      <td>5</td>\n",
       "      <td>2</td>\n",
       "    </tr>\n",
       "    <tr>\n",
       "      <th>1</th>\n",
       "      <td>72</td>\n",
       "      <td>0</td>\n",
       "      <td>1</td>\n",
       "      <td>0</td>\n",
       "      <td>2</td>\n",
       "      <td>4</td>\n",
       "      <td>5</td>\n",
       "      <td>5</td>\n",
       "      <td>541</td>\n",
       "      <td>5</td>\n",
       "      <td>0</td>\n",
       "    </tr>\n",
       "    <tr>\n",
       "      <th>2</th>\n",
       "      <td>110</td>\n",
       "      <td>0</td>\n",
       "      <td>1</td>\n",
       "      <td>0</td>\n",
       "      <td>3</td>\n",
       "      <td>3</td>\n",
       "      <td>4</td>\n",
       "      <td>4</td>\n",
       "      <td>269</td>\n",
       "      <td>5</td>\n",
       "      <td>3</td>\n",
       "    </tr>\n",
       "    <tr>\n",
       "      <th>3</th>\n",
       "      <td>78</td>\n",
       "      <td>0</td>\n",
       "      <td>0</td>\n",
       "      <td>0</td>\n",
       "      <td>3</td>\n",
       "      <td>4</td>\n",
       "      <td>5</td>\n",
       "      <td>5</td>\n",
       "      <td>361</td>\n",
       "      <td>5</td>\n",
       "      <td>1</td>\n",
       "    </tr>\n",
       "    <tr>\n",
       "      <th>4</th>\n",
       "      <td>78</td>\n",
       "      <td>0</td>\n",
       "      <td>1</td>\n",
       "      <td>0</td>\n",
       "      <td>3</td>\n",
       "      <td>4</td>\n",
       "      <td>5</td>\n",
       "      <td>5</td>\n",
       "      <td>229</td>\n",
       "      <td>5</td>\n",
       "      <td>1</td>\n",
       "    </tr>\n",
       "    <tr>\n",
       "      <th>5</th>\n",
       "      <td>68</td>\n",
       "      <td>0</td>\n",
       "      <td>0</td>\n",
       "      <td>0</td>\n",
       "      <td>2</td>\n",
       "      <td>3</td>\n",
       "      <td>4</td>\n",
       "      <td>4</td>\n",
       "      <td>335</td>\n",
       "      <td>5</td>\n",
       "      <td>0</td>\n",
       "    </tr>\n",
       "    <tr>\n",
       "      <th>6</th>\n",
       "      <td>89</td>\n",
       "      <td>0</td>\n",
       "      <td>1</td>\n",
       "      <td>0</td>\n",
       "      <td>3</td>\n",
       "      <td>3</td>\n",
       "      <td>4</td>\n",
       "      <td>4</td>\n",
       "      <td>493</td>\n",
       "      <td>5</td>\n",
       "      <td>1</td>\n",
       "    </tr>\n",
       "    <tr>\n",
       "      <th>7</th>\n",
       "      <td>89</td>\n",
       "      <td>0</td>\n",
       "      <td>1</td>\n",
       "      <td>0</td>\n",
       "      <td>3</td>\n",
       "      <td>3</td>\n",
       "      <td>4</td>\n",
       "      <td>4</td>\n",
       "      <td>591</td>\n",
       "      <td>5</td>\n",
       "      <td>3</td>\n",
       "    </tr>\n",
       "    <tr>\n",
       "      <th>8</th>\n",
       "      <td>121</td>\n",
       "      <td>0</td>\n",
       "      <td>1</td>\n",
       "      <td>0</td>\n",
       "      <td>3</td>\n",
       "      <td>4</td>\n",
       "      <td>5</td>\n",
       "      <td>5</td>\n",
       "      <td>559</td>\n",
       "      <td>5</td>\n",
       "      <td>2</td>\n",
       "    </tr>\n",
       "    <tr>\n",
       "      <th>9</th>\n",
       "      <td>70</td>\n",
       "      <td>0</td>\n",
       "      <td>1</td>\n",
       "      <td>0</td>\n",
       "      <td>2</td>\n",
       "      <td>4</td>\n",
       "      <td>5</td>\n",
       "      <td>5</td>\n",
       "      <td>500</td>\n",
       "      <td>5</td>\n",
       "      <td>0</td>\n",
       "    </tr>\n",
       "  </tbody>\n",
       "</table>\n",
       "</div>"
      ],
      "text/plain": [
       "   Average Cost for two  Currency  Has Table booking  Has Online delivery  \\\n",
       "0                    70         0                  1                    0   \n",
       "1                    72         0                  1                    0   \n",
       "2                   110         0                  1                    0   \n",
       "3                    78         0                  0                    0   \n",
       "4                    78         0                  1                    0   \n",
       "5                    68         0                  0                    0   \n",
       "6                    89         0                  1                    0   \n",
       "7                    89         0                  1                    0   \n",
       "8                   121         0                  1                    0   \n",
       "9                    70         0                  1                    0   \n",
       "\n",
       "   Price range  Aggregate rating  Rating color  Rating text  Votes  Country  \\\n",
       "0            2                 4             5            5    313        5   \n",
       "1            2                 4             5            5    541        5   \n",
       "2            3                 3             4            4    269        5   \n",
       "3            3                 4             5            5    361        5   \n",
       "4            3                 4             5            5    229        5   \n",
       "5            2                 3             4            4    335        5   \n",
       "6            3                 3             4            4    493        5   \n",
       "7            3                 3             4            4    591        5   \n",
       "8            3                 4             5            5    559        5   \n",
       "9            2                 4             5            5    500        5   \n",
       "\n",
       "   Cuisionescounter  \n",
       "0                 2  \n",
       "1                 0  \n",
       "2                 3  \n",
       "3                 1  \n",
       "4                 1  \n",
       "5                 0  \n",
       "6                 1  \n",
       "7                 3  \n",
       "8                 2  \n",
       "9                 0  "
      ]
     },
     "execution_count": 97,
     "metadata": {},
     "output_type": "execute_result"
    }
   ],
   "source": [
    "df.head(10)"
   ]
  },
  {
   "cell_type": "markdown",
   "id": "aee68f0e",
   "metadata": {},
   "source": [
    "# Model building For Price range prediction"
   ]
  },
  {
   "cell_type": "markdown",
   "id": "22b56e7d",
   "metadata": {},
   "source": [
    "Price range is a categorical type of data because that caontain only 4 unique value so we can use classification Algorithams for prediction."
   ]
  },
  {
   "cell_type": "code",
   "execution_count": 98,
   "id": "d4411999",
   "metadata": {},
   "outputs": [],
   "source": [
    "x=df.drop(\"Price range\",axis=1)\n",
    "y=df[\"Price range\"]"
   ]
  },
  {
   "cell_type": "code",
   "execution_count": 99,
   "id": "9fb254a5",
   "metadata": {},
   "outputs": [
    {
     "name": "stdout",
     "output_type": "stream",
     "text": [
      "(9237, 10)\n",
      "(9237,)\n"
     ]
    }
   ],
   "source": [
    "print(x.shape)\n",
    "print(y.shape)"
   ]
  },
  {
   "cell_type": "markdown",
   "id": "45192a1b",
   "metadata": {},
   "source": [
    "# Balancing the dataset\n"
   ]
  },
  {
   "cell_type": "code",
   "execution_count": 100,
   "id": "aff819b8",
   "metadata": {},
   "outputs": [
    {
     "data": {
      "text/plain": [
       "0    4405\n",
       "1    3031\n",
       "2    1262\n",
       "3     539\n",
       "Name: Price range, dtype: int64"
      ]
     },
     "execution_count": 100,
     "metadata": {},
     "output_type": "execute_result"
    }
   ],
   "source": [
    "y.value_counts()"
   ]
  },
  {
   "cell_type": "code",
   "execution_count": 101,
   "id": "838fd9b5",
   "metadata": {},
   "outputs": [],
   "source": [
    "from imblearn.over_sampling import SMOTE\n",
    "\n",
    "smt=SMOTE()# instance of smote"
   ]
  },
  {
   "cell_type": "code",
   "execution_count": 102,
   "id": "bae8481f",
   "metadata": {},
   "outputs": [],
   "source": [
    "trainx,trainy=smt.fit_resample(x,y)"
   ]
  },
  {
   "cell_type": "code",
   "execution_count": 103,
   "id": "56120f20",
   "metadata": {},
   "outputs": [
    {
     "data": {
      "text/plain": [
       "2    4405\n",
       "3    4405\n",
       "1    4405\n",
       "0    4405\n",
       "Name: Price range, dtype: int64"
      ]
     },
     "execution_count": 103,
     "metadata": {},
     "output_type": "execute_result"
    }
   ],
   "source": [
    "trainy.value_counts()"
   ]
  },
  {
   "cell_type": "markdown",
   "id": "6daf9e85",
   "metadata": {},
   "source": [
    "# Multicollinerity"
   ]
  },
  {
   "cell_type": "code",
   "execution_count": 104,
   "id": "8aeb9270",
   "metadata": {},
   "outputs": [],
   "source": [
    "from statsmodels.stats.outliers_influence import variance_inflation_factor\n",
    "def cal_vif(x):\n",
    "    vif=pd.DataFrame()\n",
    "    vif['variables']=x.columns\n",
    "    vif[\"vif_factor\"]=[variance_inflation_factor(x.values,i) for i in range (x.shape[1])]\n",
    "    return(vif)"
   ]
  },
  {
   "cell_type": "code",
   "execution_count": 105,
   "id": "6f716b0b",
   "metadata": {},
   "outputs": [
    {
     "data": {
      "text/html": [
       "<div>\n",
       "<style scoped>\n",
       "    .dataframe tbody tr th:only-of-type {\n",
       "        vertical-align: middle;\n",
       "    }\n",
       "\n",
       "    .dataframe tbody tr th {\n",
       "        vertical-align: top;\n",
       "    }\n",
       "\n",
       "    .dataframe thead th {\n",
       "        text-align: right;\n",
       "    }\n",
       "</style>\n",
       "<table border=\"1\" class=\"dataframe\">\n",
       "  <thead>\n",
       "    <tr style=\"text-align: right;\">\n",
       "      <th></th>\n",
       "      <th>variables</th>\n",
       "      <th>vif_factor</th>\n",
       "    </tr>\n",
       "  </thead>\n",
       "  <tbody>\n",
       "    <tr>\n",
       "      <th>0</th>\n",
       "      <td>Average Cost for two</td>\n",
       "      <td>11.715322</td>\n",
       "    </tr>\n",
       "    <tr>\n",
       "      <th>1</th>\n",
       "      <td>Currency</td>\n",
       "      <td>13.042559</td>\n",
       "    </tr>\n",
       "    <tr>\n",
       "      <th>2</th>\n",
       "      <td>Has Table booking</td>\n",
       "      <td>1.597392</td>\n",
       "    </tr>\n",
       "    <tr>\n",
       "      <th>3</th>\n",
       "      <td>Has Online delivery</td>\n",
       "      <td>1.503733</td>\n",
       "    </tr>\n",
       "    <tr>\n",
       "      <th>4</th>\n",
       "      <td>Aggregate rating</td>\n",
       "      <td>32.882516</td>\n",
       "    </tr>\n",
       "    <tr>\n",
       "      <th>5</th>\n",
       "      <td>Rating color</td>\n",
       "      <td>inf</td>\n",
       "    </tr>\n",
       "    <tr>\n",
       "      <th>6</th>\n",
       "      <td>Rating text</td>\n",
       "      <td>inf</td>\n",
       "    </tr>\n",
       "    <tr>\n",
       "      <th>7</th>\n",
       "      <td>Votes</td>\n",
       "      <td>2.315603</td>\n",
       "    </tr>\n",
       "    <tr>\n",
       "      <th>8</th>\n",
       "      <td>Country</td>\n",
       "      <td>4.562251</td>\n",
       "    </tr>\n",
       "    <tr>\n",
       "      <th>9</th>\n",
       "      <td>Cuisionescounter</td>\n",
       "      <td>2.408580</td>\n",
       "    </tr>\n",
       "  </tbody>\n",
       "</table>\n",
       "</div>"
      ],
      "text/plain": [
       "              variables  vif_factor\n",
       "0  Average Cost for two   11.715322\n",
       "1              Currency   13.042559\n",
       "2     Has Table booking    1.597392\n",
       "3   Has Online delivery    1.503733\n",
       "4      Aggregate rating   32.882516\n",
       "5          Rating color         inf\n",
       "6           Rating text         inf\n",
       "7                 Votes    2.315603\n",
       "8               Country    4.562251\n",
       "9      Cuisionescounter    2.408580"
      ]
     },
     "execution_count": 105,
     "metadata": {},
     "output_type": "execute_result"
    }
   ],
   "source": [
    "cal_vif(x)"
   ]
  },
  {
   "cell_type": "markdown",
   "id": "23d3496c",
   "metadata": {},
   "source": [
    "# Data Standardization"
   ]
  },
  {
   "cell_type": "code",
   "execution_count": 106,
   "id": "4f8dd428",
   "metadata": {},
   "outputs": [
    {
     "data": {
      "text/plain": [
       "array([[ 1.06966868e+00, -4.95455658e+00,  2.76127685e+00, ...,\n",
       "         1.29562300e+00,  5.71200740e-01,  1.03251353e+00],\n",
       "       [ 1.16758442e+00, -4.95455658e+00,  2.76127685e+00, ...,\n",
       "         2.68756530e+00,  5.71200740e-01, -1.02605057e+00],\n",
       "       [ 3.02798332e+00, -4.95455658e+00,  2.76127685e+00, ...,\n",
       "         1.02700255e+00,  5.71200740e-01,  2.06179559e+00],\n",
       "       ...,\n",
       "       [-9.86561687e-01,  7.59039535e+00, -3.62151299e-01, ...,\n",
       "         2.93176570e+00,  2.67494126e+00,  3.23147987e-03],\n",
       "       [-1.28030888e+00,  7.59039535e+00, -3.62151299e-01, ...,\n",
       "         3.69489196e+00,  2.67494126e+00, -1.02605057e+00],\n",
       "       [-1.86780327e+00,  7.59039535e+00, -3.62151299e-01, ...,\n",
       "         2.68756530e+00,  2.67494126e+00, -1.02605057e+00]])"
      ]
     },
     "execution_count": 106,
     "metadata": {},
     "output_type": "execute_result"
    }
   ],
   "source": [
    "# Scaling the Feature data\n",
    "\n",
    "from sklearn.preprocessing import StandardScaler\n",
    "SC=StandardScaler()\n",
    "x=SC.fit_transform(x)\n",
    "x"
   ]
  },
  {
   "cell_type": "markdown",
   "id": "7dbd4985",
   "metadata": {},
   "source": [
    "# Find best Random state\n"
   ]
  },
  {
   "cell_type": "code",
   "execution_count": 109,
   "id": "80c4aeb8",
   "metadata": {},
   "outputs": [
    {
     "name": "stdout",
     "output_type": "stream",
     "text": [
      "testing accuracy  0.8168831168831169  random state = 0\n",
      " max accuracy score 0.8168831168831169  max random state = 0\n",
      "testing accuracy  0.8151515151515152  random state = 1\n",
      "testing accuracy  0.8008658008658008  random state = 2\n",
      "testing accuracy  0.816017316017316  random state = 3\n",
      "testing accuracy  0.8272727272727273  random state = 4\n",
      " max accuracy score 0.8272727272727273  max random state = 4\n",
      "testing accuracy  0.8203463203463204  random state = 5\n",
      "testing accuracy  0.812987012987013  random state = 6\n",
      "testing accuracy  0.812987012987013  random state = 7\n",
      "testing accuracy  0.8108225108225108  random state = 8\n",
      "testing accuracy  0.8034632034632034  random state = 9\n",
      "testing accuracy  0.8268398268398268  random state = 10\n",
      "testing accuracy  0.806060606060606  random state = 11\n",
      "testing accuracy  0.8164502164502164  random state = 12\n",
      "testing accuracy  0.8121212121212121  random state = 13\n",
      "testing accuracy  0.8125541125541126  random state = 14\n",
      "testing accuracy  0.8233766233766234  random state = 15\n",
      "testing accuracy  0.819047619047619  random state = 16\n",
      "testing accuracy  0.8151515151515152  random state = 17\n",
      "testing accuracy  0.8277056277056277  random state = 18\n",
      " max accuracy score 0.8277056277056277  max random state = 18\n",
      "testing accuracy  0.8264069264069264  random state = 19\n",
      "testing accuracy  0.80995670995671  random state = 20\n",
      "testing accuracy  0.8090909090909091  random state = 21\n",
      "testing accuracy  0.8199134199134199  random state = 22\n",
      "testing accuracy  0.8116883116883117  random state = 23\n",
      "testing accuracy  0.8186147186147186  random state = 24\n",
      "testing accuracy  0.8112554112554112  random state = 25\n",
      "testing accuracy  0.8346320346320346  random state = 26\n",
      " max accuracy score 0.8346320346320346  max random state = 26\n",
      "testing accuracy  0.8242424242424242  random state = 27\n",
      "testing accuracy  0.8034632034632034  random state = 28\n",
      "testing accuracy  0.8233766233766234  random state = 29\n",
      "testing accuracy  0.812987012987013  random state = 30\n",
      "testing accuracy  0.8155844155844156  random state = 31\n",
      "testing accuracy  0.8277056277056277  random state = 32\n",
      "testing accuracy  0.8043290043290043  random state = 33\n",
      "testing accuracy  0.8203463203463204  random state = 34\n",
      "testing accuracy  0.822943722943723  random state = 35\n",
      "testing accuracy  0.8194805194805195  random state = 36\n",
      "testing accuracy  0.8177489177489178  random state = 37\n",
      "testing accuracy  0.8086580086580086  random state = 38\n",
      "testing accuracy  0.8277056277056277  random state = 39\n",
      "testing accuracy  0.8116883116883117  random state = 40\n",
      "testing accuracy  0.8121212121212121  random state = 41\n",
      "testing accuracy  0.8108225108225108  random state = 42\n",
      "testing accuracy  0.8173160173160173  random state = 43\n",
      "testing accuracy  0.803030303030303  random state = 44\n",
      "testing accuracy  0.8121212121212121  random state = 45\n",
      "testing accuracy  0.8142857142857143  random state = 46\n",
      "testing accuracy  0.8272727272727273  random state = 47\n",
      "testing accuracy  0.8108225108225108  random state = 48\n",
      "testing accuracy  0.8199134199134199  random state = 49\n",
      "testing accuracy  0.8272727272727273  random state = 50\n",
      "testing accuracy  0.8086580086580086  random state = 51\n",
      "testing accuracy  0.8216450216450216  random state = 52\n",
      "testing accuracy  0.8181818181818182  random state = 53\n",
      "testing accuracy  0.812987012987013  random state = 54\n",
      "testing accuracy  0.8125541125541126  random state = 55\n",
      "testing accuracy  0.80995670995671  random state = 56\n",
      "testing accuracy  0.8225108225108225  random state = 57\n",
      "testing accuracy  0.8116883116883117  random state = 58\n",
      "testing accuracy  0.7887445887445887  random state = 59\n",
      "testing accuracy  0.8194805194805195  random state = 60\n",
      "testing accuracy  0.819047619047619  random state = 61\n",
      "testing accuracy  0.8212121212121212  random state = 62\n",
      "testing accuracy  0.8151515151515152  random state = 63\n",
      "testing accuracy  0.8194805194805195  random state = 64\n",
      "testing accuracy  0.8177489177489178  random state = 65\n",
      "testing accuracy  0.816017316017316  random state = 66\n",
      "testing accuracy  0.8181818181818182  random state = 67\n",
      "testing accuracy  0.8164502164502164  random state = 68\n",
      "testing accuracy  0.8090909090909091  random state = 69\n",
      "testing accuracy  0.8134199134199134  random state = 70\n",
      "testing accuracy  0.8203463203463204  random state = 71\n",
      "testing accuracy  0.8164502164502164  random state = 72\n",
      "testing accuracy  0.8125541125541126  random state = 73\n",
      "testing accuracy  0.803030303030303  random state = 74\n",
      "testing accuracy  0.8103896103896104  random state = 75\n",
      "testing accuracy  0.8151515151515152  random state = 76\n",
      "testing accuracy  0.8047619047619048  random state = 77\n",
      "testing accuracy  0.7974025974025974  random state = 78\n",
      "testing accuracy  0.8004329004329004  random state = 79\n",
      "testing accuracy  0.7917748917748918  random state = 80\n",
      "testing accuracy  0.8  random state = 81\n",
      "testing accuracy  0.8277056277056277  random state = 82\n",
      "testing accuracy  0.816017316017316  random state = 83\n",
      "testing accuracy  0.812987012987013  random state = 84\n",
      "testing accuracy  0.822943722943723  random state = 85\n",
      "testing accuracy  0.8082251082251082  random state = 86\n",
      "testing accuracy  0.8077922077922078  random state = 87\n",
      "testing accuracy  0.8134199134199134  random state = 88\n",
      "testing accuracy  0.8138528138528138  random state = 89\n",
      "testing accuracy  0.8134199134199134  random state = 90\n",
      "testing accuracy  0.8125541125541126  random state = 91\n",
      "testing accuracy  0.8142857142857143  random state = 92\n",
      "testing accuracy  0.8108225108225108  random state = 93\n",
      "testing accuracy  0.812987012987013  random state = 94\n",
      "testing accuracy  0.803030303030303  random state = 95\n",
      "testing accuracy  0.8004329004329004  random state = 96\n",
      "testing accuracy  0.8155844155844156  random state = 97\n",
      "testing accuracy  0.8177489177489178  random state = 98\n",
      "testing accuracy  0.8064935064935065  random state = 99\n",
      "testing accuracy  0.8285714285714286  random state = 100\n",
      "testing accuracy  0.825974025974026  random state = 101\n",
      "testing accuracy  0.7948051948051948  random state = 102\n",
      "testing accuracy  0.8142857142857143  random state = 103\n",
      "testing accuracy  0.8142857142857143  random state = 104\n",
      "testing accuracy  0.8121212121212121  random state = 105\n",
      "testing accuracy  0.8212121212121212  random state = 106\n",
      "testing accuracy  0.8220779220779221  random state = 107\n",
      "testing accuracy  0.80995670995671  random state = 108\n",
      "testing accuracy  0.8147186147186147  random state = 109\n",
      "testing accuracy  0.8108225108225108  random state = 110\n",
      "testing accuracy  0.8225108225108225  random state = 111\n",
      "testing accuracy  0.8181818181818182  random state = 112\n",
      "testing accuracy  0.8095238095238095  random state = 113\n",
      "testing accuracy  0.8142857142857143  random state = 114\n",
      "testing accuracy  0.8406926406926407  random state = 115\n",
      " max accuracy score 0.8406926406926407  max random state = 115\n",
      "testing accuracy  0.8103896103896104  random state = 116\n",
      "testing accuracy  0.8112554112554112  random state = 117\n",
      "testing accuracy  0.796969696969697  random state = 118\n",
      "testing accuracy  0.8164502164502164  random state = 119\n",
      "testing accuracy  0.8  random state = 120\n",
      "testing accuracy  0.8220779220779221  random state = 121\n",
      "testing accuracy  0.8086580086580086  random state = 122\n",
      "testing accuracy  0.8073593073593074  random state = 123\n",
      "testing accuracy  0.8116883116883117  random state = 124\n",
      "testing accuracy  0.8142857142857143  random state = 125\n",
      "testing accuracy  0.8199134199134199  random state = 126\n",
      "testing accuracy  0.819047619047619  random state = 127\n",
      "testing accuracy  0.8212121212121212  random state = 128\n",
      "testing accuracy  0.8173160173160173  random state = 129\n",
      "testing accuracy  0.8346320346320346  random state = 130\n",
      "testing accuracy  0.819047619047619  random state = 131\n",
      "testing accuracy  0.8207792207792208  random state = 132\n",
      "testing accuracy  0.8043290043290043  random state = 133\n",
      "testing accuracy  0.8350649350649351  random state = 134\n",
      "testing accuracy  0.8164502164502164  random state = 135\n",
      "testing accuracy  0.8199134199134199  random state = 136\n",
      "testing accuracy  0.8147186147186147  random state = 137\n",
      "testing accuracy  0.8177489177489178  random state = 138\n",
      "testing accuracy  0.816017316017316  random state = 139\n",
      "testing accuracy  0.8082251082251082  random state = 140\n",
      "testing accuracy  0.8138528138528138  random state = 141\n"
     ]
    },
    {
     "name": "stdout",
     "output_type": "stream",
     "text": [
      "testing accuracy  0.8272727272727273  random state = 142\n",
      "testing accuracy  0.8155844155844156  random state = 143\n",
      "testing accuracy  0.8138528138528138  random state = 144\n",
      "testing accuracy  0.8272727272727273  random state = 145\n",
      "testing accuracy  0.8125541125541126  random state = 146\n",
      "testing accuracy  0.8212121212121212  random state = 147\n",
      "testing accuracy  0.806060606060606  random state = 148\n",
      "testing accuracy  0.8056277056277056  random state = 149\n",
      "testing accuracy  0.8064935064935065  random state = 150\n",
      "testing accuracy  0.8173160173160173  random state = 151\n",
      "testing accuracy  0.8220779220779221  random state = 152\n",
      "testing accuracy  0.8186147186147186  random state = 153\n",
      "testing accuracy  0.8138528138528138  random state = 154\n",
      "testing accuracy  0.8285714285714286  random state = 155\n",
      "testing accuracy  0.8225108225108225  random state = 156\n",
      "testing accuracy  0.8112554112554112  random state = 157\n",
      "testing accuracy  0.8034632034632034  random state = 158\n",
      "testing accuracy  0.8194805194805195  random state = 159\n",
      "testing accuracy  0.8246753246753247  random state = 160\n",
      "testing accuracy  0.8147186147186147  random state = 161\n",
      "testing accuracy  0.8082251082251082  random state = 162\n",
      "testing accuracy  0.8194805194805195  random state = 163\n",
      "testing accuracy  0.8112554112554112  random state = 164\n",
      "testing accuracy  0.8125541125541126  random state = 165\n",
      "testing accuracy  0.829004329004329  random state = 166\n",
      "testing accuracy  0.8151515151515152  random state = 167\n",
      "testing accuracy  0.8225108225108225  random state = 168\n",
      "testing accuracy  0.8277056277056277  random state = 169\n",
      "testing accuracy  0.8138528138528138  random state = 170\n",
      "testing accuracy  0.8125541125541126  random state = 171\n",
      "testing accuracy  0.806060606060606  random state = 172\n",
      "testing accuracy  0.8112554112554112  random state = 173\n",
      "testing accuracy  0.8086580086580086  random state = 174\n",
      "testing accuracy  0.8186147186147186  random state = 175\n",
      "testing accuracy  0.8056277056277056  random state = 176\n",
      "testing accuracy  0.8064935064935065  random state = 177\n",
      "testing accuracy  0.832034632034632  random state = 178\n",
      "testing accuracy  0.812987012987013  random state = 179\n",
      "testing accuracy  0.8337662337662337  random state = 180\n",
      "testing accuracy  0.8103896103896104  random state = 181\n",
      "testing accuracy  0.8147186147186147  random state = 182\n",
      "testing accuracy  0.8220779220779221  random state = 183\n",
      "testing accuracy  0.8134199134199134  random state = 184\n",
      "testing accuracy  0.80995670995671  random state = 185\n",
      "testing accuracy  0.8008658008658008  random state = 186\n",
      "testing accuracy  0.812987012987013  random state = 187\n",
      "testing accuracy  0.8207792207792208  random state = 188\n",
      "testing accuracy  0.8103896103896104  random state = 189\n",
      "testing accuracy  0.8155844155844156  random state = 190\n",
      "testing accuracy  0.8246753246753247  random state = 191\n",
      "testing accuracy  0.8242424242424242  random state = 192\n",
      "testing accuracy  0.825974025974026  random state = 193\n",
      "testing accuracy  0.8177489177489178  random state = 194\n",
      "testing accuracy  0.8095238095238095  random state = 195\n",
      "testing accuracy  0.8194805194805195  random state = 196\n",
      "testing accuracy  0.8251082251082251  random state = 197\n",
      "testing accuracy  0.8207792207792208  random state = 198\n",
      "testing accuracy  0.8186147186147186  random state = 199\n"
     ]
    }
   ],
   "source": [
    "from sklearn.linear_model import LogisticRegression\n",
    "max_accu=0 #maxi accuracy define as 0\n",
    "max_rs=0# best random state for which max accurecy achived\n",
    "\n",
    "lr=LogisticRegression()\n",
    " \n",
    "for i in range(0,200):\n",
    "    x_train, x_test, y_train, y_test = train_test_split( x, y, test_size=.25, random_state=i)\n",
    "    \n",
    "    lr.fit(x_train,y_train)\n",
    "\n",
    "    pred=lr.predict(x_test)# predicted target variable\n",
    "    \n",
    "    acc=accuracy_score(y_test,pred)# accuracy score\n",
    "    \n",
    "    print(\"testing accuracy \",acc, \" random state =\", i)\n",
    "    if acc>max_accu:\n",
    "        max_accu=acc\n",
    "        max_rs=i\n",
    "        print(\" max accuracy score\",acc, \" max random state =\",i)"
   ]
  },
  {
   "cell_type": "code",
   "execution_count": 110,
   "id": "870c87ad",
   "metadata": {},
   "outputs": [
    {
     "name": "stdout",
     "output_type": "stream",
     "text": [
      " max accuracy score 0.8406926406926407  max random state = 115\n"
     ]
    }
   ],
   "source": [
    "print(\" max accuracy score\",max_accu, \" max random state =\", max_rs)"
   ]
  },
  {
   "cell_type": "markdown",
   "id": "7922c720",
   "metadata": {},
   "source": [
    "# Classification model_selection"
   ]
  },
  {
   "cell_type": "code",
   "execution_count": 111,
   "id": "883aaa1b",
   "metadata": {},
   "outputs": [],
   "source": [
    "# model_selection is function  created bcz when we want to use another model then only call this function\n",
    "\n",
    "def model_selection(algorithm_instance,x_train, x_test, y_train, y_test):\n",
    "    x_train, x_test, y_train, y_test = train_test_split(x,y, test_size = 0.24, random_state=199)\n",
    "    \n",
    "    algorithm_instance.fit(x_train,y_train)\n",
    "    \n",
    "    model1_pred=algorithm_instance.predict(x_test)\n",
    "    \n",
    "    print(\"Accuracy Score\",accuracy_score(y_test,model1_pred)*100)\n",
    "    \n",
    "    print(\"confusion_matrix\",confusion_matrix(y_test,model1_pred))\n",
    "    \n",
    "    print(\"classification_report\",classification_report(y_test,model1_pred))\n",
    "    \n",
    "    \n",
    "def model_cv(algorithm_instance,trainx,trainy):\n",
    "    for j in range(4,10):\n",
    "        lsscore=cross_val_score(algorithm_instance,trainx,trainy,cv=j)\n",
    "        print(lsscore)\n",
    "        lsc=lsscore.mean()\n",
    "        print(\" At cv =\",j)\n",
    "        print(\"cross validation score \",lsc*100)    "
   ]
  },
  {
   "cell_type": "code",
   "execution_count": 112,
   "id": "f0409028",
   "metadata": {},
   "outputs": [
    {
     "name": "stdout",
     "output_type": "stream",
     "text": [
      "Accuracy Score 86.9192602616148\n",
      "confusion_matrix [[1009   57    4    0]\n",
      " [  34  651   40    2]\n",
      " [   4   97  187    7]\n",
      " [   0    7   38   80]]\n",
      "classification_report               precision    recall  f1-score   support\n",
      "\n",
      "           0       0.96      0.94      0.95      1070\n",
      "           1       0.80      0.90      0.85       727\n",
      "           2       0.70      0.63      0.66       295\n",
      "           3       0.90      0.64      0.75       125\n",
      "\n",
      "    accuracy                           0.87      2217\n",
      "   macro avg       0.84      0.78      0.80      2217\n",
      "weighted avg       0.87      0.87      0.87      2217\n",
      "\n",
      "[0.86469921 0.92395006 0.93144154 0.94483541]\n",
      " At cv = 4\n",
      "cross validation score  91.62315550510783\n",
      "[0.8561294  0.91770715 0.9406924  0.92877412 0.94750284]\n",
      " At cv = 5\n",
      "cross validation score  91.81611804767311\n",
      "[0.84371808 0.91658155 0.93564862 0.94654409 0.92677112 0.94720708]\n",
      " At cv = 6\n",
      "cross validation score  91.94117567927381\n",
      "[0.82525814 0.91736194 0.93484307 0.94437823 0.93087008 0.94596742\n",
      " 0.94437823]\n",
      " At cv = 7\n",
      "cross validation score  92.04367297723265\n",
      "[0.8061734  0.92510213 0.92646391 0.938266   0.94550409 0.92461399\n",
      " 0.95277021 0.94459582]\n",
      " At cv = 8\n",
      "cross validation score  92.04361940595415\n",
      "[0.79264556 0.92390194 0.92492339 0.93667007 0.94024515 0.94994893\n",
      " 0.91981614 0.95247828 0.9407256 ]\n",
      " At cv = 9\n",
      "cross validation score  92.01505620181307\n"
     ]
    }
   ],
   "source": [
    "knn=KNeighborsClassifier()\n",
    "model_selection(knn,x_train, x_test, y_train, y_test)\n",
    "model_cv(knn,trainx,trainy)"
   ]
  },
  {
   "cell_type": "code",
   "execution_count": 113,
   "id": "5e6e0115",
   "metadata": {},
   "outputs": [
    {
     "name": "stdout",
     "output_type": "stream",
     "text": [
      "Accuracy Score 96.70726206585476\n",
      "confusion_matrix [[1061    8    1    0]\n",
      " [  12  703   12    0]\n",
      " [   0   18  270    7]\n",
      " [   0    1   14  110]]\n",
      "classification_report               precision    recall  f1-score   support\n",
      "\n",
      "           0       0.99      0.99      0.99      1070\n",
      "           1       0.96      0.97      0.96       727\n",
      "           2       0.91      0.92      0.91       295\n",
      "           3       0.94      0.88      0.91       125\n",
      "\n",
      "    accuracy                           0.97      2217\n",
      "   macro avg       0.95      0.94      0.94      2217\n",
      "weighted avg       0.97      0.97      0.97      2217\n",
      "\n",
      "[0.9323496  0.96640182 0.96208854 0.96708286]\n",
      " At cv = 4\n",
      "cross validation score  95.69807037457436\n",
      "[0.91912599 0.96736663 0.97701476 0.95828604 0.96821793]\n",
      " At cv = 5\n",
      "cross validation score  95.80022701475596\n",
      "[0.90875043 0.96731359 0.9710589  0.97412326 0.95265668 0.97036785]\n",
      " At cv = 6\n",
      "cross validation score  95.73784487869231\n",
      "[0.89634631 0.97020262 0.96980532 0.9765594  0.96066746 0.97179182\n",
      " 0.96980532]\n",
      " At cv = 7\n",
      "cross validation score  95.93111784830812\n",
      "[0.876532   0.98093509 0.96368588 0.97276441 0.97683924 0.95186194\n",
      " 0.97138965 0.96684832]\n",
      " At cv = 8\n",
      "cross validation score  95.76070664517835\n",
      "[0.86925434 0.97803882 0.96731359 0.97139939 0.97497446 0.97497446\n",
      " 0.9494382  0.96985181 0.9703628 ]\n",
      " At cv = 9\n",
      "cross validation score  95.84008747369315\n"
     ]
    }
   ],
   "source": [
    "rf= RandomForestClassifier(random_state=199)\n",
    "model_selection(rf,x_train, x_test, y_train, y_test)\n",
    "model_cv(rf,trainx,trainy)"
   ]
  },
  {
   "cell_type": "code",
   "execution_count": 114,
   "id": "8250eec8",
   "metadata": {},
   "outputs": [
    {
     "name": "stdout",
     "output_type": "stream",
     "text": [
      "Accuracy Score 89.44519621109607\n",
      "confusion_matrix [[971  96   3   0]\n",
      " [  7 700  18   2]\n",
      " [  0  60 225  10]\n",
      " [  0   7  31  87]]\n",
      "classification_report               precision    recall  f1-score   support\n",
      "\n",
      "           0       0.99      0.91      0.95      1070\n",
      "           1       0.81      0.96      0.88       727\n",
      "           2       0.81      0.76      0.79       295\n",
      "           3       0.88      0.70      0.78       125\n",
      "\n",
      "    accuracy                           0.89      2217\n",
      "   macro avg       0.87      0.83      0.85      2217\n",
      "weighted avg       0.90      0.89      0.89      2217\n",
      "\n",
      "[0.64585698 0.69875142 0.70964813 0.70715096]\n",
      " At cv = 4\n",
      "cross validation score  69.03518728717366\n",
      "[0.64472191 0.68870602 0.72531215 0.70601589 0.70289444]\n",
      " At cv = 5\n",
      "cross validation score  69.35300794551645\n",
      "[0.65168539 0.6721144  0.71229145 0.7320395  0.6876703  0.70538147]\n",
      " At cv = 6\n",
      "cross validation score  69.35304194626669\n",
      "[0.63899921 0.66865316 0.71553437 0.7306317  0.70003973 0.71871275\n",
      " 0.69964243]\n",
      " At cv = 7\n",
      "cross validation score  69.60304785058335\n",
      "[0.60236042 0.69768498 0.68769859 0.722197   0.73297003 0.69255223\n",
      " 0.71253406 0.70254314]\n",
      " At cv = 8\n",
      "cross validation score  69.38175555750703\n",
      "[0.59805924 0.69509704 0.68845761 0.71144025 0.72829418 0.73595506\n",
      " 0.68641471 0.71589167 0.69749617]\n",
      " At cv = 9\n",
      "cross validation score  69.52339909112773\n"
     ]
    }
   ],
   "source": [
    "sv=SVC()\n",
    "model_selection(sv,x_train, x_test, y_train, y_test)\n",
    "model_cv(sv,trainx,trainy)"
   ]
  },
  {
   "cell_type": "code",
   "execution_count": 115,
   "id": "6724f248",
   "metadata": {},
   "outputs": [
    {
     "name": "stdout",
     "output_type": "stream",
     "text": [
      "Accuracy Score 96.66215606675688\n",
      "confusion_matrix [[1063    7    0    0]\n",
      " [  10  700   17    0]\n",
      " [   0   18  267   10]\n",
      " [   0    0   12  113]]\n",
      "classification_report               precision    recall  f1-score   support\n",
      "\n",
      "           0       0.99      0.99      0.99      1070\n",
      "           1       0.97      0.96      0.96       727\n",
      "           2       0.90      0.91      0.90       295\n",
      "           3       0.92      0.90      0.91       125\n",
      "\n",
      "    accuracy                           0.97      2217\n",
      "   macro avg       0.94      0.94      0.94      2217\n",
      "weighted avg       0.97      0.97      0.97      2217\n",
      "\n",
      "[0.92780931 0.95141884 0.95414302 0.9523269 ]\n",
      " At cv = 4\n",
      "cross validation score  94.64245175936436\n",
      "[0.92167991 0.95885358 0.9631101  0.94296254 0.95715096]\n",
      " At cv = 5\n",
      "cross validation score  94.87514188422249\n",
      "[0.90534559 0.96186585 0.96867552 0.9628873  0.94584469 0.95810627]\n",
      " At cv = 6\n",
      "cross validation score  95.04542021878152\n",
      "[0.89158062 0.96066746 0.95669448 0.96583234 0.9511323  0.96265395\n",
      " 0.95629718]\n",
      " At cv = 7\n",
      "cross validation score  94.92654758715285\n",
      "[0.88833409 0.97321834 0.95869269 0.96640944 0.96276113 0.94096276\n",
      " 0.96594005 0.95640327]\n",
      " At cv = 8\n",
      "cross validation score  95.15902216983446\n",
      "[0.88151175 0.96424923 0.96271706 0.96629213 0.96373851 0.96271706\n",
      " 0.93973442 0.96320899 0.95758815]\n",
      " At cv = 9\n",
      "cross validation score  95.13063668788149\n"
     ]
    }
   ],
   "source": [
    "# model dtc\n",
    "dtc=DecisionTreeClassifier(random_state=199, max_depth=15)\n",
    "model_selection(dtc,x_train, x_test, y_train, y_test)\n",
    "model_cv(dtc,trainx,trainy)"
   ]
  },
  {
   "cell_type": "code",
   "execution_count": 116,
   "id": "a0a3d4a2",
   "metadata": {},
   "outputs": [
    {
     "name": "stdout",
     "output_type": "stream",
     "text": [
      "Accuracy Score 79.92783040144339\n",
      "confusion_matrix [[1036   34    0    0]\n",
      " [  14  674   37    2]\n",
      " [   0  244   41   10]\n",
      " [   0   94   10   21]]\n",
      "classification_report               precision    recall  f1-score   support\n",
      "\n",
      "           0       0.99      0.97      0.98      1070\n",
      "           1       0.64      0.93      0.76       727\n",
      "           2       0.47      0.14      0.21       295\n",
      "           3       0.64      0.17      0.27       125\n",
      "\n",
      "    accuracy                           0.80      2217\n",
      "   macro avg       0.68      0.55      0.55      2217\n",
      "weighted avg       0.79      0.80      0.76      2217\n",
      "\n",
      "[0.56730988 0.62497162 0.7816118  0.75096481]\n",
      " At cv = 4\n",
      "cross validation score  68.12145289443814\n",
      "[0.62684449 0.60811578 0.72275823 0.7068672  0.58030647]\n",
      " At cv = 5\n",
      "cross validation score  64.89784335981838\n",
      "[0.47735785 0.6019748  0.78787879 0.61457269 0.70197548 0.71764305]\n",
      " At cv = 6\n",
      "cross validation score  65.02337770133134\n",
      "[0.51747419 0.57926103 0.62216925 0.59157727 0.77632102 0.55701232\n",
      " 0.57449344]\n",
      " At cv = 7\n",
      "cross validation score  60.26155017772936\n",
      "[0.51475261 0.77576033 0.64139809 0.65955515 0.60490463 0.76612171\n",
      " 0.68165304 0.57084469]\n",
      " At cv = 8\n",
      "cross validation score  65.18737814383243\n",
      "[0.51991828 0.76813075 0.62002043 0.78804903 0.75995914 0.61797753\n",
      " 0.62768131 0.72866633 0.70822688]\n",
      " At cv = 9\n",
      "cross validation score  68.20699632961005\n"
     ]
    }
   ],
   "source": [
    "from sklearn.ensemble import AdaBoostClassifier\n",
    "ad=AdaBoostClassifier()\n",
    "model_selection(ad,x_train, x_test, y_train, y_test)\n",
    "model_cv(ad,trainx,trainy)"
   ]
  },
  {
   "cell_type": "code",
   "execution_count": 117,
   "id": "91a7f900",
   "metadata": {},
   "outputs": [
    {
     "name": "stdout",
     "output_type": "stream",
     "text": [
      "Accuracy Score 97.42895805142085\n",
      "confusion_matrix [[1068    2    0    0]\n",
      " [  13  707    7    0]\n",
      " [   0   18  272    5]\n",
      " [   0    1   11  113]]\n",
      "classification_report               precision    recall  f1-score   support\n",
      "\n",
      "           0       0.99      1.00      0.99      1070\n",
      "           1       0.97      0.97      0.97       727\n",
      "           2       0.94      0.92      0.93       295\n",
      "           3       0.96      0.90      0.93       125\n",
      "\n",
      "    accuracy                           0.97      2217\n",
      "   macro avg       0.96      0.95      0.96      2217\n",
      "weighted avg       0.97      0.97      0.97      2217\n",
      "\n",
      "[0.91827469 0.94755959 0.95028377 0.95209989]\n",
      " At cv = 4\n",
      "cross validation score  94.20544835414302\n",
      "[0.9046538  0.9523269  0.96112372 0.94580023 0.95090806]\n",
      " At cv = 5\n",
      "cross validation score  94.29625425652667\n",
      "[0.89036432 0.95335376 0.95812053 0.95812053 0.9390327  0.95299728]\n",
      " At cv = 6\n",
      "cross validation score  94.1998185788943\n",
      "[0.87807784 0.95669448 0.95709178 0.95709178 0.94517282 0.95669448\n",
      " 0.9523242 ]\n",
      " At cv = 7\n",
      "cross validation score  94.33067666814486\n",
      "[0.8610985  0.97049478 0.94325919 0.95506128 0.96049046 0.94050863\n",
      " 0.95413261 0.94959128]\n",
      " At cv = 8\n",
      "cross validation score  94.18295916352196\n",
      "[0.85342186 0.96424923 0.94892748 0.96016343 0.9514811  0.96220633\n",
      " 0.9371808  0.95401124 0.94941237]\n",
      " At cv = 9\n",
      "cross validation score  94.23393158329112\n"
     ]
    }
   ],
   "source": [
    "gbc=GradientBoostingClassifier()\n",
    "model_selection(gbc,x_train, x_test, y_train, y_test)\n",
    "model_cv(gbc,trainx,trainy)"
   ]
  },
  {
   "cell_type": "code",
   "execution_count": null,
   "id": "2c904cc8",
   "metadata": {},
   "outputs": [],
   "source": []
  },
  {
   "cell_type": "markdown",
   "id": "8ea44f2c",
   "metadata": {},
   "source": [
    "# Compare All Model Performance\n"
   ]
  },
  {
   "cell_type": "code",
   "execution_count": 124,
   "id": "497ac37f",
   "metadata": {},
   "outputs": [
    {
     "data": {
      "text/html": [
       "<div>\n",
       "<style scoped>\n",
       "    .dataframe tbody tr th:only-of-type {\n",
       "        vertical-align: middle;\n",
       "    }\n",
       "\n",
       "    .dataframe tbody tr th {\n",
       "        vertical-align: top;\n",
       "    }\n",
       "\n",
       "    .dataframe thead th {\n",
       "        text-align: right;\n",
       "    }\n",
       "</style>\n",
       "<table border=\"1\" class=\"dataframe\">\n",
       "  <thead>\n",
       "    <tr style=\"text-align: right;\">\n",
       "      <th></th>\n",
       "      <th>Model</th>\n",
       "      <th>Model accuracy</th>\n",
       "      <th>Cross validation</th>\n",
       "    </tr>\n",
       "  </thead>\n",
       "  <tbody>\n",
       "    <tr>\n",
       "      <th>0</th>\n",
       "      <td>RandomForest classifier</td>\n",
       "      <td>96</td>\n",
       "      <td>96</td>\n",
       "    </tr>\n",
       "    <tr>\n",
       "      <th>1</th>\n",
       "      <td>DecisionTree classifier</td>\n",
       "      <td>96</td>\n",
       "      <td>95</td>\n",
       "    </tr>\n",
       "    <tr>\n",
       "      <th>2</th>\n",
       "      <td>KNeighbour classifier</td>\n",
       "      <td>86</td>\n",
       "      <td>92</td>\n",
       "    </tr>\n",
       "    <tr>\n",
       "      <th>3</th>\n",
       "      <td>svm</td>\n",
       "      <td>89</td>\n",
       "      <td>69</td>\n",
       "    </tr>\n",
       "    <tr>\n",
       "      <th>4</th>\n",
       "      <td>AdaBoostClassifier</td>\n",
       "      <td>79</td>\n",
       "      <td>68</td>\n",
       "    </tr>\n",
       "    <tr>\n",
       "      <th>5</th>\n",
       "      <td>GradientBoostingClassifier</td>\n",
       "      <td>97</td>\n",
       "      <td>94</td>\n",
       "    </tr>\n",
       "  </tbody>\n",
       "</table>\n",
       "</div>"
      ],
      "text/plain": [
       "                        Model  Model accuracy  Cross validation\n",
       "0     RandomForest classifier              96                96\n",
       "1     DecisionTree classifier              96                95\n",
       "2       KNeighbour classifier              86                92\n",
       "3                         svm              89                69\n",
       "4          AdaBoostClassifier              79                68\n",
       "5  GradientBoostingClassifier              97                94"
      ]
     },
     "execution_count": 124,
     "metadata": {},
     "output_type": "execute_result"
    }
   ],
   "source": [
    "results = pd.DataFrame({\n",
    "\n",
    "    'Model': [\"RandomForest classifier\",\"DecisionTree classifier\",\"KNeighbour classifier\",\"svm\",\"AdaBoostClassifier\",\"GradientBoostingClassifier\"],\n",
    "\n",
    "    'Model accuracy': [96,96,86,89,79,97],\n",
    "\n",
    "     \"Cross validation\":[96,95,92,69,68,94],\n",
    "    \n",
    "  \n",
    "    \n",
    "    })\n",
    "\n",
    "results"
   ]
  },
  {
   "cell_type": "markdown",
   "id": "b071b4f0",
   "metadata": {},
   "source": [
    "# Hyper Parameter Tuning For Best Model\n",
    "\n",
    "Choosing best model as RandomForest classifier\" Model\n",
    "\n",
    "minimum difference between cross validation and Accuracy score is 0\n"
   ]
  },
  {
   "cell_type": "code",
   "execution_count": 121,
   "id": "9e713a41",
   "metadata": {},
   "outputs": [],
   "source": [
    "parameter = {'criterion':['gini','entropy'],\n",
    "             'max_depth': [10,15,20,25],\n",
    "             'n_estimators':[100,200,300,400],\n",
    "             'max_features': [\"auto\",\"sqrt\",\"log2\"]}"
   ]
  },
  {
   "cell_type": "code",
   "execution_count": 123,
   "id": "33f72a37",
   "metadata": {},
   "outputs": [
    {
     "data": {
      "text/plain": [
       "{'criterion': 'gini',\n",
       " 'max_depth': 15,\n",
       " 'max_features': 'auto',\n",
       " 'n_estimators': 100}"
      ]
     },
     "execution_count": 123,
     "metadata": {},
     "output_type": "execute_result"
    }
   ],
   "source": [
    "gcv=GridSearchCV(RandomForestClassifier(),parameter,cv=5)\n",
    "gcv.fit(x_train,y_train)\n",
    "gcv.best_params_"
   ]
  },
  {
   "cell_type": "code",
   "execution_count": 127,
   "id": "2d7c0907",
   "metadata": {},
   "outputs": [
    {
     "name": "stdout",
     "output_type": "stream",
     "text": [
      "96.62337662337663\n"
     ]
    }
   ],
   "source": [
    "final_model1=RandomForestClassifier(criterion=\"gini\", max_depth=15 , max_features=\"auto\" ,n_estimators=100)\n",
    "final_model1.fit(x_train,y_train)\n",
    "pred1=final_model1.predict(x_test)\n",
    "acc=accuracy_score(y_test,pred1)\n",
    "\n",
    "print(acc*100)"
   ]
  },
  {
   "cell_type": "markdown",
   "id": "79613ba3",
   "metadata": {},
   "source": [
    "# Confusion_matrix for Best model"
   ]
  },
  {
   "cell_type": "code",
   "execution_count": 128,
   "id": "4492faed",
   "metadata": {},
   "outputs": [
    {
     "data": {
      "image/png": "[encoded data removed]",
      "text/plain": [
       "<Figure size 504x360 with 2 Axes>"
      ]
     },
     "metadata": {
      "needs_background": "light"
     },
     "output_type": "display_data"
    }
   ],
   "source": [
    "cm= confusion_matrix(y_test,pred1)\n",
    "\n",
    "x_axis_labels= [\"Yes\",\"No\"]\n",
    "y_axis_labels=[\"Yes\",\"No\"]\n",
    "\n",
    "f,ax=plt.subplots(figsize=(7,5))\n",
    "sns.heatmap(cm, annot=True, linewidth=0.2, linecolor=\"black\", fmt=\".0f\")\n",
    "plt.xlabel(\"Predicted\")\n",
    "plt.ylabel(\"Actual\")\n",
    "plt.title(\"Confusion Matrix for RFC\")\n",
    "plt.show()"
   ]
  },
  {
   "cell_type": "markdown",
   "id": "2cefd792",
   "metadata": {},
   "source": [
    "# Saving ,Loading and Prediction of the best Classification ML model"
   ]
  },
  {
   "cell_type": "code",
   "execution_count": 129,
   "id": "e222f129",
   "metadata": {},
   "outputs": [],
   "source": [
    "import pickle\n",
    "filename_1=\"Price_range.pkl\"\n",
    "pickle.dump(final_model1,open(filename_1,\"wb\"))"
   ]
  },
  {
   "cell_type": "code",
   "execution_count": 131,
   "id": "37c426dc",
   "metadata": {},
   "outputs": [
    {
     "name": "stdout",
     "output_type": "stream",
     "text": [
      "96.62337662337663\n"
     ]
    }
   ],
   "source": [
    "loaded_model=pickle.load(open(\"Price_range.pkl\",\"rb\"))\n",
    "result=final_model1.score(x_test,y_test)\n",
    "print(result*100)"
   ]
  },
  {
   "cell_type": "code",
   "execution_count": 132,
   "id": "f2a764fc",
   "metadata": {},
   "outputs": [],
   "source": [
    "conclusion1=pd.DataFrame([loaded_model.predict(x_test)[:],pred1[:]],index=[\"predicted\",\"original\"])"
   ]
  },
  {
   "cell_type": "code",
   "execution_count": 134,
   "id": "0ec02838",
   "metadata": {},
   "outputs": [
    {
     "data": {
      "text/html": [
       "<div>\n",
       "<style scoped>\n",
       "    .dataframe tbody tr th:only-of-type {\n",
       "        vertical-align: middle;\n",
       "    }\n",
       "\n",
       "    .dataframe tbody tr th {\n",
       "        vertical-align: top;\n",
       "    }\n",
       "\n",
       "    .dataframe thead th {\n",
       "        text-align: right;\n",
       "    }\n",
       "</style>\n",
       "<table border=\"1\" class=\"dataframe\">\n",
       "  <thead>\n",
       "    <tr style=\"text-align: right;\">\n",
       "      <th></th>\n",
       "      <th>predicted</th>\n",
       "      <th>original</th>\n",
       "    </tr>\n",
       "  </thead>\n",
       "  <tbody>\n",
       "    <tr>\n",
       "      <th>0</th>\n",
       "      <td>1</td>\n",
       "      <td>1</td>\n",
       "    </tr>\n",
       "    <tr>\n",
       "      <th>1</th>\n",
       "      <td>0</td>\n",
       "      <td>0</td>\n",
       "    </tr>\n",
       "    <tr>\n",
       "      <th>2</th>\n",
       "      <td>0</td>\n",
       "      <td>0</td>\n",
       "    </tr>\n",
       "    <tr>\n",
       "      <th>3</th>\n",
       "      <td>0</td>\n",
       "      <td>0</td>\n",
       "    </tr>\n",
       "    <tr>\n",
       "      <th>4</th>\n",
       "      <td>1</td>\n",
       "      <td>1</td>\n",
       "    </tr>\n",
       "    <tr>\n",
       "      <th>...</th>\n",
       "      <td>...</td>\n",
       "      <td>...</td>\n",
       "    </tr>\n",
       "    <tr>\n",
       "      <th>2305</th>\n",
       "      <td>2</td>\n",
       "      <td>2</td>\n",
       "    </tr>\n",
       "    <tr>\n",
       "      <th>2306</th>\n",
       "      <td>0</td>\n",
       "      <td>0</td>\n",
       "    </tr>\n",
       "    <tr>\n",
       "      <th>2307</th>\n",
       "      <td>1</td>\n",
       "      <td>1</td>\n",
       "    </tr>\n",
       "    <tr>\n",
       "      <th>2308</th>\n",
       "      <td>0</td>\n",
       "      <td>0</td>\n",
       "    </tr>\n",
       "    <tr>\n",
       "      <th>2309</th>\n",
       "      <td>1</td>\n",
       "      <td>1</td>\n",
       "    </tr>\n",
       "  </tbody>\n",
       "</table>\n",
       "<p>2310 rows × 2 columns</p>\n",
       "</div>"
      ],
      "text/plain": [
       "      predicted  original\n",
       "0             1         1\n",
       "1             0         0\n",
       "2             0         0\n",
       "3             0         0\n",
       "4             1         1\n",
       "...         ...       ...\n",
       "2305          2         2\n",
       "2306          0         0\n",
       "2307          1         1\n",
       "2308          0         0\n",
       "2309          1         1\n",
       "\n",
       "[2310 rows x 2 columns]"
      ]
     },
     "execution_count": 134,
     "metadata": {},
     "output_type": "execute_result"
    }
   ],
   "source": [
    "conclusion1.T"
   ]
  },
  {
   "cell_type": "markdown",
   "id": "40b8a9ca",
   "metadata": {},
   "source": [
    "# Model building For Average Cost for two prediction"
   ]
  },
  {
   "cell_type": "code",
   "execution_count": 100,
   "id": "8fb854aa",
   "metadata": {},
   "outputs": [],
   "source": [
    "a = df.drop('Average Cost for two', axis=1)\n",
    "b = df['Average Cost for two']"
   ]
  },
  {
   "cell_type": "markdown",
   "id": "89135616",
   "metadata": {},
   "source": [
    "# Feature Scaling"
   ]
  },
  {
   "cell_type": "code",
   "execution_count": 101,
   "id": "a1635395",
   "metadata": {},
   "outputs": [
    {
     "data": {
      "text/html": [
       "<div>\n",
       "<style scoped>\n",
       "    .dataframe tbody tr th:only-of-type {\n",
       "        vertical-align: middle;\n",
       "    }\n",
       "\n",
       "    .dataframe tbody tr th {\n",
       "        vertical-align: top;\n",
       "    }\n",
       "\n",
       "    .dataframe thead th {\n",
       "        text-align: right;\n",
       "    }\n",
       "</style>\n",
       "<table border=\"1\" class=\"dataframe\">\n",
       "  <thead>\n",
       "    <tr style=\"text-align: right;\">\n",
       "      <th></th>\n",
       "      <th>Currency</th>\n",
       "      <th>Has Table booking</th>\n",
       "      <th>Has Online delivery</th>\n",
       "      <th>Price range</th>\n",
       "      <th>Aggregate rating</th>\n",
       "      <th>Rating color</th>\n",
       "      <th>Rating text</th>\n",
       "      <th>Votes</th>\n",
       "      <th>Country</th>\n",
       "      <th>Cuisionescounter</th>\n",
       "    </tr>\n",
       "  </thead>\n",
       "  <tbody>\n",
       "    <tr>\n",
       "      <th>0</th>\n",
       "      <td>-4.954557</td>\n",
       "      <td>2.761277</td>\n",
       "      <td>-0.585476</td>\n",
       "      <td>1.370601</td>\n",
       "      <td>2.116510</td>\n",
       "      <td>2.210292</td>\n",
       "      <td>2.210292</td>\n",
       "      <td>1.295623</td>\n",
       "      <td>0.571201</td>\n",
       "      <td>1.032514</td>\n",
       "    </tr>\n",
       "    <tr>\n",
       "      <th>1</th>\n",
       "      <td>-4.954557</td>\n",
       "      <td>2.761277</td>\n",
       "      <td>-0.585476</td>\n",
       "      <td>1.370601</td>\n",
       "      <td>2.116510</td>\n",
       "      <td>2.210292</td>\n",
       "      <td>2.210292</td>\n",
       "      <td>2.687565</td>\n",
       "      <td>0.571201</td>\n",
       "      <td>-1.026051</td>\n",
       "    </tr>\n",
       "    <tr>\n",
       "      <th>2</th>\n",
       "      <td>-4.954557</td>\n",
       "      <td>2.761277</td>\n",
       "      <td>-0.585476</td>\n",
       "      <td>2.490778</td>\n",
       "      <td>1.201367</td>\n",
       "      <td>1.468738</td>\n",
       "      <td>1.468738</td>\n",
       "      <td>1.027003</td>\n",
       "      <td>0.571201</td>\n",
       "      <td>2.061796</td>\n",
       "    </tr>\n",
       "    <tr>\n",
       "      <th>3</th>\n",
       "      <td>-4.954557</td>\n",
       "      <td>-0.362151</td>\n",
       "      <td>-0.585476</td>\n",
       "      <td>2.490778</td>\n",
       "      <td>2.116510</td>\n",
       "      <td>2.210292</td>\n",
       "      <td>2.210292</td>\n",
       "      <td>1.588663</td>\n",
       "      <td>0.571201</td>\n",
       "      <td>0.003231</td>\n",
       "    </tr>\n",
       "    <tr>\n",
       "      <th>4</th>\n",
       "      <td>-4.954557</td>\n",
       "      <td>2.761277</td>\n",
       "      <td>-0.585476</td>\n",
       "      <td>2.490778</td>\n",
       "      <td>2.116510</td>\n",
       "      <td>2.210292</td>\n",
       "      <td>2.210292</td>\n",
       "      <td>0.782802</td>\n",
       "      <td>0.571201</td>\n",
       "      <td>0.003231</td>\n",
       "    </tr>\n",
       "  </tbody>\n",
       "</table>\n",
       "</div>"
      ],
      "text/plain": [
       "   Currency  Has Table booking  Has Online delivery  Price range  \\\n",
       "0 -4.954557           2.761277            -0.585476     1.370601   \n",
       "1 -4.954557           2.761277            -0.585476     1.370601   \n",
       "2 -4.954557           2.761277            -0.585476     2.490778   \n",
       "3 -4.954557          -0.362151            -0.585476     2.490778   \n",
       "4 -4.954557           2.761277            -0.585476     2.490778   \n",
       "\n",
       "   Aggregate rating  Rating color  Rating text     Votes   Country  \\\n",
       "0          2.116510      2.210292     2.210292  1.295623  0.571201   \n",
       "1          2.116510      2.210292     2.210292  2.687565  0.571201   \n",
       "2          1.201367      1.468738     1.468738  1.027003  0.571201   \n",
       "3          2.116510      2.210292     2.210292  1.588663  0.571201   \n",
       "4          2.116510      2.210292     2.210292  0.782802  0.571201   \n",
       "\n",
       "   Cuisionescounter  \n",
       "0          1.032514  \n",
       "1         -1.026051  \n",
       "2          2.061796  \n",
       "3          0.003231  \n",
       "4          0.003231  "
      ]
     },
     "execution_count": 101,
     "metadata": {},
     "output_type": "execute_result"
    }
   ],
   "source": [
    "scaler = StandardScaler()\n",
    "a = pd.DataFrame(scaler.fit_transform(a), columns=a.columns)\n",
    "a.head() # Displaying all the features after applying scaling technique to avoid bias output"
   ]
  },
  {
   "cell_type": "markdown",
   "id": "3011aabe",
   "metadata": {},
   "source": [
    "# Finding the best random state for building Regression Models"
   ]
  },
  {
   "cell_type": "code",
   "execution_count": 102,
   "id": "c3ec5ace",
   "metadata": {},
   "outputs": [
    {
     "name": "stdout",
     "output_type": "stream",
     "text": [
      "testing accuracy  0.7098702711415841  random state = 0\n",
      " max accuracy score 0.7098702711415841  max random state = 0\n",
      "testing accuracy  0.7042546694495735  random state = 1\n",
      "testing accuracy  0.6888377429750862  random state = 2\n",
      "testing accuracy  0.7009067803927982  random state = 3\n",
      "testing accuracy  0.6901950859086246  random state = 4\n",
      "testing accuracy  0.6713690279563305  random state = 5\n",
      "testing accuracy  0.6994563696325193  random state = 6\n",
      "testing accuracy  0.6862773749687232  random state = 7\n",
      "testing accuracy  0.7079906442236976  random state = 8\n",
      "testing accuracy  0.711590788074449  random state = 9\n",
      " max accuracy score 0.711590788074449  max random state = 9\n",
      "testing accuracy  0.7000215072399041  random state = 10\n",
      "testing accuracy  0.7153408724945453  random state = 11\n",
      " max accuracy score 0.7153408724945453  max random state = 11\n",
      "testing accuracy  0.7037972427551709  random state = 12\n",
      "testing accuracy  0.7028425169596143  random state = 13\n",
      "testing accuracy  0.6917715143657897  random state = 14\n",
      "testing accuracy  0.6924401862833663  random state = 15\n",
      "testing accuracy  0.7225859560157214  random state = 16\n",
      " max accuracy score 0.7225859560157214  max random state = 16\n",
      "testing accuracy  0.7015858098370553  random state = 17\n",
      "testing accuracy  0.7131042250101588  random state = 18\n",
      "testing accuracy  0.7033194558213893  random state = 19\n",
      "testing accuracy  0.7156965929956705  random state = 20\n",
      "testing accuracy  0.6903685117405649  random state = 21\n",
      "testing accuracy  0.6860002877620381  random state = 22\n",
      "testing accuracy  0.7241031371032283  random state = 23\n",
      " max accuracy score 0.7241031371032283  max random state = 23\n",
      "testing accuracy  0.7169226689728068  random state = 24\n",
      "testing accuracy  0.6965423209217825  random state = 25\n",
      "testing accuracy  0.682069320454147  random state = 26\n",
      "testing accuracy  0.6926947421149832  random state = 27\n",
      "testing accuracy  0.693786842616568  random state = 28\n",
      "testing accuracy  0.7032154212081176  random state = 29\n",
      "testing accuracy  0.6888319914837666  random state = 30\n",
      "testing accuracy  0.7121711910349462  random state = 31\n",
      "testing accuracy  0.6970113549104364  random state = 32\n",
      "testing accuracy  0.6790414263597759  random state = 33\n",
      "testing accuracy  0.7111434438024382  random state = 34\n",
      "testing accuracy  0.7033745324548696  random state = 35\n",
      "testing accuracy  0.6854583647152079  random state = 36\n",
      "testing accuracy  0.6950737261659006  random state = 37\n",
      "testing accuracy  0.7133861494708921  random state = 38\n",
      "testing accuracy  0.6857121813235411  random state = 39\n",
      "testing accuracy  0.6926820027178792  random state = 40\n",
      "testing accuracy  0.6787505370997007  random state = 41\n",
      "testing accuracy  0.6987475223092974  random state = 42\n",
      "testing accuracy  0.6950434196371181  random state = 43\n",
      "testing accuracy  0.7254118967590156  random state = 44\n",
      " max accuracy score 0.7254118967590156  max random state = 44\n",
      "testing accuracy  0.700158190764278  random state = 45\n",
      "testing accuracy  0.7037162293663981  random state = 46\n",
      "testing accuracy  0.7031244229049235  random state = 47\n",
      "testing accuracy  0.709732008558793  random state = 48\n",
      "testing accuracy  0.676307287939628  random state = 49\n",
      "testing accuracy  0.7060788529599248  random state = 50\n",
      "testing accuracy  0.6803549508936939  random state = 51\n",
      "testing accuracy  0.6985018039553041  random state = 52\n",
      "testing accuracy  0.6923282306629541  random state = 53\n",
      "testing accuracy  0.7064654486109696  random state = 54\n",
      "testing accuracy  0.6974025370504711  random state = 55\n",
      "testing accuracy  0.7051206201624147  random state = 56\n",
      "testing accuracy  0.7118184782490026  random state = 57\n",
      "testing accuracy  0.699592112083858  random state = 58\n",
      "testing accuracy  0.723545776003508  random state = 59\n",
      "testing accuracy  0.7188408633497521  random state = 60\n",
      "testing accuracy  0.6739127483488977  random state = 61\n",
      "testing accuracy  0.6895576816519856  random state = 62\n",
      "testing accuracy  0.6923242254783077  random state = 63\n",
      "testing accuracy  0.697359839683249  random state = 64\n",
      "testing accuracy  0.6931197865024314  random state = 65\n",
      "testing accuracy  0.6872963194024705  random state = 66\n",
      "testing accuracy  0.7186788055603615  random state = 67\n",
      "testing accuracy  0.6919694090203538  random state = 68\n",
      "testing accuracy  0.7162678003094003  random state = 69\n",
      "testing accuracy  0.6965316403734567  random state = 70\n",
      "testing accuracy  0.6845461598454547  random state = 71\n",
      "testing accuracy  0.7191352382087707  random state = 72\n",
      "testing accuracy  0.6936365927041628  random state = 73\n",
      "testing accuracy  0.7016846127053551  random state = 74\n",
      "testing accuracy  0.7036686184816217  random state = 75\n",
      "testing accuracy  0.6703101446893927  random state = 76\n",
      "testing accuracy  0.7165166000321108  random state = 77\n",
      "testing accuracy  0.719087411961228  random state = 78\n",
      "testing accuracy  0.7008319745044027  random state = 79\n",
      "testing accuracy  0.6926397442989921  random state = 80\n",
      "testing accuracy  0.7146321094218349  random state = 81\n",
      "testing accuracy  0.6911785735189502  random state = 82\n",
      "testing accuracy  0.686999725935656  random state = 83\n",
      "testing accuracy  0.6862704747831129  random state = 84\n",
      "testing accuracy  0.6830882150886792  random state = 85\n",
      "testing accuracy  0.6832919920254397  random state = 86\n",
      "testing accuracy  0.7225194412656908  random state = 87\n",
      "testing accuracy  0.718157658147887  random state = 88\n",
      "testing accuracy  0.7255266879530466  random state = 89\n",
      " max accuracy score 0.7255266879530466  max random state = 89\n",
      "testing accuracy  0.7203077506716797  random state = 90\n",
      "testing accuracy  0.6931950426642896  random state = 91\n",
      "testing accuracy  0.6811760329481267  random state = 92\n",
      "testing accuracy  0.6946293102238623  random state = 93\n",
      "testing accuracy  0.7118975290106  random state = 94\n",
      "testing accuracy  0.7064364932153935  random state = 95\n",
      "testing accuracy  0.6768858668795885  random state = 96\n",
      "testing accuracy  0.6943853857251889  random state = 97\n",
      "testing accuracy  0.7173134371980802  random state = 98\n",
      "testing accuracy  0.7170509501002384  random state = 99\n"
     ]
    }
   ],
   "source": [
    "max_accu=0 #maxi accuracy define as 0\n",
    "max_rs=0# best random state for which max accurecy achived\n",
    "\n",
    "lr=LinearRegression()\n",
    " \n",
    "for i in range(0,100):\n",
    "    a_train, a_test, b_train, b_test = train_test_split( a, b, test_size=.25, random_state=i)\n",
    "    \n",
    "    lr.fit(a_train,b_train)\n",
    "\n",
    "    predlr=lr.predict(a_test)# predicted target variable\n",
    "    \n",
    "    acc=r2_score(b_test,predlr)# accuracy score\n",
    "    \n",
    "    print(\"testing accuracy \",acc, \" random state =\", i)\n",
    "    if acc>max_accu:\n",
    "        max_accu=acc\n",
    "        max_rs=i\n",
    "        print(\" max accuracy score\",acc, \" max random state =\",i)"
   ]
  },
  {
   "cell_type": "code",
   "execution_count": 103,
   "id": "c40c0fa8",
   "metadata": {},
   "outputs": [],
   "source": [
    "# Regression Model Function\n",
    "\n",
    "def reg(model, a, b):\n",
    "    a_train, a_test, b_train, b_test = train_test_split( a, b, test_size=.25, random_state=i)\n",
    "    \n",
    "    # Training the model\n",
    "    model.fit(a_train, b_train)\n",
    "    \n",
    "    # Predicting Y_test\n",
    "    pred = model.predict(a_test)\n",
    "    \n",
    "    # RMSE - a lower RMSE score is better than a higher one\n",
    "    rmse = mean_squared_error(b_test, pred, squared=False)\n",
    "    print(\"RMSE Score is:\", rmse)\n",
    "    \n",
    "    # R2 score\n",
    "    r2 = r2_score(b_test, pred, multioutput='variance_weighted')*100\n",
    "    print(\"R2 Score is:\", r2)\n",
    "    \n",
    "    # Cross Validation Score\n",
    "    cv_score = (cross_val_score(model, a, b, cv=9).mean())*100\n",
    "    print(\"Cross Validation Score:\", cv_score)\n",
    "    \n",
    "    # Result of r2 score minus cv score\n",
    "    result = r2 - cv_score\n",
    "    print(\"R2 Score - Cross Validation Score is\", result)"
   ]
  },
  {
   "cell_type": "code",
   "execution_count": 104,
   "id": "15fb5cfc",
   "metadata": {},
   "outputs": [
    {
     "name": "stdout",
     "output_type": "stream",
     "text": [
      "RMSE Score is: 10.894345286298373\n",
      "R2 Score is: 71.70509501002384\n",
      "Cross Validation Score: 24.864491182227322\n",
      "R2 Score - Cross Validation Score is 46.840603827796514\n"
     ]
    }
   ],
   "source": [
    "# Linear Regression Model\n",
    "\n",
    "model=LinearRegression()\n",
    "reg(model, a, b)"
   ]
  },
  {
   "cell_type": "code",
   "execution_count": 105,
   "id": "8def88f7",
   "metadata": {},
   "outputs": [
    {
     "name": "stdout",
     "output_type": "stream",
     "text": [
      "RMSE Score is: 10.900315512739859\n",
      "R2 Score is: 71.67407464625603\n",
      "Cross Validation Score: 26.524002374861027\n",
      "R2 Score - Cross Validation Score is 45.150072271395004\n"
     ]
    }
   ],
   "source": [
    "# Ridge Regression\n",
    "\n",
    "model=Ridge(alpha=1e-2, normalize=True)\n",
    "reg(model, a, b)"
   ]
  },
  {
   "cell_type": "code",
   "execution_count": 106,
   "id": "a46ee480",
   "metadata": {},
   "outputs": [
    {
     "name": "stdout",
     "output_type": "stream",
     "text": [
      "RMSE Score is: 11.01591916009342\n",
      "R2 Score is: 71.07006559439529\n",
      "Cross Validation Score: 30.359973926344917\n",
      "R2 Score - Cross Validation Score is 40.71009166805037\n"
     ]
    }
   ],
   "source": [
    "# Lasso Regression\n",
    "\n",
    "model=Lasso(alpha=1e-2, normalize=True)\n",
    "reg(model, a, b)"
   ]
  },
  {
   "cell_type": "code",
   "execution_count": 107,
   "id": "59193451",
   "metadata": {},
   "outputs": [
    {
     "name": "stdout",
     "output_type": "stream",
     "text": [
      "RMSE Score is: 8.803359044516307\n",
      "R2 Score is: 81.52421931624929\n",
      "Cross Validation Score: 49.18226254211556\n",
      "R2 Score - Cross Validation Score is 32.34195677413373\n"
     ]
    }
   ],
   "source": [
    "# Decision Tree Regressor\n",
    "\n",
    "model=DecisionTreeRegressor()\n",
    "reg(model, a, b)"
   ]
  },
  {
   "cell_type": "code",
   "execution_count": 108,
   "id": "ec0c2b4b",
   "metadata": {},
   "outputs": [
    {
     "name": "stdout",
     "output_type": "stream",
     "text": [
      "RMSE Score is: 13.265643073671182\n",
      "R2 Score is: 58.047042272609694\n",
      "Cross Validation Score: 36.05402300283238\n",
      "R2 Score - Cross Validation Score is 21.993019269777314\n"
     ]
    }
   ],
   "source": [
    "# Random Forest Regressor\n",
    "\n",
    "model=RandomForestRegressor(max_depth=2, max_features=\"sqrt\")\n",
    "reg(model, a, b)"
   ]
  },
  {
   "cell_type": "code",
   "execution_count": 109,
   "id": "ac954b82",
   "metadata": {},
   "outputs": [
    {
     "name": "stdout",
     "output_type": "stream",
     "text": [
      "RMSE Score is: 13.085734173586708\n",
      "R2 Score is: 59.17725953277137\n",
      "Cross Validation Score: 35.198025519879764\n",
      "R2 Score - Cross Validation Score is 23.97923401289161\n"
     ]
    }
   ],
   "source": [
    "# K Neighbors Regressor\n",
    "\n",
    "KNeighborsRegressor(n_neighbors=2, algorithm='kd_tree')\n",
    "reg(model, a, b)"
   ]
  },
  {
   "cell_type": "code",
   "execution_count": 110,
   "id": "fe47a835",
   "metadata": {},
   "outputs": [
    {
     "name": "stdout",
     "output_type": "stream",
     "text": [
      "RMSE Score is: 7.548643511008523\n",
      "R2 Score is: 86.41549554212105\n",
      "Cross Validation Score: 58.945876588714405\n",
      "R2 Score - Cross Validation Score is 27.469618953406645\n"
     ]
    }
   ],
   "source": [
    "# Gradient Boosting Regressor\n",
    "\n",
    "model=GradientBoostingRegressor()\n",
    "reg(model, a, b)"
   ]
  },
  {
   "cell_type": "code",
   "execution_count": 111,
   "id": "29c95dca",
   "metadata": {},
   "outputs": [
    {
     "name": "stdout",
     "output_type": "stream",
     "text": [
      "RMSE Score is: 8.279523176692669\n",
      "R2 Score is: 83.65757047008105\n",
      "Cross Validation Score: 64.6663580091005\n",
      "R2 Score - Cross Validation Score is 18.99121246098055\n"
     ]
    }
   ],
   "source": [
    "# Extra Trees Regressor\n",
    "\n",
    "model=ExtraTreesRegressor(n_estimators=400, max_features='sqrt', n_jobs=6)\n",
    "reg(model, a, b)"
   ]
  },
  {
   "cell_type": "markdown",
   "id": "c50062bf",
   "metadata": {},
   "source": [
    "# Hyper parameter tuning on the best Regression ML Model"
   ]
  },
  {
   "cell_type": "markdown",
   "id": "61417503",
   "metadata": {},
   "source": [
    "ExtraTreesRegressor is our best model and difference between CV and R2 score is minimum for this perticuler model"
   ]
  },
  {
   "cell_type": "code",
   "execution_count": 115,
   "id": "31c9abfb",
   "metadata": {},
   "outputs": [],
   "source": [
    "# Choosing Extra Trees Regressor\n",
    "\n",
    "param = {'criterion' : ['mse', 'mae'],\n",
    "              'n_estimators' : [100, 200],\n",
    "              'min_samples_split' : [2, 3],\n",
    "              'random_state' : [42, 135],\n",
    "              'n_jobs' : [-1, 1]\n",
    "             }"
   ]
  },
  {
   "cell_type": "markdown",
   "id": "fe1461f6",
   "metadata": {},
   "source": [
    "# Obtaining the Best Parameters for Hyper parameters tuning"
   ]
  },
  {
   "cell_type": "code",
   "execution_count": 116,
   "id": "6cba455d",
   "metadata": {},
   "outputs": [
    {
     "name": "stdout",
     "output_type": "stream",
     "text": [
      "RMSE Score is: 8.279523176692669\n",
      "R2 Score is: 83.65757047008105\n",
      "Cross Validation Score: 62.959265800371455\n",
      "R2 Score - Cross Validation Score is 20.6983046697096\n"
     ]
    }
   ],
   "source": [
    "et= ExtraTreesRegressor(criterion='mse', min_samples_split= 3, n_estimators= 100, n_jobs= -1, random_state= 135)\n",
    "#n_estimatorsint, default=100 The number of trees in the forest.\n",
    "\n",
    "# Training the model\n",
    "et.fit(a_train, b_train)\n",
    "    \n",
    "# Predicting b_test\n",
    "pred_et= model.predict(a_test)\n",
    "    \n",
    "# RMSE - a lower RMSE score is better than a higher one\n",
    "rmse = mean_squared_error(b_test, pred_et, squared=False)\n",
    "print(\"RMSE Score is:\", rmse)\n",
    "    \n",
    "# R2 score\n",
    "r2 = r2_score(b_test, pred_et, multioutput='variance_weighted')*100\n",
    "print(\"R2 Score is:\", r2)\n",
    "    \n",
    " # Cross Validation Score\n",
    "cv_score = (cross_val_score(et, a, b, cv=9).mean())*100\n",
    "print(\"Cross Validation Score:\", cv_score)\n",
    "    \n",
    "# Result of r2 score minus cv score\n",
    "result = r2 - cv_score\n",
    "print(\"R2 Score - Cross Validation Score is\", result)"
   ]
  },
  {
   "cell_type": "markdown",
   "id": "422a4722",
   "metadata": {},
   "source": [
    "I have successfully incorporated the Hyper Parameter Tuning on my Final Regression Model and received the R2 score for it."
   ]
  },
  {
   "cell_type": "markdown",
   "id": "3f297643",
   "metadata": {},
   "source": [
    "# Saving ,Loading and Conclusion the best Classification ML model"
   ]
  },
  {
   "cell_type": "code",
   "execution_count": 117,
   "id": "e4b3670d",
   "metadata": {},
   "outputs": [],
   "source": [
    "import pickle\n",
    "filename_2=\"Average_for_two.pkl\"\n",
    "pickle.dump(et,open(filename_2,\"wb\"))"
   ]
  },
  {
   "cell_type": "code",
   "execution_count": 119,
   "id": "c5231183",
   "metadata": {},
   "outputs": [
    {
     "name": "stdout",
     "output_type": "stream",
     "text": [
      "84.3314056538901\n"
     ]
    }
   ],
   "source": [
    "loaded_model=pickle.load(open(\"Average_for_two.pkl\",\"rb\"))\n",
    "result=loaded_model.score(a_test,b_test)\n",
    "print(result*100)"
   ]
  },
  {
   "cell_type": "code",
   "execution_count": 120,
   "id": "3c7543f9",
   "metadata": {},
   "outputs": [],
   "source": [
    "conclusion2=pd.DataFrame([loaded_model.predict(a_test)[:],pred_et[:]],index=[\"predicted\",\"original\"])"
   ]
  },
  {
   "cell_type": "code",
   "execution_count": 122,
   "id": "16edeefd",
   "metadata": {},
   "outputs": [
    {
     "data": {
      "text/html": [
       "<div>\n",
       "<style scoped>\n",
       "    .dataframe tbody tr th:only-of-type {\n",
       "        vertical-align: middle;\n",
       "    }\n",
       "\n",
       "    .dataframe tbody tr th {\n",
       "        vertical-align: top;\n",
       "    }\n",
       "\n",
       "    .dataframe thead th {\n",
       "        text-align: right;\n",
       "    }\n",
       "</style>\n",
       "<table border=\"1\" class=\"dataframe\">\n",
       "  <thead>\n",
       "    <tr style=\"text-align: right;\">\n",
       "      <th></th>\n",
       "      <th>predicted</th>\n",
       "      <th>original</th>\n",
       "    </tr>\n",
       "  </thead>\n",
       "  <tbody>\n",
       "    <tr>\n",
       "      <th>0</th>\n",
       "      <td>56.060000</td>\n",
       "      <td>53.032500</td>\n",
       "    </tr>\n",
       "    <tr>\n",
       "      <th>1</th>\n",
       "      <td>6.885000</td>\n",
       "      <td>7.105000</td>\n",
       "    </tr>\n",
       "    <tr>\n",
       "      <th>2</th>\n",
       "      <td>55.490000</td>\n",
       "      <td>53.606111</td>\n",
       "    </tr>\n",
       "    <tr>\n",
       "      <th>3</th>\n",
       "      <td>30.666667</td>\n",
       "      <td>30.666667</td>\n",
       "    </tr>\n",
       "    <tr>\n",
       "      <th>4</th>\n",
       "      <td>70.470000</td>\n",
       "      <td>70.316667</td>\n",
       "    </tr>\n",
       "    <tr>\n",
       "      <th>...</th>\n",
       "      <td>...</td>\n",
       "      <td>...</td>\n",
       "    </tr>\n",
       "    <tr>\n",
       "      <th>2305</th>\n",
       "      <td>61.000000</td>\n",
       "      <td>60.985000</td>\n",
       "    </tr>\n",
       "    <tr>\n",
       "      <th>2306</th>\n",
       "      <td>106.240000</td>\n",
       "      <td>99.500000</td>\n",
       "    </tr>\n",
       "    <tr>\n",
       "      <th>2307</th>\n",
       "      <td>35.444444</td>\n",
       "      <td>35.444444</td>\n",
       "    </tr>\n",
       "    <tr>\n",
       "      <th>2308</th>\n",
       "      <td>70.440000</td>\n",
       "      <td>65.975000</td>\n",
       "    </tr>\n",
       "    <tr>\n",
       "      <th>2309</th>\n",
       "      <td>6.995000</td>\n",
       "      <td>6.962500</td>\n",
       "    </tr>\n",
       "  </tbody>\n",
       "</table>\n",
       "<p>2310 rows × 2 columns</p>\n",
       "</div>"
      ],
      "text/plain": [
       "       predicted   original\n",
       "0      56.060000  53.032500\n",
       "1       6.885000   7.105000\n",
       "2      55.490000  53.606111\n",
       "3      30.666667  30.666667\n",
       "4      70.470000  70.316667\n",
       "...          ...        ...\n",
       "2305   61.000000  60.985000\n",
       "2306  106.240000  99.500000\n",
       "2307   35.444444  35.444444\n",
       "2308   70.440000  65.975000\n",
       "2309    6.995000   6.962500\n",
       "\n",
       "[2310 rows x 2 columns]"
      ]
     },
     "execution_count": 122,
     "metadata": {},
     "output_type": "execute_result"
    }
   ],
   "source": [
    "conclusion2.T"
   ]
  },
  {
   "cell_type": "code",
   "execution_count": null,
   "id": "c1253990",
   "metadata": {},
   "outputs": [],
   "source": []
  }
 ],
 "metadata": {
  "kernelspec": {
   "display_name": "Python 3 (ipykernel)",
   "language": "python",
   "name": "python3"
  },
  "language_info": {
   "codemirror_mode": {
    "name": "ipython",
    "version": 3
   },
   "file_extension": ".py",
   "mimetype": "text/x-python",
   "name": "python",
   "nbconvert_exporter": "python",
   "pygments_lexer": "ipython3",
   "version": "3.9.13"
  }
 },
 "nbformat": 4,
 "nbformat_minor": 5
}
