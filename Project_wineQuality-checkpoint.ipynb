{
 "cells": [
  {
   "cell_type": "markdown",
   "id": "9c43888f",
   "metadata": {},
   "source": [
    "# Wine Quality Project\n",
    "Use multiple machine learning algorithms to predict the wine quality."
   ]
  },
  {
   "cell_type": "markdown",
   "id": "fb07cbe8",
   "metadata": {},
   "source": [
    "# Description of Data\n",
    "\n",
    "The data includes information about red and white vinho verde wine samples, from the north of Portugal, with their 11 features: fixed acidity, volatile acidity, citric acid, residual sugar, chlorides, free sulfur dioxide, total sulfur dioxide, density, pH, sulphates, alcohol."
   ]
  },
  {
   "cell_type": "markdown",
   "id": "b7cf2f66",
   "metadata": {},
   "source": [
    "# Goal\n",
    "\n",
    "This project is the Machine Learning prediction project. In this project we used Decision Tree, Random Forest, Support Vector Classifier, KNN to predict wine quality.  We showed our models' performance on the test data.\n",
    "\n",
    "The learning outcome of this project is to understand the concept of some machine learning algorithms and implementation of them."
   ]
  },
  {
   "cell_type": "code",
   "execution_count": 1,
   "id": "e67e619c",
   "metadata": {},
   "outputs": [],
   "source": [
    "\n",
    "# install library\n",
    "\n",
    "import pandas as pd\n",
    "import numpy as np\n",
    "import seaborn as sns\n",
    "import matplotlib.pyplot as plt\n",
    "import warnings\n",
    "warnings.filterwarnings('ignore')"
   ]
  },
  {
   "cell_type": "code",
   "execution_count": 2,
   "id": "15b5d069",
   "metadata": {},
   "outputs": [],
   "source": [
    "# loading dataset\n",
    "\n",
    "data=pd.read_csv('winequality_red.csv')\n"
   ]
  },
  {
   "cell_type": "code",
   "execution_count": 3,
   "id": "6b96922e",
   "metadata": {},
   "outputs": [
    {
     "data": {
      "text/html": [
       "<div>\n",
       "<style scoped>\n",
       "    .dataframe tbody tr th:only-of-type {\n",
       "        vertical-align: middle;\n",
       "    }\n",
       "\n",
       "    .dataframe tbody tr th {\n",
       "        vertical-align: top;\n",
       "    }\n",
       "\n",
       "    .dataframe thead th {\n",
       "        text-align: right;\n",
       "    }\n",
       "</style>\n",
       "<table border=\"1\" class=\"dataframe\">\n",
       "  <thead>\n",
       "    <tr style=\"text-align: right;\">\n",
       "      <th></th>\n",
       "      <th>fixed acidity</th>\n",
       "      <th>volatile acidity</th>\n",
       "      <th>citric acid</th>\n",
       "      <th>residual sugar</th>\n",
       "      <th>chlorides</th>\n",
       "      <th>free sulfur dioxide</th>\n",
       "      <th>total sulfur dioxide</th>\n",
       "      <th>density</th>\n",
       "      <th>pH</th>\n",
       "      <th>sulphates</th>\n",
       "      <th>alcohol</th>\n",
       "      <th>quality</th>\n",
       "    </tr>\n",
       "  </thead>\n",
       "  <tbody>\n",
       "    <tr>\n",
       "      <th>0</th>\n",
       "      <td>7.4</td>\n",
       "      <td>0.70</td>\n",
       "      <td>0.00</td>\n",
       "      <td>1.9</td>\n",
       "      <td>0.076</td>\n",
       "      <td>11.0</td>\n",
       "      <td>34.0</td>\n",
       "      <td>0.9978</td>\n",
       "      <td>3.51</td>\n",
       "      <td>0.56</td>\n",
       "      <td>9.4</td>\n",
       "      <td>5</td>\n",
       "    </tr>\n",
       "    <tr>\n",
       "      <th>1</th>\n",
       "      <td>7.8</td>\n",
       "      <td>0.88</td>\n",
       "      <td>0.00</td>\n",
       "      <td>2.6</td>\n",
       "      <td>0.098</td>\n",
       "      <td>25.0</td>\n",
       "      <td>67.0</td>\n",
       "      <td>0.9968</td>\n",
       "      <td>3.20</td>\n",
       "      <td>0.68</td>\n",
       "      <td>9.8</td>\n",
       "      <td>5</td>\n",
       "    </tr>\n",
       "    <tr>\n",
       "      <th>2</th>\n",
       "      <td>7.8</td>\n",
       "      <td>0.76</td>\n",
       "      <td>0.04</td>\n",
       "      <td>2.3</td>\n",
       "      <td>0.092</td>\n",
       "      <td>15.0</td>\n",
       "      <td>54.0</td>\n",
       "      <td>0.9970</td>\n",
       "      <td>3.26</td>\n",
       "      <td>0.65</td>\n",
       "      <td>9.8</td>\n",
       "      <td>5</td>\n",
       "    </tr>\n",
       "    <tr>\n",
       "      <th>3</th>\n",
       "      <td>11.2</td>\n",
       "      <td>0.28</td>\n",
       "      <td>0.56</td>\n",
       "      <td>1.9</td>\n",
       "      <td>0.075</td>\n",
       "      <td>17.0</td>\n",
       "      <td>60.0</td>\n",
       "      <td>0.9980</td>\n",
       "      <td>3.16</td>\n",
       "      <td>0.58</td>\n",
       "      <td>9.8</td>\n",
       "      <td>6</td>\n",
       "    </tr>\n",
       "    <tr>\n",
       "      <th>4</th>\n",
       "      <td>7.4</td>\n",
       "      <td>0.70</td>\n",
       "      <td>0.00</td>\n",
       "      <td>1.9</td>\n",
       "      <td>0.076</td>\n",
       "      <td>11.0</td>\n",
       "      <td>34.0</td>\n",
       "      <td>0.9978</td>\n",
       "      <td>3.51</td>\n",
       "      <td>0.56</td>\n",
       "      <td>9.4</td>\n",
       "      <td>5</td>\n",
       "    </tr>\n",
       "  </tbody>\n",
       "</table>\n",
       "</div>"
      ],
      "text/plain": [
       "   fixed acidity  volatile acidity  citric acid  residual sugar  chlorides  \\\n",
       "0            7.4              0.70         0.00             1.9      0.076   \n",
       "1            7.8              0.88         0.00             2.6      0.098   \n",
       "2            7.8              0.76         0.04             2.3      0.092   \n",
       "3           11.2              0.28         0.56             1.9      0.075   \n",
       "4            7.4              0.70         0.00             1.9      0.076   \n",
       "\n",
       "   free sulfur dioxide  total sulfur dioxide  density    pH  sulphates  \\\n",
       "0                 11.0                  34.0   0.9978  3.51       0.56   \n",
       "1                 25.0                  67.0   0.9968  3.20       0.68   \n",
       "2                 15.0                  54.0   0.9970  3.26       0.65   \n",
       "3                 17.0                  60.0   0.9980  3.16       0.58   \n",
       "4                 11.0                  34.0   0.9978  3.51       0.56   \n",
       "\n",
       "   alcohol  quality  \n",
       "0      9.4        5  \n",
       "1      9.8        5  \n",
       "2      9.8        5  \n",
       "3      9.8        6  \n",
       "4      9.4        5  "
      ]
     },
     "execution_count": 3,
     "metadata": {},
     "output_type": "execute_result"
    }
   ],
   "source": [
    "data.head(5)"
   ]
  },
  {
   "cell_type": "code",
   "execution_count": 4,
   "id": "7f8ef267",
   "metadata": {},
   "outputs": [
    {
     "data": {
      "text/plain": [
       "Index(['fixed acidity', 'volatile acidity', 'citric acid', 'residual sugar',\n",
       "       'chlorides', 'free sulfur dioxide', 'total sulfur dioxide', 'density',\n",
       "       'pH', 'sulphates', 'alcohol', 'quality'],\n",
       "      dtype='object')"
      ]
     },
     "execution_count": 4,
     "metadata": {},
     "output_type": "execute_result"
    }
   ],
   "source": [
    "data.columns"
   ]
  },
  {
   "cell_type": "code",
   "execution_count": 5,
   "id": "03ca975f",
   "metadata": {},
   "outputs": [
    {
     "data": {
      "text/plain": [
       "(1599, 12)"
      ]
     },
     "execution_count": 5,
     "metadata": {},
     "output_type": "execute_result"
    }
   ],
   "source": [
    "data.shape"
   ]
  },
  {
   "cell_type": "code",
   "execution_count": 6,
   "id": "be6f3124",
   "metadata": {},
   "outputs": [
    {
     "data": {
      "text/plain": [
       "fixed acidity           float64\n",
       "volatile acidity        float64\n",
       "citric acid             float64\n",
       "residual sugar          float64\n",
       "chlorides               float64\n",
       "free sulfur dioxide     float64\n",
       "total sulfur dioxide    float64\n",
       "density                 float64\n",
       "pH                      float64\n",
       "sulphates               float64\n",
       "alcohol                 float64\n",
       "quality                   int64\n",
       "dtype: object"
      ]
     },
     "execution_count": 6,
     "metadata": {},
     "output_type": "execute_result"
    }
   ],
   "source": [
    "data.dtypes"
   ]
  },
  {
   "cell_type": "code",
   "execution_count": 7,
   "id": "85f92f56",
   "metadata": {},
   "outputs": [
    {
     "name": "stdout",
     "output_type": "stream",
     "text": [
      "<class 'pandas.core.frame.DataFrame'>\n",
      "RangeIndex: 1599 entries, 0 to 1598\n",
      "Data columns (total 12 columns):\n",
      " #   Column                Non-Null Count  Dtype  \n",
      "---  ------                --------------  -----  \n",
      " 0   fixed acidity         1599 non-null   float64\n",
      " 1   volatile acidity      1599 non-null   float64\n",
      " 2   citric acid           1599 non-null   float64\n",
      " 3   residual sugar        1599 non-null   float64\n",
      " 4   chlorides             1599 non-null   float64\n",
      " 5   free sulfur dioxide   1599 non-null   float64\n",
      " 6   total sulfur dioxide  1599 non-null   float64\n",
      " 7   density               1599 non-null   float64\n",
      " 8   pH                    1599 non-null   float64\n",
      " 9   sulphates             1599 non-null   float64\n",
      " 10  alcohol               1599 non-null   float64\n",
      " 11  quality               1599 non-null   int64  \n",
      "dtypes: float64(11), int64(1)\n",
      "memory usage: 150.0 KB\n"
     ]
    }
   ],
   "source": [
    "data.info()"
   ]
  },
  {
   "cell_type": "code",
   "execution_count": 8,
   "id": "ff6a00a7",
   "metadata": {},
   "outputs": [
    {
     "data": {
      "text/html": [
       "<div>\n",
       "<style scoped>\n",
       "    .dataframe tbody tr th:only-of-type {\n",
       "        vertical-align: middle;\n",
       "    }\n",
       "\n",
       "    .dataframe tbody tr th {\n",
       "        vertical-align: top;\n",
       "    }\n",
       "\n",
       "    .dataframe thead th {\n",
       "        text-align: right;\n",
       "    }\n",
       "</style>\n",
       "<table border=\"1\" class=\"dataframe\">\n",
       "  <thead>\n",
       "    <tr style=\"text-align: right;\">\n",
       "      <th></th>\n",
       "      <th>fixed acidity</th>\n",
       "      <th>volatile acidity</th>\n",
       "      <th>citric acid</th>\n",
       "      <th>residual sugar</th>\n",
       "      <th>chlorides</th>\n",
       "      <th>free sulfur dioxide</th>\n",
       "      <th>total sulfur dioxide</th>\n",
       "      <th>density</th>\n",
       "      <th>pH</th>\n",
       "      <th>sulphates</th>\n",
       "      <th>alcohol</th>\n",
       "      <th>quality</th>\n",
       "    </tr>\n",
       "  </thead>\n",
       "  <tbody>\n",
       "    <tr>\n",
       "      <th>count</th>\n",
       "      <td>1599.000000</td>\n",
       "      <td>1599.000000</td>\n",
       "      <td>1599.000000</td>\n",
       "      <td>1599.000000</td>\n",
       "      <td>1599.000000</td>\n",
       "      <td>1599.000000</td>\n",
       "      <td>1599.000000</td>\n",
       "      <td>1599.000000</td>\n",
       "      <td>1599.000000</td>\n",
       "      <td>1599.000000</td>\n",
       "      <td>1599.000000</td>\n",
       "      <td>1599.000000</td>\n",
       "    </tr>\n",
       "    <tr>\n",
       "      <th>mean</th>\n",
       "      <td>8.319637</td>\n",
       "      <td>0.527821</td>\n",
       "      <td>0.270976</td>\n",
       "      <td>2.538806</td>\n",
       "      <td>0.087467</td>\n",
       "      <td>15.874922</td>\n",
       "      <td>46.467792</td>\n",
       "      <td>0.996747</td>\n",
       "      <td>3.311113</td>\n",
       "      <td>0.658149</td>\n",
       "      <td>10.422983</td>\n",
       "      <td>5.636023</td>\n",
       "    </tr>\n",
       "    <tr>\n",
       "      <th>std</th>\n",
       "      <td>1.741096</td>\n",
       "      <td>0.179060</td>\n",
       "      <td>0.194801</td>\n",
       "      <td>1.409928</td>\n",
       "      <td>0.047065</td>\n",
       "      <td>10.460157</td>\n",
       "      <td>32.895324</td>\n",
       "      <td>0.001887</td>\n",
       "      <td>0.154386</td>\n",
       "      <td>0.169507</td>\n",
       "      <td>1.065668</td>\n",
       "      <td>0.807569</td>\n",
       "    </tr>\n",
       "    <tr>\n",
       "      <th>min</th>\n",
       "      <td>4.600000</td>\n",
       "      <td>0.120000</td>\n",
       "      <td>0.000000</td>\n",
       "      <td>0.900000</td>\n",
       "      <td>0.012000</td>\n",
       "      <td>1.000000</td>\n",
       "      <td>6.000000</td>\n",
       "      <td>0.990070</td>\n",
       "      <td>2.740000</td>\n",
       "      <td>0.330000</td>\n",
       "      <td>8.400000</td>\n",
       "      <td>3.000000</td>\n",
       "    </tr>\n",
       "    <tr>\n",
       "      <th>25%</th>\n",
       "      <td>7.100000</td>\n",
       "      <td>0.390000</td>\n",
       "      <td>0.090000</td>\n",
       "      <td>1.900000</td>\n",
       "      <td>0.070000</td>\n",
       "      <td>7.000000</td>\n",
       "      <td>22.000000</td>\n",
       "      <td>0.995600</td>\n",
       "      <td>3.210000</td>\n",
       "      <td>0.550000</td>\n",
       "      <td>9.500000</td>\n",
       "      <td>5.000000</td>\n",
       "    </tr>\n",
       "    <tr>\n",
       "      <th>50%</th>\n",
       "      <td>7.900000</td>\n",
       "      <td>0.520000</td>\n",
       "      <td>0.260000</td>\n",
       "      <td>2.200000</td>\n",
       "      <td>0.079000</td>\n",
       "      <td>14.000000</td>\n",
       "      <td>38.000000</td>\n",
       "      <td>0.996750</td>\n",
       "      <td>3.310000</td>\n",
       "      <td>0.620000</td>\n",
       "      <td>10.200000</td>\n",
       "      <td>6.000000</td>\n",
       "    </tr>\n",
       "    <tr>\n",
       "      <th>75%</th>\n",
       "      <td>9.200000</td>\n",
       "      <td>0.640000</td>\n",
       "      <td>0.420000</td>\n",
       "      <td>2.600000</td>\n",
       "      <td>0.090000</td>\n",
       "      <td>21.000000</td>\n",
       "      <td>62.000000</td>\n",
       "      <td>0.997835</td>\n",
       "      <td>3.400000</td>\n",
       "      <td>0.730000</td>\n",
       "      <td>11.100000</td>\n",
       "      <td>6.000000</td>\n",
       "    </tr>\n",
       "    <tr>\n",
       "      <th>max</th>\n",
       "      <td>15.900000</td>\n",
       "      <td>1.580000</td>\n",
       "      <td>1.000000</td>\n",
       "      <td>15.500000</td>\n",
       "      <td>0.611000</td>\n",
       "      <td>72.000000</td>\n",
       "      <td>289.000000</td>\n",
       "      <td>1.003690</td>\n",
       "      <td>4.010000</td>\n",
       "      <td>2.000000</td>\n",
       "      <td>14.900000</td>\n",
       "      <td>8.000000</td>\n",
       "    </tr>\n",
       "  </tbody>\n",
       "</table>\n",
       "</div>"
      ],
      "text/plain": [
       "       fixed acidity  volatile acidity  citric acid  residual sugar  \\\n",
       "count    1599.000000       1599.000000  1599.000000     1599.000000   \n",
       "mean        8.319637          0.527821     0.270976        2.538806   \n",
       "std         1.741096          0.179060     0.194801        1.409928   \n",
       "min         4.600000          0.120000     0.000000        0.900000   \n",
       "25%         7.100000          0.390000     0.090000        1.900000   \n",
       "50%         7.900000          0.520000     0.260000        2.200000   \n",
       "75%         9.200000          0.640000     0.420000        2.600000   \n",
       "max        15.900000          1.580000     1.000000       15.500000   \n",
       "\n",
       "         chlorides  free sulfur dioxide  total sulfur dioxide      density  \\\n",
       "count  1599.000000          1599.000000           1599.000000  1599.000000   \n",
       "mean      0.087467            15.874922             46.467792     0.996747   \n",
       "std       0.047065            10.460157             32.895324     0.001887   \n",
       "min       0.012000             1.000000              6.000000     0.990070   \n",
       "25%       0.070000             7.000000             22.000000     0.995600   \n",
       "50%       0.079000            14.000000             38.000000     0.996750   \n",
       "75%       0.090000            21.000000             62.000000     0.997835   \n",
       "max       0.611000            72.000000            289.000000     1.003690   \n",
       "\n",
       "                pH    sulphates      alcohol      quality  \n",
       "count  1599.000000  1599.000000  1599.000000  1599.000000  \n",
       "mean      3.311113     0.658149    10.422983     5.636023  \n",
       "std       0.154386     0.169507     1.065668     0.807569  \n",
       "min       2.740000     0.330000     8.400000     3.000000  \n",
       "25%       3.210000     0.550000     9.500000     5.000000  \n",
       "50%       3.310000     0.620000    10.200000     6.000000  \n",
       "75%       3.400000     0.730000    11.100000     6.000000  \n",
       "max       4.010000     2.000000    14.900000     8.000000  "
      ]
     },
     "execution_count": 8,
     "metadata": {},
     "output_type": "execute_result"
    }
   ],
   "source": [
    "data.describe()#intire stastistic summary"
   ]
  },
  {
   "cell_type": "markdown",
   "id": "21bb470f",
   "metadata": {},
   "source": [
    "key observation\n",
    "1 the mean is more than median (50th percentile)in all column\n",
    "2 there is large gap between max and 75th percentile in residual sugar,free sulfur dioxide, total sulfur dioxide\n",
    "3 THE 1 AND 2 OBERVATION SUGGEST THAT THERE ARE extreme oulier present in three column"
   ]
  },
  {
   "cell_type": "markdown",
   "id": "35524f7d",
   "metadata": {},
   "source": [
    "# Data cleaning"
   ]
  },
  {
   "cell_type": "code",
   "execution_count": 9,
   "id": "8d38c194",
   "metadata": {},
   "outputs": [
    {
     "data": {
      "text/plain": [
       "0"
      ]
     },
     "execution_count": 9,
     "metadata": {},
     "output_type": "execute_result"
    }
   ],
   "source": [
    "# check all missing value \n",
    "\n",
    "data.isnull().sum().sum()"
   ]
  },
  {
   "cell_type": "code",
   "execution_count": 10,
   "id": "c4193b22",
   "metadata": {},
   "outputs": [
    {
     "data": {
      "text/plain": [
       "fixed acidity           0\n",
       "volatile acidity        0\n",
       "citric acid             0\n",
       "residual sugar          0\n",
       "chlorides               0\n",
       "free sulfur dioxide     0\n",
       "total sulfur dioxide    0\n",
       "density                 0\n",
       "pH                      0\n",
       "sulphates               0\n",
       "alcohol                 0\n",
       "quality                 0\n",
       "dtype: int64"
      ]
     },
     "execution_count": 10,
     "metadata": {},
     "output_type": "execute_result"
    }
   ],
   "source": [
    "# check missing value for indivisual column \n",
    "data.isnull().sum()"
   ]
  },
  {
   "cell_type": "code",
   "execution_count": 11,
   "id": "62ec4b0a",
   "metadata": {},
   "outputs": [
    {
     "data": {
      "text/plain": [
       "<AxesSubplot:>"
      ]
     },
     "execution_count": 11,
     "metadata": {},
     "output_type": "execute_result"
    },
    {
     "data": {
      "image/png": "[encoded data removed]",
      "text/plain": [
       "<Figure size 432x288 with 2 Axes>"
      ]
     },
     "metadata": {
      "needs_background": "light"
     },
     "output_type": "display_data"
    }
   ],
   "source": [
    "#DATA VISUALIZATION TO CHECK MISSING VALUE\n",
    "\n",
    "sns.heatmap(data.isnull())"
   ]
  },
  {
   "cell_type": "markdown",
   "id": "7bd2d9df",
   "metadata": {},
   "source": [
    "Observation \n",
    "\n",
    "no missing value are present"
   ]
  },
  {
   "cell_type": "markdown",
   "id": "698edad8",
   "metadata": {},
   "source": [
    "# duplicate"
   ]
  },
  {
   "cell_type": "code",
   "execution_count": 12,
   "id": "bfe3f636",
   "metadata": {},
   "outputs": [],
   "source": [
    "# check duplicates if present remove it\n",
    "# if duplicate value present drop this row\n",
    "data_new=data.drop_duplicates() "
   ]
  },
  {
   "cell_type": "code",
   "execution_count": 13,
   "id": "50b28c0a",
   "metadata": {},
   "outputs": [
    {
     "data": {
      "text/plain": [
       "(1599, 12)"
      ]
     },
     "execution_count": 13,
     "metadata": {},
     "output_type": "execute_result"
    }
   ],
   "source": [
    "data.shape"
   ]
  },
  {
   "cell_type": "code",
   "execution_count": 14,
   "id": "c37ebbab",
   "metadata": {},
   "outputs": [
    {
     "data": {
      "text/plain": [
       "(1359, 12)"
      ]
     },
     "execution_count": 14,
     "metadata": {},
     "output_type": "execute_result"
    }
   ],
   "source": [
    "data_new.shape"
   ]
  },
  {
   "cell_type": "code",
   "execution_count": 15,
   "id": "64b57c5d",
   "metadata": {},
   "outputs": [
    {
     "data": {
      "text/plain": [
       "240"
      ]
     },
     "execution_count": 15,
     "metadata": {},
     "output_type": "execute_result"
    }
   ],
   "source": [
    "1599-1359"
   ]
  },
  {
   "cell_type": "code",
   "execution_count": 16,
   "id": "b165e3b3",
   "metadata": {},
   "outputs": [],
   "source": [
    "# 240 duplicate rows are removed "
   ]
  },
  {
   "cell_type": "markdown",
   "id": "65fddd86",
   "metadata": {},
   "source": [
    "# Data visualization"
   ]
  },
  {
   "cell_type": "markdown",
   "id": "3dc9477a",
   "metadata": {},
   "source": [
    "# correlation"
   ]
  },
  {
   "cell_type": "code",
   "execution_count": 17,
   "id": "1a1bec3d",
   "metadata": {},
   "outputs": [
    {
     "data": {
      "text/html": [
       "<div>\n",
       "<style scoped>\n",
       "    .dataframe tbody tr th:only-of-type {\n",
       "        vertical-align: middle;\n",
       "    }\n",
       "\n",
       "    .dataframe tbody tr th {\n",
       "        vertical-align: top;\n",
       "    }\n",
       "\n",
       "    .dataframe thead th {\n",
       "        text-align: right;\n",
       "    }\n",
       "</style>\n",
       "<table border=\"1\" class=\"dataframe\">\n",
       "  <thead>\n",
       "    <tr style=\"text-align: right;\">\n",
       "      <th></th>\n",
       "      <th>fixed acidity</th>\n",
       "      <th>volatile acidity</th>\n",
       "      <th>citric acid</th>\n",
       "      <th>residual sugar</th>\n",
       "      <th>chlorides</th>\n",
       "      <th>free sulfur dioxide</th>\n",
       "      <th>total sulfur dioxide</th>\n",
       "      <th>density</th>\n",
       "      <th>pH</th>\n",
       "      <th>sulphates</th>\n",
       "      <th>alcohol</th>\n",
       "      <th>quality</th>\n",
       "    </tr>\n",
       "  </thead>\n",
       "  <tbody>\n",
       "    <tr>\n",
       "      <th>fixed acidity</th>\n",
       "      <td>1.000000</td>\n",
       "      <td>-0.255124</td>\n",
       "      <td>0.667437</td>\n",
       "      <td>0.111025</td>\n",
       "      <td>0.085886</td>\n",
       "      <td>-0.140580</td>\n",
       "      <td>-0.103777</td>\n",
       "      <td>0.670195</td>\n",
       "      <td>-0.686685</td>\n",
       "      <td>0.190269</td>\n",
       "      <td>-0.061596</td>\n",
       "      <td>0.119024</td>\n",
       "    </tr>\n",
       "    <tr>\n",
       "      <th>volatile acidity</th>\n",
       "      <td>-0.255124</td>\n",
       "      <td>1.000000</td>\n",
       "      <td>-0.551248</td>\n",
       "      <td>-0.002449</td>\n",
       "      <td>0.055154</td>\n",
       "      <td>-0.020945</td>\n",
       "      <td>0.071701</td>\n",
       "      <td>0.023943</td>\n",
       "      <td>0.247111</td>\n",
       "      <td>-0.256948</td>\n",
       "      <td>-0.197812</td>\n",
       "      <td>-0.395214</td>\n",
       "    </tr>\n",
       "    <tr>\n",
       "      <th>citric acid</th>\n",
       "      <td>0.667437</td>\n",
       "      <td>-0.551248</td>\n",
       "      <td>1.000000</td>\n",
       "      <td>0.143892</td>\n",
       "      <td>0.210195</td>\n",
       "      <td>-0.048004</td>\n",
       "      <td>0.047358</td>\n",
       "      <td>0.357962</td>\n",
       "      <td>-0.550310</td>\n",
       "      <td>0.326062</td>\n",
       "      <td>0.105108</td>\n",
       "      <td>0.228057</td>\n",
       "    </tr>\n",
       "    <tr>\n",
       "      <th>residual sugar</th>\n",
       "      <td>0.111025</td>\n",
       "      <td>-0.002449</td>\n",
       "      <td>0.143892</td>\n",
       "      <td>1.000000</td>\n",
       "      <td>0.026656</td>\n",
       "      <td>0.160527</td>\n",
       "      <td>0.201038</td>\n",
       "      <td>0.324522</td>\n",
       "      <td>-0.083143</td>\n",
       "      <td>-0.011837</td>\n",
       "      <td>0.063281</td>\n",
       "      <td>0.013640</td>\n",
       "    </tr>\n",
       "    <tr>\n",
       "      <th>chlorides</th>\n",
       "      <td>0.085886</td>\n",
       "      <td>0.055154</td>\n",
       "      <td>0.210195</td>\n",
       "      <td>0.026656</td>\n",
       "      <td>1.000000</td>\n",
       "      <td>0.000749</td>\n",
       "      <td>0.045773</td>\n",
       "      <td>0.193592</td>\n",
       "      <td>-0.270893</td>\n",
       "      <td>0.394557</td>\n",
       "      <td>-0.223824</td>\n",
       "      <td>-0.130988</td>\n",
       "    </tr>\n",
       "    <tr>\n",
       "      <th>free sulfur dioxide</th>\n",
       "      <td>-0.140580</td>\n",
       "      <td>-0.020945</td>\n",
       "      <td>-0.048004</td>\n",
       "      <td>0.160527</td>\n",
       "      <td>0.000749</td>\n",
       "      <td>1.000000</td>\n",
       "      <td>0.667246</td>\n",
       "      <td>-0.018071</td>\n",
       "      <td>0.056631</td>\n",
       "      <td>0.054126</td>\n",
       "      <td>-0.080125</td>\n",
       "      <td>-0.050463</td>\n",
       "    </tr>\n",
       "    <tr>\n",
       "      <th>total sulfur dioxide</th>\n",
       "      <td>-0.103777</td>\n",
       "      <td>0.071701</td>\n",
       "      <td>0.047358</td>\n",
       "      <td>0.201038</td>\n",
       "      <td>0.045773</td>\n",
       "      <td>0.667246</td>\n",
       "      <td>1.000000</td>\n",
       "      <td>0.078141</td>\n",
       "      <td>-0.079257</td>\n",
       "      <td>0.035291</td>\n",
       "      <td>-0.217829</td>\n",
       "      <td>-0.177855</td>\n",
       "    </tr>\n",
       "    <tr>\n",
       "      <th>density</th>\n",
       "      <td>0.670195</td>\n",
       "      <td>0.023943</td>\n",
       "      <td>0.357962</td>\n",
       "      <td>0.324522</td>\n",
       "      <td>0.193592</td>\n",
       "      <td>-0.018071</td>\n",
       "      <td>0.078141</td>\n",
       "      <td>1.000000</td>\n",
       "      <td>-0.355617</td>\n",
       "      <td>0.146036</td>\n",
       "      <td>-0.504995</td>\n",
       "      <td>-0.184252</td>\n",
       "    </tr>\n",
       "    <tr>\n",
       "      <th>pH</th>\n",
       "      <td>-0.686685</td>\n",
       "      <td>0.247111</td>\n",
       "      <td>-0.550310</td>\n",
       "      <td>-0.083143</td>\n",
       "      <td>-0.270893</td>\n",
       "      <td>0.056631</td>\n",
       "      <td>-0.079257</td>\n",
       "      <td>-0.355617</td>\n",
       "      <td>1.000000</td>\n",
       "      <td>-0.214134</td>\n",
       "      <td>0.213418</td>\n",
       "      <td>-0.055245</td>\n",
       "    </tr>\n",
       "    <tr>\n",
       "      <th>sulphates</th>\n",
       "      <td>0.190269</td>\n",
       "      <td>-0.256948</td>\n",
       "      <td>0.326062</td>\n",
       "      <td>-0.011837</td>\n",
       "      <td>0.394557</td>\n",
       "      <td>0.054126</td>\n",
       "      <td>0.035291</td>\n",
       "      <td>0.146036</td>\n",
       "      <td>-0.214134</td>\n",
       "      <td>1.000000</td>\n",
       "      <td>0.091621</td>\n",
       "      <td>0.248835</td>\n",
       "    </tr>\n",
       "    <tr>\n",
       "      <th>alcohol</th>\n",
       "      <td>-0.061596</td>\n",
       "      <td>-0.197812</td>\n",
       "      <td>0.105108</td>\n",
       "      <td>0.063281</td>\n",
       "      <td>-0.223824</td>\n",
       "      <td>-0.080125</td>\n",
       "      <td>-0.217829</td>\n",
       "      <td>-0.504995</td>\n",
       "      <td>0.213418</td>\n",
       "      <td>0.091621</td>\n",
       "      <td>1.000000</td>\n",
       "      <td>0.480343</td>\n",
       "    </tr>\n",
       "    <tr>\n",
       "      <th>quality</th>\n",
       "      <td>0.119024</td>\n",
       "      <td>-0.395214</td>\n",
       "      <td>0.228057</td>\n",
       "      <td>0.013640</td>\n",
       "      <td>-0.130988</td>\n",
       "      <td>-0.050463</td>\n",
       "      <td>-0.177855</td>\n",
       "      <td>-0.184252</td>\n",
       "      <td>-0.055245</td>\n",
       "      <td>0.248835</td>\n",
       "      <td>0.480343</td>\n",
       "      <td>1.000000</td>\n",
       "    </tr>\n",
       "  </tbody>\n",
       "</table>\n",
       "</div>"
      ],
      "text/plain": [
       "                      fixed acidity  volatile acidity  citric acid  \\\n",
       "fixed acidity              1.000000         -0.255124     0.667437   \n",
       "volatile acidity          -0.255124          1.000000    -0.551248   \n",
       "citric acid                0.667437         -0.551248     1.000000   \n",
       "residual sugar             0.111025         -0.002449     0.143892   \n",
       "chlorides                  0.085886          0.055154     0.210195   \n",
       "free sulfur dioxide       -0.140580         -0.020945    -0.048004   \n",
       "total sulfur dioxide      -0.103777          0.071701     0.047358   \n",
       "density                    0.670195          0.023943     0.357962   \n",
       "pH                        -0.686685          0.247111    -0.550310   \n",
       "sulphates                  0.190269         -0.256948     0.326062   \n",
       "alcohol                   -0.061596         -0.197812     0.105108   \n",
       "quality                    0.119024         -0.395214     0.228057   \n",
       "\n",
       "                      residual sugar  chlorides  free sulfur dioxide  \\\n",
       "fixed acidity               0.111025   0.085886            -0.140580   \n",
       "volatile acidity           -0.002449   0.055154            -0.020945   \n",
       "citric acid                 0.143892   0.210195            -0.048004   \n",
       "residual sugar              1.000000   0.026656             0.160527   \n",
       "chlorides                   0.026656   1.000000             0.000749   \n",
       "free sulfur dioxide         0.160527   0.000749             1.000000   \n",
       "total sulfur dioxide        0.201038   0.045773             0.667246   \n",
       "density                     0.324522   0.193592            -0.018071   \n",
       "pH                         -0.083143  -0.270893             0.056631   \n",
       "sulphates                  -0.011837   0.394557             0.054126   \n",
       "alcohol                     0.063281  -0.223824            -0.080125   \n",
       "quality                     0.013640  -0.130988            -0.050463   \n",
       "\n",
       "                      total sulfur dioxide   density        pH  sulphates  \\\n",
       "fixed acidity                    -0.103777  0.670195 -0.686685   0.190269   \n",
       "volatile acidity                  0.071701  0.023943  0.247111  -0.256948   \n",
       "citric acid                       0.047358  0.357962 -0.550310   0.326062   \n",
       "residual sugar                    0.201038  0.324522 -0.083143  -0.011837   \n",
       "chlorides                         0.045773  0.193592 -0.270893   0.394557   \n",
       "free sulfur dioxide               0.667246 -0.018071  0.056631   0.054126   \n",
       "total sulfur dioxide              1.000000  0.078141 -0.079257   0.035291   \n",
       "density                           0.078141  1.000000 -0.355617   0.146036   \n",
       "pH                               -0.079257 -0.355617  1.000000  -0.214134   \n",
       "sulphates                         0.035291  0.146036 -0.214134   1.000000   \n",
       "alcohol                          -0.217829 -0.504995  0.213418   0.091621   \n",
       "quality                          -0.177855 -0.184252 -0.055245   0.248835   \n",
       "\n",
       "                       alcohol   quality  \n",
       "fixed acidity        -0.061596  0.119024  \n",
       "volatile acidity     -0.197812 -0.395214  \n",
       "citric acid           0.105108  0.228057  \n",
       "residual sugar        0.063281  0.013640  \n",
       "chlorides            -0.223824 -0.130988  \n",
       "free sulfur dioxide  -0.080125 -0.050463  \n",
       "total sulfur dioxide -0.217829 -0.177855  \n",
       "density              -0.504995 -0.184252  \n",
       "pH                    0.213418 -0.055245  \n",
       "sulphates             0.091621  0.248835  \n",
       "alcohol               1.000000  0.480343  \n",
       "quality               0.480343  1.000000  "
      ]
     },
     "execution_count": 17,
     "metadata": {},
     "output_type": "execute_result"
    }
   ],
   "source": [
    "dscorr=data_new.corr()#diagonaly correlation matrix\n",
    "dscorr"
   ]
  },
  {
   "cell_type": "code",
   "execution_count": 18,
   "id": "196f62ff",
   "metadata": {},
   "outputs": [
    {
     "data": {
      "text/plain": [
       "<AxesSubplot:>"
      ]
     },
     "execution_count": 18,
     "metadata": {},
     "output_type": "execute_result"
    },
    {
     "data": {
      "image/png": "[encoded data removed]",
      "text/plain": [
       "<Figure size 720x576 with 2 Axes>"
      ]
     },
     "metadata": {
      "needs_background": "light"
     },
     "output_type": "display_data"
    }
   ],
   "source": [
    "plt.figure(figsize=(10,8))\n",
    "sns.heatmap(dscorr,cmap='Blues',annot=True)"
   ]
  },
  {
   "cell_type": "markdown",
   "id": "1d800806",
   "metadata": {},
   "source": [
    "observation\n",
    "\n",
    "darker color is highly correlated\n",
    "lighter color are lightly correlated"
   ]
  },
  {
   "cell_type": "code",
   "execution_count": 19,
   "id": "0b72ca34",
   "metadata": {},
   "outputs": [
    {
     "data": {
      "text/plain": [
       "<AxesSubplot:title={'center':'Correlation with quality'}>"
      ]
     },
     "execution_count": 19,
     "metadata": {},
     "output_type": "execute_result"
    },
    {
     "data": {
      "image/png": "[encoded data removed]",
      "text/plain": [
       "<Figure size 1440x720 with 1 Axes>"
      ]
     },
     "metadata": {
      "needs_background": "light"
     },
     "output_type": "display_data"
    }
   ],
   "source": [
    "#Correlation with Quality with respect to attributes\n",
    "data_new.corrwith(data_new.quality).plot.bar(\n",
    "        figsize = (20, 10), title = \"Correlation with quality\", fontsize = 15,\n",
    "        rot = 45, grid = True)"
   ]
  },
  {
   "cell_type": "markdown",
   "id": "3428a4ad",
   "metadata": {},
   "source": [
    "observation\n",
    "\n",
    "volatile acidity,total sulfur dioxide, free sulfur dioxide is highly negative correlated\n",
    "alcohol is positive correlated\n"
   ]
  },
  {
   "cell_type": "code",
   "execution_count": 20,
   "id": "699513a2",
   "metadata": {},
   "outputs": [
    {
     "data": {
      "text/plain": [
       "Index(['fixed acidity', 'volatile acidity', 'citric acid', 'residual sugar',\n",
       "       'chlorides', 'free sulfur dioxide', 'total sulfur dioxide', 'density',\n",
       "       'pH', 'sulphates', 'alcohol', 'quality'],\n",
       "      dtype='object')"
      ]
     },
     "execution_count": 20,
     "metadata": {},
     "output_type": "execute_result"
    }
   ],
   "source": [
    "data_new.columns"
   ]
  },
  {
   "cell_type": "code",
   "execution_count": 21,
   "id": "ab03fa07",
   "metadata": {},
   "outputs": [
    {
     "data": {
      "text/plain": [
       "volatile acidity       -0.395214\n",
       "density                -0.184252\n",
       "total sulfur dioxide   -0.177855\n",
       "chlorides              -0.130988\n",
       "pH                     -0.055245\n",
       "free sulfur dioxide    -0.050463\n",
       "residual sugar          0.013640\n",
       "fixed acidity           0.119024\n",
       "citric acid             0.228057\n",
       "sulphates               0.248835\n",
       "alcohol                 0.480343\n",
       "quality                 1.000000\n",
       "Name: quality, dtype: float64"
      ]
     },
     "execution_count": 21,
     "metadata": {},
     "output_type": "execute_result"
    }
   ],
   "source": [
    "data_new.corr()[\"quality\"].sort_values()# correlatin all columns with quality in assending order"
   ]
  },
  {
   "cell_type": "markdown",
   "id": "4c2ac028",
   "metadata": {},
   "source": [
    "observation\n",
    "\n",
    "volatile acidity  is highly negative correlation with target variable so we can drop it"
   ]
  },
  {
   "cell_type": "code",
   "execution_count": 22,
   "id": "3747e39e",
   "metadata": {},
   "outputs": [],
   "source": [
    "data_new.drop('volatile acidity',axis=1,inplace=True)"
   ]
  },
  {
   "cell_type": "code",
   "execution_count": 23,
   "id": "f6552cf9",
   "metadata": {},
   "outputs": [
    {
     "data": {
      "text/plain": [
       "Index(['fixed acidity', 'citric acid', 'residual sugar', 'chlorides',\n",
       "       'free sulfur dioxide', 'total sulfur dioxide', 'density', 'pH',\n",
       "       'sulphates', 'alcohol', 'quality'],\n",
       "      dtype='object')"
      ]
     },
     "execution_count": 23,
     "metadata": {},
     "output_type": "execute_result"
    }
   ],
   "source": [
    "data_new.columns"
   ]
  },
  {
   "cell_type": "code",
   "execution_count": 24,
   "id": "0d019b39",
   "metadata": {},
   "outputs": [
    {
     "name": "stderr",
     "output_type": "stream",
     "text": [
      "No handles with labels found to put in legend.\n"
     ]
    },
    {
     "data": {
      "image/png": "[encoded data removed]",
      "text/plain": [
       "<Figure size 432x288 with 1 Axes>"
      ]
     },
     "metadata": {
      "needs_background": "light"
     },
     "output_type": "display_data"
    }
   ],
   "source": [
    "# checking the variation of fixed acidity in the different qualities of wine\n",
    "\n",
    "plt.scatter(data['quality'], data['fixed acidity'], color = 'green')\n",
    "plt.title('relation of fixed acidity with wine')\n",
    "plt.xlabel('quality')\n",
    "plt.ylabel('fixed acidity')\n",
    "plt.legend()\n",
    "plt.show()"
   ]
  },
  {
   "cell_type": "markdown",
   "id": "2c0956ae",
   "metadata": {},
   "source": [
    "# CHECK DISTRIBUTION OF SKEWNESS"
   ]
  },
  {
   "cell_type": "code",
   "execution_count": 25,
   "id": "2d50bf9a",
   "metadata": {},
   "outputs": [
    {
     "data": {
      "text/plain": [
       "<AxesSubplot:xlabel='density', ylabel='Density'>"
      ]
     },
     "execution_count": 25,
     "metadata": {},
     "output_type": "execute_result"
    },
    {
     "data": {
      "image/png": "[encoded data removed]",
      "text/plain": [
       "<Figure size 432x288 with 1 Axes>"
      ]
     },
     "metadata": {
      "needs_background": "light"
     },
     "output_type": "display_data"
    }
   ],
   "source": [
    "sns.distplot(data_new['density'])"
   ]
  },
  {
   "cell_type": "code",
   "execution_count": 26,
   "id": "237b8ca8",
   "metadata": {},
   "outputs": [
    {
     "data": {
      "text/plain": [
       "<AxesSubplot:xlabel='citric acid', ylabel='Density'>"
      ]
     },
     "execution_count": 26,
     "metadata": {},
     "output_type": "execute_result"
    },
    {
     "data": {
      "image/png": "[encoded data removed]",
      "text/plain": [
       "<Figure size 432x288 with 1 Axes>"
      ]
     },
     "metadata": {
      "needs_background": "light"
     },
     "output_type": "display_data"
    }
   ],
   "source": [
    "sns.distplot(data_new['citric acid'])"
   ]
  },
  {
   "cell_type": "code",
   "execution_count": 27,
   "id": "57847118",
   "metadata": {
    "scrolled": true
   },
   "outputs": [
    {
     "data": {
      "text/plain": [
       "array([[<AxesSubplot:ylabel='Density'>, <AxesSubplot:ylabel='Density'>,\n",
       "        <AxesSubplot:ylabel='Density'>, <AxesSubplot:ylabel='Density'>,\n",
       "        <AxesSubplot:ylabel='Density'>, <AxesSubplot:ylabel='Density'>],\n",
       "       [<AxesSubplot:ylabel='Density'>, <AxesSubplot:ylabel='Density'>,\n",
       "        <AxesSubplot:ylabel='Density'>, <AxesSubplot:ylabel='Density'>,\n",
       "        <AxesSubplot:ylabel='Density'>, <AxesSubplot:ylabel='Density'>]],\n",
       "      dtype=object)"
      ]
     },
     "execution_count": 27,
     "metadata": {},
     "output_type": "execute_result"
    },
    {
     "data": {
      "image/png": "[encoded data removed]",
      "text/plain": [
       "<Figure size 1080x720 with 12 Axes>"
      ]
     },
     "metadata": {
      "needs_background": "light"
     },
     "output_type": "display_data"
    }
   ],
   "source": [
    "data_new.plot(kind='kde',subplots=True,figsize=(15,10),layout=(2,6),sharex=False)"
   ]
  },
  {
   "cell_type": "markdown",
   "id": "b782c9e3",
   "metadata": {},
   "source": [
    "# check skewness"
   ]
  },
  {
   "cell_type": "code",
   "execution_count": 28,
   "id": "8ddb28eb",
   "metadata": {},
   "outputs": [
    {
     "data": {
      "text/plain": [
       "density                 0.044778\n",
       "quality                 0.192407\n",
       "pH                      0.232032\n",
       "citric acid             0.312726\n",
       "alcohol                 0.859841\n",
       "fixed acidity           0.941041\n",
       "free sulfur dioxide     1.226579\n",
       "total sulfur dioxide    1.540368\n",
       "sulphates               2.406505\n",
       "residual sugar          4.548153\n",
       "chlorides               5.502487\n",
       "dtype: float64"
      ]
     },
     "execution_count": 28,
     "metadata": {},
     "output_type": "execute_result"
    }
   ],
   "source": [
    "data_new.skew().sort_values()"
   ]
  },
  {
   "cell_type": "markdown",
   "id": "7261af89",
   "metadata": {},
   "source": [
    "observation\n",
    "\n",
    "skewness present in most of the column so we use transformatin technique for remoing it"
   ]
  },
  {
   "cell_type": "markdown",
   "id": "47cbdeb0",
   "metadata": {},
   "source": [
    "# check outliers"
   ]
  },
  {
   "cell_type": "code",
   "execution_count": 29,
   "id": "4023ca12",
   "metadata": {},
   "outputs": [
    {
     "data": {
      "text/plain": [
       "<AxesSubplot:>"
      ]
     },
     "execution_count": 29,
     "metadata": {},
     "output_type": "execute_result"
    },
    {
     "data": {
      "image/png": "[encoded data removed]",
      "text/plain": [
       "<Figure size 432x288 with 1 Axes>"
      ]
     },
     "metadata": {
      "needs_background": "light"
     },
     "output_type": "display_data"
    }
   ],
   "source": [
    "#find outliers using box plot\n",
    "data_new[\"density\"].plot.box()"
   ]
  },
  {
   "cell_type": "code",
   "execution_count": 30,
   "id": "c641f52e",
   "metadata": {},
   "outputs": [
    {
     "data": {
      "text/plain": [
       "fixed acidity              AxesSubplot(0.125,0.536818;0.110714x0.343182)\n",
       "citric acid             AxesSubplot(0.257857,0.536818;0.110714x0.343182)\n",
       "residual sugar          AxesSubplot(0.390714,0.536818;0.110714x0.343182)\n",
       "chlorides               AxesSubplot(0.523571,0.536818;0.110714x0.343182)\n",
       "free sulfur dioxide     AxesSubplot(0.656429,0.536818;0.110714x0.343182)\n",
       "total sulfur dioxide    AxesSubplot(0.789286,0.536818;0.110714x0.343182)\n",
       "density                       AxesSubplot(0.125,0.125;0.110714x0.343182)\n",
       "pH                         AxesSubplot(0.257857,0.125;0.110714x0.343182)\n",
       "sulphates                  AxesSubplot(0.390714,0.125;0.110714x0.343182)\n",
       "alcohol                    AxesSubplot(0.523571,0.125;0.110714x0.343182)\n",
       "quality                    AxesSubplot(0.656429,0.125;0.110714x0.343182)\n",
       "dtype: object"
      ]
     },
     "execution_count": 30,
     "metadata": {},
     "output_type": "execute_result"
    },
    {
     "data": {
      "image/png": "[encoded data removed]",
      "text/plain": [
       "<Figure size 1080x720 with 12 Axes>"
      ]
     },
     "metadata": {
      "needs_background": "light"
     },
     "output_type": "display_data"
    }
   ],
   "source": [
    "data_new.plot(kind='box',subplots=True,figsize=(15,10),layout=(2,6))#many outlies are present"
   ]
  },
  {
   "cell_type": "code",
   "execution_count": 31,
   "id": "748c09b7",
   "metadata": {},
   "outputs": [
    {
     "data": {
      "text/plain": [
       "(array([  11,   12,   13,   13,   15,   15,   17,   30,   38,   39,   41,\n",
       "          53,   75,   75,   77,   80,   82,   85,   87,   96,   96,   99,\n",
       "         127,  135,  135,  135,  135,  144,  145,  150,  150,  159,  202,\n",
       "         202,  211,  214,  226,  226,  241,  245,  252,  282,  295,  296,\n",
       "         302,  309,  328,  334,  346,  346,  361,  363,  385,  385,  393,\n",
       "         400,  408,  420,  420,  433,  448,  450,  473,  483,  483,  485,\n",
       "         485,  492,  506,  510,  513,  516,  528,  534,  555,  562,  562,\n",
       "         564,  565,  565,  565,  582,  592,  597,  599,  602,  626,  632,\n",
       "         652,  671,  672,  687,  710,  718,  722,  764,  764,  771,  781,\n",
       "         786,  791,  792,  838,  866,  888,  895,  895,  912,  918,  918,\n",
       "         920,  920,  945,  948,  963,  985,  994, 1003, 1013, 1049, 1052,\n",
       "        1060, 1060, 1060, 1073, 1081, 1081, 1082, 1082, 1103, 1106, 1107,\n",
       "        1121, 1123, 1123, 1125, 1151, 1159, 1162, 1165, 1165, 1216, 1216,\n",
       "        1216, 1245, 1250, 1250, 1250, 1253, 1276, 1325, 1325, 1336, 1350],\n",
       "       dtype=int64),\n",
       " array([ 8,  4,  4,  5,  3,  8,  3,  2,  3,  8,  7,  4,  3,  8,  3,  8,  8,\n",
       "         8,  7,  3,  8,  5,  9,  1,  3,  7,  8,  2,  2,  3,  8,  3,  3,  8,\n",
       "         3,  0,  3,  8,  2,  3,  3,  2,  8,  8,  0,  5,  0,  0,  2,  4,  2,\n",
       "         2,  0,  6,  3, 10,  9,  2,  6,  2,  5, 10,  0,  0,  6,  0,  6,  3,\n",
       "         4,  9,  5,  2,  6,  8,  8,  2,  5,  5,  0,  2,  9,  5,  5, 10,  3,\n",
       "         7,  8,  3,  3,  3,  3,  8,  9, 10,  6,  2,  6, 10,  2,  2,  4,  4,\n",
       "         4,  6,  2,  3,  8,  2,  2,  5,  2,  5,  7,  6,  4,  4,  3,  4,  2,\n",
       "         4,  2,  2,  4,  5,  3,  6,  9,  6,  9,  4, 10,  7,  7,  3,  8,  7,\n",
       "         4,  8,  3,  3, 10,  2,  4,  6, 10,  2,  4,  6, 10, 10,  2,  4,  2,\n",
       "         2], dtype=int64))"
      ]
     },
     "execution_count": 31,
     "metadata": {},
     "output_type": "execute_result"
    }
   ],
   "source": [
    "#find outliers by using zscore\n",
    "\n",
    "from scipy.stats import zscore\n",
    "import numpy as np\n",
    "z=np.abs(zscore(data_new))  #abs is absolute function used to make all data positive \n",
    "\n",
    "#in z score value is both value -3 and +3 is present but abs function convert -3 value to positive for better calculation\n",
    "thresold=3\n",
    "   \n",
    "np.where(z>3)# this is the index value where outlier present"
   ]
  },
  {
   "cell_type": "markdown",
   "id": "51499e9b",
   "metadata": {},
   "source": [
    "observation\n",
    "\n",
    "show the index value of row and column where outliers lies\n",
    "\n",
    "\n",
    "now we have remove outliers"
   ]
  },
  {
   "cell_type": "markdown",
   "id": "5622a0ba",
   "metadata": {},
   "source": [
    "# Remove outliers"
   ]
  },
  {
   "cell_type": "code",
   "execution_count": 32,
   "id": "0f33aa3a",
   "metadata": {},
   "outputs": [
    {
     "data": {
      "text/html": [
       "<div>\n",
       "<style scoped>\n",
       "    .dataframe tbody tr th:only-of-type {\n",
       "        vertical-align: middle;\n",
       "    }\n",
       "\n",
       "    .dataframe tbody tr th {\n",
       "        vertical-align: top;\n",
       "    }\n",
       "\n",
       "    .dataframe thead th {\n",
       "        text-align: right;\n",
       "    }\n",
       "</style>\n",
       "<table border=\"1\" class=\"dataframe\">\n",
       "  <thead>\n",
       "    <tr style=\"text-align: right;\">\n",
       "      <th></th>\n",
       "      <th>fixed acidity</th>\n",
       "      <th>citric acid</th>\n",
       "      <th>residual sugar</th>\n",
       "      <th>chlorides</th>\n",
       "      <th>free sulfur dioxide</th>\n",
       "      <th>total sulfur dioxide</th>\n",
       "      <th>density</th>\n",
       "      <th>pH</th>\n",
       "      <th>sulphates</th>\n",
       "      <th>alcohol</th>\n",
       "      <th>quality</th>\n",
       "    </tr>\n",
       "  </thead>\n",
       "  <tbody>\n",
       "    <tr>\n",
       "      <th>49</th>\n",
       "      <td>5.6</td>\n",
       "      <td>0.37</td>\n",
       "      <td>1.4</td>\n",
       "      <td>0.074</td>\n",
       "      <td>12.0</td>\n",
       "      <td>96.0</td>\n",
       "      <td>0.99540</td>\n",
       "      <td>3.32</td>\n",
       "      <td>0.58</td>\n",
       "      <td>9.2</td>\n",
       "      <td>5</td>\n",
       "    </tr>\n",
       "    <tr>\n",
       "      <th>402</th>\n",
       "      <td>12.2</td>\n",
       "      <td>0.54</td>\n",
       "      <td>2.6</td>\n",
       "      <td>0.085</td>\n",
       "      <td>19.0</td>\n",
       "      <td>64.0</td>\n",
       "      <td>1.00000</td>\n",
       "      <td>3.10</td>\n",
       "      <td>0.61</td>\n",
       "      <td>10.5</td>\n",
       "      <td>6</td>\n",
       "    </tr>\n",
       "    <tr>\n",
       "      <th>916</th>\n",
       "      <td>5.3</td>\n",
       "      <td>0.19</td>\n",
       "      <td>1.5</td>\n",
       "      <td>0.161</td>\n",
       "      <td>7.0</td>\n",
       "      <td>62.0</td>\n",
       "      <td>0.99395</td>\n",
       "      <td>3.62</td>\n",
       "      <td>0.61</td>\n",
       "      <td>11.0</td>\n",
       "      <td>5</td>\n",
       "    </tr>\n",
       "  </tbody>\n",
       "</table>\n",
       "</div>"
      ],
      "text/plain": [
       "     fixed acidity  citric acid  residual sugar  chlorides  \\\n",
       "49             5.6         0.37             1.4      0.074   \n",
       "402           12.2         0.54             2.6      0.085   \n",
       "916            5.3         0.19             1.5      0.161   \n",
       "\n",
       "     free sulfur dioxide  total sulfur dioxide  density    pH  sulphates  \\\n",
       "49                  12.0                  96.0  0.99540  3.32       0.58   \n",
       "402                 19.0                  64.0  1.00000  3.10       0.61   \n",
       "916                  7.0                  62.0  0.99395  3.62       0.61   \n",
       "\n",
       "     alcohol  quality  \n",
       "49       9.2        5  \n",
       "402     10.5        6  \n",
       "916     11.0        5  "
      ]
     },
     "execution_count": 32,
     "metadata": {},
     "output_type": "execute_result"
    }
   ],
   "source": [
    "df=data_new[(z<3).all(axis=1)]   # axis=1 means all rows for each column\n",
    "df.sample(3)                      #these are normal data or clean data without outliers"
   ]
  },
  {
   "cell_type": "code",
   "execution_count": null,
   "id": "f7b03b1a",
   "metadata": {},
   "outputs": [],
   "source": []
  },
  {
   "cell_type": "code",
   "execution_count": 33,
   "id": "fd8706bd",
   "metadata": {},
   "outputs": [
    {
     "data": {
      "text/plain": [
       "(1238, 11)"
      ]
     },
     "execution_count": 33,
     "metadata": {},
     "output_type": "execute_result"
    }
   ],
   "source": [
    "df.shape"
   ]
  },
  {
   "cell_type": "code",
   "execution_count": 34,
   "id": "d94a4dba",
   "metadata": {},
   "outputs": [
    {
     "data": {
      "text/plain": [
       "(1359, 11)"
      ]
     },
     "execution_count": 34,
     "metadata": {},
     "output_type": "execute_result"
    }
   ],
   "source": [
    "data_new.shape"
   ]
  },
  {
   "cell_type": "code",
   "execution_count": 35,
   "id": "84979e9e",
   "metadata": {},
   "outputs": [
    {
     "data": {
      "text/plain": [
       "121"
      ]
     },
     "execution_count": 35,
     "metadata": {},
     "output_type": "execute_result"
    }
   ],
   "source": [
    "1359-1238"
   ]
  },
  {
   "cell_type": "code",
   "execution_count": 36,
   "id": "ed687654",
   "metadata": {},
   "outputs": [],
   "source": [
    "# 121 0utlier are removed"
   ]
  },
  {
   "cell_type": "code",
   "execution_count": null,
   "id": "0bd92209",
   "metadata": {},
   "outputs": [],
   "source": []
  },
  {
   "cell_type": "markdown",
   "id": "c28b0e93",
   "metadata": {},
   "source": [
    "# Feature selection"
   ]
  },
  {
   "cell_type": "markdown",
   "id": "c0783406",
   "metadata": {},
   "source": [
    "target/dependent variable discribe and categorical in nature\n",
    "\n",
    "quality scale range from 3 to 8\n",
    "\n",
    "where 3 is lower and 8 is standard qualit"
   ]
  },
  {
   "cell_type": "code",
   "execution_count": 37,
   "id": "0e9156b9",
   "metadata": {},
   "outputs": [
    {
     "data": {
      "text/plain": [
       "array([5, 6, 7, 4, 8], dtype=int64)"
      ]
     },
     "execution_count": 37,
     "metadata": {},
     "output_type": "execute_result"
    }
   ],
   "source": [
    "df.quality.unique()"
   ]
  },
  {
   "cell_type": "code",
   "execution_count": 38,
   "id": "ffdb4c38",
   "metadata": {},
   "outputs": [
    {
     "data": {
      "text/plain": [
       "5    528\n",
       "6    491\n",
       "7    154\n",
       "4     50\n",
       "8     15\n",
       "Name: quality, dtype: int64"
      ]
     },
     "execution_count": 38,
     "metadata": {},
     "output_type": "execute_result"
    },
    {
     "data": {
      "image/png": "[encoded data removed]",
      "text/plain": [
       "<Figure size 720x432 with 1 Axes>"
      ]
     },
     "metadata": {
      "needs_background": "light"
     },
     "output_type": "display_data"
    }
   ],
   "source": [
    "plt.figure(figsize=(10, 6))\n",
    "sns.countplot(df[\"quality\"], palette=\"muted\")\n",
    "df[\"quality\"].value_counts()\n",
    "df.quality.value_counts()"
   ]
  },
  {
   "cell_type": "markdown",
   "id": "6f626642",
   "metadata": {},
   "source": [
    "Classifying the wine quality as good or bad based on its quality\n",
    "\n",
    "Bad or 0 if quallity of wine lies in range (3,6)\n",
    "\n",
    "good or 1 if quallity of wine lies in range (7,8)\n",
    "\n"
   ]
  },
  {
   "cell_type": "code",
   "execution_count": 39,
   "id": "ae01d81b",
   "metadata": {},
   "outputs": [],
   "source": [
    "df[\"quality\"]=df[\"quality\"].apply(lambda x:1 if x>6.5 else 0)"
   ]
  },
  {
   "cell_type": "code",
   "execution_count": 40,
   "id": "82c705f0",
   "metadata": {},
   "outputs": [
    {
     "data": {
      "text/plain": [
       "0    1069\n",
       "1     169\n",
       "Name: quality, dtype: int64"
      ]
     },
     "execution_count": 40,
     "metadata": {},
     "output_type": "execute_result"
    },
    {
     "data": {
      "image/png": "[encoded data removed]",
      "text/plain": [
       "<Figure size 720x432 with 1 Axes>"
      ]
     },
     "metadata": {
      "needs_background": "light"
     },
     "output_type": "display_data"
    }
   ],
   "source": [
    "plt.figure(figsize=(10, 6))\n",
    "sns.countplot(df[\"quality\"], palette=\"muted\")\n",
    "df[\"quality\"].value_counts()\n",
    "df.quality.value_counts()"
   ]
  },
  {
   "cell_type": "markdown",
   "id": "44447252",
   "metadata": {},
   "source": [
    "# Separate input and output variable"
   ]
  },
  {
   "cell_type": "code",
   "execution_count": 41,
   "id": "89cca7ac",
   "metadata": {},
   "outputs": [],
   "source": [
    "x=df.iloc[:,0:-1]"
   ]
  },
  {
   "cell_type": "code",
   "execution_count": 42,
   "id": "c06891ab",
   "metadata": {},
   "outputs": [],
   "source": [
    "y=df.iloc[:,-1]"
   ]
  },
  {
   "cell_type": "code",
   "execution_count": 43,
   "id": "e0ca4098",
   "metadata": {},
   "outputs": [
    {
     "data": {
      "text/plain": [
       "0       0\n",
       "1       0\n",
       "2       0\n",
       "3       0\n",
       "5       0\n",
       "       ..\n",
       "1593    0\n",
       "1594    0\n",
       "1595    0\n",
       "1597    0\n",
       "1598    0\n",
       "Name: quality, Length: 1238, dtype: int64"
      ]
     },
     "execution_count": 43,
     "metadata": {},
     "output_type": "execute_result"
    }
   ],
   "source": [
    "y"
   ]
  },
  {
   "cell_type": "code",
   "execution_count": 44,
   "id": "47a8c4a0",
   "metadata": {},
   "outputs": [
    {
     "data": {
      "text/plain": [
       "(1238, 10)"
      ]
     },
     "execution_count": 44,
     "metadata": {},
     "output_type": "execute_result"
    }
   ],
   "source": [
    "x.shape"
   ]
  },
  {
   "cell_type": "code",
   "execution_count": 45,
   "id": "e5d7b293",
   "metadata": {},
   "outputs": [
    {
     "data": {
      "text/plain": [
       "(1238,)"
      ]
     },
     "execution_count": 45,
     "metadata": {},
     "output_type": "execute_result"
    }
   ],
   "source": [
    "y.shape"
   ]
  },
  {
   "cell_type": "markdown",
   "id": "e3b22816",
   "metadata": {},
   "source": [
    "# Preprocessing  Data for ML Algorithm"
   ]
  },
  {
   "cell_type": "markdown",
   "id": "c0eef752",
   "metadata": {},
   "source": [
    "# Scalling"
   ]
  },
  {
   "cell_type": "code",
   "execution_count": 46,
   "id": "1494bc3b",
   "metadata": {},
   "outputs": [
    {
     "data": {
      "text/plain": [
       "array([[-0.54588378, -1.39119623, -0.5776845 , ...,  1.3866772 ,\n",
       "        -0.6264955 , -0.99136309],\n",
       "       [-0.30298536, -1.39119623,  0.27327825, ..., -0.80914297,\n",
       "         0.29638176, -0.60543756],\n",
       "       [-0.30298536, -1.18147922, -0.09142007, ..., -0.38414552,\n",
       "         0.06566244, -0.60543756],\n",
       "       ...,\n",
       "       [-1.45675283, -0.86690371, -0.21298618, ...,  1.45751011,\n",
       "         0.91163327,  0.74530179],\n",
       "       [-1.45675283, -0.76204521, -0.45611839, ...,  1.81167466,\n",
       "         0.52710108, -0.21951203],\n",
       "       [-1.39602823,  1.07297862,  1.48893934, ...,  0.5366823 ,\n",
       "         0.14256888,  0.55233903]])"
      ]
     },
     "execution_count": 46,
     "metadata": {},
     "output_type": "execute_result"
    }
   ],
   "source": [
    "from sklearn.preprocessing import StandardScaler\n",
    "st= StandardScaler()\n",
    "x=st.fit_transform(x)\n",
    "x"
   ]
  },
  {
   "cell_type": "markdown",
   "id": "c9730c00",
   "metadata": {},
   "source": [
    "now our data is normalized and no skewness is there "
   ]
  },
  {
   "cell_type": "markdown",
   "id": "41a7ea32",
   "metadata": {},
   "source": [
    "# Remove oversampling using smote"
   ]
  },
  {
   "cell_type": "code",
   "execution_count": 47,
   "id": "6e28b033",
   "metadata": {},
   "outputs": [
    {
     "name": "stdout",
     "output_type": "stream",
     "text": [
      "0    1069\n",
      "1    1069\n",
      "Name: quality, dtype: int64\n"
     ]
    },
    {
     "data": {
      "image/png": "[encoded data removed]",
      "text/plain": [
       "<Figure size 432x288 with 1 Axes>"
      ]
     },
     "metadata": {
      "needs_background": "light"
     },
     "output_type": "display_data"
    }
   ],
   "source": [
    "from imblearn.over_sampling import SMOTE\n",
    "smt=SMOTE()# instance of smote\n",
    "trainx,trainy=smt.fit_resample(x,y)\n",
    "#print(x.value_counts())\n",
    "sns.countplot(trainy)\n",
    "print(trainy.value_counts())"
   ]
  },
  {
   "cell_type": "markdown",
   "id": "82116b04",
   "metadata": {},
   "source": [
    "# TRANING MODEL\n",
    "FINDING BEST RANDOM STAT"
   ]
  },
  {
   "cell_type": "code",
   "execution_count": 48,
   "id": "f0ba01af",
   "metadata": {},
   "outputs": [],
   "source": [
    "from sklearn.model_selection import train_test_split\n",
    "\n",
    "from sklearn.linear_model import LogisticRegression\n",
    "\n",
    "\n",
    "\n",
    "from sklearn.metrics import accuracy_score"
   ]
  },
  {
   "cell_type": "code",
   "execution_count": 49,
   "id": "994d0034",
   "metadata": {},
   "outputs": [
    {
     "name": "stdout",
     "output_type": "stream",
     "text": [
      "testing accuracy  0.9129032258064517  random state = 0\n",
      " max accuracy score 0.9129032258064517  max random state = 0\n",
      "testing accuracy  0.9  random state = 1\n",
      "testing accuracy  0.896774193548387  random state = 2\n",
      "testing accuracy  0.864516129032258  random state = 3\n",
      "testing accuracy  0.896774193548387  random state = 4\n",
      "testing accuracy  0.8741935483870967  random state = 5\n",
      "testing accuracy  0.8774193548387097  random state = 6\n",
      "testing accuracy  0.9032258064516129  random state = 7\n",
      "testing accuracy  0.9129032258064517  random state = 8\n",
      "testing accuracy  0.8709677419354839  random state = 9\n",
      "testing accuracy  0.9032258064516129  random state = 10\n",
      "testing accuracy  0.8741935483870967  random state = 11\n",
      "testing accuracy  0.8903225806451613  random state = 12\n",
      "testing accuracy  0.864516129032258  random state = 13\n",
      "testing accuracy  0.896774193548387  random state = 14\n",
      "testing accuracy  0.8774193548387097  random state = 15\n",
      "testing accuracy  0.9193548387096774  random state = 16\n",
      " max accuracy score 0.9193548387096774  max random state = 16\n",
      "testing accuracy  0.8806451612903226  random state = 17\n",
      "testing accuracy  0.8870967741935484  random state = 18\n",
      "testing accuracy  0.8774193548387097  random state = 19\n",
      "testing accuracy  0.8774193548387097  random state = 20\n",
      "testing accuracy  0.8903225806451613  random state = 21\n",
      "testing accuracy  0.864516129032258  random state = 22\n",
      "testing accuracy  0.8580645161290322  random state = 23\n",
      "testing accuracy  0.864516129032258  random state = 24\n",
      "testing accuracy  0.8870967741935484  random state = 25\n",
      "testing accuracy  0.8935483870967742  random state = 26\n",
      "testing accuracy  0.8806451612903226  random state = 27\n",
      "testing accuracy  0.896774193548387  random state = 28\n",
      "testing accuracy  0.8451612903225807  random state = 29\n",
      "testing accuracy  0.8838709677419355  random state = 30\n",
      "testing accuracy  0.8741935483870967  random state = 31\n",
      "testing accuracy  0.9  random state = 32\n",
      "testing accuracy  0.8838709677419355  random state = 33\n",
      "testing accuracy  0.8838709677419355  random state = 34\n",
      "testing accuracy  0.8870967741935484  random state = 35\n",
      "testing accuracy  0.8903225806451613  random state = 36\n",
      "testing accuracy  0.8774193548387097  random state = 37\n",
      "testing accuracy  0.9129032258064517  random state = 38\n",
      "testing accuracy  0.8806451612903226  random state = 39\n",
      "testing accuracy  0.8774193548387097  random state = 40\n",
      "testing accuracy  0.896774193548387  random state = 41\n",
      "testing accuracy  0.8806451612903226  random state = 42\n",
      "testing accuracy  0.864516129032258  random state = 43\n",
      "testing accuracy  0.867741935483871  random state = 44\n",
      "testing accuracy  0.8935483870967742  random state = 45\n",
      "testing accuracy  0.8935483870967742  random state = 46\n",
      "testing accuracy  0.8903225806451613  random state = 47\n",
      "testing accuracy  0.8935483870967742  random state = 48\n",
      "testing accuracy  0.867741935483871  random state = 49\n",
      "testing accuracy  0.8774193548387097  random state = 50\n",
      "testing accuracy  0.8548387096774194  random state = 51\n",
      "testing accuracy  0.8838709677419355  random state = 52\n",
      "testing accuracy  0.8806451612903226  random state = 53\n",
      "testing accuracy  0.8935483870967742  random state = 54\n",
      "testing accuracy  0.8806451612903226  random state = 55\n",
      "testing accuracy  0.8935483870967742  random state = 56\n",
      "testing accuracy  0.9032258064516129  random state = 57\n",
      "testing accuracy  0.8903225806451613  random state = 58\n",
      "testing accuracy  0.8709677419354839  random state = 59\n",
      "testing accuracy  0.8741935483870967  random state = 60\n",
      "testing accuracy  0.8935483870967742  random state = 61\n",
      "testing accuracy  0.8612903225806452  random state = 62\n",
      "testing accuracy  0.9032258064516129  random state = 63\n",
      "testing accuracy  0.8870967741935484  random state = 64\n",
      "testing accuracy  0.8838709677419355  random state = 65\n",
      "testing accuracy  0.8870967741935484  random state = 66\n",
      "testing accuracy  0.8870967741935484  random state = 67\n",
      "testing accuracy  0.8870967741935484  random state = 68\n",
      "testing accuracy  0.8903225806451613  random state = 69\n",
      "testing accuracy  0.8806451612903226  random state = 70\n",
      "testing accuracy  0.8806451612903226  random state = 71\n",
      "testing accuracy  0.8870967741935484  random state = 72\n",
      "testing accuracy  0.8709677419354839  random state = 73\n",
      "testing accuracy  0.8516129032258064  random state = 74\n",
      "testing accuracy  0.8870967741935484  random state = 75\n",
      "testing accuracy  0.8774193548387097  random state = 76\n",
      "testing accuracy  0.8774193548387097  random state = 77\n",
      "testing accuracy  0.8580645161290322  random state = 78\n",
      "testing accuracy  0.8516129032258064  random state = 79\n",
      "testing accuracy  0.9  random state = 80\n",
      "testing accuracy  0.9  random state = 81\n",
      "testing accuracy  0.8516129032258064  random state = 82\n",
      "testing accuracy  0.9161290322580645  random state = 83\n",
      "testing accuracy  0.8774193548387097  random state = 84\n",
      "testing accuracy  0.8838709677419355  random state = 85\n",
      "testing accuracy  0.8612903225806452  random state = 86\n",
      "testing accuracy  0.8548387096774194  random state = 87\n",
      "testing accuracy  0.8806451612903226  random state = 88\n",
      "testing accuracy  0.8774193548387097  random state = 89\n",
      "testing accuracy  0.8741935483870967  random state = 90\n",
      "testing accuracy  0.8838709677419355  random state = 91\n",
      "testing accuracy  0.8774193548387097  random state = 92\n",
      "testing accuracy  0.8838709677419355  random state = 93\n",
      "testing accuracy  0.864516129032258  random state = 94\n",
      "testing accuracy  0.8935483870967742  random state = 95\n",
      "testing accuracy  0.8419354838709677  random state = 96\n",
      "testing accuracy  0.8612903225806452  random state = 97\n",
      "testing accuracy  0.864516129032258  random state = 98\n",
      "testing accuracy  0.8806451612903226  random state = 99\n",
      "testing accuracy  0.9064516129032258  random state = 100\n",
      "testing accuracy  0.867741935483871  random state = 101\n",
      "testing accuracy  0.9032258064516129  random state = 102\n",
      "testing accuracy  0.8516129032258064  random state = 103\n",
      "testing accuracy  0.8838709677419355  random state = 104\n",
      "testing accuracy  0.8838709677419355  random state = 105\n",
      "testing accuracy  0.8838709677419355  random state = 106\n",
      "testing accuracy  0.896774193548387  random state = 107\n",
      "testing accuracy  0.867741935483871  random state = 108\n",
      "testing accuracy  0.896774193548387  random state = 109\n",
      "testing accuracy  0.8870967741935484  random state = 110\n",
      "testing accuracy  0.867741935483871  random state = 111\n",
      "testing accuracy  0.867741935483871  random state = 112\n",
      "testing accuracy  0.8935483870967742  random state = 113\n",
      "testing accuracy  0.8774193548387097  random state = 114\n",
      "testing accuracy  0.8838709677419355  random state = 115\n",
      "testing accuracy  0.896774193548387  random state = 116\n",
      "testing accuracy  0.8935483870967742  random state = 117\n",
      "testing accuracy  0.8806451612903226  random state = 118\n",
      "testing accuracy  0.8612903225806452  random state = 119\n",
      "testing accuracy  0.8516129032258064  random state = 120\n",
      "testing accuracy  0.896774193548387  random state = 121\n",
      "testing accuracy  0.9032258064516129  random state = 122\n",
      "testing accuracy  0.8516129032258064  random state = 123\n",
      "testing accuracy  0.8806451612903226  random state = 124\n",
      "testing accuracy  0.8903225806451613  random state = 125\n",
      "testing accuracy  0.867741935483871  random state = 126\n",
      "testing accuracy  0.8612903225806452  random state = 127\n",
      "testing accuracy  0.8838709677419355  random state = 128\n",
      "testing accuracy  0.8806451612903226  random state = 129\n",
      "testing accuracy  0.8935483870967742  random state = 130\n",
      "testing accuracy  0.9  random state = 131\n",
      "testing accuracy  0.8838709677419355  random state = 132\n",
      "testing accuracy  0.8774193548387097  random state = 133\n",
      "testing accuracy  0.9032258064516129  random state = 134\n",
      "testing accuracy  0.867741935483871  random state = 135\n",
      "testing accuracy  0.8903225806451613  random state = 136\n",
      "testing accuracy  0.9  random state = 137\n",
      "testing accuracy  0.864516129032258  random state = 138\n",
      "testing accuracy  0.8774193548387097  random state = 139\n",
      "testing accuracy  0.8806451612903226  random state = 140\n",
      "testing accuracy  0.8903225806451613  random state = 141\n",
      "testing accuracy  0.8870967741935484  random state = 142\n",
      "testing accuracy  0.896774193548387  random state = 143\n",
      "testing accuracy  0.8806451612903226  random state = 144\n",
      "testing accuracy  0.8709677419354839  random state = 145\n",
      "testing accuracy  0.8709677419354839  random state = 146\n",
      "testing accuracy  0.867741935483871  random state = 147\n",
      "testing accuracy  0.8935483870967742  random state = 148\n",
      "testing accuracy  0.8709677419354839  random state = 149\n",
      "testing accuracy  0.8806451612903226  random state = 150\n",
      "testing accuracy  0.8870967741935484  random state = 151\n",
      "testing accuracy  0.8903225806451613  random state = 152\n"
     ]
    },
    {
     "name": "stdout",
     "output_type": "stream",
     "text": [
      "testing accuracy  0.8903225806451613  random state = 153\n",
      "testing accuracy  0.8870967741935484  random state = 154\n",
      "testing accuracy  0.8806451612903226  random state = 155\n",
      "testing accuracy  0.9064516129032258  random state = 156\n",
      "testing accuracy  0.896774193548387  random state = 157\n",
      "testing accuracy  0.8838709677419355  random state = 158\n",
      "testing accuracy  0.8806451612903226  random state = 159\n",
      "testing accuracy  0.8838709677419355  random state = 160\n",
      "testing accuracy  0.8870967741935484  random state = 161\n",
      "testing accuracy  0.8580645161290322  random state = 162\n",
      "testing accuracy  0.8870967741935484  random state = 163\n",
      "testing accuracy  0.8548387096774194  random state = 164\n",
      "testing accuracy  0.9  random state = 165\n",
      "testing accuracy  0.8838709677419355  random state = 166\n",
      "testing accuracy  0.8806451612903226  random state = 167\n",
      "testing accuracy  0.8870967741935484  random state = 168\n",
      "testing accuracy  0.8709677419354839  random state = 169\n",
      "testing accuracy  0.8935483870967742  random state = 170\n",
      "testing accuracy  0.8838709677419355  random state = 171\n",
      "testing accuracy  0.9064516129032258  random state = 172\n",
      "testing accuracy  0.8741935483870967  random state = 173\n",
      "testing accuracy  0.8903225806451613  random state = 174\n",
      "testing accuracy  0.8935483870967742  random state = 175\n",
      "testing accuracy  0.896774193548387  random state = 176\n",
      "testing accuracy  0.8870967741935484  random state = 177\n",
      "testing accuracy  0.896774193548387  random state = 178\n",
      "testing accuracy  0.8935483870967742  random state = 179\n",
      "testing accuracy  0.9  random state = 180\n",
      "testing accuracy  0.8709677419354839  random state = 181\n",
      "testing accuracy  0.9129032258064517  random state = 182\n",
      "testing accuracy  0.8774193548387097  random state = 183\n",
      "testing accuracy  0.867741935483871  random state = 184\n",
      "testing accuracy  0.8806451612903226  random state = 185\n",
      "testing accuracy  0.8838709677419355  random state = 186\n",
      "testing accuracy  0.8903225806451613  random state = 187\n",
      "testing accuracy  0.8709677419354839  random state = 188\n",
      "testing accuracy  0.9032258064516129  random state = 189\n",
      "testing accuracy  0.8838709677419355  random state = 190\n",
      "testing accuracy  0.8709677419354839  random state = 191\n",
      "testing accuracy  0.9  random state = 192\n",
      "testing accuracy  0.8903225806451613  random state = 193\n",
      "testing accuracy  0.8935483870967742  random state = 194\n",
      "testing accuracy  0.8806451612903226  random state = 195\n",
      "testing accuracy  0.9161290322580645  random state = 196\n",
      "testing accuracy  0.9  random state = 197\n",
      "testing accuracy  0.8774193548387097  random state = 198\n",
      "testing accuracy  0.8741935483870967  random state = 199\n"
     ]
    }
   ],
   "source": [
    "max_accu=0 #maxi accuracy define as 0\n",
    "max_rs=0# best random state for which max accurecy achived\n",
    "\n",
    "lr=LogisticRegression()\n",
    " \n",
    "for i in range(0,200):\n",
    "    x_train, x_test, y_train, y_test = train_test_split( x, y, test_size=.25, random_state=i)\n",
    "    \n",
    "    lr.fit(x_train,y_train)\n",
    "\n",
    "    pred=lr.predict(x_test)# predicted target variable\n",
    "    \n",
    "    acc=accuracy_score(y_test,pred)# accuracy score\n",
    "    \n",
    "    print(\"testing accuracy \",acc, \" random state =\", i)\n",
    "    if acc>max_accu:\n",
    "        max_accu=acc\n",
    "        max_rs=i\n",
    "        print(\" max accuracy score\",acc, \" max random state =\",i)\n",
    "        "
   ]
  },
  {
   "cell_type": "code",
   "execution_count": 50,
   "id": "73d45656",
   "metadata": {},
   "outputs": [
    {
     "name": "stdout",
     "output_type": "stream",
     "text": [
      " max accuracy score 0.9193548387096774  max random state = 16\n"
     ]
    }
   ],
   "source": [
    "print(\" max accuracy score\",max_accu, \" max random state =\", max_rs)"
   ]
  },
  {
   "cell_type": "markdown",
   "id": "aa5a1384",
   "metadata": {},
   "source": [
    "# spliting traintest split"
   ]
  },
  {
   "cell_type": "code",
   "execution_count": 51,
   "id": "59fcd50e",
   "metadata": {},
   "outputs": [],
   "source": [
    "x_train, x_test, y_train, y_test = train_test_split( x, y, test_size=.25, random_state=16)"
   ]
  },
  {
   "cell_type": "code",
   "execution_count": 52,
   "id": "2efbaa02",
   "metadata": {},
   "outputs": [
    {
     "name": "stdout",
     "output_type": "stream",
     "text": [
      "shape of x_train=  (928, 10)\n",
      "shape of y_train=  (928,)\n",
      "shape of x_test=  (310, 10)\n",
      "shape of y_test=  (310,)\n"
     ]
    }
   ],
   "source": [
    "print(\"shape of x_train= \",x_train.shape)\n",
    "print(\"shape of y_train= \",y_train.shape)\n",
    "print(\"shape of x_test= \",x_test.shape)\n",
    "print(\"shape of y_test= \",y_test.shape)"
   ]
  },
  {
   "cell_type": "code",
   "execution_count": 53,
   "id": "70fec54e",
   "metadata": {},
   "outputs": [
    {
     "name": "stdout",
     "output_type": "stream",
     "text": [
      "accuracy score of KNeighborsClassifier() is\n",
      "0.8903225806451613\n",
      "[[259  14]\n",
      " [ 20  17]]\n",
      "              precision    recall  f1-score   support\n",
      "\n",
      "           0       0.93      0.95      0.94       273\n",
      "           1       0.55      0.46      0.50        37\n",
      "\n",
      "    accuracy                           0.89       310\n",
      "   macro avg       0.74      0.70      0.72       310\n",
      "weighted avg       0.88      0.89      0.89       310\n",
      "\n",
      "accuracy score of LogisticRegression() is\n",
      "0.9193548387096774\n",
      "[[267   6]\n",
      " [ 19  18]]\n",
      "              precision    recall  f1-score   support\n",
      "\n",
      "           0       0.93      0.98      0.96       273\n",
      "           1       0.75      0.49      0.59        37\n",
      "\n",
      "    accuracy                           0.92       310\n",
      "   macro avg       0.84      0.73      0.77       310\n",
      "weighted avg       0.91      0.92      0.91       310\n",
      "\n",
      "accuracy score of DecisionTreeClassifier() is\n",
      "0.8451612903225807\n",
      "[[246  27]\n",
      " [ 21  16]]\n",
      "              precision    recall  f1-score   support\n",
      "\n",
      "           0       0.92      0.90      0.91       273\n",
      "           1       0.37      0.43      0.40        37\n",
      "\n",
      "    accuracy                           0.85       310\n",
      "   macro avg       0.65      0.67      0.66       310\n",
      "weighted avg       0.86      0.85      0.85       310\n",
      "\n",
      "accuracy score of SVC() is\n",
      "0.9064516129032258\n",
      "[[267   6]\n",
      " [ 23  14]]\n",
      "              precision    recall  f1-score   support\n",
      "\n",
      "           0       0.92      0.98      0.95       273\n",
      "           1       0.70      0.38      0.49        37\n",
      "\n",
      "    accuracy                           0.91       310\n",
      "   macro avg       0.81      0.68      0.72       310\n",
      "weighted avg       0.89      0.91      0.89       310\n",
      "\n",
      "accuracy score of RandomForestClassifier(n_estimators=300) is\n",
      "0.9096774193548387\n",
      "[[267   6]\n",
      " [ 22  15]]\n",
      "              precision    recall  f1-score   support\n",
      "\n",
      "           0       0.92      0.98      0.95       273\n",
      "           1       0.71      0.41      0.52        37\n",
      "\n",
      "    accuracy                           0.91       310\n",
      "   macro avg       0.82      0.69      0.73       310\n",
      "weighted avg       0.90      0.91      0.90       310\n",
      "\n"
     ]
    }
   ],
   "source": [
    "# check all model accurecy at a single code\n",
    "from sklearn.metrics import accuracy_score,confusion_matrix,classification_report\n",
    "from sklearn.neighbors import KNeighborsClassifier\n",
    "from sklearn.ensemble import RandomForestClassifier\n",
    "from sklearn.svm import SVC\n",
    "from sklearn.tree import DecisionTreeClassifier\n",
    "from sklearn.linear_model import LogisticRegression\n",
    "\n",
    "rf= RandomForestClassifier(n_estimators=300)\n",
    "knn=KNeighborsClassifier()\n",
    "lr=LogisticRegression()\n",
    "dst=DecisionTreeClassifier()\n",
    "sv=SVC()\n",
    "\n",
    "model=[knn,lr,dst,sv,rf]\n",
    "\n",
    "for m in model:\n",
    "    m.fit(x_train , y_train)\n",
    "    m.score(x_train , y_train)\n",
    "    predm=m.predict(x_test)\n",
    "    print('accuracy score of' ,m, 'is')\n",
    "    print(accuracy_score(y_test,predm))\n",
    "    print(confusion_matrix(y_test,predm))\n",
    "    print(classification_report(y_test,predm))"
   ]
  },
  {
   "cell_type": "code",
   "execution_count": 54,
   "id": "3a754a2e",
   "metadata": {},
   "outputs": [
    {
     "data": {
      "text/html": [
       "<div>\n",
       "<style scoped>\n",
       "    .dataframe tbody tr th:only-of-type {\n",
       "        vertical-align: middle;\n",
       "    }\n",
       "\n",
       "    .dataframe tbody tr th {\n",
       "        vertical-align: top;\n",
       "    }\n",
       "\n",
       "    .dataframe thead th {\n",
       "        text-align: right;\n",
       "    }\n",
       "</style>\n",
       "<table border=\"1\" class=\"dataframe\">\n",
       "  <thead>\n",
       "    <tr style=\"text-align: right;\">\n",
       "      <th></th>\n",
       "      <th>Model</th>\n",
       "    </tr>\n",
       "    <tr>\n",
       "      <th>Score</th>\n",
       "      <th></th>\n",
       "    </tr>\n",
       "  </thead>\n",
       "  <tbody>\n",
       "    <tr>\n",
       "      <th>0.919</th>\n",
       "      <td>Logistic Regression</td>\n",
       "    </tr>\n",
       "    <tr>\n",
       "      <th>0.906</th>\n",
       "      <td>SVC</td>\n",
       "    </tr>\n",
       "    <tr>\n",
       "      <th>0.900</th>\n",
       "      <td>Random Forest</td>\n",
       "    </tr>\n",
       "    <tr>\n",
       "      <th>0.890</th>\n",
       "      <td>KNN</td>\n",
       "    </tr>\n",
       "    <tr>\n",
       "      <th>0.830</th>\n",
       "      <td>Decision Tree</td>\n",
       "    </tr>\n",
       "  </tbody>\n",
       "</table>\n",
       "</div>"
      ],
      "text/plain": [
       "                     Model\n",
       "Score                     \n",
       "0.919  Logistic Regression\n",
       "0.906                  SVC\n",
       "0.900        Random Forest\n",
       "0.890                  KNN\n",
       "0.830        Decision Tree"
      ]
     },
     "execution_count": 54,
     "metadata": {},
     "output_type": "execute_result"
    }
   ],
   "source": [
    "results = pd.DataFrame({\n",
    "    'Model': ['Logistic Regression','KNN', 'SVC','Decision Tree' ,'Random Forest'],\n",
    "    'Score': [0.919,0.89,0.906,0.83,0.90]})\n",
    "\n",
    "result_df = results.sort_values(by='Score', ascending=False)\n",
    "result_df = result_df.set_index('Score')\n",
    "result_df"
   ]
  },
  {
   "cell_type": "markdown",
   "id": "ce6bd8c8",
   "metadata": {},
   "source": [
    "Observation\n",
    "\n",
    "Hence I will use Logistic Regression algorithms for training my model."
   ]
  },
  {
   "cell_type": "markdown",
   "id": "72183938",
   "metadata": {},
   "source": [
    "# cross validation scote for logistic regression"
   ]
  },
  {
   "cell_type": "code",
   "execution_count": 55,
   "id": "66c5c429",
   "metadata": {},
   "outputs": [],
   "source": [
    "#cross validation for logistic regression\n",
    "\n",
    "pred_lr=lr.predict(x_test)\n",
    "\n",
    "from sklearn.model_selection import cross_val_score\n",
    "\n",
    "lss=accuracy_score(y_test,pred_lr)"
   ]
  },
  {
   "cell_type": "code",
   "execution_count": 56,
   "id": "b27cf312",
   "metadata": {},
   "outputs": [
    {
     "name": "stdout",
     "output_type": "stream",
     "text": [
      "[0.87096774 0.9        0.85436893 0.88673139]\n",
      " At cv = 4\n",
      "cross validation score is 87.80170163900198\n",
      "acurecy score is 91.93548387096774\n",
      "/n \n",
      "[0.87096774 0.85887097 0.89516129 0.8340081  0.87854251]\n",
      " At cv = 5\n",
      "cross validation score is 86.75101214574899\n",
      "acurecy score is 91.93548387096774\n",
      "/n \n",
      "[0.87922705 0.85507246 0.90776699 0.87864078 0.8592233  0.86893204]\n",
      " At cv = 6\n",
      "cross validation score is 87.4810437284055\n",
      "acurecy score is 91.93548387096774\n",
      "/n \n",
      "[0.87570621 0.88135593 0.88135593 0.90960452 0.84180791 0.87570621\n",
      " 0.88636364]\n",
      " At cv = 7\n",
      "cross validation score is 87.88429085039255\n",
      "acurecy score is 91.93548387096774\n",
      "/n \n",
      "[0.89032258 0.84516129 0.89677419 0.90967742 0.87741935 0.83225806\n",
      " 0.87662338 0.88961039]\n",
      " At cv = 8\n",
      "cross validation score is 87.72308336824466\n",
      "acurecy score is 91.93548387096774\n",
      "/n \n",
      "[0.88405797 0.86231884 0.86231884 0.89130435 0.9057971  0.86131387\n",
      " 0.86861314 0.86861314 0.89051095]\n",
      " At cv = 9\n",
      "cross validation score is 87.72053551488652\n",
      "acurecy score is 91.93548387096774\n",
      "/n \n"
     ]
    }
   ],
   "source": [
    "for j in range(4,10):\n",
    "    lsscore=cross_val_score(lr,x,y,cv=j)\n",
    "    print(lsscore)\n",
    "    lsc=lsscore.mean()\n",
    "    \n",
    "    print(\" At cv =\",j)\n",
    "    \n",
    "    print(\"cross validation score is\",lsc*100)\n",
    "    \n",
    "    print(\"acurecy score is\",lss*100)\n",
    "    \n",
    "    print(\"/n \")"
   ]
  },
  {
   "cell_type": "code",
   "execution_count": 57,
   "id": "b1c65ab3",
   "metadata": {},
   "outputs": [
    {
     "name": "stdout",
     "output_type": "stream",
     "text": [
      "the cv score is  0.8044445027827365 /n the accurecy score is: 0.9193548387096774\n"
     ]
    }
   ],
   "source": [
    "lsscore_selected=cross_val_score(lr,trainx,trainy,cv=4).mean()\n",
    "print(\"the cv score is \",lsscore_selected,\"/n the accurecy score is:\",lss)"
   ]
  },
  {
   "cell_type": "markdown",
   "id": "07dbc810",
   "metadata": {},
   "source": [
    "# model saving"
   ]
  },
  {
   "cell_type": "code",
   "execution_count": 60,
   "id": "6d404a6b",
   "metadata": {},
   "outputs": [],
   "source": [
    "import pickle\n",
    "filename_1=\"wine_quality.pkl\"\n",
    "pickle.dump(lr,open(filename_1,\"wb\"))"
   ]
  },
  {
   "cell_type": "markdown",
   "id": "39afef40",
   "metadata": {},
   "source": [
    "# conclusion"
   ]
  },
  {
   "cell_type": "code",
   "execution_count": 61,
   "id": "687b7244",
   "metadata": {},
   "outputs": [
    {
     "data": {
      "text/html": [
       "<div>\n",
       "<style scoped>\n",
       "    .dataframe tbody tr th:only-of-type {\n",
       "        vertical-align: middle;\n",
       "    }\n",
       "\n",
       "    .dataframe tbody tr th {\n",
       "        vertical-align: top;\n",
       "    }\n",
       "\n",
       "    .dataframe thead th {\n",
       "        text-align: right;\n",
       "    }\n",
       "</style>\n",
       "<table border=\"1\" class=\"dataframe\">\n",
       "  <thead>\n",
       "    <tr style=\"text-align: right;\">\n",
       "      <th></th>\n",
       "      <th>original</th>\n",
       "      <th>predicted</th>\n",
       "    </tr>\n",
       "  </thead>\n",
       "  <tbody>\n",
       "    <tr>\n",
       "      <th>0</th>\n",
       "      <td>0</td>\n",
       "      <td>0</td>\n",
       "    </tr>\n",
       "    <tr>\n",
       "      <th>1</th>\n",
       "      <td>0</td>\n",
       "      <td>0</td>\n",
       "    </tr>\n",
       "    <tr>\n",
       "      <th>2</th>\n",
       "      <td>0</td>\n",
       "      <td>0</td>\n",
       "    </tr>\n",
       "    <tr>\n",
       "      <th>3</th>\n",
       "      <td>0</td>\n",
       "      <td>0</td>\n",
       "    </tr>\n",
       "    <tr>\n",
       "      <th>4</th>\n",
       "      <td>0</td>\n",
       "      <td>0</td>\n",
       "    </tr>\n",
       "    <tr>\n",
       "      <th>...</th>\n",
       "      <td>...</td>\n",
       "      <td>...</td>\n",
       "    </tr>\n",
       "    <tr>\n",
       "      <th>305</th>\n",
       "      <td>0</td>\n",
       "      <td>0</td>\n",
       "    </tr>\n",
       "    <tr>\n",
       "      <th>306</th>\n",
       "      <td>0</td>\n",
       "      <td>0</td>\n",
       "    </tr>\n",
       "    <tr>\n",
       "      <th>307</th>\n",
       "      <td>0</td>\n",
       "      <td>0</td>\n",
       "    </tr>\n",
       "    <tr>\n",
       "      <th>308</th>\n",
       "      <td>0</td>\n",
       "      <td>0</td>\n",
       "    </tr>\n",
       "    <tr>\n",
       "      <th>309</th>\n",
       "      <td>1</td>\n",
       "      <td>0</td>\n",
       "    </tr>\n",
       "  </tbody>\n",
       "</table>\n",
       "<p>310 rows × 2 columns</p>\n",
       "</div>"
      ],
      "text/plain": [
       "     original  predicted\n",
       "0           0          0\n",
       "1           0          0\n",
       "2           0          0\n",
       "3           0          0\n",
       "4           0          0\n",
       "..        ...        ...\n",
       "305         0          0\n",
       "306         0          0\n",
       "307         0          0\n",
       "308         0          0\n",
       "309         1          0\n",
       "\n",
       "[310 rows x 2 columns]"
      ]
     },
     "execution_count": 61,
     "metadata": {},
     "output_type": "execute_result"
    }
   ],
   "source": [
    "original=np.array(y_test)\n",
    "predicted=np.array(lr.predict(x_test))\n",
    "\n",
    "df_com=pd.DataFrame({\"original\":original,\"predicted\":predicted},index=range(len(original)))\n",
    "df_com"
   ]
  },
  {
   "cell_type": "code",
   "execution_count": null,
   "id": "a3cfc301",
   "metadata": {},
   "outputs": [],
   "source": []
  }
 ],
 "metadata": {
  "kernelspec": {
   "display_name": "Python 3 (ipykernel)",
   "language": "python",
   "name": "python3"
  },
  "language_info": {
   "codemirror_mode": {
    "name": "ipython",
    "version": 3
   },
   "file_extension": ".py",
   "mimetype": "text/x-python",
   "name": "python",
   "nbconvert_exporter": "python",
   "pygments_lexer": "ipython3",
   "version": "3.9.7"
  }
 },
 "nbformat": 4,
 "nbformat_minor": 5
}
