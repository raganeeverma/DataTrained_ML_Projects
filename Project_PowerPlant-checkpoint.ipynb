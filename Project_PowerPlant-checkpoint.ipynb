{
 "cells": [
  {
   "cell_type": "markdown",
   "id": "8afe9ca9",
   "metadata": {},
   "source": [
    "# Problem Statement:\n",
    "\n",
    "The Global Power Plant Database is a comprehensive, open source database of power plants around the world. It centralizes power plant data to make it easier to navigate, compare and draw insights for one’s own analysis. The database covers approximately 35,000 power plants from 167 countries and includes thermal plants (e.g. coal, gas, oil, nuclear, biomass, waste, geothermal) and renewables (e.g. hydro, wind, solar). Each power plant is geolocated and entries contain information on plant capacity, generation, ownership, and fuel type. It will be continuously updated as data becomes available."
   ]
  },
  {
   "cell_type": "markdown",
   "id": "2646aebd",
   "metadata": {},
   "source": [
    "# Understanding Dataset :\n",
    "\n",
    "1 country (text): 3 character country code corresponding to the ISO 3166-1 alpha-3 specification \n",
    "\n",
    "\n",
    "2 country_long (text): longer form of the country designation \n",
    "\n",
    "3 name (text): name or title of the power plant, generally in Romanized form \n",
    "\n",
    "4 gppd_idnr (text): 10 or 12 character identifier for the power plant\n",
    "\n",
    "5 6capacity_mw (number): electrical generating capacity in megawatts\n",
    "\n",
    "6 latitude (number): geolocation in decimal degrees; WGS84 (EPSG:4326) \n",
    "\n",
    "7 longitude (number): geolocation in decimal degrees; WGS84 (EPSG:4326) \n",
    "\n",
    "8 primary_fuel (text): energy source used in primary electricity generation or export\n",
    "\n",
    "9 other_fuel1 (text): energy source used in electricity generation or export \n",
    "\n",
    "10 other_fuel2 (text): energy source used in electricity generation or export \n",
    "\n",
    "11 other_fuel3 (text): energy source used in electricity generation or export \n",
    "\n",
    "12 commissioning_year (number): year of plant operation, weighted by unit-capacity when data is available \n",
    "\n",
    "13 owner (text): majority shareholder of the power plant, generally in Romanized form \n",
    "\n",
    "14 source (text): entity reporting the data; could be an organization, report, or document, generally in Romanized form\n",
    "\n",
    "15 url (text): web document corresponding to the source field '\n",
    "\n",
    "16 geolocation_source (text): attribution for geolocation information wepp_id (text): a reference to a unique plant identifier in the widely-used PLATTS-WEPP database. \n",
    "\n",
    "17 year_of_capacity_data (number): year the capacity information was reported\n",
    "\n",
    "18 generation_gwh_2013 (number): electricity generation in gigawatt-hours reported for the year 2013 \n",
    "\n",
    "19 generation_gwh_2014 (number): electricity generation in gigawatt-hours reported for the year 2014 \n",
    "\n",
    "20 generation_gwh_2015 (number): electricity generation in gigawatt-hours reported for the year 2015 \n",
    "\n",
    "21 generation_gwh_2016 (number): electricity generation in gigawatt-hours reported for the year 2016 \n",
    "\n",
    "22 generation_gwh_2017 (number): electricity generation in gigawatt-hours reported for the year 2017 \n",
    "\n",
    "23 generation_gwh_2018 (number): electricity generation in gigawatt-hours reported for the year 2018\n",
    "\n",
    "24 generation_gwh_2019 (number): electricity generation in gigawatt-hours reported for the year 2019 \n",
    "\n",
    "25 generation_data_source (text): attribution for the reported generation information \n",
    "\n",
    "26 estimated_generation_gwh_2013 (number): estimated electricity generation in gigawatt-hours for the year 2013 \n",
    "\n",
    "27 estimated_generation_gwh_2014 (number): estimated electricity generation in gigawatt-hours for the year 2014 \n",
    "\n",
    "28 estimated_generation_gwh_2015 (number): estimated electricity generation in gigawatt-hours for the year 2015 \n",
    "\n",
    "29 estimated_generation_gwh_2016 (number): estimated electricity generation in gigawatt-hours for the year 2016 \n",
    "\n",
    "30 estimated_generation_gwh_2017 (number): estimated electricity generation in gigawatt-hours for the year 2017 \n",
    "\n",
    "31 estimated_generation_note_2013(text): label of the model/method used to estimate generation for the year \n",
    "\n",
    "32 2013estimated_generation_note_2014(text): label of the model/method used to estimate generation for the year \n",
    "\n",
    "33 2014estimated_generation_note_2015(text): label of the model/method used to estimate generation for the year \n",
    "\n",
    "34 2015estimated_generation_note_2016(text): label of the model/method used to estimate generation for the year \n",
    "\n",
    "35 2016estimated_generation_note_2017 (text): label of the model/method used to estimate generation for the year 2017 Fuel \n",
    "\n",
    "Type Aggregation We define the \"Fuel Type\" attribute of our database based on common fuel categories."
   ]
  },
  {
   "cell_type": "markdown",
   "id": "9b82a6d5",
   "metadata": {},
   "source": [
    "# Key attributes of the database\n",
    "\n",
    "The database includes the following indicators:\n",
    "\n",
    "Plant name\n",
    "\n",
    "Fuel type(s)\n",
    "\n",
    "Generation capacity\n",
    "\n",
    "Country\n",
    "\n",
    "Ownership\n",
    "\n",
    "Latitude/longitude of plant\n",
    "\n",
    "Data source & URL\n",
    "\n",
    "Data source year\n",
    "\n",
    "Annual generation\n"
   ]
  },
  {
   "cell_type": "markdown",
   "id": "91bfee8c",
   "metadata": {},
   "source": [
    "# Target :\n",
    "\n",
    " Need To Predict Primary Fuel And Capacity_mw For Global Power Plant Dataset \n"
   ]
  },
  {
   "cell_type": "markdown",
   "id": "8a3a2bb3",
   "metadata": {},
   "source": [
    "# Importing Libraries"
   ]
  },
  {
   "cell_type": "code",
   "execution_count": 1,
   "id": "e5e2d63f",
   "metadata": {},
   "outputs": [],
   "source": [
    "#Importing required packages.\n",
    "\n",
    "import pandas as pd\n",
    "import numpy as np\n",
    "import scipy.stats as st\n",
    "\n",
    "#ploting libraries\n",
    "import matplotlib.pyplot as plt\n",
    "import seaborn as sns\n",
    "\n",
    "\n",
    "#feature engineering\n",
    "\n",
    "from sklearn.preprocessing import StandardScaler, LabelEncoder\n",
    "\n",
    "#train test split and #cross validation\n",
    "from sklearn.model_selection import train_test_split, GridSearchCV, cross_val_score\n",
    "from scipy.stats import zscore\n",
    "\n",
    "#metrics\n",
    "from sklearn import metrics\n",
    "from sklearn.metrics import confusion_matrix, classification_report,accuracy_score\n",
    "from sklearn.metrics import r2_score,mean_squared_error\n",
    "\n",
    "#classification \n",
    "import sklearn\n",
    "from sklearn.svm import SVC\n",
    "from sklearn.neighbors import KNeighborsClassifier\n",
    "from sklearn.tree import DecisionTreeClassifier\n",
    "from sklearn.ensemble import RandomForestClassifier\n",
    "\n",
    "#regreassion\n",
    "from sklearn.linear_model import LinearRegression, Ridge, Lasso\n",
    "from sklearn.svm import SVR\n",
    "from sklearn.tree import DecisionTreeRegressor\n",
    "from sklearn.ensemble import RandomForestRegressor\n",
    "from sklearn.neighbors import KNeighborsRegressor\n",
    "from sklearn.ensemble import AdaBoostRegressor\n",
    "from sklearn.ensemble import ExtraTreesRegressor\n",
    "from sklearn.ensemble import GradientBoostingRegressor\n",
    "from sklearn.metrics import r2_score\n",
    "from sklearn.metrics import mean_squared_error\n",
    "\n",
    "%matplotlib inline\n",
    "import warnings\n",
    "warnings.filterwarnings('ignore')"
   ]
  },
  {
   "cell_type": "markdown",
   "id": "0b06a636",
   "metadata": {},
   "source": [
    "# importing Dataset and Data Information"
   ]
  },
  {
   "cell_type": "code",
   "execution_count": 2,
   "id": "c0b04f62",
   "metadata": {},
   "outputs": [],
   "source": [
    "#Loading dataset\n",
    "df=pd.read_csv('power_plant.csv')"
   ]
  },
  {
   "cell_type": "code",
   "execution_count": 3,
   "id": "07f810d0",
   "metadata": {},
   "outputs": [
    {
     "data": {
      "text/plain": [
       "(907, 27)"
      ]
     },
     "execution_count": 3,
     "metadata": {},
     "output_type": "execute_result"
    }
   ],
   "source": [
    "df.shape"
   ]
  },
  {
   "cell_type": "code",
   "execution_count": 4,
   "id": "5ca98602",
   "metadata": {},
   "outputs": [
    {
     "data": {
      "text/html": [
       "<div>\n",
       "<style scoped>\n",
       "    .dataframe tbody tr th:only-of-type {\n",
       "        vertical-align: middle;\n",
       "    }\n",
       "\n",
       "    .dataframe tbody tr th {\n",
       "        vertical-align: top;\n",
       "    }\n",
       "\n",
       "    .dataframe thead th {\n",
       "        text-align: right;\n",
       "    }\n",
       "</style>\n",
       "<table border=\"1\" class=\"dataframe\">\n",
       "  <thead>\n",
       "    <tr style=\"text-align: right;\">\n",
       "      <th></th>\n",
       "      <th>country</th>\n",
       "      <th>country_long</th>\n",
       "      <th>name</th>\n",
       "      <th>gppd_idnr</th>\n",
       "      <th>capacity_mw</th>\n",
       "      <th>latitude</th>\n",
       "      <th>longitude</th>\n",
       "      <th>primary_fuel</th>\n",
       "      <th>other_fuel1</th>\n",
       "      <th>other_fuel2</th>\n",
       "      <th>...</th>\n",
       "      <th>year_of_capacity_data</th>\n",
       "      <th>generation_gwh_2013</th>\n",
       "      <th>generation_gwh_2014</th>\n",
       "      <th>generation_gwh_2015</th>\n",
       "      <th>generation_gwh_2016</th>\n",
       "      <th>generation_gwh_2017</th>\n",
       "      <th>generation_gwh_2018</th>\n",
       "      <th>generation_gwh_2019</th>\n",
       "      <th>generation_data_source</th>\n",
       "      <th>estimated_generation_gwh</th>\n",
       "    </tr>\n",
       "  </thead>\n",
       "  <tbody>\n",
       "    <tr>\n",
       "      <th>0</th>\n",
       "      <td>IND</td>\n",
       "      <td>India</td>\n",
       "      <td>ACME Solar Tower</td>\n",
       "      <td>WRI1020239</td>\n",
       "      <td>2.5</td>\n",
       "      <td>28.1839</td>\n",
       "      <td>73.2407</td>\n",
       "      <td>Solar</td>\n",
       "      <td>NaN</td>\n",
       "      <td>NaN</td>\n",
       "      <td>...</td>\n",
       "      <td>NaN</td>\n",
       "      <td>NaN</td>\n",
       "      <td>NaN</td>\n",
       "      <td>NaN</td>\n",
       "      <td>NaN</td>\n",
       "      <td>NaN</td>\n",
       "      <td>NaN</td>\n",
       "      <td>NaN</td>\n",
       "      <td>NaN</td>\n",
       "      <td>NaN</td>\n",
       "    </tr>\n",
       "    <tr>\n",
       "      <th>1</th>\n",
       "      <td>IND</td>\n",
       "      <td>India</td>\n",
       "      <td>ADITYA CEMENT WORKS</td>\n",
       "      <td>WRI1019881</td>\n",
       "      <td>98.0</td>\n",
       "      <td>24.7663</td>\n",
       "      <td>74.6090</td>\n",
       "      <td>Coal</td>\n",
       "      <td>NaN</td>\n",
       "      <td>NaN</td>\n",
       "      <td>...</td>\n",
       "      <td>NaN</td>\n",
       "      <td>NaN</td>\n",
       "      <td>NaN</td>\n",
       "      <td>NaN</td>\n",
       "      <td>NaN</td>\n",
       "      <td>NaN</td>\n",
       "      <td>NaN</td>\n",
       "      <td>NaN</td>\n",
       "      <td>NaN</td>\n",
       "      <td>NaN</td>\n",
       "    </tr>\n",
       "    <tr>\n",
       "      <th>2</th>\n",
       "      <td>IND</td>\n",
       "      <td>India</td>\n",
       "      <td>AES Saurashtra Windfarms</td>\n",
       "      <td>WRI1026669</td>\n",
       "      <td>39.2</td>\n",
       "      <td>21.9038</td>\n",
       "      <td>69.3732</td>\n",
       "      <td>Wind</td>\n",
       "      <td>NaN</td>\n",
       "      <td>NaN</td>\n",
       "      <td>...</td>\n",
       "      <td>NaN</td>\n",
       "      <td>NaN</td>\n",
       "      <td>NaN</td>\n",
       "      <td>NaN</td>\n",
       "      <td>NaN</td>\n",
       "      <td>NaN</td>\n",
       "      <td>NaN</td>\n",
       "      <td>NaN</td>\n",
       "      <td>NaN</td>\n",
       "      <td>NaN</td>\n",
       "    </tr>\n",
       "    <tr>\n",
       "      <th>3</th>\n",
       "      <td>IND</td>\n",
       "      <td>India</td>\n",
       "      <td>AGARTALA GT</td>\n",
       "      <td>IND0000001</td>\n",
       "      <td>135.0</td>\n",
       "      <td>23.8712</td>\n",
       "      <td>91.3602</td>\n",
       "      <td>Gas</td>\n",
       "      <td>NaN</td>\n",
       "      <td>NaN</td>\n",
       "      <td>...</td>\n",
       "      <td>2019.0</td>\n",
       "      <td>NaN</td>\n",
       "      <td>617.789264</td>\n",
       "      <td>843.747</td>\n",
       "      <td>886.004428</td>\n",
       "      <td>663.774500</td>\n",
       "      <td>626.239128</td>\n",
       "      <td>NaN</td>\n",
       "      <td>Central Electricity Authority</td>\n",
       "      <td>NaN</td>\n",
       "    </tr>\n",
       "    <tr>\n",
       "      <th>4</th>\n",
       "      <td>IND</td>\n",
       "      <td>India</td>\n",
       "      <td>AKALTARA TPP</td>\n",
       "      <td>IND0000002</td>\n",
       "      <td>1800.0</td>\n",
       "      <td>21.9603</td>\n",
       "      <td>82.4091</td>\n",
       "      <td>Coal</td>\n",
       "      <td>Oil</td>\n",
       "      <td>NaN</td>\n",
       "      <td>...</td>\n",
       "      <td>2019.0</td>\n",
       "      <td>NaN</td>\n",
       "      <td>3035.550000</td>\n",
       "      <td>5916.370</td>\n",
       "      <td>6243.000000</td>\n",
       "      <td>5385.579736</td>\n",
       "      <td>7279.000000</td>\n",
       "      <td>NaN</td>\n",
       "      <td>Central Electricity Authority</td>\n",
       "      <td>NaN</td>\n",
       "    </tr>\n",
       "  </tbody>\n",
       "</table>\n",
       "<p>5 rows × 27 columns</p>\n",
       "</div>"
      ],
      "text/plain": [
       "  country country_long                      name   gppd_idnr  capacity_mw  \\\n",
       "0     IND        India          ACME Solar Tower  WRI1020239          2.5   \n",
       "1     IND        India       ADITYA CEMENT WORKS  WRI1019881         98.0   \n",
       "2     IND        India  AES Saurashtra Windfarms  WRI1026669         39.2   \n",
       "3     IND        India               AGARTALA GT  IND0000001        135.0   \n",
       "4     IND        India              AKALTARA TPP  IND0000002       1800.0   \n",
       "\n",
       "   latitude  longitude primary_fuel other_fuel1 other_fuel2  ...  \\\n",
       "0   28.1839    73.2407        Solar         NaN         NaN  ...   \n",
       "1   24.7663    74.6090         Coal         NaN         NaN  ...   \n",
       "2   21.9038    69.3732         Wind         NaN         NaN  ...   \n",
       "3   23.8712    91.3602          Gas         NaN         NaN  ...   \n",
       "4   21.9603    82.4091         Coal         Oil         NaN  ...   \n",
       "\n",
       "   year_of_capacity_data  generation_gwh_2013 generation_gwh_2014  \\\n",
       "0                    NaN                  NaN                 NaN   \n",
       "1                    NaN                  NaN                 NaN   \n",
       "2                    NaN                  NaN                 NaN   \n",
       "3                 2019.0                  NaN          617.789264   \n",
       "4                 2019.0                  NaN         3035.550000   \n",
       "\n",
       "  generation_gwh_2015 generation_gwh_2016 generation_gwh_2017  \\\n",
       "0                 NaN                 NaN                 NaN   \n",
       "1                 NaN                 NaN                 NaN   \n",
       "2                 NaN                 NaN                 NaN   \n",
       "3             843.747          886.004428          663.774500   \n",
       "4            5916.370         6243.000000         5385.579736   \n",
       "\n",
       "   generation_gwh_2018  generation_gwh_2019         generation_data_source  \\\n",
       "0                  NaN                  NaN                            NaN   \n",
       "1                  NaN                  NaN                            NaN   \n",
       "2                  NaN                  NaN                            NaN   \n",
       "3           626.239128                  NaN  Central Electricity Authority   \n",
       "4          7279.000000                  NaN  Central Electricity Authority   \n",
       "\n",
       "   estimated_generation_gwh  \n",
       "0                       NaN  \n",
       "1                       NaN  \n",
       "2                       NaN  \n",
       "3                       NaN  \n",
       "4                       NaN  \n",
       "\n",
       "[5 rows x 27 columns]"
      ]
     },
     "execution_count": 4,
     "metadata": {},
     "output_type": "execute_result"
    }
   ],
   "source": [
    "df.head(5)"
   ]
  },
  {
   "cell_type": "markdown",
   "id": "be6f0a51",
   "metadata": {},
   "source": [
    "Checking the first 5  of our entire dataset. We can see that our dataset have total 907 rows and 27 columns.\n",
    "\n",
    "In our problem statement we have  to predict 2 target primary_fuel and capacity_mw. When we take a look at the values present in the column primary_fuel we see that there are categorical data in that column so when we consider it as our label it will be termed as a Classification problem!\n",
    "\n",
    "Similarly, if we take the values present in the column capacity_mw we see that there are continous data in that column so when we consider it as our label it will be termed as a Regression problem!"
   ]
  },
  {
   "cell_type": "code",
   "execution_count": 5,
   "id": "597dc2f1",
   "metadata": {},
   "outputs": [
    {
     "data": {
      "text/plain": [
       "Index(['country', 'country_long', 'name', 'gppd_idnr', 'capacity_mw',\n",
       "       'latitude', 'longitude', 'primary_fuel', 'other_fuel1', 'other_fuel2',\n",
       "       'other_fuel3', 'commissioning_year', 'owner', 'source', 'url',\n",
       "       'geolocation_source', 'wepp_id', 'year_of_capacity_data',\n",
       "       'generation_gwh_2013', 'generation_gwh_2014', 'generation_gwh_2015',\n",
       "       'generation_gwh_2016', 'generation_gwh_2017', 'generation_gwh_2018',\n",
       "       'generation_gwh_2019', 'generation_data_source',\n",
       "       'estimated_generation_gwh'],\n",
       "      dtype='object')"
      ]
     },
     "execution_count": 5,
     "metadata": {},
     "output_type": "execute_result"
    }
   ],
   "source": [
    "df.columns"
   ]
  },
  {
   "cell_type": "markdown",
   "id": "db6045b3",
   "metadata": {},
   "source": [
    "Major Key attributes we need for prediction :-\n",
    "\n",
    "Plant name\n",
    "\n",
    "Fuel type(s)\n",
    "\n",
    "Generation capacity\n",
    "\n",
    "Country\n",
    "\n",
    "Ownership\n",
    "\n",
    "Latitude/longitude of plant\n",
    "\n",
    "Data source & URL\n",
    "\n",
    "Data source year\n",
    "\n",
    "Annual generation"
   ]
  },
  {
   "cell_type": "code",
   "execution_count": 6,
   "id": "a408b5a2",
   "metadata": {},
   "outputs": [
    {
     "name": "stdout",
     "output_type": "stream",
     "text": [
      "<class 'pandas.core.frame.DataFrame'>\n",
      "RangeIndex: 907 entries, 0 to 906\n",
      "Data columns (total 27 columns):\n",
      " #   Column                    Non-Null Count  Dtype  \n",
      "---  ------                    --------------  -----  \n",
      " 0   country                   907 non-null    object \n",
      " 1   country_long              907 non-null    object \n",
      " 2   name                      907 non-null    object \n",
      " 3   gppd_idnr                 907 non-null    object \n",
      " 4   capacity_mw               907 non-null    float64\n",
      " 5   latitude                  861 non-null    float64\n",
      " 6   longitude                 861 non-null    float64\n",
      " 7   primary_fuel              907 non-null    object \n",
      " 8   other_fuel1               198 non-null    object \n",
      " 9   other_fuel2               1 non-null      object \n",
      " 10  other_fuel3               0 non-null      float64\n",
      " 11  commissioning_year        527 non-null    float64\n",
      " 12  owner                     342 non-null    object \n",
      " 13  source                    907 non-null    object \n",
      " 14  url                       907 non-null    object \n",
      " 15  geolocation_source        888 non-null    object \n",
      " 16  wepp_id                   0 non-null      float64\n",
      " 17  year_of_capacity_data     519 non-null    float64\n",
      " 18  generation_gwh_2013       0 non-null      float64\n",
      " 19  generation_gwh_2014       398 non-null    float64\n",
      " 20  generation_gwh_2015       422 non-null    float64\n",
      " 21  generation_gwh_2016       434 non-null    float64\n",
      " 22  generation_gwh_2017       440 non-null    float64\n",
      " 23  generation_gwh_2018       448 non-null    float64\n",
      " 24  generation_gwh_2019       0 non-null      float64\n",
      " 25  generation_data_source    449 non-null    object \n",
      " 26  estimated_generation_gwh  0 non-null      float64\n",
      "dtypes: float64(15), object(12)\n",
      "memory usage: 191.4+ KB\n"
     ]
    }
   ],
   "source": [
    "# check datatypes and memory captured\n",
    "df.info()"
   ]
  },
  {
   "cell_type": "markdown",
   "id": "36435648",
   "metadata": {},
   "source": [
    "Observations:\n",
    "\n",
    "1. Two types of data are present:\n",
    "    \n",
    "   categorical -12\n",
    "    numerical  -15\n",
    "\n",
    "2. Null value present in most of the column\n",
    "\n",
    "3. No any value present in the column\n",
    "\n",
    "other_fuel3 ,wepp_id,generation_gwh_2013,generation_gwh_2019,estimated_generation_gwh"
   ]
  },
  {
   "cell_type": "code",
   "execution_count": 7,
   "id": "665507b9",
   "metadata": {},
   "outputs": [
    {
     "data": {
      "text/html": [
       "<div>\n",
       "<style scoped>\n",
       "    .dataframe tbody tr th:only-of-type {\n",
       "        vertical-align: middle;\n",
       "    }\n",
       "\n",
       "    .dataframe tbody tr th {\n",
       "        vertical-align: top;\n",
       "    }\n",
       "\n",
       "    .dataframe thead th {\n",
       "        text-align: right;\n",
       "    }\n",
       "</style>\n",
       "<table border=\"1\" class=\"dataframe\">\n",
       "  <thead>\n",
       "    <tr style=\"text-align: right;\">\n",
       "      <th></th>\n",
       "      <th>capacity_mw</th>\n",
       "      <th>latitude</th>\n",
       "      <th>longitude</th>\n",
       "      <th>other_fuel3</th>\n",
       "      <th>commissioning_year</th>\n",
       "      <th>wepp_id</th>\n",
       "      <th>year_of_capacity_data</th>\n",
       "      <th>generation_gwh_2013</th>\n",
       "      <th>generation_gwh_2014</th>\n",
       "      <th>generation_gwh_2015</th>\n",
       "      <th>generation_gwh_2016</th>\n",
       "      <th>generation_gwh_2017</th>\n",
       "      <th>generation_gwh_2018</th>\n",
       "      <th>generation_gwh_2019</th>\n",
       "      <th>estimated_generation_gwh</th>\n",
       "    </tr>\n",
       "  </thead>\n",
       "  <tbody>\n",
       "    <tr>\n",
       "      <th>count</th>\n",
       "      <td>907.000000</td>\n",
       "      <td>861.000000</td>\n",
       "      <td>861.000000</td>\n",
       "      <td>0.0</td>\n",
       "      <td>527.000000</td>\n",
       "      <td>0.0</td>\n",
       "      <td>519.0</td>\n",
       "      <td>0.0</td>\n",
       "      <td>398.000000</td>\n",
       "      <td>422.000000</td>\n",
       "      <td>434.000000</td>\n",
       "      <td>440.000000</td>\n",
       "      <td>448.000000</td>\n",
       "      <td>0.0</td>\n",
       "      <td>0.0</td>\n",
       "    </tr>\n",
       "    <tr>\n",
       "      <th>mean</th>\n",
       "      <td>326.223755</td>\n",
       "      <td>21.197918</td>\n",
       "      <td>77.464907</td>\n",
       "      <td>NaN</td>\n",
       "      <td>1997.091082</td>\n",
       "      <td>NaN</td>\n",
       "      <td>2019.0</td>\n",
       "      <td>NaN</td>\n",
       "      <td>2431.823590</td>\n",
       "      <td>2428.226946</td>\n",
       "      <td>2467.936859</td>\n",
       "      <td>2547.759305</td>\n",
       "      <td>2600.804099</td>\n",
       "      <td>NaN</td>\n",
       "      <td>NaN</td>\n",
       "    </tr>\n",
       "    <tr>\n",
       "      <th>std</th>\n",
       "      <td>590.085456</td>\n",
       "      <td>6.239612</td>\n",
       "      <td>4.939316</td>\n",
       "      <td>NaN</td>\n",
       "      <td>17.082868</td>\n",
       "      <td>NaN</td>\n",
       "      <td>0.0</td>\n",
       "      <td>NaN</td>\n",
       "      <td>4026.440035</td>\n",
       "      <td>4194.596959</td>\n",
       "      <td>4162.884308</td>\n",
       "      <td>4196.991169</td>\n",
       "      <td>4314.880456</td>\n",
       "      <td>NaN</td>\n",
       "      <td>NaN</td>\n",
       "    </tr>\n",
       "    <tr>\n",
       "      <th>min</th>\n",
       "      <td>0.000000</td>\n",
       "      <td>8.168900</td>\n",
       "      <td>68.644700</td>\n",
       "      <td>NaN</td>\n",
       "      <td>1927.000000</td>\n",
       "      <td>NaN</td>\n",
       "      <td>2019.0</td>\n",
       "      <td>NaN</td>\n",
       "      <td>0.000000</td>\n",
       "      <td>0.000000</td>\n",
       "      <td>0.000000</td>\n",
       "      <td>0.000000</td>\n",
       "      <td>0.000000</td>\n",
       "      <td>NaN</td>\n",
       "      <td>NaN</td>\n",
       "    </tr>\n",
       "    <tr>\n",
       "      <th>25%</th>\n",
       "      <td>16.725000</td>\n",
       "      <td>16.773900</td>\n",
       "      <td>74.256200</td>\n",
       "      <td>NaN</td>\n",
       "      <td>1988.000000</td>\n",
       "      <td>NaN</td>\n",
       "      <td>2019.0</td>\n",
       "      <td>NaN</td>\n",
       "      <td>223.557672</td>\n",
       "      <td>176.381063</td>\n",
       "      <td>188.285252</td>\n",
       "      <td>177.874930</td>\n",
       "      <td>193.378250</td>\n",
       "      <td>NaN</td>\n",
       "      <td>NaN</td>\n",
       "    </tr>\n",
       "    <tr>\n",
       "      <th>50%</th>\n",
       "      <td>59.200000</td>\n",
       "      <td>21.780000</td>\n",
       "      <td>76.719500</td>\n",
       "      <td>NaN</td>\n",
       "      <td>2001.000000</td>\n",
       "      <td>NaN</td>\n",
       "      <td>2019.0</td>\n",
       "      <td>NaN</td>\n",
       "      <td>801.123775</td>\n",
       "      <td>711.181225</td>\n",
       "      <td>737.205450</td>\n",
       "      <td>817.977250</td>\n",
       "      <td>751.644375</td>\n",
       "      <td>NaN</td>\n",
       "      <td>NaN</td>\n",
       "    </tr>\n",
       "    <tr>\n",
       "      <th>75%</th>\n",
       "      <td>385.250000</td>\n",
       "      <td>25.512400</td>\n",
       "      <td>79.440800</td>\n",
       "      <td>NaN</td>\n",
       "      <td>2012.000000</td>\n",
       "      <td>NaN</td>\n",
       "      <td>2019.0</td>\n",
       "      <td>NaN</td>\n",
       "      <td>3035.306250</td>\n",
       "      <td>3084.121250</td>\n",
       "      <td>3282.861313</td>\n",
       "      <td>3275.690475</td>\n",
       "      <td>3143.535900</td>\n",
       "      <td>NaN</td>\n",
       "      <td>NaN</td>\n",
       "    </tr>\n",
       "    <tr>\n",
       "      <th>max</th>\n",
       "      <td>4760.000000</td>\n",
       "      <td>34.649000</td>\n",
       "      <td>95.408000</td>\n",
       "      <td>NaN</td>\n",
       "      <td>2018.000000</td>\n",
       "      <td>NaN</td>\n",
       "      <td>2019.0</td>\n",
       "      <td>NaN</td>\n",
       "      <td>28127.000000</td>\n",
       "      <td>30539.000000</td>\n",
       "      <td>30015.000000</td>\n",
       "      <td>35116.000000</td>\n",
       "      <td>35136.000000</td>\n",
       "      <td>NaN</td>\n",
       "      <td>NaN</td>\n",
       "    </tr>\n",
       "  </tbody>\n",
       "</table>\n",
       "</div>"
      ],
      "text/plain": [
       "       capacity_mw    latitude   longitude  other_fuel3  commissioning_year  \\\n",
       "count   907.000000  861.000000  861.000000          0.0          527.000000   \n",
       "mean    326.223755   21.197918   77.464907          NaN         1997.091082   \n",
       "std     590.085456    6.239612    4.939316          NaN           17.082868   \n",
       "min       0.000000    8.168900   68.644700          NaN         1927.000000   \n",
       "25%      16.725000   16.773900   74.256200          NaN         1988.000000   \n",
       "50%      59.200000   21.780000   76.719500          NaN         2001.000000   \n",
       "75%     385.250000   25.512400   79.440800          NaN         2012.000000   \n",
       "max    4760.000000   34.649000   95.408000          NaN         2018.000000   \n",
       "\n",
       "       wepp_id  year_of_capacity_data  generation_gwh_2013  \\\n",
       "count      0.0                  519.0                  0.0   \n",
       "mean       NaN                 2019.0                  NaN   \n",
       "std        NaN                    0.0                  NaN   \n",
       "min        NaN                 2019.0                  NaN   \n",
       "25%        NaN                 2019.0                  NaN   \n",
       "50%        NaN                 2019.0                  NaN   \n",
       "75%        NaN                 2019.0                  NaN   \n",
       "max        NaN                 2019.0                  NaN   \n",
       "\n",
       "       generation_gwh_2014  generation_gwh_2015  generation_gwh_2016  \\\n",
       "count           398.000000           422.000000           434.000000   \n",
       "mean           2431.823590          2428.226946          2467.936859   \n",
       "std            4026.440035          4194.596959          4162.884308   \n",
       "min               0.000000             0.000000             0.000000   \n",
       "25%             223.557672           176.381063           188.285252   \n",
       "50%             801.123775           711.181225           737.205450   \n",
       "75%            3035.306250          3084.121250          3282.861313   \n",
       "max           28127.000000         30539.000000         30015.000000   \n",
       "\n",
       "       generation_gwh_2017  generation_gwh_2018  generation_gwh_2019  \\\n",
       "count           440.000000           448.000000                  0.0   \n",
       "mean           2547.759305          2600.804099                  NaN   \n",
       "std            4196.991169          4314.880456                  NaN   \n",
       "min               0.000000             0.000000                  NaN   \n",
       "25%             177.874930           193.378250                  NaN   \n",
       "50%             817.977250           751.644375                  NaN   \n",
       "75%            3275.690475          3143.535900                  NaN   \n",
       "max           35116.000000         35136.000000                  NaN   \n",
       "\n",
       "       estimated_generation_gwh  \n",
       "count                       0.0  \n",
       "mean                        NaN  \n",
       "std                         NaN  \n",
       "min                         NaN  \n",
       "25%                         NaN  \n",
       "50%                         NaN  \n",
       "75%                         NaN  \n",
       "max                         NaN  "
      ]
     },
     "execution_count": 7,
     "metadata": {},
     "output_type": "execute_result"
    }
   ],
   "source": [
    "df.describe()"
   ]
  },
  {
   "cell_type": "markdown",
   "id": "9b606577",
   "metadata": {},
   "source": [
    "# Check for null values"
   ]
  },
  {
   "cell_type": "code",
   "execution_count": 8,
   "id": "5232854f",
   "metadata": {
    "scrolled": true
   },
   "outputs": [
    {
     "data": {
      "text/plain": [
       "country                       0\n",
       "country_long                  0\n",
       "name                          0\n",
       "gppd_idnr                     0\n",
       "capacity_mw                   0\n",
       "latitude                     46\n",
       "longitude                    46\n",
       "primary_fuel                  0\n",
       "other_fuel1                 709\n",
       "other_fuel2                 906\n",
       "other_fuel3                 907\n",
       "commissioning_year          380\n",
       "owner                       565\n",
       "source                        0\n",
       "url                           0\n",
       "geolocation_source           19\n",
       "wepp_id                     907\n",
       "year_of_capacity_data       388\n",
       "generation_gwh_2013         907\n",
       "generation_gwh_2014         509\n",
       "generation_gwh_2015         485\n",
       "generation_gwh_2016         473\n",
       "generation_gwh_2017         467\n",
       "generation_gwh_2018         459\n",
       "generation_gwh_2019         907\n",
       "generation_data_source      458\n",
       "estimated_generation_gwh    907\n",
       "dtype: int64"
      ]
     },
     "execution_count": 8,
     "metadata": {},
     "output_type": "execute_result"
    }
   ],
   "source": [
    "df.isnull().sum()"
   ]
  },
  {
   "cell_type": "code",
   "execution_count": 9,
   "id": "5a3b789c",
   "metadata": {},
   "outputs": [
    {
     "data": {
      "text/plain": [
       "<AxesSubplot:>"
      ]
     },
     "execution_count": 9,
     "metadata": {},
     "output_type": "execute_result"
    },
    {
     "data": {
      "image/png": "[encoded data removed]",
      "text/plain": [
       "<Figure size 432x288 with 2 Axes>"
      ]
     },
     "metadata": {
      "needs_background": "light"
     },
     "output_type": "display_data"
    }
   ],
   "source": [
    "sns.heatmap(df.isnull())##check missing value through visualization"
   ]
  },
  {
   "cell_type": "markdown",
   "id": "7027b565",
   "metadata": {},
   "source": [
    " Missing values present  in many columns and few even have all the 907 rows empty that will need to be removed since it provides no insights."
   ]
  },
  {
   "cell_type": "markdown",
   "id": "853316aa",
   "metadata": {},
   "source": [
    "# Data Cleaning"
   ]
  },
  {
   "cell_type": "markdown",
   "id": "69d72bed",
   "metadata": {},
   "source": [
    "1. Drop the columns other_fuel3 ,wepp_id,generation_gwh_2013,generation_gwh_2019,estimated_generation_gwh does not contail any value.\n",
    "\n",
    "2. Drop the columns other_fuel2 because it caontain only one value ."
   ]
  },
  {
   "cell_type": "code",
   "execution_count": 10,
   "id": "3e0635c3",
   "metadata": {},
   "outputs": [],
   "source": [
    "df.drop(['other_fuel2','other_fuel3','wepp_id',\"generation_gwh_2013\",\"estimated_generation_gwh\",\"generation_gwh_2019\"],axis=1,inplace=True)"
   ]
  },
  {
   "cell_type": "code",
   "execution_count": 11,
   "id": "3233b83a",
   "metadata": {},
   "outputs": [
    {
     "data": {
      "text/plain": [
       "(907, 21)"
      ]
     },
     "execution_count": 11,
     "metadata": {},
     "output_type": "execute_result"
    }
   ],
   "source": [
    "df.shape"
   ]
  },
  {
   "cell_type": "code",
   "execution_count": 12,
   "id": "af1c8160",
   "metadata": {
    "scrolled": false
   },
   "outputs": [
    {
     "data": {
      "text/plain": [
       "Index(['country', 'country_long', 'name', 'gppd_idnr', 'capacity_mw',\n",
       "       'latitude', 'longitude', 'primary_fuel', 'other_fuel1',\n",
       "       'commissioning_year', 'owner', 'source', 'url', 'geolocation_source',\n",
       "       'year_of_capacity_data', 'generation_gwh_2014', 'generation_gwh_2015',\n",
       "       'generation_gwh_2016', 'generation_gwh_2017', 'generation_gwh_2018',\n",
       "       'generation_data_source'],\n",
       "      dtype='object')"
      ]
     },
     "execution_count": 12,
     "metadata": {},
     "output_type": "execute_result"
    }
   ],
   "source": [
    "df.columns"
   ]
  },
  {
   "cell_type": "code",
   "execution_count": 13,
   "id": "541e49c3",
   "metadata": {},
   "outputs": [
    {
     "name": "stdout",
     "output_type": "stream",
     "text": [
      "['Solar' 'Coal' 'Wind' 'Gas' 'Hydro' 'Biomass' 'Oil' 'Nuclear']\n",
      "[nan 'Oil' 'Cogeneration' 'Gas']\n",
      "['IND']\n",
      "['India']\n"
     ]
    }
   ],
   "source": [
    "print(df['primary_fuel'].unique())\n",
    "print(df['other_fuel1'].unique())\n",
    "print(df['country'].unique())\n",
    "print(df['country_long'].unique())\n"
   ]
  },
  {
   "cell_type": "markdown",
   "id": "2c953bd6",
   "metadata": {},
   "source": [
    "# Country "
   ]
  },
  {
   "cell_type": "markdown",
   "id": "516be204",
   "metadata": {},
   "source": [
    "But in our study we will be working on the dataset only for INDIA. The data set contains only 907 rows and 27 columns. The data set provides information of all the power plant situated at diffrent loactions in india."
   ]
  },
  {
   "cell_type": "markdown",
   "id": "d0d07bef",
   "metadata": {},
   "source": [
    "Country and contry long both represent the country name so we can use only one column for reprenting county.\n",
    "\n",
    "Drop the coumn country_long"
   ]
  },
  {
   "cell_type": "code",
   "execution_count": 14,
   "id": "45297b0a",
   "metadata": {},
   "outputs": [],
   "source": [
    "df.drop(['country_long'],axis=1,inplace=True)"
   ]
  },
  {
   "cell_type": "code",
   "execution_count": 15,
   "id": "64e03cd9",
   "metadata": {},
   "outputs": [
    {
     "data": {
      "text/plain": [
       "(907, 20)"
      ]
     },
     "execution_count": 15,
     "metadata": {},
     "output_type": "execute_result"
    }
   ],
   "source": [
    "df.shape"
   ]
  },
  {
   "cell_type": "markdown",
   "id": "7eb17cbc",
   "metadata": {},
   "source": [
    "# Name and gppd_idnr"
   ]
  },
  {
   "cell_type": "code",
   "execution_count": 16,
   "id": "eff933fd",
   "metadata": {},
   "outputs": [
    {
     "data": {
      "text/plain": [
       "907"
      ]
     },
     "execution_count": 16,
     "metadata": {},
     "output_type": "execute_result"
    }
   ],
   "source": [
    "df['name'].unique().size"
   ]
  },
  {
   "cell_type": "code",
   "execution_count": 17,
   "id": "5d54b593",
   "metadata": {},
   "outputs": [
    {
     "data": {
      "text/plain": [
       "907"
      ]
     },
     "execution_count": 17,
     "metadata": {},
     "output_type": "execute_result"
    }
   ],
   "source": [
    "df['gppd_idnr'].unique().size"
   ]
  },
  {
   "cell_type": "markdown",
   "id": "75cf507c",
   "metadata": {},
   "source": [
    "We have seen that Name and gppd-idnr have all unique data in all rows of the dataset and being a unique identifier would help to build machine learning model  either and can be deleted too."
   ]
  },
  {
   "cell_type": "code",
   "execution_count": 18,
   "id": "b8b72898",
   "metadata": {},
   "outputs": [],
   "source": [
    "df.drop(['name','gppd_idnr'],axis=1,inplace=True)"
   ]
  },
  {
   "cell_type": "markdown",
   "id": "79b27297",
   "metadata": {},
   "source": [
    "# With the help of nunique method we were able to check the unique data information present in our dataset columns"
   ]
  },
  {
   "cell_type": "code",
   "execution_count": 19,
   "id": "ebf3f642",
   "metadata": {},
   "outputs": [
    {
     "data": {
      "text/html": [
       "<div>\n",
       "<style scoped>\n",
       "    .dataframe tbody tr th:only-of-type {\n",
       "        vertical-align: middle;\n",
       "    }\n",
       "\n",
       "    .dataframe tbody tr th {\n",
       "        vertical-align: top;\n",
       "    }\n",
       "\n",
       "    .dataframe thead th {\n",
       "        text-align: right;\n",
       "    }\n",
       "</style>\n",
       "<table border=\"1\" class=\"dataframe\">\n",
       "  <thead>\n",
       "    <tr style=\"text-align: right;\">\n",
       "      <th></th>\n",
       "      <th>Unique Values</th>\n",
       "    </tr>\n",
       "  </thead>\n",
       "  <tbody>\n",
       "    <tr>\n",
       "      <th>country</th>\n",
       "      <td>1</td>\n",
       "    </tr>\n",
       "    <tr>\n",
       "      <th>capacity_mw</th>\n",
       "      <td>361</td>\n",
       "    </tr>\n",
       "    <tr>\n",
       "      <th>latitude</th>\n",
       "      <td>836</td>\n",
       "    </tr>\n",
       "    <tr>\n",
       "      <th>longitude</th>\n",
       "      <td>827</td>\n",
       "    </tr>\n",
       "    <tr>\n",
       "      <th>primary_fuel</th>\n",
       "      <td>8</td>\n",
       "    </tr>\n",
       "    <tr>\n",
       "      <th>other_fuel1</th>\n",
       "      <td>3</td>\n",
       "    </tr>\n",
       "    <tr>\n",
       "      <th>commissioning_year</th>\n",
       "      <td>73</td>\n",
       "    </tr>\n",
       "    <tr>\n",
       "      <th>owner</th>\n",
       "      <td>280</td>\n",
       "    </tr>\n",
       "    <tr>\n",
       "      <th>source</th>\n",
       "      <td>191</td>\n",
       "    </tr>\n",
       "    <tr>\n",
       "      <th>url</th>\n",
       "      <td>304</td>\n",
       "    </tr>\n",
       "    <tr>\n",
       "      <th>geolocation_source</th>\n",
       "      <td>3</td>\n",
       "    </tr>\n",
       "    <tr>\n",
       "      <th>year_of_capacity_data</th>\n",
       "      <td>1</td>\n",
       "    </tr>\n",
       "    <tr>\n",
       "      <th>generation_gwh_2014</th>\n",
       "      <td>371</td>\n",
       "    </tr>\n",
       "    <tr>\n",
       "      <th>generation_gwh_2015</th>\n",
       "      <td>396</td>\n",
       "    </tr>\n",
       "    <tr>\n",
       "      <th>generation_gwh_2016</th>\n",
       "      <td>403</td>\n",
       "    </tr>\n",
       "    <tr>\n",
       "      <th>generation_gwh_2017</th>\n",
       "      <td>408</td>\n",
       "    </tr>\n",
       "    <tr>\n",
       "      <th>generation_gwh_2018</th>\n",
       "      <td>410</td>\n",
       "    </tr>\n",
       "    <tr>\n",
       "      <th>generation_data_source</th>\n",
       "      <td>1</td>\n",
       "    </tr>\n",
       "  </tbody>\n",
       "</table>\n",
       "</div>"
      ],
      "text/plain": [
       "                        Unique Values\n",
       "country                             1\n",
       "capacity_mw                       361\n",
       "latitude                          836\n",
       "longitude                         827\n",
       "primary_fuel                        8\n",
       "other_fuel1                         3\n",
       "commissioning_year                 73\n",
       "owner                             280\n",
       "source                            191\n",
       "url                               304\n",
       "geolocation_source                  3\n",
       "year_of_capacity_data               1\n",
       "generation_gwh_2014               371\n",
       "generation_gwh_2015               396\n",
       "generation_gwh_2016               403\n",
       "generation_gwh_2017               408\n",
       "generation_gwh_2018               410\n",
       "generation_data_source              1"
      ]
     },
     "execution_count": 19,
     "metadata": {},
     "output_type": "execute_result"
    }
   ],
   "source": [
    "df.nunique().to_frame(\"Unique Values\")"
   ]
  },
  {
   "cell_type": "markdown",
   "id": "8c70cfe5",
   "metadata": {},
   "source": [
    "Observation:\n",
    "    \n",
    "1. In the column \"country\" has only one unique value in all 9087 rows and does not provide any insight so it can be deleted.\n",
    "\n",
    "2. Similarly, the column \"year_of_capacity_data\"  has 1 single value present in it's rows and has missing data as well so it will not provide any useful information for  prediction of  ML models so it can be deleted\n",
    "\n",
    "3.  I observed that there is a column \"url\" which b holds web document links and values such as those or descriptions do not really help in  prediction machine learning modelsso we can it too."
   ]
  },
  {
   "cell_type": "code",
   "execution_count": 20,
   "id": "6987d86d",
   "metadata": {},
   "outputs": [],
   "source": [
    "df = df.drop([\"country\", \"year_of_capacity_data\", \"url\"], axis=1)"
   ]
  },
  {
   "cell_type": "code",
   "execution_count": 21,
   "id": "c1d6feaf",
   "metadata": {},
   "outputs": [
    {
     "data": {
      "text/plain": [
       "(907, 15)"
      ]
     },
     "execution_count": 21,
     "metadata": {},
     "output_type": "execute_result"
    }
   ],
   "source": [
    "df.shape"
   ]
  },
  {
   "cell_type": "markdown",
   "id": "52f9274b",
   "metadata": {},
   "source": [
    "We have successfully dropped 3 more columns that were not providing any useful information for our predition models"
   ]
  },
  {
   "cell_type": "markdown",
   "id": "b7701d3b",
   "metadata": {},
   "source": [
    "# Check for column which has above  50%(more than 454) null value"
   ]
  },
  {
   "cell_type": "code",
   "execution_count": 22,
   "id": "120778f0",
   "metadata": {},
   "outputs": [
    {
     "data": {
      "text/plain": [
       "capacity_mw                 0\n",
       "latitude                   46\n",
       "longitude                  46\n",
       "primary_fuel                0\n",
       "other_fuel1               709\n",
       "commissioning_year        380\n",
       "owner                     565\n",
       "source                      0\n",
       "geolocation_source         19\n",
       "generation_gwh_2014       509\n",
       "generation_gwh_2015       485\n",
       "generation_gwh_2016       473\n",
       "generation_gwh_2017       467\n",
       "generation_gwh_2018       459\n",
       "generation_data_source    458\n",
       "dtype: int64"
      ]
     },
     "execution_count": 22,
     "metadata": {},
     "output_type": "execute_result"
    }
   ],
   "source": [
    "df.isnull().sum()"
   ]
  },
  {
   "cell_type": "markdown",
   "id": "35e1f440",
   "metadata": {},
   "source": [
    "Observe tha the columns owner,other_fuel1,geolocation_source,generation_gwh_2014,generation_gwh_2015,generation_gwh_2016,generation_gwh_2017,generation_gwh_2018,generation_data_source has  more than 50% (more than 454 rows) of missing data so we can delete it."
   ]
  },
  {
   "cell_type": "code",
   "execution_count": 23,
   "id": "b045292e",
   "metadata": {},
   "outputs": [],
   "source": [
    "df = df.drop([\"other_fuel1\", \"owner\", \"generation_gwh_2014\",\n",
    "        \"generation_gwh_2015\", \"generation_gwh_2018\", \"generation_gwh_2016\", \"generation_gwh_2017\",\n",
    "        \"generation_data_source\"], axis=1)"
   ]
  },
  {
   "cell_type": "code",
   "execution_count": 24,
   "id": "924a9999",
   "metadata": {},
   "outputs": [
    {
     "data": {
      "text/plain": [
       "(907, 7)"
      ]
     },
     "execution_count": 24,
     "metadata": {},
     "output_type": "execute_result"
    }
   ],
   "source": [
    "df.shape"
   ]
  },
  {
   "cell_type": "markdown",
   "id": "6d49ae15",
   "metadata": {},
   "source": [
    "Now we have only 7 columns for making machine learning models"
   ]
  },
  {
   "cell_type": "markdown",
   "id": "a899a173",
   "metadata": {},
   "source": [
    "# Feature engineering:"
   ]
  },
  {
   "cell_type": "markdown",
   "id": "b3a481fe",
   "metadata": {},
   "source": [
    "# Age of Powerplant "
   ]
  },
  {
   "cell_type": "markdown",
   "id": "6ff4026f",
   "metadata": {},
   "source": [
    " Convert commissioning_year into PowerPlant_age by subtracting it from 2018"
   ]
  },
  {
   "cell_type": "code",
   "execution_count": 25,
   "id": "cc07c37f",
   "metadata": {},
   "outputs": [],
   "source": [
    "df['PowerPlant_age'] = 2019 - df['commissioning_year']\n",
    "df.drop(columns=[\"commissioning_year\"],inplace=True)"
   ]
  },
  {
   "cell_type": "markdown",
   "id": "be56fa1b",
   "metadata": {},
   "source": [
    "Create new column PowerPlant Age and Drop the column commissioning_year may Age is more helpfull for prediction as compare to commissioning_year."
   ]
  },
  {
   "cell_type": "code",
   "execution_count": 26,
   "id": "6dee8220",
   "metadata": {},
   "outputs": [
    {
     "data": {
      "text/html": [
       "<div>\n",
       "<style scoped>\n",
       "    .dataframe tbody tr th:only-of-type {\n",
       "        vertical-align: middle;\n",
       "    }\n",
       "\n",
       "    .dataframe tbody tr th {\n",
       "        vertical-align: top;\n",
       "    }\n",
       "\n",
       "    .dataframe thead th {\n",
       "        text-align: right;\n",
       "    }\n",
       "</style>\n",
       "<table border=\"1\" class=\"dataframe\">\n",
       "  <thead>\n",
       "    <tr style=\"text-align: right;\">\n",
       "      <th></th>\n",
       "      <th>capacity_mw</th>\n",
       "      <th>latitude</th>\n",
       "      <th>longitude</th>\n",
       "      <th>primary_fuel</th>\n",
       "      <th>source</th>\n",
       "      <th>geolocation_source</th>\n",
       "      <th>PowerPlant_age</th>\n",
       "    </tr>\n",
       "  </thead>\n",
       "  <tbody>\n",
       "    <tr>\n",
       "      <th>0</th>\n",
       "      <td>2.5</td>\n",
       "      <td>28.1839</td>\n",
       "      <td>73.2407</td>\n",
       "      <td>Solar</td>\n",
       "      <td>National Renewable Energy Laboratory</td>\n",
       "      <td>National Renewable Energy Laboratory</td>\n",
       "      <td>8.0</td>\n",
       "    </tr>\n",
       "    <tr>\n",
       "      <th>1</th>\n",
       "      <td>98.0</td>\n",
       "      <td>24.7663</td>\n",
       "      <td>74.6090</td>\n",
       "      <td>Coal</td>\n",
       "      <td>Ultratech Cement ltd</td>\n",
       "      <td>WRI</td>\n",
       "      <td>NaN</td>\n",
       "    </tr>\n",
       "    <tr>\n",
       "      <th>2</th>\n",
       "      <td>39.2</td>\n",
       "      <td>21.9038</td>\n",
       "      <td>69.3732</td>\n",
       "      <td>Wind</td>\n",
       "      <td>CDM</td>\n",
       "      <td>WRI</td>\n",
       "      <td>NaN</td>\n",
       "    </tr>\n",
       "    <tr>\n",
       "      <th>3</th>\n",
       "      <td>135.0</td>\n",
       "      <td>23.8712</td>\n",
       "      <td>91.3602</td>\n",
       "      <td>Gas</td>\n",
       "      <td>Central Electricity Authority</td>\n",
       "      <td>WRI</td>\n",
       "      <td>15.0</td>\n",
       "    </tr>\n",
       "    <tr>\n",
       "      <th>4</th>\n",
       "      <td>1800.0</td>\n",
       "      <td>21.9603</td>\n",
       "      <td>82.4091</td>\n",
       "      <td>Coal</td>\n",
       "      <td>Central Electricity Authority</td>\n",
       "      <td>WRI</td>\n",
       "      <td>4.0</td>\n",
       "    </tr>\n",
       "  </tbody>\n",
       "</table>\n",
       "</div>"
      ],
      "text/plain": [
       "   capacity_mw  latitude  longitude primary_fuel  \\\n",
       "0          2.5   28.1839    73.2407        Solar   \n",
       "1         98.0   24.7663    74.6090         Coal   \n",
       "2         39.2   21.9038    69.3732         Wind   \n",
       "3        135.0   23.8712    91.3602          Gas   \n",
       "4       1800.0   21.9603    82.4091         Coal   \n",
       "\n",
       "                                 source                    geolocation_source  \\\n",
       "0  National Renewable Energy Laboratory  National Renewable Energy Laboratory   \n",
       "1                  Ultratech Cement ltd                                   WRI   \n",
       "2                                   CDM                                   WRI   \n",
       "3         Central Electricity Authority                                   WRI   \n",
       "4         Central Electricity Authority                                   WRI   \n",
       "\n",
       "   PowerPlant_age  \n",
       "0             8.0  \n",
       "1             NaN  \n",
       "2             NaN  \n",
       "3            15.0  \n",
       "4             4.0  "
      ]
     },
     "execution_count": 26,
     "metadata": {},
     "output_type": "execute_result"
    }
   ],
   "source": [
    "df.head()"
   ]
  },
  {
   "cell_type": "markdown",
   "id": "106ba9b6",
   "metadata": {},
   "source": [
    "# Treating null values "
   ]
  },
  {
   "cell_type": "markdown",
   "id": "2d77ae9f",
   "metadata": {},
   "source": [
    "\n",
    " We still have missing values present in our dataset columns that will need to be treated now. But before that we will separate our categorical columns and numerical columns so that application of meand and mode will become easier."
   ]
  },
  {
   "cell_type": "code",
   "execution_count": 27,
   "id": "665e0756",
   "metadata": {},
   "outputs": [
    {
     "data": {
      "text/plain": [
       "capacity_mw             0\n",
       "latitude               46\n",
       "longitude              46\n",
       "primary_fuel            0\n",
       "source                  0\n",
       "geolocation_source     19\n",
       "PowerPlant_age        380\n",
       "dtype: int64"
      ]
     },
     "execution_count": 27,
     "metadata": {},
     "output_type": "execute_result"
    }
   ],
   "source": [
    "df.isnull().sum()"
   ]
  },
  {
   "cell_type": "markdown",
   "id": "86fa39d7",
   "metadata": {},
   "source": [
    "# Segregate the numerical and Categorical variables"
   ]
  },
  {
   "cell_type": "code",
   "execution_count": 28,
   "id": "0cce422a",
   "metadata": {},
   "outputs": [
    {
     "data": {
      "text/html": [
       "<div>\n",
       "<style scoped>\n",
       "    .dataframe tbody tr th:only-of-type {\n",
       "        vertical-align: middle;\n",
       "    }\n",
       "\n",
       "    .dataframe tbody tr th {\n",
       "        vertical-align: top;\n",
       "    }\n",
       "\n",
       "    .dataframe thead th {\n",
       "        text-align: right;\n",
       "    }\n",
       "</style>\n",
       "<table border=\"1\" class=\"dataframe\">\n",
       "  <thead>\n",
       "    <tr style=\"text-align: right;\">\n",
       "      <th></th>\n",
       "      <th>primary_fuel</th>\n",
       "      <th>source</th>\n",
       "      <th>geolocation_source</th>\n",
       "    </tr>\n",
       "  </thead>\n",
       "  <tbody>\n",
       "    <tr>\n",
       "      <th>347</th>\n",
       "      <td>Biomass</td>\n",
       "      <td>Sri Sugars ltd</td>\n",
       "      <td>WRI</td>\n",
       "    </tr>\n",
       "    <tr>\n",
       "      <th>697</th>\n",
       "      <td>Coal</td>\n",
       "      <td>Central Electricity Authority</td>\n",
       "      <td>WRI</td>\n",
       "    </tr>\n",
       "    <tr>\n",
       "      <th>166</th>\n",
       "      <td>Hydro</td>\n",
       "      <td>Central Electricity Authority</td>\n",
       "      <td>WRI</td>\n",
       "    </tr>\n",
       "    <tr>\n",
       "      <th>634</th>\n",
       "      <td>Hydro</td>\n",
       "      <td>Central Electricity Authority</td>\n",
       "      <td>WRI</td>\n",
       "    </tr>\n",
       "    <tr>\n",
       "      <th>48</th>\n",
       "      <td>Coal</td>\n",
       "      <td>Jk Cement ltd</td>\n",
       "      <td>WRI</td>\n",
       "    </tr>\n",
       "  </tbody>\n",
       "</table>\n",
       "</div>"
      ],
      "text/plain": [
       "    primary_fuel                         source geolocation_source\n",
       "347      Biomass                 Sri Sugars ltd                WRI\n",
       "697         Coal  Central Electricity Authority                WRI\n",
       "166        Hydro  Central Electricity Authority                WRI\n",
       "634        Hydro  Central Electricity Authority                WRI\n",
       "48          Coal                  Jk Cement ltd                WRI"
      ]
     },
     "execution_count": 28,
     "metadata": {},
     "output_type": "execute_result"
    }
   ],
   "source": [
    "categorical = [feature for feature in df.columns if df[feature].dtypes=='object']\n",
    "df[categorical].sample(5)"
   ]
  },
  {
   "cell_type": "code",
   "execution_count": 29,
   "id": "a1e2c2b8",
   "metadata": {},
   "outputs": [
    {
     "data": {
      "text/html": [
       "<div>\n",
       "<style scoped>\n",
       "    .dataframe tbody tr th:only-of-type {\n",
       "        vertical-align: middle;\n",
       "    }\n",
       "\n",
       "    .dataframe tbody tr th {\n",
       "        vertical-align: top;\n",
       "    }\n",
       "\n",
       "    .dataframe thead th {\n",
       "        text-align: right;\n",
       "    }\n",
       "</style>\n",
       "<table border=\"1\" class=\"dataframe\">\n",
       "  <thead>\n",
       "    <tr style=\"text-align: right;\">\n",
       "      <th></th>\n",
       "      <th>capacity_mw</th>\n",
       "      <th>latitude</th>\n",
       "      <th>longitude</th>\n",
       "      <th>PowerPlant_age</th>\n",
       "    </tr>\n",
       "  </thead>\n",
       "  <tbody>\n",
       "    <tr>\n",
       "      <th>128</th>\n",
       "      <td>98.7</td>\n",
       "      <td>23.6756</td>\n",
       "      <td>75.0565</td>\n",
       "      <td>NaN</td>\n",
       "    </tr>\n",
       "    <tr>\n",
       "      <th>862</th>\n",
       "      <td>90.0</td>\n",
       "      <td>27.3455</td>\n",
       "      <td>82.3166</td>\n",
       "      <td>7.0</td>\n",
       "    </tr>\n",
       "    <tr>\n",
       "      <th>526</th>\n",
       "      <td>1500.0</td>\n",
       "      <td>31.5640</td>\n",
       "      <td>77.9800</td>\n",
       "      <td>16.0</td>\n",
       "    </tr>\n",
       "    <tr>\n",
       "      <th>244</th>\n",
       "      <td>5.0</td>\n",
       "      <td>11.6117</td>\n",
       "      <td>92.7109</td>\n",
       "      <td>NaN</td>\n",
       "    </tr>\n",
       "    <tr>\n",
       "      <th>85</th>\n",
       "      <td>30.0</td>\n",
       "      <td>11.3310</td>\n",
       "      <td>77.7580</td>\n",
       "      <td>6.0</td>\n",
       "    </tr>\n",
       "  </tbody>\n",
       "</table>\n",
       "</div>"
      ],
      "text/plain": [
       "     capacity_mw  latitude  longitude  PowerPlant_age\n",
       "128         98.7   23.6756    75.0565             NaN\n",
       "862         90.0   27.3455    82.3166             7.0\n",
       "526       1500.0   31.5640    77.9800            16.0\n",
       "244          5.0   11.6117    92.7109             NaN\n",
       "85          30.0   11.3310    77.7580             6.0"
      ]
     },
     "execution_count": 29,
     "metadata": {},
     "output_type": "execute_result"
    }
   ],
   "source": [
    "numerical = [feature for feature in df.columns if df[feature].dtypes!='object']\n",
    "df[numerical].sample(5)"
   ]
  },
  {
   "cell_type": "markdown",
   "id": "c430449c",
   "metadata": {},
   "source": [
    "We have  seperated the object datatype column names and numeric data type column names. Since we do not have to worry about outliers and skewness in categorical columns we can use this separated column names to pre process only on  continous columns."
   ]
  },
  {
   "cell_type": "markdown",
   "id": "ca31c772",
   "metadata": {},
   "source": [
    "# Filling missing data for numerical values with mean and  categorical values with mode"
   ]
  },
  {
   "cell_type": "code",
   "execution_count": 30,
   "id": "7b52de2c",
   "metadata": {},
   "outputs": [],
   "source": [
    "# filling missing data for continous values with mean\n",
    "df[\"latitude\"].fillna(df[\"latitude\"].mean(),inplace=True)\n",
    "df[\"longitude\"].fillna(df[\"longitude\"].mean(),inplace=True)\n",
    "\n",
    "\n",
    "# filling missing data for categorical values with mode\n",
    "df[\"PowerPlant_age\"].fillna(df[\"PowerPlant_age\"].mode()[0],inplace=True)\n",
    "df[\"geolocation_source\"].fillna(df[\"geolocation_source\"].mode()[0],inplace=True)"
   ]
  },
  {
   "cell_type": "markdown",
   "id": "14d39cd9",
   "metadata": {},
   "source": [
    "# Check for missing value present or not"
   ]
  },
  {
   "cell_type": "code",
   "execution_count": 31,
   "id": "2cf940e8",
   "metadata": {},
   "outputs": [
    {
     "data": {
      "text/plain": [
       "0"
      ]
     },
     "execution_count": 31,
     "metadata": {},
     "output_type": "execute_result"
    }
   ],
   "source": [
    "df.isnull().sum().sum()"
   ]
  },
  {
   "cell_type": "code",
   "execution_count": 32,
   "id": "0965b172",
   "metadata": {},
   "outputs": [
    {
     "data": {
      "text/plain": [
       "<AxesSubplot:>"
      ]
     },
     "execution_count": 32,
     "metadata": {},
     "output_type": "execute_result"
    },
    {
     "data": {
      "image/png": "[encoded data removed]",
      "text/plain": [
       "<Figure size 432x288 with 2 Axes>"
      ]
     },
     "metadata": {
      "needs_background": "light"
     },
     "output_type": "display_data"
    }
   ],
   "source": [
    "sns.heatmap(df.isnull())##check missing value through visualization"
   ]
  },
  {
   "cell_type": "markdown",
   "id": "385a3cff",
   "metadata": {},
   "source": [
    "Now our data has no any missing values"
   ]
  },
  {
   "cell_type": "markdown",
   "id": "ff304409",
   "metadata": {},
   "source": [
    "# Observation from categorical columns"
   ]
  },
  {
   "cell_type": "code",
   "execution_count": 33,
   "id": "0e0ade98",
   "metadata": {},
   "outputs": [
    {
     "name": "stdout",
     "output_type": "stream",
     "text": [
      "primary_fuel\n",
      "Coal       258\n",
      "Hydro      251\n",
      "Solar      127\n",
      "Wind       123\n",
      "Gas         69\n",
      "Biomass     50\n",
      "Oil         20\n",
      "Nuclear      9\n",
      "Name: primary_fuel, dtype: int64\n",
      "------------------------------------------------------------------------------------------------------------------------------------------------------------------------------------------------------------------------------------------------\n",
      "source\n",
      "Central Electricity Authority                                  519\n",
      "CDM                                                            124\n",
      "Lancosola                                                       10\n",
      "National Renewable Energy Laboratory                             8\n",
      "National Thermal Power Corporation (NTPC)                        6\n",
      "                                                              ... \n",
      "Harsha Engineers Limited                                         1\n",
      "Godawari Energy ltd                                              1\n",
      "Sunkon Energy Private Limited                                    1\n",
      "West Bengal Energy Development Corporation Limited (WBEDCL)      1\n",
      "Yashwantrao Krishna ssk                                          1\n",
      "Name: source, Length: 191, dtype: int64\n",
      "------------------------------------------------------------------------------------------------------------------------------------------------------------------------------------------------------------------------------------------------\n",
      "geolocation_source\n",
      "WRI                                     784\n",
      "Industry About                          119\n",
      "National Renewable Energy Laboratory      4\n",
      "Name: geolocation_source, dtype: int64\n",
      "------------------------------------------------------------------------------------------------------------------------------------------------------------------------------------------------------------------------------------------------\n"
     ]
    }
   ],
   "source": [
    "for colum in categorical:\n",
    "    print(colum)\n",
    "    print(df[colum].value_counts())\n",
    "    print(\"--\"*120)"
   ]
  },
  {
   "cell_type": "markdown",
   "id": "f5e1f262",
   "metadata": {},
   "source": [
    "1. Coal and Hydra fluel type is majorly used in power plant.\n",
    "\n",
    "2. The organization  Central Electricity Authority is higher on demand.\n",
    "\n",
    "3. the geolocation_source  WRI is maximum used in power plant."
   ]
  },
  {
   "cell_type": "markdown",
   "id": "87811ff0",
   "metadata": {},
   "source": [
    "# Univariate  Visualization"
   ]
  },
  {
   "cell_type": "markdown",
   "id": "d495bd12",
   "metadata": {},
   "source": [
    "# Primary_fuel"
   ]
  },
  {
   "cell_type": "code",
   "execution_count": 34,
   "id": "60d2d197",
   "metadata": {},
   "outputs": [
    {
     "data": {
      "text/plain": [
       "Text(0.5, 0, 'Fluel type')"
      ]
     },
     "execution_count": 34,
     "metadata": {},
     "output_type": "execute_result"
    },
    {
     "data": {
      "image/png": "[encoded data removed]",
      "text/plain": [
       "<Figure size 1080x720 with 1 Axes>"
      ]
     },
     "metadata": {
      "needs_background": "light"
     },
     "output_type": "display_data"
    }
   ],
   "source": [
    "\n",
    "plt.figure(figsize=(15,10))\n",
    "values = df['primary_fuel'].value_counts()\n",
    "index=0\n",
    "ax=sns.countplot('primary_fuel', data=df)\n",
    "\n",
    "for i in ax.get_xticklabels():\n",
    "        ax.text(index, values[i.get_text()]/2, values[i.get_text()], \n",
    "                horizontalalignment=\"center\", fontweight='bold', color='w')\n",
    "        index += 1\n",
    "        \n",
    "plt.title('Count of primary_fuel', fontsize=15)\n",
    "plt.ylabel(\"Number of rows\",fontsize=15)\n",
    "plt.xlabel(\"Fluel type\",fontsize=15)\n"
   ]
  },
  {
   "cell_type": "markdown",
   "id": "ff179bd9",
   "metadata": {},
   "source": [
    "In the above plot  for \"primary_fuel\" column we can see that the highest number of values have been covered by coal  and hydro fuel  types then comes solar and wind. Finally we see that gas, biomass, oil and nuclear have very low data counts\n",
    "\n"
   ]
  },
  {
   "cell_type": "markdown",
   "id": "a1bf1f8b",
   "metadata": {},
   "source": [
    "when we will be considering \"primary_fuel\" as our target label then this is impose a class imbalance issue while trying to create a classification model and therefore will need to be treated accordingly."
   ]
  },
  {
   "cell_type": "markdown",
   "id": "cc43161e",
   "metadata": {},
   "source": [
    "# Geolocation_source"
   ]
  },
  {
   "cell_type": "code",
   "execution_count": 35,
   "id": "d3d1e0fc",
   "metadata": {},
   "outputs": [
    {
     "data": {
      "text/plain": [
       "Text(0.5, 0, 'Geolocation_source')"
      ]
     },
     "execution_count": 35,
     "metadata": {},
     "output_type": "execute_result"
    },
    {
     "data": {
      "image/png": "[encoded data removed]",
      "text/plain": [
       "<Figure size 720x504 with 1 Axes>"
      ]
     },
     "metadata": {
      "needs_background": "light"
     },
     "output_type": "display_data"
    }
   ],
   "source": [
    "plt.figure(figsize=(10,7))\n",
    "values = df['geolocation_source'].value_counts()\n",
    "index=0\n",
    "ax=sns.countplot('geolocation_source', data=df)\n",
    "\n",
    "for i in ax.get_xticklabels():\n",
    "        ax.text(index, values[i.get_text()]/2, values[i.get_text()], \n",
    "                horizontalalignment=\"center\", fontweight='bold', color='w')\n",
    "        index += 1\n",
    "        \n",
    "plt.title('Count of Geolocation_source', fontsize=15)\n",
    "plt.ylabel(\"Number of rows\",fontsize=15)\n",
    "plt.xlabel(\"Geolocation_source\",fontsize=15)"
   ]
  },
  {
   "cell_type": "markdown",
   "id": "8fec6e07",
   "metadata": {},
   "source": [
    "In above count plot we have seen that the highest no. of value covered by WRI and then Industry About and negligible value present in National Renewable Energy Laboratory "
   ]
  },
  {
   "cell_type": "markdown",
   "id": "713f629c",
   "metadata": {},
   "source": [
    "# Box plot for checking outliers"
   ]
  },
  {
   "cell_type": "code",
   "execution_count": 36,
   "id": "5f0cb136",
   "metadata": {},
   "outputs": [
    {
     "data": {
      "image/png": "[encoded data removed]",
      "text/plain": [
       "<Figure size 1080x360 with 4 Axes>"
      ]
     },
     "metadata": {
      "needs_background": "light"
     },
     "output_type": "display_data"
    }
   ],
   "source": [
    "fig, ax = plt.subplots(ncols=4, nrows=1, figsize=(15,5))\n",
    "index = 0\n",
    "ax = ax.flatten()\n",
    "for col, value in df[numerical].items():\n",
    "    sns.boxplot(y=col, data=df, ax=ax[index])\n",
    "    index += 1\n",
    "plt.show()"
   ]
  },
  {
   "cell_type": "markdown",
   "id": "17f30d61",
   "metadata": {},
   "source": [
    "Outlies present in tree columns\n",
    "\n",
    "1.capacity_mw\n",
    "2. longitude\n",
    "3.powerplant_age\n",
    "\n",
    "we have to remove outliers using z score or IQR method"
   ]
  },
  {
   "cell_type": "markdown",
   "id": "d98fc3a3",
   "metadata": {},
   "source": [
    "# Distribution plot for all numerical columns"
   ]
  },
  {
   "cell_type": "code",
   "execution_count": 37,
   "id": "aad8dc7a",
   "metadata": {
    "scrolled": true
   },
   "outputs": [
    {
     "data": {
      "image/png": "[encoded data removed]",
      "text/plain": [
       "<Figure size 1080x360 with 4 Axes>"
      ]
     },
     "metadata": {
      "needs_background": "light"
     },
     "output_type": "display_data"
    }
   ],
   "source": [
    "fig, ax = plt.subplots(ncols=4, nrows=1, figsize=(15,5))\n",
    "index = 0\n",
    "ax = ax.flatten()\n",
    "for col, value in df[numerical].items():\n",
    "    sns.distplot(value, ax=ax[index], hist=False, color=\"b\",kde_kws={\"shade\": True})\n",
    "    index += 1\n",
    "\n",
    "plt.show()"
   ]
  },
  {
   "cell_type": "markdown",
   "id": "0f5a75eb",
   "metadata": {},
   "source": [
    "Skewness present in Capacity_mw and PowerPlant_age we have remove it later "
   ]
  },
  {
   "cell_type": "markdown",
   "id": "30057d59",
   "metadata": {},
   "source": [
    "# Bivariate Visualization"
   ]
  },
  {
   "cell_type": "markdown",
   "id": "a5ddbfd1",
   "metadata": {},
   "source": [
    "# Scatter plot for capacity_mw with another variable"
   ]
  },
  {
   "cell_type": "code",
   "execution_count": 38,
   "id": "d310b3a8",
   "metadata": {},
   "outputs": [
    {
     "data": {
      "text/plain": [
       "<AxesSubplot:xlabel='PowerPlant_age', ylabel='capacity_mw'>"
      ]
     },
     "execution_count": 38,
     "metadata": {},
     "output_type": "execute_result"
    },
    {
     "data": {
      "image/png": "[encoded data removed]",
      "text/plain": [
       "<Figure size 432x288 with 1 Axes>"
      ]
     },
     "metadata": {
      "needs_background": "light"
     },
     "output_type": "display_data"
    }
   ],
   "source": [
    "sns.scatterplot(x = \"PowerPlant_age\", y = \"capacity_mw\", data = df)"
   ]
  },
  {
   "cell_type": "markdown",
   "id": "e498fbb8",
   "metadata": {},
   "source": [
    "\n",
    "The the electricity generating capacity measured in mega watts of older powerplant is lower as compared to recent year"
   ]
  },
  {
   "cell_type": "code",
   "execution_count": 39,
   "id": "4430c3fd",
   "metadata": {},
   "outputs": [
    {
     "data": {
      "text/plain": [
       "<AxesSubplot:xlabel='latitude', ylabel='capacity_mw'>"
      ]
     },
     "execution_count": 39,
     "metadata": {},
     "output_type": "execute_result"
    },
    {
     "data": {
      "image/png": "[encoded data removed]",
      "text/plain": [
       "<Figure size 432x288 with 1 Axes>"
      ]
     },
     "metadata": {
      "needs_background": "light"
     },
     "output_type": "display_data"
    }
   ],
   "source": [
    "sns.scatterplot(x = \"latitude\", y = \"capacity_mw\", data = df)\n"
   ]
  },
  {
   "cell_type": "markdown",
   "id": "95763cd4",
   "metadata": {},
   "source": [
    "The latitude geolocation for electricty generation is highest measuring the mega watts between 20 to 25 decimal degrees."
   ]
  },
  {
   "cell_type": "code",
   "execution_count": 40,
   "id": "b975eef6",
   "metadata": {},
   "outputs": [
    {
     "data": {
      "text/plain": [
       "<AxesSubplot:xlabel='longitude', ylabel='capacity_mw'>"
      ]
     },
     "execution_count": 40,
     "metadata": {},
     "output_type": "execute_result"
    },
    {
     "data": {
      "image/png": "[encoded data removed]",
      "text/plain": [
       "<Figure size 432x288 with 1 Axes>"
      ]
     },
     "metadata": {
      "needs_background": "light"
     },
     "output_type": "display_data"
    }
   ],
   "source": [
    "sns.scatterplot(x = \"longitude\", y = \"capacity_mw\", data = df)"
   ]
  },
  {
   "cell_type": "markdown",
   "id": "4f8a3f6a",
   "metadata": {},
   "source": [
    "The longitude geolocation for electricty generation is highest measuring the mega watts around 70 and then again between 80-85"
   ]
  },
  {
   "cell_type": "code",
   "execution_count": 41,
   "id": "27a962d1",
   "metadata": {},
   "outputs": [
    {
     "data": {
      "text/plain": [
       "Index(['capacity_mw', 'latitude', 'longitude', 'primary_fuel', 'source',\n",
       "       'geolocation_source', 'PowerPlant_age'],\n",
       "      dtype='object')"
      ]
     },
     "execution_count": 41,
     "metadata": {},
     "output_type": "execute_result"
    }
   ],
   "source": [
    "df.columns"
   ]
  },
  {
   "cell_type": "markdown",
   "id": "e23c90b1",
   "metadata": {},
   "source": [
    "# BAR PLOT"
   ]
  },
  {
   "cell_type": "code",
   "execution_count": 42,
   "id": "8e321279",
   "metadata": {},
   "outputs": [
    {
     "data": {
      "image/png": "[encoded data removed]",
      "text/plain": [
       "<Figure size 720x504 with 1 Axes>"
      ]
     },
     "metadata": {
      "needs_background": "light"
     },
     "output_type": "display_data"
    }
   ],
   "source": [
    "plt.figure(figsize=(10,7))\n",
    "sns.barplot(df['primary_fuel'],df['capacity_mw']); "
   ]
  },
  {
   "cell_type": "markdown",
   "id": "ea3c9258",
   "metadata": {},
   "source": [
    "For the fluel type Nuclear and Coal the capacity of power plant is maximum"
   ]
  },
  {
   "cell_type": "code",
   "execution_count": 43,
   "id": "04042159",
   "metadata": {},
   "outputs": [
    {
     "data": {
      "image/png": "[encoded data removed]",
      "text/plain": [
       "<Figure size 720x504 with 1 Axes>"
      ]
     },
     "metadata": {
      "needs_background": "light"
     },
     "output_type": "display_data"
    }
   ],
   "source": [
    "plt.figure(figsize=(10,7))\n",
    "sns.barplot(df['geolocation_source'],df['capacity_mw']);"
   ]
  },
  {
   "cell_type": "markdown",
   "id": "7ef4c6d3",
   "metadata": {},
   "source": [
    "The capacity of power plant is maximum for WRI"
   ]
  },
  {
   "cell_type": "code",
   "execution_count": 44,
   "id": "dfb53c97",
   "metadata": {},
   "outputs": [
    {
     "data": {
      "image/png": "[encoded data removed]",
      "text/plain": [
       "<Figure size 720x504 with 1 Axes>"
      ]
     },
     "metadata": {
      "needs_background": "light"
     },
     "output_type": "display_data"
    }
   ],
   "source": [
    "plt.figure(figsize=(10,7))\n",
    "sns.barplot(df['primary_fuel'],df['latitude']);"
   ]
  },
  {
   "cell_type": "markdown",
   "id": "40fffafe",
   "metadata": {},
   "source": [
    "The longitude geolocation for electricty generation is maximum  for fluel type  Solar and Hydra"
   ]
  },
  {
   "cell_type": "code",
   "execution_count": 45,
   "id": "a88166ef",
   "metadata": {},
   "outputs": [
    {
     "data": {
      "image/png": "[encoded data removed]",
      "text/plain": [
       "<Figure size 720x504 with 1 Axes>"
      ]
     },
     "metadata": {
      "needs_background": "light"
     },
     "output_type": "display_data"
    }
   ],
   "source": [
    "plt.figure(figsize=(10,7))\n",
    "sns.barplot(df['primary_fuel'],df['PowerPlant_age']);"
   ]
  },
  {
   "cell_type": "markdown",
   "id": "33ffae8b",
   "metadata": {},
   "source": [
    "1. The fluel type Hydre and Nuclear are used in older power Plant .\n",
    "\n",
    "2. Recently The PowerPlant is highrly used Solar ,Coal and Biomass as a fluel type."
   ]
  },
  {
   "cell_type": "markdown",
   "id": "86249304",
   "metadata": {},
   "source": [
    "# Correlation"
   ]
  },
  {
   "cell_type": "code",
   "execution_count": 46,
   "id": "3efd0ac0",
   "metadata": {},
   "outputs": [
    {
     "data": {
      "text/plain": [
       "<AxesSubplot:>"
      ]
     },
     "execution_count": 46,
     "metadata": {},
     "output_type": "execute_result"
    },
    {
     "data": {
      "image/png": "[encoded data removed]",
      "text/plain": [
       "<Figure size 432x288 with 2 Axes>"
      ]
     },
     "metadata": {
      "needs_background": "light"
     },
     "output_type": "display_data"
    }
   ],
   "source": [
    "sns.heatmap(df.corr(),annot=True, linewidth=1)"
   ]
  },
  {
   "cell_type": "markdown",
   "id": "746edc9b",
   "metadata": {},
   "source": [
    "Observation:\n",
    "    \n",
    "1. Capacity of powerplant is negatively correlated to age of power plant.\n",
    "\n",
    "2. langitude and longitude is also correlated is also negative correlated with capacity of powerplant.\n"
   ]
  },
  {
   "cell_type": "code",
   "execution_count": 47,
   "id": "0bdd489c",
   "metadata": {},
   "outputs": [
    {
     "data": {
      "text/plain": [
       "<AxesSubplot:title={'center':'Correlation with sales'}>"
      ]
     },
     "execution_count": 47,
     "metadata": {},
     "output_type": "execute_result"
    },
    {
     "data": {
      "image/png": "[encoded data removed]",
      "text/plain": [
       "<Figure size 720x360 with 1 Axes>"
      ]
     },
     "metadata": {
      "needs_background": "light"
     },
     "output_type": "display_data"
    }
   ],
   "source": [
    "#Correlation with capacity_mw with respect to other columns\n",
    "df.corrwith(df.capacity_mw).plot.bar(\n",
    "        figsize = (10, 5), title = \"Correlation with sales\", fontsize = 15,\n",
    "        rot = 45, grid = True)"
   ]
  },
  {
   "cell_type": "markdown",
   "id": "adf69d5e",
   "metadata": {},
   "source": [
    "Langitude ,longitude ,powerplant_age is very low positive correlated with capacity of powerplant capacity. "
   ]
  },
  {
   "cell_type": "markdown",
   "id": "93fc9250",
   "metadata": {},
   "source": [
    "# Lable Encoding\n",
    "\n",
    "Dealing with categorical variable\n",
    "\n",
    "change categorical value into numerical value"
   ]
  },
  {
   "cell_type": "code",
   "execution_count": 48,
   "id": "d9ce0735",
   "metadata": {},
   "outputs": [],
   "source": [
    "from sklearn.preprocessing import LabelEncoder\n",
    "le=LabelEncoder()"
   ]
  },
  {
   "cell_type": "code",
   "execution_count": 49,
   "id": "c8de570f",
   "metadata": {},
   "outputs": [],
   "source": [
    "#for changing all catigorical value into numeric value\n",
    "\n",
    "df=df.apply(le.fit_transform)"
   ]
  },
  {
   "cell_type": "code",
   "execution_count": 50,
   "id": "6af64c40",
   "metadata": {},
   "outputs": [
    {
     "data": {
      "text/html": [
       "<div>\n",
       "<style scoped>\n",
       "    .dataframe tbody tr th:only-of-type {\n",
       "        vertical-align: middle;\n",
       "    }\n",
       "\n",
       "    .dataframe tbody tr th {\n",
       "        vertical-align: top;\n",
       "    }\n",
       "\n",
       "    .dataframe thead th {\n",
       "        text-align: right;\n",
       "    }\n",
       "</style>\n",
       "<table border=\"1\" class=\"dataframe\">\n",
       "  <thead>\n",
       "    <tr style=\"text-align: right;\">\n",
       "      <th></th>\n",
       "      <th>capacity_mw</th>\n",
       "      <th>latitude</th>\n",
       "      <th>longitude</th>\n",
       "      <th>primary_fuel</th>\n",
       "      <th>source</th>\n",
       "      <th>geolocation_source</th>\n",
       "      <th>PowerPlant_age</th>\n",
       "    </tr>\n",
       "  </thead>\n",
       "  <tbody>\n",
       "    <tr>\n",
       "      <th>0</th>\n",
       "      <td>9</td>\n",
       "      <td>731</td>\n",
       "      <td>143</td>\n",
       "      <td>6</td>\n",
       "      <td>109</td>\n",
       "      <td>1</td>\n",
       "      <td>7</td>\n",
       "    </tr>\n",
       "    <tr>\n",
       "      <th>1</th>\n",
       "      <td>177</td>\n",
       "      <td>594</td>\n",
       "      <td>234</td>\n",
       "      <td>1</td>\n",
       "      <td>174</td>\n",
       "      <td>2</td>\n",
       "      <td>3</td>\n",
       "    </tr>\n",
       "    <tr>\n",
       "      <th>2</th>\n",
       "      <td>121</td>\n",
       "      <td>420</td>\n",
       "      <td>8</td>\n",
       "      <td>7</td>\n",
       "      <td>21</td>\n",
       "      <td>2</td>\n",
       "      <td>3</td>\n",
       "    </tr>\n",
       "    <tr>\n",
       "      <th>3</th>\n",
       "      <td>200</td>\n",
       "      <td>547</td>\n",
       "      <td>806</td>\n",
       "      <td>2</td>\n",
       "      <td>22</td>\n",
       "      <td>2</td>\n",
       "      <td>14</td>\n",
       "    </tr>\n",
       "    <tr>\n",
       "      <th>4</th>\n",
       "      <td>340</td>\n",
       "      <td>423</td>\n",
       "      <td>702</td>\n",
       "      <td>1</td>\n",
       "      <td>22</td>\n",
       "      <td>2</td>\n",
       "      <td>3</td>\n",
       "    </tr>\n",
       "  </tbody>\n",
       "</table>\n",
       "</div>"
      ],
      "text/plain": [
       "   capacity_mw  latitude  longitude  primary_fuel  source  geolocation_source  \\\n",
       "0            9       731        143             6     109                   1   \n",
       "1          177       594        234             1     174                   2   \n",
       "2          121       420          8             7      21                   2   \n",
       "3          200       547        806             2      22                   2   \n",
       "4          340       423        702             1      22                   2   \n",
       "\n",
       "   PowerPlant_age  \n",
       "0               7  \n",
       "1               3  \n",
       "2               3  \n",
       "3              14  \n",
       "4               3  "
      ]
     },
     "execution_count": 50,
     "metadata": {},
     "output_type": "execute_result"
    }
   ],
   "source": [
    "df.head()"
   ]
  },
  {
   "cell_type": "markdown",
   "id": "a01d7a24",
   "metadata": {},
   "source": [
    "# Remove outliers"
   ]
  },
  {
   "cell_type": "markdown",
   "id": "6c7a8dc5",
   "metadata": {},
   "source": [
    " there are very less  outliers present no need to remove if we want to remove those outliers then use z score "
   ]
  },
  {
   "cell_type": "code",
   "execution_count": 51,
   "id": "67d95aed",
   "metadata": {},
   "outputs": [
    {
     "data": {
      "text/plain": [
       "(array([ 71,  80, 191, 222, 299, 321, 342, 345, 371, 444, 454, 478, 484,\n",
       "        538, 541, 573, 583, 592, 601, 621, 661, 669, 689, 706, 709, 728,\n",
       "        807, 832, 848, 870, 871, 879, 895, 900], dtype=int64),\n",
       " array([4, 4, 4, 6, 4, 4, 6, 4, 6, 6, 6, 6, 6, 6, 6, 6, 6, 6, 6, 6, 4, 4,\n",
       "        4, 6, 6, 6, 6, 4, 6, 4, 4, 4, 4, 4], dtype=int64))"
      ]
     },
     "execution_count": 51,
     "metadata": {},
     "output_type": "execute_result"
    }
   ],
   "source": [
    "from scipy.stats import zscore\n",
    "import numpy as np\n",
    "z=np.abs(zscore(df))  #abs is absolute function used to make all data positive \n",
    "\n",
    "#in z score value is both value -3 and +3 is present but abs function convert -3 value to positive for better calculation\n",
    "thresold=3\n",
    "   \n",
    "np.where(z>3)\n"
   ]
  },
  {
   "cell_type": "markdown",
   "id": "d2e36ec5",
   "metadata": {},
   "source": [
    "show the index value of row and column where outliers lies\n",
    "\n",
    "mostly in column no. 6 and 4 the outlies are precent means phoneservices\n",
    "\n",
    "now we have remove outliers"
   ]
  },
  {
   "cell_type": "code",
   "execution_count": 52,
   "id": "c4bb49da",
   "metadata": {},
   "outputs": [
    {
     "name": "stdout",
     "output_type": "stream",
     "text": [
      "Shape of the dataframe before removing outliers:  (907, 7)\n",
      "Shape of the dataframe after removing outliers:  (873, 7)\n",
      "Percentage of data loss post outlier removal:  3.7486218302094816\n"
     ]
    }
   ],
   "source": [
    "df_new=df[(z<3).all(axis=1)]   # axis=1 means all rows for each column\n",
    "print (\"Shape of the dataframe before removing outliers: \", df.shape)\n",
    "print (\"Shape of the dataframe after removing outliers: \", df_new.shape)\n",
    "print (\"Percentage of data loss post outlier removal: \", (df.shape[0]-df_new.shape[0])/df.shape[0]*100)\n",
    "\n",
    "df=df_new.copy() # reassigning the changed dataframe name to our original dataframe name                       "
   ]
  },
  {
   "cell_type": "markdown",
   "id": "8770c445",
   "metadata": {},
   "source": [
    "# Check outlier removed or not"
   ]
  },
  {
   "cell_type": "code",
   "execution_count": 53,
   "id": "99584dfe",
   "metadata": {},
   "outputs": [
    {
     "data": {
      "image/png": "[encoded data removed]",
      "text/plain": [
       "<Figure size 1080x360 with 4 Axes>"
      ]
     },
     "metadata": {
      "needs_background": "light"
     },
     "output_type": "display_data"
    }
   ],
   "source": [
    "fig, ax = plt.subplots(ncols=4, nrows=1, figsize=(15,5))\n",
    "index = 0\n",
    "ax = ax.flatten()\n",
    "for col, value in df[numerical].items():\n",
    "    sns.boxplot(y=col, data=df, ax=ax[index])\n",
    "    index += 1\n",
    "plt.show()"
   ]
  },
  {
   "cell_type": "markdown",
   "id": "d5fd4bde",
   "metadata": {},
   "source": [
    "Now the outliers are removed from most of columns"
   ]
  },
  {
   "cell_type": "markdown",
   "id": "53efad09",
   "metadata": {},
   "source": [
    "# check for Skewness"
   ]
  },
  {
   "cell_type": "code",
   "execution_count": 54,
   "id": "a0134a69",
   "metadata": {},
   "outputs": [
    {
     "data": {
      "text/plain": [
       "capacity_mw           0.196081\n",
       "latitude              0.032857\n",
       "longitude            -0.037962\n",
       "primary_fuel          0.465975\n",
       "source                1.848104\n",
       "geolocation_source   -2.166766\n",
       "PowerPlant_age        1.469080\n",
       "dtype: float64"
      ]
     },
     "execution_count": 54,
     "metadata": {},
     "output_type": "execute_result"
    }
   ],
   "source": [
    "df.skew()"
   ]
  },
  {
   "cell_type": "markdown",
   "id": "f4a86bb9",
   "metadata": {},
   "source": [
    "# In this perticular problem i have two targets i have to find out predictions for Fuel type and capacity_mw.\n",
    "\n",
    "If i consider Fuel type as target then i have to take classification models to predict.\n",
    "\n",
    "If i consider capacity_mw as target then i have to take Regression models to predict."
   ]
  },
  {
   "cell_type": "markdown",
   "id": "3dd7b648",
   "metadata": {},
   "source": [
    "# Model building For Fluel_type prediction"
   ]
  },
  {
   "cell_type": "markdown",
   "id": "ec55a8eb",
   "metadata": {},
   "source": [
    "# Feature and Label Seperation"
   ]
  },
  {
   "cell_type": "code",
   "execution_count": 55,
   "id": "4d3cc27d",
   "metadata": {},
   "outputs": [],
   "source": [
    "x=df.drop(\"primary_fuel\",axis=1)\n",
    "y=df[\"primary_fuel\"]"
   ]
  },
  {
   "cell_type": "code",
   "execution_count": 56,
   "id": "4aae5e05",
   "metadata": {},
   "outputs": [
    {
     "name": "stdout",
     "output_type": "stream",
     "text": [
      "(873, 6)\n",
      "(873,)\n"
     ]
    }
   ],
   "source": [
    "print(x.shape)\n",
    "print(y.shape)"
   ]
  },
  {
   "cell_type": "markdown",
   "id": "c6d2c8cd",
   "metadata": {},
   "source": [
    "# Balancing the dataset"
   ]
  },
  {
   "cell_type": "code",
   "execution_count": 57,
   "id": "bf077953",
   "metadata": {},
   "outputs": [
    {
     "data": {
      "text/plain": [
       "1    254\n",
       "3    232\n",
       "7    123\n",
       "6    122\n",
       "2     68\n",
       "0     45\n",
       "5     20\n",
       "4      9\n",
       "Name: primary_fuel, dtype: int64"
      ]
     },
     "execution_count": 57,
     "metadata": {},
     "output_type": "execute_result"
    }
   ],
   "source": [
    "y.value_counts()"
   ]
  },
  {
   "cell_type": "code",
   "execution_count": 58,
   "id": "9b3adb60",
   "metadata": {},
   "outputs": [],
   "source": [
    "from imblearn.over_sampling import SMOTE\n",
    "\n",
    "smt=SMOTE()# instance of smote"
   ]
  },
  {
   "cell_type": "code",
   "execution_count": 59,
   "id": "566d904b",
   "metadata": {},
   "outputs": [],
   "source": [
    "trainx,trainy=smt.fit_resample(x,y)"
   ]
  },
  {
   "cell_type": "code",
   "execution_count": 60,
   "id": "7218a9d5",
   "metadata": {},
   "outputs": [
    {
     "data": {
      "text/plain": [
       "6    254\n",
       "1    254\n",
       "7    254\n",
       "2    254\n",
       "3    254\n",
       "0    254\n",
       "5    254\n",
       "4    254\n",
       "Name: primary_fuel, dtype: int64"
      ]
     },
     "execution_count": 60,
     "metadata": {},
     "output_type": "execute_result"
    }
   ],
   "source": [
    "trainy.value_counts()"
   ]
  },
  {
   "cell_type": "markdown",
   "id": "77cbe93f",
   "metadata": {},
   "source": [
    "# check for Skewness"
   ]
  },
  {
   "cell_type": "code",
   "execution_count": 61,
   "id": "16004830",
   "metadata": {},
   "outputs": [
    {
     "data": {
      "text/plain": [
       "capacity_mw           0.196081\n",
       "latitude              0.032857\n",
       "longitude            -0.037962\n",
       "source                1.848104\n",
       "geolocation_source   -2.166766\n",
       "PowerPlant_age        1.469080\n",
       "dtype: float64"
      ]
     },
     "execution_count": 61,
     "metadata": {},
     "output_type": "execute_result"
    }
   ],
   "source": [
    "x.skew()"
   ]
  },
  {
   "cell_type": "markdown",
   "id": "cc8b1b56",
   "metadata": {},
   "source": [
    "# Remove Skewness"
   ]
  },
  {
   "cell_type": "code",
   "execution_count": 62,
   "id": "87ff5584",
   "metadata": {},
   "outputs": [],
   "source": [
    "#remove skewness using power transform\n",
    "\n",
    "from sklearn.preprocessing import power_transform\n",
    "df_skew=power_transform(x)\n",
    "\n",
    "df_skew=pd.DataFrame(df_skew,columns=x.columns)"
   ]
  },
  {
   "cell_type": "markdown",
   "id": "4d2f2d7d",
   "metadata": {},
   "source": [
    "# check skewness are removed or not"
   ]
  },
  {
   "cell_type": "code",
   "execution_count": 63,
   "id": "73c3e888",
   "metadata": {},
   "outputs": [
    {
     "data": {
      "text/plain": [
       "capacity_mw          -0.261236\n",
       "latitude             -0.268671\n",
       "longitude            -0.298838\n",
       "source               -0.206270\n",
       "geolocation_source   -2.138453\n",
       "PowerPlant_age        0.110412\n",
       "dtype: float64"
      ]
     },
     "execution_count": 63,
     "metadata": {},
     "output_type": "execute_result"
    }
   ],
   "source": [
    "df_skew.skew()"
   ]
  },
  {
   "cell_type": "code",
   "execution_count": 64,
   "id": "bdfba0b2",
   "metadata": {},
   "outputs": [],
   "source": [
    "df=df_skew\n",
    "x=df_skew"
   ]
  },
  {
   "cell_type": "markdown",
   "id": "7306ed90",
   "metadata": {},
   "source": [
    "# check skewness are removed or not"
   ]
  },
  {
   "cell_type": "markdown",
   "id": "cc6d7f03",
   "metadata": {},
   "source": [
    "# Multicollinerity"
   ]
  },
  {
   "cell_type": "code",
   "execution_count": 65,
   "id": "ff6ea969",
   "metadata": {},
   "outputs": [],
   "source": [
    "from statsmodels.stats.outliers_influence import variance_inflation_factor\n",
    "def cal_vif(x):\n",
    "    vif=pd.DataFrame()\n",
    "    vif['variables']=x.columns\n",
    "    vif[\"vif_factor\"]=[variance_inflation_factor(x.values,i) for i in range (x.shape[1])]\n",
    "    return(vif)"
   ]
  },
  {
   "cell_type": "code",
   "execution_count": 66,
   "id": "6ed373d8",
   "metadata": {},
   "outputs": [
    {
     "data": {
      "text/html": [
       "<div>\n",
       "<style scoped>\n",
       "    .dataframe tbody tr th:only-of-type {\n",
       "        vertical-align: middle;\n",
       "    }\n",
       "\n",
       "    .dataframe tbody tr th {\n",
       "        vertical-align: top;\n",
       "    }\n",
       "\n",
       "    .dataframe thead th {\n",
       "        text-align: right;\n",
       "    }\n",
       "</style>\n",
       "<table border=\"1\" class=\"dataframe\">\n",
       "  <thead>\n",
       "    <tr style=\"text-align: right;\">\n",
       "      <th></th>\n",
       "      <th>variables</th>\n",
       "      <th>vif_factor</th>\n",
       "    </tr>\n",
       "  </thead>\n",
       "  <tbody>\n",
       "    <tr>\n",
       "      <th>0</th>\n",
       "      <td>capacity_mw</td>\n",
       "      <td>1.493969</td>\n",
       "    </tr>\n",
       "    <tr>\n",
       "      <th>1</th>\n",
       "      <td>latitude</td>\n",
       "      <td>1.089844</td>\n",
       "    </tr>\n",
       "    <tr>\n",
       "      <th>2</th>\n",
       "      <td>longitude</td>\n",
       "      <td>1.194407</td>\n",
       "    </tr>\n",
       "    <tr>\n",
       "      <th>3</th>\n",
       "      <td>source</td>\n",
       "      <td>1.272926</td>\n",
       "    </tr>\n",
       "    <tr>\n",
       "      <th>4</th>\n",
       "      <td>geolocation_source</td>\n",
       "      <td>1.615803</td>\n",
       "    </tr>\n",
       "    <tr>\n",
       "      <th>5</th>\n",
       "      <td>PowerPlant_age</td>\n",
       "      <td>1.167359</td>\n",
       "    </tr>\n",
       "  </tbody>\n",
       "</table>\n",
       "</div>"
      ],
      "text/plain": [
       "            variables  vif_factor\n",
       "0         capacity_mw    1.493969\n",
       "1            latitude    1.089844\n",
       "2           longitude    1.194407\n",
       "3              source    1.272926\n",
       "4  geolocation_source    1.615803\n",
       "5      PowerPlant_age    1.167359"
      ]
     },
     "execution_count": 66,
     "metadata": {},
     "output_type": "execute_result"
    }
   ],
   "source": [
    "cal_vif(x)"
   ]
  },
  {
   "cell_type": "markdown",
   "id": "0396daf9",
   "metadata": {},
   "source": [
    "no any column are suffering from multicollinerity"
   ]
  },
  {
   "cell_type": "markdown",
   "id": "d5306fd7",
   "metadata": {},
   "source": [
    "# Data Standardization"
   ]
  },
  {
   "cell_type": "code",
   "execution_count": 67,
   "id": "d1706212",
   "metadata": {},
   "outputs": [
    {
     "data": {
      "text/plain": [
       "array([[-1.71802499,  1.25999699, -1.14246013,  1.65301375, -2.35219189,\n",
       "         0.10416636],\n",
       "       [ 0.32603511,  0.77959109, -0.69197566,  2.12757924,  0.39530765,\n",
       "        -0.77526269],\n",
       "       [-0.15533512,  0.12070507, -2.03957276, -0.4581729 ,  0.39530765,\n",
       "        -0.77526269],\n",
       "       ...,\n",
       "       [-0.56491772, -1.09280605, -0.34601615, -0.4581729 ,  0.39530765,\n",
       "        -0.77526269],\n",
       "       [ 0.24575513,  0.69965376, -1.0178819 ,  0.95006865,  0.39530765,\n",
       "        -0.77526269],\n",
       "       [-0.8692452 , -1.84376757,  0.40272661, -0.4581729 ,  0.39530765,\n",
       "        -0.77526269]])"
      ]
     },
     "execution_count": 67,
     "metadata": {},
     "output_type": "execute_result"
    }
   ],
   "source": [
    "# Scaling the Feature data\n",
    "\n",
    "from sklearn.preprocessing import StandardScaler\n",
    "SC=StandardScaler()\n",
    "x=SC.fit_transform(x)\n",
    "x"
   ]
  },
  {
   "cell_type": "markdown",
   "id": "38766def",
   "metadata": {},
   "source": [
    "# Train Test Split"
   ]
  },
  {
   "cell_type": "code",
   "execution_count": 68,
   "id": "927fda06",
   "metadata": {},
   "outputs": [],
   "source": [
    "x_train, x_test, y_train, y_test = train_test_split(x,y, test_size = 0.20, random_state=100)"
   ]
  },
  {
   "cell_type": "code",
   "execution_count": 69,
   "id": "a7ab6181",
   "metadata": {},
   "outputs": [
    {
     "name": "stdout",
     "output_type": "stream",
     "text": [
      "shape of x_train=  (698, 6)\n",
      "shape of y_train=  (698,)\n",
      "shape of x_test=  (175, 6)\n",
      "shape of y_test=  (175,)\n"
     ]
    }
   ],
   "source": [
    "print(\"shape of x_train= \",x_train.shape)\n",
    "print(\"shape of y_train= \",y_train.shape)\n",
    "print(\"shape of x_test= \",x_test.shape)\n",
    "print(\"shape of y_test= \",y_test.shape)"
   ]
  },
  {
   "cell_type": "markdown",
   "id": "81c11e58",
   "metadata": {},
   "source": [
    "# Find best Random state"
   ]
  },
  {
   "cell_type": "code",
   "execution_count": 73,
   "id": "049d1647",
   "metadata": {},
   "outputs": [
    {
     "name": "stdout",
     "output_type": "stream",
     "text": [
      "testing accuracy  0.730593607305936  random state = 0\n",
      " max accuracy score 0.730593607305936  max random state = 0\n",
      "testing accuracy  0.7214611872146118  random state = 1\n",
      "testing accuracy  0.7168949771689498  random state = 2\n",
      "testing accuracy  0.7351598173515982  random state = 3\n",
      " max accuracy score 0.7351598173515982  max random state = 3\n",
      "testing accuracy  0.7214611872146118  random state = 4\n",
      "testing accuracy  0.7214611872146118  random state = 5\n",
      "testing accuracy  0.7397260273972602  random state = 6\n",
      " max accuracy score 0.7397260273972602  max random state = 6\n",
      "testing accuracy  0.7625570776255708  random state = 7\n",
      " max accuracy score 0.7625570776255708  max random state = 7\n",
      "testing accuracy  0.7123287671232876  random state = 8\n",
      "testing accuracy  0.7442922374429224  random state = 9\n",
      "testing accuracy  0.7168949771689498  random state = 10\n",
      "testing accuracy  0.6666666666666666  random state = 11\n",
      "testing accuracy  0.7351598173515982  random state = 12\n",
      "testing accuracy  0.726027397260274  random state = 13\n",
      "testing accuracy  0.6940639269406392  random state = 14\n",
      "testing accuracy  0.726027397260274  random state = 15\n",
      "testing accuracy  0.7351598173515982  random state = 16\n",
      "testing accuracy  0.7031963470319634  random state = 17\n",
      "testing accuracy  0.7351598173515982  random state = 18\n",
      "testing accuracy  0.7214611872146118  random state = 19\n",
      "testing accuracy  0.7442922374429224  random state = 20\n",
      "testing accuracy  0.7168949771689498  random state = 21\n",
      "testing accuracy  0.7214611872146118  random state = 22\n",
      "testing accuracy  0.7397260273972602  random state = 23\n",
      "testing accuracy  0.6940639269406392  random state = 24\n",
      "testing accuracy  0.7077625570776256  random state = 25\n",
      "testing accuracy  0.7123287671232876  random state = 26\n",
      "testing accuracy  0.7214611872146118  random state = 27\n",
      "testing accuracy  0.684931506849315  random state = 28\n",
      "testing accuracy  0.7397260273972602  random state = 29\n",
      "testing accuracy  0.7534246575342466  random state = 30\n",
      "testing accuracy  0.6986301369863014  random state = 31\n",
      "testing accuracy  0.7397260273972602  random state = 32\n",
      "testing accuracy  0.6940639269406392  random state = 33\n",
      "testing accuracy  0.7168949771689498  random state = 34\n",
      "testing accuracy  0.6712328767123288  random state = 35\n",
      "testing accuracy  0.7214611872146118  random state = 36\n",
      "testing accuracy  0.7077625570776256  random state = 37\n",
      "testing accuracy  0.7077625570776256  random state = 38\n",
      "testing accuracy  0.6986301369863014  random state = 39\n",
      "testing accuracy  0.7442922374429224  random state = 40\n",
      "testing accuracy  0.7488584474885844  random state = 41\n",
      "testing accuracy  0.7168949771689498  random state = 42\n",
      "testing accuracy  0.7168949771689498  random state = 43\n",
      "testing accuracy  0.7351598173515982  random state = 44\n",
      "testing accuracy  0.7534246575342466  random state = 45\n",
      "testing accuracy  0.7397260273972602  random state = 46\n",
      "testing accuracy  0.7442922374429224  random state = 47\n",
      "testing accuracy  0.7397260273972602  random state = 48\n",
      "testing accuracy  0.730593607305936  random state = 49\n",
      "testing accuracy  0.730593607305936  random state = 50\n",
      "testing accuracy  0.7579908675799086  random state = 51\n",
      "testing accuracy  0.7488584474885844  random state = 52\n",
      "testing accuracy  0.7488584474885844  random state = 53\n",
      "testing accuracy  0.7579908675799086  random state = 54\n",
      "testing accuracy  0.7031963470319634  random state = 55\n",
      "testing accuracy  0.7351598173515982  random state = 56\n",
      "testing accuracy  0.730593607305936  random state = 57\n",
      "testing accuracy  0.7077625570776256  random state = 58\n",
      "testing accuracy  0.7123287671232876  random state = 59\n",
      "testing accuracy  0.776255707762557  random state = 60\n",
      " max accuracy score 0.776255707762557  max random state = 60\n",
      "testing accuracy  0.726027397260274  random state = 61\n",
      "testing accuracy  0.6666666666666666  random state = 62\n",
      "testing accuracy  0.726027397260274  random state = 63\n",
      "testing accuracy  0.7214611872146118  random state = 64\n",
      "testing accuracy  0.726027397260274  random state = 65\n",
      "testing accuracy  0.7351598173515982  random state = 66\n",
      "testing accuracy  0.7442922374429224  random state = 67\n",
      "testing accuracy  0.684931506849315  random state = 68\n",
      "testing accuracy  0.7579908675799086  random state = 69\n",
      "testing accuracy  0.771689497716895  random state = 70\n",
      "testing accuracy  0.7397260273972602  random state = 71\n",
      "testing accuracy  0.6894977168949772  random state = 72\n",
      "testing accuracy  0.726027397260274  random state = 73\n",
      "testing accuracy  0.6986301369863014  random state = 74\n",
      "testing accuracy  0.771689497716895  random state = 75\n",
      "testing accuracy  0.7397260273972602  random state = 76\n",
      "testing accuracy  0.7077625570776256  random state = 77\n",
      "testing accuracy  0.7031963470319634  random state = 78\n",
      "testing accuracy  0.7214611872146118  random state = 79\n",
      "testing accuracy  0.7077625570776256  random state = 80\n",
      "testing accuracy  0.7077625570776256  random state = 81\n",
      "testing accuracy  0.7397260273972602  random state = 82\n",
      "testing accuracy  0.6894977168949772  random state = 83\n",
      "testing accuracy  0.7534246575342466  random state = 84\n",
      "testing accuracy  0.726027397260274  random state = 85\n",
      "testing accuracy  0.7214611872146118  random state = 86\n",
      "testing accuracy  0.7351598173515982  random state = 87\n",
      "testing accuracy  0.7031963470319634  random state = 88\n",
      "testing accuracy  0.7488584474885844  random state = 89\n",
      "testing accuracy  0.6894977168949772  random state = 90\n",
      "testing accuracy  0.7442922374429224  random state = 91\n",
      "testing accuracy  0.7397260273972602  random state = 92\n",
      "testing accuracy  0.7031963470319634  random state = 93\n",
      "testing accuracy  0.730593607305936  random state = 94\n",
      "testing accuracy  0.7488584474885844  random state = 95\n",
      "testing accuracy  0.7488584474885844  random state = 96\n",
      "testing accuracy  0.7488584474885844  random state = 97\n",
      "testing accuracy  0.7214611872146118  random state = 98\n",
      "testing accuracy  0.7214611872146118  random state = 99\n",
      "testing accuracy  0.6894977168949772  random state = 100\n",
      "testing accuracy  0.7214611872146118  random state = 101\n",
      "testing accuracy  0.7488584474885844  random state = 102\n",
      "testing accuracy  0.7214611872146118  random state = 103\n",
      "testing accuracy  0.6986301369863014  random state = 104\n",
      "testing accuracy  0.7579908675799086  random state = 105\n",
      "testing accuracy  0.7214611872146118  random state = 106\n",
      "testing accuracy  0.6986301369863014  random state = 107\n",
      "testing accuracy  0.771689497716895  random state = 108\n",
      "testing accuracy  0.7168949771689498  random state = 109\n",
      "testing accuracy  0.7579908675799086  random state = 110\n",
      "testing accuracy  0.6940639269406392  random state = 111\n",
      "testing accuracy  0.7625570776255708  random state = 112\n",
      "testing accuracy  0.730593607305936  random state = 113\n",
      "testing accuracy  0.7442922374429224  random state = 114\n",
      "testing accuracy  0.7077625570776256  random state = 115\n",
      "testing accuracy  0.7671232876712328  random state = 116\n",
      "testing accuracy  0.726027397260274  random state = 117\n",
      "testing accuracy  0.7397260273972602  random state = 118\n",
      "testing accuracy  0.7123287671232876  random state = 119\n",
      "testing accuracy  0.7351598173515982  random state = 120\n",
      "testing accuracy  0.7579908675799086  random state = 121\n",
      "testing accuracy  0.726027397260274  random state = 122\n",
      "testing accuracy  0.7579908675799086  random state = 123\n",
      "testing accuracy  0.7031963470319634  random state = 124\n",
      "testing accuracy  0.7397260273972602  random state = 125\n",
      "testing accuracy  0.6712328767123288  random state = 126\n",
      "testing accuracy  0.6986301369863014  random state = 127\n",
      "testing accuracy  0.7488584474885844  random state = 128\n",
      "testing accuracy  0.7168949771689498  random state = 129\n",
      "testing accuracy  0.726027397260274  random state = 130\n",
      "testing accuracy  0.730593607305936  random state = 131\n",
      "testing accuracy  0.6712328767123288  random state = 132\n",
      "testing accuracy  0.7351598173515982  random state = 133\n",
      "testing accuracy  0.726027397260274  random state = 134\n",
      "testing accuracy  0.7534246575342466  random state = 135\n",
      "testing accuracy  0.7214611872146118  random state = 136\n",
      "testing accuracy  0.684931506849315  random state = 137\n",
      "testing accuracy  0.7351598173515982  random state = 138\n",
      "testing accuracy  0.7625570776255708  random state = 139\n",
      "testing accuracy  0.771689497716895  random state = 140\n",
      "testing accuracy  0.730593607305936  random state = 141\n",
      "testing accuracy  0.7534246575342466  random state = 142\n"
     ]
    },
    {
     "name": "stdout",
     "output_type": "stream",
     "text": [
      "testing accuracy  0.7442922374429224  random state = 143\n",
      "testing accuracy  0.7488584474885844  random state = 144\n",
      "testing accuracy  0.7077625570776256  random state = 145\n",
      "testing accuracy  0.7214611872146118  random state = 146\n",
      "testing accuracy  0.7579908675799086  random state = 147\n",
      "testing accuracy  0.7168949771689498  random state = 148\n",
      "testing accuracy  0.7442922374429224  random state = 149\n",
      "testing accuracy  0.7214611872146118  random state = 150\n",
      "testing accuracy  0.7625570776255708  random state = 151\n",
      "testing accuracy  0.7123287671232876  random state = 152\n",
      "testing accuracy  0.726027397260274  random state = 153\n",
      "testing accuracy  0.7442922374429224  random state = 154\n",
      "testing accuracy  0.7031963470319634  random state = 155\n",
      "testing accuracy  0.7351598173515982  random state = 156\n",
      "testing accuracy  0.7168949771689498  random state = 157\n",
      "testing accuracy  0.7168949771689498  random state = 158\n",
      "testing accuracy  0.7123287671232876  random state = 159\n",
      "testing accuracy  0.6894977168949772  random state = 160\n",
      "testing accuracy  0.7077625570776256  random state = 161\n",
      "testing accuracy  0.7351598173515982  random state = 162\n",
      "testing accuracy  0.6986301369863014  random state = 163\n",
      "testing accuracy  0.7488584474885844  random state = 164\n",
      "testing accuracy  0.7351598173515982  random state = 165\n",
      "testing accuracy  0.7351598173515982  random state = 166\n",
      "testing accuracy  0.7123287671232876  random state = 167\n",
      "testing accuracy  0.7397260273972602  random state = 168\n",
      "testing accuracy  0.6940639269406392  random state = 169\n",
      "testing accuracy  0.7488584474885844  random state = 170\n",
      "testing accuracy  0.7351598173515982  random state = 171\n",
      "testing accuracy  0.7077625570776256  random state = 172\n",
      "testing accuracy  0.7351598173515982  random state = 173\n",
      "testing accuracy  0.684931506849315  random state = 174\n",
      "testing accuracy  0.7123287671232876  random state = 175\n",
      "testing accuracy  0.730593607305936  random state = 176\n",
      "testing accuracy  0.680365296803653  random state = 177\n",
      "testing accuracy  0.7123287671232876  random state = 178\n",
      "testing accuracy  0.726027397260274  random state = 179\n",
      "testing accuracy  0.726027397260274  random state = 180\n",
      "testing accuracy  0.7077625570776256  random state = 181\n",
      "testing accuracy  0.7351598173515982  random state = 182\n",
      "testing accuracy  0.7488584474885844  random state = 183\n",
      "testing accuracy  0.7625570776255708  random state = 184\n",
      "testing accuracy  0.7488584474885844  random state = 185\n",
      "testing accuracy  0.7488584474885844  random state = 186\n",
      "testing accuracy  0.7214611872146118  random state = 187\n",
      "testing accuracy  0.7351598173515982  random state = 188\n",
      "testing accuracy  0.7214611872146118  random state = 189\n",
      "testing accuracy  0.7031963470319634  random state = 190\n",
      "testing accuracy  0.7351598173515982  random state = 191\n",
      "testing accuracy  0.6757990867579908  random state = 192\n",
      "testing accuracy  0.7123287671232876  random state = 193\n",
      "testing accuracy  0.771689497716895  random state = 194\n",
      "testing accuracy  0.7123287671232876  random state = 195\n",
      "testing accuracy  0.7031963470319634  random state = 196\n",
      "testing accuracy  0.7442922374429224  random state = 197\n",
      "testing accuracy  0.6894977168949772  random state = 198\n",
      "testing accuracy  0.7808219178082192  random state = 199\n",
      " max accuracy score 0.7808219178082192  max random state = 199\n"
     ]
    }
   ],
   "source": [
    "from sklearn.linear_model import LogisticRegression\n",
    "max_accu=0 #maxi accuracy define as 0\n",
    "max_rs=0# best random state for which max accurecy achived\n",
    "\n",
    "lr=LogisticRegression()\n",
    " \n",
    "for i in range(0,200):\n",
    "    x_train, x_test, y_train, y_test = train_test_split( x, y, test_size=.25, random_state=i)\n",
    "    \n",
    "    lr.fit(x_train,y_train)\n",
    "\n",
    "    pred=lr.predict(x_test)# predicted target variable\n",
    "    \n",
    "    acc=accuracy_score(y_test,pred)# accuracy score\n",
    "    \n",
    "    print(\"testing accuracy \",acc, \" random state =\", i)\n",
    "    if acc>max_accu:\n",
    "        max_accu=acc\n",
    "        max_rs=i\n",
    "        print(\" max accuracy score\",acc, \" max random state =\",i)"
   ]
  },
  {
   "cell_type": "code",
   "execution_count": 74,
   "id": "af8788cb",
   "metadata": {},
   "outputs": [
    {
     "name": "stdout",
     "output_type": "stream",
     "text": [
      " max accuracy score 0.7808219178082192  max random state = 199\n"
     ]
    }
   ],
   "source": [
    "print(\" max accuracy score\",max_accu, \" max random state =\", max_rs)"
   ]
  },
  {
   "cell_type": "markdown",
   "id": "24cc5030",
   "metadata": {},
   "source": [
    "# Classification model_selection"
   ]
  },
  {
   "cell_type": "code",
   "execution_count": 109,
   "id": "beaf4d4c",
   "metadata": {},
   "outputs": [],
   "source": [
    "\n",
    "# model_selection is function  created bcz when we want to use another model then only call this function\n",
    "\n",
    "def model_selection(algorithm_instance,x_train, x_test, y_train, y_test):\n",
    "    x_train, x_test, y_train, y_test = train_test_split(x,y, test_size = 0.24, random_state=199)\n",
    "    \n",
    "    algorithm_instance.fit(x_train,y_train)\n",
    "    \n",
    "    model1_pred=algorithm_instance.predict(x_test)\n",
    "    \n",
    "    print(\"Accuracy Score\",accuracy_score(y_test,model1_pred)*100)\n",
    "    \n",
    "    print(\"confusion_matrix\",confusion_matrix(y_test,model1_pred))\n",
    "    \n",
    "    print(\"classification_report\",classification_report(y_test,model1_pred))\n",
    "\n",
    "def model_cv(algorithm_instance,trainx,trainy):\n",
    "    for j in range(4,10):\n",
    "        lsscore=cross_val_score(algorithm_instance,trainx,trainy,cv=j)\n",
    "        print(lsscore)\n",
    "        lsc=lsscore.mean()\n",
    "        print(\" At cv =\",j)\n",
    "        print(\"cross validation score \",lsc*100)"
   ]
  },
  {
   "cell_type": "code",
   "execution_count": 76,
   "id": "6af98de8",
   "metadata": {},
   "outputs": [
    {
     "name": "stdout",
     "output_type": "stream",
     "text": [
      "Accuracy Score 80.0\n",
      "confusion_matrix [[ 8  1  0  0  0  0  0  1]\n",
      " [ 4 48  3  4  0  0  0  3]\n",
      " [ 0  2  6  3  0  1  0  2]\n",
      " [ 0  9  4 48  0  0  0  0]\n",
      " [ 0  2  0  1  0  0  0  0]\n",
      " [ 1  0  0  1  0  0  0  0]\n",
      " [ 0  0  0  0  0  0 31  0]\n",
      " [ 0  0  0  0  0  0  0 27]]\n",
      "classification_report               precision    recall  f1-score   support\n",
      "\n",
      "           0       0.62      0.80      0.70        10\n",
      "           1       0.77      0.77      0.77        62\n",
      "           2       0.46      0.43      0.44        14\n",
      "           3       0.84      0.79      0.81        61\n",
      "           4       0.00      0.00      0.00         3\n",
      "           5       0.00      0.00      0.00         2\n",
      "           6       1.00      1.00      1.00        31\n",
      "           7       0.82      1.00      0.90        27\n",
      "\n",
      "    accuracy                           0.80       210\n",
      "   macro avg       0.56      0.60      0.58       210\n",
      "weighted avg       0.79      0.80      0.79       210\n",
      "\n",
      "[0.77755906 0.79330709 0.83858268 0.84645669]\n",
      " At cv = 4\n",
      "cross validation score  81.39763779527559\n",
      "[0.81081081 0.80835381 0.81527094 0.85960591 0.82758621]\n",
      " At cv = 5\n",
      "cross validation score  82.43255346703624\n",
      "[0.820059   0.79351032 0.79351032 0.81120944 0.86982249 0.83136095]\n",
      " At cv = 6\n",
      "cross validation score  81.99120862497308\n",
      "[0.80412371 0.78694158 0.82413793 0.83448276 0.82413793 0.88275862\n",
      " 0.82758621]\n",
      " At cv = 7\n",
      "cross validation score  82.63098200531546\n",
      "[0.7992126  0.78346457 0.83464567 0.79527559 0.80314961 0.87401575\n",
      " 0.87401575 0.82677165]\n",
      " At cv = 8\n",
      "cross validation score  82.38188976377954\n",
      "[0.80088496 0.80973451 0.81415929 0.80088496 0.84955752 0.79646018\n",
      " 0.86725664 0.86222222 0.81333333]\n",
      " At cv = 9\n",
      "cross validation score  82.38326231836557\n"
     ]
    }
   ],
   "source": [
    "knn=KNeighborsClassifier()\n",
    "model_selection(knn,x_train, x_test, y_train, y_test)\n",
    "model_cv(knn,trainx,trainy)"
   ]
  },
  {
   "cell_type": "code",
   "execution_count": 110,
   "id": "5199c5de",
   "metadata": {},
   "outputs": [
    {
     "name": "stdout",
     "output_type": "stream",
     "text": [
      "Accuracy Score 89.04761904761904\n",
      "confusion_matrix [[ 9  1  0  0  0  0  0  0]\n",
      " [ 1 55  1  5  0  0  0  0]\n",
      " [ 0  4  6  3  0  1  0  0]\n",
      " [ 0  4  0 57  0  0  0  0]\n",
      " [ 0  2  0  1  0  0  0  0]\n",
      " [ 0  0  0  0  0  2  0  0]\n",
      " [ 0  0  0  0  0  0 31  0]\n",
      " [ 0  0  0  0  0  0  0 27]]\n",
      "classification_report               precision    recall  f1-score   support\n",
      "\n",
      "           0       0.90      0.90      0.90        10\n",
      "           1       0.83      0.89      0.86        62\n",
      "           2       0.86      0.43      0.57        14\n",
      "           3       0.86      0.93      0.90        61\n",
      "           4       0.00      0.00      0.00         3\n",
      "           5       0.67      1.00      0.80         2\n",
      "           6       1.00      1.00      1.00        31\n",
      "           7       1.00      1.00      1.00        27\n",
      "\n",
      "    accuracy                           0.89       210\n",
      "   macro avg       0.77      0.77      0.75       210\n",
      "weighted avg       0.88      0.89      0.88       210\n",
      "\n",
      "[0.91535433 0.92716535 0.90551181 0.93897638]\n",
      " At cv = 4\n",
      "cross validation score  92.1751968503937\n",
      "[0.91400491 0.90909091 0.93596059 0.9137931  0.92610837]\n",
      " At cv = 5\n",
      "cross validation score  91.9791578412268\n",
      "[0.91740413 0.90265487 0.94690265 0.91740413 0.92307692 0.93786982]\n",
      " At cv = 6\n",
      "cross validation score  92.42187545455074\n",
      "[0.90034364 0.90378007 0.93103448 0.94137931 0.9        0.93448276\n",
      " 0.93448276]\n",
      " At cv = 7\n",
      "cross validation score  92.0786145955005\n",
      "[0.90551181 0.91338583 0.91732283 0.94488189 0.91732283 0.9015748\n",
      " 0.93700787 0.93700787]\n",
      " At cv = 8\n",
      "cross validation score  92.17519685039369\n",
      "[0.90707965 0.9380531  0.88938053 0.92035398 0.94690265 0.89823009\n",
      " 0.91150442 0.93333333 0.93333333]\n",
      " At cv = 9\n",
      "cross validation score  91.97967879383808\n"
     ]
    }
   ],
   "source": [
    "rf= RandomForestClassifier(random_state=199)\n",
    "model_selection(rf,x_train, x_test, y_train, y_test)\n",
    "model_cv(rf,trainx,trainy)"
   ]
  },
  {
   "cell_type": "code",
   "execution_count": 78,
   "id": "138d80aa",
   "metadata": {},
   "outputs": [
    {
     "name": "stdout",
     "output_type": "stream",
     "text": [
      "Accuracy Score 80.0\n",
      "confusion_matrix [[ 8  1  0  0  0  0  0  1]\n",
      " [ 2 53  0  4  0  0  0  3]\n",
      " [ 0  8  0  4  0  0  0  2]\n",
      " [ 0 10  0 51  0  0  0  0]\n",
      " [ 0  2  0  1  0  0  0  0]\n",
      " [ 1  0  0  1  0  0  0  0]\n",
      " [ 0  1  0  0  0  0 30  0]\n",
      " [ 0  1  0  0  0  0  0 26]]\n",
      "classification_report               precision    recall  f1-score   support\n",
      "\n",
      "           0       0.73      0.80      0.76        10\n",
      "           1       0.70      0.85      0.77        62\n",
      "           2       0.00      0.00      0.00        14\n",
      "           3       0.84      0.84      0.84        61\n",
      "           4       0.00      0.00      0.00         3\n",
      "           5       0.00      0.00      0.00         2\n",
      "           6       1.00      0.97      0.98        31\n",
      "           7       0.81      0.96      0.88        27\n",
      "\n",
      "    accuracy                           0.80       210\n",
      "   macro avg       0.51      0.55      0.53       210\n",
      "weighted avg       0.74      0.80      0.76       210\n",
      "\n",
      "[0.67322835 0.65748031 0.63385827 0.70275591]\n",
      " At cv = 4\n",
      "cross validation score  66.68307086614173\n",
      "[0.68550369 0.68550369 0.63793103 0.65763547 0.72660099]\n",
      " At cv = 5\n",
      "cross validation score  67.863497173842\n",
      "[0.68436578 0.65486726 0.69026549 0.63126844 0.69230769 0.70118343]\n",
      " At cv = 6\n",
      "cross validation score  67.57096809853788\n",
      "[0.67697595 0.67697595 0.70344828 0.67241379 0.65172414 0.72758621\n",
      " 0.68275862]\n",
      " At cv = 7\n",
      "cross validation score  68.45547035024461\n",
      "[0.66535433 0.7007874  0.68897638 0.69291339 0.61811024 0.66929134\n",
      " 0.7480315  0.68897638]\n",
      " At cv = 8\n",
      "cross validation score  68.40551181102363\n",
      "[0.66814159 0.7079646  0.67256637 0.69469027 0.67699115 0.67699115\n",
      " 0.64159292 0.76888889 0.67555556]\n",
      " At cv = 9\n",
      "cross validation score  68.70424997268655\n"
     ]
    }
   ],
   "source": [
    "sv=SVC()\n",
    "model_selection(sv,x_train, x_test, y_train, y_test)\n",
    "model_cv(sv,trainx,trainy)"
   ]
  },
  {
   "cell_type": "code",
   "execution_count": 79,
   "id": "ccc207a0",
   "metadata": {},
   "outputs": [
    {
     "name": "stdout",
     "output_type": "stream",
     "text": [
      "Accuracy Score 79.52380952380952\n",
      "confusion_matrix [[ 9  1  0  0  0  0  0  0]\n",
      " [ 1 45  8  6  1  0  1  0]\n",
      " [ 0  4  6  2  1  1  0  0]\n",
      " [ 0  7  4 47  0  3  0  0]\n",
      " [ 0  1  0  1  1  0  0  0]\n",
      " [ 0  0  1  0  0  1  0  0]\n",
      " [ 0  0  0  0  0  0 31  0]\n",
      " [ 0  0  0  0  0  0  0 27]]\n",
      "classification_report               precision    recall  f1-score   support\n",
      "\n",
      "           0       0.90      0.90      0.90        10\n",
      "           1       0.78      0.73      0.75        62\n",
      "           2       0.32      0.43      0.36        14\n",
      "           3       0.84      0.77      0.80        61\n",
      "           4       0.33      0.33      0.33         3\n",
      "           5       0.20      0.50      0.29         2\n",
      "           6       0.97      1.00      0.98        31\n",
      "           7       1.00      1.00      1.00        27\n",
      "\n",
      "    accuracy                           0.80       210\n",
      "   macro avg       0.67      0.71      0.68       210\n",
      "weighted avg       0.82      0.80      0.80       210\n",
      "\n",
      "[0.86811024 0.8976378  0.88976378 0.87598425]\n",
      " At cv = 4\n",
      "cross validation score  88.28740157480314\n",
      "[0.89189189 0.87714988 0.89162562 0.88916256 0.85714286]\n",
      " At cv = 5\n",
      "cross validation score  88.13945607049055\n",
      "[0.86135693 0.87020649 0.90855457 0.90560472 0.89940828 0.87278107]\n",
      " At cv = 6\n",
      "cross validation score  88.63186771627888\n",
      "[0.87972509 0.88316151 0.87241379 0.91724138 0.89655172 0.88965517\n",
      " 0.85862069]\n",
      " At cv = 7\n",
      "cross validation score  88.53384795084047\n",
      "[0.86614173 0.89370079 0.89370079 0.90551181 0.88582677 0.87795276\n",
      " 0.8976378  0.8503937 ]\n",
      " At cv = 8\n",
      "cross validation score  88.38582677165354\n",
      "[0.88053097 0.88053097 0.88495575 0.87610619 0.93362832 0.91150442\n",
      " 0.88938053 0.91111111 0.86666667]\n",
      " At cv = 9\n",
      "cross validation score  89.27127717688191\n"
     ]
    }
   ],
   "source": [
    "# model dtc\n",
    "dtc=DecisionTreeClassifier(random_state=199, max_depth=15)\n",
    "model_selection(dtc,x_train, x_test, y_train, y_test)\n",
    "model_cv(dtc,trainx,trainy)"
   ]
  },
  {
   "cell_type": "markdown",
   "id": "c06562f6",
   "metadata": {},
   "source": [
    "# Compare All Model Performance"
   ]
  },
  {
   "cell_type": "code",
   "execution_count": 80,
   "id": "816f14e9",
   "metadata": {},
   "outputs": [
    {
     "data": {
      "text/html": [
       "<div>\n",
       "<style scoped>\n",
       "    .dataframe tbody tr th:only-of-type {\n",
       "        vertical-align: middle;\n",
       "    }\n",
       "\n",
       "    .dataframe tbody tr th {\n",
       "        vertical-align: top;\n",
       "    }\n",
       "\n",
       "    .dataframe thead th {\n",
       "        text-align: right;\n",
       "    }\n",
       "</style>\n",
       "<table border=\"1\" class=\"dataframe\">\n",
       "  <thead>\n",
       "    <tr style=\"text-align: right;\">\n",
       "      <th></th>\n",
       "      <th>Model</th>\n",
       "      <th>Model accuracy</th>\n",
       "      <th>Cross validation</th>\n",
       "    </tr>\n",
       "  </thead>\n",
       "  <tbody>\n",
       "    <tr>\n",
       "      <th>0</th>\n",
       "      <td>RandomForest classifier</td>\n",
       "      <td>90</td>\n",
       "      <td>92</td>\n",
       "    </tr>\n",
       "    <tr>\n",
       "      <th>1</th>\n",
       "      <td>DecisionTree classifier</td>\n",
       "      <td>79</td>\n",
       "      <td>88</td>\n",
       "    </tr>\n",
       "    <tr>\n",
       "      <th>2</th>\n",
       "      <td>KNeighbour classifier</td>\n",
       "      <td>80</td>\n",
       "      <td>82</td>\n",
       "    </tr>\n",
       "    <tr>\n",
       "      <th>3</th>\n",
       "      <td>svm</td>\n",
       "      <td>80</td>\n",
       "      <td>66</td>\n",
       "    </tr>\n",
       "  </tbody>\n",
       "</table>\n",
       "</div>"
      ],
      "text/plain": [
       "                     Model  Model accuracy  Cross validation\n",
       "0  RandomForest classifier              90                92\n",
       "1  DecisionTree classifier              79                88\n",
       "2    KNeighbour classifier              80                82\n",
       "3                      svm              80                66"
      ]
     },
     "execution_count": 80,
     "metadata": {},
     "output_type": "execute_result"
    }
   ],
   "source": [
    "results = pd.DataFrame({\n",
    "\n",
    "    'Model': [\"RandomForest classifier\",\"DecisionTree classifier\",\"KNeighbour classifier\",\"svm\"],\n",
    "\n",
    "    'Model accuracy': [90,79,80,80],\n",
    "\n",
    "     \"Cross validation\":[92,88,82,66]\n",
    "    })\n",
    "\n",
    "results"
   ]
  },
  {
   "cell_type": "markdown",
   "id": "c7800af9",
   "metadata": {},
   "source": [
    "# Hyper Parameter Tuning For Best Mode\n",
    "Choosing best model as\n",
    "Random Forest classification Model \n",
    "\n",
    "minimum difference between cross validation and Accuracy score"
   ]
  },
  {
   "cell_type": "code",
   "execution_count": 81,
   "id": "3031305a",
   "metadata": {},
   "outputs": [
    {
     "name": "stdout",
     "output_type": "stream",
     "text": [
      "{'max_depth': 10, 'max_features': 1, 'n_estimators': 100}\n"
     ]
    }
   ],
   "source": [
    "# Create the parameter grid based on the results of random search \n",
    "param_grid = {'max_depth':[3,5,10,None],\n",
    "              'n_estimators':[10,100,200,300,400],\n",
    "              'max_features':[1,3,5,7],\n",
    "           }\n",
    "# Create a based model\n",
    "rf = RandomForestClassifier()\n",
    "# Instantiate the grid search model\n",
    "grid_search = GridSearchCV(estimator = rf, param_grid = param_grid,cv = 9)\n",
    "\n",
    "# Fit the grid search to the data\n",
    "grid_search.fit(x_train,y_train)\n",
    "print(grid_search.best_params_)"
   ]
  },
  {
   "cell_type": "markdown",
   "id": "b7ae4f93",
   "metadata": {},
   "source": [
    "# Obtaining the Best Parameters for Hyper parameters tuning"
   ]
  },
  {
   "cell_type": "code",
   "execution_count": 83,
   "id": "c81ea108",
   "metadata": {},
   "outputs": [
    {
     "name": "stdout",
     "output_type": "stream",
     "text": [
      "accuracy_score 0.8949771689497716\n",
      "cross validation score  90.64874904402926\n",
      "confusion_matrix [[10  1  0  0  0  0  0  0]\n",
      " [ 2 58  0  4  0  0  0  0]\n",
      " [ 0  5  6  2  0  0  0  1]\n",
      " [ 0  4  0 60  0  0  0  0]\n",
      " [ 0  2  0  1  0  0  0  0]\n",
      " [ 0  0  0  1  0  1  0  0]\n",
      " [ 0  0  0  0  0  0 31  0]\n",
      " [ 0  0  0  0  0  0  0 30]]\n",
      "classification_report               precision    recall  f1-score   support\n",
      "\n",
      "           0       0.83      0.91      0.87        11\n",
      "           1       0.83      0.91      0.87        64\n",
      "           2       1.00      0.43      0.60        14\n",
      "           3       0.88      0.94      0.91        64\n",
      "           4       0.00      0.00      0.00         3\n",
      "           5       1.00      0.50      0.67         2\n",
      "           6       1.00      1.00      1.00        31\n",
      "           7       0.97      1.00      0.98        30\n",
      "\n",
      "    accuracy                           0.89       219\n",
      "   macro avg       0.81      0.71      0.74       219\n",
      "weighted avg       0.89      0.89      0.88       219\n",
      "\n"
     ]
    }
   ],
   "source": [
    "rf= RandomForestClassifier(max_depth = 10, n_estimators=100, max_features= 1)\n",
    "#n_estimatorsint, default=100 The number of trees in the forest.\n",
    "rf.fit(x_train,y_train)\n",
    "pred_rf=rf.predict(x_test)\n",
    "print(\"accuracy_score\",accuracy_score(y_test,pred_rf))\n",
    "\n",
    "cr_vl=cross_val_score(rf,trainx,trainy,cv=9)\n",
    "\n",
    "print(\"cross validation score \",(cr_vl.mean())*100)\n",
    "\n",
    "print(\"confusion_matrix\",confusion_matrix(y_test,pred_rf))\n",
    "\n",
    "print(\"classification_report\",classification_report(y_test,pred_rf))\n"
   ]
  },
  {
   "cell_type": "markdown",
   "id": "91b383c8",
   "metadata": {},
   "source": [
    "# Confusion Matrix"
   ]
  },
  {
   "cell_type": "code",
   "execution_count": 89,
   "id": "89f6f727",
   "metadata": {},
   "outputs": [
    {
     "data": {
      "image/png": "[encoded data removed]",
      "text/plain": [
       "<Figure size 432x288 with 2 Axes>"
      ]
     },
     "metadata": {
      "needs_background": "light"
     },
     "output_type": "display_data"
    }
   ],
   "source": [
    "class_names = df.columns\n",
    "metrics.plot_confusion_matrix(rf, x_test, y_test, cmap='mako')\n",
    "plt.title('\\t Confusion Matrix for random Farest classification \\n')\n",
    "plt.show()"
   ]
  },
  {
   "cell_type": "markdown",
   "id": "f0f92607",
   "metadata": {},
   "source": [
    "With the help of above confusion matrix I am able to understand the number of times I got the correct outputs and the number of times my model missed to provide the correct prediction (depicting in the black boxes)"
   ]
  },
  {
   "cell_type": "markdown",
   "id": "e087c4d3",
   "metadata": {},
   "source": [
    "# Saving ,Loading and Conclusion the best Classification ML model"
   ]
  },
  {
   "cell_type": "code",
   "execution_count": 91,
   "id": "3442e328",
   "metadata": {},
   "outputs": [],
   "source": [
    "import pickle\n",
    "filename_1=\"Fluel_type.pkl\"\n",
    "pickle.dump(rf,open(filename_1,\"wb\"))"
   ]
  },
  {
   "cell_type": "code",
   "execution_count": 92,
   "id": "924afb69",
   "metadata": {},
   "outputs": [
    {
     "name": "stdout",
     "output_type": "stream",
     "text": [
      "89.49771689497716\n"
     ]
    }
   ],
   "source": [
    "loaded_model=pickle.load(open(\"Fluel_type.pkl\",\"rb\"))\n",
    "result=loaded_model.score(x_test,y_test)\n",
    "print(result*100)"
   ]
  },
  {
   "cell_type": "code",
   "execution_count": 93,
   "id": "a2a7ff43",
   "metadata": {},
   "outputs": [],
   "source": [
    "conclusion=pd.DataFrame([loaded_model.predict(x_test)[:],pred_rf[:]],index=[\"predicted\",\"original\"])"
   ]
  },
  {
   "cell_type": "code",
   "execution_count": 95,
   "id": "2705d8b0",
   "metadata": {},
   "outputs": [
    {
     "data": {
      "text/html": [
       "<div>\n",
       "<style scoped>\n",
       "    .dataframe tbody tr th:only-of-type {\n",
       "        vertical-align: middle;\n",
       "    }\n",
       "\n",
       "    .dataframe tbody tr th {\n",
       "        vertical-align: top;\n",
       "    }\n",
       "\n",
       "    .dataframe thead th {\n",
       "        text-align: right;\n",
       "    }\n",
       "</style>\n",
       "<table border=\"1\" class=\"dataframe\">\n",
       "  <thead>\n",
       "    <tr style=\"text-align: right;\">\n",
       "      <th></th>\n",
       "      <th>predicted</th>\n",
       "      <th>original</th>\n",
       "    </tr>\n",
       "  </thead>\n",
       "  <tbody>\n",
       "    <tr>\n",
       "      <th>0</th>\n",
       "      <td>1</td>\n",
       "      <td>1</td>\n",
       "    </tr>\n",
       "    <tr>\n",
       "      <th>1</th>\n",
       "      <td>3</td>\n",
       "      <td>3</td>\n",
       "    </tr>\n",
       "    <tr>\n",
       "      <th>2</th>\n",
       "      <td>1</td>\n",
       "      <td>1</td>\n",
       "    </tr>\n",
       "    <tr>\n",
       "      <th>3</th>\n",
       "      <td>3</td>\n",
       "      <td>3</td>\n",
       "    </tr>\n",
       "    <tr>\n",
       "      <th>4</th>\n",
       "      <td>3</td>\n",
       "      <td>3</td>\n",
       "    </tr>\n",
       "    <tr>\n",
       "      <th>...</th>\n",
       "      <td>...</td>\n",
       "      <td>...</td>\n",
       "    </tr>\n",
       "    <tr>\n",
       "      <th>214</th>\n",
       "      <td>3</td>\n",
       "      <td>3</td>\n",
       "    </tr>\n",
       "    <tr>\n",
       "      <th>215</th>\n",
       "      <td>3</td>\n",
       "      <td>3</td>\n",
       "    </tr>\n",
       "    <tr>\n",
       "      <th>216</th>\n",
       "      <td>7</td>\n",
       "      <td>7</td>\n",
       "    </tr>\n",
       "    <tr>\n",
       "      <th>217</th>\n",
       "      <td>1</td>\n",
       "      <td>1</td>\n",
       "    </tr>\n",
       "    <tr>\n",
       "      <th>218</th>\n",
       "      <td>0</td>\n",
       "      <td>0</td>\n",
       "    </tr>\n",
       "  </tbody>\n",
       "</table>\n",
       "<p>219 rows × 2 columns</p>\n",
       "</div>"
      ],
      "text/plain": [
       "     predicted  original\n",
       "0            1         1\n",
       "1            3         3\n",
       "2            1         1\n",
       "3            3         3\n",
       "4            3         3\n",
       "..         ...       ...\n",
       "214          3         3\n",
       "215          3         3\n",
       "216          7         7\n",
       "217          1         1\n",
       "218          0         0\n",
       "\n",
       "[219 rows x 2 columns]"
      ]
     },
     "execution_count": 95,
     "metadata": {},
     "output_type": "execute_result"
    }
   ],
   "source": [
    "conclusion.T"
   ]
  },
  {
   "cell_type": "markdown",
   "id": "904eff3e",
   "metadata": {},
   "source": [
    "# Model building For capacity_mw prediction"
   ]
  },
  {
   "cell_type": "code",
   "execution_count": 74,
   "id": "75f4e06a",
   "metadata": {},
   "outputs": [],
   "source": [
    "a = df.drop('capacity_mw', axis=1)\n",
    "b = df['capacity_mw']"
   ]
  },
  {
   "cell_type": "markdown",
   "id": "f3583d02",
   "metadata": {},
   "source": [
    "# Feature Scaling"
   ]
  },
  {
   "cell_type": "code",
   "execution_count": 75,
   "id": "0dc29f45",
   "metadata": {},
   "outputs": [
    {
     "data": {
      "text/html": [
       "<div>\n",
       "<style scoped>\n",
       "    .dataframe tbody tr th:only-of-type {\n",
       "        vertical-align: middle;\n",
       "    }\n",
       "\n",
       "    .dataframe tbody tr th {\n",
       "        vertical-align: top;\n",
       "    }\n",
       "\n",
       "    .dataframe thead th {\n",
       "        text-align: right;\n",
       "    }\n",
       "</style>\n",
       "<table border=\"1\" class=\"dataframe\">\n",
       "  <thead>\n",
       "    <tr style=\"text-align: right;\">\n",
       "      <th></th>\n",
       "      <th>latitude</th>\n",
       "      <th>longitude</th>\n",
       "      <th>source</th>\n",
       "      <th>geolocation_source</th>\n",
       "      <th>PowerPlant_age</th>\n",
       "    </tr>\n",
       "  </thead>\n",
       "  <tbody>\n",
       "    <tr>\n",
       "      <th>0</th>\n",
       "      <td>1.259997</td>\n",
       "      <td>-1.142460</td>\n",
       "      <td>1.653014</td>\n",
       "      <td>-2.352192</td>\n",
       "      <td>0.104166</td>\n",
       "    </tr>\n",
       "    <tr>\n",
       "      <th>1</th>\n",
       "      <td>0.779591</td>\n",
       "      <td>-0.691976</td>\n",
       "      <td>2.127579</td>\n",
       "      <td>0.395308</td>\n",
       "      <td>-0.775263</td>\n",
       "    </tr>\n",
       "    <tr>\n",
       "      <th>2</th>\n",
       "      <td>0.120705</td>\n",
       "      <td>-2.039573</td>\n",
       "      <td>-0.458173</td>\n",
       "      <td>0.395308</td>\n",
       "      <td>-0.775263</td>\n",
       "    </tr>\n",
       "    <tr>\n",
       "      <th>3</th>\n",
       "      <td>0.607751</td>\n",
       "      <td>1.521537</td>\n",
       "      <td>-0.388489</td>\n",
       "      <td>0.395308</td>\n",
       "      <td>0.741160</td>\n",
       "    </tr>\n",
       "    <tr>\n",
       "      <th>4</th>\n",
       "      <td>0.132653</td>\n",
       "      <td>1.162432</td>\n",
       "      <td>-0.388489</td>\n",
       "      <td>0.395308</td>\n",
       "      <td>-0.775263</td>\n",
       "    </tr>\n",
       "  </tbody>\n",
       "</table>\n",
       "</div>"
      ],
      "text/plain": [
       "   latitude  longitude    source  geolocation_source  PowerPlant_age\n",
       "0  1.259997  -1.142460  1.653014           -2.352192        0.104166\n",
       "1  0.779591  -0.691976  2.127579            0.395308       -0.775263\n",
       "2  0.120705  -2.039573 -0.458173            0.395308       -0.775263\n",
       "3  0.607751   1.521537 -0.388489            0.395308        0.741160\n",
       "4  0.132653   1.162432 -0.388489            0.395308       -0.775263"
      ]
     },
     "execution_count": 75,
     "metadata": {},
     "output_type": "execute_result"
    }
   ],
   "source": [
    "scaler = StandardScaler()\n",
    "a = pd.DataFrame(scaler.fit_transform(a), columns=a.columns)\n",
    "a.head() # Displaying all the features after applying scaling technique to avoid bias output"
   ]
  },
  {
   "cell_type": "markdown",
   "id": "b0f7181e",
   "metadata": {},
   "source": [
    "# Finding the best random state for building Regression Models"
   ]
  },
  {
   "cell_type": "code",
   "execution_count": 77,
   "id": "f8aa5eaa",
   "metadata": {},
   "outputs": [
    {
     "name": "stdout",
     "output_type": "stream",
     "text": [
      "testing accuracy  0.34694083336504145  random state = 0\n",
      " max accuracy score 0.34694083336504145  max random state = 0\n",
      "testing accuracy  0.30816076025265604  random state = 1\n",
      "testing accuracy  0.31850939796483657  random state = 2\n",
      "testing accuracy  0.33860271105280515  random state = 3\n",
      "testing accuracy  0.3236967268676286  random state = 4\n",
      "testing accuracy  0.30735285412252966  random state = 5\n",
      "testing accuracy  0.34043637061603516  random state = 6\n",
      "testing accuracy  0.26141138997569036  random state = 7\n",
      "testing accuracy  0.3753523866573596  random state = 8\n",
      " max accuracy score 0.3753523866573596  max random state = 8\n",
      "testing accuracy  0.23156694191732896  random state = 9\n",
      "testing accuracy  0.2921124457038933  random state = 10\n",
      "testing accuracy  0.28942897520092103  random state = 11\n",
      "testing accuracy  0.2402012334017426  random state = 12\n",
      "testing accuracy  0.3329809114915795  random state = 13\n",
      "testing accuracy  0.3770322284165971  random state = 14\n",
      " max accuracy score 0.3770322284165971  max random state = 14\n",
      "testing accuracy  0.3225385633604657  random state = 15\n",
      "testing accuracy  0.2782784323990084  random state = 16\n",
      "testing accuracy  0.30535069850323704  random state = 17\n",
      "testing accuracy  0.3712978111722951  random state = 18\n",
      "testing accuracy  0.3757488630453858  random state = 19\n",
      "testing accuracy  0.34572873131208914  random state = 20\n",
      "testing accuracy  0.3301712351548778  random state = 21\n",
      "testing accuracy  0.34236754143868753  random state = 22\n",
      "testing accuracy  0.2851555677150902  random state = 23\n",
      "testing accuracy  0.42017811220711343  random state = 24\n",
      " max accuracy score 0.42017811220711343  max random state = 24\n",
      "testing accuracy  0.32915060070680735  random state = 25\n",
      "testing accuracy  0.3297899389655118  random state = 26\n",
      "testing accuracy  0.34487033089598007  random state = 27\n",
      "testing accuracy  0.37885733840943747  random state = 28\n",
      "testing accuracy  0.28614399244570965  random state = 29\n",
      "testing accuracy  0.3158988583955926  random state = 30\n",
      "testing accuracy  0.3212798576642424  random state = 31\n",
      "testing accuracy  0.3107771333481125  random state = 32\n",
      "testing accuracy  0.3417419329882895  random state = 33\n",
      "testing accuracy  0.18165628136527168  random state = 34\n",
      "testing accuracy  0.2755457353917974  random state = 35\n",
      "testing accuracy  0.347101204991062  random state = 36\n",
      "testing accuracy  0.30873563110871327  random state = 37\n",
      "testing accuracy  0.27134273908631057  random state = 38\n",
      "testing accuracy  0.2785634858216043  random state = 39\n",
      "testing accuracy  0.32603242010636235  random state = 40\n",
      "testing accuracy  0.2370704025195528  random state = 41\n",
      "testing accuracy  0.2607038231625124  random state = 42\n",
      "testing accuracy  0.34680726813905594  random state = 43\n",
      "testing accuracy  0.36764349167783206  random state = 44\n",
      "testing accuracy  0.3051048684740225  random state = 45\n",
      "testing accuracy  0.2746749639382776  random state = 46\n",
      "testing accuracy  0.28744533101081415  random state = 47\n",
      "testing accuracy  0.3446750965665869  random state = 48\n",
      "testing accuracy  0.1598583820015692  random state = 49\n",
      "testing accuracy  0.3193065855069195  random state = 50\n",
      "testing accuracy  0.23992688541440965  random state = 51\n",
      "testing accuracy  0.33408956045455074  random state = 52\n",
      "testing accuracy  0.3050523871310262  random state = 53\n",
      "testing accuracy  0.3216425766474159  random state = 54\n",
      "testing accuracy  0.3576049567811883  random state = 55\n",
      "testing accuracy  0.3487740965680838  random state = 56\n",
      "testing accuracy  0.3367591995625351  random state = 57\n",
      "testing accuracy  0.32336927660825543  random state = 58\n",
      "testing accuracy  0.35263993944016525  random state = 59\n",
      "testing accuracy  0.23973672739600393  random state = 60\n",
      "testing accuracy  0.4070309273772913  random state = 61\n",
      "testing accuracy  0.2969680254870831  random state = 62\n",
      "testing accuracy  0.25781514788598947  random state = 63\n",
      "testing accuracy  0.26828842085397575  random state = 64\n",
      "testing accuracy  0.23098811848035117  random state = 65\n",
      "testing accuracy  0.19553702152910035  random state = 66\n",
      "testing accuracy  0.34381155445318246  random state = 67\n",
      "testing accuracy  0.34925706290827396  random state = 68\n",
      "testing accuracy  0.2724612129808818  random state = 69\n",
      "testing accuracy  0.38883899107147  random state = 70\n",
      "testing accuracy  0.3899317271281051  random state = 71\n",
      "testing accuracy  0.3274586548462053  random state = 72\n",
      "testing accuracy  0.36637364380170634  random state = 73\n",
      "testing accuracy  0.3476703157825711  random state = 74\n",
      "testing accuracy  0.30591892260809195  random state = 75\n",
      "testing accuracy  0.30475520885144414  random state = 76\n",
      "testing accuracy  0.3786605060134032  random state = 77\n",
      "testing accuracy  0.32903931633754435  random state = 78\n",
      "testing accuracy  0.3760610714902656  random state = 79\n",
      "testing accuracy  0.27237215207392984  random state = 80\n",
      "testing accuracy  0.3378978396360588  random state = 81\n",
      "testing accuracy  0.29173520161459987  random state = 82\n",
      "testing accuracy  0.336743445727529  random state = 83\n",
      "testing accuracy  0.33037348987409165  random state = 84\n",
      "testing accuracy  0.256203411043222  random state = 85\n",
      "testing accuracy  0.29254377390990094  random state = 86\n",
      "testing accuracy  0.33806613402640695  random state = 87\n",
      "testing accuracy  0.31929138744344654  random state = 88\n",
      "testing accuracy  0.3137453722818484  random state = 89\n",
      "testing accuracy  0.3002167662767764  random state = 90\n",
      "testing accuracy  0.2857296862288118  random state = 91\n",
      "testing accuracy  0.2820987632589811  random state = 92\n",
      "testing accuracy  0.30706940289100915  random state = 93\n",
      "testing accuracy  0.26608739430327044  random state = 94\n",
      "testing accuracy  0.33045711282777346  random state = 95\n",
      "testing accuracy  0.2814979478634213  random state = 96\n",
      "testing accuracy  0.3642769319677026  random state = 97\n",
      "testing accuracy  0.37294829627855464  random state = 98\n",
      "testing accuracy  0.3536997587468931  random state = 99\n"
     ]
    }
   ],
   "source": [
    "max_accu=0 #maxi accuracy define as 0\n",
    "max_rs=0# best random state for which max accurecy achived\n",
    "\n",
    "lr=LinearRegression()\n",
    " \n",
    "for i in range(0,100):\n",
    "    a_train, a_test, b_train, b_test = train_test_split( a, b, test_size=.25, random_state=i)\n",
    "    \n",
    "    lr.fit(a_train,b_train)\n",
    "\n",
    "    predlr=lr.predict(a_test)# predicted target variable\n",
    "    \n",
    "    acc=r2_score(b_test,predlr)# accuracy score\n",
    "    \n",
    "    print(\"testing accuracy \",acc, \" random state =\", i)\n",
    "    if acc>max_accu:\n",
    "        max_accu=acc\n",
    "        max_rs=i\n",
    "        print(\" max accuracy score\",acc, \" max random state =\",i)"
   ]
  },
  {
   "cell_type": "code",
   "execution_count": 83,
   "id": "bafc44cd",
   "metadata": {},
   "outputs": [],
   "source": [
    "# Regression Model Function\n",
    "\n",
    "def reg(model, a, b):\n",
    "    a_train, a_test, b_train, b_test = train_test_split( a, b, test_size=.25, random_state=i)\n",
    "    \n",
    "    # Training the model\n",
    "    model.fit(a_train, b_train)\n",
    "    \n",
    "    # Predicting Y_test\n",
    "    pred = model.predict(a_test)\n",
    "    \n",
    "    # RMSE - a lower RMSE score is better than a higher one\n",
    "    rmse = mean_squared_error(b_test, pred, squared=False)\n",
    "    print(\"RMSE Score is:\", rmse)\n",
    "    \n",
    "    # R2 score\n",
    "    r2 = r2_score(b_test, pred, multioutput='variance_weighted')*100\n",
    "    print(\"R2 Score is:\", r2)\n",
    "    \n",
    "    # Cross Validation Score\n",
    "    cv_score = (cross_val_score(model, a, b, cv=9).mean())*100\n",
    "    print(\"Cross Validation Score:\", cv_score)\n",
    "    \n",
    "    # Result of r2 score minus cv score\n",
    "    result = r2 - cv_score\n",
    "    print(\"R2 Score - Cross Validation Score is\", result)"
   ]
  },
  {
   "cell_type": "code",
   "execution_count": 84,
   "id": "0236769a",
   "metadata": {},
   "outputs": [
    {
     "name": "stdout",
     "output_type": "stream",
     "text": [
      "RMSE Score is: 0.7832776408437937\n",
      "R2 Score is: 35.36997587468931\n",
      "Cross Validation Score: 30.626049879018076\n",
      "R2 Score - Cross Validation Score is 4.743925995671233\n"
     ]
    }
   ],
   "source": [
    "# Linear Regression Model\n",
    "\n",
    "model=LinearRegression()\n",
    "reg(model, a, b)"
   ]
  },
  {
   "cell_type": "code",
   "execution_count": 85,
   "id": "00ad2599",
   "metadata": {},
   "outputs": [
    {
     "name": "stdout",
     "output_type": "stream",
     "text": [
      "RMSE Score is: 0.7832496891317489\n",
      "R2 Score is: 35.37458851137458\n",
      "Cross Validation Score: 30.635648284663976\n",
      "R2 Score - Cross Validation Score is 4.738940226710607\n"
     ]
    }
   ],
   "source": [
    "# Ridge Regression\n",
    "\n",
    "model=Ridge(alpha=1e-2, normalize=True)\n",
    "reg(model, a, b)"
   ]
  },
  {
   "cell_type": "code",
   "execution_count": 86,
   "id": "ed22b53e",
   "metadata": {},
   "outputs": [
    {
     "name": "stdout",
     "output_type": "stream",
     "text": [
      "RMSE Score is: 0.8821640530495926\n",
      "R2 Score is: 18.02119698217688\n",
      "Cross Validation Score: 13.846252140050902\n",
      "R2 Score - Cross Validation Score is 4.174944842125976\n"
     ]
    }
   ],
   "source": [
    "# Lasso Regression\n",
    "\n",
    "model=Lasso(alpha=1e-2, normalize=True)\n",
    "reg(model, a, b)"
   ]
  },
  {
   "cell_type": "code",
   "execution_count": 87,
   "id": "b23e4bec",
   "metadata": {},
   "outputs": [
    {
     "name": "stdout",
     "output_type": "stream",
     "text": [
      "RMSE Score is: 0.8480706399799659\n",
      "R2 Score is: 24.235298661516524\n",
      "Cross Validation Score: 25.52365536097077\n",
      "R2 Score - Cross Validation Score is -1.2883566994542477\n"
     ]
    }
   ],
   "source": [
    "# Decision Tree Regressor\n",
    "\n",
    "model=DecisionTreeRegressor()\n",
    "reg(model, a, b)"
   ]
  },
  {
   "cell_type": "code",
   "execution_count": 88,
   "id": "659ffd8a",
   "metadata": {},
   "outputs": [
    {
     "name": "stdout",
     "output_type": "stream",
     "text": [
      "RMSE Score is: 0.7244505911419071\n",
      "R2 Score is: 44.71333397380081\n",
      "Cross Validation Score: 41.25914954760421\n",
      "R2 Score - Cross Validation Score is 3.4541844261965977\n"
     ]
    }
   ],
   "source": [
    "# Random Forest Regressor\n",
    "\n",
    "model=RandomForestRegressor(max_depth=2, max_features=\"sqrt\")\n",
    "reg(model, a, b)"
   ]
  },
  {
   "cell_type": "code",
   "execution_count": 89,
   "id": "1f4c5383",
   "metadata": {},
   "outputs": [
    {
     "name": "stdout",
     "output_type": "stream",
     "text": [
      "RMSE Score is: 0.7108749896794594\n",
      "R2 Score is: 46.76597197095427\n",
      "Cross Validation Score: 41.710627948787845\n",
      "R2 Score - Cross Validation Score is 5.055344022166423\n"
     ]
    }
   ],
   "source": [
    "# K Neighbors Regressor\n",
    "\n",
    "KNeighborsRegressor(n_neighbors=2, algorithm='kd_tree')\n",
    "reg(model, a, b)"
   ]
  },
  {
   "cell_type": "code",
   "execution_count": 90,
   "id": "a2de40bc",
   "metadata": {},
   "outputs": [
    {
     "name": "stdout",
     "output_type": "stream",
     "text": [
      "RMSE Score is: 0.644871485777078\n",
      "R2 Score is: 56.19242557820677\n",
      "Cross Validation Score: 54.73476531377517\n",
      "R2 Score - Cross Validation Score is 1.4576602644316026\n"
     ]
    }
   ],
   "source": [
    "# Gradient Boosting Regressor\n",
    "\n",
    "model=GradientBoostingRegressor()\n",
    "reg(model, a, b)"
   ]
  },
  {
   "cell_type": "code",
   "execution_count": 91,
   "id": "d9a57cf9",
   "metadata": {},
   "outputs": [
    {
     "name": "stdout",
     "output_type": "stream",
     "text": [
      "RMSE Score is: 0.659250870526919\n",
      "R2 Score is: 54.216996222308225\n",
      "Cross Validation Score: 47.31527233514678\n",
      "R2 Score - Cross Validation Score is 6.901723887161445\n"
     ]
    }
   ],
   "source": [
    "# Ada Boost Regressor\n",
    "\n",
    "model=AdaBoostRegressor(n_estimators=300, learning_rate=1.05, random_state=42)\n",
    "reg(model, a, b)"
   ]
  },
  {
   "cell_type": "code",
   "execution_count": 92,
   "id": "ea8b64e2",
   "metadata": {},
   "outputs": [
    {
     "name": "stdout",
     "output_type": "stream",
     "text": [
      "RMSE Score is: 0.6563370241180059\n",
      "R2 Score is: 54.6208176721835\n",
      "Cross Validation Score: 54.14118230202298\n",
      "R2 Score - Cross Validation Score is 0.4796353701605156\n"
     ]
    }
   ],
   "source": [
    "# Extra Trees Regressor\n",
    "\n",
    "model=ExtraTreesRegressor(n_estimators=400, max_features='sqrt', n_jobs=6)\n",
    "reg(model, a, b)"
   ]
  },
  {
   "cell_type": "markdown",
   "id": "18cd3d7f",
   "metadata": {},
   "source": [
    "# Hyper parameter tuning on the best Regression ML Model"
   ]
  },
  {
   "cell_type": "code",
   "execution_count": 149,
   "id": "e92ff6d6",
   "metadata": {},
   "outputs": [],
   "source": [
    "# Choosing Extra Trees Regressor\n",
    "\n",
    "param = {'criterion' : ['mse', 'mae'],\n",
    "              'n_estimators' : [100, 200],\n",
    "              'min_samples_split' : [2, 3],\n",
    "              'random_state' : [42, 135],\n",
    "              'n_jobs' : [-1, 1]\n",
    "             }"
   ]
  },
  {
   "cell_type": "code",
   "execution_count": 151,
   "id": "0c2b5678",
   "metadata": {},
   "outputs": [
    {
     "name": "stdout",
     "output_type": "stream",
     "text": [
      "GridSearchCV(cv=9, estimator=ExtraTreesRegressor(),\n",
      "             param_grid={'criterion': ['mse', 'mae'],\n",
      "                         'min_samples_split': [2, 3],\n",
      "                         'n_estimators': [100, 200], 'n_jobs': [-1, 1],\n",
      "                         'random_state': [42, 135]})\n",
      "{'criterion': 'mse', 'min_samples_split': 3, 'n_estimators': 100, 'n_jobs': -1, 'random_state': 135}\n"
     ]
    }
   ],
   "source": [
    "GSCV = GridSearchCV(ExtraTreesRegressor(),param, cv=9)\n",
    "print(GSCV.fit(a_train,b_train))\n",
    "print(GSCV.best_params_)"
   ]
  },
  {
   "cell_type": "markdown",
   "id": "b03d0b20",
   "metadata": {},
   "source": [
    "# Obtaining the Best Parameters for Hyper parameters tuning"
   ]
  },
  {
   "cell_type": "markdown",
   "id": "c28de8db",
   "metadata": {},
   "source": [
    "ExtraTreesRegressor is our best model and difference between CV and R2 score is minimum for this perticuler model."
   ]
  },
  {
   "cell_type": "code",
   "execution_count": 94,
   "id": "f2842729",
   "metadata": {},
   "outputs": [
    {
     "name": "stdout",
     "output_type": "stream",
     "text": [
      "RMSE Score is: 0.656337024118006\n",
      "R2 Score is: 54.6208176721835\n",
      "Cross Validation Score: 54.83235911300521\n",
      "R2 Score - Cross Validation Score is -0.211541440821712\n"
     ]
    }
   ],
   "source": [
    "et= ExtraTreesRegressor(criterion='mse', min_samples_split= 3, n_estimators= 100, n_jobs= -1, random_state= 135)\n",
    "#n_estimatorsint, default=100 The number of trees in the forest.\n",
    "\n",
    "# Training the model\n",
    "et.fit(a_train, b_train)\n",
    "    \n",
    "# Predicting b_test\n",
    "pred_et= model.predict(a_test)\n",
    "    \n",
    "# RMSE - a lower RMSE score is better than a higher one\n",
    "rmse = mean_squared_error(b_test, pred_et, squared=False)\n",
    "print(\"RMSE Score is:\", rmse)\n",
    "    \n",
    "# R2 score\n",
    "r2 = r2_score(b_test, pred_et, multioutput='variance_weighted')*100\n",
    "print(\"R2 Score is:\", r2)\n",
    "    \n",
    " # Cross Validation Score\n",
    "cv_score = (cross_val_score(et, a, b, cv=9).mean())*100\n",
    "print(\"Cross Validation Score:\", cv_score)\n",
    "    \n",
    "# Result of r2 score minus cv score\n",
    "result = r2 - cv_score\n",
    "print(\"R2 Score - Cross Validation Score is\", result)"
   ]
  },
  {
   "cell_type": "markdown",
   "id": "f3e21f57",
   "metadata": {},
   "source": [
    "I have successfully incorporated the Hyper Parameter Tuning on my Final Regression Model and received the R2 score for it."
   ]
  },
  {
   "cell_type": "markdown",
   "id": "44aefbd1",
   "metadata": {},
   "source": [
    "# Saving ,Loading and Conclusion the best Classification ML model"
   ]
  },
  {
   "cell_type": "code",
   "execution_count": 95,
   "id": "9a00bb0c",
   "metadata": {},
   "outputs": [],
   "source": [
    "import pickle\n",
    "filename_1=\"capacity_mw.pkl\"\n",
    "pickle.dump(et,open(filename_1,\"wb\"))"
   ]
  },
  {
   "cell_type": "code",
   "execution_count": 96,
   "id": "a543ab3d",
   "metadata": {},
   "outputs": [
    {
     "name": "stdout",
     "output_type": "stream",
     "text": [
      "52.946300852091746\n"
     ]
    }
   ],
   "source": [
    "loaded_model=pickle.load(open(\"capacity_mw.pkl\",\"rb\"))\n",
    "result=loaded_model.score(a_test,b_test)\n",
    "print(result*100)"
   ]
  },
  {
   "cell_type": "code",
   "execution_count": 99,
   "id": "1eb62d7c",
   "metadata": {},
   "outputs": [],
   "source": [
    "conclusion=pd.DataFrame([loaded_model.predict(a_test)[:],pred_et[:]],index=[\"predicted\",\"original\"])"
   ]
  },
  {
   "cell_type": "code",
   "execution_count": 100,
   "id": "67acf7ce",
   "metadata": {},
   "outputs": [
    {
     "data": {
      "text/html": [
       "<div>\n",
       "<style scoped>\n",
       "    .dataframe tbody tr th:only-of-type {\n",
       "        vertical-align: middle;\n",
       "    }\n",
       "\n",
       "    .dataframe tbody tr th {\n",
       "        vertical-align: top;\n",
       "    }\n",
       "\n",
       "    .dataframe thead th {\n",
       "        text-align: right;\n",
       "    }\n",
       "</style>\n",
       "<table border=\"1\" class=\"dataframe\">\n",
       "  <thead>\n",
       "    <tr style=\"text-align: right;\">\n",
       "      <th></th>\n",
       "      <th>predicted</th>\n",
       "      <th>original</th>\n",
       "    </tr>\n",
       "  </thead>\n",
       "  <tbody>\n",
       "    <tr>\n",
       "      <th>0</th>\n",
       "      <td>0.844375</td>\n",
       "      <td>0.970493</td>\n",
       "    </tr>\n",
       "    <tr>\n",
       "      <th>1</th>\n",
       "      <td>0.468030</td>\n",
       "      <td>0.531302</td>\n",
       "    </tr>\n",
       "    <tr>\n",
       "      <th>2</th>\n",
       "      <td>-0.127463</td>\n",
       "      <td>0.108273</td>\n",
       "    </tr>\n",
       "    <tr>\n",
       "      <th>3</th>\n",
       "      <td>-0.912965</td>\n",
       "      <td>-0.993679</td>\n",
       "    </tr>\n",
       "    <tr>\n",
       "      <th>4</th>\n",
       "      <td>0.335599</td>\n",
       "      <td>0.389161</td>\n",
       "    </tr>\n",
       "    <tr>\n",
       "      <th>...</th>\n",
       "      <td>...</td>\n",
       "      <td>...</td>\n",
       "    </tr>\n",
       "    <tr>\n",
       "      <th>214</th>\n",
       "      <td>1.155862</td>\n",
       "      <td>1.120062</td>\n",
       "    </tr>\n",
       "    <tr>\n",
       "      <th>215</th>\n",
       "      <td>-0.530792</td>\n",
       "      <td>-0.473228</td>\n",
       "    </tr>\n",
       "    <tr>\n",
       "      <th>216</th>\n",
       "      <td>-0.688422</td>\n",
       "      <td>-0.970880</td>\n",
       "    </tr>\n",
       "    <tr>\n",
       "      <th>217</th>\n",
       "      <td>-0.321167</td>\n",
       "      <td>-0.343643</td>\n",
       "    </tr>\n",
       "    <tr>\n",
       "      <th>218</th>\n",
       "      <td>-0.084045</td>\n",
       "      <td>-0.171583</td>\n",
       "    </tr>\n",
       "  </tbody>\n",
       "</table>\n",
       "<p>219 rows × 2 columns</p>\n",
       "</div>"
      ],
      "text/plain": [
       "     predicted  original\n",
       "0     0.844375  0.970493\n",
       "1     0.468030  0.531302\n",
       "2    -0.127463  0.108273\n",
       "3    -0.912965 -0.993679\n",
       "4     0.335599  0.389161\n",
       "..         ...       ...\n",
       "214   1.155862  1.120062\n",
       "215  -0.530792 -0.473228\n",
       "216  -0.688422 -0.970880\n",
       "217  -0.321167 -0.343643\n",
       "218  -0.084045 -0.171583\n",
       "\n",
       "[219 rows x 2 columns]"
      ]
     },
     "execution_count": 100,
     "metadata": {},
     "output_type": "execute_result"
    }
   ],
   "source": [
    "conclusion.T"
   ]
  },
  {
   "cell_type": "code",
   "execution_count": null,
   "id": "b39dc840",
   "metadata": {},
   "outputs": [],
   "source": []
  }
 ],
 "metadata": {
  "kernelspec": {
   "display_name": "Python 3 (ipykernel)",
   "language": "python",
   "name": "python3"
  },
  "language_info": {
   "codemirror_mode": {
    "name": "ipython",
    "version": 3
   },
   "file_extension": ".py",
   "mimetype": "text/x-python",
   "name": "python",
   "nbconvert_exporter": "python",
   "pygments_lexer": "ipython3",
   "version": "3.9.7"
  }
 },
 "nbformat": 4,
 "nbformat_minor": 5
}
