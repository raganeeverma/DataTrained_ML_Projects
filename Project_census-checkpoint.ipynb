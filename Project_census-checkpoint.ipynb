{
 "cells": [
  {
   "cell_type": "markdown",
   "id": "986760c1",
   "metadata": {},
   "source": [
    "# Problem Statement\n",
    "\n",
    "\n",
    "This data was extracted from the 1994 Census bureau database by Ronny Kohavi and Barry Becker (Data Mining and Visualization, Silicon Graphics). The prediction task is to predict whether income exceeds $50k per year based on the provided. census data provided above. The Datasets consists of a list of records , each of which explains various features of a person along with his income per year."
   ]
  },
  {
   "cell_type": "markdown",
   "id": "b475fedb",
   "metadata": {},
   "source": [
    "# Description of fnlwgt (final weight)\n",
    "\n",
    "The weights on the Current Population Survey (CPS) files are controlled to independent estimates of the civilian non-institutional population of the US. These are prepared monthly for us by Population Division here at the Census Bureau. We use 3 sets of controls. These are:\n",
    "\n",
    "A single cell estimate of the population 16+ for each state.\n",
    "\n",
    "Controls for Hispanic Origin by age and sex.\n",
    "\n",
    "Controls by Race, age and sex.\n",
    "\n",
    "We use all three sets of controls in our weighting program and \"rake\" through them 6 times so that by the end we come back to all the controls we used. The term estimate refers to population totals derived from CPS by creating \"weighted tallies\" of any specified socio-economic characteristics of the population. People with similar demographic characteristics should have similar weights. There is one important caveat to remember about this statement. That is that since the CPS sample is actually a collection of 51 state samples, each with its own probability of selection, the statement only applies within state."
   ]
  },
  {
   "cell_type": "markdown",
   "id": "b300ceca",
   "metadata": {},
   "source": [
    "# Dataset Description\n",
    "\n",
    "\n",
    "age: continuous workclass: Private, Self-emp-not-inc, Self-emp-inc, Federal-gov, Local-gov, State-gov, Without-pay, Never-worked\n",
    "\n",
    "fnlwgt: continuous\n",
    "\n",
    "education: Bachelors, Some-college, 11th, HS-grad, Prof-school, Assoc-acdm, Assoc-voc, 9th, 7th-8th, 12th, Masters, 1st-4th, 10th, Doctorate, 5th-6th, Preschool\n",
    "\n",
    "education-num: continuous\n",
    "\n",
    "marital-status: Married-civ-spouse, Divorced, Never-married, Separated, Widowed, Married-spouse-absent, Married-AF-spouse\n",
    "\n",
    "occupation: Tech-support, Craft-repair, Other-service, Sales, Exec-managerial, Prof-specialty, Handlers-cleaners, Machine-\n",
    "\n",
    "op-inspct, Adm-clerical, Farming-fishing, Transport-moving, Priv-house-serv, Protective-serv, Armed-Forces\n",
    "\n",
    "relationship: Wife, Own-child, Husband, Not-in-family, Other-relative, Unmarried\n",
    "\n",
    "race: White, Asian-Pac-Islander, Amer-Indian-Eskimo, Other, Black\n",
    "\n",
    "sex: Female, Male\n",
    "\n",
    "capital-gain: continuous\n",
    "\n",
    "capital-loss: continuous hours-per-week: continuous native-country: United-States, Cambodia, England, Puerto-Rico, Canada\n",
    ", Germany, Outlying-US(Guam-USVI-etc), India, Japan, Greece, South, China, Cuba, Iran, Honduras, Philippines, Italy, Poland, Jamaica, Vietnam, Mexico, Portugal, Ireland, France, Dominican-Republic, Laos, Ecuador, Taiwan, Haiti, Columbia, Hungary, Guatemala, Nicaragua, Scotland, Thailand, Yugoslavia, El-Salvador, Trinadad&Tobago, Peru, Hong, Holand-Netherlands\n",
    "\n"
   ]
  },
  {
   "cell_type": "markdown",
   "id": "07f503a1",
   "metadata": {},
   "source": [
    "# Goal\n",
    "\n",
    "This project aims to predict whether a person earns more than 50k/year"
   ]
  },
  {
   "cell_type": "markdown",
   "id": "f8f8558b",
   "metadata": {},
   "source": [
    "# Importing All Requaired Libraries"
   ]
  },
  {
   "cell_type": "code",
   "execution_count": 1,
   "id": "471c4709",
   "metadata": {},
   "outputs": [],
   "source": [
    "#Importing required packages.\n",
    "\n",
    "import pandas as pd\n",
    "import numpy as np\n",
    "import scipy.stats as st\n",
    "\n",
    "#ploting libraries\n",
    "import matplotlib.pyplot as plt\n",
    "import seaborn as sns\n",
    "\n",
    "\n",
    "#feature engineering\n",
    "\n",
    "from sklearn.preprocessing import StandardScaler, LabelEncoder\n",
    "\n",
    "#train test split and cross validation\n",
    "from sklearn.model_selection import train_test_split, GridSearchCV, cross_val_score\n",
    "from scipy.stats import zscore\n",
    "\n",
    "#metrics\n",
    "from sklearn.metrics import confusion_matrix, classification_report,accuracy_score\n",
    "from sklearn.metrics import r2_score,mean_squared_error\n",
    "\n",
    "#ML models for classification\n",
    "import sklearn\n",
    "from sklearn.svm import SVC\n",
    "from sklearn.neighbors import KNeighborsClassifier\n",
    "from sklearn.tree import DecisionTreeClassifier\n",
    "from sklearn.ensemble import RandomForestClassifier\n",
    "\n",
    "%matplotlib inline\n",
    "import warnings\n",
    "warnings.filterwarnings('ignore')"
   ]
  },
  {
   "cell_type": "code",
   "execution_count": 2,
   "id": "46d8c15b",
   "metadata": {},
   "outputs": [
    {
     "data": {
      "text/plain": [
       "(32560, 15)"
      ]
     },
     "execution_count": 2,
     "metadata": {},
     "output_type": "execute_result"
    }
   ],
   "source": [
    "#loading data sets\n",
    "df = pd.read_csv('census.csv')\n",
    "\n",
    "# No. of rows and columns \n",
    "df.shape"
   ]
  },
  {
   "cell_type": "code",
   "execution_count": 3,
   "id": "027ef9bf",
   "metadata": {},
   "outputs": [
    {
     "data": {
      "text/html": [
       "<div>\n",
       "<style scoped>\n",
       "    .dataframe tbody tr th:only-of-type {\n",
       "        vertical-align: middle;\n",
       "    }\n",
       "\n",
       "    .dataframe tbody tr th {\n",
       "        vertical-align: top;\n",
       "    }\n",
       "\n",
       "    .dataframe thead th {\n",
       "        text-align: right;\n",
       "    }\n",
       "</style>\n",
       "<table border=\"1\" class=\"dataframe\">\n",
       "  <thead>\n",
       "    <tr style=\"text-align: right;\">\n",
       "      <th></th>\n",
       "      <th>Age</th>\n",
       "      <th>Workclass</th>\n",
       "      <th>Fnlwgt</th>\n",
       "      <th>Education</th>\n",
       "      <th>Education_num</th>\n",
       "      <th>Marital_status</th>\n",
       "      <th>Occupation</th>\n",
       "      <th>Relationship</th>\n",
       "      <th>Race</th>\n",
       "      <th>Sex</th>\n",
       "      <th>Capital_gain</th>\n",
       "      <th>Capital_loss</th>\n",
       "      <th>Hours_per_week</th>\n",
       "      <th>Native_country</th>\n",
       "      <th>Income</th>\n",
       "    </tr>\n",
       "  </thead>\n",
       "  <tbody>\n",
       "    <tr>\n",
       "      <th>0</th>\n",
       "      <td>50</td>\n",
       "      <td>Self-emp-not-inc</td>\n",
       "      <td>83311</td>\n",
       "      <td>Bachelors</td>\n",
       "      <td>13</td>\n",
       "      <td>Married-civ-spouse</td>\n",
       "      <td>Exec-managerial</td>\n",
       "      <td>Husband</td>\n",
       "      <td>White</td>\n",
       "      <td>Male</td>\n",
       "      <td>0</td>\n",
       "      <td>0</td>\n",
       "      <td>13</td>\n",
       "      <td>United-States</td>\n",
       "      <td>&lt;=50K</td>\n",
       "    </tr>\n",
       "    <tr>\n",
       "      <th>1</th>\n",
       "      <td>38</td>\n",
       "      <td>Private</td>\n",
       "      <td>215646</td>\n",
       "      <td>HS-grad</td>\n",
       "      <td>9</td>\n",
       "      <td>Divorced</td>\n",
       "      <td>Handlers-cleaners</td>\n",
       "      <td>Not-in-family</td>\n",
       "      <td>White</td>\n",
       "      <td>Male</td>\n",
       "      <td>0</td>\n",
       "      <td>0</td>\n",
       "      <td>40</td>\n",
       "      <td>United-States</td>\n",
       "      <td>&lt;=50K</td>\n",
       "    </tr>\n",
       "    <tr>\n",
       "      <th>2</th>\n",
       "      <td>53</td>\n",
       "      <td>Private</td>\n",
       "      <td>234721</td>\n",
       "      <td>11th</td>\n",
       "      <td>7</td>\n",
       "      <td>Married-civ-spouse</td>\n",
       "      <td>Handlers-cleaners</td>\n",
       "      <td>Husband</td>\n",
       "      <td>Black</td>\n",
       "      <td>Male</td>\n",
       "      <td>0</td>\n",
       "      <td>0</td>\n",
       "      <td>40</td>\n",
       "      <td>United-States</td>\n",
       "      <td>&lt;=50K</td>\n",
       "    </tr>\n",
       "    <tr>\n",
       "      <th>3</th>\n",
       "      <td>28</td>\n",
       "      <td>Private</td>\n",
       "      <td>338409</td>\n",
       "      <td>Bachelors</td>\n",
       "      <td>13</td>\n",
       "      <td>Married-civ-spouse</td>\n",
       "      <td>Prof-specialty</td>\n",
       "      <td>Wife</td>\n",
       "      <td>Black</td>\n",
       "      <td>Female</td>\n",
       "      <td>0</td>\n",
       "      <td>0</td>\n",
       "      <td>40</td>\n",
       "      <td>Cuba</td>\n",
       "      <td>&lt;=50K</td>\n",
       "    </tr>\n",
       "    <tr>\n",
       "      <th>4</th>\n",
       "      <td>37</td>\n",
       "      <td>Private</td>\n",
       "      <td>284582</td>\n",
       "      <td>Masters</td>\n",
       "      <td>14</td>\n",
       "      <td>Married-civ-spouse</td>\n",
       "      <td>Exec-managerial</td>\n",
       "      <td>Wife</td>\n",
       "      <td>White</td>\n",
       "      <td>Female</td>\n",
       "      <td>0</td>\n",
       "      <td>0</td>\n",
       "      <td>40</td>\n",
       "      <td>United-States</td>\n",
       "      <td>&lt;=50K</td>\n",
       "    </tr>\n",
       "  </tbody>\n",
       "</table>\n",
       "</div>"
      ],
      "text/plain": [
       "   Age          Workclass  Fnlwgt   Education  Education_num  \\\n",
       "0   50   Self-emp-not-inc   83311   Bachelors             13   \n",
       "1   38            Private  215646     HS-grad              9   \n",
       "2   53            Private  234721        11th              7   \n",
       "3   28            Private  338409   Bachelors             13   \n",
       "4   37            Private  284582     Masters             14   \n",
       "\n",
       "        Marital_status          Occupation    Relationship    Race      Sex  \\\n",
       "0   Married-civ-spouse     Exec-managerial         Husband   White     Male   \n",
       "1             Divorced   Handlers-cleaners   Not-in-family   White     Male   \n",
       "2   Married-civ-spouse   Handlers-cleaners         Husband   Black     Male   \n",
       "3   Married-civ-spouse      Prof-specialty            Wife   Black   Female   \n",
       "4   Married-civ-spouse     Exec-managerial            Wife   White   Female   \n",
       "\n",
       "   Capital_gain  Capital_loss  Hours_per_week  Native_country  Income  \n",
       "0             0             0              13   United-States   <=50K  \n",
       "1             0             0              40   United-States   <=50K  \n",
       "2             0             0              40   United-States   <=50K  \n",
       "3             0             0              40            Cuba   <=50K  \n",
       "4             0             0              40   United-States   <=50K  "
      ]
     },
     "execution_count": 3,
     "metadata": {},
     "output_type": "execute_result"
    }
   ],
   "source": [
    "df.head() #top 5 rows "
   ]
  },
  {
   "cell_type": "code",
   "execution_count": 4,
   "id": "8e805de9",
   "metadata": {},
   "outputs": [
    {
     "data": {
      "text/plain": [
       "Index(['Age', 'Workclass', 'Fnlwgt', 'Education', 'Education_num',\n",
       "       'Marital_status', 'Occupation', 'Relationship', 'Race', 'Sex',\n",
       "       'Capital_gain', 'Capital_loss', 'Hours_per_week', 'Native_country',\n",
       "       'Income'],\n",
       "      dtype='object')"
      ]
     },
     "execution_count": 4,
     "metadata": {},
     "output_type": "execute_result"
    }
   ],
   "source": [
    "# column names\n",
    "df.columns"
   ]
  },
  {
   "cell_type": "code",
   "execution_count": 5,
   "id": "53ace6a2",
   "metadata": {},
   "outputs": [
    {
     "name": "stdout",
     "output_type": "stream",
     "text": [
      "<class 'pandas.core.frame.DataFrame'>\n",
      "RangeIndex: 32560 entries, 0 to 32559\n",
      "Data columns (total 15 columns):\n",
      " #   Column          Non-Null Count  Dtype \n",
      "---  ------          --------------  ----- \n",
      " 0   Age             32560 non-null  int64 \n",
      " 1   Workclass       32560 non-null  object\n",
      " 2   Fnlwgt          32560 non-null  int64 \n",
      " 3   Education       32560 non-null  object\n",
      " 4   Education_num   32560 non-null  int64 \n",
      " 5   Marital_status  32560 non-null  object\n",
      " 6   Occupation      32560 non-null  object\n",
      " 7   Relationship    32560 non-null  object\n",
      " 8   Race            32560 non-null  object\n",
      " 9   Sex             32560 non-null  object\n",
      " 10  Capital_gain    32560 non-null  int64 \n",
      " 11  Capital_loss    32560 non-null  int64 \n",
      " 12  Hours_per_week  32560 non-null  int64 \n",
      " 13  Native_country  32560 non-null  object\n",
      " 14  Income          32560 non-null  object\n",
      "dtypes: int64(6), object(9)\n",
      "memory usage: 3.7+ MB\n"
     ]
    }
   ],
   "source": [
    "# check datatypes and memory captured\n",
    "df.info()"
   ]
  },
  {
   "cell_type": "markdown",
   "id": "8d0310a4",
   "metadata": {},
   "source": [
    "\n",
    "It looks very clear that i don't have any empty observations in my dataset.And also i can have a look into data types of each column.\n",
    "\n",
    "Both type categorical and continues variable is present\n",
    "\n",
    "No of categorical columns-9\n",
    "\n",
    "No of numerical columns-6"
   ]
  },
  {
   "cell_type": "markdown",
   "id": "47249e6f",
   "metadata": {},
   "source": [
    "# Segregate the Numerical and Categorical variables"
   ]
  },
  {
   "cell_type": "code",
   "execution_count": 6,
   "id": "94a983cb",
   "metadata": {},
   "outputs": [
    {
     "data": {
      "text/plain": [
       "Index(['Workclass', 'Education', 'Marital_status', 'Occupation',\n",
       "       'Relationship', 'Race', 'Sex', 'Native_country', 'Income'],\n",
       "      dtype='object')"
      ]
     },
     "execution_count": 6,
     "metadata": {},
     "output_type": "execute_result"
    }
   ],
   "source": [
    "categorical = [feature for feature in df.columns if df[feature].dtypes=='object']\n",
    "df[categorical].columns"
   ]
  },
  {
   "cell_type": "code",
   "execution_count": 7,
   "id": "41ffed4c",
   "metadata": {},
   "outputs": [
    {
     "data": {
      "text/plain": [
       "Index(['Age', 'Fnlwgt', 'Education_num', 'Capital_gain', 'Capital_loss',\n",
       "       'Hours_per_week'],\n",
       "      dtype='object')"
      ]
     },
     "execution_count": 7,
     "metadata": {},
     "output_type": "execute_result"
    }
   ],
   "source": [
    "Numerical = [feature for feature in df.columns if df[feature].dtypes!='object']\n",
    "df[Numerical].columns"
   ]
  },
  {
   "cell_type": "markdown",
   "id": "814475f0",
   "metadata": {},
   "source": [
    "# Check unique values present in each Column"
   ]
  },
  {
   "cell_type": "code",
   "execution_count": 8,
   "id": "1382f7eb",
   "metadata": {},
   "outputs": [
    {
     "data": {
      "text/html": [
       "<div>\n",
       "<style scoped>\n",
       "    .dataframe tbody tr th:only-of-type {\n",
       "        vertical-align: middle;\n",
       "    }\n",
       "\n",
       "    .dataframe tbody tr th {\n",
       "        vertical-align: top;\n",
       "    }\n",
       "\n",
       "    .dataframe thead th {\n",
       "        text-align: right;\n",
       "    }\n",
       "</style>\n",
       "<table border=\"1\" class=\"dataframe\">\n",
       "  <thead>\n",
       "    <tr style=\"text-align: right;\">\n",
       "      <th></th>\n",
       "      <th>Unique Values</th>\n",
       "    </tr>\n",
       "  </thead>\n",
       "  <tbody>\n",
       "    <tr>\n",
       "      <th>Age</th>\n",
       "      <td>73</td>\n",
       "    </tr>\n",
       "    <tr>\n",
       "      <th>Workclass</th>\n",
       "      <td>9</td>\n",
       "    </tr>\n",
       "    <tr>\n",
       "      <th>Fnlwgt</th>\n",
       "      <td>21647</td>\n",
       "    </tr>\n",
       "    <tr>\n",
       "      <th>Education</th>\n",
       "      <td>16</td>\n",
       "    </tr>\n",
       "    <tr>\n",
       "      <th>Education_num</th>\n",
       "      <td>16</td>\n",
       "    </tr>\n",
       "    <tr>\n",
       "      <th>Marital_status</th>\n",
       "      <td>7</td>\n",
       "    </tr>\n",
       "    <tr>\n",
       "      <th>Occupation</th>\n",
       "      <td>15</td>\n",
       "    </tr>\n",
       "    <tr>\n",
       "      <th>Relationship</th>\n",
       "      <td>6</td>\n",
       "    </tr>\n",
       "    <tr>\n",
       "      <th>Race</th>\n",
       "      <td>5</td>\n",
       "    </tr>\n",
       "    <tr>\n",
       "      <th>Sex</th>\n",
       "      <td>2</td>\n",
       "    </tr>\n",
       "    <tr>\n",
       "      <th>Capital_gain</th>\n",
       "      <td>119</td>\n",
       "    </tr>\n",
       "    <tr>\n",
       "      <th>Capital_loss</th>\n",
       "      <td>92</td>\n",
       "    </tr>\n",
       "    <tr>\n",
       "      <th>Hours_per_week</th>\n",
       "      <td>94</td>\n",
       "    </tr>\n",
       "    <tr>\n",
       "      <th>Native_country</th>\n",
       "      <td>42</td>\n",
       "    </tr>\n",
       "    <tr>\n",
       "      <th>Income</th>\n",
       "      <td>2</td>\n",
       "    </tr>\n",
       "  </tbody>\n",
       "</table>\n",
       "</div>"
      ],
      "text/plain": [
       "                Unique Values\n",
       "Age                        73\n",
       "Workclass                   9\n",
       "Fnlwgt                  21647\n",
       "Education                  16\n",
       "Education_num              16\n",
       "Marital_status              7\n",
       "Occupation                 15\n",
       "Relationship                6\n",
       "Race                        5\n",
       "Sex                         2\n",
       "Capital_gain              119\n",
       "Capital_loss               92\n",
       "Hours_per_week             94\n",
       "Native_country             42\n",
       "Income                      2"
      ]
     },
     "execution_count": 8,
     "metadata": {},
     "output_type": "execute_result"
    }
   ],
   "source": [
    "df.nunique().to_frame(\"Unique Values\")"
   ]
  },
  {
   "cell_type": "code",
   "execution_count": 9,
   "id": "cd183209",
   "metadata": {},
   "outputs": [
    {
     "data": {
      "text/plain": [
       "Age               0\n",
       "Workclass         0\n",
       "Fnlwgt            0\n",
       "Education         0\n",
       "Education_num     0\n",
       "Marital_status    0\n",
       "Occupation        0\n",
       "Relationship      0\n",
       "Race              0\n",
       "Sex               0\n",
       "Capital_gain      0\n",
       "Capital_loss      0\n",
       "Hours_per_week    0\n",
       "Native_country    0\n",
       "Income            0\n",
       "dtype: int64"
      ]
     },
     "execution_count": 9,
     "metadata": {},
     "output_type": "execute_result"
    }
   ],
   "source": [
    "# check for null values\n",
    "df.isnull().sum()"
   ]
  },
  {
   "cell_type": "code",
   "execution_count": 10,
   "id": "eda6f9ee",
   "metadata": {},
   "outputs": [
    {
     "data": {
      "text/plain": [
       "<AxesSubplot:>"
      ]
     },
     "execution_count": 10,
     "metadata": {},
     "output_type": "execute_result"
    },
    {
     "data": {
      "image/png": "[encoded data removed]",
      "text/plain": [
       "<Figure size 432x288 with 2 Axes>"
      ]
     },
     "metadata": {
      "needs_background": "light"
     },
     "output_type": "display_data"
    }
   ],
   "source": [
    "sns.heatmap(df.isnull())##check missing value through visualization"
   ]
  },
  {
   "cell_type": "markdown",
   "id": "bab40033",
   "metadata": {},
   "source": [
    "There are no null or missing values in data set"
   ]
  },
  {
   "cell_type": "markdown",
   "id": "a61e2351",
   "metadata": {},
   "source": [
    "# Duplicate"
   ]
  },
  {
   "cell_type": "code",
   "execution_count": 11,
   "id": "c0b001a0",
   "metadata": {},
   "outputs": [],
   "source": [
    "# if duplicate value present drop this row\n",
    "df=df.drop_duplicates()"
   ]
  },
  {
   "cell_type": "code",
   "execution_count": 12,
   "id": "fcc9c5ae",
   "metadata": {},
   "outputs": [
    {
     "name": "stdout",
     "output_type": "stream",
     "text": [
      "droped duplicate rows = 24\n"
     ]
    }
   ],
   "source": [
    "print(\"droped duplicate rows =\" ,32560-32536)"
   ]
  },
  {
   "cell_type": "code",
   "execution_count": 13,
   "id": "f932d3a7",
   "metadata": {},
   "outputs": [
    {
     "data": {
      "text/plain": [
       "(32536, 15)"
      ]
     },
     "execution_count": 13,
     "metadata": {},
     "output_type": "execute_result"
    }
   ],
   "source": [
    "df.shape"
   ]
  },
  {
   "cell_type": "markdown",
   "id": "c9fc0a37",
   "metadata": {},
   "source": [
    "Now we have 32536 rows and 15 columns."
   ]
  },
  {
   "cell_type": "code",
   "execution_count": 14,
   "id": "4348683b",
   "metadata": {},
   "outputs": [
    {
     "data": {
      "text/plain": [
       "array([' <=50K', ' >50K'], dtype=object)"
      ]
     },
     "execution_count": 14,
     "metadata": {},
     "output_type": "execute_result"
    }
   ],
   "source": [
    "#Checking unique values of target column\n",
    "df['Income'].unique()"
   ]
  },
  {
   "cell_type": "markdown",
   "id": "cf8d722d",
   "metadata": {},
   "source": [
    "We observe that only two unique counts in the target column so it's a binary classification problem."
   ]
  },
  {
   "cell_type": "code",
   "execution_count": 15,
   "id": "1c9d8bee",
   "metadata": {},
   "outputs": [
    {
     "data": {
      "text/html": [
       "<div>\n",
       "<style scoped>\n",
       "    .dataframe tbody tr th:only-of-type {\n",
       "        vertical-align: middle;\n",
       "    }\n",
       "\n",
       "    .dataframe tbody tr th {\n",
       "        vertical-align: top;\n",
       "    }\n",
       "\n",
       "    .dataframe thead th {\n",
       "        text-align: right;\n",
       "    }\n",
       "</style>\n",
       "<table border=\"1\" class=\"dataframe\">\n",
       "  <thead>\n",
       "    <tr style=\"text-align: right;\">\n",
       "      <th></th>\n",
       "      <th>Age</th>\n",
       "      <th>Workclass</th>\n",
       "      <th>Fnlwgt</th>\n",
       "      <th>Education</th>\n",
       "      <th>Education_num</th>\n",
       "      <th>Marital_status</th>\n",
       "      <th>Occupation</th>\n",
       "      <th>Relationship</th>\n",
       "      <th>Race</th>\n",
       "      <th>Sex</th>\n",
       "      <th>Capital_gain</th>\n",
       "      <th>Capital_loss</th>\n",
       "      <th>Hours_per_week</th>\n",
       "      <th>Native_country</th>\n",
       "      <th>Income</th>\n",
       "    </tr>\n",
       "  </thead>\n",
       "  <tbody>\n",
       "  </tbody>\n",
       "</table>\n",
       "</div>"
      ],
      "text/plain": [
       "Empty DataFrame\n",
       "Columns: [Age, Workclass, Fnlwgt, Education, Education_num, Marital_status, Occupation, Relationship, Race, Sex, Capital_gain, Capital_loss, Hours_per_week, Native_country, Income]\n",
       "Index: []"
      ]
     },
     "execution_count": 15,
     "metadata": {},
     "output_type": "execute_result"
    }
   ],
   "source": [
    "#Checking for empty observations in our target columns\n",
    "df.loc[df['Income'] == \" \"]"
   ]
  },
  {
   "cell_type": "markdown",
   "id": "4834eada",
   "metadata": {},
   "source": [
    "There is no empty observations in my dataset."
   ]
  },
  {
   "cell_type": "code",
   "execution_count": 16,
   "id": "82cf9570",
   "metadata": {},
   "outputs": [
    {
     "name": "stdout",
     "output_type": "stream",
     "text": [
      "Age\n",
      "36    898\n",
      "31    888\n",
      "34    886\n",
      "23    876\n",
      "33    875\n",
      "     ... \n",
      "83      6\n",
      "88      3\n",
      "85      3\n",
      "86      1\n",
      "87      1\n",
      "Name: Age, Length: 73, dtype: int64\n",
      "-------------------------------------------------------------------------------------------\n",
      "Workclass\n",
      " Private             22673\n",
      " Self-emp-not-inc     2540\n",
      " Local-gov            2093\n",
      " ?                    1836\n",
      " State-gov            1297\n",
      " Self-emp-inc         1116\n",
      " Federal-gov           960\n",
      " Without-pay            14\n",
      " Never-worked            7\n",
      "Name: Workclass, dtype: int64\n",
      "-------------------------------------------------------------------------------------------\n",
      "Fnlwgt\n",
      "123011    13\n",
      "164190    13\n",
      "203488    13\n",
      "121124    12\n",
      "126675    12\n",
      "          ..\n",
      "158040     1\n",
      "232784     1\n",
      "325573     1\n",
      "140176     1\n",
      "257302     1\n",
      "Name: Fnlwgt, Length: 21647, dtype: int64\n",
      "-------------------------------------------------------------------------------------------\n",
      "Education\n",
      " HS-grad         10494\n",
      " Some-college     7282\n",
      " Bachelors        5352\n",
      " Masters          1722\n",
      " Assoc-voc        1382\n",
      " 11th             1175\n",
      " Assoc-acdm       1067\n",
      " 10th              933\n",
      " 7th-8th           645\n",
      " Prof-school       576\n",
      " 9th               514\n",
      " 12th              433\n",
      " Doctorate         413\n",
      " 5th-6th           332\n",
      " 1st-4th           166\n",
      " Preschool          50\n",
      "Name: Education, dtype: int64\n",
      "-------------------------------------------------------------------------------------------\n",
      "Education_num\n",
      "9     10494\n",
      "10     7282\n",
      "13     5352\n",
      "14     1722\n",
      "11     1382\n",
      "7      1175\n",
      "12     1067\n",
      "6       933\n",
      "4       645\n",
      "15      576\n",
      "5       514\n",
      "8       433\n",
      "16      413\n",
      "3       332\n",
      "2       166\n",
      "1        50\n",
      "Name: Education_num, dtype: int64\n",
      "-------------------------------------------------------------------------------------------\n",
      "Marital_status\n",
      " Married-civ-spouse       14970\n",
      " Never-married            10666\n",
      " Divorced                  4441\n",
      " Separated                 1025\n",
      " Widowed                    993\n",
      " Married-spouse-absent      418\n",
      " Married-AF-spouse           23\n",
      "Name: Marital_status, dtype: int64\n",
      "-------------------------------------------------------------------------------------------\n",
      "Occupation\n",
      " Prof-specialty       4136\n",
      " Craft-repair         4094\n",
      " Exec-managerial      4065\n",
      " Adm-clerical         3767\n",
      " Sales                3650\n",
      " Other-service        3291\n",
      " Machine-op-inspct    2000\n",
      " ?                    1843\n",
      " Transport-moving     1597\n",
      " Handlers-cleaners    1369\n",
      " Farming-fishing       992\n",
      " Tech-support          927\n",
      " Protective-serv       649\n",
      " Priv-house-serv       147\n",
      " Armed-Forces            9\n",
      "Name: Occupation, dtype: int64\n",
      "-------------------------------------------------------------------------------------------\n",
      "Relationship\n",
      " Husband           13187\n",
      " Not-in-family      8291\n",
      " Own-child          5064\n",
      " Unmarried          3445\n",
      " Wife               1568\n",
      " Other-relative      981\n",
      "Name: Relationship, dtype: int64\n",
      "-------------------------------------------------------------------------------------------\n",
      "Race\n",
      " White                 27794\n",
      " Black                  3122\n",
      " Asian-Pac-Islander     1038\n",
      " Amer-Indian-Eskimo      311\n",
      " Other                   271\n",
      "Name: Race, dtype: int64\n",
      "-------------------------------------------------------------------------------------------\n",
      "Sex\n",
      " Male      21774\n",
      " Female    10762\n",
      "Name: Sex, dtype: int64\n",
      "-------------------------------------------------------------------------------------------\n",
      "Capital_gain\n",
      "0        29825\n",
      "15024      347\n",
      "7688       284\n",
      "7298       246\n",
      "99999      159\n",
      "         ...  \n",
      "1111         1\n",
      "2538         1\n",
      "22040        1\n",
      "4931         1\n",
      "5060         1\n",
      "Name: Capital_gain, Length: 119, dtype: int64\n",
      "-------------------------------------------------------------------------------------------\n",
      "Capital_loss\n",
      "0       31017\n",
      "1902      202\n",
      "1977      168\n",
      "1887      159\n",
      "1848       51\n",
      "        ...  \n",
      "2080        1\n",
      "1539        1\n",
      "1844        1\n",
      "2489        1\n",
      "1411        1\n",
      "Name: Capital_loss, Length: 92, dtype: int64\n",
      "-------------------------------------------------------------------------------------------\n",
      "Hours_per_week\n",
      "40    15203\n",
      "50     2817\n",
      "45     1823\n",
      "60     1475\n",
      "35     1296\n",
      "      ...  \n",
      "82        1\n",
      "94        1\n",
      "92        1\n",
      "74        1\n",
      "87        1\n",
      "Name: Hours_per_week, Length: 94, dtype: int64\n",
      "-------------------------------------------------------------------------------------------\n",
      "Native_country\n",
      " United-States                 29152\n",
      " Mexico                          639\n",
      " ?                               582\n",
      " Philippines                     198\n",
      " Germany                         137\n",
      " Canada                          121\n",
      " Puerto-Rico                     114\n",
      " El-Salvador                     106\n",
      " India                           100\n",
      " Cuba                             95\n",
      " England                          90\n",
      " Jamaica                          81\n",
      " South                            80\n",
      " China                            75\n",
      " Italy                            73\n",
      " Dominican-Republic               70\n",
      " Vietnam                          67\n",
      " Japan                            62\n",
      " Guatemala                        62\n",
      " Poland                           60\n",
      " Columbia                         59\n",
      " Taiwan                           51\n",
      " Haiti                            44\n",
      " Iran                             43\n",
      " Portugal                         37\n",
      " Nicaragua                        34\n",
      " Peru                             31\n",
      " France                           29\n",
      " Greece                           29\n",
      " Ecuador                          28\n",
      " Ireland                          24\n",
      " Hong                             20\n",
      " Cambodia                         19\n",
      " Trinadad&Tobago                  19\n",
      " Laos                             18\n",
      " Thailand                         18\n",
      " Yugoslavia                       16\n",
      " Outlying-US(Guam-USVI-etc)       14\n",
      " Honduras                         13\n",
      " Hungary                          13\n",
      " Scotland                         12\n",
      " Holand-Netherlands                1\n",
      "Name: Native_country, dtype: int64\n",
      "-------------------------------------------------------------------------------------------\n",
      "Income\n",
      " <=50K    24697\n",
      " >50K      7839\n",
      "Name: Income, dtype: int64\n",
      "-------------------------------------------------------------------------------------------\n"
     ]
    }
   ],
   "source": [
    "#Lets check the value count of each column to see if there are any unexpected and unwanted entries present in the column.\n",
    "for i in df.columns:\n",
    "        print(i)\n",
    "        print(df[i].value_counts())\n",
    "        print('-------------------------------------------------------------------------------------------')"
   ]
  },
  {
   "cell_type": "markdown",
   "id": "eaaee92d",
   "metadata": {},
   "source": [
    "Observation:\n",
    "\n",
    "1.The most of the columns of capital.gain and capital.loss values contains zero values, so these columns can be dropped.\n",
    "\n",
    "2.The no of records having income less than 50k dollars is more than the no of records having income more than 50k dollars income. The dataset needs to be balanced with the target values so that the models do not overfit the data.\n",
    "\n",
    "3.Hours.per.week has a value of 40 in most of the records, so this field can be dropped.\n",
    "\n",
    "4.I observed that there are some '?' entries in Workclass, Occupation and Native_country column.So i have replace this '?' with the mode of the above columns.Since they are categorical columns."
   ]
  },
  {
   "cell_type": "code",
   "execution_count": 17,
   "id": "6cabdecb",
   "metadata": {},
   "outputs": [],
   "source": [
    "df.drop(['Capital_gain','Capital_loss','Hours_per_week'],axis=1,inplace=True)"
   ]
  },
  {
   "cell_type": "code",
   "execution_count": 18,
   "id": "2ab4b553",
   "metadata": {},
   "outputs": [
    {
     "data": {
      "text/plain": [
       "(32536, 12)"
      ]
     },
     "execution_count": 18,
     "metadata": {},
     "output_type": "execute_result"
    }
   ],
   "source": [
    "df.shape"
   ]
  },
  {
   "cell_type": "markdown",
   "id": "ca044752",
   "metadata": {},
   "source": [
    "# Replace ? by mode"
   ]
  },
  {
   "cell_type": "code",
   "execution_count": 19,
   "id": "96ebbbad",
   "metadata": {},
   "outputs": [
    {
     "name": "stdout",
     "output_type": "stream",
     "text": [
      "mode of Workclass 0     Private\n",
      "dtype: object\n",
      "mode of Occupation 0     Prof-specialty\n",
      "dtype: object\n",
      "mode of Native_country 0     United-States\n",
      "dtype: object\n"
     ]
    }
   ],
   "source": [
    "# check the mode of Workclass ,Occupation and Native_country\n",
    "\n",
    "print(\"mode of Workclass\",df[\"Workclass\"].mode())\n",
    "print(\"mode of Occupation\",df[\"Occupation\"].mode())\n",
    "print(\"mode of Native_country\",df[\"Native_country\"].mode())"
   ]
  },
  {
   "cell_type": "code",
   "execution_count": 20,
   "id": "9dc686d9",
   "metadata": {},
   "outputs": [],
   "source": [
    "# we will fill the '?' values with this mode value\n",
    "\n",
    "df['Workclass'] = df.Workclass.str.replace('?', 'Private')\n",
    "df['Occupation'] = df.Occupation.str.replace('?', 'Prof-specialty')\n",
    "df['Native_country'] = df.Native_country.str.replace('?', 'United-States')\n"
   ]
  },
  {
   "cell_type": "markdown",
   "id": "c44cba7c",
   "metadata": {},
   "source": [
    "Now We replaced all '?' with there respective mode values."
   ]
  },
  {
   "cell_type": "code",
   "execution_count": 21,
   "id": "319fe7f5",
   "metadata": {},
   "outputs": [
    {
     "data": {
      "text/html": [
       "<div>\n",
       "<style scoped>\n",
       "    .dataframe tbody tr th:only-of-type {\n",
       "        vertical-align: middle;\n",
       "    }\n",
       "\n",
       "    .dataframe tbody tr th {\n",
       "        vertical-align: top;\n",
       "    }\n",
       "\n",
       "    .dataframe thead th {\n",
       "        text-align: right;\n",
       "    }\n",
       "</style>\n",
       "<table border=\"1\" class=\"dataframe\">\n",
       "  <thead>\n",
       "    <tr style=\"text-align: right;\">\n",
       "      <th></th>\n",
       "      <th>Age</th>\n",
       "      <th>Fnlwgt</th>\n",
       "      <th>Education_num</th>\n",
       "    </tr>\n",
       "  </thead>\n",
       "  <tbody>\n",
       "    <tr>\n",
       "      <th>count</th>\n",
       "      <td>32536.000000</td>\n",
       "      <td>3.253600e+04</td>\n",
       "      <td>32536.000000</td>\n",
       "    </tr>\n",
       "    <tr>\n",
       "      <th>mean</th>\n",
       "      <td>38.585536</td>\n",
       "      <td>1.897843e+05</td>\n",
       "      <td>10.081725</td>\n",
       "    </tr>\n",
       "    <tr>\n",
       "      <th>std</th>\n",
       "      <td>13.638193</td>\n",
       "      <td>1.055563e+05</td>\n",
       "      <td>2.571622</td>\n",
       "    </tr>\n",
       "    <tr>\n",
       "      <th>min</th>\n",
       "      <td>17.000000</td>\n",
       "      <td>1.228500e+04</td>\n",
       "      <td>1.000000</td>\n",
       "    </tr>\n",
       "    <tr>\n",
       "      <th>25%</th>\n",
       "      <td>28.000000</td>\n",
       "      <td>1.178315e+05</td>\n",
       "      <td>9.000000</td>\n",
       "    </tr>\n",
       "    <tr>\n",
       "      <th>50%</th>\n",
       "      <td>37.000000</td>\n",
       "      <td>1.783560e+05</td>\n",
       "      <td>10.000000</td>\n",
       "    </tr>\n",
       "    <tr>\n",
       "      <th>75%</th>\n",
       "      <td>48.000000</td>\n",
       "      <td>2.369932e+05</td>\n",
       "      <td>12.000000</td>\n",
       "    </tr>\n",
       "    <tr>\n",
       "      <th>max</th>\n",
       "      <td>90.000000</td>\n",
       "      <td>1.484705e+06</td>\n",
       "      <td>16.000000</td>\n",
       "    </tr>\n",
       "  </tbody>\n",
       "</table>\n",
       "</div>"
      ],
      "text/plain": [
       "                Age        Fnlwgt  Education_num\n",
       "count  32536.000000  3.253600e+04   32536.000000\n",
       "mean      38.585536  1.897843e+05      10.081725\n",
       "std       13.638193  1.055563e+05       2.571622\n",
       "min       17.000000  1.228500e+04       1.000000\n",
       "25%       28.000000  1.178315e+05       9.000000\n",
       "50%       37.000000  1.783560e+05      10.000000\n",
       "75%       48.000000  2.369932e+05      12.000000\n",
       "max       90.000000  1.484705e+06      16.000000"
      ]
     },
     "execution_count": 21,
     "metadata": {},
     "output_type": "execute_result"
    }
   ],
   "source": [
    "#Checking description of data set\n",
    "df.describe()"
   ]
  },
  {
   "cell_type": "markdown",
   "id": "729d4240",
   "metadata": {},
   "source": [
    "Describe method will be summary only for numerical columns by default.This will help us to do analysis on outliers/skewness and checking whether null values present in dataset or not by looking into count."
   ]
  },
  {
   "cell_type": "markdown",
   "id": "a8d77dbc",
   "metadata": {},
   "source": [
    "# Univariate Visualization:"
   ]
  },
  {
   "cell_type": "markdown",
   "id": "e0ae3398",
   "metadata": {},
   "source": [
    "# Distribution Plot"
   ]
  },
  {
   "cell_type": "code",
   "execution_count": 22,
   "id": "b348160f",
   "metadata": {},
   "outputs": [
    {
     "data": {
      "image/png": "[encoded data removed]",
      "text/plain": [
       "<Figure size 576x288 with 1 Axes>"
      ]
     },
     "metadata": {
      "needs_background": "light"
     },
     "output_type": "display_data"
    },
    {
     "data": {
      "image/png": "[encoded data removed]",
      "text/plain": [
       "<Figure size 576x288 with 1 Axes>"
      ]
     },
     "metadata": {
      "needs_background": "light"
     },
     "output_type": "display_data"
    },
    {
     "data": {
      "image/png": "[encoded data removed]",
      "text/plain": [
       "<Figure size 576x288 with 1 Axes>"
      ]
     },
     "metadata": {
      "needs_background": "light"
     },
     "output_type": "display_data"
    }
   ],
   "source": [
    "#Distribution plot for all numerical columns\n",
    "for i in df.describe():              \n",
    "    plt.figure(figsize = (8, 4))\n",
    "    sns.distplot(df[i], bins = 10, color=\"g\")\n",
    "    plt.title(i)\n",
    "    plt.show()"
   ]
  },
  {
   "cell_type": "markdown",
   "id": "40573562",
   "metadata": {},
   "source": [
    "Skewness present in all numerical columns,later we have to remove it ."
   ]
  },
  {
   "cell_type": "markdown",
   "id": "cb9bc6ab",
   "metadata": {},
   "source": [
    "# Box Plot"
   ]
  },
  {
   "cell_type": "code",
   "execution_count": 23,
   "id": "f460d952",
   "metadata": {},
   "outputs": [
    {
     "data": {
      "image/png": "[encoded data removed]",
      "text/plain": [
       "<Figure size 1080x360 with 3 Axes>"
      ]
     },
     "metadata": {
      "needs_background": "light"
     },
     "output_type": "display_data"
    }
   ],
   "source": [
    "fig, ax = plt.subplots(ncols=3, nrows=1, figsize=(15,5))\n",
    "index = 0\n",
    "ax = ax.flatten()\n",
    "for col, value in df.describe().items():\n",
    "    sns.boxplot(y=col, data=df, ax=ax[index])\n",
    "    index += 1\n",
    "plt.show()"
   ]
  },
  {
   "cell_type": "markdown",
   "id": "f7f33357",
   "metadata": {},
   "source": [
    "Outliers present in all the columns we have to remove it later."
   ]
  },
  {
   "cell_type": "markdown",
   "id": "0de665fa",
   "metadata": {},
   "source": [
    "# How many people in dataset have income >50K or <=50K"
   ]
  },
  {
   "cell_type": "code",
   "execution_count": 24,
   "id": "8f4053c5",
   "metadata": {},
   "outputs": [
    {
     "data": {
      "text/plain": [
       " <=50K    24697\n",
       " >50K      7839\n",
       "Name: Income, dtype: int64"
      ]
     },
     "execution_count": 24,
     "metadata": {},
     "output_type": "execute_result"
    },
    {
     "data": {
      "image/png": "[encoded data removed]",
      "text/plain": [
       "<Figure size 504x360 with 1 Axes>"
      ]
     },
     "metadata": {
      "needs_background": "light"
     },
     "output_type": "display_data"
    }
   ],
   "source": [
    "\n",
    "plt.figure(figsize=(7,5))\n",
    "sns.countplot('Income', data=df)\n",
    "plt.title('Count of Income', fontsize=15)\n",
    "df[\"Income\"].value_counts()\n"
   ]
  },
  {
   "cell_type": "code",
   "execution_count": 25,
   "id": "16b9fd5f",
   "metadata": {},
   "outputs": [
    {
     "data": {
      "text/plain": [
       "<AxesSubplot:title={'center':'Percentage  of Income'}, ylabel='Income'>"
      ]
     },
     "execution_count": 25,
     "metadata": {},
     "output_type": "execute_result"
    },
    {
     "data": {
      "image/png": "[encoded data removed]",
      "text/plain": [
       "<Figure size 504x360 with 1 Axes>"
      ]
     },
     "metadata": {},
     "output_type": "display_data"
    }
   ],
   "source": [
    "plt.figure(figsize=(7,5))\n",
    "plt.title('Percentage  of Income', fontsize=15)\n",
    "df['Income'].value_counts().plot.pie(autopct='%1.1f%%')"
   ]
  },
  {
   "cell_type": "markdown",
   "id": "e8d24d68",
   "metadata": {},
   "source": [
    "In above count plot We seen that the People with saalary >50k per year are very less.Most of the people are getting income below 50k per year.so we can say thatvthere is a data imbalancing issu  "
   ]
  },
  {
   "cell_type": "code",
   "execution_count": 26,
   "id": "e1788309",
   "metadata": {},
   "outputs": [
    {
     "data": {
      "text/plain": [
       "Index(['Age', 'Workclass', 'Fnlwgt', 'Education', 'Education_num',\n",
       "       'Marital_status', 'Occupation', 'Relationship', 'Race', 'Sex',\n",
       "       'Native_country', 'Income'],\n",
       "      dtype='object')"
      ]
     },
     "execution_count": 26,
     "metadata": {},
     "output_type": "execute_result"
    }
   ],
   "source": [
    "df.columns"
   ]
  },
  {
   "cell_type": "code",
   "execution_count": 27,
   "id": "53747eb3",
   "metadata": {},
   "outputs": [
    {
     "data": {
      "text/plain": [
       " HS-grad         10494\n",
       " Some-college     7282\n",
       " Bachelors        5352\n",
       " Masters          1722\n",
       " Assoc-voc        1382\n",
       " 11th             1175\n",
       " Assoc-acdm       1067\n",
       " 10th              933\n",
       " 7th-8th           645\n",
       " Prof-school       576\n",
       " 9th               514\n",
       " 12th              433\n",
       " Doctorate         413\n",
       " 5th-6th           332\n",
       " 1st-4th           166\n",
       " Preschool          50\n",
       "Name: Education, dtype: int64"
      ]
     },
     "execution_count": 27,
     "metadata": {},
     "output_type": "execute_result"
    },
    {
     "data": {
      "image/png": "[encoded data removed]",
      "text/plain": [
       "<Figure size 720x360 with 1 Axes>"
      ]
     },
     "metadata": {
      "needs_background": "light"
     },
     "output_type": "display_data"
    }
   ],
   "source": [
    "plt.figure(figsize=(10,5))\n",
    "sns.countplot('Education', data=df)\n",
    "plt.title('Count of Education', fontsize=15)\n",
    "plt.xticks(rotation=90);\n",
    "df[\"Education\"].value_counts()"
   ]
  },
  {
   "cell_type": "markdown",
   "id": "c005bd8b",
   "metadata": {},
   "source": [
    "Above plot says that HS-grad, Bachelors and Some-college has maximum count, Those who are more educated get good job. "
   ]
  },
  {
   "cell_type": "code",
   "execution_count": 28,
   "id": "5afe1a01",
   "metadata": {},
   "outputs": [
    {
     "data": {
      "text/plain": [
       " Married-civ-spouse       14970\n",
       " Never-married            10666\n",
       " Divorced                  4441\n",
       " Separated                 1025\n",
       " Widowed                    993\n",
       " Married-spouse-absent      418\n",
       " Married-AF-spouse           23\n",
       "Name: Marital_status, dtype: int64"
      ]
     },
     "execution_count": 28,
     "metadata": {},
     "output_type": "execute_result"
    },
    {
     "data": {
      "image/png": "[encoded data removed]",
      "text/plain": [
       "<Figure size 720x360 with 1 Axes>"
      ]
     },
     "metadata": {
      "needs_background": "light"
     },
     "output_type": "display_data"
    }
   ],
   "source": [
    "plt.figure(figsize=(10,5))\n",
    "sns.countplot('Marital_status', data=df)\n",
    "plt.title('Count of Marital_status', fontsize=15)\n",
    "plt.xticks(rotation=90);\n",
    "df[\"Marital_status\"].value_counts()"
   ]
  },
  {
   "cell_type": "markdown",
   "id": "e6c4c0c1",
   "metadata": {},
   "source": [
    "People who are Married-civ-spouse, Never-married are more in number and Married-AF-spouse is too less in number."
   ]
  },
  {
   "cell_type": "code",
   "execution_count": 29,
   "id": "ae5efe9b",
   "metadata": {},
   "outputs": [
    {
     "data": {
      "text/plain": [
       " Prof-specialty       5979\n",
       " Craft-repair         4094\n",
       " Exec-managerial      4065\n",
       " Adm-clerical         3767\n",
       " Sales                3650\n",
       " Other-service        3291\n",
       " Machine-op-inspct    2000\n",
       " Transport-moving     1597\n",
       " Handlers-cleaners    1369\n",
       " Farming-fishing       992\n",
       " Tech-support          927\n",
       " Protective-serv       649\n",
       " Priv-house-serv       147\n",
       " Armed-Forces            9\n",
       "Name: Occupation, dtype: int64"
      ]
     },
     "execution_count": 29,
     "metadata": {},
     "output_type": "execute_result"
    },
    {
     "data": {
      "image/png": "[encoded data removed]",
      "text/plain": [
       "<Figure size 720x360 with 1 Axes>"
      ]
     },
     "metadata": {
      "needs_background": "light"
     },
     "output_type": "display_data"
    }
   ],
   "source": [
    "plt.figure(figsize=(10,5))\n",
    "sns.countplot('Occupation', data=df)\n",
    "plt.title('Count of Occupation', fontsize=15)\n",
    "plt.xticks(rotation=90);\n",
    "df[\"Occupation\"].value_counts()\n"
   ]
  },
  {
   "cell_type": "markdown",
   "id": "8db4e13c",
   "metadata": {},
   "source": [
    "Most of the people has choosen Prof-specialty,Exec-managerial, Craft-repair as there Occupation except this Priv-house-serv and Armed-Forces are very less in count"
   ]
  },
  {
   "cell_type": "code",
   "execution_count": 30,
   "id": "0a4b9310",
   "metadata": {},
   "outputs": [
    {
     "data": {
      "text/plain": [
       " Private             24509\n",
       " Self-emp-not-inc     2540\n",
       " Local-gov            2093\n",
       " State-gov            1297\n",
       " Self-emp-inc         1116\n",
       " Federal-gov           960\n",
       " Without-pay            14\n",
       " Never-worked            7\n",
       "Name: Workclass, dtype: int64"
      ]
     },
     "execution_count": 30,
     "metadata": {},
     "output_type": "execute_result"
    },
    {
     "data": {
      "image/png": "[encoded data removed]",
      "text/plain": [
       "<Figure size 720x360 with 1 Axes>"
      ]
     },
     "metadata": {
      "needs_background": "light"
     },
     "output_type": "display_data"
    }
   ],
   "source": [
    "plt.figure(figsize=(10,5))\n",
    "sns.countplot('Workclass', data=df)\n",
    "plt.title('Count of Workclass', fontsize=15)\n",
    "plt.xticks(rotation=90);\n",
    "df[\"Workclass\"].value_counts()"
   ]
  },
  {
   "cell_type": "markdown",
   "id": "3e7aff20",
   "metadata": {},
   "source": [
    "So maximum people has choosen Private sector for working.And very few people choosed work Without-pay and Never-worked."
   ]
  },
  {
   "cell_type": "markdown",
   "id": "660e64fa",
   "metadata": {},
   "source": [
    "# Bivariate Visualization:"
   ]
  },
  {
   "cell_type": "markdown",
   "id": "9827abbc",
   "metadata": {},
   "source": [
    "# Bivariate Analysis of all column with respect to target variable"
   ]
  },
  {
   "cell_type": "code",
   "execution_count": 31,
   "id": "ea9bc9d9",
   "metadata": {},
   "outputs": [
    {
     "data": {
      "image/png": "[encoded data removed]",
      "text/plain": [
       "<Figure size 432x288 with 1 Axes>"
      ]
     },
     "metadata": {
      "needs_background": "light"
     },
     "output_type": "display_data"
    },
    {
     "data": {
      "image/png": "[encoded data removed]",
      "text/plain": [
       "<Figure size 432x288 with 1 Axes>"
      ]
     },
     "metadata": {
      "needs_background": "light"
     },
     "output_type": "display_data"
    },
    {
     "data": {
      "image/png": "[encoded data removed]",
      "text/plain": [
       "<Figure size 432x288 with 1 Axes>"
      ]
     },
     "metadata": {
      "needs_background": "light"
     },
     "output_type": "display_data"
    }
   ],
   "source": [
    "\n",
    "for i in df.describe().columns:\n",
    "    sns.boxplot(y =df[i].dropna(), x ='Income',   data = df)\n",
    "    plt.show()"
   ]
  },
  {
   "cell_type": "markdown",
   "id": "2f459c7a",
   "metadata": {},
   "source": [
    "observation:\n",
    "    \n",
    "1.The age of people between 25 to 45 have income less than <=50 and the age between 35 to 52 has income above 50k.That means the people perform best in the age of 35 to 50.\n",
    "\n",
    "2.Fnlwgt is same for people who has income <=50k or >50k So we can say that Fnlwgt is Not to much important for prediction of income and so many outliers are present these column Now we can drop these column for increseing model performance.\n",
    "\n",
    "3.Education no. 10 to 13 for the people who has income  >50k and  Education no. 10 for people who has income  <50k.That means when education no. heigher the income is also high."
   ]
  },
  {
   "cell_type": "code",
   "execution_count": 32,
   "id": "17736b65",
   "metadata": {},
   "outputs": [],
   "source": [
    "df.drop(['Fnlwgt'],axis=1,inplace=True)"
   ]
  },
  {
   "cell_type": "markdown",
   "id": "e1a1c460",
   "metadata": {},
   "source": [
    "# Correlation"
   ]
  },
  {
   "cell_type": "code",
   "execution_count": 33,
   "id": "488dec21",
   "metadata": {},
   "outputs": [
    {
     "data": {
      "text/html": [
       "<div>\n",
       "<style scoped>\n",
       "    .dataframe tbody tr th:only-of-type {\n",
       "        vertical-align: middle;\n",
       "    }\n",
       "\n",
       "    .dataframe tbody tr th {\n",
       "        vertical-align: top;\n",
       "    }\n",
       "\n",
       "    .dataframe thead th {\n",
       "        text-align: right;\n",
       "    }\n",
       "</style>\n",
       "<table border=\"1\" class=\"dataframe\">\n",
       "  <thead>\n",
       "    <tr style=\"text-align: right;\">\n",
       "      <th></th>\n",
       "      <th>Age</th>\n",
       "      <th>Education_num</th>\n",
       "    </tr>\n",
       "  </thead>\n",
       "  <tbody>\n",
       "    <tr>\n",
       "      <th>Age</th>\n",
       "      <td>1.000000</td>\n",
       "      <td>0.036224</td>\n",
       "    </tr>\n",
       "    <tr>\n",
       "      <th>Education_num</th>\n",
       "      <td>0.036224</td>\n",
       "      <td>1.000000</td>\n",
       "    </tr>\n",
       "  </tbody>\n",
       "</table>\n",
       "</div>"
      ],
      "text/plain": [
       "                    Age  Education_num\n",
       "Age            1.000000       0.036224\n",
       "Education_num  0.036224       1.000000"
      ]
     },
     "execution_count": 33,
     "metadata": {},
     "output_type": "execute_result"
    }
   ],
   "source": [
    "df.corr()"
   ]
  },
  {
   "cell_type": "code",
   "execution_count": 34,
   "id": "ff9dcc19",
   "metadata": {},
   "outputs": [
    {
     "data": {
      "text/plain": [
       "<AxesSubplot:>"
      ]
     },
     "execution_count": 34,
     "metadata": {},
     "output_type": "execute_result"
    },
    {
     "data": {
      "image/png": "[encoded data removed]",
      "text/plain": [
       "<Figure size 432x288 with 2 Axes>"
      ]
     },
     "metadata": {
      "needs_background": "light"
     },
     "output_type": "display_data"
    }
   ],
   "source": [
    "sns.heatmap(df.corr())"
   ]
  },
  {
   "cell_type": "markdown",
   "id": "d57793e1",
   "metadata": {},
   "source": [
    "age and education no. is negatively corelated to each other"
   ]
  },
  {
   "cell_type": "code",
   "execution_count": 35,
   "id": "aa31d9dc",
   "metadata": {},
   "outputs": [
    {
     "data": {
      "text/plain": [
       "Index(['Age', 'Workclass', 'Education', 'Education_num', 'Marital_status',\n",
       "       'Occupation', 'Relationship', 'Race', 'Sex', 'Native_country',\n",
       "       'Income'],\n",
       "      dtype='object')"
      ]
     },
     "execution_count": 35,
     "metadata": {},
     "output_type": "execute_result"
    }
   ],
   "source": [
    "df.columns"
   ]
  },
  {
   "cell_type": "markdown",
   "id": "753e3240",
   "metadata": {},
   "source": [
    "# Dependency between Education and Income"
   ]
  },
  {
   "cell_type": "code",
   "execution_count": 36,
   "id": "0b5a53ba",
   "metadata": {},
   "outputs": [
    {
     "data": {
      "text/html": [
       "<div>\n",
       "<style scoped>\n",
       "    .dataframe tbody tr th:only-of-type {\n",
       "        vertical-align: middle;\n",
       "    }\n",
       "\n",
       "    .dataframe tbody tr th {\n",
       "        vertical-align: top;\n",
       "    }\n",
       "\n",
       "    .dataframe thead th {\n",
       "        text-align: right;\n",
       "    }\n",
       "</style>\n",
       "<table border=\"1\" class=\"dataframe\">\n",
       "  <thead>\n",
       "    <tr style=\"text-align: right;\">\n",
       "      <th>Income</th>\n",
       "      <th>&lt;=50K</th>\n",
       "      <th>&gt;50K</th>\n",
       "    </tr>\n",
       "    <tr>\n",
       "      <th>Education</th>\n",
       "      <th></th>\n",
       "      <th></th>\n",
       "    </tr>\n",
       "  </thead>\n",
       "  <tbody>\n",
       "    <tr>\n",
       "      <th>10th</th>\n",
       "      <td>871</td>\n",
       "      <td>62</td>\n",
       "    </tr>\n",
       "    <tr>\n",
       "      <th>11th</th>\n",
       "      <td>1115</td>\n",
       "      <td>60</td>\n",
       "    </tr>\n",
       "    <tr>\n",
       "      <th>12th</th>\n",
       "      <td>400</td>\n",
       "      <td>33</td>\n",
       "    </tr>\n",
       "    <tr>\n",
       "      <th>1st-4th</th>\n",
       "      <td>160</td>\n",
       "      <td>6</td>\n",
       "    </tr>\n",
       "    <tr>\n",
       "      <th>5th-6th</th>\n",
       "      <td>316</td>\n",
       "      <td>16</td>\n",
       "    </tr>\n",
       "    <tr>\n",
       "      <th>7th-8th</th>\n",
       "      <td>605</td>\n",
       "      <td>40</td>\n",
       "    </tr>\n",
       "    <tr>\n",
       "      <th>9th</th>\n",
       "      <td>487</td>\n",
       "      <td>27</td>\n",
       "    </tr>\n",
       "    <tr>\n",
       "      <th>Assoc-acdm</th>\n",
       "      <td>802</td>\n",
       "      <td>265</td>\n",
       "    </tr>\n",
       "    <tr>\n",
       "      <th>Assoc-voc</th>\n",
       "      <td>1021</td>\n",
       "      <td>361</td>\n",
       "    </tr>\n",
       "    <tr>\n",
       "      <th>Bachelors</th>\n",
       "      <td>3131</td>\n",
       "      <td>2221</td>\n",
       "    </tr>\n",
       "    <tr>\n",
       "      <th>Doctorate</th>\n",
       "      <td>107</td>\n",
       "      <td>306</td>\n",
       "    </tr>\n",
       "    <tr>\n",
       "      <th>HS-grad</th>\n",
       "      <td>8820</td>\n",
       "      <td>1674</td>\n",
       "    </tr>\n",
       "    <tr>\n",
       "      <th>Masters</th>\n",
       "      <td>763</td>\n",
       "      <td>959</td>\n",
       "    </tr>\n",
       "    <tr>\n",
       "      <th>Preschool</th>\n",
       "      <td>50</td>\n",
       "      <td>0</td>\n",
       "    </tr>\n",
       "    <tr>\n",
       "      <th>Prof-school</th>\n",
       "      <td>153</td>\n",
       "      <td>423</td>\n",
       "    </tr>\n",
       "    <tr>\n",
       "      <th>Some-college</th>\n",
       "      <td>5896</td>\n",
       "      <td>1386</td>\n",
       "    </tr>\n",
       "  </tbody>\n",
       "</table>\n",
       "</div>"
      ],
      "text/plain": [
       "Income          <=50K   >50K\n",
       "Education                   \n",
       " 10th             871     62\n",
       " 11th            1115     60\n",
       " 12th             400     33\n",
       " 1st-4th          160      6\n",
       " 5th-6th          316     16\n",
       " 7th-8th          605     40\n",
       " 9th              487     27\n",
       " Assoc-acdm       802    265\n",
       " Assoc-voc       1021    361\n",
       " Bachelors       3131   2221\n",
       " Doctorate        107    306\n",
       " HS-grad         8820   1674\n",
       " Masters          763    959\n",
       " Preschool         50      0\n",
       " Prof-school      153    423\n",
       " Some-college    5896   1386"
      ]
     },
     "execution_count": 36,
     "metadata": {},
     "output_type": "execute_result"
    }
   ],
   "source": [
    "pd.crosstab(df.Education,df.Income)"
   ]
  },
  {
   "cell_type": "code",
   "execution_count": 37,
   "id": "f74d16fa",
   "metadata": {},
   "outputs": [
    {
     "data": {
      "image/png": "[encoded data removed]",
      "text/plain": [
       "<Figure size 864x432 with 1 Axes>"
      ]
     },
     "metadata": {
      "needs_background": "light"
     },
     "output_type": "display_data"
    }
   ],
   "source": [
    "data=pd.crosstab(df['Education'], df['Income'])\n",
    "data.div(data.sum(1).astype(float), axis=0).plot(kind='bar', figsize=(12,6))\n",
    "plt.title('Dependency of Education in determining Income', fontsize=15)\n",
    "plt.xlabel('Education')\n",
    "plt.show()"
   ]
  },
  {
   "cell_type": "markdown",
   "id": "b44ea34a",
   "metadata": {},
   "source": [
    "The people who studied Doctorate, prof_school and Masters has chance to get income more than 50K ."
   ]
  },
  {
   "cell_type": "markdown",
   "id": "8cff842f",
   "metadata": {},
   "source": [
    "# Dependency between Occupation and Income"
   ]
  },
  {
   "cell_type": "code",
   "execution_count": 38,
   "id": "81507e80",
   "metadata": {},
   "outputs": [
    {
     "data": {
      "text/html": [
       "<div>\n",
       "<style scoped>\n",
       "    .dataframe tbody tr th:only-of-type {\n",
       "        vertical-align: middle;\n",
       "    }\n",
       "\n",
       "    .dataframe tbody tr th {\n",
       "        vertical-align: top;\n",
       "    }\n",
       "\n",
       "    .dataframe thead th {\n",
       "        text-align: right;\n",
       "    }\n",
       "</style>\n",
       "<table border=\"1\" class=\"dataframe\">\n",
       "  <thead>\n",
       "    <tr style=\"text-align: right;\">\n",
       "      <th>Income</th>\n",
       "      <th>&lt;=50K</th>\n",
       "      <th>&gt;50K</th>\n",
       "    </tr>\n",
       "    <tr>\n",
       "      <th>Occupation</th>\n",
       "      <th></th>\n",
       "      <th></th>\n",
       "    </tr>\n",
       "  </thead>\n",
       "  <tbody>\n",
       "    <tr>\n",
       "      <th>Adm-clerical</th>\n",
       "      <td>3260</td>\n",
       "      <td>507</td>\n",
       "    </tr>\n",
       "    <tr>\n",
       "      <th>Armed-Forces</th>\n",
       "      <td>8</td>\n",
       "      <td>1</td>\n",
       "    </tr>\n",
       "    <tr>\n",
       "      <th>Craft-repair</th>\n",
       "      <td>3165</td>\n",
       "      <td>929</td>\n",
       "    </tr>\n",
       "    <tr>\n",
       "      <th>Exec-managerial</th>\n",
       "      <td>2097</td>\n",
       "      <td>1968</td>\n",
       "    </tr>\n",
       "    <tr>\n",
       "      <th>Farming-fishing</th>\n",
       "      <td>877</td>\n",
       "      <td>115</td>\n",
       "    </tr>\n",
       "    <tr>\n",
       "      <th>Handlers-cleaners</th>\n",
       "      <td>1283</td>\n",
       "      <td>86</td>\n",
       "    </tr>\n",
       "    <tr>\n",
       "      <th>Machine-op-inspct</th>\n",
       "      <td>1751</td>\n",
       "      <td>249</td>\n",
       "    </tr>\n",
       "    <tr>\n",
       "      <th>Other-service</th>\n",
       "      <td>3154</td>\n",
       "      <td>137</td>\n",
       "    </tr>\n",
       "    <tr>\n",
       "      <th>Priv-house-serv</th>\n",
       "      <td>146</td>\n",
       "      <td>1</td>\n",
       "    </tr>\n",
       "    <tr>\n",
       "      <th>Prof-specialty</th>\n",
       "      <td>3930</td>\n",
       "      <td>2049</td>\n",
       "    </tr>\n",
       "    <tr>\n",
       "      <th>Protective-serv</th>\n",
       "      <td>438</td>\n",
       "      <td>211</td>\n",
       "    </tr>\n",
       "    <tr>\n",
       "      <th>Sales</th>\n",
       "      <td>2667</td>\n",
       "      <td>983</td>\n",
       "    </tr>\n",
       "    <tr>\n",
       "      <th>Tech-support</th>\n",
       "      <td>644</td>\n",
       "      <td>283</td>\n",
       "    </tr>\n",
       "    <tr>\n",
       "      <th>Transport-moving</th>\n",
       "      <td>1277</td>\n",
       "      <td>320</td>\n",
       "    </tr>\n",
       "  </tbody>\n",
       "</table>\n",
       "</div>"
      ],
      "text/plain": [
       "Income               <=50K   >50K\n",
       "Occupation                       \n",
       " Adm-clerical         3260    507\n",
       " Armed-Forces            8      1\n",
       " Craft-repair         3165    929\n",
       " Exec-managerial      2097   1968\n",
       " Farming-fishing       877    115\n",
       " Handlers-cleaners    1283     86\n",
       " Machine-op-inspct    1751    249\n",
       " Other-service        3154    137\n",
       " Priv-house-serv       146      1\n",
       " Prof-specialty       3930   2049\n",
       " Protective-serv       438    211\n",
       " Sales                2667    983\n",
       " Tech-support          644    283\n",
       " Transport-moving     1277    320"
      ]
     },
     "execution_count": 38,
     "metadata": {},
     "output_type": "execute_result"
    }
   ],
   "source": [
    "pd.crosstab(df.Occupation,df.Income)"
   ]
  },
  {
   "cell_type": "code",
   "execution_count": 39,
   "id": "29de5b30",
   "metadata": {},
   "outputs": [
    {
     "data": {
      "image/png": "[encoded data removed]",
      "text/plain": [
       "<Figure size 864x432 with 1 Axes>"
      ]
     },
     "metadata": {
      "needs_background": "light"
     },
     "output_type": "display_data"
    }
   ],
   "source": [
    "data=pd.crosstab(df['Occupation'], df['Income'])\n",
    "data.div(data.sum(1).astype(float), axis=0).plot(kind='bar', figsize=(12,6))\n",
    "plt.title('Dependency of Occupation in determining Income', fontsize=15)\n",
    "plt.xlabel('Occupation')\n",
    "plt.show()"
   ]
  },
  {
   "cell_type": "markdown",
   "id": "3b984aac",
   "metadata": {},
   "source": [
    "The people whoes occupation Prof-specialty and Exec-managerial is chance to get income more than 50K ."
   ]
  },
  {
   "cell_type": "markdown",
   "id": "03e4e2b0",
   "metadata": {},
   "source": [
    "# Dependency between Workclass and Income"
   ]
  },
  {
   "cell_type": "code",
   "execution_count": 40,
   "id": "d2fff6b4",
   "metadata": {},
   "outputs": [
    {
     "data": {
      "text/html": [
       "<div>\n",
       "<style scoped>\n",
       "    .dataframe tbody tr th:only-of-type {\n",
       "        vertical-align: middle;\n",
       "    }\n",
       "\n",
       "    .dataframe tbody tr th {\n",
       "        vertical-align: top;\n",
       "    }\n",
       "\n",
       "    .dataframe thead th {\n",
       "        text-align: right;\n",
       "    }\n",
       "</style>\n",
       "<table border=\"1\" class=\"dataframe\">\n",
       "  <thead>\n",
       "    <tr style=\"text-align: right;\">\n",
       "      <th>Income</th>\n",
       "      <th>&lt;=50K</th>\n",
       "      <th>&gt;50K</th>\n",
       "    </tr>\n",
       "    <tr>\n",
       "      <th>Workclass</th>\n",
       "      <th></th>\n",
       "      <th></th>\n",
       "    </tr>\n",
       "  </thead>\n",
       "  <tbody>\n",
       "    <tr>\n",
       "      <th>Federal-gov</th>\n",
       "      <td>589</td>\n",
       "      <td>371</td>\n",
       "    </tr>\n",
       "    <tr>\n",
       "      <th>Local-gov</th>\n",
       "      <td>1476</td>\n",
       "      <td>617</td>\n",
       "    </tr>\n",
       "    <tr>\n",
       "      <th>Never-worked</th>\n",
       "      <td>7</td>\n",
       "      <td>0</td>\n",
       "    </tr>\n",
       "    <tr>\n",
       "      <th>Private</th>\n",
       "      <td>19357</td>\n",
       "      <td>5152</td>\n",
       "    </tr>\n",
       "    <tr>\n",
       "      <th>Self-emp-inc</th>\n",
       "      <td>494</td>\n",
       "      <td>622</td>\n",
       "    </tr>\n",
       "    <tr>\n",
       "      <th>Self-emp-not-inc</th>\n",
       "      <td>1816</td>\n",
       "      <td>724</td>\n",
       "    </tr>\n",
       "    <tr>\n",
       "      <th>State-gov</th>\n",
       "      <td>944</td>\n",
       "      <td>353</td>\n",
       "    </tr>\n",
       "    <tr>\n",
       "      <th>Without-pay</th>\n",
       "      <td>14</td>\n",
       "      <td>0</td>\n",
       "    </tr>\n",
       "  </tbody>\n",
       "</table>\n",
       "</div>"
      ],
      "text/plain": [
       "Income              <=50K   >50K\n",
       "Workclass                       \n",
       " Federal-gov          589    371\n",
       " Local-gov           1476    617\n",
       " Never-worked           7      0\n",
       " Private            19357   5152\n",
       " Self-emp-inc         494    622\n",
       " Self-emp-not-inc    1816    724\n",
       " State-gov            944    353\n",
       " Without-pay           14      0"
      ]
     },
     "execution_count": 40,
     "metadata": {},
     "output_type": "execute_result"
    }
   ],
   "source": [
    "pd.crosstab(df.Workclass,df.Income)"
   ]
  },
  {
   "cell_type": "code",
   "execution_count": 41,
   "id": "d3a1724f",
   "metadata": {},
   "outputs": [
    {
     "data": {
      "image/png": "[encoded data removed]",
      "text/plain": [
       "<Figure size 864x432 with 1 Axes>"
      ]
     },
     "metadata": {
      "needs_background": "light"
     },
     "output_type": "display_data"
    }
   ],
   "source": [
    "data=pd.crosstab(df['Workclass'], df['Income'])\n",
    "data.div(data.sum(1).astype(float), axis=0).plot(kind='bar', figsize=(12,6))\n",
    "plt.title('Dependency of Workclass in determining Income', fontsize=15)\n",
    "plt.xlabel('Workclass')\n",
    "plt.show()"
   ]
  },
  {
   "cell_type": "markdown",
   "id": "d3900bf9",
   "metadata": {},
   "source": [
    "The people who belong from workclass Self-emp-inc is chance to get income more than 50K ."
   ]
  },
  {
   "cell_type": "markdown",
   "id": "be47c58d",
   "metadata": {},
   "source": [
    "# Dependency between Native_country and Income"
   ]
  },
  {
   "cell_type": "code",
   "execution_count": 42,
   "id": "8db9e0d9",
   "metadata": {},
   "outputs": [
    {
     "data": {
      "text/html": [
       "<div>\n",
       "<style scoped>\n",
       "    .dataframe tbody tr th:only-of-type {\n",
       "        vertical-align: middle;\n",
       "    }\n",
       "\n",
       "    .dataframe tbody tr th {\n",
       "        vertical-align: top;\n",
       "    }\n",
       "\n",
       "    .dataframe thead th {\n",
       "        text-align: right;\n",
       "    }\n",
       "</style>\n",
       "<table border=\"1\" class=\"dataframe\">\n",
       "  <thead>\n",
       "    <tr style=\"text-align: right;\">\n",
       "      <th>Income</th>\n",
       "      <th>&lt;=50K</th>\n",
       "      <th>&gt;50K</th>\n",
       "    </tr>\n",
       "    <tr>\n",
       "      <th>Native_country</th>\n",
       "      <th></th>\n",
       "      <th></th>\n",
       "    </tr>\n",
       "  </thead>\n",
       "  <tbody>\n",
       "    <tr>\n",
       "      <th>Cambodia</th>\n",
       "      <td>12</td>\n",
       "      <td>7</td>\n",
       "    </tr>\n",
       "    <tr>\n",
       "      <th>Canada</th>\n",
       "      <td>82</td>\n",
       "      <td>39</td>\n",
       "    </tr>\n",
       "    <tr>\n",
       "      <th>China</th>\n",
       "      <td>55</td>\n",
       "      <td>20</td>\n",
       "    </tr>\n",
       "    <tr>\n",
       "      <th>Columbia</th>\n",
       "      <td>57</td>\n",
       "      <td>2</td>\n",
       "    </tr>\n",
       "    <tr>\n",
       "      <th>Cuba</th>\n",
       "      <td>70</td>\n",
       "      <td>25</td>\n",
       "    </tr>\n",
       "    <tr>\n",
       "      <th>Dominican-Republic</th>\n",
       "      <td>68</td>\n",
       "      <td>2</td>\n",
       "    </tr>\n",
       "    <tr>\n",
       "      <th>Ecuador</th>\n",
       "      <td>24</td>\n",
       "      <td>4</td>\n",
       "    </tr>\n",
       "    <tr>\n",
       "      <th>El-Salvador</th>\n",
       "      <td>97</td>\n",
       "      <td>9</td>\n",
       "    </tr>\n",
       "    <tr>\n",
       "      <th>England</th>\n",
       "      <td>60</td>\n",
       "      <td>30</td>\n",
       "    </tr>\n",
       "    <tr>\n",
       "      <th>France</th>\n",
       "      <td>17</td>\n",
       "      <td>12</td>\n",
       "    </tr>\n",
       "    <tr>\n",
       "      <th>Germany</th>\n",
       "      <td>93</td>\n",
       "      <td>44</td>\n",
       "    </tr>\n",
       "    <tr>\n",
       "      <th>Greece</th>\n",
       "      <td>21</td>\n",
       "      <td>8</td>\n",
       "    </tr>\n",
       "    <tr>\n",
       "      <th>Guatemala</th>\n",
       "      <td>59</td>\n",
       "      <td>3</td>\n",
       "    </tr>\n",
       "    <tr>\n",
       "      <th>Haiti</th>\n",
       "      <td>40</td>\n",
       "      <td>4</td>\n",
       "    </tr>\n",
       "    <tr>\n",
       "      <th>Holand-Netherlands</th>\n",
       "      <td>1</td>\n",
       "      <td>0</td>\n",
       "    </tr>\n",
       "    <tr>\n",
       "      <th>Honduras</th>\n",
       "      <td>12</td>\n",
       "      <td>1</td>\n",
       "    </tr>\n",
       "    <tr>\n",
       "      <th>Hong</th>\n",
       "      <td>14</td>\n",
       "      <td>6</td>\n",
       "    </tr>\n",
       "    <tr>\n",
       "      <th>Hungary</th>\n",
       "      <td>10</td>\n",
       "      <td>3</td>\n",
       "    </tr>\n",
       "    <tr>\n",
       "      <th>India</th>\n",
       "      <td>60</td>\n",
       "      <td>40</td>\n",
       "    </tr>\n",
       "    <tr>\n",
       "      <th>Iran</th>\n",
       "      <td>25</td>\n",
       "      <td>18</td>\n",
       "    </tr>\n",
       "    <tr>\n",
       "      <th>Ireland</th>\n",
       "      <td>19</td>\n",
       "      <td>5</td>\n",
       "    </tr>\n",
       "    <tr>\n",
       "      <th>Italy</th>\n",
       "      <td>48</td>\n",
       "      <td>25</td>\n",
       "    </tr>\n",
       "    <tr>\n",
       "      <th>Jamaica</th>\n",
       "      <td>71</td>\n",
       "      <td>10</td>\n",
       "    </tr>\n",
       "    <tr>\n",
       "      <th>Japan</th>\n",
       "      <td>38</td>\n",
       "      <td>24</td>\n",
       "    </tr>\n",
       "    <tr>\n",
       "      <th>Laos</th>\n",
       "      <td>16</td>\n",
       "      <td>2</td>\n",
       "    </tr>\n",
       "    <tr>\n",
       "      <th>Mexico</th>\n",
       "      <td>606</td>\n",
       "      <td>33</td>\n",
       "    </tr>\n",
       "    <tr>\n",
       "      <th>Nicaragua</th>\n",
       "      <td>32</td>\n",
       "      <td>2</td>\n",
       "    </tr>\n",
       "    <tr>\n",
       "      <th>Outlying-US(Guam-USVI-etc)</th>\n",
       "      <td>14</td>\n",
       "      <td>0</td>\n",
       "    </tr>\n",
       "    <tr>\n",
       "      <th>Peru</th>\n",
       "      <td>29</td>\n",
       "      <td>2</td>\n",
       "    </tr>\n",
       "    <tr>\n",
       "      <th>Philippines</th>\n",
       "      <td>137</td>\n",
       "      <td>61</td>\n",
       "    </tr>\n",
       "    <tr>\n",
       "      <th>Poland</th>\n",
       "      <td>48</td>\n",
       "      <td>12</td>\n",
       "    </tr>\n",
       "    <tr>\n",
       "      <th>Portugal</th>\n",
       "      <td>33</td>\n",
       "      <td>4</td>\n",
       "    </tr>\n",
       "    <tr>\n",
       "      <th>Puerto-Rico</th>\n",
       "      <td>102</td>\n",
       "      <td>12</td>\n",
       "    </tr>\n",
       "    <tr>\n",
       "      <th>Scotland</th>\n",
       "      <td>9</td>\n",
       "      <td>3</td>\n",
       "    </tr>\n",
       "    <tr>\n",
       "      <th>South</th>\n",
       "      <td>64</td>\n",
       "      <td>16</td>\n",
       "    </tr>\n",
       "    <tr>\n",
       "      <th>Taiwan</th>\n",
       "      <td>31</td>\n",
       "      <td>20</td>\n",
       "    </tr>\n",
       "    <tr>\n",
       "      <th>Thailand</th>\n",
       "      <td>15</td>\n",
       "      <td>3</td>\n",
       "    </tr>\n",
       "    <tr>\n",
       "      <th>Trinadad&amp;Tobago</th>\n",
       "      <td>17</td>\n",
       "      <td>2</td>\n",
       "    </tr>\n",
       "    <tr>\n",
       "      <th>United-States</th>\n",
       "      <td>22419</td>\n",
       "      <td>7315</td>\n",
       "    </tr>\n",
       "    <tr>\n",
       "      <th>Vietnam</th>\n",
       "      <td>62</td>\n",
       "      <td>5</td>\n",
       "    </tr>\n",
       "    <tr>\n",
       "      <th>Yugoslavia</th>\n",
       "      <td>10</td>\n",
       "      <td>6</td>\n",
       "    </tr>\n",
       "  </tbody>\n",
       "</table>\n",
       "</div>"
      ],
      "text/plain": [
       "Income                        <=50K   >50K\n",
       "Native_country                            \n",
       " Cambodia                        12      7\n",
       " Canada                          82     39\n",
       " China                           55     20\n",
       " Columbia                        57      2\n",
       " Cuba                            70     25\n",
       " Dominican-Republic              68      2\n",
       " Ecuador                         24      4\n",
       " El-Salvador                     97      9\n",
       " England                         60     30\n",
       " France                          17     12\n",
       " Germany                         93     44\n",
       " Greece                          21      8\n",
       " Guatemala                       59      3\n",
       " Haiti                           40      4\n",
       " Holand-Netherlands               1      0\n",
       " Honduras                        12      1\n",
       " Hong                            14      6\n",
       " Hungary                         10      3\n",
       " India                           60     40\n",
       " Iran                            25     18\n",
       " Ireland                         19      5\n",
       " Italy                           48     25\n",
       " Jamaica                         71     10\n",
       " Japan                           38     24\n",
       " Laos                            16      2\n",
       " Mexico                         606     33\n",
       " Nicaragua                       32      2\n",
       " Outlying-US(Guam-USVI-etc)      14      0\n",
       " Peru                            29      2\n",
       " Philippines                    137     61\n",
       " Poland                          48     12\n",
       " Portugal                        33      4\n",
       " Puerto-Rico                    102     12\n",
       " Scotland                         9      3\n",
       " South                           64     16\n",
       " Taiwan                          31     20\n",
       " Thailand                        15      3\n",
       " Trinadad&Tobago                 17      2\n",
       " United-States                22419   7315\n",
       " Vietnam                         62      5\n",
       " Yugoslavia                      10      6"
      ]
     },
     "execution_count": 42,
     "metadata": {},
     "output_type": "execute_result"
    }
   ],
   "source": [
    "pd.crosstab(df.Native_country,df.Income)"
   ]
  },
  {
   "cell_type": "code",
   "execution_count": 43,
   "id": "9279de98",
   "metadata": {},
   "outputs": [
    {
     "data": {
      "image/png": "[encoded data removed]",
      "text/plain": [
       "<Figure size 1440x504 with 1 Axes>"
      ]
     },
     "metadata": {
      "needs_background": "light"
     },
     "output_type": "display_data"
    }
   ],
   "source": [
    "data=pd.crosstab(df['Native_country'], df['Income'])\n",
    "data.div(data.sum(1).astype(float), axis=0).plot(kind='bar', figsize=(20,7))\n",
    "plt.title('Dependency of Native_country in determining Income', fontsize=15)\n",
    "plt.xlabel('Native_country')\n",
    "plt.show()"
   ]
  },
  {
   "cell_type": "markdown",
   "id": "47aa0add",
   "metadata": {},
   "source": [
    "\n",
    "The people whoes Native_country is India,Iran,France,cobodia and taiwan has chance to get income more than 50K ."
   ]
  },
  {
   "cell_type": "markdown",
   "id": "80b0ae95",
   "metadata": {},
   "source": [
    "# Dependency between Marital_statusand Income"
   ]
  },
  {
   "cell_type": "code",
   "execution_count": 44,
   "id": "8a9d2ddd",
   "metadata": {},
   "outputs": [
    {
     "data": {
      "text/html": [
       "<div>\n",
       "<style scoped>\n",
       "    .dataframe tbody tr th:only-of-type {\n",
       "        vertical-align: middle;\n",
       "    }\n",
       "\n",
       "    .dataframe tbody tr th {\n",
       "        vertical-align: top;\n",
       "    }\n",
       "\n",
       "    .dataframe thead th {\n",
       "        text-align: right;\n",
       "    }\n",
       "</style>\n",
       "<table border=\"1\" class=\"dataframe\">\n",
       "  <thead>\n",
       "    <tr style=\"text-align: right;\">\n",
       "      <th>Income</th>\n",
       "      <th>&lt;=50K</th>\n",
       "      <th>&gt;50K</th>\n",
       "    </tr>\n",
       "    <tr>\n",
       "      <th>Marital_status</th>\n",
       "      <th></th>\n",
       "      <th></th>\n",
       "    </tr>\n",
       "  </thead>\n",
       "  <tbody>\n",
       "    <tr>\n",
       "      <th>Divorced</th>\n",
       "      <td>3978</td>\n",
       "      <td>463</td>\n",
       "    </tr>\n",
       "    <tr>\n",
       "      <th>Married-AF-spouse</th>\n",
       "      <td>13</td>\n",
       "      <td>10</td>\n",
       "    </tr>\n",
       "    <tr>\n",
       "      <th>Married-civ-spouse</th>\n",
       "      <td>8280</td>\n",
       "      <td>6690</td>\n",
       "    </tr>\n",
       "    <tr>\n",
       "      <th>Married-spouse-absent</th>\n",
       "      <td>384</td>\n",
       "      <td>34</td>\n",
       "    </tr>\n",
       "    <tr>\n",
       "      <th>Never-married</th>\n",
       "      <td>10175</td>\n",
       "      <td>491</td>\n",
       "    </tr>\n",
       "    <tr>\n",
       "      <th>Separated</th>\n",
       "      <td>959</td>\n",
       "      <td>66</td>\n",
       "    </tr>\n",
       "    <tr>\n",
       "      <th>Widowed</th>\n",
       "      <td>908</td>\n",
       "      <td>85</td>\n",
       "    </tr>\n",
       "  </tbody>\n",
       "</table>\n",
       "</div>"
      ],
      "text/plain": [
       "Income                   <=50K   >50K\n",
       "Marital_status                       \n",
       " Divorced                 3978    463\n",
       " Married-AF-spouse          13     10\n",
       " Married-civ-spouse       8280   6690\n",
       " Married-spouse-absent     384     34\n",
       " Never-married           10175    491\n",
       " Separated                 959     66\n",
       " Widowed                   908     85"
      ]
     },
     "execution_count": 44,
     "metadata": {},
     "output_type": "execute_result"
    }
   ],
   "source": [
    "pd.crosstab(df.Marital_status,df.Income)"
   ]
  },
  {
   "cell_type": "code",
   "execution_count": 45,
   "id": "dc90266a",
   "metadata": {},
   "outputs": [
    {
     "data": {
      "image/png": "[encoded data removed]",
      "text/plain": [
       "<Figure size 864x432 with 1 Axes>"
      ]
     },
     "metadata": {
      "needs_background": "light"
     },
     "output_type": "display_data"
    }
   ],
   "source": [
    "data=pd.crosstab(df['Marital_status'], df['Income'])\n",
    "data.div(data.sum(1).astype(float), axis=0).plot(kind='bar', figsize=(12,6))\n",
    "plt.title('Dependency of Marital_status in determining Income', fontsize=15)\n",
    "plt.xlabel('Marital_status')\n",
    "plt.show()"
   ]
  },
  {
   "cell_type": "markdown",
   "id": "af2cbc48",
   "metadata": {},
   "source": [
    "The people whoes marital-status is Married-civ-spouse have chance to get income more than 50K ."
   ]
  },
  {
   "cell_type": "code",
   "execution_count": 46,
   "id": "ae3b2c74",
   "metadata": {},
   "outputs": [
    {
     "data": {
      "image/png": "[encoded data removed]",
      "text/plain": [
       "<Figure size 435x360 with 1 Axes>"
      ]
     },
     "metadata": {
      "needs_background": "light"
     },
     "output_type": "display_data"
    }
   ],
   "source": [
    "#Factor plot for Sex\n",
    "sns.factorplot('Sex',kind='count',data=df,hue='Income')\n",
    "plt.xticks(rotation=0);"
   ]
  },
  {
   "cell_type": "markdown",
   "id": "a70127d5",
   "metadata": {},
   "source": [
    "rrespective of income males have high count of getting job than women.And men also has high count of getting income >50k per year."
   ]
  },
  {
   "cell_type": "code",
   "execution_count": 47,
   "id": "617b3d4e",
   "metadata": {},
   "outputs": [
    {
     "data": {
      "image/png": "[encoded data removed]",
      "text/plain": [
       "<Figure size 432x288 with 1 Axes>"
      ]
     },
     "metadata": {},
     "output_type": "display_data"
    }
   ],
   "source": [
    "#Ploting pie chart for Sex\n",
    "labels='Male','Female'\n",
    "fig, ax = plt.subplots()\n",
    "ax.pie(df['Sex'].value_counts(), labels=labels, autopct='%1.2f%%', shadow=True)\n",
    "plt.show()"
   ]
  },
  {
   "cell_type": "markdown",
   "id": "25f6947d",
   "metadata": {},
   "source": [
    "Most of the working people about 67% are male and women workers are less in number."
   ]
  },
  {
   "cell_type": "markdown",
   "id": "7a04a5ac",
   "metadata": {},
   "source": [
    "# Violin plot"
   ]
  },
  {
   "cell_type": "code",
   "execution_count": 48,
   "id": "212bbfc0",
   "metadata": {},
   "outputs": [
    {
     "data": {
      "image/png": "[encoded data removed]",
      "text/plain": [
       "<Figure size 435x360 with 1 Axes>"
      ]
     },
     "metadata": {
      "needs_background": "light"
     },
     "output_type": "display_data"
    }
   ],
   "source": [
    "# Let's plot catplot for Workclass and Age\n",
    "\n",
    "\n",
    "sns.catplot(x = \"Workclass\", y = \"Age\", hue = \"Income\", kind = \"violin\", data=df, split=True)\n",
    "plt.xticks(rotation=90);"
   ]
  },
  {
   "cell_type": "markdown",
   "id": "9b86c602",
   "metadata": {},
   "source": [
    "All the Workclass has chances of getting income >50k except Without-pay and Never-worked.Which means if a person is working then there is a chance that he gets income of >50k.But if he is not at all working then obviously he'll not get that income."
   ]
  },
  {
   "cell_type": "code",
   "execution_count": 49,
   "id": "947beb1a",
   "metadata": {},
   "outputs": [
    {
     "data": {
      "image/png": "[encoded data removed]",
      "text/plain": [
       "<Figure size 435x360 with 1 Axes>"
      ]
     },
     "metadata": {
      "needs_background": "light"
     },
     "output_type": "display_data"
    }
   ],
   "source": [
    "# Let's plot catplot for Marital_status and Education_num\n",
    "sns.catplot(x = \"Marital_status\", y = \"Education_num\", hue = \"Income\", kind = \"violin\", data=df, split=True)\n",
    "plt.xticks(rotation=90);"
   ]
  },
  {
   "cell_type": "markdown",
   "id": "4020cac9",
   "metadata": {},
   "source": [
    "If the education number is high then obviously Income is high, but for married-spouse-absent is showing high education_num."
   ]
  },
  {
   "cell_type": "code",
   "execution_count": 50,
   "id": "c7f8d582",
   "metadata": {},
   "outputs": [
    {
     "data": {
      "image/png": "[encoded data removed]",
      "text/plain": [
       "<Figure size 435x360 with 1 Axes>"
      ]
     },
     "metadata": {
      "needs_background": "light"
     },
     "output_type": "display_data"
    }
   ],
   "source": [
    "# Let's plot catplot for Race and Age\n",
    "sns.catplot(x = \"Race\", y = \"Age\", hue = \"Income\", kind = \"violin\", data=df, split=True)\n",
    "plt.xticks(rotation=90);"
   ]
  },
  {
   "cell_type": "markdown",
   "id": "15336a7b",
   "metadata": {},
   "source": [
    "Chances of getting income >50k is more in case of Whites.That means in US white peoples are dominating"
   ]
  },
  {
   "cell_type": "markdown",
   "id": "c0bb2385",
   "metadata": {},
   "source": [
    "# Multivariate Analysis"
   ]
  },
  {
   "cell_type": "code",
   "execution_count": 51,
   "id": "61021260",
   "metadata": {},
   "outputs": [
    {
     "data": {
      "text/plain": [
       "<seaborn.axisgrid.PairGrid at 0x21add2af250>"
      ]
     },
     "execution_count": 51,
     "metadata": {},
     "output_type": "execute_result"
    },
    {
     "data": {
      "image/png": "[encoded data removed]",
      "text/plain": [
       "<Figure size 435x360 with 6 Axes>"
      ]
     },
     "metadata": {
      "needs_background": "light"
     },
     "output_type": "display_data"
    }
   ],
   "source": [
    "#pair ploting for df\n",
    "sns.pairplot(df,hue=\"Income\")"
   ]
  },
  {
   "cell_type": "markdown",
   "id": "97040409",
   "metadata": {},
   "source": [
    "Observation:\n",
    "1. the people whoes education no. above 10 and age between 35 to 55 has more chance to get income >50k.\n"
   ]
  },
  {
   "cell_type": "markdown",
   "id": "f56e6cd3",
   "metadata": {},
   "source": [
    "# Data preprocessing"
   ]
  },
  {
   "cell_type": "code",
   "execution_count": 52,
   "id": "2853dca2",
   "metadata": {},
   "outputs": [
    {
     "data": {
      "text/plain": [
       "Age                 AxesSubplot(0.125,0.125;0.352273x0.755)\n",
       "Education_num    AxesSubplot(0.547727,0.125;0.352273x0.755)\n",
       "dtype: object"
      ]
     },
     "execution_count": 52,
     "metadata": {},
     "output_type": "execute_result"
    },
    {
     "data": {
      "image/png": "[encoded data removed]",
      "text/plain": [
       "<Figure size 504x360 with 2 Axes>"
      ]
     },
     "metadata": {
      "needs_background": "light"
     },
     "output_type": "display_data"
    }
   ],
   "source": [
    "#Checking for outliers using boxplot\n",
    "df.plot(kind='box',subplots=True,figsize=(7,5))"
   ]
  },
  {
   "cell_type": "markdown",
   "id": "5c90da5a",
   "metadata": {},
   "source": [
    "outliers are prasent we have to remove it"
   ]
  },
  {
   "cell_type": "markdown",
   "id": "7575acba",
   "metadata": {},
   "source": [
    "# Removing outliers:"
   ]
  },
  {
   "cell_type": "code",
   "execution_count": 53,
   "id": "4d10d4a2",
   "metadata": {},
   "outputs": [],
   "source": [
    "#Taking all the column names with outliers as a list\n",
    "df_outliers=df[[\"Age\",\"Education_num\"]]"
   ]
  },
  {
   "cell_type": "code",
   "execution_count": 54,
   "id": "63cf82ee",
   "metadata": {},
   "outputs": [],
   "source": [
    "from scipy.stats import zscore\n",
    "z=np.abs(zscore(df_outliers))\n",
    "df_new=df[(z<3).all(axis=1)]"
   ]
  },
  {
   "cell_type": "markdown",
   "id": "9b26b2cf",
   "metadata": {},
   "source": [
    "# check outlier removed or not"
   ]
  },
  {
   "cell_type": "code",
   "execution_count": 55,
   "id": "87059235",
   "metadata": {},
   "outputs": [
    {
     "data": {
      "text/plain": [
       "Age                 AxesSubplot(0.125,0.125;0.352273x0.755)\n",
       "Education_num    AxesSubplot(0.547727,0.125;0.352273x0.755)\n",
       "dtype: object"
      ]
     },
     "execution_count": 55,
     "metadata": {},
     "output_type": "execute_result"
    },
    {
     "data": {
      "image/png": "[encoded data removed]",
      "text/plain": [
       "<Figure size 504x360 with 2 Axes>"
      ]
     },
     "metadata": {
      "needs_background": "light"
     },
     "output_type": "display_data"
    }
   ],
   "source": [
    "#Checking for outliers using boxplot\n",
    "df_new.plot(kind='box',subplots=True,figsize=(7,5))"
   ]
  },
  {
   "cell_type": "code",
   "execution_count": 56,
   "id": "034aa0d4",
   "metadata": {},
   "outputs": [
    {
     "name": "stdout",
     "output_type": "stream",
     "text": [
      "Shape of the dataframe before removing outliers:  (32536, 11)\n",
      "Shape of the dataframe after removing outliers:  (32204, 11)\n",
      "Percentage of data loss post outlier removal:  1.0204081632653061\n"
     ]
    }
   ],
   "source": [
    "print (\"Shape of the dataframe before removing outliers: \", df.shape)\n",
    "print (\"Shape of the dataframe after removing outliers: \", df_new.shape)\n",
    "print (\"Percentage of data loss post outlier removal: \", (df.shape[0]-df_new.shape[0])/df.shape[0]*100)\n"
   ]
  },
  {
   "cell_type": "code",
   "execution_count": 57,
   "id": "07ce8424",
   "metadata": {},
   "outputs": [],
   "source": [
    "df=df_new.copy() # reassigning the changed dataframe name to our original dataframe name     "
   ]
  },
  {
   "cell_type": "markdown",
   "id": "f544b6ca",
   "metadata": {},
   "source": [
    "# Label encoding"
   ]
  },
  {
   "cell_type": "markdown",
   "id": "155f7ce3",
   "metadata": {},
   "source": [
    "Dealing with categorical variable\n",
    "\n",
    "change categorical value into numerical valu"
   ]
  },
  {
   "cell_type": "code",
   "execution_count": 58,
   "id": "06795977",
   "metadata": {},
   "outputs": [],
   "source": [
    "from sklearn.preprocessing import LabelEncoder\n",
    "le=LabelEncoder()"
   ]
  },
  {
   "cell_type": "code",
   "execution_count": 59,
   "id": "cd8f60e5",
   "metadata": {},
   "outputs": [],
   "source": [
    "#for changing all catigorical value into numeric value\n",
    "\n",
    "df=df.apply(le.fit_transform)"
   ]
  },
  {
   "cell_type": "code",
   "execution_count": 60,
   "id": "8dd57992",
   "metadata": {},
   "outputs": [
    {
     "data": {
      "text/html": [
       "<div>\n",
       "<style scoped>\n",
       "    .dataframe tbody tr th:only-of-type {\n",
       "        vertical-align: middle;\n",
       "    }\n",
       "\n",
       "    .dataframe tbody tr th {\n",
       "        vertical-align: top;\n",
       "    }\n",
       "\n",
       "    .dataframe thead th {\n",
       "        text-align: right;\n",
       "    }\n",
       "</style>\n",
       "<table border=\"1\" class=\"dataframe\">\n",
       "  <thead>\n",
       "    <tr style=\"text-align: right;\">\n",
       "      <th></th>\n",
       "      <th>Age</th>\n",
       "      <th>Workclass</th>\n",
       "      <th>Education</th>\n",
       "      <th>Education_num</th>\n",
       "      <th>Marital_status</th>\n",
       "      <th>Occupation</th>\n",
       "      <th>Relationship</th>\n",
       "      <th>Race</th>\n",
       "      <th>Sex</th>\n",
       "      <th>Native_country</th>\n",
       "      <th>Income</th>\n",
       "    </tr>\n",
       "  </thead>\n",
       "  <tbody>\n",
       "    <tr>\n",
       "      <th>0</th>\n",
       "      <td>33</td>\n",
       "      <td>5</td>\n",
       "      <td>8</td>\n",
       "      <td>10</td>\n",
       "      <td>2</td>\n",
       "      <td>3</td>\n",
       "      <td>0</td>\n",
       "      <td>4</td>\n",
       "      <td>1</td>\n",
       "      <td>38</td>\n",
       "      <td>0</td>\n",
       "    </tr>\n",
       "    <tr>\n",
       "      <th>1</th>\n",
       "      <td>21</td>\n",
       "      <td>3</td>\n",
       "      <td>10</td>\n",
       "      <td>6</td>\n",
       "      <td>0</td>\n",
       "      <td>5</td>\n",
       "      <td>1</td>\n",
       "      <td>4</td>\n",
       "      <td>1</td>\n",
       "      <td>38</td>\n",
       "      <td>0</td>\n",
       "    </tr>\n",
       "    <tr>\n",
       "      <th>2</th>\n",
       "      <td>36</td>\n",
       "      <td>3</td>\n",
       "      <td>1</td>\n",
       "      <td>4</td>\n",
       "      <td>2</td>\n",
       "      <td>5</td>\n",
       "      <td>0</td>\n",
       "      <td>2</td>\n",
       "      <td>1</td>\n",
       "      <td>38</td>\n",
       "      <td>0</td>\n",
       "    </tr>\n",
       "    <tr>\n",
       "      <th>3</th>\n",
       "      <td>11</td>\n",
       "      <td>3</td>\n",
       "      <td>8</td>\n",
       "      <td>10</td>\n",
       "      <td>2</td>\n",
       "      <td>9</td>\n",
       "      <td>5</td>\n",
       "      <td>2</td>\n",
       "      <td>0</td>\n",
       "      <td>4</td>\n",
       "      <td>0</td>\n",
       "    </tr>\n",
       "    <tr>\n",
       "      <th>4</th>\n",
       "      <td>20</td>\n",
       "      <td>3</td>\n",
       "      <td>11</td>\n",
       "      <td>11</td>\n",
       "      <td>2</td>\n",
       "      <td>3</td>\n",
       "      <td>5</td>\n",
       "      <td>4</td>\n",
       "      <td>0</td>\n",
       "      <td>38</td>\n",
       "      <td>0</td>\n",
       "    </tr>\n",
       "  </tbody>\n",
       "</table>\n",
       "</div>"
      ],
      "text/plain": [
       "   Age  Workclass  Education  Education_num  Marital_status  Occupation  \\\n",
       "0   33          5          8             10               2           3   \n",
       "1   21          3         10              6               0           5   \n",
       "2   36          3          1              4               2           5   \n",
       "3   11          3          8             10               2           9   \n",
       "4   20          3         11             11               2           3   \n",
       "\n",
       "   Relationship  Race  Sex  Native_country  Income  \n",
       "0             0     4    1              38       0  \n",
       "1             1     4    1              38       0  \n",
       "2             0     2    1              38       0  \n",
       "3             5     2    0               4       0  \n",
       "4             5     4    0              38       0  "
      ]
     },
     "execution_count": 60,
     "metadata": {},
     "output_type": "execute_result"
    }
   ],
   "source": [
    "df.head()"
   ]
  },
  {
   "cell_type": "markdown",
   "id": "801881cb",
   "metadata": {},
   "source": [
    "# Income as target then I have to take classification models to predict."
   ]
  },
  {
   "cell_type": "markdown",
   "id": "27832ec9",
   "metadata": {},
   "source": [
    "# Feature and Label Seperation"
   ]
  },
  {
   "cell_type": "code",
   "execution_count": 61,
   "id": "6a16d4e0",
   "metadata": {},
   "outputs": [],
   "source": [
    "x=df.drop(\"Income\",axis=1)\n",
    "y=df[\"Income\"]"
   ]
  },
  {
   "cell_type": "code",
   "execution_count": 62,
   "id": "779c440e",
   "metadata": {},
   "outputs": [
    {
     "name": "stdout",
     "output_type": "stream",
     "text": [
      "(32204, 10)\n",
      "(32204,)\n"
     ]
    }
   ],
   "source": [
    "print(x.shape)\n",
    "print(y.shape)"
   ]
  },
  {
   "cell_type": "markdown",
   "id": "68566feb",
   "metadata": {},
   "source": [
    "# Balancing the Income dataset\n"
   ]
  },
  {
   "cell_type": "code",
   "execution_count": 63,
   "id": "3a103a44",
   "metadata": {},
   "outputs": [
    {
     "data": {
      "text/plain": [
       "0    24387\n",
       "1     7817\n",
       "Name: Income, dtype: int64"
      ]
     },
     "execution_count": 63,
     "metadata": {},
     "output_type": "execute_result"
    }
   ],
   "source": [
    "y.value_counts()"
   ]
  },
  {
   "cell_type": "code",
   "execution_count": 64,
   "id": "913303ec",
   "metadata": {},
   "outputs": [],
   "source": [
    "from imblearn.over_sampling import SMOTE\n",
    "\n",
    "smt=SMOTE()# instance of smote"
   ]
  },
  {
   "cell_type": "code",
   "execution_count": 65,
   "id": "b3ed5164",
   "metadata": {},
   "outputs": [],
   "source": [
    "trainx,trainy=smt.fit_resample(x,y)"
   ]
  },
  {
   "cell_type": "code",
   "execution_count": 66,
   "id": "e5ac4f42",
   "metadata": {},
   "outputs": [
    {
     "data": {
      "text/plain": [
       "0    24387\n",
       "1    24387\n",
       "Name: Income, dtype: int64"
      ]
     },
     "execution_count": 66,
     "metadata": {},
     "output_type": "execute_result"
    }
   ],
   "source": [
    "trainy.value_counts()"
   ]
  },
  {
   "cell_type": "markdown",
   "id": "b6e9bf73",
   "metadata": {},
   "source": [
    "# check for Skewness"
   ]
  },
  {
   "cell_type": "code",
   "execution_count": 67,
   "id": "dddd6a13",
   "metadata": {},
   "outputs": [
    {
     "data": {
      "text/plain": [
       "Age               0.478016\n",
       "Workclass         0.074985\n",
       "Education        -1.082973\n",
       "Education_num    -0.157541\n",
       "Marital_status   -0.021092\n",
       "Occupation        0.001029\n",
       "Relationship      0.782717\n",
       "Race             -2.436271\n",
       "Sex              -0.717342\n",
       "Native_country   -4.362041\n",
       "dtype: float64"
      ]
     },
     "execution_count": 67,
     "metadata": {},
     "output_type": "execute_result"
    }
   ],
   "source": [
    "\n",
    "x.skew()"
   ]
  },
  {
   "cell_type": "markdown",
   "id": "02614613",
   "metadata": {},
   "source": [
    "# Remove Skewness"
   ]
  },
  {
   "cell_type": "code",
   "execution_count": 68,
   "id": "2b5c3055",
   "metadata": {},
   "outputs": [],
   "source": [
    "#remove skewness using power transform\n",
    "\n",
    "from sklearn.preprocessing import power_transform\n",
    "df_skew=power_transform(x)\n",
    "\n",
    "df_skew=pd.DataFrame(df_skew,columns=x.columns)"
   ]
  },
  {
   "cell_type": "markdown",
   "id": "cd8bc3d0",
   "metadata": {},
   "source": [
    "# Check skewness are removed or not"
   ]
  },
  {
   "cell_type": "code",
   "execution_count": 69,
   "id": "1a7edb45",
   "metadata": {},
   "outputs": [
    {
     "data": {
      "text/plain": [
       "Age              -0.115548\n",
       "Workclass         0.215395\n",
       "Education        -0.380927\n",
       "Education_num     0.010078\n",
       "Marital_status   -0.116627\n",
       "Occupation       -0.237690\n",
       "Relationship      0.122514\n",
       "Race             -2.013946\n",
       "Sex              -0.717342\n",
       "Native_country   -3.066098\n",
       "dtype: float64"
      ]
     },
     "execution_count": 69,
     "metadata": {},
     "output_type": "execute_result"
    }
   ],
   "source": [
    "df_skew.skew()"
   ]
  },
  {
   "cell_type": "code",
   "execution_count": 70,
   "id": "134e8d71",
   "metadata": {},
   "outputs": [],
   "source": [
    "df=df_skew\n",
    "x=df_skew"
   ]
  },
  {
   "cell_type": "markdown",
   "id": "0f85e9fe",
   "metadata": {},
   "source": [
    "# Multicollinerity"
   ]
  },
  {
   "cell_type": "code",
   "execution_count": 71,
   "id": "e8cb4e53",
   "metadata": {},
   "outputs": [],
   "source": [
    "from statsmodels.stats.outliers_influence import variance_inflation_factor\n",
    "def cal_vif(x):\n",
    "    vif=pd.DataFrame()\n",
    "    vif['variables']=x.columns\n",
    "    vif[\"vif_factor\"]=[variance_inflation_factor(x.values,i) for i in range (x.shape[1])]\n",
    "    return(vif)"
   ]
  },
  {
   "cell_type": "code",
   "execution_count": 72,
   "id": "1ae56fb0",
   "metadata": {},
   "outputs": [
    {
     "data": {
      "text/html": [
       "<div>\n",
       "<style scoped>\n",
       "    .dataframe tbody tr th:only-of-type {\n",
       "        vertical-align: middle;\n",
       "    }\n",
       "\n",
       "    .dataframe tbody tr th {\n",
       "        vertical-align: top;\n",
       "    }\n",
       "\n",
       "    .dataframe thead th {\n",
       "        text-align: right;\n",
       "    }\n",
       "</style>\n",
       "<table border=\"1\" class=\"dataframe\">\n",
       "  <thead>\n",
       "    <tr style=\"text-align: right;\">\n",
       "      <th></th>\n",
       "      <th>variables</th>\n",
       "      <th>vif_factor</th>\n",
       "    </tr>\n",
       "  </thead>\n",
       "  <tbody>\n",
       "    <tr>\n",
       "      <th>0</th>\n",
       "      <td>Age</td>\n",
       "      <td>1.266745</td>\n",
       "    </tr>\n",
       "    <tr>\n",
       "      <th>1</th>\n",
       "      <td>Workclass</td>\n",
       "      <td>1.008986</td>\n",
       "    </tr>\n",
       "    <tr>\n",
       "      <th>2</th>\n",
       "      <td>Education</td>\n",
       "      <td>1.087943</td>\n",
       "    </tr>\n",
       "    <tr>\n",
       "      <th>3</th>\n",
       "      <td>Education_num</td>\n",
       "      <td>1.109678</td>\n",
       "    </tr>\n",
       "    <tr>\n",
       "      <th>4</th>\n",
       "      <td>Marital_status</td>\n",
       "      <td>1.161364</td>\n",
       "    </tr>\n",
       "    <tr>\n",
       "      <th>5</th>\n",
       "      <td>Occupation</td>\n",
       "      <td>1.017461</td>\n",
       "    </tr>\n",
       "    <tr>\n",
       "      <th>6</th>\n",
       "      <td>Relationship</td>\n",
       "      <td>1.913031</td>\n",
       "    </tr>\n",
       "    <tr>\n",
       "      <th>7</th>\n",
       "      <td>Race</td>\n",
       "      <td>1.049644</td>\n",
       "    </tr>\n",
       "    <tr>\n",
       "      <th>8</th>\n",
       "      <td>Sex</td>\n",
       "      <td>1.636046</td>\n",
       "    </tr>\n",
       "    <tr>\n",
       "      <th>9</th>\n",
       "      <td>Native_country</td>\n",
       "      <td>1.034108</td>\n",
       "    </tr>\n",
       "  </tbody>\n",
       "</table>\n",
       "</div>"
      ],
      "text/plain": [
       "        variables  vif_factor\n",
       "0             Age    1.266745\n",
       "1       Workclass    1.008986\n",
       "2       Education    1.087943\n",
       "3   Education_num    1.109678\n",
       "4  Marital_status    1.161364\n",
       "5      Occupation    1.017461\n",
       "6    Relationship    1.913031\n",
       "7            Race    1.049644\n",
       "8             Sex    1.636046\n",
       "9  Native_country    1.034108"
      ]
     },
     "execution_count": 72,
     "metadata": {},
     "output_type": "execute_result"
    }
   ],
   "source": [
    "cal_vif(x)"
   ]
  },
  {
   "cell_type": "code",
   "execution_count": 73,
   "id": "a7a4902f",
   "metadata": {},
   "outputs": [],
   "source": [
    "#no any column are suffering from multicollinerity"
   ]
  },
  {
   "cell_type": "markdown",
   "id": "a2dfb91a",
   "metadata": {},
   "source": [
    "# Data Standardization"
   ]
  },
  {
   "cell_type": "code",
   "execution_count": 74,
   "id": "65ac6413",
   "metadata": {},
   "outputs": [
    {
     "data": {
      "text/plain": [
       "array([[ 0.89573483,  1.7397431 , -0.52983811, ...,  0.41242825,\n",
       "         0.7037171 ,  0.28599233],\n",
       "       [ 0.12188751, -0.09546976,  0.14689762, ...,  0.41242825,\n",
       "         0.7037171 ,  0.28599233],\n",
       "       [ 1.06858949, -0.09546976, -2.04157599, ..., -2.43424978,\n",
       "         0.7037171 ,  0.28599233],\n",
       "       ...,\n",
       "       [ 1.34312337, -0.09546976,  0.14689762, ...,  0.41242825,\n",
       "        -1.42102558,  0.28599233],\n",
       "       [-1.34317689, -0.09546976,  0.14689762, ...,  0.41242825,\n",
       "         0.7037171 ,  0.28599233],\n",
       "       [ 1.011703  ,  0.81536057,  0.14689762, ...,  0.41242825,\n",
       "        -1.42102558,  0.28599233]])"
      ]
     },
     "execution_count": 74,
     "metadata": {},
     "output_type": "execute_result"
    }
   ],
   "source": [
    "# Scaling the Feature data\n",
    "\n",
    "from sklearn.preprocessing import StandardScaler\n",
    "SC=StandardScaler()\n",
    "x=SC.fit_transform(x)\n",
    "x"
   ]
  },
  {
   "cell_type": "markdown",
   "id": "e79df76f",
   "metadata": {},
   "source": [
    "# Train Test Split"
   ]
  },
  {
   "cell_type": "code",
   "execution_count": 75,
   "id": "164c07d8",
   "metadata": {},
   "outputs": [],
   "source": [
    "x_train, x_test, y_train, y_test = train_test_split(x,y, test_size = 0.20, random_state=100)"
   ]
  },
  {
   "cell_type": "code",
   "execution_count": 76,
   "id": "d6627944",
   "metadata": {},
   "outputs": [
    {
     "name": "stdout",
     "output_type": "stream",
     "text": [
      "shape of x_train=  (25763, 10)\n",
      "shape of y_train=  (25763,)\n",
      "shape of x_test=  (6441, 10)\n",
      "shape of y_test=  (6441,)\n"
     ]
    }
   ],
   "source": [
    "print(\"shape of x_train= \",x_train.shape)\n",
    "print(\"shape of y_train= \",y_train.shape)\n",
    "print(\"shape of x_test= \",x_test.shape)\n",
    "print(\"shape of y_test= \",y_test.shape)"
   ]
  },
  {
   "cell_type": "markdown",
   "id": "eeab571f",
   "metadata": {},
   "source": [
    "# FINDING BEST RANDOM STATE"
   ]
  },
  {
   "cell_type": "code",
   "execution_count": 77,
   "id": "2567ea20",
   "metadata": {},
   "outputs": [
    {
     "name": "stdout",
     "output_type": "stream",
     "text": [
      "testing accuracy  0.8156750714196994  random state = 0\n",
      " max accuracy score 0.8156750714196994  max random state = 0\n",
      "testing accuracy  0.8077257483542417  random state = 1\n",
      "testing accuracy  0.805862625760775  random state = 2\n",
      "testing accuracy  0.8074773320084462  random state = 3\n",
      "testing accuracy  0.8110793690224817  random state = 4\n",
      "testing accuracy  0.8099614954664017  random state = 5\n",
      "testing accuracy  0.8151782387281084  random state = 6\n",
      "testing accuracy  0.8068562911439573  random state = 7\n",
      "testing accuracy  0.8177866103589616  random state = 8\n",
      " max accuracy score 0.8177866103589616  max random state = 8\n",
      "testing accuracy  0.8113277853682772  random state = 9\n",
      "testing accuracy  0.8113277853682772  random state = 10\n",
      "testing accuracy  0.8064836666252639  random state = 11\n",
      "testing accuracy  0.8054900012420817  random state = 12\n",
      "testing accuracy  0.8133151161346417  random state = 13\n",
      "testing accuracy  0.8088436219103217  random state = 14\n",
      "testing accuracy  0.8098372872935039  random state = 15\n",
      "testing accuracy  0.8044963358588996  random state = 16\n",
      "testing accuracy  0.8028816296112284  random state = 17\n",
      "testing accuracy  0.8095888709477084  random state = 18\n",
      "testing accuracy  0.8107067445037883  random state = 19\n",
      "testing accuracy  0.8090920382561173  random state = 20\n",
      "testing accuracy  0.8082225810458328  random state = 21\n",
      "testing accuracy  0.8100857036392994  random state = 22\n",
      "testing accuracy  0.8089678300832195  random state = 23\n",
      "testing accuracy  0.8104583281579928  random state = 24\n",
      "testing accuracy  0.8140603651720283  random state = 25\n",
      "testing accuracy  0.8100857036392994  random state = 26\n",
      "testing accuracy  0.8082225810458328  random state = 27\n",
      "testing accuracy  0.8130666997888462  random state = 28\n",
      "testing accuracy  0.8051173767233883  random state = 29\n",
      "testing accuracy  0.8097130791206061  random state = 30\n",
      "testing accuracy  0.8073531238355484  random state = 31\n",
      "testing accuracy  0.8115762017140727  random state = 32\n",
      "testing accuracy  0.8079741647000372  random state = 33\n",
      "testing accuracy  0.8074773320084462  random state = 34\n",
      "testing accuracy  0.8115762017140727  random state = 35\n",
      "testing accuracy  0.8120730344056639  random state = 36\n",
      "testing accuracy  0.808719413737424  random state = 37\n",
      "testing accuracy  0.8061110421065706  random state = 38\n",
      "testing accuracy  0.8105825363308906  random state = 39\n",
      "testing accuracy  0.8057384175878772  random state = 40\n",
      "testing accuracy  0.806980499316855  random state = 41\n",
      "testing accuracy  0.8117004098869706  random state = 42\n",
      "testing accuracy  0.8073531238355484  random state = 43\n",
      "testing accuracy  0.8061110421065706  random state = 44\n",
      "testing accuracy  0.8062352502794684  random state = 45\n",
      "testing accuracy  0.8128182834430505  random state = 46\n",
      "testing accuracy  0.8052415848962862  random state = 47\n",
      "testing accuracy  0.8113277853682772  random state = 48\n",
      "testing accuracy  0.809216246429015  random state = 49\n",
      "testing accuracy  0.8097130791206061  random state = 50\n",
      "testing accuracy  0.8057384175878772  random state = 51\n",
      "testing accuracy  0.8128182834430505  random state = 52\n",
      "testing accuracy  0.8157992795925972  random state = 53\n",
      "testing accuracy  0.8041237113402062  random state = 54\n",
      "testing accuracy  0.8068562911439573  random state = 55\n",
      "testing accuracy  0.8151782387281084  random state = 56\n",
      "testing accuracy  0.8076015401813439  random state = 57\n",
      "testing accuracy  0.8162961122841883  random state = 58\n",
      "testing accuracy  0.8077257483542417  random state = 59\n",
      "testing accuracy  0.8151782387281084  random state = 60\n",
      "testing accuracy  0.8037510868215129  random state = 61\n",
      "testing accuracy  0.8067320829710595  random state = 62\n",
      "testing accuracy  0.8089678300832195  random state = 63\n",
      "testing accuracy  0.8131909079617439  random state = 64\n",
      "testing accuracy  0.8061110421065706  random state = 65\n",
      "testing accuracy  0.8095888709477084  random state = 66\n",
      "testing accuracy  0.8076015401813439  random state = 67\n",
      "testing accuracy  0.8105825363308906  random state = 68\n",
      "testing accuracy  0.8090920382561173  random state = 69\n",
      "testing accuracy  0.8140603651720283  random state = 70\n",
      "testing accuracy  0.8049931685504906  random state = 71\n",
      "testing accuracy  0.806980499316855  random state = 72\n",
      "testing accuracy  0.8112035771953795  random state = 73\n",
      "testing accuracy  0.8068562911439573  random state = 74\n",
      "testing accuracy  0.8061110421065706  random state = 75\n",
      "testing accuracy  0.811451993541175  random state = 76\n",
      "testing accuracy  0.8080983728729351  random state = 77\n",
      "testing accuracy  0.8015153397093528  random state = 78\n",
      "testing accuracy  0.8115762017140727  random state = 79\n",
      "testing accuracy  0.8182834430505527  random state = 80\n",
      " max accuracy score 0.8182834430505527  max random state = 80\n",
      "testing accuracy  0.806980499316855  random state = 81\n",
      "testing accuracy  0.8108309526766861  random state = 82\n",
      "testing accuracy  0.8128182834430505  random state = 83\n",
      "testing accuracy  0.8133151161346417  random state = 84\n",
      "testing accuracy  0.8080983728729351  random state = 85\n",
      "testing accuracy  0.8097130791206061  random state = 86\n",
      "testing accuracy  0.803130045957024  random state = 87\n",
      "testing accuracy  0.8056142094149795  random state = 88\n",
      "testing accuracy  0.8063594584523661  random state = 89\n",
      "testing accuracy  0.8131909079617439  random state = 90\n",
      "testing accuracy  0.8141845733449261  random state = 91\n",
      "testing accuracy  0.8011427151906595  random state = 92\n",
      "testing accuracy  0.8118246180598684  random state = 93\n",
      "testing accuracy  0.808719413737424  random state = 94\n",
      "testing accuracy  0.8067320829710595  random state = 95\n",
      "testing accuracy  0.8140603651720283  random state = 96\n",
      "testing accuracy  0.8104583281579928  random state = 97\n",
      "testing accuracy  0.8113277853682772  random state = 98\n",
      "testing accuracy  0.8071047074897528  random state = 99\n",
      "testing accuracy  0.809216246429015  random state = 100\n",
      "testing accuracy  0.8105825363308906  random state = 101\n",
      "testing accuracy  0.811451993541175  random state = 102\n",
      "testing accuracy  0.8088436219103217  random state = 103\n",
      "testing accuracy  0.8054900012420817  random state = 104\n",
      "testing accuracy  0.8066078747981618  random state = 105\n",
      "testing accuracy  0.8094646627748106  random state = 106\n",
      "testing accuracy  0.8038752949944107  random state = 107\n",
      "testing accuracy  0.810334119985095  random state = 108\n",
      "testing accuracy  0.8076015401813439  random state = 109\n",
      "testing accuracy  0.810334119985095  random state = 110\n",
      "testing accuracy  0.8149298223823127  random state = 111\n",
      "testing accuracy  0.8084709973916284  random state = 112\n",
      "testing accuracy  0.8071047074897528  random state = 113\n",
      "testing accuracy  0.8037510868215129  random state = 114\n",
      "testing accuracy  0.818656067569246  random state = 115\n",
      " max accuracy score 0.818656067569246  max random state = 115\n",
      "testing accuracy  0.808719413737424  random state = 116\n",
      "testing accuracy  0.8082225810458328  random state = 117\n",
      "testing accuracy  0.8084709973916284  random state = 118\n",
      "testing accuracy  0.8064836666252639  random state = 119\n",
      "testing accuracy  0.8098372872935039  random state = 120\n",
      "testing accuracy  0.8099614954664017  random state = 121\n",
      "testing accuracy  0.8100857036392994  random state = 122\n",
      "testing accuracy  0.8072289156626506  random state = 123\n",
      "testing accuracy  0.8128182834430505  random state = 124\n",
      "testing accuracy  0.8084709973916284  random state = 125\n",
      "testing accuracy  0.8048689603775928  random state = 126\n",
      "testing accuracy  0.8119488262327661  random state = 127\n",
      "testing accuracy  0.8076015401813439  random state = 128\n",
      "testing accuracy  0.8109551608495839  random state = 129\n",
      "testing accuracy  0.8102099118121973  random state = 130\n",
      "testing accuracy  0.8140603651720283  random state = 131\n",
      "testing accuracy  0.8124456589243573  random state = 132\n",
      "testing accuracy  0.8113277853682772  random state = 133\n",
      "testing accuracy  0.8107067445037883  random state = 134\n",
      "testing accuracy  0.8085952055645261  random state = 135\n",
      "testing accuracy  0.8093404546019128  random state = 136\n",
      "testing accuracy  0.8099614954664017  random state = 137\n",
      "testing accuracy  0.8061110421065706  random state = 138\n",
      "testing accuracy  0.8155508632468016  random state = 139\n",
      "testing accuracy  0.8119488262327661  random state = 140\n",
      "testing accuracy  0.8095888709477084  random state = 141\n",
      "testing accuracy  0.8133151161346417  random state = 142\n",
      "testing accuracy  0.8042479195131039  random state = 143\n",
      "testing accuracy  0.8062352502794684  random state = 144\n"
     ]
    },
    {
     "name": "stdout",
     "output_type": "stream",
     "text": [
      "testing accuracy  0.8126940752701528  random state = 145\n",
      "testing accuracy  0.809216246429015  random state = 146\n",
      "testing accuracy  0.8115762017140727  random state = 147\n",
      "testing accuracy  0.8032542541299218  random state = 148\n",
      "testing accuracy  0.8104583281579928  random state = 149\n",
      "testing accuracy  0.8097130791206061  random state = 150\n",
      "testing accuracy  0.8124456589243573  random state = 151\n",
      "testing accuracy  0.7996522171158862  random state = 152\n",
      "testing accuracy  0.808719413737424  random state = 153\n",
      "testing accuracy  0.8085952055645261  random state = 154\n",
      "testing accuracy  0.814805614209415  random state = 155\n",
      "testing accuracy  0.8110793690224817  random state = 156\n",
      "testing accuracy  0.8109551608495839  random state = 157\n",
      "testing accuracy  0.8144329896907216  random state = 158\n",
      "testing accuracy  0.8072289156626506  random state = 159\n",
      "testing accuracy  0.8085952055645261  random state = 160\n",
      "testing accuracy  0.8028816296112284  random state = 161\n",
      "testing accuracy  0.8089678300832195  random state = 162\n",
      "testing accuracy  0.8151782387281084  random state = 163\n",
      "testing accuracy  0.8056142094149795  random state = 164\n",
      "testing accuracy  0.8162961122841883  random state = 165\n",
      "testing accuracy  0.8088436219103217  random state = 166\n",
      "testing accuracy  0.810334119985095  random state = 167\n",
      "testing accuracy  0.8109551608495839  random state = 168\n",
      "testing accuracy  0.8003974661532729  random state = 169\n",
      "testing accuracy  0.8028816296112284  random state = 170\n",
      "testing accuracy  0.8083467892187306  random state = 171\n",
      "testing accuracy  0.8028816296112284  random state = 172\n",
      "testing accuracy  0.8099614954664017  random state = 173\n",
      "testing accuracy  0.8068562911439573  random state = 174\n",
      "testing accuracy  0.8123214507514595  random state = 175\n",
      "testing accuracy  0.8095888709477084  random state = 176\n",
      "testing accuracy  0.8067320829710595  random state = 177\n",
      "testing accuracy  0.8095888709477084  random state = 178\n",
      "testing accuracy  0.8088436219103217  random state = 179\n",
      "testing accuracy  0.8077257483542417  random state = 180\n",
      "testing accuracy  0.8073531238355484  random state = 181\n",
      "testing accuracy  0.8093404546019128  random state = 182\n",
      "testing accuracy  0.8071047074897528  random state = 183\n",
      "testing accuracy  0.805862625760775  random state = 184\n",
      "testing accuracy  0.8104583281579928  random state = 185\n",
      "testing accuracy  0.8074773320084462  random state = 186\n",
      "testing accuracy  0.810334119985095  random state = 187\n",
      "testing accuracy  0.8033784623028195  random state = 188\n",
      "testing accuracy  0.8079741647000372  random state = 189\n",
      "testing accuracy  0.8174139858402683  random state = 190\n",
      "testing accuracy  0.817041361321575  random state = 191\n",
      "testing accuracy  0.8141845733449261  random state = 192\n",
      "testing accuracy  0.8117004098869706  random state = 193\n",
      "testing accuracy  0.8094646627748106  random state = 194\n",
      "testing accuracy  0.8112035771953795  random state = 195\n",
      "testing accuracy  0.805365793069184  random state = 196\n",
      "testing accuracy  0.8071047074897528  random state = 197\n",
      "testing accuracy  0.8118246180598684  random state = 198\n",
      "testing accuracy  0.8097130791206061  random state = 199\n"
     ]
    }
   ],
   "source": [
    "from sklearn.linear_model import LogisticRegression\n",
    "max_accu=0 #maxi accuracy define as 0\n",
    "max_rs=0# best random state for which max accurecy achived\n",
    "\n",
    "lr=LogisticRegression()\n",
    " \n",
    "for i in range(0,200):\n",
    "    x_train, x_test, y_train, y_test = train_test_split( x, y, test_size=.25, random_state=i)\n",
    "    \n",
    "    lr.fit(x_train,y_train)\n",
    "\n",
    "    pred=lr.predict(x_test)# predicted target variable\n",
    "    \n",
    "    acc=accuracy_score(y_test,pred)# accuracy score\n",
    "    \n",
    "    print(\"testing accuracy \",acc, \" random state =\", i)\n",
    "    if acc>max_accu:\n",
    "        max_accu=acc\n",
    "        max_rs=i\n",
    "        print(\" max accuracy score\",acc, \" max random state =\",i)\n",
    "        "
   ]
  },
  {
   "cell_type": "code",
   "execution_count": 78,
   "id": "2246de30",
   "metadata": {},
   "outputs": [
    {
     "name": "stdout",
     "output_type": "stream",
     "text": [
      " max accuracy score 0.818656067569246  max random state = 115\n"
     ]
    }
   ],
   "source": [
    "print(\" max accuracy score\",max_accu, \" max random state =\", max_rs)"
   ]
  },
  {
   "cell_type": "markdown",
   "id": "11722047",
   "metadata": {},
   "source": [
    "# Classification model_selection"
   ]
  },
  {
   "cell_type": "code",
   "execution_count": 79,
   "id": "27f4b6ab",
   "metadata": {},
   "outputs": [],
   "source": [
    "# model_selection is function  created bcz when we want to use another model then only call this function\n",
    "x_train, x_test, y_train, y_test = train_test_split(x,y, test_size = 0.20, random_state=26)\n",
    "def model_selection(algorithm_instance,x_train, x_test, y_train, y_test):\n",
    "    algorithm_instance.fit(x_train,y_train)\n",
    "    model1_pred=algorithm_instance.predict(x_test)\n",
    "    \n",
    "    print(\"accuracy\",accuracy_score(y_test,model1_pred)*100)\n",
    "    print(confusion_matrix(y_test,model1_pred))\n",
    "    print(classification_report(y_test,model1_pred))\n",
    "    "
   ]
  },
  {
   "cell_type": "code",
   "execution_count": 80,
   "id": "5f44e2cd",
   "metadata": {},
   "outputs": [
    {
     "name": "stdout",
     "output_type": "stream",
     "text": [
      "accuracy 80.56202453035243\n",
      "[[4333  553]\n",
      " [ 699  856]]\n",
      "              precision    recall  f1-score   support\n",
      "\n",
      "           0       0.86      0.89      0.87      4886\n",
      "           1       0.61      0.55      0.58      1555\n",
      "\n",
      "    accuracy                           0.81      6441\n",
      "   macro avg       0.73      0.72      0.73      6441\n",
      "weighted avg       0.80      0.81      0.80      6441\n",
      "\n",
      "Cross Validation Score: 81.22286150541152\n"
     ]
    }
   ],
   "source": [
    "knn=KNeighborsClassifier()\n",
    "model_selection(knn,x_train, x_test, y_train, y_test)\n",
    "#model_cv(knn,trainx,trainy\n",
    "\n",
    "# Cross Validation Score\n",
    "cv_score = (cross_val_score(knn, x, y, cv=9).mean())*100\n",
    "print(\"Cross Validation Score:\", cv_score)\n",
    "    "
   ]
  },
  {
   "cell_type": "code",
   "execution_count": 83,
   "id": "33b86a39",
   "metadata": {},
   "outputs": [
    {
     "name": "stdout",
     "output_type": "stream",
     "text": [
      "accuracy 80.36019251668995\n",
      "[[4553  333]\n",
      " [ 932  623]]\n",
      "              precision    recall  f1-score   support\n",
      "\n",
      "           0       0.83      0.93      0.88      4886\n",
      "           1       0.65      0.40      0.50      1555\n",
      "\n",
      "    accuracy                           0.80      6441\n",
      "   macro avg       0.74      0.67      0.69      6441\n",
      "weighted avg       0.79      0.80      0.79      6441\n",
      "\n",
      "Cross Validation Score: 80.9340899361548\n"
     ]
    }
   ],
   "source": [
    "lr=LogisticRegression()\n",
    "model_selection(lr,x_train, x_test, y_train, y_test)\n",
    "# Cross Validation Score\n",
    "cv_score = (cross_val_score(lr, x, y, cv=9).mean())*100\n",
    "print(\"Cross Validation Score:\", cv_score)"
   ]
  },
  {
   "cell_type": "code",
   "execution_count": 84,
   "id": "17d7c4fc",
   "metadata": {},
   "outputs": [
    {
     "name": "stdout",
     "output_type": "stream",
     "text": [
      "accuracy 81.46250582207732\n",
      "[[4560  326]\n",
      " [ 868  687]]\n",
      "              precision    recall  f1-score   support\n",
      "\n",
      "           0       0.84      0.93      0.88      4886\n",
      "           1       0.68      0.44      0.54      1555\n",
      "\n",
      "    accuracy                           0.81      6441\n",
      "   macro avg       0.76      0.69      0.71      6441\n",
      "weighted avg       0.80      0.81      0.80      6441\n",
      "\n",
      "Cross Validation Score: 81.98672413638418\n"
     ]
    }
   ],
   "source": [
    "sv=SVC()\n",
    "model_selection(sv,x_train, x_test, y_train, y_test)\n",
    "# Cross Validation Score\n",
    "cv_score = (cross_val_score(sv, x, y, cv=9).mean())*100\n",
    "print(\"Cross Validation Score:\", cv_score)"
   ]
  },
  {
   "cell_type": "code",
   "execution_count": 86,
   "id": "cd2d4f97",
   "metadata": {},
   "outputs": [
    {
     "name": "stdout",
     "output_type": "stream",
     "text": [
      "accuracy 80.40676913522745\n",
      "[[4312  574]\n",
      " [ 688  867]]\n",
      "              precision    recall  f1-score   support\n",
      "\n",
      "           0       0.86      0.88      0.87      4886\n",
      "           1       0.60      0.56      0.58      1555\n",
      "\n",
      "    accuracy                           0.80      6441\n",
      "   macro avg       0.73      0.72      0.73      6441\n",
      "weighted avg       0.80      0.80      0.80      6441\n",
      "\n",
      "Cross Validation Score: 81.12969264862858\n"
     ]
    }
   ],
   "source": [
    "rf= RandomForestClassifier()\n",
    "model_selection(rf,x_train, x_test, y_train, y_test)\n",
    "# Cross Validation Score\n",
    "cv_score = (cross_val_score(rf, x, y, cv=9).mean())*100\n",
    "print(\"Cross Validation Score:\", cv_score)"
   ]
  },
  {
   "cell_type": "code",
   "execution_count": 87,
   "id": "c56cd6f8",
   "metadata": {},
   "outputs": [
    {
     "name": "stdout",
     "output_type": "stream",
     "text": [
      "accuracy 77.72085079956528\n",
      "[[4207  679]\n",
      " [ 756  799]]\n",
      "              precision    recall  f1-score   support\n",
      "\n",
      "           0       0.85      0.86      0.85      4886\n",
      "           1       0.54      0.51      0.53      1555\n",
      "\n",
      "    accuracy                           0.78      6441\n",
      "   macro avg       0.69      0.69      0.69      6441\n",
      "weighted avg       0.77      0.78      0.78      6441\n",
      "\n",
      "Cross Validation Score: 78.58029692039523\n"
     ]
    }
   ],
   "source": [
    "# model dtc\n",
    "dtc=DecisionTreeClassifier()\n",
    "model_selection(dtc,x_train, x_test, y_train, y_test)\n",
    "# Cross Validation Score\n",
    "cv_score = (cross_val_score(dtc, x, y, cv=9).mean())*100\n",
    "print(\"Cross Validation Score:\", cv_score)"
   ]
  },
  {
   "cell_type": "markdown",
   "id": "23ff6b0a",
   "metadata": {},
   "source": [
    "# Compare All Model Performance"
   ]
  },
  {
   "cell_type": "code",
   "execution_count": 88,
   "id": "f287dade",
   "metadata": {},
   "outputs": [
    {
     "data": {
      "text/html": [
       "<div>\n",
       "<style scoped>\n",
       "    .dataframe tbody tr th:only-of-type {\n",
       "        vertical-align: middle;\n",
       "    }\n",
       "\n",
       "    .dataframe tbody tr th {\n",
       "        vertical-align: top;\n",
       "    }\n",
       "\n",
       "    .dataframe thead th {\n",
       "        text-align: right;\n",
       "    }\n",
       "</style>\n",
       "<table border=\"1\" class=\"dataframe\">\n",
       "  <thead>\n",
       "    <tr style=\"text-align: right;\">\n",
       "      <th></th>\n",
       "      <th>Model</th>\n",
       "      <th>Model accuracy</th>\n",
       "      <th>Cross validation</th>\n",
       "      <th>diff of cv and acc</th>\n",
       "    </tr>\n",
       "  </thead>\n",
       "  <tbody>\n",
       "    <tr>\n",
       "      <th>0</th>\n",
       "      <td>RandomForest classifier</td>\n",
       "      <td>80</td>\n",
       "      <td>81</td>\n",
       "      <td>-1</td>\n",
       "    </tr>\n",
       "    <tr>\n",
       "      <th>1</th>\n",
       "      <td>DecisionTree classifier</td>\n",
       "      <td>77</td>\n",
       "      <td>78</td>\n",
       "      <td>-1</td>\n",
       "    </tr>\n",
       "    <tr>\n",
       "      <th>2</th>\n",
       "      <td>KNeighbour classifier</td>\n",
       "      <td>80</td>\n",
       "      <td>81</td>\n",
       "      <td>-1</td>\n",
       "    </tr>\n",
       "    <tr>\n",
       "      <th>3</th>\n",
       "      <td>svm</td>\n",
       "      <td>81</td>\n",
       "      <td>81</td>\n",
       "      <td>0</td>\n",
       "    </tr>\n",
       "    <tr>\n",
       "      <th>4</th>\n",
       "      <td>LogisticRegression</td>\n",
       "      <td>80</td>\n",
       "      <td>80</td>\n",
       "      <td>0</td>\n",
       "    </tr>\n",
       "  </tbody>\n",
       "</table>\n",
       "</div>"
      ],
      "text/plain": [
       "                     Model  Model accuracy  Cross validation  \\\n",
       "0  RandomForest classifier              80                81   \n",
       "1  DecisionTree classifier              77                78   \n",
       "2    KNeighbour classifier              80                81   \n",
       "3                      svm              81                81   \n",
       "4       LogisticRegression              80                80   \n",
       "\n",
       "   diff of cv and acc  \n",
       "0                  -1  \n",
       "1                  -1  \n",
       "2                  -1  \n",
       "3                   0  \n",
       "4                   0  "
      ]
     },
     "execution_count": 88,
     "metadata": {},
     "output_type": "execute_result"
    }
   ],
   "source": [
    "results = pd.DataFrame({\n",
    "\n",
    "    'Model': [\"RandomForest classifier\",\"DecisionTree classifier\",\"KNeighbour classifier\",\"svm\",\"LogisticRegression\"],\n",
    "\n",
    "    'Model accuracy': [80,77,80,81,80],\n",
    "\n",
    "     \"Cross validation\":[81,78,81,81,80],\n",
    "    \n",
    "    \"diff of cv and acc\":[-1,-1,-1,0,0]\n",
    "    })\n",
    "\n",
    "results"
   ]
  },
  {
   "cell_type": "markdown",
   "id": "c9576b40",
   "metadata": {},
   "source": [
    "SV is our best model because Model acuuracy and difference between CV and Acc is minimum."
   ]
  },
  {
   "cell_type": "markdown",
   "id": "3a564477",
   "metadata": {},
   "source": [
    "# ROC-AUC curve:"
   ]
  },
  {
   "cell_type": "code",
   "execution_count": 92,
   "id": "d3f2d536",
   "metadata": {},
   "outputs": [
    {
     "data": {
      "image/png": "[encoded data removed]",
      "text/plain": [
       "<Figure size 432x288 with 1 Axes>"
      ]
     },
     "metadata": {
      "needs_background": "light"
     },
     "output_type": "display_data"
    }
   ],
   "source": [
    "# Plotting for all the models used here\n",
    "\n",
    "from sklearn.metrics import  roc_curve, roc_auc_score\n",
    "from sklearn import datasets \n",
    "from sklearn import metrics\n",
    "from sklearn import model_selection\n",
    "from sklearn.metrics import plot_roc_curve \n",
    "disp = plot_roc_curve(sv,x_test,y_test)\n",
    "plot_roc_curve(knn, x_test, y_test, ax=disp.ax_)     # ax_=Axes with confusion matrix\n",
    "plot_roc_curve(lr, x_test,y_test, ax=disp.ax_)\n",
    "plot_roc_curve(rf, x_test,y_test, ax=disp.ax_)\n",
    "plot_roc_curve(dtc, x_test,y_test, ax=disp.ax_)\n",
    "\n",
    "\n",
    "plt.legend(prop={'size':11}, loc='lower right')\n",
    "plt.show()"
   ]
  },
  {
   "cell_type": "markdown",
   "id": "6fe44127",
   "metadata": {},
   "source": [
    "Above is the ROC curves for all the models that i have predicted.And the AUC values can also be seen in the plot.\n",
    "Auc of svc is best so we can save this model"
   ]
  },
  {
   "cell_type": "markdown",
   "id": "d4184b9a",
   "metadata": {},
   "source": [
    "# Hyper Parameter Tuning For Best Mode\n",
    "\n",
    "Choosing best model"
   ]
  },
  {
   "cell_type": "code",
   "execution_count": 81,
   "id": "8314cded",
   "metadata": {},
   "outputs": [
    {
     "name": "stdout",
     "output_type": "stream",
     "text": [
      "{'C': 10, 'kernel': 'rbf'}\n"
     ]
    }
   ],
   "source": [
    "# Create the parameter grid based on the results of random search \n",
    "param_grid = {'kernel':['linear', 'rbf'], 'C':[1, 10] }\n",
    "# Create a based model\n",
    "sv=SVC()\n",
    "# Instantiate the grid search model\n",
    "grid_search = GridSearchCV(estimator = sv, param_grid = param_grid,cv = 9)\n",
    "\n",
    "# Fit the grid search to the data\n",
    "grid_search.fit(x_train,y_train)\n",
    "print(grid_search.best_params_)"
   ]
  },
  {
   "cell_type": "markdown",
   "id": "128b5c8a",
   "metadata": {},
   "source": [
    "# Obtaining the Best Parameters for Hyper parameters tuning"
   ]
  },
  {
   "cell_type": "code",
   "execution_count": 84,
   "id": "3fe29403",
   "metadata": {},
   "outputs": [
    {
     "name": "stdout",
     "output_type": "stream",
     "text": [
      "accuracy_score 0.8169538891476479\n",
      "confusion_matrix [[4519  367]\n",
      " [ 812  743]]\n",
      "classification_report               precision    recall  f1-score   support\n",
      "\n",
      "           0       0.85      0.92      0.88      4886\n",
      "           1       0.67      0.48      0.56      1555\n",
      "\n",
      "    accuracy                           0.82      6441\n",
      "   macro avg       0.76      0.70      0.72      6441\n",
      "weighted avg       0.80      0.82      0.81      6441\n",
      "\n"
     ]
    }
   ],
   "source": [
    "sv=SVC(kernel='rbf',C=10,random_state=200)\n",
    "#n_estimatorsint, default=100 The number of trees in the forest.\n",
    "sv.fit(x_train,y_train)\n",
    "pred_sv=sv.predict(x_test)\n",
    "print(\"accuracy_score\",accuracy_score(y_test,pred_sv))\n",
    "print(\"confusion_matrix\",confusion_matrix(y_test,pred_sv))\n",
    "print(\"classification_report\",classification_report(y_test,pred_sv))"
   ]
  },
  {
   "cell_type": "markdown",
   "id": "44ab21cf",
   "metadata": {},
   "source": [
    "# Confusion_matrix for Best model"
   ]
  },
  {
   "cell_type": "code",
   "execution_count": 86,
   "id": "85e6691d",
   "metadata": {},
   "outputs": [
    {
     "data": {
      "image/png": "[encoded data removed]",
      "text/plain": [
       "<Figure size 504x504 with 2 Axes>"
      ]
     },
     "metadata": {
      "needs_background": "light"
     },
     "output_type": "display_data"
    }
   ],
   "source": [
    "cm = confusion_matrix(y_test, pred_sv)\n",
    "\n",
    "x_axis_labels = [\"<=50\",\">50\"]\n",
    "y_axis_labels = [\"<=50\",\">50\"]\n",
    "\n",
    "f, ax = plt.subplots(figsize =(7,7))\n",
    "sns.heatmap(cm, annot = True, linewidths=0.2, linecolor=\"black\", fmt = \".0f\", ax=ax, cmap=\"Purples\", xticklabels=x_axis_labels, yticklabels=y_axis_labels)\n",
    "plt.xlabel(\"PREDICTED LABEL\")\n",
    "plt.ylabel(\"TRUE LABEL\")\n",
    "plt.title('Confusion Matrix for SVC Classifier')\n",
    "plt.show()"
   ]
  },
  {
   "cell_type": "markdown",
   "id": "e3249f44",
   "metadata": {},
   "source": [
    "# Saving ,Loading and Conclusion the best Classification ML model"
   ]
  },
  {
   "cell_type": "code",
   "execution_count": 87,
   "id": "e965f7e6",
   "metadata": {},
   "outputs": [],
   "source": [
    "import pickle\n",
    "filename_1=\"census.pkl\"\n",
    "pickle.dump(sv,open(filename_1,\"wb\"))"
   ]
  },
  {
   "cell_type": "code",
   "execution_count": 88,
   "id": "46ce193f",
   "metadata": {},
   "outputs": [
    {
     "name": "stdout",
     "output_type": "stream",
     "text": [
      "81.69538891476479\n"
     ]
    }
   ],
   "source": [
    "loaded_model=pickle.load(open(\"census.pkl\",\"rb\"))\n",
    "result=loaded_model.score(x_test,y_test)\n",
    "print(result*100)"
   ]
  },
  {
   "cell_type": "code",
   "execution_count": 89,
   "id": "035006ae",
   "metadata": {},
   "outputs": [],
   "source": [
    "result=pd.DataFrame([loaded_model.predict(x_test)[:],pred_sv[:]],index=[\"predicted\",\"original\"])"
   ]
  },
  {
   "cell_type": "code",
   "execution_count": 90,
   "id": "00b30d7b",
   "metadata": {},
   "outputs": [
    {
     "data": {
      "text/html": [
       "<div>\n",
       "<style scoped>\n",
       "    .dataframe tbody tr th:only-of-type {\n",
       "        vertical-align: middle;\n",
       "    }\n",
       "\n",
       "    .dataframe tbody tr th {\n",
       "        vertical-align: top;\n",
       "    }\n",
       "\n",
       "    .dataframe thead th {\n",
       "        text-align: right;\n",
       "    }\n",
       "</style>\n",
       "<table border=\"1\" class=\"dataframe\">\n",
       "  <thead>\n",
       "    <tr style=\"text-align: right;\">\n",
       "      <th></th>\n",
       "      <th>predicted</th>\n",
       "      <th>original</th>\n",
       "    </tr>\n",
       "  </thead>\n",
       "  <tbody>\n",
       "    <tr>\n",
       "      <th>0</th>\n",
       "      <td>0</td>\n",
       "      <td>0</td>\n",
       "    </tr>\n",
       "    <tr>\n",
       "      <th>1</th>\n",
       "      <td>0</td>\n",
       "      <td>0</td>\n",
       "    </tr>\n",
       "    <tr>\n",
       "      <th>2</th>\n",
       "      <td>0</td>\n",
       "      <td>0</td>\n",
       "    </tr>\n",
       "    <tr>\n",
       "      <th>3</th>\n",
       "      <td>0</td>\n",
       "      <td>0</td>\n",
       "    </tr>\n",
       "    <tr>\n",
       "      <th>4</th>\n",
       "      <td>0</td>\n",
       "      <td>0</td>\n",
       "    </tr>\n",
       "    <tr>\n",
       "      <th>...</th>\n",
       "      <td>...</td>\n",
       "      <td>...</td>\n",
       "    </tr>\n",
       "    <tr>\n",
       "      <th>6436</th>\n",
       "      <td>0</td>\n",
       "      <td>0</td>\n",
       "    </tr>\n",
       "    <tr>\n",
       "      <th>6437</th>\n",
       "      <td>0</td>\n",
       "      <td>0</td>\n",
       "    </tr>\n",
       "    <tr>\n",
       "      <th>6438</th>\n",
       "      <td>0</td>\n",
       "      <td>0</td>\n",
       "    </tr>\n",
       "    <tr>\n",
       "      <th>6439</th>\n",
       "      <td>1</td>\n",
       "      <td>1</td>\n",
       "    </tr>\n",
       "    <tr>\n",
       "      <th>6440</th>\n",
       "      <td>0</td>\n",
       "      <td>0</td>\n",
       "    </tr>\n",
       "  </tbody>\n",
       "</table>\n",
       "<p>6441 rows × 2 columns</p>\n",
       "</div>"
      ],
      "text/plain": [
       "      predicted  original\n",
       "0             0         0\n",
       "1             0         0\n",
       "2             0         0\n",
       "3             0         0\n",
       "4             0         0\n",
       "...         ...       ...\n",
       "6436          0         0\n",
       "6437          0         0\n",
       "6438          0         0\n",
       "6439          1         1\n",
       "6440          0         0\n",
       "\n",
       "[6441 rows x 2 columns]"
      ]
     },
     "execution_count": 90,
     "metadata": {},
     "output_type": "execute_result"
    }
   ],
   "source": [
    "result.T"
   ]
  },
  {
   "cell_type": "markdown",
   "id": "25b9aeb6",
   "metadata": {},
   "source": [
    "# Conclusion"
   ]
  },
  {
   "cell_type": "markdown",
   "id": "53b49072",
   "metadata": {},
   "source": [
    "This project aims to predict whether a person earns more than 50k/year, taking into account some socio-economic input attributes. Supervised machine learning methods are applied in order to solve the classification task and different models are performed. The analysis deals with the class imbalance problem, handled with the minority class undersampling. Trying to understand the most valuables attributes, feature selection is implemented using both multivariate filter and wrapper. Knn,DTC,SVM, Random Forest and Logistic Regression appear to be the most appropriate models. The performance of SVC model is best  in terms of Accuracy, Precision, Recall, F1 measure ,difference between CV and Accuracy score and ROC-Curve."
   ]
  },
  {
   "cell_type": "code",
   "execution_count": null,
   "id": "5d147c6b",
   "metadata": {},
   "outputs": [],
   "source": []
  }
 ],
 "metadata": {
  "kernelspec": {
   "display_name": "Python 3 (ipykernel)",
   "language": "python",
   "name": "python3"
  },
  "language_info": {
   "codemirror_mode": {
    "name": "ipython",
    "version": 3
   },
   "file_extension": ".py",
   "mimetype": "text/x-python",
   "name": "python",
   "nbconvert_exporter": "python",
   "pygments_lexer": "ipython3",
   "version": "3.9.7"
  }
 },
 "nbformat": 4,
 "nbformat_minor": 5
}
